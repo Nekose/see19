{
 "cells": [
  {
   "cell_type": "code",
   "execution_count": 6,
   "metadata": {},
   "outputs": [],
   "source": [
    "import sys\n",
    "sys.path.append('/Users/spindicate/Documents/programming/zooscraper/')"
   ]
  },
  {
   "cell_type": "code",
   "execution_count": 7,
   "metadata": {},
   "outputs": [],
   "source": [
    "import django\n",
    "django.setup()"
   ]
  },
  {
   "cell_type": "code",
   "execution_count": 8,
   "metadata": {},
   "outputs": [],
   "source": [
    "import os\n",
    "os.environ[\"DJANGO_ALLOW_ASYNC_UNSAFE\"] = \"true\""
   ]
  },
  {
   "cell_type": "code",
   "execution_count": 9,
   "metadata": {},
   "outputs": [],
   "source": [
    "import time\n",
    "import calendar\n",
    "from datetime import date, datetime as dt, timedelta\n",
    "from dateutil.relativedelta import relativedelta\n",
    "from selenium.webdriver.common.by import By\n",
    "from selenium.common.exceptions import TimeoutException\n",
    "from selenium.webdriver.support.ui import WebDriverWait\n",
    "from selenium.webdriver.support import expected_conditions as EC\n",
    "\n",
    "from django.db import transaction\n",
    "from django.db.models import F, ExpressionWrapper, Avg\n",
    "from django.db.models.functions import TruncDay\n",
    "\n",
    "from zooscraper.globals import ChromeInstantiator, max_bulk_create\n",
    "from casestudy.models import Region"
   ]
  },
  {
   "cell_type": "code",
   "execution_count": 5,
   "metadata": {},
   "outputs": [
    {
     "name": "stdout",
     "output_type": "stream",
     "text": [
      "Instantiating WebDriver...\n",
      "Success\n",
      "('https://covid2019app.live/country/China', 'China')\n",
      "('https://covid2019app.live/country/Italy', 'Italy')\n",
      "('https://covid2019app.live/country/USA', 'USA')\n",
      "('https://covid2019app.live/country/Iran', 'Iran')\n",
      "('https://covid2019app.live/country/France', 'France')\n",
      "('https://covid2019app.live/country/Korea,%20Republic%20of', 'Korea, Republic of')\n",
      "('https://covid2019app.live/country/Spain', 'Spain')\n",
      "('https://covid2019app.live/country/Germany', 'Germany')\n",
      "('https://covid2019app.live/country/Switzerland', 'Switzerland')\n",
      "('https://covid2019app.live/country/Iraq', 'Iraq')\n",
      "('https://covid2019app.live/country/United%20Kingdom', 'United Kingdom')\n",
      "('https://covid2019app.live/country/Netherlands', 'Netherlands')\n",
      "('https://covid2019app.live/country/Canada', 'Canada')\n",
      "('https://covid2019app.live/country/Australia', 'Australia')\n",
      "('https://covid2019app.live/country/Denmark', 'Denmark')\n"
     ]
    }
   ],
   "source": [
    "region_objs = []\n",
    "with ChromeInstantiator(headless=True) as chrome:\n",
    "    url = 'https://covid2019app.live/live'\n",
    "    chrome.get(url)\n",
    "    \n",
    "    drop = chrome.find_element_by_xpath(\"//div[@class='dropdown-menu dropdown-menu-right']\")\n",
    "    \n",
    "    counts = {}\n",
    "    btns = drop.find_elements_by_tag_name('a')\n",
    "    links = [(btn.get_attribute('href'), btn.get_attribute('innerHTML')) for btn in btns][:-1]\n",
    "    for link in links:\n",
    "        print (link)\n",
    "        chrome.get(link[0])\n",
    "        \n",
    "        header = WebDriverWait(chrome, 10).until(\n",
    "            EC.presence_of_element_located((By.XPATH, \"//tr[@class='dx-row dx-header-row']\"))\n",
    "        )\n",
    "        col_names = header.find_elements_by_xpath(\".//div[contains(@class, 'dx-datagrid-text-content')]\")\n",
    "        for col_name in col_names[1:]:\n",
    "            region_objs.append(Region(name=col_name.get_attribute('innerHTML'), country=link[1]))        "
   ]
  },
  {
   "cell_type": "code",
   "execution_count": 10,
   "metadata": {},
   "outputs": [],
   "source": [
    "# max_bulk_create(region_objs, Region)"
   ]
  },
  {
   "cell_type": "code",
   "execution_count": 11,
   "metadata": {},
   "outputs": [],
   "source": [
    "braz_regions = Region.objects.filter(country_key=31).exclude(name='Brazil')"
   ]
  },
  {
   "cell_type": "code",
   "execution_count": 12,
   "metadata": {},
   "outputs": [
    {
     "data": {
      "text/plain": [
       "27"
      ]
     },
     "execution_count": 12,
     "metadata": {},
     "output_type": "execute_result"
    }
   ],
   "source": [
    "braz_regions.count()"
   ]
  },
  {
   "cell_type": "code",
   "execution_count": 16,
   "metadata": {},
   "outputs": [
    {
     "name": "stdout",
     "output_type": "stream",
     "text": [
      "Instantiating WebDriver...\n",
      "Success\n",
      "Rio Grande Do Sul Brazil https://www.openstreetmap.org/export#map=7/-30.535/-53.590\n",
      "[<Region: Region object (554)>, -30.535, -53.59]\n",
      "Espirito Santo Brazil https://www.openstreetmap.org/export#map=15/-30.1487/-51.2151\n",
      "[<Region: Region object (555)>, -30.1487, -51.2151]\n",
      "Sao Paulo Brazil https://www.openstreetmap.org/export#map=18/-23.55044/-46.63312\n",
      "[<Region: Region object (556)>, -23.55044, -46.63312]\n",
      "Rio De Janeiro Brazil https://www.openstreetmap.org/export#map=10/-22.9145/-43.4477\n",
      "[<Region: Region object (557)>, -22.9145, -43.4477]\n",
      "Parana Brazil https://www.openstreetmap.org/export#map=14/-7.5195/-72.8929\n",
      "[<Region: Region object (558)>, -7.5195, -72.8929]\n",
      "Para Brazil https://www.openstreetmap.org/export#map=6/-3.646/-52.420\n",
      "[<Region: Region object (559)>, -3.646, -52.42]\n",
      "Santa Catarina Brazil https://www.openstreetmap.org/export#map=7/-27.704/-50.974\n",
      "[<Region: Region object (560)>, -27.704, -50.974]\n",
      "Bahia Brazil https://www.openstreetmap.org/export#map=6/-13.514/-41.903\n",
      "[<Region: Region object (561)>, -13.514, -41.903]\n",
      "Alagoas Brazil https://www.openstreetmap.org/export#map=8/-9.736/-36.601\n",
      "[<Region: Region object (562)>, -9.736, -36.601]\n",
      "Mato Grosso Do Sul Brazil https://www.openstreetmap.org/export#map=7/-20.660/-54.546\n",
      "[<Region: Region object (563)>, -20.66, -54.546]\n",
      "Distrito Federal Brazil https://www.openstreetmap.org/export#map=10/-15.7756/-47.7971\n",
      "[<Region: Region object (564)>, -15.7756, -47.7971]\n",
      "Minas Gerais Brazil https://www.openstreetmap.org/export#map=6/-18.633/-45.451\n",
      "[<Region: Region object (565)>, -18.633, -45.451]\n",
      "Ceara Brazil https://www.openstreetmap.org/export#map=7/-5.222/-39.251\n",
      "[<Region: Region object (566)>, -5.222, -39.251]\n",
      "Maranhao Brazil https://www.openstreetmap.org/export#map=6/-5.530/-45.223\n",
      "[<Region: Region object (567)>, -5.53, -45.223]\n",
      "Sergipe Brazil https://www.openstreetmap.org/export#map=8/-10.543/-37.263\n",
      "[<Region: Region object (568)>, -10.543, -37.263]\n",
      "Acre Brazil https://www.openstreetmap.org/export#map=7/-9.136/-70.302\n",
      "[<Region: Region object (569)>, -9.136, -70.302]\n",
      "Pernambuco Brazil https://www.openstreetmap.org/export#map=14/-6.9810/-71.4765\n",
      "[<Region: Region object (570)>, -6.981, -71.4765]\n",
      "Rio Grande Do Norte Brazil https://www.openstreetmap.org/export#map=7/-5.318/-36.099\n",
      "[<Region: Region object (571)>, -5.318, -36.099]\n",
      "Amazonas Brazil https://www.openstreetmap.org/export#map=6/-3.815/-64.948\n",
      "[<Region: Region object (572)>, -3.815, -64.948]\n",
      "Paraiba Brazil https://www.openstreetmap.org/export#map=14/-5.8175/-61.5740\n",
      "[<Region: Region object (573)>, -5.8175, -61.574]\n",
      "Goias Brazil https://www.openstreetmap.org/export#map=7/-15.980/-49.579\n",
      "[<Region: Region object (574)>, -15.98, -49.579]\n",
      "Mato Grosso Brazil https://www.openstreetmap.org/export#map=16/-18.7237/-48.6182\n",
      "[<Region: Region object (575)>, -18.7237, -48.6182]\n",
      "Amapa Brazil https://www.openstreetmap.org/export#map=14/-1.8296/-56.2257\n",
      "[<Region: Region object (576)>, -1.8296, -56.2257]\n",
      "Rondonia Brazil https://www.openstreetmap.org/export#map=15/3.7760/-60.2530\n",
      "[<Region: Region object (577)>, 3.776, -60.253]\n",
      "Piaui Brazil https://www.openstreetmap.org/export#map=14/-3.5183/-60.3120\n",
      "[<Region: Region object (578)>, -3.5183, -60.312]\n",
      "Tocantins Brazil https://www.openstreetmap.org/export#map=6/-9.342/-48.219\n",
      "[<Region: Region object (579)>, -9.342, -48.219]\n",
      "Roraima Brazil https://www.openstreetmap.org/export#map=7/1.841/-61.853\n",
      "[<Region: Region object (580)>, 1.841, -61.853]\n"
     ]
    }
   ],
   "source": [
    "region_objs = []\n",
    "with ChromeInstantiator(headless=False) as chrome:\n",
    "    url = 'https://www.openstreetmap.org/'\n",
    "    chrome.get(url)\n",
    "    \n",
    "    for region in braz_regions:\n",
    "        location_input = chrome.find_elements_by_css_selector(\"input[name='query']\")[1]\n",
    "        location_input.clear()\n",
    "        \n",
    "#         country = 'South Korea' if 'Korea' in region.country else region.country\n",
    "        location_input.send_keys(region.name + ', ' + region.country_key.name)\n",
    "        \n",
    "        find = chrome.find_elements_by_css_selector(\"input[value='Go']\")[2]\n",
    "        find.click()\n",
    "        \n",
    "        time.sleep(3)\n",
    "        export = chrome.find_element_by_css_selector(\"a[id='export_tab']\")\n",
    "        export.click()\n",
    "        \n",
    "        lat = float(chrome.current_url.split('/')[-2])\n",
    "        long = float(chrome.current_url.split('/')[-1])\n",
    "        print (region.name, region.country_key.name, chrome.current_url)\n",
    "        print ([region, lat, long])\n",
    "        region_objs.append([region, lat, long])"
   ]
  },
  {
   "cell_type": "code",
   "execution_count": 17,
   "metadata": {},
   "outputs": [
    {
     "name": "stdout",
     "output_type": "stream",
     "text": [
      "[<Region: Region object (554)>, -30.535, -53.59]\n",
      "{'_state': <django.db.models.base.ModelState object at 0x111f7bcd0>, 'id': 554, 'name': 'Rio Grande Do Sul', 'name_alt': None, 'country_key_id': 31, 'country': '', 'country_alt': None, 'longitude': -53.59, 'latitude': -30.535, 'LAND_A_KM': None, 'land_density': None, 'city_dens': None, 'population': None, 'A85PLUSB': None, 'A80PLUSB': None, 'A75PLUSB': None, 'A70PLUSB': None, 'A65PLUSB': None, 'A09UNDERB': None, 'A14UNDERB': None, 'A19UNDERB': None, 'A24UNDERB': None, 'A29UNDERB': None, 'A34UNDERB': None, 'A05_14B': None, 'A05_19B': None, 'A05_24B': None, 'A05_29B': None, 'A05_34B': None, 'A15_24B': None, 'A15_29B': None, 'A15_34B': None, 'A20_29B': None, 'A20_34B': None, 'A35_54B': None, 'A40_54B': None, 'A45_54B': None, 'A35_64B': None, 'A40_64B': None, 'A45_64B': None, 'A80_84B': None, 'A75_79B': None, 'A70_74B': None, 'A65_69B': None, 'A60_64B': None, 'A55_59B': None, 'A50_54B': None, 'A45_49B': None, 'A40_44B': None, 'A35_39B': None, 'A30_34B': None, 'A25_29B': None, 'A20_24B': None, 'A15_19B': None, 'A10_14B': None, 'A05_09B': None, 'A00_04B': None}\n",
      "[<Region: Region object (555)>, -30.1487, -51.2151]\n",
      "{'_state': <django.db.models.base.ModelState object at 0x111f7bc50>, 'id': 555, 'name': 'Espirito Santo', 'name_alt': None, 'country_key_id': 31, 'country': '', 'country_alt': None, 'longitude': -51.2151, 'latitude': -30.1487, 'LAND_A_KM': None, 'land_density': None, 'city_dens': None, 'population': None, 'A85PLUSB': None, 'A80PLUSB': None, 'A75PLUSB': None, 'A70PLUSB': None, 'A65PLUSB': None, 'A09UNDERB': None, 'A14UNDERB': None, 'A19UNDERB': None, 'A24UNDERB': None, 'A29UNDERB': None, 'A34UNDERB': None, 'A05_14B': None, 'A05_19B': None, 'A05_24B': None, 'A05_29B': None, 'A05_34B': None, 'A15_24B': None, 'A15_29B': None, 'A15_34B': None, 'A20_29B': None, 'A20_34B': None, 'A35_54B': None, 'A40_54B': None, 'A45_54B': None, 'A35_64B': None, 'A40_64B': None, 'A45_64B': None, 'A80_84B': None, 'A75_79B': None, 'A70_74B': None, 'A65_69B': None, 'A60_64B': None, 'A55_59B': None, 'A50_54B': None, 'A45_49B': None, 'A40_44B': None, 'A35_39B': None, 'A30_34B': None, 'A25_29B': None, 'A20_24B': None, 'A15_19B': None, 'A10_14B': None, 'A05_09B': None, 'A00_04B': None}\n",
      "[<Region: Region object (556)>, -23.55044, -46.63312]\n",
      "{'_state': <django.db.models.base.ModelState object at 0x111f7bd50>, 'id': 556, 'name': 'Sao Paulo', 'name_alt': None, 'country_key_id': 31, 'country': '', 'country_alt': None, 'longitude': -46.63312, 'latitude': -23.55044, 'LAND_A_KM': None, 'land_density': None, 'city_dens': None, 'population': None, 'A85PLUSB': None, 'A80PLUSB': None, 'A75PLUSB': None, 'A70PLUSB': None, 'A65PLUSB': None, 'A09UNDERB': None, 'A14UNDERB': None, 'A19UNDERB': None, 'A24UNDERB': None, 'A29UNDERB': None, 'A34UNDERB': None, 'A05_14B': None, 'A05_19B': None, 'A05_24B': None, 'A05_29B': None, 'A05_34B': None, 'A15_24B': None, 'A15_29B': None, 'A15_34B': None, 'A20_29B': None, 'A20_34B': None, 'A35_54B': None, 'A40_54B': None, 'A45_54B': None, 'A35_64B': None, 'A40_64B': None, 'A45_64B': None, 'A80_84B': None, 'A75_79B': None, 'A70_74B': None, 'A65_69B': None, 'A60_64B': None, 'A55_59B': None, 'A50_54B': None, 'A45_49B': None, 'A40_44B': None, 'A35_39B': None, 'A30_34B': None, 'A25_29B': None, 'A20_24B': None, 'A15_19B': None, 'A10_14B': None, 'A05_09B': None, 'A00_04B': None}\n",
      "[<Region: Region object (557)>, -22.9145, -43.4477]\n",
      "{'_state': <django.db.models.base.ModelState object at 0x111f7bdd0>, 'id': 557, 'name': 'Rio De Janeiro', 'name_alt': None, 'country_key_id': 31, 'country': '', 'country_alt': None, 'longitude': -43.4477, 'latitude': -22.9145, 'LAND_A_KM': None, 'land_density': None, 'city_dens': None, 'population': None, 'A85PLUSB': None, 'A80PLUSB': None, 'A75PLUSB': None, 'A70PLUSB': None, 'A65PLUSB': None, 'A09UNDERB': None, 'A14UNDERB': None, 'A19UNDERB': None, 'A24UNDERB': None, 'A29UNDERB': None, 'A34UNDERB': None, 'A05_14B': None, 'A05_19B': None, 'A05_24B': None, 'A05_29B': None, 'A05_34B': None, 'A15_24B': None, 'A15_29B': None, 'A15_34B': None, 'A20_29B': None, 'A20_34B': None, 'A35_54B': None, 'A40_54B': None, 'A45_54B': None, 'A35_64B': None, 'A40_64B': None, 'A45_64B': None, 'A80_84B': None, 'A75_79B': None, 'A70_74B': None, 'A65_69B': None, 'A60_64B': None, 'A55_59B': None, 'A50_54B': None, 'A45_49B': None, 'A40_44B': None, 'A35_39B': None, 'A30_34B': None, 'A25_29B': None, 'A20_24B': None, 'A15_19B': None, 'A10_14B': None, 'A05_09B': None, 'A00_04B': None}\n",
      "[<Region: Region object (558)>, -7.5195, -72.8929]\n",
      "{'_state': <django.db.models.base.ModelState object at 0x111f7be50>, 'id': 558, 'name': 'Parana', 'name_alt': None, 'country_key_id': 31, 'country': '', 'country_alt': None, 'longitude': -72.8929, 'latitude': -7.5195, 'LAND_A_KM': None, 'land_density': None, 'city_dens': None, 'population': None, 'A85PLUSB': None, 'A80PLUSB': None, 'A75PLUSB': None, 'A70PLUSB': None, 'A65PLUSB': None, 'A09UNDERB': None, 'A14UNDERB': None, 'A19UNDERB': None, 'A24UNDERB': None, 'A29UNDERB': None, 'A34UNDERB': None, 'A05_14B': None, 'A05_19B': None, 'A05_24B': None, 'A05_29B': None, 'A05_34B': None, 'A15_24B': None, 'A15_29B': None, 'A15_34B': None, 'A20_29B': None, 'A20_34B': None, 'A35_54B': None, 'A40_54B': None, 'A45_54B': None, 'A35_64B': None, 'A40_64B': None, 'A45_64B': None, 'A80_84B': None, 'A75_79B': None, 'A70_74B': None, 'A65_69B': None, 'A60_64B': None, 'A55_59B': None, 'A50_54B': None, 'A45_49B': None, 'A40_44B': None, 'A35_39B': None, 'A30_34B': None, 'A25_29B': None, 'A20_24B': None, 'A15_19B': None, 'A10_14B': None, 'A05_09B': None, 'A00_04B': None}\n",
      "[<Region: Region object (559)>, -3.646, -52.42]\n",
      "{'_state': <django.db.models.base.ModelState object at 0x111f7bed0>, 'id': 559, 'name': 'Para', 'name_alt': None, 'country_key_id': 31, 'country': '', 'country_alt': None, 'longitude': -52.42, 'latitude': -3.646, 'LAND_A_KM': None, 'land_density': None, 'city_dens': None, 'population': None, 'A85PLUSB': None, 'A80PLUSB': None, 'A75PLUSB': None, 'A70PLUSB': None, 'A65PLUSB': None, 'A09UNDERB': None, 'A14UNDERB': None, 'A19UNDERB': None, 'A24UNDERB': None, 'A29UNDERB': None, 'A34UNDERB': None, 'A05_14B': None, 'A05_19B': None, 'A05_24B': None, 'A05_29B': None, 'A05_34B': None, 'A15_24B': None, 'A15_29B': None, 'A15_34B': None, 'A20_29B': None, 'A20_34B': None, 'A35_54B': None, 'A40_54B': None, 'A45_54B': None, 'A35_64B': None, 'A40_64B': None, 'A45_64B': None, 'A80_84B': None, 'A75_79B': None, 'A70_74B': None, 'A65_69B': None, 'A60_64B': None, 'A55_59B': None, 'A50_54B': None, 'A45_49B': None, 'A40_44B': None, 'A35_39B': None, 'A30_34B': None, 'A25_29B': None, 'A20_24B': None, 'A15_19B': None, 'A10_14B': None, 'A05_09B': None, 'A00_04B': None}\n",
      "[<Region: Region object (560)>, -27.704, -50.974]\n",
      "{'_state': <django.db.models.base.ModelState object at 0x111f7bf50>, 'id': 560, 'name': 'Santa Catarina', 'name_alt': None, 'country_key_id': 31, 'country': '', 'country_alt': None, 'longitude': -50.974, 'latitude': -27.704, 'LAND_A_KM': None, 'land_density': None, 'city_dens': None, 'population': None, 'A85PLUSB': None, 'A80PLUSB': None, 'A75PLUSB': None, 'A70PLUSB': None, 'A65PLUSB': None, 'A09UNDERB': None, 'A14UNDERB': None, 'A19UNDERB': None, 'A24UNDERB': None, 'A29UNDERB': None, 'A34UNDERB': None, 'A05_14B': None, 'A05_19B': None, 'A05_24B': None, 'A05_29B': None, 'A05_34B': None, 'A15_24B': None, 'A15_29B': None, 'A15_34B': None, 'A20_29B': None, 'A20_34B': None, 'A35_54B': None, 'A40_54B': None, 'A45_54B': None, 'A35_64B': None, 'A40_64B': None, 'A45_64B': None, 'A80_84B': None, 'A75_79B': None, 'A70_74B': None, 'A65_69B': None, 'A60_64B': None, 'A55_59B': None, 'A50_54B': None, 'A45_49B': None, 'A40_44B': None, 'A35_39B': None, 'A30_34B': None, 'A25_29B': None, 'A20_24B': None, 'A15_19B': None, 'A10_14B': None, 'A05_09B': None, 'A00_04B': None}\n",
      "[<Region: Region object (561)>, -13.514, -41.903]\n",
      "{'_state': <django.db.models.base.ModelState object at 0x111f7bfd0>, 'id': 561, 'name': 'Bahia', 'name_alt': None, 'country_key_id': 31, 'country': '', 'country_alt': None, 'longitude': -41.903, 'latitude': -13.514, 'LAND_A_KM': None, 'land_density': None, 'city_dens': None, 'population': None, 'A85PLUSB': None, 'A80PLUSB': None, 'A75PLUSB': None, 'A70PLUSB': None, 'A65PLUSB': None, 'A09UNDERB': None, 'A14UNDERB': None, 'A19UNDERB': None, 'A24UNDERB': None, 'A29UNDERB': None, 'A34UNDERB': None, 'A05_14B': None, 'A05_19B': None, 'A05_24B': None, 'A05_29B': None, 'A05_34B': None, 'A15_24B': None, 'A15_29B': None, 'A15_34B': None, 'A20_29B': None, 'A20_34B': None, 'A35_54B': None, 'A40_54B': None, 'A45_54B': None, 'A35_64B': None, 'A40_64B': None, 'A45_64B': None, 'A80_84B': None, 'A75_79B': None, 'A70_74B': None, 'A65_69B': None, 'A60_64B': None, 'A55_59B': None, 'A50_54B': None, 'A45_49B': None, 'A40_44B': None, 'A35_39B': None, 'A30_34B': None, 'A25_29B': None, 'A20_24B': None, 'A15_19B': None, 'A10_14B': None, 'A05_09B': None, 'A00_04B': None}\n",
      "[<Region: Region object (562)>, -9.736, -36.601]\n",
      "{'_state': <django.db.models.base.ModelState object at 0x111f7e050>, 'id': 562, 'name': 'Alagoas', 'name_alt': None, 'country_key_id': 31, 'country': '', 'country_alt': None, 'longitude': -36.601, 'latitude': -9.736, 'LAND_A_KM': None, 'land_density': None, 'city_dens': None, 'population': None, 'A85PLUSB': None, 'A80PLUSB': None, 'A75PLUSB': None, 'A70PLUSB': None, 'A65PLUSB': None, 'A09UNDERB': None, 'A14UNDERB': None, 'A19UNDERB': None, 'A24UNDERB': None, 'A29UNDERB': None, 'A34UNDERB': None, 'A05_14B': None, 'A05_19B': None, 'A05_24B': None, 'A05_29B': None, 'A05_34B': None, 'A15_24B': None, 'A15_29B': None, 'A15_34B': None, 'A20_29B': None, 'A20_34B': None, 'A35_54B': None, 'A40_54B': None, 'A45_54B': None, 'A35_64B': None, 'A40_64B': None, 'A45_64B': None, 'A80_84B': None, 'A75_79B': None, 'A70_74B': None, 'A65_69B': None, 'A60_64B': None, 'A55_59B': None, 'A50_54B': None, 'A45_49B': None, 'A40_44B': None, 'A35_39B': None, 'A30_34B': None, 'A25_29B': None, 'A20_24B': None, 'A15_19B': None, 'A10_14B': None, 'A05_09B': None, 'A00_04B': None}\n",
      "[<Region: Region object (563)>, -20.66, -54.546]\n",
      "{'_state': <django.db.models.base.ModelState object at 0x111f7e0d0>, 'id': 563, 'name': 'Mato Grosso Do Sul', 'name_alt': None, 'country_key_id': 31, 'country': '', 'country_alt': None, 'longitude': -54.546, 'latitude': -20.66, 'LAND_A_KM': None, 'land_density': None, 'city_dens': None, 'population': None, 'A85PLUSB': None, 'A80PLUSB': None, 'A75PLUSB': None, 'A70PLUSB': None, 'A65PLUSB': None, 'A09UNDERB': None, 'A14UNDERB': None, 'A19UNDERB': None, 'A24UNDERB': None, 'A29UNDERB': None, 'A34UNDERB': None, 'A05_14B': None, 'A05_19B': None, 'A05_24B': None, 'A05_29B': None, 'A05_34B': None, 'A15_24B': None, 'A15_29B': None, 'A15_34B': None, 'A20_29B': None, 'A20_34B': None, 'A35_54B': None, 'A40_54B': None, 'A45_54B': None, 'A35_64B': None, 'A40_64B': None, 'A45_64B': None, 'A80_84B': None, 'A75_79B': None, 'A70_74B': None, 'A65_69B': None, 'A60_64B': None, 'A55_59B': None, 'A50_54B': None, 'A45_49B': None, 'A40_44B': None, 'A35_39B': None, 'A30_34B': None, 'A25_29B': None, 'A20_24B': None, 'A15_19B': None, 'A10_14B': None, 'A05_09B': None, 'A00_04B': None}\n",
      "[<Region: Region object (564)>, -15.7756, -47.7971]\n",
      "{'_state': <django.db.models.base.ModelState object at 0x111f7e150>, 'id': 564, 'name': 'Distrito Federal', 'name_alt': None, 'country_key_id': 31, 'country': '', 'country_alt': None, 'longitude': -47.7971, 'latitude': -15.7756, 'LAND_A_KM': None, 'land_density': None, 'city_dens': None, 'population': None, 'A85PLUSB': None, 'A80PLUSB': None, 'A75PLUSB': None, 'A70PLUSB': None, 'A65PLUSB': None, 'A09UNDERB': None, 'A14UNDERB': None, 'A19UNDERB': None, 'A24UNDERB': None, 'A29UNDERB': None, 'A34UNDERB': None, 'A05_14B': None, 'A05_19B': None, 'A05_24B': None, 'A05_29B': None, 'A05_34B': None, 'A15_24B': None, 'A15_29B': None, 'A15_34B': None, 'A20_29B': None, 'A20_34B': None, 'A35_54B': None, 'A40_54B': None, 'A45_54B': None, 'A35_64B': None, 'A40_64B': None, 'A45_64B': None, 'A80_84B': None, 'A75_79B': None, 'A70_74B': None, 'A65_69B': None, 'A60_64B': None, 'A55_59B': None, 'A50_54B': None, 'A45_49B': None, 'A40_44B': None, 'A35_39B': None, 'A30_34B': None, 'A25_29B': None, 'A20_24B': None, 'A15_19B': None, 'A10_14B': None, 'A05_09B': None, 'A00_04B': None}\n",
      "[<Region: Region object (565)>, -18.633, -45.451]\n",
      "{'_state': <django.db.models.base.ModelState object at 0x111f7e1d0>, 'id': 565, 'name': 'Minas Gerais', 'name_alt': None, 'country_key_id': 31, 'country': '', 'country_alt': None, 'longitude': -45.451, 'latitude': -18.633, 'LAND_A_KM': None, 'land_density': None, 'city_dens': None, 'population': None, 'A85PLUSB': None, 'A80PLUSB': None, 'A75PLUSB': None, 'A70PLUSB': None, 'A65PLUSB': None, 'A09UNDERB': None, 'A14UNDERB': None, 'A19UNDERB': None, 'A24UNDERB': None, 'A29UNDERB': None, 'A34UNDERB': None, 'A05_14B': None, 'A05_19B': None, 'A05_24B': None, 'A05_29B': None, 'A05_34B': None, 'A15_24B': None, 'A15_29B': None, 'A15_34B': None, 'A20_29B': None, 'A20_34B': None, 'A35_54B': None, 'A40_54B': None, 'A45_54B': None, 'A35_64B': None, 'A40_64B': None, 'A45_64B': None, 'A80_84B': None, 'A75_79B': None, 'A70_74B': None, 'A65_69B': None, 'A60_64B': None, 'A55_59B': None, 'A50_54B': None, 'A45_49B': None, 'A40_44B': None, 'A35_39B': None, 'A30_34B': None, 'A25_29B': None, 'A20_24B': None, 'A15_19B': None, 'A10_14B': None, 'A05_09B': None, 'A00_04B': None}\n",
      "[<Region: Region object (566)>, -5.222, -39.251]\n",
      "{'_state': <django.db.models.base.ModelState object at 0x111f7e250>, 'id': 566, 'name': 'Ceara', 'name_alt': None, 'country_key_id': 31, 'country': '', 'country_alt': None, 'longitude': -39.251, 'latitude': -5.222, 'LAND_A_KM': None, 'land_density': None, 'city_dens': None, 'population': None, 'A85PLUSB': None, 'A80PLUSB': None, 'A75PLUSB': None, 'A70PLUSB': None, 'A65PLUSB': None, 'A09UNDERB': None, 'A14UNDERB': None, 'A19UNDERB': None, 'A24UNDERB': None, 'A29UNDERB': None, 'A34UNDERB': None, 'A05_14B': None, 'A05_19B': None, 'A05_24B': None, 'A05_29B': None, 'A05_34B': None, 'A15_24B': None, 'A15_29B': None, 'A15_34B': None, 'A20_29B': None, 'A20_34B': None, 'A35_54B': None, 'A40_54B': None, 'A45_54B': None, 'A35_64B': None, 'A40_64B': None, 'A45_64B': None, 'A80_84B': None, 'A75_79B': None, 'A70_74B': None, 'A65_69B': None, 'A60_64B': None, 'A55_59B': None, 'A50_54B': None, 'A45_49B': None, 'A40_44B': None, 'A35_39B': None, 'A30_34B': None, 'A25_29B': None, 'A20_24B': None, 'A15_19B': None, 'A10_14B': None, 'A05_09B': None, 'A00_04B': None}\n",
      "[<Region: Region object (567)>, -5.53, -45.223]\n",
      "{'_state': <django.db.models.base.ModelState object at 0x111f7e2d0>, 'id': 567, 'name': 'Maranhao', 'name_alt': None, 'country_key_id': 31, 'country': '', 'country_alt': None, 'longitude': -45.223, 'latitude': -5.53, 'LAND_A_KM': None, 'land_density': None, 'city_dens': None, 'population': None, 'A85PLUSB': None, 'A80PLUSB': None, 'A75PLUSB': None, 'A70PLUSB': None, 'A65PLUSB': None, 'A09UNDERB': None, 'A14UNDERB': None, 'A19UNDERB': None, 'A24UNDERB': None, 'A29UNDERB': None, 'A34UNDERB': None, 'A05_14B': None, 'A05_19B': None, 'A05_24B': None, 'A05_29B': None, 'A05_34B': None, 'A15_24B': None, 'A15_29B': None, 'A15_34B': None, 'A20_29B': None, 'A20_34B': None, 'A35_54B': None, 'A40_54B': None, 'A45_54B': None, 'A35_64B': None, 'A40_64B': None, 'A45_64B': None, 'A80_84B': None, 'A75_79B': None, 'A70_74B': None, 'A65_69B': None, 'A60_64B': None, 'A55_59B': None, 'A50_54B': None, 'A45_49B': None, 'A40_44B': None, 'A35_39B': None, 'A30_34B': None, 'A25_29B': None, 'A20_24B': None, 'A15_19B': None, 'A10_14B': None, 'A05_09B': None, 'A00_04B': None}\n",
      "[<Region: Region object (568)>, -10.543, -37.263]\n",
      "{'_state': <django.db.models.base.ModelState object at 0x111f7e350>, 'id': 568, 'name': 'Sergipe', 'name_alt': None, 'country_key_id': 31, 'country': '', 'country_alt': None, 'longitude': -37.263, 'latitude': -10.543, 'LAND_A_KM': None, 'land_density': None, 'city_dens': None, 'population': None, 'A85PLUSB': None, 'A80PLUSB': None, 'A75PLUSB': None, 'A70PLUSB': None, 'A65PLUSB': None, 'A09UNDERB': None, 'A14UNDERB': None, 'A19UNDERB': None, 'A24UNDERB': None, 'A29UNDERB': None, 'A34UNDERB': None, 'A05_14B': None, 'A05_19B': None, 'A05_24B': None, 'A05_29B': None, 'A05_34B': None, 'A15_24B': None, 'A15_29B': None, 'A15_34B': None, 'A20_29B': None, 'A20_34B': None, 'A35_54B': None, 'A40_54B': None, 'A45_54B': None, 'A35_64B': None, 'A40_64B': None, 'A45_64B': None, 'A80_84B': None, 'A75_79B': None, 'A70_74B': None, 'A65_69B': None, 'A60_64B': None, 'A55_59B': None, 'A50_54B': None, 'A45_49B': None, 'A40_44B': None, 'A35_39B': None, 'A30_34B': None, 'A25_29B': None, 'A20_24B': None, 'A15_19B': None, 'A10_14B': None, 'A05_09B': None, 'A00_04B': None}\n",
      "[<Region: Region object (569)>, -9.136, -70.302]\n",
      "{'_state': <django.db.models.base.ModelState object at 0x111f7e3d0>, 'id': 569, 'name': 'Acre', 'name_alt': None, 'country_key_id': 31, 'country': '', 'country_alt': None, 'longitude': -70.302, 'latitude': -9.136, 'LAND_A_KM': None, 'land_density': None, 'city_dens': None, 'population': None, 'A85PLUSB': None, 'A80PLUSB': None, 'A75PLUSB': None, 'A70PLUSB': None, 'A65PLUSB': None, 'A09UNDERB': None, 'A14UNDERB': None, 'A19UNDERB': None, 'A24UNDERB': None, 'A29UNDERB': None, 'A34UNDERB': None, 'A05_14B': None, 'A05_19B': None, 'A05_24B': None, 'A05_29B': None, 'A05_34B': None, 'A15_24B': None, 'A15_29B': None, 'A15_34B': None, 'A20_29B': None, 'A20_34B': None, 'A35_54B': None, 'A40_54B': None, 'A45_54B': None, 'A35_64B': None, 'A40_64B': None, 'A45_64B': None, 'A80_84B': None, 'A75_79B': None, 'A70_74B': None, 'A65_69B': None, 'A60_64B': None, 'A55_59B': None, 'A50_54B': None, 'A45_49B': None, 'A40_44B': None, 'A35_39B': None, 'A30_34B': None, 'A25_29B': None, 'A20_24B': None, 'A15_19B': None, 'A10_14B': None, 'A05_09B': None, 'A00_04B': None}\n",
      "[<Region: Region object (570)>, -6.981, -71.4765]\n",
      "{'_state': <django.db.models.base.ModelState object at 0x111f7e450>, 'id': 570, 'name': 'Pernambuco', 'name_alt': None, 'country_key_id': 31, 'country': '', 'country_alt': None, 'longitude': -71.4765, 'latitude': -6.981, 'LAND_A_KM': None, 'land_density': None, 'city_dens': None, 'population': None, 'A85PLUSB': None, 'A80PLUSB': None, 'A75PLUSB': None, 'A70PLUSB': None, 'A65PLUSB': None, 'A09UNDERB': None, 'A14UNDERB': None, 'A19UNDERB': None, 'A24UNDERB': None, 'A29UNDERB': None, 'A34UNDERB': None, 'A05_14B': None, 'A05_19B': None, 'A05_24B': None, 'A05_29B': None, 'A05_34B': None, 'A15_24B': None, 'A15_29B': None, 'A15_34B': None, 'A20_29B': None, 'A20_34B': None, 'A35_54B': None, 'A40_54B': None, 'A45_54B': None, 'A35_64B': None, 'A40_64B': None, 'A45_64B': None, 'A80_84B': None, 'A75_79B': None, 'A70_74B': None, 'A65_69B': None, 'A60_64B': None, 'A55_59B': None, 'A50_54B': None, 'A45_49B': None, 'A40_44B': None, 'A35_39B': None, 'A30_34B': None, 'A25_29B': None, 'A20_24B': None, 'A15_19B': None, 'A10_14B': None, 'A05_09B': None, 'A00_04B': None}\n",
      "[<Region: Region object (571)>, -5.318, -36.099]\n",
      "{'_state': <django.db.models.base.ModelState object at 0x111f7e4d0>, 'id': 571, 'name': 'Rio Grande Do Norte', 'name_alt': None, 'country_key_id': 31, 'country': '', 'country_alt': None, 'longitude': -36.099, 'latitude': -5.318, 'LAND_A_KM': None, 'land_density': None, 'city_dens': None, 'population': None, 'A85PLUSB': None, 'A80PLUSB': None, 'A75PLUSB': None, 'A70PLUSB': None, 'A65PLUSB': None, 'A09UNDERB': None, 'A14UNDERB': None, 'A19UNDERB': None, 'A24UNDERB': None, 'A29UNDERB': None, 'A34UNDERB': None, 'A05_14B': None, 'A05_19B': None, 'A05_24B': None, 'A05_29B': None, 'A05_34B': None, 'A15_24B': None, 'A15_29B': None, 'A15_34B': None, 'A20_29B': None, 'A20_34B': None, 'A35_54B': None, 'A40_54B': None, 'A45_54B': None, 'A35_64B': None, 'A40_64B': None, 'A45_64B': None, 'A80_84B': None, 'A75_79B': None, 'A70_74B': None, 'A65_69B': None, 'A60_64B': None, 'A55_59B': None, 'A50_54B': None, 'A45_49B': None, 'A40_44B': None, 'A35_39B': None, 'A30_34B': None, 'A25_29B': None, 'A20_24B': None, 'A15_19B': None, 'A10_14B': None, 'A05_09B': None, 'A00_04B': None}\n",
      "[<Region: Region object (572)>, -3.815, -64.948]\n",
      "{'_state': <django.db.models.base.ModelState object at 0x111f7e550>, 'id': 572, 'name': 'Amazonas', 'name_alt': None, 'country_key_id': 31, 'country': '', 'country_alt': None, 'longitude': -64.948, 'latitude': -3.815, 'LAND_A_KM': None, 'land_density': None, 'city_dens': None, 'population': None, 'A85PLUSB': None, 'A80PLUSB': None, 'A75PLUSB': None, 'A70PLUSB': None, 'A65PLUSB': None, 'A09UNDERB': None, 'A14UNDERB': None, 'A19UNDERB': None, 'A24UNDERB': None, 'A29UNDERB': None, 'A34UNDERB': None, 'A05_14B': None, 'A05_19B': None, 'A05_24B': None, 'A05_29B': None, 'A05_34B': None, 'A15_24B': None, 'A15_29B': None, 'A15_34B': None, 'A20_29B': None, 'A20_34B': None, 'A35_54B': None, 'A40_54B': None, 'A45_54B': None, 'A35_64B': None, 'A40_64B': None, 'A45_64B': None, 'A80_84B': None, 'A75_79B': None, 'A70_74B': None, 'A65_69B': None, 'A60_64B': None, 'A55_59B': None, 'A50_54B': None, 'A45_49B': None, 'A40_44B': None, 'A35_39B': None, 'A30_34B': None, 'A25_29B': None, 'A20_24B': None, 'A15_19B': None, 'A10_14B': None, 'A05_09B': None, 'A00_04B': None}\n",
      "[<Region: Region object (573)>, -5.8175, -61.574]\n",
      "{'_state': <django.db.models.base.ModelState object at 0x111f7e5d0>, 'id': 573, 'name': 'Paraiba', 'name_alt': None, 'country_key_id': 31, 'country': '', 'country_alt': None, 'longitude': -61.574, 'latitude': -5.8175, 'LAND_A_KM': None, 'land_density': None, 'city_dens': None, 'population': None, 'A85PLUSB': None, 'A80PLUSB': None, 'A75PLUSB': None, 'A70PLUSB': None, 'A65PLUSB': None, 'A09UNDERB': None, 'A14UNDERB': None, 'A19UNDERB': None, 'A24UNDERB': None, 'A29UNDERB': None, 'A34UNDERB': None, 'A05_14B': None, 'A05_19B': None, 'A05_24B': None, 'A05_29B': None, 'A05_34B': None, 'A15_24B': None, 'A15_29B': None, 'A15_34B': None, 'A20_29B': None, 'A20_34B': None, 'A35_54B': None, 'A40_54B': None, 'A45_54B': None, 'A35_64B': None, 'A40_64B': None, 'A45_64B': None, 'A80_84B': None, 'A75_79B': None, 'A70_74B': None, 'A65_69B': None, 'A60_64B': None, 'A55_59B': None, 'A50_54B': None, 'A45_49B': None, 'A40_44B': None, 'A35_39B': None, 'A30_34B': None, 'A25_29B': None, 'A20_24B': None, 'A15_19B': None, 'A10_14B': None, 'A05_09B': None, 'A00_04B': None}\n",
      "[<Region: Region object (574)>, -15.98, -49.579]\n",
      "{'_state': <django.db.models.base.ModelState object at 0x111f7e650>, 'id': 574, 'name': 'Goias', 'name_alt': None, 'country_key_id': 31, 'country': '', 'country_alt': None, 'longitude': -49.579, 'latitude': -15.98, 'LAND_A_KM': None, 'land_density': None, 'city_dens': None, 'population': None, 'A85PLUSB': None, 'A80PLUSB': None, 'A75PLUSB': None, 'A70PLUSB': None, 'A65PLUSB': None, 'A09UNDERB': None, 'A14UNDERB': None, 'A19UNDERB': None, 'A24UNDERB': None, 'A29UNDERB': None, 'A34UNDERB': None, 'A05_14B': None, 'A05_19B': None, 'A05_24B': None, 'A05_29B': None, 'A05_34B': None, 'A15_24B': None, 'A15_29B': None, 'A15_34B': None, 'A20_29B': None, 'A20_34B': None, 'A35_54B': None, 'A40_54B': None, 'A45_54B': None, 'A35_64B': None, 'A40_64B': None, 'A45_64B': None, 'A80_84B': None, 'A75_79B': None, 'A70_74B': None, 'A65_69B': None, 'A60_64B': None, 'A55_59B': None, 'A50_54B': None, 'A45_49B': None, 'A40_44B': None, 'A35_39B': None, 'A30_34B': None, 'A25_29B': None, 'A20_24B': None, 'A15_19B': None, 'A10_14B': None, 'A05_09B': None, 'A00_04B': None}\n",
      "[<Region: Region object (575)>, -18.7237, -48.6182]\n",
      "{'_state': <django.db.models.base.ModelState object at 0x111f7e6d0>, 'id': 575, 'name': 'Mato Grosso', 'name_alt': None, 'country_key_id': 31, 'country': '', 'country_alt': None, 'longitude': -48.6182, 'latitude': -18.7237, 'LAND_A_KM': None, 'land_density': None, 'city_dens': None, 'population': None, 'A85PLUSB': None, 'A80PLUSB': None, 'A75PLUSB': None, 'A70PLUSB': None, 'A65PLUSB': None, 'A09UNDERB': None, 'A14UNDERB': None, 'A19UNDERB': None, 'A24UNDERB': None, 'A29UNDERB': None, 'A34UNDERB': None, 'A05_14B': None, 'A05_19B': None, 'A05_24B': None, 'A05_29B': None, 'A05_34B': None, 'A15_24B': None, 'A15_29B': None, 'A15_34B': None, 'A20_29B': None, 'A20_34B': None, 'A35_54B': None, 'A40_54B': None, 'A45_54B': None, 'A35_64B': None, 'A40_64B': None, 'A45_64B': None, 'A80_84B': None, 'A75_79B': None, 'A70_74B': None, 'A65_69B': None, 'A60_64B': None, 'A55_59B': None, 'A50_54B': None, 'A45_49B': None, 'A40_44B': None, 'A35_39B': None, 'A30_34B': None, 'A25_29B': None, 'A20_24B': None, 'A15_19B': None, 'A10_14B': None, 'A05_09B': None, 'A00_04B': None}\n",
      "[<Region: Region object (576)>, -1.8296, -56.2257]\n",
      "{'_state': <django.db.models.base.ModelState object at 0x111f7e750>, 'id': 576, 'name': 'Amapa', 'name_alt': None, 'country_key_id': 31, 'country': '', 'country_alt': None, 'longitude': -56.2257, 'latitude': -1.8296, 'LAND_A_KM': None, 'land_density': None, 'city_dens': None, 'population': None, 'A85PLUSB': None, 'A80PLUSB': None, 'A75PLUSB': None, 'A70PLUSB': None, 'A65PLUSB': None, 'A09UNDERB': None, 'A14UNDERB': None, 'A19UNDERB': None, 'A24UNDERB': None, 'A29UNDERB': None, 'A34UNDERB': None, 'A05_14B': None, 'A05_19B': None, 'A05_24B': None, 'A05_29B': None, 'A05_34B': None, 'A15_24B': None, 'A15_29B': None, 'A15_34B': None, 'A20_29B': None, 'A20_34B': None, 'A35_54B': None, 'A40_54B': None, 'A45_54B': None, 'A35_64B': None, 'A40_64B': None, 'A45_64B': None, 'A80_84B': None, 'A75_79B': None, 'A70_74B': None, 'A65_69B': None, 'A60_64B': None, 'A55_59B': None, 'A50_54B': None, 'A45_49B': None, 'A40_44B': None, 'A35_39B': None, 'A30_34B': None, 'A25_29B': None, 'A20_24B': None, 'A15_19B': None, 'A10_14B': None, 'A05_09B': None, 'A00_04B': None}\n",
      "[<Region: Region object (577)>, 3.776, -60.253]\n",
      "{'_state': <django.db.models.base.ModelState object at 0x111f7e7d0>, 'id': 577, 'name': 'Rondonia', 'name_alt': None, 'country_key_id': 31, 'country': '', 'country_alt': None, 'longitude': -60.253, 'latitude': 3.776, 'LAND_A_KM': None, 'land_density': None, 'city_dens': None, 'population': None, 'A85PLUSB': None, 'A80PLUSB': None, 'A75PLUSB': None, 'A70PLUSB': None, 'A65PLUSB': None, 'A09UNDERB': None, 'A14UNDERB': None, 'A19UNDERB': None, 'A24UNDERB': None, 'A29UNDERB': None, 'A34UNDERB': None, 'A05_14B': None, 'A05_19B': None, 'A05_24B': None, 'A05_29B': None, 'A05_34B': None, 'A15_24B': None, 'A15_29B': None, 'A15_34B': None, 'A20_29B': None, 'A20_34B': None, 'A35_54B': None, 'A40_54B': None, 'A45_54B': None, 'A35_64B': None, 'A40_64B': None, 'A45_64B': None, 'A80_84B': None, 'A75_79B': None, 'A70_74B': None, 'A65_69B': None, 'A60_64B': None, 'A55_59B': None, 'A50_54B': None, 'A45_49B': None, 'A40_44B': None, 'A35_39B': None, 'A30_34B': None, 'A25_29B': None, 'A20_24B': None, 'A15_19B': None, 'A10_14B': None, 'A05_09B': None, 'A00_04B': None}\n",
      "[<Region: Region object (578)>, -3.5183, -60.312]\n",
      "{'_state': <django.db.models.base.ModelState object at 0x111f7e850>, 'id': 578, 'name': 'Piaui', 'name_alt': None, 'country_key_id': 31, 'country': '', 'country_alt': None, 'longitude': -60.312, 'latitude': -3.5183, 'LAND_A_KM': None, 'land_density': None, 'city_dens': None, 'population': None, 'A85PLUSB': None, 'A80PLUSB': None, 'A75PLUSB': None, 'A70PLUSB': None, 'A65PLUSB': None, 'A09UNDERB': None, 'A14UNDERB': None, 'A19UNDERB': None, 'A24UNDERB': None, 'A29UNDERB': None, 'A34UNDERB': None, 'A05_14B': None, 'A05_19B': None, 'A05_24B': None, 'A05_29B': None, 'A05_34B': None, 'A15_24B': None, 'A15_29B': None, 'A15_34B': None, 'A20_29B': None, 'A20_34B': None, 'A35_54B': None, 'A40_54B': None, 'A45_54B': None, 'A35_64B': None, 'A40_64B': None, 'A45_64B': None, 'A80_84B': None, 'A75_79B': None, 'A70_74B': None, 'A65_69B': None, 'A60_64B': None, 'A55_59B': None, 'A50_54B': None, 'A45_49B': None, 'A40_44B': None, 'A35_39B': None, 'A30_34B': None, 'A25_29B': None, 'A20_24B': None, 'A15_19B': None, 'A10_14B': None, 'A05_09B': None, 'A00_04B': None}\n",
      "[<Region: Region object (579)>, -9.342, -48.219]\n",
      "{'_state': <django.db.models.base.ModelState object at 0x111f7e8d0>, 'id': 579, 'name': 'Tocantins', 'name_alt': None, 'country_key_id': 31, 'country': '', 'country_alt': None, 'longitude': -48.219, 'latitude': -9.342, 'LAND_A_KM': None, 'land_density': None, 'city_dens': None, 'population': None, 'A85PLUSB': None, 'A80PLUSB': None, 'A75PLUSB': None, 'A70PLUSB': None, 'A65PLUSB': None, 'A09UNDERB': None, 'A14UNDERB': None, 'A19UNDERB': None, 'A24UNDERB': None, 'A29UNDERB': None, 'A34UNDERB': None, 'A05_14B': None, 'A05_19B': None, 'A05_24B': None, 'A05_29B': None, 'A05_34B': None, 'A15_24B': None, 'A15_29B': None, 'A15_34B': None, 'A20_29B': None, 'A20_34B': None, 'A35_54B': None, 'A40_54B': None, 'A45_54B': None, 'A35_64B': None, 'A40_64B': None, 'A45_64B': None, 'A80_84B': None, 'A75_79B': None, 'A70_74B': None, 'A65_69B': None, 'A60_64B': None, 'A55_59B': None, 'A50_54B': None, 'A45_49B': None, 'A40_44B': None, 'A35_39B': None, 'A30_34B': None, 'A25_29B': None, 'A20_24B': None, 'A15_19B': None, 'A10_14B': None, 'A05_09B': None, 'A00_04B': None}\n",
      "[<Region: Region object (580)>, 1.841, -61.853]\n",
      "{'_state': <django.db.models.base.ModelState object at 0x111f7e9d0>, 'id': 580, 'name': 'Roraima', 'name_alt': None, 'country_key_id': 31, 'country': '', 'country_alt': None, 'longitude': -61.853, 'latitude': 1.841, 'LAND_A_KM': None, 'land_density': None, 'city_dens': None, 'population': None, 'A85PLUSB': None, 'A80PLUSB': None, 'A75PLUSB': None, 'A70PLUSB': None, 'A65PLUSB': None, 'A09UNDERB': None, 'A14UNDERB': None, 'A19UNDERB': None, 'A24UNDERB': None, 'A29UNDERB': None, 'A34UNDERB': None, 'A05_14B': None, 'A05_19B': None, 'A05_24B': None, 'A05_29B': None, 'A05_34B': None, 'A15_24B': None, 'A15_29B': None, 'A15_34B': None, 'A20_29B': None, 'A20_34B': None, 'A35_54B': None, 'A40_54B': None, 'A45_54B': None, 'A35_64B': None, 'A40_64B': None, 'A45_64B': None, 'A80_84B': None, 'A75_79B': None, 'A70_74B': None, 'A65_69B': None, 'A60_64B': None, 'A55_59B': None, 'A50_54B': None, 'A45_49B': None, 'A40_44B': None, 'A35_39B': None, 'A30_34B': None, 'A25_29B': None, 'A20_24B': None, 'A15_19B': None, 'A10_14B': None, 'A05_09B': None, 'A00_04B': None}\n"
     ]
    }
   ],
   "source": [
    "with transaction.atomic():\n",
    "    for region_obj in region_objs:\n",
    "        print (region_obj)\n",
    "        region_obj[0].latitude = region_obj[1]\n",
    "        region_obj[0].longitude = region_obj[2]\n",
    "        region_obj[0].save()\n",
    "        print(region_obj[0].__dict__)"
   ]
  },
  {
   "cell_type": "code",
   "execution_count": 22,
   "metadata": {},
   "outputs": [
    {
     "ename": "SyntaxError",
     "evalue": "invalid syntax (<ipython-input-22-de3db66756d4>, line 1)",
     "output_type": "error",
     "traceback": [
      "\u001b[0;36m  File \u001b[0;32m\"<ipython-input-22-de3db66756d4>\"\u001b[0;36m, line \u001b[0;32m1\u001b[0m\n\u001b[0;31m    import pandas pd\u001b[0m\n\u001b[0m                   ^\u001b[0m\n\u001b[0;31mSyntaxError\u001b[0m\u001b[0;31m:\u001b[0m invalid syntax\n"
     ]
    }
   ],
   "source": [
    "import pandas pd\n",
    "pd.DataFrame(Region.objects.filter(country_key__alpha3='BRA').values('name', 'latitude'))\n"
   ]
  },
  {
   "cell_type": "code",
   "execution_count": null,
   "metadata": {},
   "outputs": [],
   "source": []
  }
 ],
 "metadata": {
  "kernelspec": {
   "display_name": "Django Shell-Plus",
   "language": "python",
   "name": "django_extensions"
  },
  "language_info": {
   "codemirror_mode": {
    "name": "ipython",
    "version": 3
   },
   "file_extension": ".py",
   "mimetype": "text/x-python",
   "name": "python",
   "nbconvert_exporter": "python",
   "pygments_lexer": "ipython3",
   "version": "3.7.7"
  }
 },
 "nbformat": 4,
 "nbformat_minor": 4
}
