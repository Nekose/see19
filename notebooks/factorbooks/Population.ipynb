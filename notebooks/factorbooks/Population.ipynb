{
 "cells": [
  {
   "cell_type": "code",
   "execution_count": 64,
   "metadata": {},
   "outputs": [],
   "source": [
    "import sys\n",
    "sys.path.append('/Users/spindicate/Documents/programming/zooscraper/')"
   ]
  },
  {
   "cell_type": "code",
   "execution_count": 65,
   "metadata": {},
   "outputs": [],
   "source": [
    "import django\n",
    "django.setup()"
   ]
  },
  {
   "cell_type": "code",
   "execution_count": 66,
   "metadata": {},
   "outputs": [],
   "source": [
    "import os\n",
    "os.environ[\"DJANGO_ALLOW_ASYNC_UNSAFE\"] = \"true\""
   ]
  },
  {
   "cell_type": "code",
   "execution_count": 67,
   "metadata": {},
   "outputs": [],
   "source": [
    "import pandas as pd\n",
    "import numpy as np\n",
    "import itertools\n",
    "\n",
    "from django.db import transaction"
   ]
  },
  {
   "cell_type": "code",
   "execution_count": 68,
   "metadata": {},
   "outputs": [],
   "source": [
    "BEG_AGES = [i * 5 for i in range(int(85 / 5))]\n",
    "END_AGES = [i * 5 + 4 for i in range(int(85 / 5))]\n",
    "age_ranges = list(zip(BEG_AGES, END_AGES))\n",
    "AGE_COLS = ['A' + str(age_range[0]).zfill(2) + '_' + str(age_range[1]).zfill(2) + 'B' for age_range in age_ranges]\n",
    "AGE_UPPERS = ['A' + str(age) + 'PLUSB' for age in [65, 70, 75, 80, 85]]"
   ]
  },
  {
   "cell_type": "code",
   "execution_count": 69,
   "metadata": {},
   "outputs": [],
   "source": [
    "RANGES = {    \n",
    "    'AGE_UNDERS': {\n",
    "        'ranges': ['A' + str(age).zfill(2) + 'UNDERB' for age in [9, 14, 19, 24, 29, 34]],\n",
    "        'range_slice': (1, 3),\n",
    "        'fix_position': 0,\n",
    "        'fix_direction': 'beg',\n",
    "    },\n",
    "    'SCHOOL_GOERS': {\n",
    "        'ranges': ['A05_' + str(age) + 'B' for age in [14, 19, 24, 29, 34]],\n",
    "        'range_slice': (-3, -1),\n",
    "        'fix_position': 1,\n",
    "        'fix_direction': 'beg',\n",
    "    },\n",
    "    'Y_MILLS': {\n",
    "        'ranges': ['A15_' + str(age) + 'B' for age in [24, 29, 34]],\n",
    "        'range_slice': (-3, -1),\n",
    "        'fix_position': 3,\n",
    "        'fix_direction': 'beg',\n",
    "    },\n",
    "    'MILLS': {\n",
    "        'ranges': ['A20_' + str(age) + 'B' for age in [29, 34]],\n",
    "        'range_slice': (-3, -1),\n",
    "        'fix_position': 4,\n",
    "        'fix_direction': 'beg',\n",
    "    },\n",
    "    'MID': {\n",
    "        'ranges': ['A' + str(age) + '_54B' for age in [35, 40, 45]],\n",
    "        'range_slice': (1, 3),\n",
    "        'fix_position': -7,\n",
    "        'fix_direction': 'end',\n",
    "    },\n",
    "    'MID_PLUS': {\n",
    "        'ranges': ['A' + str(age) + '_64B' for age in [35, 40, 45]],\n",
    "        'range_slice': (1, 3),\n",
    "        'fix_position': -5,\n",
    "        'fix_direction': 'end',\n",
    "    }\n",
    "}"
   ]
  },
  {
   "cell_type": "code",
   "execution_count": 70,
   "metadata": {},
   "outputs": [],
   "source": [
    "def find_col(check):\n",
    "    locations = [i for i, x in enumerate(AGE_COLS) if check in x]\n",
    "\n",
    "    if len(locations) > 1 or len(locations) < 1:\n",
    "        raise ValueError\n",
    "    \n",
    "    return locations.pop()\n",
    "\n",
    "def col_slicer(var_position, fix_position, fix='end'):\n",
    "    if fix == 'end':\n",
    "        return var_position, fix_position + 1\n",
    "    elif fix == 'beg':\n",
    "        return fix_position, var_position + 1\n",
    "\n",
    "def get_cols(df):\n",
    "    age_dict = {age_col: df[age_col].sum() for age_col in AGE_COLS}\n",
    "    for age_range in AGE_UPPERS:\n",
    "        age_dict[age_range] = df[age_range].sum()\n",
    "\n",
    "    for range_type, values in RANGES.items():\n",
    "        for age_range in values['ranges']:\n",
    "            location = find_col(age_range[values['range_slice'][0]:values['range_slice'][1]])\n",
    "            i, j = col_slicer(location, values['fix_position'], values['fix_direction'])\n",
    "            cols = AGE_COLS[i:j]\n",
    "            age_dict[age_range] = df[cols].sum().sum()\n",
    "    \n",
    "    if (df['COUNTRYNM'] == 'Italy').all():\n",
    "        population = df[[*AGE_COLS, 'A75PLUSB']].sum().sum()\n",
    "    else:\n",
    "        population = df[[*AGE_COLS, 'A85PLUSB']].sum().sum()\n",
    "    \n",
    "    LAND_A_KM = df['LAND_A_KM'].sum()\n",
    "    land_density = population / LAND_A_KM\n",
    "    \n",
    "    cities = []\n",
    "    for i, df_city in df.groupby('NAME2'):\n",
    "        df_city = df_city.copy(deep=True)\n",
    "        \n",
    "        if not df_city.empty:\n",
    "        \n",
    "            if (df['COUNTRYNM'] == 'Italy').all():\n",
    "                city_pop = df_city[[*AGE_COLS, 'A75PLUSB']].sum().sum()\n",
    "            else:\n",
    "                city_pop = df_city[[*AGE_COLS, 'A85PLUSB']].sum().sum()\n",
    "\n",
    "            city_land = df_city['LAND_A_KM'].sum()\n",
    "            city_dens = city_pop / city_land\n",
    "\n",
    "            cities.append((i, city_pop, city_dens))\n",
    "\n",
    "    cities_sorted = sorted(cities, key=lambda tup: tup[1], reverse=True)\n",
    "\n",
    "    if len(cities) > 0:\n",
    "        city_dens = cities_sorted[0][2]\n",
    "    else:\n",
    "        city_dens = land_density\n",
    "            \n",
    "    return {\n",
    "        'population': population,\n",
    "        'LAND_A_KM': LAND_A_KM,\n",
    "        'land_density': land_density,\n",
    "         **age_dict,\n",
    "        'city_dens': city_dens,\n",
    "    }"
   ]
  },
  {
   "cell_type": "code",
   "execution_count": 80,
   "metadata": {},
   "outputs": [],
   "source": [
    "def get_exUS_pops(df):\n",
    "    weirds = ['GLP', 'MTQ', 'MAF', 'MYT']\n",
    "    with transaction.atomic():\n",
    "#         for region in Region.objects.filter(country_key__alpha3='BRA').exclude(name='Brazil'):\n",
    "        for region in Region.objects.filter(country_key__alpha3__in=weirds):\n",
    "            print (region.country_key.alpha3)\n",
    "            if region.name == region.country:\n",
    "                if region.country in df['COUNTRYNM'].unique():\n",
    "                    pop_data = get_cols(df[(df['COUNTRYNM'] == region.country)])\n",
    "                elif region.country_alt in df['COUNTRYNM'].unique():\n",
    "                    pop_data = get_cols(df[(df['COUNTRYNM'] == region.country_alt)])\n",
    "            elif region.name == 'Hong Kong':\n",
    "                pop_data = get_cols(df[(df['COUNTRYNM'] == region.country_alt)])\n",
    "            elif region.country_key.alpha3 in weirds:\n",
    "                print ('here')\n",
    "                pop_data = get_cols(df[(df['ISOALPHA'] == region.country_key.alpha3)])\n",
    "            else:\n",
    "                if region.name in df['NAME1'].unique():\n",
    "                    pop_data = get_cols(df[(df['NAME1'] == region.name)])\n",
    "                elif region.name_alt in df['NAME1'].unique():\n",
    "                    pop_data = get_cols(df[(df['NAME1'] == region.name_alt)])\n",
    "                elif region.name in df['NAME2'].unique():\n",
    "                    pop_data = get_cols(df[(df['NAME2'] == region.name)])\n",
    "                elif region.name_alt in df['NAME2'].unique():\n",
    "                    pop_data = get_cols(df[(df['NAME2'] == region.name_alt)])            \n",
    "\n",
    "            print (region.name)\n",
    "            Region.objects.filter(id=region.id).update(**pop_data)\n",
    "            print (pop_data)\n",
    "\n",
    "            if not pop_data['population']:\n",
    "                print ('*********** No data: ', region.name)"
   ]
  },
  {
   "cell_type": "code",
   "execution_count": 72,
   "metadata": {},
   "outputs": [],
   "source": [
    "def get_US_pops(df):\n",
    "    with transaction.atomic():\n",
    "        for region in Region.objects.filter(country='USA'):\n",
    "            if region.name in df['NAME1'].unique():\n",
    "                pop_data = get_cols(df[(df['NAME1'] == region.name)])\n",
    "            elif region.name_alt in df['NAME1'].unique():\n",
    "                pop_data = get_cols(df[(df['NAME1'] == region.name_alt)])\n",
    "            elif region.name in df['NAME2'].unique():\n",
    "                pop_data = get_cols(df[(df['NAME2'] == region.name)])\n",
    "            elif region.name_alt in df['NAME2'].unique():\n",
    "                pop_data = get_cols(df[(df['NAME2'] == region.name_alt)])\n",
    "\n",
    "            Region.objects.filter(id=region.id).update(**pop_data)\n",
    "\n",
    "            print (region.name)\n",
    "            if not pop_data['population']:\n",
    "                print ('*********** No data: ', region.name)"
   ]
  },
  {
   "cell_type": "code",
   "execution_count": 6,
   "metadata": {},
   "outputs": [],
   "source": [
    "path = '/Users/spindicate/Documents/docs/covid19/pops/gpw-v4-admin-unit-center-points-population-estimates-rev11_global_csv/gpw_v4_admin_unit_center_points_population_estimates_rev11_global.csv'\n",
    "df_exUS = pd.read_csv(path)\n",
    "\n",
    "# Need to Amend Chinese names\n",
    "df_exUS.NAME1 = df_exUS.NAME1.str.title()\n",
    "df_exUS.NAME2 = df_exUS.NAME2.str.title()\n",
    "df_exUS.NAME3 = df_exUS.NAME3.str.title()"
   ]
  },
  {
   "cell_type": "code",
   "execution_count": 73,
   "metadata": {},
   "outputs": [],
   "source": [
    "weirds = ['GLP', 'MTQ', 'MAF', 'MYT']"
   ]
  },
  {
   "cell_type": "code",
   "execution_count": 74,
   "metadata": {},
   "outputs": [],
   "source": [
    "df_exUS = df_exUS[df_exUS.ISOALPHA.isin(weirds)]"
   ]
  },
  {
   "cell_type": "code",
   "execution_count": 81,
   "metadata": {},
   "outputs": [
    {
     "name": "stdout",
     "output_type": "stream",
     "text": [
      "GLP\n",
      "here\n",
      "Guadeloupe\n",
      "{'population': 403519.74242565164, 'LAND_A_KM': 1659.2715979295467, 'land_density': 243.19089347950452, 'A00_04B': 27494.93541758968, 'A05_09B': 30115.67538500101, 'A10_14B': 31631.81403876457, 'A15_19B': 31632.090220425987, 'A20_24B': 21082.748496108026, 'A25_29B': 19552.148136639407, 'A30_34B': 23616.75941579287, 'A35_39B': 29950.88050016116, 'A40_44B': 32028.564857344056, 'A45_49B': 31745.205624411275, 'A50_54B': 26686.012133238204, 'A55_59B': 24210.457414889293, 'A60_64B': 20256.694655243908, 'A65_69B': 15737.552341606779, 'A70_74B': 13196.202241628405, 'A75_79B': 10039.650855696933, 'A80_84B': 7310.467736663381, 'A65PLUSB': 53515.75613004215, 'A70PLUSB': 37778.20378843536, 'A75PLUSB': 24582.001546806965, 'A80PLUSB': 14542.350691110028, 'A85PLUSB': 7231.882954446648, 'A09UNDERB': 57610.61080259069, 'A14UNDERB': 89242.42484135526, 'A19UNDERB': 120874.51506178125, 'A24UNDERB': 141957.26355788927, 'A29UNDERB': 161509.41169452868, 'A34UNDERB': 185126.17111032156, 'A05_14B': 61747.48942376558, 'A05_19B': 93379.57964419157, 'A05_24B': 114462.3281402996, 'A05_29B': 134014.476276939, 'A05_34B': 157631.2356927319, 'A15_24B': 52714.83871653401, 'A15_29B': 72266.98685317342, 'A15_34B': 95883.7462689663, 'A20_29B': 40634.89663274744, 'A20_34B': 64251.65604854032, 'A35_54B': 120410.66311515469, 'A40_54B': 90459.78261499354, 'A45_54B': 58431.21775764949, 'A35_64B': 164877.8151852879, 'A40_64B': 134926.93468512676, 'A45_64B': 102898.36982778269, 'city_dens': 810.9420057558607}\n",
      "MYT\n",
      "here\n",
      "Mayotte\n",
      "{'population': 200647.79531688028, 'LAND_A_KM': 393.25502955094345, 'land_density': 510.223087409713, 'A00_04B': 31636.49124724485, 'A05_09B': 30216.49252290987, 'A10_14B': 26624.2801452822, 'A15_19B': 20749.566077551244, 'A20_24B': 12239.315632461807, 'A25_29B': 13838.786798575926, 'A30_34B': 14645.211789788429, 'A35_39B': 13621.957925317338, 'A40_44B': 10989.595608782269, 'A45_49B': 7288.036827219291, 'A50_54B': 5891.820121368482, 'A55_59B': 4524.7087315658055, 'A60_64B': 3139.6507615733144, 'A65_69B': 1929.4937608493146, 'A70_74B': 1442.375206936537, 'A75_79B': 867.9222637259852, 'A80_84B': 571.4223552374311, 'A65PLUSB': 5241.8811272395005, 'A70PLUSB': 3312.387366390186, 'A75PLUSB': 1870.012159453649, 'A80PLUSB': 1002.0898957276639, 'A85PLUSB': 430.66754049023274, 'A09UNDERB': 61852.98377015472, 'A14UNDERB': 88477.26391543692, 'A19UNDERB': 109226.82999298816, 'A24UNDERB': 121466.14562544996, 'A29UNDERB': 135304.9324240259, 'A34UNDERB': 149950.14421381432, 'A05_14B': 56840.77266819206, 'A05_19B': 77590.3387457433, 'A05_24B': 89829.6543782051, 'A05_29B': 103668.44117678102, 'A05_34B': 118313.65296656945, 'A15_24B': 32988.88171001305, 'A15_29B': 46827.66850858897, 'A15_34B': 61472.8802983774, 'A20_29B': 26078.102431037732, 'A20_34B': 40723.31422082616, 'A35_54B': 37791.41048268738, 'A40_54B': 24169.452557370038, 'A45_54B': 13179.85694858777, 'A35_64B': 45455.7699758265, 'A40_64B': 31833.812050509157, 'A45_64B': 20844.21644172689, 'city_dens': 510.223087409713}\n",
      "MAF\n",
      "here\n",
      "St Martin\n",
      "{'population': 37704.0153706041, 'LAND_A_KM': 50.88299505088219, 'land_density': 740.9944193123987, 'A00_04B': 3841.7618071316774, 'A05_09B': 3694.318070010611, 'A10_14B': 3516.1543693809617, 'A15_19B': 2845.487558623025, 'A20_24B': 2129.7674887260714, 'A25_29B': 2617.16040363734, 'A30_34B': 2819.9006805220515, 'A35_39B': 3090.2135966697747, 'A40_44B': 3561.220215469327, 'A45_49B': 2865.967162528977, 'A50_54B': 2212.70247311572, 'A55_59B': 1579.9136699440505, 'A60_64B': 1180.5840980853493, 'A65_69B': 756.6789590519122, 'A70_74B': 424.9282933761508, 'A75_79B': 261.1013404938436, 'A80_84B': 165.87639502769923, 'A65PLUSB': 1748.8637767591656, 'A70PLUSB': 992.1848177072529, 'A75PLUSB': 567.2565243311022, 'A80PLUSB': 306.1551838372586, 'A85PLUSB': 140.27878880955936, 'A09UNDERB': 7536.079877142289, 'A14UNDERB': 11052.23424652325, 'A19UNDERB': 13897.721805146275, 'A24UNDERB': 16027.489293872346, 'A29UNDERB': 18644.649697509685, 'A34UNDERB': 21464.550378031738, 'A05_14B': 7210.472439391573, 'A05_19B': 10055.959998014598, 'A05_24B': 12185.727486740669, 'A05_29B': 14802.88789037801, 'A05_34B': 17622.788570900062, 'A15_24B': 4975.2550473490965, 'A15_29B': 7592.415450986437, 'A15_34B': 10412.316131508487, 'A20_29B': 4746.927892363412, 'A20_34B': 7566.8285728854635, 'A35_54B': 11730.103447783798, 'A40_54B': 8639.889851114023, 'A45_54B': 5078.669635644697, 'A35_64B': 14490.6012158132, 'A40_64B': 11400.387619143425, 'A45_64B': 7839.167403674097, 'city_dens': 740.9944193123987}\n",
      "MTQ\n",
      "here\n",
      "Martinique\n",
      "{'population': 398282.3821660226, 'LAND_A_KM': 1123.3251839823608, 'land_density': 354.55662157777874, 'A00_04B': 24071.918110897335, 'A05_09B': 27217.020452806635, 'A10_14B': 28132.976076101964, 'A15_19B': 30071.951635314068, 'A20_24B': 23063.27046657691, 'A25_29B': 19442.697413587885, 'A30_34B': 21543.604119410564, 'A35_39B': 28725.78839979844, 'A40_44B': 32352.87733224786, 'A45_49B': 32439.47669811156, 'A50_54B': 27802.75801047075, 'A55_59B': 24377.861345764744, 'A60_64B': 20579.99157525683, 'A65_69B': 16403.81893293196, 'A70_74B': 15076.635177437904, 'A75_79B': 11113.129685355778, 'A80_84B': 8272.692287759308, 'A65PLUSB': 58460.190529677035, 'A70PLUSB': 42056.37159674508, 'A75PLUSB': 26979.736419307166, 'A80PLUSB': 15866.606733951387, 'A85PLUSB': 7593.914446192078, 'A09UNDERB': 51288.93856370397, 'A14UNDERB': 79421.91463980594, 'A19UNDERB': 109493.86627512, 'A24UNDERB': 132557.13674169692, 'A29UNDERB': 151999.8341552848, 'A34UNDERB': 173543.43827469536, 'A05_14B': 55349.996528908596, 'A05_19B': 85421.94816422266, 'A05_24B': 108485.21863079957, 'A05_29B': 127927.91604438746, 'A05_34B': 149471.520163798, 'A15_24B': 53135.22210189098, 'A15_29B': 72577.91951547886, 'A15_34B': 94121.52363488943, 'A20_29B': 42505.9678801648, 'A20_34B': 64049.57199957536, 'A35_54B': 121320.90044062863, 'A40_54B': 92595.11204083018, 'A45_54B': 60242.23470858231, 'A35_64B': 166278.75336165022, 'A40_64B': 137552.96496185174, 'A45_64B': 105200.08762960389, 'city_dens': 2021.2531164772165}\n"
     ]
    }
   ],
   "source": [
    "get_exUS_pops(df_exUS)"
   ]
  },
  {
   "cell_type": "code",
   "execution_count": 50,
   "metadata": {},
   "outputs": [
    {
     "name": "stdout",
     "output_type": "stream",
     "text": [
      "Alabama\n",
      "Puerto Rico\n",
      "Guam\n",
      "Virgin Islands\n",
      "Wyoming\n",
      "Alaska\n",
      "Arkansas\n",
      "Delaware\n",
      "Idaho\n",
      "Maine\n",
      "Mississippi\n",
      "Montana\n",
      "New Mexico\n",
      "North Dakota\n",
      "South Dakota\n",
      "West Virginia\n",
      "Michigan\n",
      "Vermont\n",
      "Georgia\n",
      "Colorado\n",
      "Florida\n",
      "New Jersey\n",
      "Oregon\n",
      "Texas\n",
      "Illinois\n",
      "Pennsylvania\n",
      "Iowa\n",
      "Maryland\n",
      "North Carolina\n",
      "Washington\n",
      "New York\n",
      "California\n",
      "Massachusetts\n",
      "Diamond Princess\n",
      "Oklahoma\n",
      "Arizona\n",
      "Connecticut\n",
      "Minnesota\n",
      "Virginia\n",
      "New Hampshire\n",
      "Hawaii\n",
      "Nevada\n",
      "Indiana\n",
      "Kentucky\n",
      "District of Columbia\n",
      "Missouri\n",
      "Louisiana\n",
      "Ohio\n",
      "Wisconsin\n",
      "Kansas\n",
      "Utah\n",
      "Tennessee\n",
      "South Carolina\n",
      "Nebraska\n",
      "Rhode Island\n",
      "Northern Mariana Islands\n",
      "United States Virgin Islands\n"
     ]
    }
   ],
   "source": [
    "path = '/Users/spindicate/Documents/docs/covid19/pops/gpw-v4-admin-unit-center-points-population-estimates-rev11_global_csv/'\n",
    "files = [file for file in os.listdir(path) if 'usa' in file]\n",
    "dfs = [pd.read_csv(path + file) for file in files]\n",
    "df_us = pd.concat(dfs)\n",
    "get_US_pops(df_us)"
   ]
  }
 ],
 "metadata": {
  "kernelspec": {
   "display_name": "Django Shell-Plus",
   "language": "python",
   "name": "django_extensions"
  },
  "language_info": {
   "codemirror_mode": {
    "name": "ipython",
    "version": 3
   },
   "file_extension": ".py",
   "mimetype": "text/x-python",
   "name": "python",
   "nbconvert_exporter": "python",
   "pygments_lexer": "ipython3",
   "version": "3.7.7"
  }
 },
 "nbformat": 4,
 "nbformat_minor": 4
}
