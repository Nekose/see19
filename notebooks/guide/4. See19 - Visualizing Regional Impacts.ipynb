{
 "cells": [
  {
   "cell_type": "markdown",
   "metadata": {},
   "source": [
    "# see19 Guide\n",
    "\n",
    "**A dataset and interface for visualizing and analyzing the epidemiology of Coronavirus Disease 2019 aka SARS-CoV-2 aka COVID19 aka C19**\n",
    "\n",
    "Find it on [GitHub](https://github.com/ryanskene/see19)\n",
    "\n",
    "Current with version 0.3.0."
   ]
  },
  {
   "cell_type": "markdown",
   "metadata": {},
   "source": [
    "# 4. Visualizating Regional Impacts\n",
    "\n",
    "4.1 [Daily Fatalities Comparison - Italy](#section4.1)  \n",
    "4.2 [Daily Fatalities Comparison - 10 Most Impacted Regions](#section4.2)  \n",
    "4.3 [Factor Comparison: Oxford Government Tracker](#section4.3)  \n",
    "4.4 [4.4 MultiBar Comparison](#section4.4)"
   ]
  },
  {
   "cell_type": "markdown",
   "metadata": {},
   "source": [
    "`CaseStudy` has a `comp_chart` attribute, which is an instance of the `CompChart2D` class and provides categorical time-series charts comparing various regions on a single `comp_category`.\n",
    "\n",
    "`CompChart2D` object utilizes `Bokeh` for chart creation.\n",
    "\n",
    "Charts are available in **multi-line** and **bar** format with optional overlay of a second factor on a separate y-axis."
   ]
  },
  {
   "cell_type": "markdown",
   "metadata": {},
   "source": [
    "<h2><a id='section4.1'>4.1 Daily Fatalities Comparison - Italy</a></h2>"
   ]
  },
  {
   "cell_type": "markdown",
   "metadata": {},
   "source": [
    "We will illustrate with an example, focusing on only the top 5 most impacted regions in Italy."
   ]
  },
  {
   "cell_type": "code",
   "execution_count": 1,
   "metadata": {
    "scrolled": true
   },
   "outputs": [
    {
     "data": {
      "text/html": [
       "\n",
       "    <div class=\"bk-root\">\n",
       "        <a href=\"https://bokeh.org\" target=\"_blank\" class=\"bk-logo bk-logo-small bk-logo-notebook\"></a>\n",
       "        <span id=\"1001\">Loading BokehJS ...</span>\n",
       "    </div>"
      ]
     },
     "metadata": {},
     "output_type": "display_data"
    },
    {
     "data": {
      "application/javascript": [
       "\n",
       "(function(root) {\n",
       "  function now() {\n",
       "    return new Date();\n",
       "  }\n",
       "\n",
       "  var force = true;\n",
       "\n",
       "  if (typeof root._bokeh_onload_callbacks === \"undefined\" || force === true) {\n",
       "    root._bokeh_onload_callbacks = [];\n",
       "    root._bokeh_is_loading = undefined;\n",
       "  }\n",
       "\n",
       "  var JS_MIME_TYPE = 'application/javascript';\n",
       "  var HTML_MIME_TYPE = 'text/html';\n",
       "  var EXEC_MIME_TYPE = 'application/vnd.bokehjs_exec.v0+json';\n",
       "  var CLASS_NAME = 'output_bokeh rendered_html';\n",
       "\n",
       "  /**\n",
       "   * Render data to the DOM node\n",
       "   */\n",
       "  function render(props, node) {\n",
       "    var script = document.createElement(\"script\");\n",
       "    node.appendChild(script);\n",
       "  }\n",
       "\n",
       "  /**\n",
       "   * Handle when an output is cleared or removed\n",
       "   */\n",
       "  function handleClearOutput(event, handle) {\n",
       "    var cell = handle.cell;\n",
       "\n",
       "    var id = cell.output_area._bokeh_element_id;\n",
       "    var server_id = cell.output_area._bokeh_server_id;\n",
       "    // Clean up Bokeh references\n",
       "    if (id != null && id in Bokeh.index) {\n",
       "      Bokeh.index[id].model.document.clear();\n",
       "      delete Bokeh.index[id];\n",
       "    }\n",
       "\n",
       "    if (server_id !== undefined) {\n",
       "      // Clean up Bokeh references\n",
       "      var cmd = \"from bokeh.io.state import curstate; print(curstate().uuid_to_server['\" + server_id + \"'].get_sessions()[0].document.roots[0]._id)\";\n",
       "      cell.notebook.kernel.execute(cmd, {\n",
       "        iopub: {\n",
       "          output: function(msg) {\n",
       "            var id = msg.content.text.trim();\n",
       "            if (id in Bokeh.index) {\n",
       "              Bokeh.index[id].model.document.clear();\n",
       "              delete Bokeh.index[id];\n",
       "            }\n",
       "          }\n",
       "        }\n",
       "      });\n",
       "      // Destroy server and session\n",
       "      var cmd = \"import bokeh.io.notebook as ion; ion.destroy_server('\" + server_id + \"')\";\n",
       "      cell.notebook.kernel.execute(cmd);\n",
       "    }\n",
       "  }\n",
       "\n",
       "  /**\n",
       "   * Handle when a new output is added\n",
       "   */\n",
       "  function handleAddOutput(event, handle) {\n",
       "    var output_area = handle.output_area;\n",
       "    var output = handle.output;\n",
       "\n",
       "    // limit handleAddOutput to display_data with EXEC_MIME_TYPE content only\n",
       "    if ((output.output_type != \"display_data\") || (!output.data.hasOwnProperty(EXEC_MIME_TYPE))) {\n",
       "      return\n",
       "    }\n",
       "\n",
       "    var toinsert = output_area.element.find(\".\" + CLASS_NAME.split(' ')[0]);\n",
       "\n",
       "    if (output.metadata[EXEC_MIME_TYPE][\"id\"] !== undefined) {\n",
       "      toinsert[toinsert.length - 1].firstChild.textContent = output.data[JS_MIME_TYPE];\n",
       "      // store reference to embed id on output_area\n",
       "      output_area._bokeh_element_id = output.metadata[EXEC_MIME_TYPE][\"id\"];\n",
       "    }\n",
       "    if (output.metadata[EXEC_MIME_TYPE][\"server_id\"] !== undefined) {\n",
       "      var bk_div = document.createElement(\"div\");\n",
       "      bk_div.innerHTML = output.data[HTML_MIME_TYPE];\n",
       "      var script_attrs = bk_div.children[0].attributes;\n",
       "      for (var i = 0; i < script_attrs.length; i++) {\n",
       "        toinsert[toinsert.length - 1].firstChild.setAttribute(script_attrs[i].name, script_attrs[i].value);\n",
       "        toinsert[toinsert.length - 1].firstChild.textContent = bk_div.children[0].textContent\n",
       "      }\n",
       "      // store reference to server id on output_area\n",
       "      output_area._bokeh_server_id = output.metadata[EXEC_MIME_TYPE][\"server_id\"];\n",
       "    }\n",
       "  }\n",
       "\n",
       "  function register_renderer(events, OutputArea) {\n",
       "\n",
       "    function append_mime(data, metadata, element) {\n",
       "      // create a DOM node to render to\n",
       "      var toinsert = this.create_output_subarea(\n",
       "        metadata,\n",
       "        CLASS_NAME,\n",
       "        EXEC_MIME_TYPE\n",
       "      );\n",
       "      this.keyboard_manager.register_events(toinsert);\n",
       "      // Render to node\n",
       "      var props = {data: data, metadata: metadata[EXEC_MIME_TYPE]};\n",
       "      render(props, toinsert[toinsert.length - 1]);\n",
       "      element.append(toinsert);\n",
       "      return toinsert\n",
       "    }\n",
       "\n",
       "    /* Handle when an output is cleared or removed */\n",
       "    events.on('clear_output.CodeCell', handleClearOutput);\n",
       "    events.on('delete.Cell', handleClearOutput);\n",
       "\n",
       "    /* Handle when a new output is added */\n",
       "    events.on('output_added.OutputArea', handleAddOutput);\n",
       "\n",
       "    /**\n",
       "     * Register the mime type and append_mime function with output_area\n",
       "     */\n",
       "    OutputArea.prototype.register_mime_type(EXEC_MIME_TYPE, append_mime, {\n",
       "      /* Is output safe? */\n",
       "      safe: true,\n",
       "      /* Index of renderer in `output_area.display_order` */\n",
       "      index: 0\n",
       "    });\n",
       "  }\n",
       "\n",
       "  // register the mime type if in Jupyter Notebook environment and previously unregistered\n",
       "  if (root.Jupyter !== undefined) {\n",
       "    var events = require('base/js/events');\n",
       "    var OutputArea = require('notebook/js/outputarea').OutputArea;\n",
       "\n",
       "    if (OutputArea.prototype.mime_types().indexOf(EXEC_MIME_TYPE) == -1) {\n",
       "      register_renderer(events, OutputArea);\n",
       "    }\n",
       "  }\n",
       "\n",
       "  \n",
       "  if (typeof (root._bokeh_timeout) === \"undefined\" || force === true) {\n",
       "    root._bokeh_timeout = Date.now() + 5000;\n",
       "    root._bokeh_failed_load = false;\n",
       "  }\n",
       "\n",
       "  var NB_LOAD_WARNING = {'data': {'text/html':\n",
       "     \"<div style='background-color: #fdd'>\\n\"+\n",
       "     \"<p>\\n\"+\n",
       "     \"BokehJS does not appear to have successfully loaded. If loading BokehJS from CDN, this \\n\"+\n",
       "     \"may be due to a slow or bad network connection. Possible fixes:\\n\"+\n",
       "     \"</p>\\n\"+\n",
       "     \"<ul>\\n\"+\n",
       "     \"<li>re-rerun `output_notebook()` to attempt to load from CDN again, or</li>\\n\"+\n",
       "     \"<li>use INLINE resources instead, as so:</li>\\n\"+\n",
       "     \"</ul>\\n\"+\n",
       "     \"<code>\\n\"+\n",
       "     \"from bokeh.resources import INLINE\\n\"+\n",
       "     \"output_notebook(resources=INLINE)\\n\"+\n",
       "     \"</code>\\n\"+\n",
       "     \"</div>\"}};\n",
       "\n",
       "  function display_loaded() {\n",
       "    var el = document.getElementById(\"1001\");\n",
       "    if (el != null) {\n",
       "      el.textContent = \"BokehJS is loading...\";\n",
       "    }\n",
       "    if (root.Bokeh !== undefined) {\n",
       "      if (el != null) {\n",
       "        el.textContent = \"BokehJS \" + root.Bokeh.version + \" successfully loaded.\";\n",
       "      }\n",
       "    } else if (Date.now() < root._bokeh_timeout) {\n",
       "      setTimeout(display_loaded, 100)\n",
       "    }\n",
       "  }\n",
       "\n",
       "\n",
       "  function run_callbacks() {\n",
       "    try {\n",
       "      root._bokeh_onload_callbacks.forEach(function(callback) {\n",
       "        if (callback != null)\n",
       "          callback();\n",
       "      });\n",
       "    } finally {\n",
       "      delete root._bokeh_onload_callbacks\n",
       "    }\n",
       "    console.debug(\"Bokeh: all callbacks have finished\");\n",
       "  }\n",
       "\n",
       "  function load_libs(css_urls, js_urls, callback) {\n",
       "    if (css_urls == null) css_urls = [];\n",
       "    if (js_urls == null) js_urls = [];\n",
       "\n",
       "    root._bokeh_onload_callbacks.push(callback);\n",
       "    if (root._bokeh_is_loading > 0) {\n",
       "      console.debug(\"Bokeh: BokehJS is being loaded, scheduling callback at\", now());\n",
       "      return null;\n",
       "    }\n",
       "    if (js_urls == null || js_urls.length === 0) {\n",
       "      run_callbacks();\n",
       "      return null;\n",
       "    }\n",
       "    console.debug(\"Bokeh: BokehJS not loaded, scheduling load and callback at\", now());\n",
       "    root._bokeh_is_loading = css_urls.length + js_urls.length;\n",
       "\n",
       "    function on_load() {\n",
       "      root._bokeh_is_loading--;\n",
       "      if (root._bokeh_is_loading === 0) {\n",
       "        console.debug(\"Bokeh: all BokehJS libraries/stylesheets loaded\");\n",
       "        run_callbacks()\n",
       "      }\n",
       "    }\n",
       "\n",
       "    function on_error() {\n",
       "      console.error(\"failed to load \" + url);\n",
       "    }\n",
       "\n",
       "    for (var i = 0; i < css_urls.length; i++) {\n",
       "      var url = css_urls[i];\n",
       "      const element = document.createElement(\"link\");\n",
       "      element.onload = on_load;\n",
       "      element.onerror = on_error;\n",
       "      element.rel = \"stylesheet\";\n",
       "      element.type = \"text/css\";\n",
       "      element.href = url;\n",
       "      console.debug(\"Bokeh: injecting link tag for BokehJS stylesheet: \", url);\n",
       "      document.body.appendChild(element);\n",
       "    }\n",
       "\n",
       "    for (var i = 0; i < js_urls.length; i++) {\n",
       "      var url = js_urls[i];\n",
       "      var element = document.createElement('script');\n",
       "      element.onload = on_load;\n",
       "      element.onerror = on_error;\n",
       "      element.async = false;\n",
       "      element.src = url;\n",
       "      \n",
       "      console.debug(\"Bokeh: injecting script tag for BokehJS library: \", url);\n",
       "      document.head.appendChild(element);\n",
       "    }\n",
       "  };var element = document.getElementById(\"1001\");\n",
       "  if (element == null) {\n",
       "    console.error(\"Bokeh: ERROR: autoload.js configured with elementid '1001' but no matching script tag was found. \")\n",
       "    return false;\n",
       "  }\n",
       "\n",
       "  function inject_raw_css(css) {\n",
       "    const element = document.createElement(\"style\");\n",
       "    element.appendChild(document.createTextNode(css));\n",
       "    document.body.appendChild(element);\n",
       "  }\n",
       "\n",
       "  \n",
       "  var js_urls = [\"https://cdn.bokeh.org/bokeh/release/bokeh-2.0.0.min.js\", \"https://cdn.bokeh.org/bokeh/release/bokeh-widgets-2.0.0.min.js\", \"https://cdn.bokeh.org/bokeh/release/bokeh-tables-2.0.0.min.js\", \"https://cdn.bokeh.org/bokeh/release/bokeh-gl-2.0.0.min.js\"];\n",
       "  var css_urls = [];\n",
       "  \n",
       "\n",
       "  var inline_js = [\n",
       "    function(Bokeh) {\n",
       "      Bokeh.set_log_level(\"info\");\n",
       "    },\n",
       "    function(Bokeh) {\n",
       "    \n",
       "    \n",
       "    }\n",
       "  ];\n",
       "\n",
       "  function run_inline_js() {\n",
       "    \n",
       "    if (root.Bokeh !== undefined || force === true) {\n",
       "      \n",
       "    for (var i = 0; i < inline_js.length; i++) {\n",
       "      inline_js[i].call(root, root.Bokeh);\n",
       "    }\n",
       "    if (force === true) {\n",
       "        display_loaded();\n",
       "      }} else if (Date.now() < root._bokeh_timeout) {\n",
       "      setTimeout(run_inline_js, 100);\n",
       "    } else if (!root._bokeh_failed_load) {\n",
       "      console.log(\"Bokeh: BokehJS failed to load within specified timeout.\");\n",
       "      root._bokeh_failed_load = true;\n",
       "    } else if (force !== true) {\n",
       "      var cell = $(document.getElementById(\"1001\")).parents('.cell').data().cell;\n",
       "      cell.output_area.append_execute_result(NB_LOAD_WARNING)\n",
       "    }\n",
       "\n",
       "  }\n",
       "\n",
       "  if (root._bokeh_is_loading === 0) {\n",
       "    console.debug(\"Bokeh: BokehJS loaded, going straight to plotting\");\n",
       "    run_inline_js();\n",
       "  } else {\n",
       "    load_libs(css_urls, js_urls, function() {\n",
       "      console.debug(\"Bokeh: BokehJS plotting callback run at\", now());\n",
       "      run_inline_js();\n",
       "    });\n",
       "  }\n",
       "}(window));"
      ],
      "application/vnd.bokehjs_load.v0+json": "\n(function(root) {\n  function now() {\n    return new Date();\n  }\n\n  var force = true;\n\n  if (typeof root._bokeh_onload_callbacks === \"undefined\" || force === true) {\n    root._bokeh_onload_callbacks = [];\n    root._bokeh_is_loading = undefined;\n  }\n\n  \n\n  \n  if (typeof (root._bokeh_timeout) === \"undefined\" || force === true) {\n    root._bokeh_timeout = Date.now() + 5000;\n    root._bokeh_failed_load = false;\n  }\n\n  var NB_LOAD_WARNING = {'data': {'text/html':\n     \"<div style='background-color: #fdd'>\\n\"+\n     \"<p>\\n\"+\n     \"BokehJS does not appear to have successfully loaded. If loading BokehJS from CDN, this \\n\"+\n     \"may be due to a slow or bad network connection. Possible fixes:\\n\"+\n     \"</p>\\n\"+\n     \"<ul>\\n\"+\n     \"<li>re-rerun `output_notebook()` to attempt to load from CDN again, or</li>\\n\"+\n     \"<li>use INLINE resources instead, as so:</li>\\n\"+\n     \"</ul>\\n\"+\n     \"<code>\\n\"+\n     \"from bokeh.resources import INLINE\\n\"+\n     \"output_notebook(resources=INLINE)\\n\"+\n     \"</code>\\n\"+\n     \"</div>\"}};\n\n  function display_loaded() {\n    var el = document.getElementById(\"1001\");\n    if (el != null) {\n      el.textContent = \"BokehJS is loading...\";\n    }\n    if (root.Bokeh !== undefined) {\n      if (el != null) {\n        el.textContent = \"BokehJS \" + root.Bokeh.version + \" successfully loaded.\";\n      }\n    } else if (Date.now() < root._bokeh_timeout) {\n      setTimeout(display_loaded, 100)\n    }\n  }\n\n\n  function run_callbacks() {\n    try {\n      root._bokeh_onload_callbacks.forEach(function(callback) {\n        if (callback != null)\n          callback();\n      });\n    } finally {\n      delete root._bokeh_onload_callbacks\n    }\n    console.debug(\"Bokeh: all callbacks have finished\");\n  }\n\n  function load_libs(css_urls, js_urls, callback) {\n    if (css_urls == null) css_urls = [];\n    if (js_urls == null) js_urls = [];\n\n    root._bokeh_onload_callbacks.push(callback);\n    if (root._bokeh_is_loading > 0) {\n      console.debug(\"Bokeh: BokehJS is being loaded, scheduling callback at\", now());\n      return null;\n    }\n    if (js_urls == null || js_urls.length === 0) {\n      run_callbacks();\n      return null;\n    }\n    console.debug(\"Bokeh: BokehJS not loaded, scheduling load and callback at\", now());\n    root._bokeh_is_loading = css_urls.length + js_urls.length;\n\n    function on_load() {\n      root._bokeh_is_loading--;\n      if (root._bokeh_is_loading === 0) {\n        console.debug(\"Bokeh: all BokehJS libraries/stylesheets loaded\");\n        run_callbacks()\n      }\n    }\n\n    function on_error() {\n      console.error(\"failed to load \" + url);\n    }\n\n    for (var i = 0; i < css_urls.length; i++) {\n      var url = css_urls[i];\n      const element = document.createElement(\"link\");\n      element.onload = on_load;\n      element.onerror = on_error;\n      element.rel = \"stylesheet\";\n      element.type = \"text/css\";\n      element.href = url;\n      console.debug(\"Bokeh: injecting link tag for BokehJS stylesheet: \", url);\n      document.body.appendChild(element);\n    }\n\n    for (var i = 0; i < js_urls.length; i++) {\n      var url = js_urls[i];\n      var element = document.createElement('script');\n      element.onload = on_load;\n      element.onerror = on_error;\n      element.async = false;\n      element.src = url;\n      \n      console.debug(\"Bokeh: injecting script tag for BokehJS library: \", url);\n      document.head.appendChild(element);\n    }\n  };var element = document.getElementById(\"1001\");\n  if (element == null) {\n    console.error(\"Bokeh: ERROR: autoload.js configured with elementid '1001' but no matching script tag was found. \")\n    return false;\n  }\n\n  function inject_raw_css(css) {\n    const element = document.createElement(\"style\");\n    element.appendChild(document.createTextNode(css));\n    document.body.appendChild(element);\n  }\n\n  \n  var js_urls = [\"https://cdn.bokeh.org/bokeh/release/bokeh-2.0.0.min.js\", \"https://cdn.bokeh.org/bokeh/release/bokeh-widgets-2.0.0.min.js\", \"https://cdn.bokeh.org/bokeh/release/bokeh-tables-2.0.0.min.js\", \"https://cdn.bokeh.org/bokeh/release/bokeh-gl-2.0.0.min.js\"];\n  var css_urls = [];\n  \n\n  var inline_js = [\n    function(Bokeh) {\n      Bokeh.set_log_level(\"info\");\n    },\n    function(Bokeh) {\n    \n    \n    }\n  ];\n\n  function run_inline_js() {\n    \n    if (root.Bokeh !== undefined || force === true) {\n      \n    for (var i = 0; i < inline_js.length; i++) {\n      inline_js[i].call(root, root.Bokeh);\n    }\n    if (force === true) {\n        display_loaded();\n      }} else if (Date.now() < root._bokeh_timeout) {\n      setTimeout(run_inline_js, 100);\n    } else if (!root._bokeh_failed_load) {\n      console.log(\"Bokeh: BokehJS failed to load within specified timeout.\");\n      root._bokeh_failed_load = true;\n    } else if (force !== true) {\n      var cell = $(document.getElementById(\"1001\")).parents('.cell').data().cell;\n      cell.output_area.append_execute_result(NB_LOAD_WARNING)\n    }\n\n  }\n\n  if (root._bokeh_is_loading === 0) {\n    console.debug(\"Bokeh: BokehJS loaded, going straight to plotting\");\n    run_inline_js();\n  } else {\n    load_libs(css_urls, js_urls, function() {\n      console.debug(\"Bokeh: BokehJS plotting callback run at\", now());\n      run_inline_js();\n    });\n  }\n}(window));"
     },
     "metadata": {},
     "output_type": "display_data"
    }
   ],
   "source": [
    "# required to display Bokeh charts in Jupyter Notebooks\n",
    "from bokeh.io import output_notebook, show\n",
    "output_notebook()"
   ]
  },
  {
   "cell_type": "code",
   "execution_count": 24,
   "metadata": {},
   "outputs": [],
   "source": [
    "from see19 import CaseStudy, get_baseframe\n",
    "baseframe = get_baseframe()"
   ]
  },
  {
   "cell_type": "code",
   "execution_count": 2,
   "metadata": {},
   "outputs": [],
   "source": [
    "import os\n",
    "os.environ[\"DJANGO_ALLOW_ASYNC_UNSAFE\"] = \"true\"\n",
    "%load_ext autoreload\n",
    "%autoreload 2\n",
    "\n",
    "from casestudy.see19 import CaseStudy\n",
    "from casestudy.baseframe import make_baseframe\n",
    "baseframe = make_baseframe()"
   ]
  },
  {
   "cell_type": "code",
   "execution_count": 3,
   "metadata": {},
   "outputs": [],
   "source": [
    "itaregions = list(baseframe[baseframe['country'] == 'Italy'] \\\n",
    "    .sort_values(by='deaths', ascending=False).region_name.unique())[:3]\n",
    "\n",
    "casestudy = CaseStudy(baseframe, regions=itaregions, start_hurdle=3, start_factor='deaths')"
   ]
  },
  {
   "cell_type": "markdown",
   "metadata": {},
   "source": [
    "When `CaseStudy` is instantiated, `comp_chart` is also instantiated with its own attributes."
   ]
  },
  {
   "cell_type": "code",
   "execution_count": 4,
   "metadata": {},
   "outputs": [
    {
     "name": "stdout",
     "output_type": "stream",
     "text": [
      "<casestudy.see19.charts.CompChart2D object at 0x127d2b450>\n"
     ]
    }
   ],
   "source": [
    "print (casestudy.comp_chart)"
   ]
  },
  {
   "cell_type": "markdown",
   "metadata": {},
   "source": [
    "In particular, all the various `comp_categories` and `factors` are automatically provided labels via the `label` attribute. There are many labels but some are show below for illustration purposes."
   ]
  },
  {
   "cell_type": "code",
   "execution_count": 6,
   "metadata": {},
   "outputs": [
    {
     "name": "stdout",
     "output_type": "stream",
     "text": [
      ": January 2020\n",
      "population: Population\n",
      "land_dens: Density of Land Area\n",
      "city_dens: Population Density of Largest City\n",
      "cases_dma_per_test_dma: Cases per Test (3DMA)\n",
      "cases_per_test: Cases per Test\n",
      "cases_new_dma_per_test_new_dma: Daily Cases per Daily Tests (3DMA)\n",
      "deaths: Cumulative Deaths\n",
      "deaths_new: Daily Fatalities\n",
      "deaths_new_dma_per_1M: Daily Fatalities per 1M (3DMA)\n",
      "deaths_per_1M: Cumulative Fatalities per 1M\n",
      "deaths_new_per_1M: Daily Fatalities per 1M\n",
      "deaths_new_dma_per_1M_lognat: Daily Fatalities per 1M (3DMA)\n",
      "(Natural Log)\n",
      "deaths_new_dma_per_person_per_land_KM2: Daily Fatalities / Person / Land KM² (3DMA)\n",
      "deaths_new_dma_per_person_per_city_KM2: Daily Fatalities / Person / City KM² (3DMA)\n",
      "deaths_new_dma_per_person_per_land_KM2_lognat: Daily Fatalities / Person / Land KM² (3DMA)\n",
      "(Natural Log)\n",
      "deaths_new_dma_per_person_per_city_KM2_lognat: Daily Fatalities / Person / City KM² (3DMA)\n",
      "(Natural Log)\n",
      "deaths_per_person_per_land_KM2: Total Fatalities / Person / Land KM² (3DMA)\n",
      "deaths_per_person_per_city_KM2: Total Fatalities / Person / City KM² (3DMA)\n",
      "cases: Cumulative Cases\n",
      "cases_per_1M: Cumulative Cases per 1M\n",
      "cases_new_per_1M: Daily Cases per 1M\n",
      "cases_per_person_per_city_KM2_lognat: Total Cases / Person / City KM²\n",
      "(Natural Log)\n",
      "cases_new_dma_per_1M: Daily Cases per 1M (3DMA)\n",
      "cases_new_dma_per_1M_lognat: Daily Cases per 1M (3DMA)\n",
      "(Natural Log)\n",
      "cases_new_dma_per_person_per_city_KM2: Daily Cases / Person / City KM² (3DMA)\n",
      "cases_new_dma_per_person_per_land_KM2: Daily Cases / Person / Land KM² (3DMA)\n",
      "cases_new_dma_per_person_per_city_KM2_lognat: Total Cases / Person / City KM² (3DMA)\n",
      "(Natural Log)\n",
      "tests_new_dma_per_1M: Daily Tests per 1M (3DMA)\n",
      "tests_per_1M: Total Tests per 1M\n",
      "temp: Temperature (°C)\n"
     ]
    }
   ],
   "source": [
    "for k,v in casestudy.comp_chart.labels.items():\n",
    "    print ('{}: {}'.format(k, v))\n",
    "    if k == 'temp':\n",
    "        break"
   ]
  },
  {
   "cell_type": "markdown",
   "metadata": {},
   "source": [
    "### make()\n",
    "\n",
    "Charts are rendered with the `make` method. \n",
    "\n",
    "The basic `comp_chart` is structured as the `comp_category` on the y-axis with the number of days from the `start_hurdle` on the x-axis.\n",
    "\n",
    "`comp_category` is the major keyword, which defaults to `deaths_new_dma_per_1M`\n",
    "\n",
    "`make` accepts many optional kwargs. Below we see that `height` and `width` can be customized and that the positioning of the line labels can be adjusted using `label_offsets`"
   ]
  },
  {
   "cell_type": "code",
   "execution_count": 26,
   "metadata": {},
   "outputs": [
    {
     "data": {
      "text/html": [
       "\n",
       "\n",
       "\n",
       "\n",
       "\n",
       "\n",
       "  <div class=\"bk-root\" id=\"3c491b0d-64b1-4636-b06f-754eee1421ab\" data-root-id=\"4404\"></div>\n"
      ]
     },
     "metadata": {},
     "output_type": "display_data"
    },
    {
     "data": {
      "application/javascript": [
       "(function(root) {\n",
       "  function embed_document(root) {\n",
       "    \n",
       "  var docs_json = {\"bebaf028-1510-4337-828a-6d716f399637\":{\"roots\":{\"references\":[{\"attributes\":{\"background_fill_color\":\"white\",\"below\":[{\"id\":\"4414\"}],\"border_fill_color\":\"white\",\"center\":[{\"id\":\"4417\"},{\"id\":\"4421\"},{\"id\":\"4447\"},{\"id\":\"4451\"},{\"id\":\"4452\"},{\"id\":\"4453\"}],\"left\":[{\"id\":\"4418\"}],\"min_border\":20,\"outline_line_color\":\"white\",\"plot_height\":500,\"plot_width\":725,\"renderers\":[{\"id\":\"4439\"}],\"title\":{\"id\":\"4405\"},\"toolbar\":{\"id\":\"4428\"},\"toolbar_location\":null,\"x_range\":{\"id\":\"4407\"},\"x_scale\":{\"id\":\"4410\"},\"y_range\":{\"id\":\"4403\"},\"y_scale\":{\"id\":\"4412\"}},\"id\":\"4404\",\"subtype\":\"Figure\",\"type\":\"Plot\"},{\"attributes\":{\"text\":\"Lombardia\",\"text_alpha\":0.8,\"text_color\":\"#440154\",\"text_font_size\":\"8pt\",\"text_font_style\":\"bold\",\"x\":93,\"x_offset\":-295,\"y\":4.326228351207232,\"y_offset\":170},\"id\":\"4451\",\"type\":\"Label\"},{\"attributes\":{\"axis\":{\"id\":\"4418\"},\"dimension\":1,\"grid_line_color\":null,\"ticker\":null},\"id\":\"4421\",\"type\":\"Grid\"},{\"attributes\":{\"axis_label\":\"Daily Fatalities per 1M (3DMA)\",\"formatter\":{\"id\":\"4443\"},\"major_label_text_font_size\":\"16pt\",\"ticker\":{\"id\":\"4419\"}},\"id\":\"4418\",\"type\":\"LinearAxis\"},{\"attributes\":{},\"id\":\"4443\",\"type\":\"BasicTickFormatter\"},{\"attributes\":{},\"id\":\"4445\",\"type\":\"BasicTickFormatter\"},{\"attributes\":{\"text\":\"Piemonte\",\"text_alpha\":0.8,\"text_color\":\"#30678D\",\"text_font_size\":\"8pt\",\"text_font_style\":\"bold\",\"x\":85,\"x_offset\":-195,\"y\":2.29994079952382,\"y_offset\":15},\"id\":\"4452\",\"type\":\"Label\"},{\"attributes\":{\"index\":2,\"label\":{\"value\":\"Emilia-Romagna\"},\"renderers\":[{\"id\":\"4439\"}]},\"id\":\"4448\",\"type\":\"LegendItem\"},{\"attributes\":{},\"id\":\"4412\",\"type\":\"LinearScale\"},{\"attributes\":{\"bottom_units\":\"screen\",\"fill_alpha\":0.5,\"fill_color\":\"lightgrey\",\"left_units\":\"screen\",\"level\":\"overlay\",\"line_alpha\":1.0,\"line_color\":\"black\",\"line_dash\":[4,4],\"line_width\":2,\"render_mode\":\"css\",\"right_units\":\"screen\",\"top_units\":\"screen\"},\"id\":\"4446\",\"type\":\"BoxAnnotation\"},{\"attributes\":{\"active_drag\":\"auto\",\"active_inspect\":\"auto\",\"active_multi\":null,\"active_scroll\":\"auto\",\"active_tap\":\"auto\",\"tools\":[{\"id\":\"4422\"},{\"id\":\"4423\"},{\"id\":\"4424\"},{\"id\":\"4425\"},{\"id\":\"4426\"},{\"id\":\"4427\"}]},\"id\":\"4428\",\"type\":\"Toolbar\"},{\"attributes\":{\"background_fill_alpha\":0.0,\"border_line_alpha\":0.0,\"border_line_color\":\"black\",\"items\":[{\"id\":\"4448\"},{\"id\":\"4449\"},{\"id\":\"4450\"}],\"label_text_font_size\":\"8pt\",\"title\":\"Region: Start Date\",\"visible\":false},\"id\":\"4447\",\"type\":\"Legend\"},{\"attributes\":{},\"id\":\"4612\",\"type\":\"UnionRenderers\"},{\"attributes\":{},\"id\":\"4611\",\"type\":\"Selection\"},{\"attributes\":{\"text\":\"\"},\"id\":\"4405\",\"type\":\"Title\"},{\"attributes\":{},\"id\":\"4422\",\"type\":\"PanTool\"},{\"attributes\":{\"text\":\"Emilia-Romagna\",\"text_alpha\":0.8,\"text_color\":\"#35B778\",\"text_font_size\":\"8pt\",\"text_font_style\":\"bold\",\"x\":91,\"x_offset\":-170,\"y\":1.8580522409968079},\"id\":\"4453\",\"type\":\"Label\"},{\"attributes\":{},\"id\":\"4423\",\"type\":\"WheelZoomTool\"},{\"attributes\":{\"index\":1,\"label\":{\"value\":\"Piemonte\"},\"renderers\":[{\"id\":\"4439\"}]},\"id\":\"4450\",\"type\":\"LegendItem\"},{\"attributes\":{\"overlay\":{\"id\":\"4446\"}},\"id\":\"4424\",\"type\":\"BoxZoomTool\"},{\"attributes\":{\"data_source\":{\"id\":\"4435\"},\"glyph\":{\"id\":\"4437\"},\"hover_glyph\":null,\"muted_glyph\":null,\"nonselection_glyph\":{\"id\":\"4438\"},\"selection_glyph\":null,\"view\":{\"id\":\"4440\"}},\"id\":\"4439\",\"type\":\"GlyphRenderer\"},{\"attributes\":{},\"id\":\"4407\",\"type\":\"DataRange1d\"},{\"attributes\":{\"line_color\":{\"field\":\"color\"},\"line_width\":{\"value\":5},\"xs\":{\"field\":\"x\"},\"ys\":{\"field\":\"y\"}},\"id\":\"4437\",\"type\":\"MultiLine\"},{\"attributes\":{\"index\":0,\"label\":{\"value\":\"Lombardia\"},\"renderers\":[{\"id\":\"4439\"}]},\"id\":\"4449\",\"type\":\"LegendItem\"},{\"attributes\":{},\"id\":\"4425\",\"type\":\"SaveTool\"},{\"attributes\":{\"data\":{\"color\":[\"#440154\",\"#30678D\",\"#35B778\"],\"regions\":[\"Lombardia\",\"Piemonte\",\"Emilia-Romagna\"],\"x\":[[0,1,2,3,4,5,6,7,8,9,10,11,12,13,14,15,16,17,18,19,20,21,22,23,24,25,26,27,28,29,30,31,32,33,34,35,36,37,38,39,40,41,42,43,44,45,46,47,48,49,50,51,52,53,54,55,56,57,58,59,60,61,62,63,64,65,66,67,68,69,70,71,72,73,74,75,76,77,78,79,80,81,82,83,84,85,86,87,88,89,90,91,92,93],[0,1,2,3,4,5,6,7,8,9,10,11,12,13,14,15,16,17,18,19,20,21,22,23,24,25,26,27,28,29,30,31,32,33,34,35,36,37,38,39,40,41,42,43,44,45,46,47,48,49,50,51,52,53,54,55,56,57,58,59,60,61,62,63,64,65,66,67,68,69,70,71,72,73,74,75,76,77,78,79,80,81,82,83,84,85],[0,1,2,3,4,5,6,7,8,9,10,11,12,13,14,15,16,17,18,19,20,21,22,23,24,25,26,27,28,29,30,31,32,33,34,35,36,37,38,39,40,41,42,43,44,45,46,47,48,49,50,51,52,53,54,55,56,57,58,59,60,61,62,63,64,65,66,67,68,69,70,71,72,73,74,75,76,77,78,79,80,81,82,83,84,85,86,87,88,89,90,91]],\"y\":[[0.27687861447726286,0.27687861447726286,0.48453757533521,0.3460982680965786,0.726806363002815,1.1075144579090515,1.695881513673235,2.0765896085794715,2.768786144772629,2.8033959715822863,5.8490607308321785,6.852745708312256,10.867485618232568,12.113439383380252,14.22463881876938,14.605346913675616,12.078829556570593,16.405057907777827,18.343208209118664,23.327023269709397,25.645881665956473,25.888150453624082,31.460332569978995,39.31676325577133,44.57745693083932,42.46625749545019,37.48244243485946,35.2328036922317,37.55166208847878,42.362428015021216,50.87644541019705,51.880130387677134,49.00751476247552,43.43533264612061,42.673916456308135,39.524422216629276,38.48612741233954,36.7902458986663,32.70628633512668,30.83735568740515,28.656936598396708,28.27622850349047,28.380057983919443,26.095809414482027,27.307153352820052,20.731286258985058,22.94631517480316,21.83880071689411,26.16502906810134,24.469147554428105,24.538367208047422,23.29241344289974,20.938945219843003,18.170159075070373,18.308598382309007,18.23937872868969,19.519942320647033,18.23937872868969,18.308598382309007,13.324783321718277,11.871170595712645,10.590607003755304,12.25187869061888,11.178974059519488,9.86380064075249,17.65101167292551,15.885910505632957,15.020664835391509,6.921965361931572,13.151734187669986,15.609031891155693,15.574422064346034,10.832875791422909,8.340968261127543,7.441112764076441,6.645086747454309,6.887355535121913,8.375578087937201,10.209898908849068,9.171604104559332,7.717991378553702,4.568497138874838,5.0876445410197055,4.949205233781074,6.368208132977046,6.4720376134060205,6.160549172119099,3.910910429491338,3.1148844128692073,1.93815030134084,3.945520256300996,3.460982680965786,4.014739909920311,4.326228351207232],[0.3066587732698427,0.38332346658730343,0.22999407995238202,0.6899822398571461,0.9199763198095281,1.2266350930793708,0.9966410131269888,2.2232761062063595,2.9132583460635053,4.216558132460337,4.9832050656349445,5.67318730549209,5.596522612174629,4.906540372317483,5.826516692127011,6.4398342386666965,8.279786878285753,8.12645749165083,10.426398291174651,12.726339090698472,10.273068904539729,14.949615196904832,12.879668477333393,18.016202929603256,13.799644797142921,18.16953231623818,15.486268050127054,17.9395382362858,14.489627037000067,18.552855782825485,14.182968263730224,15.946256210031821,14.642956423634988,16.099585596666742,15.562932743444518,16.329579676619122,19.54949679595247,21.082790662301687,22.53941983533344,22.53941983533344,21.92610228879375,20.546137809079458,18.706185169460404,18.16953231623818,18.16953231623818,18.24619700955564,17.862873542968337,17.479550076381035,16.94289722315881,16.406244369936584,15.946256210031821,14.796285810269909,13.72298010382546,12.956333170650854,13.799644797142921,14.412962343682608,12.343015624111167,9.429757278047664,6.593163625301619,6.823157705254,6.899822398571461,7.283145865158764,7.359810558476225,6.823157705254,6.4398342386666965,6.516498931984157,7.283145865158764,7.436475251793686,7.129816478523843,7.129816478523843,9.889745437952426,10.273068904539729,9.12309850477782,5.74985199880955,6.516498931984157,8.12645749165083,8.433116264920674,5.979846078761933,4.063228745825415,3.1432524260158874,3.1432524260158874,3.1432524260158874,3.4499111992857303,3.0665877326984274,2.9899230393809666,2.29994079952382],[0.23225653012460099,0.541931903624069,0.6967695903738029,1.083863807248138,1.083863807248138,1.470958024122473,1.470958024122473,2.0128899277465417,2.0128899277465417,2.554821831370611,2.8644972048700788,4.412874072367419,5.883832096489892,8.980585831484571,9.909611951982974,10.683800385731645,11.225732289355715,11.767664192979783,13.470878747226857,14.322486024350393,19.122454313592147,19.896642747340817,22.064370361837092,19.509548530466482,20.903087711214088,20.206318120840283,21.832113831712494,21.832113831712494,20.67083118108949,20.825668867839223,20.980506554588953,23.225653012460096,22.374045735336562,21.13534424133869,19.974061590715685,18.967616626842414,18.58052240996808,15.948281735222603,15.716025205098001,14.16764833760066,16.103119421972334,16.79988901234614,19.122454313592147,19.199873156967016,16.877307855721007,17.341820915970207,17.341820915970207,17.651496289469677,15.328930988223663,13.703135277351459,13.935391807476059,13.62571643397659,14.090229494225792,14.012810650850927,14.70958024122473,12.077339566479251,11.070894602605978,9.058004674859438,9.909611951982974,9.677355421858374,9.754774265233241,9.29026120498404,8.283816241110769,7.896722024236434,7.045114747112896,6.735439373613429,7.045114747112896,7.354790120612365,7.741884337486701,7.122533590487764,6.967695903738029,6.116088626614492,5.419319036240689,4.490292915742286,4.64513060249202,4.8773871326166205,4.490292915742286,4.258036385617684,3.329010265119281,3.329010265119281,2.8644972048700788,2.7096595181203447,3.019334891619813,3.09675373499468,3.019334891619813,2.32256530124601,2.399984144620877,2.245146457871143,2.167727614496276,2.0128899277465417,2.0128899277465417,1.8580522409968079]]},\"selected\":{\"id\":\"4611\"},\"selection_policy\":{\"id\":\"4612\"}},\"id\":\"4435\",\"type\":\"ColumnDataSource\"},{\"attributes\":{\"end\":57.06814342644485,\"start\":0.23229402075190583},\"id\":\"4403\",\"type\":\"Range1d\"},{\"attributes\":{\"source\":{\"id\":\"4435\"}},\"id\":\"4440\",\"type\":\"CDSView\"},{\"attributes\":{},\"id\":\"4426\",\"type\":\"ResetTool\"},{\"attributes\":{\"axis_label\":\"Days Since 3 Cumulative Deaths\",\"formatter\":{\"id\":\"4445\"},\"major_label_text_font_size\":\"16pt\",\"major_tick_line_color\":null,\"ticker\":{\"id\":\"4415\"}},\"id\":\"4414\",\"type\":\"LinearAxis\"},{\"attributes\":{},\"id\":\"4410\",\"type\":\"LinearScale\"},{\"attributes\":{},\"id\":\"4427\",\"type\":\"HelpTool\"},{\"attributes\":{},\"id\":\"4419\",\"type\":\"BasicTicker\"},{\"attributes\":{},\"id\":\"4415\",\"type\":\"BasicTicker\"},{\"attributes\":{\"line_alpha\":{\"value\":0.1},\"line_color\":{\"field\":\"color\"},\"line_width\":{\"value\":5},\"xs\":{\"field\":\"x\"},\"ys\":{\"field\":\"y\"}},\"id\":\"4438\",\"type\":\"MultiLine\"},{\"attributes\":{\"axis\":{\"id\":\"4414\"},\"grid_line_color\":null,\"ticker\":null},\"id\":\"4417\",\"type\":\"Grid\"}],\"root_ids\":[\"4404\"]},\"title\":\"Bokeh Application\",\"version\":\"2.0.0\"}};\n",
       "  var render_items = [{\"docid\":\"bebaf028-1510-4337-828a-6d716f399637\",\"root_ids\":[\"4404\"],\"roots\":{\"4404\":\"3c491b0d-64b1-4636-b06f-754eee1421ab\"}}];\n",
       "  root.Bokeh.embed.embed_items_notebook(docs_json, render_items);\n",
       "\n",
       "  }\n",
       "  if (root.Bokeh !== undefined) {\n",
       "    embed_document(root);\n",
       "  } else {\n",
       "    var attempts = 0;\n",
       "    var timer = setInterval(function(root) {\n",
       "      if (root.Bokeh !== undefined) {\n",
       "        clearInterval(timer);\n",
       "        embed_document(root);\n",
       "      } else {\n",
       "        attempts++;\n",
       "        if (attempts > 100) {\n",
       "          clearInterval(timer);\n",
       "          console.log(\"Bokeh: ERROR: Unable to run BokehJS code because BokehJS library is missing\");\n",
       "        }\n",
       "      }\n",
       "    }, 10, root)\n",
       "  }\n",
       "})(window);"
      ],
      "application/vnd.bokehjs_exec.v0+json": ""
     },
     "metadata": {
      "application/vnd.bokehjs_exec.v0+json": {
       "id": "4404"
      }
     },
     "output_type": "display_data"
    }
   ],
   "source": [
    "kwargs = {\n",
    "    'width': 725, 'height': 500,\n",
    "    'label_offsets': {\n",
    "        'Piemonte': {'x_offset': -175, 'y_offset': 10},\n",
    "        'Emilia-Romagna': {'x_offset': -150, 'y_offset': -5},\n",
    "        'Lombardia': {'x_offset': -275, 'y_offset': 165},\n",
    "    },    \n",
    "}\n",
    "p = casestudy.comp_chart.make(comp_type='multiline', **kwargs)\n",
    "show(p)"
   ]
  },
  {
   "cell_type": "markdown",
   "metadata": {},
   "source": [
    "After `make` is called, many other attributes are available on the `casestudy.comp_chart` instance, including a dataframe tailor-made to the chart"
   ]
  },
  {
   "cell_type": "code",
   "execution_count": 27,
   "metadata": {},
   "outputs": [
    {
     "data": {
      "text/html": [
       "<div>\n",
       "<style scoped>\n",
       "    .dataframe tbody tr th:only-of-type {\n",
       "        vertical-align: middle;\n",
       "    }\n",
       "\n",
       "    .dataframe tbody tr th {\n",
       "        vertical-align: top;\n",
       "    }\n",
       "\n",
       "    .dataframe thead th {\n",
       "        text-align: right;\n",
       "    }\n",
       "</style>\n",
       "<table border=\"1\" class=\"dataframe\">\n",
       "  <thead>\n",
       "    <tr style=\"text-align: right;\">\n",
       "      <th></th>\n",
       "      <th>region_id</th>\n",
       "      <th>country_id</th>\n",
       "      <th>region_code</th>\n",
       "      <th>region_name</th>\n",
       "      <th>country_code</th>\n",
       "      <th>country</th>\n",
       "      <th>date</th>\n",
       "      <th>cases</th>\n",
       "      <th>deaths</th>\n",
       "      <th>tests</th>\n",
       "      <th>...</th>\n",
       "      <th>growth_cases_per_1M</th>\n",
       "      <th>growth_cases_per_person_per_land_KM2</th>\n",
       "      <th>growth_cases_per_person_per_city_KM2</th>\n",
       "      <th>growth_deaths_per_1M</th>\n",
       "      <th>growth_deaths_per_person_per_land_KM2</th>\n",
       "      <th>growth_deaths_per_person_per_city_KM2</th>\n",
       "      <th>growth_tests_per_1M</th>\n",
       "      <th>growth_tests_per_person_per_land_KM2</th>\n",
       "      <th>growth_tests_per_person_per_city_KM2</th>\n",
       "      <th>days</th>\n",
       "    </tr>\n",
       "  </thead>\n",
       "  <tbody>\n",
       "    <tr>\n",
       "      <th>661</th>\n",
       "      <td>36</td>\n",
       "      <td>110</td>\n",
       "      <td>LOM</td>\n",
       "      <td>Lombardia</td>\n",
       "      <td>ITA</td>\n",
       "      <td>Italy</td>\n",
       "      <td>2020-02-27</td>\n",
       "      <td>403.0</td>\n",
       "      <td>14.0</td>\n",
       "      <td>NaN</td>\n",
       "      <td>...</td>\n",
       "      <td>1.562016</td>\n",
       "      <td>1.562016</td>\n",
       "      <td>1.562016</td>\n",
       "      <td>1.555556</td>\n",
       "      <td>1.555556</td>\n",
       "      <td>1.555556</td>\n",
       "      <td>NaN</td>\n",
       "      <td>NaN</td>\n",
       "      <td>NaN</td>\n",
       "      <td>3 days</td>\n",
       "    </tr>\n",
       "    <tr>\n",
       "      <th>662</th>\n",
       "      <td>36</td>\n",
       "      <td>110</td>\n",
       "      <td>LOM</td>\n",
       "      <td>Lombardia</td>\n",
       "      <td>ITA</td>\n",
       "      <td>Italy</td>\n",
       "      <td>2020-02-28</td>\n",
       "      <td>531.0</td>\n",
       "      <td>17.0</td>\n",
       "      <td>NaN</td>\n",
       "      <td>...</td>\n",
       "      <td>1.317618</td>\n",
       "      <td>1.317618</td>\n",
       "      <td>1.317618</td>\n",
       "      <td>1.214286</td>\n",
       "      <td>1.214286</td>\n",
       "      <td>1.214286</td>\n",
       "      <td>NaN</td>\n",
       "      <td>NaN</td>\n",
       "      <td>NaN</td>\n",
       "      <td>4 days</td>\n",
       "    </tr>\n",
       "  </tbody>\n",
       "</table>\n",
       "<p>2 rows × 116 columns</p>\n",
       "</div>"
      ],
      "text/plain": [
       "     region_id  country_id region_code region_name country_code country  \\\n",
       "661         36         110         LOM   Lombardia          ITA   Italy   \n",
       "662         36         110         LOM   Lombardia          ITA   Italy   \n",
       "\n",
       "          date  cases  deaths  tests  ...  growth_cases_per_1M  \\\n",
       "661 2020-02-27  403.0    14.0    NaN  ...             1.562016   \n",
       "662 2020-02-28  531.0    17.0    NaN  ...             1.317618   \n",
       "\n",
       "     growth_cases_per_person_per_land_KM2  \\\n",
       "661                              1.562016   \n",
       "662                              1.317618   \n",
       "\n",
       "     growth_cases_per_person_per_city_KM2  growth_deaths_per_1M  \\\n",
       "661                              1.562016              1.555556   \n",
       "662                              1.317618              1.214286   \n",
       "\n",
       "     growth_deaths_per_person_per_land_KM2  \\\n",
       "661                               1.555556   \n",
       "662                               1.214286   \n",
       "\n",
       "     growth_deaths_per_person_per_city_KM2  growth_tests_per_1M  \\\n",
       "661                               1.555556                  NaN   \n",
       "662                               1.214286                  NaN   \n",
       "\n",
       "     growth_tests_per_person_per_land_KM2  \\\n",
       "661                                   NaN   \n",
       "662                                   NaN   \n",
       "\n",
       "     growth_tests_per_person_per_city_KM2   days  \n",
       "661                                   NaN 3 days  \n",
       "662                                   NaN 4 days  \n",
       "\n",
       "[2 rows x 116 columns]"
      ]
     },
     "execution_count": 27,
     "metadata": {},
     "output_type": "execute_result"
    }
   ],
   "source": [
    "casestudy.comp_chart.df_comp.head(2)"
   ]
  },
  {
   "cell_type": "markdown",
   "metadata": {},
   "source": [
    "As mentioned, `comp_chart` can accept additional keywords. Here we change `comp_category`, `palette_base`, increase the axis label size, and narrow the `regions` further.\n",
    "\n",
    "We also add a custom title."
   ]
  },
  {
   "cell_type": "code",
   "execution_count": 28,
   "metadata": {},
   "outputs": [
    {
     "data": {
      "text/html": [
       "\n",
       "\n",
       "\n",
       "\n",
       "\n",
       "\n",
       "  <div class=\"bk-root\" id=\"65b81ab0-e921-495e-9e39-9f61eb9b9567\" data-root-id=\"4663\"></div>\n"
      ]
     },
     "metadata": {},
     "output_type": "display_data"
    },
    {
     "data": {
      "application/javascript": [
       "(function(root) {\n",
       "  function embed_document(root) {\n",
       "    \n",
       "  var docs_json = {\"3bf96621-3d9c-4c1f-bab2-6cb5133d91a2\":{\"roots\":{\"references\":[{\"attributes\":{\"background_fill_color\":\"white\",\"below\":[{\"id\":\"4673\"}],\"border_fill_color\":\"white\",\"center\":[{\"id\":\"4676\"},{\"id\":\"4680\"},{\"id\":\"4706\"},{\"id\":\"4709\"},{\"id\":\"4710\"}],\"left\":[{\"id\":\"4677\"}],\"min_border\":20,\"outline_line_color\":\"white\",\"plot_height\":500,\"plot_width\":725,\"renderers\":[{\"id\":\"4698\"}],\"title\":{\"id\":\"4664\"},\"toolbar\":{\"id\":\"4687\"},\"toolbar_location\":null,\"x_range\":{\"id\":\"4666\"},\"x_scale\":{\"id\":\"4669\"},\"y_range\":{\"id\":\"4662\"},\"y_scale\":{\"id\":\"4671\"}},\"id\":\"4663\",\"subtype\":\"Figure\",\"type\":\"Plot\"},{\"attributes\":{\"line_alpha\":{\"value\":0.1},\"line_color\":{\"field\":\"color\"},\"line_width\":{\"value\":5},\"xs\":{\"field\":\"x\"},\"ys\":{\"field\":\"y\"}},\"id\":\"4697\",\"type\":\"MultiLine\"},{\"attributes\":{\"data_source\":{\"id\":\"4694\"},\"glyph\":{\"id\":\"4696\"},\"hover_glyph\":null,\"muted_glyph\":null,\"nonselection_glyph\":{\"id\":\"4697\"},\"selection_glyph\":null,\"view\":{\"id\":\"4699\"}},\"id\":\"4698\",\"type\":\"GlyphRenderer\"},{\"attributes\":{\"axis\":{\"id\":\"4677\"},\"dimension\":1,\"grid_line_color\":null,\"ticker\":null},\"id\":\"4680\",\"type\":\"Grid\"},{\"attributes\":{\"background_fill_alpha\":0.0,\"border_line_alpha\":0.0,\"border_line_color\":\"black\",\"items\":[{\"id\":\"4707\"},{\"id\":\"4708\"}],\"label_text_font_size\":\"8pt\",\"title\":\"Region: Start Date\",\"visible\":false},\"id\":\"4706\",\"type\":\"Legend\"},{\"attributes\":{},\"id\":\"4678\",\"type\":\"BasicTicker\"},{\"attributes\":{\"bottom_units\":\"screen\",\"fill_alpha\":0.5,\"fill_color\":\"lightgrey\",\"left_units\":\"screen\",\"level\":\"overlay\",\"line_alpha\":1.0,\"line_color\":\"black\",\"line_dash\":[4,4],\"line_width\":2,\"render_mode\":\"css\",\"right_units\":\"screen\",\"top_units\":\"screen\"},\"id\":\"4705\",\"type\":\"BoxAnnotation\"},{\"attributes\":{},\"id\":\"4702\",\"type\":\"BasicTickFormatter\"},{\"attributes\":{\"axis_label\":\"Days Since 3 Cumulative Deaths\",\"axis_label_text_font_size\":\"14pt\",\"formatter\":{\"id\":\"4704\"},\"major_label_text_font_size\":\"16pt\",\"major_tick_line_color\":null,\"ticker\":{\"id\":\"4674\"}},\"id\":\"4673\",\"type\":\"LinearAxis\"},{\"attributes\":{},\"id\":\"4704\",\"type\":\"BasicTickFormatter\"},{\"attributes\":{\"active_drag\":\"auto\",\"active_inspect\":\"auto\",\"active_multi\":null,\"active_scroll\":\"auto\",\"active_tap\":\"auto\",\"tools\":[{\"id\":\"4681\"},{\"id\":\"4682\"},{\"id\":\"4683\"},{\"id\":\"4684\"},{\"id\":\"4685\"},{\"id\":\"4686\"}]},\"id\":\"4687\",\"type\":\"Toolbar\"},{\"attributes\":{\"line_color\":{\"field\":\"color\"},\"line_width\":{\"value\":5},\"xs\":{\"field\":\"x\"},\"ys\":{\"field\":\"y\"}},\"id\":\"4696\",\"type\":\"MultiLine\"},{\"attributes\":{\"index\":0,\"label\":{\"value\":\"Lombardia\"},\"renderers\":[{\"id\":\"4698\"}]},\"id\":\"4707\",\"type\":\"LegendItem\"},{\"attributes\":{\"axis\":{\"id\":\"4673\"},\"grid_line_color\":null,\"ticker\":null},\"id\":\"4676\",\"type\":\"Grid\"},{\"attributes\":{},\"id\":\"4681\",\"type\":\"PanTool\"},{\"attributes\":{\"text\":\"Piemonte\",\"text_alpha\":0.8,\"text_color\":\"#e7ba52\",\"text_font_size\":\"8pt\",\"text_font_style\":\"bold\",\"x\":85,\"x_offset\":-20,\"y\":14.598956957747099,\"y_offset\":5},\"id\":\"4710\",\"type\":\"Label\"},{\"attributes\":{},\"id\":\"4682\",\"type\":\"WheelZoomTool\"},{\"attributes\":{\"index\":1,\"label\":{\"value\":\"Piemonte\"},\"renderers\":[{\"id\":\"4698\"}]},\"id\":\"4708\",\"type\":\"LegendItem\"},{\"attributes\":{},\"id\":\"4674\",\"type\":\"BasicTicker\"},{\"attributes\":{},\"id\":\"4671\",\"type\":\"LinearScale\"},{\"attributes\":{\"data\":{\"color\":[\"#393b79\",\"#e7ba52\"],\"regions\":[\"Lombardia\",\"Piemonte\"],\"x\":[[0,1,2,3,4,5,6,7,8,9,10,11,12,13,14,15,16,17,18,19,20,21,22,23,24,25,26,27,28,29,30,31,32,33,34,35,36,37,38,39,40,41,42,43,44,45,46,47,48,49,50,51,52,53,54,55,56,57,58,59,60,61,62,63,64,65,66,67,68,69,70,71,72,73,74,75,76,77,78,79,80,81,82,83,84,85,86,87,88,89,90,91,92,93,94,95,96],[0,1,2,3,4,5,6,7,8,9,10,11,12,13,14,15,16,17,18,19,20,21,22,23,24,25,26,27,28,29,30,31,32,33,34,35,36,37,38,39,40,41,42,43,44,45,46,47,48,49,50,51,52,53,54,55,56,57,58,59,60,61,62,63,64,65,66,67,68,69,70,71,72,73,74,75,76,77,78,79,80,81,82,83,84,85]],\"y\":[[0.010140523175794546,0.01521078476369182,0.01521078476369182,0.023661220743520606,0.02873148233141788,0.038872005507212426,0.04056209270317818,0.0642233134466988,0.09295479577811668,0.12337636530550031,0.16562854520464426,0.22816177145537728,0.2602734281787267,0.4512532813228573,0.5627990362565973,0.7909608077119745,1.0427837999108724,1.2574248737985236,1.5041776044095243,1.6326242313029218,2.058526204686293,2.399923818271376,2.7717430013838427,3.310880816896919,3.6641090408537624,4.308032262516717,5.2308198715140195,5.840941349257658,6.381769251966701,7.061184304744936,7.5614501147508,8.215513859589548,9.129851032607023,10.045878292820463,10.748954566342219,11.523014502094536,12.166937723757488,12.832832078967998,13.45309407988743,14.046314685671412,14.629394768279598,15.050226480075072,15.552182377276901,16.028786966539247,16.431027719179095,16.938053877968823,17.303112712297427,17.76450651679608,17.95041610835231,18.423640523222723,18.83095153745047,19.228122028502426,19.618532170770514,20.029223359390194,20.365550711387378,20.641034924329798,20.916519137272218,21.259606838053266,21.531710876603753,21.869728315796905,22.15028279032722,22.425767003269637,22.52041188624372,22.729982698543473,22.94293368523516,23.118702753615597,23.275880862840413,23.4246085360854,23.980647223558137,24.051630885788697,24.15810637913454,24.318664662751285,24.693864020255685,24.920335704515097,25.079203900935877,25.22286131259297,25.327646718742844,25.442572648068516,25.547358054218392,25.66397407074003,25.85157374949223,26.045933777028292,26.111847177670956,26.228463194192592,26.269025286895772,26.36028999547792,26.470145663215696,26.580001330953472,26.67633630112352,26.7709811840976,26.7709811840976,26.828444148760436,26.865626067071684,26.963651124437696,26.997452868357012,27.061676181803712,27.174912023933416],[0.015136295446083047,0.018920369307603806,0.018920369307603806,0.0491929601997699,0.06432925564585294,0.079465551091936,0.0983859203995398,0.17406739762995505,0.22326035782972495,0.3065099827831817,0.42003219862880453,0.5032818235822613,0.5827473746741972,0.6622129257661333,0.7908714370578391,0.9006095790419413,1.0708929028103755,1.19198326637904,1.415243624208765,1.699049163822822,1.699049163822822,2.1531380272053133,2.33477357255831,2.588306521280201,2.8342713222790503,3.2315990777387302,3.352689441307395,3.719744605874909,3.9467890375661545,4.268435315795419,4.4197982702562495,4.7338764007624725,4.991193423345885,5.214453781175609,5.502043394651188,5.797201155849807,6.179392615863404,6.542663706569397,6.909718871136911,7.291910331150508,7.624908830964334,7.9238506660244745,8.215224353361574,8.521734336144755,8.820676171204894,9.115833932403515,9.403423545879093,9.68344501163163,9.952114255799604,10.213215352244536,10.470532374827947,10.68244051107311,10.890564573456752,11.110040857424956,11.363573806146848,11.601970459422654,11.719276749129799,11.8290148911139,11.92740081151344,12.056059322805147,12.16958153865077,12.286887828357912,12.41933041351114,12.506364112326118,12.604750032725656,12.740976691740403,12.86585112917059,12.97180519729317,13.092895560861836,13.21776999829202,13.45995072542935,13.599961458305618,13.66807478781299,13.743756265043405,13.921607736534883,14.069186617134191,14.16000438981069,14.216765497733501,14.269742531794792,14.315151418133041,14.371912526055853,14.424889560117144,14.485434741901475,14.523275480516682,14.572468440716452,14.598956957747099]]},\"selected\":{\"id\":\"4876\"},\"selection_policy\":{\"id\":\"4877\"}},\"id\":\"4694\",\"type\":\"ColumnDataSource\"},{\"attributes\":{\"overlay\":{\"id\":\"4705\"}},\"id\":\"4683\",\"type\":\"BoxZoomTool\"},{\"attributes\":{},\"id\":\"4684\",\"type\":\"SaveTool\"},{\"attributes\":{\"text\":\"Lombardia\",\"text_alpha\":0.8,\"text_color\":\"#393b79\",\"text_font_size\":\"8pt\",\"text_font_style\":\"bold\",\"x\":96,\"x_offset\":-30,\"y\":27.174912023933416,\"y_offset\":5},\"id\":\"4709\",\"type\":\"Label\"},{\"attributes\":{\"axis_label\":\"Total Fatalities / Person / Land KM\\u00b2 (3DMA)\",\"axis_label_text_font_size\":\"14pt\",\"formatter\":{\"id\":\"4702\"},\"major_label_text_font_size\":\"16pt\",\"ticker\":{\"id\":\"4678\"}},\"id\":\"4677\",\"type\":\"LinearAxis\"},{\"attributes\":{},\"id\":\"4685\",\"type\":\"ResetTool\"},{\"attributes\":{\"text\":\"Comparison of Cumulative Fatalities adjusted for Density as of May 3\"},\"id\":\"4664\",\"type\":\"Title\"},{\"attributes\":{},\"id\":\"4686\",\"type\":\"HelpTool\"},{\"attributes\":{},\"id\":\"4669\",\"type\":\"LinearScale\"},{\"attributes\":{},\"id\":\"4876\",\"type\":\"Selection\"},{\"attributes\":{\"source\":{\"id\":\"4694\"}},\"id\":\"4699\",\"type\":\"CDSView\"},{\"attributes\":{},\"id\":\"4666\",\"type\":\"DataRange1d\"},{\"attributes\":{},\"id\":\"4877\",\"type\":\"UnionRenderers\"},{\"attributes\":{\"end\":29.892403226326756,\"start\":0.01024192840755249},\"id\":\"4662\",\"type\":\"Range1d\"}],\"root_ids\":[\"4663\"]},\"title\":\"Bokeh Application\",\"version\":\"2.0.0\"}};\n",
       "  var render_items = [{\"docid\":\"3bf96621-3d9c-4c1f-bab2-6cb5133d91a2\",\"root_ids\":[\"4663\"],\"roots\":{\"4663\":\"65b81ab0-e921-495e-9e39-9f61eb9b9567\"}}];\n",
       "  root.Bokeh.embed.embed_items_notebook(docs_json, render_items);\n",
       "\n",
       "  }\n",
       "  if (root.Bokeh !== undefined) {\n",
       "    embed_document(root);\n",
       "  } else {\n",
       "    var attempts = 0;\n",
       "    var timer = setInterval(function(root) {\n",
       "      if (root.Bokeh !== undefined) {\n",
       "        clearInterval(timer);\n",
       "        embed_document(root);\n",
       "      } else {\n",
       "        attempts++;\n",
       "        if (attempts > 100) {\n",
       "          clearInterval(timer);\n",
       "          console.log(\"Bokeh: ERROR: Unable to run BokehJS code because BokehJS library is missing\");\n",
       "        }\n",
       "      }\n",
       "    }, 10, root)\n",
       "  }\n",
       "})(window);"
      ],
      "application/vnd.bokehjs_exec.v0+json": ""
     },
     "metadata": {
      "application/vnd.bokehjs_exec.v0+json": {
       "id": "4663"
      }
     },
     "output_type": "display_data"
    }
   ],
   "source": [
    "from bokeh.palettes import Category20b\n",
    "kwargs['regions'] = ['Lombardia', 'Piemonte']\n",
    "kwargs['comp_category'] = 'deaths_per_person_per_land_KM2'\n",
    "kwargs['palette_base'] = Category20b[20]\n",
    "kwargs['x_fontsize'] = 14\n",
    "kwargs['y_fontsize'] = 14\n",
    "kwargs['label_offsets'] = {\n",
    "    'Lombardia': {'x_offset': -10, 'y_offset': 0},\n",
    "}\n",
    "kwargs['title'] = 'Comparison of Cumulative Fatalities adjusted for Density as of May 3'\n",
    "p = casestudy.comp_chart.make(comp_type='multiline', **kwargs)\n",
    "show(p)"
   ]
  },
  {
   "cell_type": "markdown",
   "metadata": {},
   "source": [
    "<h2><a id='section4.2'>4.2 Daily Fatalities Comparison - 10 Most Impacted Regions</a></h2>"
   ]
  },
  {
   "cell_type": "markdown",
   "metadata": {},
   "source": [
    "Now we'll look at new cases in the 10 most impacted regions globally."
   ]
  },
  {
   "cell_type": "code",
   "execution_count": 29,
   "metadata": {},
   "outputs": [],
   "source": [
    "regions = list(baseframe[~(baseframe['region_name'] == 'Hubei')] \\\n",
    "    .sort_values(by='cases', ascending=False).region_name.unique())[:7]\n",
    "casestudy = CaseStudy(baseframe, regions=regions, start_hurdle=3, start_factor='deaths', count_dma=7, lognat=True)"
   ]
  },
  {
   "cell_type": "code",
   "execution_count": 30,
   "metadata": {},
   "outputs": [
    {
     "data": {
      "text/html": [
       "\n",
       "\n",
       "\n",
       "\n",
       "\n",
       "\n",
       "  <div class=\"bk-root\" id=\"a82c3dcb-e89c-4f58-9881-9d0839867f04\" data-root-id=\"4928\"></div>\n"
      ]
     },
     "metadata": {},
     "output_type": "display_data"
    },
    {
     "data": {
      "application/javascript": [
       "(function(root) {\n",
       "  function embed_document(root) {\n",
       "    \n",
       "  var docs_json = {\"8217b7e7-47ba-410e-91cd-924373900d46\":{\"roots\":{\"references\":[{\"attributes\":{\"background_fill_color\":\"white\",\"below\":[{\"id\":\"4938\"}],\"border_fill_color\":\"white\",\"center\":[{\"id\":\"4941\"},{\"id\":\"4945\"},{\"id\":\"4971\"},{\"id\":\"4979\"},{\"id\":\"4980\"},{\"id\":\"4981\"},{\"id\":\"4982\"},{\"id\":\"4983\"},{\"id\":\"4984\"},{\"id\":\"4985\"}],\"left\":[{\"id\":\"4942\"}],\"min_border\":20,\"outline_line_color\":\"white\",\"plot_height\":500,\"plot_width\":925,\"renderers\":[{\"id\":\"4963\"}],\"title\":{\"id\":\"4929\"},\"toolbar\":{\"id\":\"4952\"},\"toolbar_location\":null,\"x_range\":{\"id\":\"4931\"},\"x_scale\":{\"id\":\"4934\"},\"y_range\":{\"id\":\"4927\"},\"y_scale\":{\"id\":\"4936\"}},\"id\":\"4928\",\"subtype\":\"Figure\",\"type\":\"Plot\"},{\"attributes\":{\"text\":\"New York\",\"text_alpha\":0.8,\"text_color\":\"#393b79\",\"text_font_size\":\"8pt\",\"text_font_style\":\"bold\",\"x\":76,\"x_offset\":-20,\"y\":70.52880027746194,\"y_offset\":5},\"id\":\"4979\",\"type\":\"Label\"},{\"attributes\":{\"text\":\"Comparison of Population Adjusted Daily Cases in Top 10 Most Impacted Regions Excluding Hubei\"},\"id\":\"4929\",\"type\":\"Title\"},{\"attributes\":{\"text\":\"India\",\"text_alpha\":0.8,\"text_color\":\"#8c6d31\",\"text_font_size\":\"8pt\",\"text_font_style\":\"bold\",\"x\":74,\"x_offset\":-20,\"y\":6.045768280187243,\"y_offset\":5},\"id\":\"4982\",\"type\":\"Label\"},{\"attributes\":{\"line_alpha\":{\"value\":0.1},\"line_color\":{\"field\":\"color\"},\"line_width\":{\"value\":5},\"xs\":{\"field\":\"x\"},\"ys\":{\"field\":\"y\"}},\"id\":\"4962\",\"type\":\"MultiLine\"},{\"attributes\":{\"overlay\":{\"id\":\"4970\"}},\"id\":\"4948\",\"type\":\"BoxZoomTool\"},{\"attributes\":{},\"id\":\"4936\",\"type\":\"LinearScale\"},{\"attributes\":{\"index\":2,\"label\":{\"value\":\"Germany\"},\"renderers\":[{\"id\":\"4963\"}]},\"id\":\"4973\",\"type\":\"LegendItem\"},{\"attributes\":{},\"id\":\"4931\",\"type\":\"DataRange1d\"},{\"attributes\":{\"index\":3,\"label\":{\"value\":\"India\"},\"renderers\":[{\"id\":\"4963\"}]},\"id\":\"4974\",\"type\":\"LegendItem\"},{\"attributes\":{\"data_source\":{\"id\":\"4959\"},\"glyph\":{\"id\":\"4961\"},\"hover_glyph\":null,\"muted_glyph\":null,\"nonselection_glyph\":{\"id\":\"4962\"},\"selection_glyph\":null,\"view\":{\"id\":\"4964\"}},\"id\":\"4963\",\"type\":\"GlyphRenderer\"},{\"attributes\":{\"index\":4,\"label\":{\"value\":\"Russia\"},\"renderers\":[{\"id\":\"4963\"}]},\"id\":\"4976\",\"type\":\"LegendItem\"},{\"attributes\":{\"index\":1,\"label\":{\"value\":\"France\"},\"renderers\":[{\"id\":\"4963\"}]},\"id\":\"4972\",\"type\":\"LegendItem\"},{\"attributes\":{},\"id\":\"4969\",\"type\":\"BasicTickFormatter\"},{\"attributes\":{},\"id\":\"4967\",\"type\":\"BasicTickFormatter\"},{\"attributes\":{\"text\":\"France\",\"text_alpha\":0.8,\"text_color\":\"#9c9ede\",\"text_font_size\":\"8pt\",\"text_font_style\":\"bold\",\"x\":89,\"x_offset\":-20,\"y\":12.834191317491548,\"y_offset\":5},\"id\":\"4980\",\"type\":\"Label\"},{\"attributes\":{\"end\":578.3553297133317,\"start\":0.010418526958516465},\"id\":\"4927\",\"type\":\"Range1d\"},{\"attributes\":{},\"id\":\"4943\",\"type\":\"BasicTicker\"},{\"attributes\":{},\"id\":\"4950\",\"type\":\"ResetTool\"},{\"attributes\":{\"index\":5,\"label\":{\"value\":\"Spain\"},\"renderers\":[{\"id\":\"4963\"}]},\"id\":\"4977\",\"type\":\"LegendItem\"},{\"attributes\":{\"line_color\":{\"field\":\"color\"},\"line_width\":{\"value\":5},\"xs\":{\"field\":\"x\"},\"ys\":{\"field\":\"y\"}},\"id\":\"4961\",\"type\":\"MultiLine\"},{\"attributes\":{\"index\":6,\"label\":{\"value\":\"United Kingdom\"},\"renderers\":[{\"id\":\"4963\"}]},\"id\":\"4978\",\"type\":\"LegendItem\"},{\"attributes\":{\"text\":\"United Kingdom\",\"text_alpha\":0.8,\"text_color\":\"#7b4173\",\"text_font_size\":\"8pt\",\"text_font_style\":\"bold\",\"x\":82,\"x_offset\":-20,\"y\":35.695806893374154,\"y_offset\":5},\"id\":\"4985\",\"type\":\"Label\"},{\"attributes\":{\"text\":\"Germany\",\"text_alpha\":0.8,\"text_color\":\"#8ca252\",\"text_font_size\":\"8pt\",\"text_font_style\":\"bold\",\"x\":80,\"x_offset\":-20,\"y\":5.6797268021262886,\"y_offset\":5},\"id\":\"4981\",\"type\":\"Label\"},{\"attributes\":{},\"id\":\"5159\",\"type\":\"Selection\"},{\"attributes\":{},\"id\":\"4934\",\"type\":\"LinearScale\"},{\"attributes\":{\"text\":\"Russia\",\"text_alpha\":0.8,\"text_color\":\"#e7cb94\",\"text_font_size\":\"8pt\",\"text_font_style\":\"bold\",\"x\":66,\"x_offset\":-20,\"y\":60.69325782495923,\"y_offset\":5},\"id\":\"4983\",\"type\":\"Label\"},{\"attributes\":{\"axis\":{\"id\":\"4942\"},\"dimension\":1,\"grid_line_color\":null,\"ticker\":null},\"id\":\"4945\",\"type\":\"Grid\"},{\"attributes\":{\"data\":{\"color\":[\"#393b79\",\"#9c9ede\",\"#8ca252\",\"#8c6d31\",\"#e7cb94\",\"#d6616b\",\"#7b4173\"],\"regions\":[\"New York\",\"France\",\"Germany\",\"India\",\"Russia\",\"Spain\",\"United Kingdom\"],\"x\":[[0,1,2,3,4,5,6,7,8,9,10,11,12,13,14,15,16,17,18,19,20,21,22,23,24,25,26,27,28,29,30,31,32,33,34,35,36,37,38,39,40,41,42,43,44,45,46,47,48,49,50,51,52,53,54,55,56,57,58,59,60,61,62,63,64,65,66,67,68,69,70,71,72,73,74,75,76],[0,1,2,3,4,5,6,7,8,9,10,11,12,13,14,15,16,17,18,19,20,21,22,23,24,25,26,27,28,29,30,31,32,33,34,35,36,37,38,39,40,41,42,43,44,45,46,47,48,49,50,51,52,53,54,55,56,57,58,59,60,61,62,63,64,65,66,67,68,69,70,71,72,73,74,75,76,77,78,79,80,81,82,83,84,85,86,87,88,89],[0,1,2,3,4,5,6,7,8,9,10,11,12,13,14,15,16,17,18,19,20,21,22,23,24,25,26,27,28,29,30,31,32,33,34,35,36,37,38,39,40,41,42,43,44,45,46,47,48,49,50,51,52,53,54,55,56,57,58,59,60,61,62,63,64,65,66,67,68,69,70,71,72,73,74,75,76,77,78,79,80],[0,1,2,3,4,5,6,7,8,9,10,11,12,13,14,15,16,17,18,19,20,21,22,23,24,25,26,27,28,29,30,31,32,33,34,35,36,37,38,39,40,41,42,43,44,45,46,47,48,49,50,51,52,53,54,55,56,57,58,59,60,61,62,63,64,65,66,67,68,69,70,71,72,73,74],[0,1,2,3,4,5,6,7,8,9,10,11,12,13,14,15,16,17,18,19,20,21,22,23,24,25,26,27,28,29,30,31,32,33,34,35,36,37,38,39,40,41,42,43,44,45,46,47,48,49,50,51,52,53,54,55,56,57,58,59,60,61,62,63,64,65,66],[0,1,2,3,4,5,6,7,8,9,10,11,12,13,14,15,16,17,18,19,20,21,22,23,24,25,26,27,28,29,30,31,32,33,34,35,36,37,38,39,40,41,42,43,44,45,46,47,48,49,50,51,52,53,54,55,56,57,58,59,60,61,62,63,64,65,66,67,68,69,70,71,72,73,74,75,76,77,78,79,80,81,82,83,84,85,86],[0,1,2,3,4,5,6,7,8,9,10,11,12,13,14,15,16,17,18,19,20,21,22,23,24,25,26,27,28,29,30,31,32,33,34,35,36,37,38,39,40,41,42,43,44,45,46,47,48,49,50,51,52,53,54,55,56,57,58,59,60,61,62,63,64,65,66,67,68,69,70,71,72,73,74,75,76,77,78,79,80,81,82]],\"y\":[[4.725510711597481,6.089347656442309,11.316160596415184,21.143158690891692,39.7134574155626,58.844035101358955,86.3050762880994,119.20672107103162,164.11013096859833,181.8547554347686,220.77202695820554,246.43427779606958,277.8615042602506,303.7154294795523,315.74668296056177,325.5073322306945,366.19390573663287,376.07250847226567,395.1662257000932,420.7621277136135,447.14684352766557,467.4938163264316,475.10181485118767,474.29825686746824,494.1734158042339,509.14613383115193,525.7775724666652,498.729368409175,494.87376450564074,474.14344294399933,464.37542158227296,469.99295537671486,456.2145161879852,449.00461060929206,447.81770386269733,428.53231225343205,421.4256159570515,407.0279210744464,360.6574649497223,349.9605600471826,323.77489070616184,331.1543543915115,333.8009352736698,332.709865717794,316.2627293721247,314.9652412516237,296.48340762607785,266.8770877855544,235.60467524484227,217.7420973131719,213.87912131804387,210.44372663535367,199.76893800759524,167.54552565128853,156.50950453543606,149.88936628424332,137.4821361319523,116.56014018887328,106.30556078195893,95.40223731479408,108.25179296271047,108.97425793889855,103.52628225111299,99.27258540151588,98.01932983057739,101.49895706283014,96.40484177154487,95.16633038379389,86.58521576866212,83.41521638334711,81.95554224778346,83.76170468825363,79.06568234303117,78.41693828278068,75.2911714470282,74.81198549343408,70.52880027746194],[0.4064614730769617,0.4314395524280598,0.6062861078857472,0.7697789909111172,1.3533577539322297,1.9278535790074887,2.261651548517619,2.311607707219815,3.587760488612287,4.532386034981092,4.3234784622264515,6.830369335282127,7.992985392351424,7.659187422841294,12.316463854577876,13.32466996656766,15.354706597466002,19.50560923872123,20.325344388334546,22.282717515666057,26.156590549572744,30.0259221145065,33.27080169566281,36.76319133584362,41.518109350498136,46.2139882685046,52.892218393193666,54.851862255011646,56.073517408728996,67.7223853242866,72.10944435213403,68.008497869581,71.24202377830498,70.46089111496157,68.81233787778908,67.75871707607003,59.127655293022364,56.90233549628816,61.8298293319139,59.806604904474945,57.188448041582554,113.88868816857547,113.32781675041899,116.01182491341882,114.50178647992061,133.08774825162413,127.72200266011096,120.61233298299382,70.79014761549877,67.87225380039321,62.81759883352551,50.505676447920564,27.43501406545168,26.597113039946656,30.396051835800044,20.525169023143327,23.61790939370658,24.260527253375745,23.565682500517923,19.841677942717826,16.185795419511635,15.177589307521853,14.589469075527814,7.486611601870069,3.020076866996419,16.739854634208722,16.521864123508227,19.423862797208546,17.670855773658747,17.609545942524232,17.24168695571715,16.512781185562375,7.98390245440557,8.338137034293872,6.814474193876882,5.561028757349044,5.025135418543665,4.711774059411707,5.043301294435373,7.012028094199204,5.890285257886249,5.281728415514038,6.260414979179794,5.947053620047836,5.931158478642591,3.3130016157502062,2.2139661243018858,9.089750149313282,9.471233543039146,12.834191317491548],[2.9187731240399226,2.830110513953655,5.32862286618467,6.713532835732167,8.431814219204028,10.80974542171772,13.831367173457712,18.475514689776396,23.481405655247055,28.67880785850405,31.258889812014434,33.83010550451619,38.62852596238498,42.07750149474078,44.32421203432679,50.746931508976004,55.011603054125466,62.9185346216188,66.00399345262089,67.08035753906817,68.84119697538145,71.90360352776112,72.44799195369082,71.44078470311082,68.08756478964818,67.43323472721153,64.70419958875621,63.579957692862344,62.81568599391872,59.203571259004185,54.992097279906496,51.09803544491762,49.17405680604562,47.34228728166334,42.01898417208385,38.048672492420785,34.60856322107362,34.09254683037154,32.68813108660506,30.730460655900277,30.132874663918834,30.024706279613586,28.185843746424403,27.363054724823844,24.11977644786818,23.35550474892456,22.318152210915226,20.73463799477449,20.606963836250266,19.312489728990762,17.519731753046436,16.097583487262707,14.991074113386091,13.998052880419896,13.11142677955722,12.581224371241342,11.744249332026978,11.38605238727846,11.545645085433739,11.272564246368036,11.020762433723037,11.391372143883634,10.930326571435044,10.526025069441664,8.951377114309555,8.23675647701424,7.85196074923984,7.961902385746812,7.048677501858259,8.169372893348676,7.757978382548396,8.055884752438256,7.938850107124382,7.507949822105123,7.020305466630652,7.179898164785933,6.0680690343041395,5.410192467464036,5.630075740477979,5.695686071941817,5.6797268021262886],[0.010315373226253926,0.011274942828696153,0.014513490236938664,0.01943128444945507,0.02734773366960343,0.03394477468639374,0.04557955611600572,0.04725880292027961,0.06009304635294439,0.06393132476271328,0.0771254067962939,0.07880465360056779,0.07532621379171472,0.09019954262956922,0.10327367846284455,0.1608478546093781,0.21782229975438525,0.20150961651286742,0.2512872896395579,0.30754205758273334,0.42305024847671624,0.4694694279948589,0.46994921279608,0.5016150096766736,0.6034493337358547,0.6433914184375124,0.6737378071147478,0.6806946867324538,0.7407877330853984,0.7683753591556123,0.8042392730468905,0.8101166368618491,0.8727285534212043,1.0087475445673897,0.9698849756684798,1.0306976992232557,1.0852732203621576,1.157120994345019,1.2208124267071216,1.2667518214240432,1.2324472081367337,1.308852937731196,1.3486750762325481,1.402410973969313,1.4136859167980091,1.5265552912852758,1.6091982232956126,1.753013717461641,2.0374061583854557,2.168147516718209,2.3899280410826687,2.577403952159818,2.6913528424498327,2.7718367428546746,2.9573935147269395,2.9184109996277243,2.9857008179989855,3.0068113492527146,3.0761402530291653,3.1292764197644036,3.3393022164989454,3.4229047181117243,3.545609681024024,3.860228564424769,4.074932262971218,4.345530890859924,4.679101273908903,4.890806317447719,5.138255328677508,5.352239350022124,5.31577570512932,5.524482093660504,5.656662806396921,5.841020116266133,6.045768280187243],[0.5110021707372212,0.6410027229795673,0.7830033261981297,0.9580040696012877,1.1670049574370591,1.3980059387292278,1.8420078248492402,2.1190090015502387,2.708011503632867,3.1130132240801762,3.467014727878564,3.855016376109565,4.507019145817331,5.160021919773115,5.895025042066379,6.583027964702794,7.768032998604179,8.853037607703758,10.381044098675332,11.985050912496277,13.60505779428551,15.818067195149446,17.807075644457335,20.091085346930555,23.209098592250818,27.083115049072727,28.793122313183588,31.66113449649934,33.50914234683669,34.83514797970862,36.61415553693272,37.79516055384204,38.09616183249547,40.026170031170295,40.79517329789617,41.400175867947084,43.72518574458905,45.80919459745864,49.466210132460645,53.738228279993734,58.12124689905682,61.812262578491435,66.53028262064056,70.66230017345114,73.42831192346905,74.6223169956026,75.00131860560144,76.07632317222082,76.87332655789122,76.34232430219365,75.08531896243494,74.98431853338514,73.36731166433995,72.06430612917244,69.33429453208316,67.69828758232565,66.43428221283084,65.30927743381054,63.605270195187785,63.839271189224014,62.729266473923985,62.749266558884344,62.401265080574056,61.975263270918376,61.49726124036575,61.175259872503936,60.69325782495923],[0.7549745084713709,1.1386500783502644,1.4078418088298106,1.8224589569247436,2.948732403988592,4.734061467054088,6.358494323396177,6.24401048399683,14.950970593990428,18.227683727069042,22.045874478928354,27.442085719805693,31.105568580584805,35.99433793871909,48.534959589680014,46.96312741630519,58.736397927508335,64.88448951903545,77.95421215749064,87.06031862647116,110.16748923820968,123.21864692973526,140.19319673905468,148.08948749978805,158.8602508767915,163.43341613712218,173.3904160070438,168.95029953304208,167.94779239884238,165.47556029938082,163.78305597096343,159.46051749418268,150.74427491072427,142.39004879239351,136.4585482483787,127.34625346375498,120.90112272135389,114.04756314650108,108.86794295313601,103.4191310292914,94.67813518326017,91.04249974287549,98.16525104820785,100.76434361835518,88.79923532221261,98.52726751333552,93.16818616631741,97.88987100208509,95.12988222521435,86.87157499935333,37.59711169030995,43.87206375252282,27.723654081571652,28.636430638944827,20.405970833478243,14.010346616222819,1.2716988646792355,37.829173526930255,33.03632306126568,30.421759702010327,26.442672743427607,26.473614321643645,22.921521142442277,24.790392466691085,23.642459914876007,21.64672811994144,21.30018244392179,29.162437468617505,26.922267205776222,25.88572433553889,25.041019250241003,22.667800201070754,22.030403689820332,19.64171385154206,12.902638116088593,12.398290391167146,11.955825822677776,10.820269902149116,14.359986450064069,14.208372716805473,15.699756786818593,11.739234775165498,13.063534322811998,11.460760571221138,15.065454433389775,11.572150252798883,12.18479350147647],[0.6400281863857924,0.7539122053156486,0.8450194204595337,0.7766890091016199,1.4463270404091748,2.1273534736097153,1.974748888243708,2.783325422645688,3.571402833640293,4.942566421555763,5.086060285407382,7.2544120058318455,8.832844508199654,10.347501959966742,11.632113693495521,13.955347679664591,15.72282765345596,20.42851531563762,24.052304797985652,27.493879850045904,31.52081875940562,35.283546744848074,38.886837103788736,45.428335151119676,50.2456291518526,53.8101989443571,56.518360914509074,64.4219118282411,67.11640771612151,68.53995795274471,71.19801095456755,71.42577899242727,81.06264467427172,84.4746098814102,83.07383644857298,84.3037838530154,87.98907070558556,85.96649052939132,86.58829727274833,79.56848634591199,80.23356901646235,81.51362538923394,82.27437063568539,80.10829659563952,79.76208917809274,79.68464804522046,79.19950212457925,77.80556173287782,74.64641904776362,73.81051034881847,73.11581783334634,72.26168769137243,75.56204655995965,77.4183560685163,77.17464426800642,76.89221190106036,76.1542434583949,77.08809241361973,81.72317198406486,80.77110158581127,77.23614163822855,75.16345249370515,74.21593745620875,73.96994797532025,71.68543455558734,65.15076954939218,60.212758488593614,57.73236455630135,56.71651910744703,55.830501440172746,53.1747261187285,50.91754486353875,42.33752287736338,40.44477048274916,39.82296373939215,38.70462267350096,36.1331215260648,33.659560634908324,37.37445733240024,43.155210133279745,41.497058817661035,38.782063806373266,35.695806893374154]]},\"selected\":{\"id\":\"5159\"},\"selection_policy\":{\"id\":\"5160\"}},\"id\":\"4959\",\"type\":\"ColumnDataSource\"},{\"attributes\":{},\"id\":\"4939\",\"type\":\"BasicTicker\"},{\"attributes\":{\"index\":0,\"label\":{\"value\":\"New York\"},\"renderers\":[{\"id\":\"4963\"}]},\"id\":\"4975\",\"type\":\"LegendItem\"},{\"attributes\":{},\"id\":\"4946\",\"type\":\"PanTool\"},{\"attributes\":{},\"id\":\"4951\",\"type\":\"HelpTool\"},{\"attributes\":{\"text\":\"Spain\",\"text_alpha\":0.8,\"text_color\":\"#d6616b\",\"text_font_size\":\"8pt\",\"text_font_style\":\"bold\",\"x\":86,\"x_offset\":-20,\"y\":12.18479350147647,\"y_offset\":5},\"id\":\"4984\",\"type\":\"Label\"},{\"attributes\":{},\"id\":\"4947\",\"type\":\"WheelZoomTool\"},{\"attributes\":{\"background_fill_alpha\":0.0,\"border_line_alpha\":0.0,\"border_line_color\":\"black\",\"items\":[{\"id\":\"4972\"},{\"id\":\"4973\"},{\"id\":\"4974\"},{\"id\":\"4975\"},{\"id\":\"4976\"},{\"id\":\"4977\"},{\"id\":\"4978\"}],\"label_text_font_size\":\"8pt\",\"title\":\"Region: Start Date\",\"visible\":false},\"id\":\"4971\",\"type\":\"Legend\"},{\"attributes\":{\"axis_label\":\"Daily Cases per 1M (7DMA)\",\"formatter\":{\"id\":\"4967\"},\"major_label_text_font_size\":\"16pt\",\"ticker\":{\"id\":\"4943\"}},\"id\":\"4942\",\"type\":\"LinearAxis\"},{\"attributes\":{\"bottom_units\":\"screen\",\"fill_alpha\":0.5,\"fill_color\":\"lightgrey\",\"left_units\":\"screen\",\"level\":\"overlay\",\"line_alpha\":1.0,\"line_color\":\"black\",\"line_dash\":[4,4],\"line_width\":2,\"render_mode\":\"css\",\"right_units\":\"screen\",\"top_units\":\"screen\"},\"id\":\"4970\",\"type\":\"BoxAnnotation\"},{\"attributes\":{\"source\":{\"id\":\"4959\"}},\"id\":\"4964\",\"type\":\"CDSView\"},{\"attributes\":{\"axis\":{\"id\":\"4938\"},\"grid_line_color\":null,\"ticker\":null},\"id\":\"4941\",\"type\":\"Grid\"},{\"attributes\":{\"active_drag\":\"auto\",\"active_inspect\":\"auto\",\"active_multi\":null,\"active_scroll\":\"auto\",\"active_tap\":\"auto\",\"tools\":[{\"id\":\"4946\"},{\"id\":\"4947\"},{\"id\":\"4948\"},{\"id\":\"4949\"},{\"id\":\"4950\"},{\"id\":\"4951\"}]},\"id\":\"4952\",\"type\":\"Toolbar\"},{\"attributes\":{},\"id\":\"4949\",\"type\":\"SaveTool\"},{\"attributes\":{},\"id\":\"5160\",\"type\":\"UnionRenderers\"},{\"attributes\":{\"axis_label\":\"Days Since 3 Cumulative Deaths\",\"formatter\":{\"id\":\"4969\"},\"major_label_text_font_size\":\"16pt\",\"major_tick_line_color\":null,\"ticker\":{\"id\":\"4939\"}},\"id\":\"4938\",\"type\":\"LinearAxis\"}],\"root_ids\":[\"4928\"]},\"title\":\"Bokeh Application\",\"version\":\"2.0.0\"}};\n",
       "  var render_items = [{\"docid\":\"8217b7e7-47ba-410e-91cd-924373900d46\",\"root_ids\":[\"4928\"],\"roots\":{\"4928\":\"a82c3dcb-e89c-4f58-9881-9d0839867f04\"}}];\n",
       "  root.Bokeh.embed.embed_items_notebook(docs_json, render_items);\n",
       "\n",
       "  }\n",
       "  if (root.Bokeh !== undefined) {\n",
       "    embed_document(root);\n",
       "  } else {\n",
       "    var attempts = 0;\n",
       "    var timer = setInterval(function(root) {\n",
       "      if (root.Bokeh !== undefined) {\n",
       "        clearInterval(timer);\n",
       "        embed_document(root);\n",
       "      } else {\n",
       "        attempts++;\n",
       "        if (attempts > 100) {\n",
       "          clearInterval(timer);\n",
       "          console.log(\"Bokeh: ERROR: Unable to run BokehJS code because BokehJS library is missing\");\n",
       "        }\n",
       "      }\n",
       "    }, 10, root)\n",
       "  }\n",
       "})(window);"
      ],
      "application/vnd.bokehjs_exec.v0+json": ""
     },
     "metadata": {
      "application/vnd.bokehjs_exec.v0+json": {
       "id": "4928"
      }
     },
     "output_type": "display_data"
    }
   ],
   "source": [
    "kwargs ={\n",
    "    'title': 'Comparison of Population Adjusted Daily Cases in Top 10 Most Impacted Regions Excluding Hubei',\n",
    "    'width': 925,\n",
    "    'palette_base': Category20b[20]\n",
    "}\n",
    "p = casestudy.comp_chart.make(comp_category='cases_new_dma_per_1M', comp_type='multiline', **kwargs)\n",
    "show(p)"
   ]
  },
  {
   "cell_type": "markdown",
   "metadata": {},
   "source": [
    "The above is a cluttered mess to the point where I can't even be bothered to fix the labels. \n",
    "\n",
    "There are two clear regions that separated themselves and the remaining regions were so far behind that it makes it difficult to read the chart. This is where `lognat` can come in handy."
   ]
  },
  {
   "cell_type": "code",
   "execution_count": 31,
   "metadata": {},
   "outputs": [
    {
     "data": {
      "text/html": [
       "\n",
       "\n",
       "\n",
       "\n",
       "\n",
       "\n",
       "  <div class=\"bk-root\" id=\"7d5973e9-1e45-46e0-8b1f-5ff68f0c55e3\" data-root-id=\"5211\"></div>\n"
      ]
     },
     "metadata": {},
     "output_type": "display_data"
    },
    {
     "data": {
      "application/javascript": [
       "(function(root) {\n",
       "  function embed_document(root) {\n",
       "    \n",
       "  var docs_json = {\"25c6def0-de2c-4814-853c-4298c81723e9\":{\"roots\":{\"references\":[{\"attributes\":{\"background_fill_color\":\"white\",\"below\":[{\"id\":\"5221\"}],\"border_fill_color\":\"white\",\"center\":[{\"id\":\"5224\"},{\"id\":\"5228\"},{\"id\":\"5254\"},{\"id\":\"5262\"},{\"id\":\"5263\"},{\"id\":\"5264\"},{\"id\":\"5265\"},{\"id\":\"5266\"},{\"id\":\"5267\"},{\"id\":\"5268\"}],\"left\":[{\"id\":\"5225\"}],\"min_border\":20,\"outline_line_color\":\"white\",\"plot_height\":500,\"plot_width\":925,\"renderers\":[{\"id\":\"5246\"}],\"title\":{\"id\":\"5212\"},\"toolbar\":{\"id\":\"5235\"},\"toolbar_location\":null,\"x_range\":{\"id\":\"5214\"},\"x_scale\":{\"id\":\"5217\"},\"y_range\":{\"id\":\"5210\"},\"y_scale\":{\"id\":\"5219\"}},\"id\":\"5211\",\"subtype\":\"Figure\",\"type\":\"Plot\"},{\"attributes\":{},\"id\":\"5214\",\"type\":\"DataRange1d\"},{\"attributes\":{\"text\":\"India\",\"text_alpha\":0.8,\"text_color\":\"#8c6d31\",\"text_font_size\":\"8pt\",\"text_font_style\":\"bold\",\"x\":74,\"x_offset\":-20,\"y\":1.7993585694877108,\"y_offset\":5},\"id\":\"5265\",\"type\":\"Label\"},{\"attributes\":{},\"id\":\"5234\",\"type\":\"HelpTool\"},{\"attributes\":{\"bottom_units\":\"screen\",\"fill_alpha\":0.5,\"fill_color\":\"lightgrey\",\"left_units\":\"screen\",\"level\":\"overlay\",\"line_alpha\":1.0,\"line_color\":\"black\",\"line_dash\":[4,4],\"line_width\":2,\"render_mode\":\"css\",\"right_units\":\"screen\",\"top_units\":\"screen\"},\"id\":\"5253\",\"type\":\"BoxAnnotation\"},{\"attributes\":{\"text\":\"Germany\",\"text_alpha\":0.8,\"text_color\":\"#8ca252\",\"text_font_size\":\"8pt\",\"text_font_style\":\"bold\",\"x\":80,\"x_offset\":-20,\"y\":1.736903133359101,\"y_offset\":-15},\"id\":\"5264\",\"type\":\"Label\"},{\"attributes\":{\"end\":6.8913660829988705,\"start\":-4.619861149750848},\"id\":\"5210\",\"type\":\"Range1d\"},{\"attributes\":{\"index\":6,\"label\":{\"value\":\"United Kingdom\"},\"renderers\":[{\"id\":\"5246\"}]},\"id\":\"5261\",\"type\":\"LegendItem\"},{\"attributes\":{},\"id\":\"5230\",\"type\":\"WheelZoomTool\"},{\"attributes\":{\"data_source\":{\"id\":\"5242\"},\"glyph\":{\"id\":\"5244\"},\"hover_glyph\":null,\"muted_glyph\":null,\"nonselection_glyph\":{\"id\":\"5245\"},\"selection_glyph\":null,\"view\":{\"id\":\"5247\"}},\"id\":\"5246\",\"type\":\"GlyphRenderer\"},{\"attributes\":{\"data\":{\"color\":[\"#393b79\",\"#9c9ede\",\"#8ca252\",\"#8c6d31\",\"#e7cb94\",\"#d6616b\",\"#7b4173\"],\"regions\":[\"New York\",\"France\",\"Germany\",\"India\",\"Russia\",\"Spain\",\"United Kingdom\"],\"x\":[[0,1,2,3,4,5,6,7,8,9,10,11,12,13,14,15,16,17,18,19,20,21,22,23,24,25,26,27,28,29,30,31,32,33,34,35,36,37,38,39,40,41,42,43,44,45,46,47,48,49,50,51,52,53,54,55,56,57,58,59,60,61,62,63,64,65,66,67,68,69,70,71,72,73,74,75,76],[0,1,2,3,4,5,6,7,8,9,10,11,12,13,14,15,16,17,18,19,20,21,22,23,24,25,26,27,28,29,30,31,32,33,34,35,36,37,38,39,40,41,42,43,44,45,46,47,48,49,50,51,52,53,54,55,56,57,58,59,60,61,62,63,64,65,66,67,68,69,70,71,72,73,74,75,76,77,78,79,80,81,82,83,84,85,86,87,88,89],[0,1,2,3,4,5,6,7,8,9,10,11,12,13,14,15,16,17,18,19,20,21,22,23,24,25,26,27,28,29,30,31,32,33,34,35,36,37,38,39,40,41,42,43,44,45,46,47,48,49,50,51,52,53,54,55,56,57,58,59,60,61,62,63,64,65,66,67,68,69,70,71,72,73,74,75,76,77,78,79,80],[0,1,2,3,4,5,6,7,8,9,10,11,12,13,14,15,16,17,18,19,20,21,22,23,24,25,26,27,28,29,30,31,32,33,34,35,36,37,38,39,40,41,42,43,44,45,46,47,48,49,50,51,52,53,54,55,56,57,58,59,60,61,62,63,64,65,66,67,68,69,70,71,72,73,74],[0,1,2,3,4,5,6,7,8,9,10,11,12,13,14,15,16,17,18,19,20,21,22,23,24,25,26,27,28,29,30,31,32,33,34,35,36,37,38,39,40,41,42,43,44,45,46,47,48,49,50,51,52,53,54,55,56,57,58,59,60,61,62,63,64,65,66],[0,1,2,3,4,5,6,7,8,9,10,11,12,13,14,15,16,17,18,19,20,21,22,23,24,25,26,27,28,29,30,31,32,33,34,35,36,37,38,39,40,41,42,43,44,45,46,47,48,49,50,51,52,53,54,55,56,57,58,59,60,61,62,63,64,65,66,67,68,69,70,71,72,73,74,75,76,77,78,79,80,81,82,83,84,85,86],[0,1,2,3,4,5,6,7,8,9,10,11,12,13,14,15,16,17,18,19,20,21,22,23,24,25,26,27,28,29,30,31,32,33,34,35,36,37,38,39,40,41,42,43,44,45,46,47,48,49,50,51,52,53,54,55,56,57,58,59,60,61,62,63,64,65,66,67,68,69,70,71,72,73,74,75,76,77,78,79,80,81,82]],\"y\":[[1.5529756422152932,1.8065409588156014,2.426231845315921,3.051316387014134,3.681690107975157,4.074890470903302,4.457888417774296,4.780859137865776,5.100537732744952,5.203208321406007,5.397130616876267,5.50709533641595,5.627122803440498,5.716091175764638,5.75494025590404,5.7853849874492775,5.90316299020306,5.929781966479885,5.9793065009365,6.04206765669262,6.102887049676736,6.147386121532025,6.163529128120725,6.161836357708046,6.20288649972447,6.232735075209981,6.2648782572717,6.212063600750306,6.204302708844528,6.161509898158926,6.140693323320383,6.152717706031593,6.122963129133582,6.107033156307109,6.104386238583466,6.0603661430207865,6.043643287270694,6.008881785238092,5.887928657334449,5.857820462554484,5.780048492548516,5.802584594147003,5.810544813122161,5.807270836079797,5.756573290210731,5.752462287504209,5.6919912560829715,5.586788207036333,5.462155295573931,5.383311322597202,5.365411001777926,5.349218285484337,5.297161388700999,5.121255109268636,5.053116739991925,5.009897463861416,4.92349398962607,4.758407364604769,4.666317596133563,4.558102030116293,4.684459929911348,4.691111688639455,4.639825515262803,4.5978694543998495,4.585164702389853,4.620048523185998,4.568556426201125,4.555626206801333,4.461129082387637,4.423830743362261,4.406176932528238,4.427975918411695,4.370278929090841,4.362039953546288,4.321362882872722,4.314978106013796,4.25602114097279],[-0.9002661316643584,-0.8406278653446274,-0.500403279104864,-0.2616518301246633,0.30258872956023614,0.6564072488062339,0.8160953200794847,0.8379432596053544,1.2775281885158989,1.5112485193662957,1.4640602778461969,1.921378747564617,2.0785643310870294,2.0359058975565367,2.510936892115118,2.589617201757759,2.731422045762718,2.9707020774731876,3.0118685993658256,3.10381137870138,3.2641011874213928,3.4020610790517094,3.5046801863935917,3.604497109166567,3.7261297019465216,3.833282528634735,3.9682562277262408,4.004636137922678,4.0266636406225755,4.215416779980204,4.278185025339891,4.219632666038482,4.266082865911072,4.255057819937313,4.2313830584806915,4.2159531168125834,4.079698755622242,4.041336385918902,4.124385923287093,4.091116104765052,4.0463519206746374,4.735221551812472,4.730284652025798,4.75369212481973,4.740590425317299,4.891008671965361,4.849856047805947,4.792581542605104,4.259719833043124,4.2176273177728705,4.140235270417958,3.922085734873674,3.311820083193573,3.280802677564761,3.4143127261554738,3.021651890293297,3.1620052968480197,3.1888506367247382,3.1597915224225717,2.9877846720062675,2.784134031645532,2.719819952210171,2.680299972258307,2.0131163055666175,1.105282283710686,2.8177923812846006,2.804684602132899,2.9665023512817403,2.8719167160393853,2.8684411381055255,2.8473301117081204,2.8041346983522013,2.077427321299954,2.120839814235268,1.9190489079352537,1.715783119447054,1.6144524025459361,1.5500644951596854,1.6180608863893138,1.9476269736395533,1.7733044273712757,1.6642533955734962,1.8342464735186832,1.7828959070025985,1.7802195528912081,1.197854611017672,0.7947855334927335,2.20714742148746,2.248259156691832,2.5521128062993044],[1.071163364986958,1.040315761759697,1.6730928307192507,1.904125315519211,2.1320119587294335,2.380448081116425,2.6269389964276257,2.9164463251621267,3.1562088592347344,3.3561584478697215,3.4423038097118206,3.5213511014550964,3.653991018103538,3.7395131915417004,3.791531074798915,3.926851153216623,4.007544127603028,4.141840788370537,4.189715247053852,4.205891266980579,4.231802358980979,4.275326382076963,4.282868952077423,4.2688689205940165,4.220794594273844,4.2111379932288635,4.169826108036489,4.152298290066618,4.140204819258306,4.080981865391478,4.007189489088793,3.9337460511656803,3.8953661837362334,3.8574039189656206,3.738121520257523,3.638866195195024,3.5441011433811447,3.5290787923757043,3.4870120483035523,3.4252543664595945,3.405616757284048,3.402020585390757,3.3388198570948457,3.3091937358211476,3.1830321034855267,3.1508327057489893,3.1054003478368215,3.031805634890261,3.0256290689728167,2.960752022825629,2.8633277744918564,2.778669166766354,2.707454964876678,2.6389182399727353,2.5734841232465198,2.532205573344086,2.4633637022349224,2.4323891315439914,2.446308316986805,2.4223718306863518,2.3997809876947542,2.4328562393765405,2.3915411801899493,2.3538507685971592,2.1918073879709916,2.108606634997882,2.0607632775784706,2.0746679644862427,1.9528400108383752,2.10039214868586,2.0487217825416577,2.0864028495093465,2.0717684419909084,2.015962435444753,1.9488067308560735,1.971285199782104,1.8030404382020815,1.6882846684666124,1.7281228950767349,1.739709058816595,1.736903133359101],[-4.574119950248365,-4.485172464231869,-4.232676700905132,-3.940870911269489,-3.599121617547432,-3.3830203488586355,-3.0882959937814416,-3.0521163372039393,-2.811861145417008,-2.7499458223360285,-2.5623225222642536,-2.5407832280172626,-2.585927080033674,-2.405730922552033,-2.270372742074142,-1.8272963632201944,-1.5240756873406343,-1.6019181741045683,-1.3811584141456348,-1.1791434284613123,-0.8602643162658211,-0.7561520985458515,-0.755130647997387,-0.6899223665132939,-0.5050931960105544,-0.4410020021003038,-0.39491425396944013,-0.38464140415226966,-0.30004115479726073,-0.2634769163327695,-0.21785845078609406,-0.21057704555635995,-0.13613070686386017,0.00870950646512064,-0.030577796301156708,0.030235950811350037,0.08183177129408364,0.14593501866868056,0.19951656064690496,0.23645600324460142,0.20900179286256237,0.2691511335813704,0.2991226855245494,0.3381928797292636,0.34620041889598574,0.42301375349017406,0.47573605700117183,0.5613364310434732,0.7116775078380816,0.7738731240292973,0.8712632571565428,0.9467826722611457,0.990043982603037,1.0195101845192027,1.0843083110580238,1.0710392899518073,1.0938344991872355,1.1008801648426931,1.1236756465171882,1.1408018020326989,1.205761867946483,1.2304895233767297,1.265710128560265,1.3507263953052309,1.4048541239709191,1.4691479355710484,1.5431060559988292,1.5873571809873417,1.6367135916292146,1.677515043429482,1.6706789475472772,1.7091895043060885,1.7328341081494343,1.7649054590286386,1.7993585694877108],[-0.67138144076941,-0.4447215740524441,-0.24461833498231111,-0.04290325300225369,0.15444060131344164,0.3350468918206414,0.610856185842138,0.7509485272951849,0.9962146030590512,1.135591139468494,1.243293914711909,1.3493752550243154,1.505635991717534,1.6409408275024941,1.7741087819983572,1.8844948164947624,2.0500169789980465,2.1807606326379347,2.339981460220131,2.4836601158953706,2.6104416202442327,2.7611527801062485,2.8795958864282,3.0002762016050455,3.1445443824899804,3.298910472782712,3.360136550052579,3.455089887560042,3.5118183074747082,3.5506268764911053,3.6004349289378457,3.632181066753163,3.6401135377535296,3.689533490964456,3.7085637728897862,3.7232851288402915,3.7779242689136887,3.8244848263744973,3.9012898128944276,3.9841246342775523,4.06253129234423,4.124101768380472,4.197657221762819,4.257912194096489,4.296309582277426,4.312439617908682,4.317505694789778,4.331737088628437,4.342158957537113,4.3352274935682065,4.318625053141266,4.317279005453208,4.295478491252377,4.277558861086193,4.238939654380618,4.215060885393386,4.196213221632241,4.1791341002154905,4.1526963316171965,4.1563685368674905,4.138828108654726,4.139146889638953,4.133585548897021,4.126735325930277,4.118992641143883,4.113742857337758,4.105832618172409],[-0.2810712939171942,0.1298434189585349,0.34205789974055434,0.6001866644411905,1.0813753844438059,1.554783495176085,1.8497916077199388,1.831622681703158,2.7047762204042547,2.9029415223112913,3.093125485926455,3.3120778101660564,3.437386857195024,3.5833616466063702,3.8822843545622154,3.849362770753462,4.0730596015801455,4.1726086046855695,4.356121630701852,4.466601195966652,4.702001837205829,4.813960394595565,4.943021448024055,4.997816736308654,5.068024890435714,5.096405666640727,5.155545791809969,5.129604586068121,5.12365317157681,5.1088235120054835,5.09854272266762,5.071796352360584,5.015584857511173,4.958570114460121,4.916020892670117,4.846909781783879,4.794973043941185,4.736615581965532,4.690135615190253,4.638789964585951,4.550483088457519,4.511326427633707,4.5866522937580045,4.612784559113769,4.486378038724703,4.590333337414921,4.534406313271514,4.58384308148807,4.555243139177174,4.4644308786399165,3.6269272306982154,3.7812777565271616,3.32228598675858,3.3546797057972015,3.015827545941019,2.6397961006726227,0.24035369528583858,3.633080591378275,3.497607654967906,3.415158132035475,3.274979096993574,3.2761485509919,3.132076257115619,3.210456177575313,3.1630442444371707,3.0748543169280964,3.0587156381210336,3.3728814931058153,3.2929537213556284,3.253691632791748,3.2205152502853056,3.120945424128364,3.092423485195625,2.9776555624359036,2.557431795582451,2.5175585914257486,2.4812186761220123,2.3814212178529797,2.66444562003078,2.6538314187890064,2.7536452209488314,2.4629366312845633,2.56982470919787,2.4389290765556737,2.712404336972305,2.4486013711981816,2.500188739988675],[-0.4462430623704053,-0.28247935632708826,-0.16839566909671594,-0.25271525442063436,0.36902726718854045,0.7548787065246914,0.6804412450763907,1.0236464080273895,1.272958469206202,1.597884714830354,1.6265035201360067,1.9816098363021126,2.178477104098446,2.3367451340552523,2.453769694943493,2.6358627810215034,2.7551136469993245,3.016931734413852,3.1802308255561016,3.313963428996976,3.450648240521779,3.5634167574022118,3.6606558155670825,3.816136032635356,3.916923561103342,3.9854630206577926,4.034565557298666,4.16545382101998,4.206428540406686,4.227416902975961,4.265464881996357,4.268658854496666,4.395222246800087,4.4364510144353275,4.419729808106737,4.434426749564129,4.477212610237743,4.45395757531509,4.461164671018166,4.376618114284187,4.38494199358809,4.400770188963335,4.410059645279458,4.383379426683513,4.379048318616622,4.378076945475846,4.3719700124948035,4.354212916198355,4.312762552945306,4.301501138116795,4.2920447295766975,4.28029408126425,4.324954127496257,4.3492239109860105,4.346070960957534,4.342404595713956,4.332760802783928,4.344948825238557,4.403337584468582,4.391619247912782,4.346867503415533,4.319665108744466,4.306978917624098,4.303658902278186,4.272287582695444,4.176704115464135,4.097884264886193,4.055817927116803,4.038065510584801,4.022320340836167,3.9735832105084574,3.93020755696393,3.745673758500718,3.6999373516546834,3.684443724279054,3.6559590418299543,3.5872099384954805,3.5162971356444417,3.6209875120709993,3.7648031549282113,3.725622552861534,3.657957866716493,3.5750332279202257]]},\"selected\":{\"id\":\"5450\"},\"selection_policy\":{\"id\":\"5451\"}},\"id\":\"5242\",\"type\":\"ColumnDataSource\"},{\"attributes\":{\"index\":3,\"label\":{\"value\":\"India\"},\"renderers\":[{\"id\":\"5246\"}]},\"id\":\"5257\",\"type\":\"LegendItem\"},{\"attributes\":{\"source\":{\"id\":\"5242\"}},\"id\":\"5247\",\"type\":\"CDSView\"},{\"attributes\":{\"axis_label\":\"Daily Cases per 1M (7DMA)\\n(Natural Log)\",\"formatter\":{\"id\":\"5250\"},\"major_label_text_font_size\":\"16pt\",\"ticker\":{\"id\":\"5226\"}},\"id\":\"5225\",\"type\":\"LinearAxis\"},{\"attributes\":{},\"id\":\"5217\",\"type\":\"LinearScale\"},{\"attributes\":{},\"id\":\"5222\",\"type\":\"BasicTicker\"},{\"attributes\":{\"text\":\"United Kingdom\",\"text_alpha\":0.8,\"text_color\":\"#7b4173\",\"text_font_size\":\"8pt\",\"text_font_style\":\"bold\",\"x\":82,\"x_offset\":-20,\"y\":3.5750332279202257,\"y_offset\":5},\"id\":\"5268\",\"type\":\"Label\"},{\"attributes\":{\"active_drag\":\"auto\",\"active_inspect\":\"auto\",\"active_multi\":null,\"active_scroll\":\"auto\",\"active_tap\":\"auto\",\"tools\":[{\"id\":\"5229\"},{\"id\":\"5230\"},{\"id\":\"5231\"},{\"id\":\"5232\"},{\"id\":\"5233\"},{\"id\":\"5234\"}]},\"id\":\"5235\",\"type\":\"Toolbar\"},{\"attributes\":{\"index\":0,\"label\":{\"value\":\"New York\"},\"renderers\":[{\"id\":\"5246\"}]},\"id\":\"5258\",\"type\":\"LegendItem\"},{\"attributes\":{\"index\":5,\"label\":{\"value\":\"Spain\"},\"renderers\":[{\"id\":\"5246\"}]},\"id\":\"5260\",\"type\":\"LegendItem\"},{\"attributes\":{\"text\":\"Russia\",\"text_alpha\":0.8,\"text_color\":\"#e7cb94\",\"text_font_size\":\"8pt\",\"text_font_style\":\"bold\",\"x\":66,\"x_offset\":-20,\"y\":4.105832618172409,\"y_offset\":5},\"id\":\"5266\",\"type\":\"Label\"},{\"attributes\":{\"index\":1,\"label\":{\"value\":\"France\"},\"renderers\":[{\"id\":\"5246\"}]},\"id\":\"5255\",\"type\":\"LegendItem\"},{\"attributes\":{\"axis_label\":\"Days Since 3 Cumulative Deaths\",\"formatter\":{\"id\":\"5252\"},\"major_label_text_font_size\":\"16pt\",\"major_tick_line_color\":null,\"ticker\":{\"id\":\"5222\"}},\"id\":\"5221\",\"type\":\"LinearAxis\"},{\"attributes\":{\"text\":\"New York\",\"text_alpha\":0.8,\"text_color\":\"#393b79\",\"text_font_size\":\"8pt\",\"text_font_style\":\"bold\",\"x\":76,\"y\":4.25602114097279,\"y_offset\":-15},\"id\":\"5262\",\"type\":\"Label\"},{\"attributes\":{\"text\":\"France\",\"text_alpha\":0.8,\"text_color\":\"#9c9ede\",\"text_font_size\":\"8pt\",\"text_font_style\":\"bold\",\"x\":89,\"x_offset\":-10,\"y\":2.5521128062993044,\"y_offset\":15},\"id\":\"5263\",\"type\":\"Label\"},{\"attributes\":{\"text\":\"Spain\",\"text_alpha\":0.8,\"text_color\":\"#d6616b\",\"text_font_size\":\"8pt\",\"text_font_style\":\"bold\",\"x\":86,\"x_offset\":-20,\"y\":2.500188739988675,\"y_offset\":5},\"id\":\"5267\",\"type\":\"Label\"},{\"attributes\":{},\"id\":\"5232\",\"type\":\"SaveTool\"},{\"attributes\":{\"axis\":{\"id\":\"5225\"},\"dimension\":1,\"grid_line_color\":null,\"ticker\":null},\"id\":\"5228\",\"type\":\"Grid\"},{\"attributes\":{\"index\":4,\"label\":{\"value\":\"Russia\"},\"renderers\":[{\"id\":\"5246\"}]},\"id\":\"5259\",\"type\":\"LegendItem\"},{\"attributes\":{},\"id\":\"5229\",\"type\":\"PanTool\"},{\"attributes\":{\"index\":2,\"label\":{\"value\":\"Germany\"},\"renderers\":[{\"id\":\"5246\"}]},\"id\":\"5256\",\"type\":\"LegendItem\"},{\"attributes\":{\"line_alpha\":{\"value\":0.1},\"line_color\":{\"field\":\"color\"},\"line_width\":{\"value\":5},\"xs\":{\"field\":\"x\"},\"ys\":{\"field\":\"y\"}},\"id\":\"5245\",\"type\":\"MultiLine\"},{\"attributes\":{},\"id\":\"5219\",\"type\":\"LinearScale\"},{\"attributes\":{},\"id\":\"5450\",\"type\":\"Selection\"},{\"attributes\":{},\"id\":\"5226\",\"type\":\"BasicTicker\"},{\"attributes\":{},\"id\":\"5250\",\"type\":\"BasicTickFormatter\"},{\"attributes\":{},\"id\":\"5451\",\"type\":\"UnionRenderers\"},{\"attributes\":{},\"id\":\"5233\",\"type\":\"ResetTool\"},{\"attributes\":{\"overlay\":{\"id\":\"5253\"}},\"id\":\"5231\",\"type\":\"BoxZoomTool\"},{\"attributes\":{\"text\":\"Comparison of Population Adjusted Daily Cases in Top 10 Most Impacted Regions Excluding Hubei\"},\"id\":\"5212\",\"type\":\"Title\"},{\"attributes\":{\"line_color\":{\"field\":\"color\"},\"line_width\":{\"value\":5},\"xs\":{\"field\":\"x\"},\"ys\":{\"field\":\"y\"}},\"id\":\"5244\",\"type\":\"MultiLine\"},{\"attributes\":{},\"id\":\"5252\",\"type\":\"BasicTickFormatter\"},{\"attributes\":{\"background_fill_alpha\":0.0,\"border_line_alpha\":0.0,\"border_line_color\":\"black\",\"items\":[{\"id\":\"5255\"},{\"id\":\"5256\"},{\"id\":\"5257\"},{\"id\":\"5258\"},{\"id\":\"5259\"},{\"id\":\"5260\"},{\"id\":\"5261\"}],\"label_text_font_size\":\"8pt\",\"title\":\"Region: Start Date\",\"visible\":false},\"id\":\"5254\",\"type\":\"Legend\"},{\"attributes\":{\"axis\":{\"id\":\"5221\"},\"grid_line_color\":null,\"ticker\":null},\"id\":\"5224\",\"type\":\"Grid\"}],\"root_ids\":[\"5211\"]},\"title\":\"Bokeh Application\",\"version\":\"2.0.0\"}};\n",
       "  var render_items = [{\"docid\":\"25c6def0-de2c-4814-853c-4298c81723e9\",\"root_ids\":[\"5211\"],\"roots\":{\"5211\":\"7d5973e9-1e45-46e0-8b1f-5ff68f0c55e3\"}}];\n",
       "  root.Bokeh.embed.embed_items_notebook(docs_json, render_items);\n",
       "\n",
       "  }\n",
       "  if (root.Bokeh !== undefined) {\n",
       "    embed_document(root);\n",
       "  } else {\n",
       "    var attempts = 0;\n",
       "    var timer = setInterval(function(root) {\n",
       "      if (root.Bokeh !== undefined) {\n",
       "        clearInterval(timer);\n",
       "        embed_document(root);\n",
       "      } else {\n",
       "        attempts++;\n",
       "        if (attempts > 100) {\n",
       "          clearInterval(timer);\n",
       "          console.log(\"Bokeh: ERROR: Unable to run BokehJS code because BokehJS library is missing\");\n",
       "        }\n",
       "      }\n",
       "    }, 10, root)\n",
       "  }\n",
       "})(window);"
      ],
      "application/vnd.bokehjs_exec.v0+json": ""
     },
     "metadata": {
      "application/vnd.bokehjs_exec.v0+json": {
       "id": "5211"
      }
     },
     "output_type": "display_data"
    }
   ],
   "source": [
    "kwargs ={\n",
    "    'title': 'Comparison of Population Adjusted Daily Cases in Top 10 Most Impacted Regions Excluding Hubei',\n",
    "    'width': 925,\n",
    "    'palette_base': Category20b[20],\n",
    "    'label_offsets': {\n",
    "        'New Jersey': {'x_offset': -5, 'y_offset': 5},\n",
    "        'New York': {'x_offset': 20, 'y_offset': -20},\n",
    "        'France': {'x_offset': 10, 'y_offset': 10},\n",
    "        'Germany': {'x_offset': 0, 'y_offset': -20},\n",
    "    }, \n",
    "}\n",
    "p = casestudy.comp_chart.make(comp_category='cases_new_dma_per_1M_lognat', comp_type='multiline', **kwargs)\n",
    "show(p)"
   ]
  },
  {
   "cell_type": "markdown",
   "metadata": {},
   "source": [
    "<h2><a id='section4.3'>4.3 Factor Comparison: Oxford Government Tracker</a></h2>"
   ]
  },
  {
   "cell_type": "markdown",
   "metadata": {},
   "source": [
    "**Oxford Stringency Index from day of 1st Death**\n",
    "\n",
    "The comparison chart can be used to compare any time-dynamic variable provided by the `factor` attribute.\n",
    "\n",
    "The below chart compares the Oxford Stringency Index for each selected region"
   ]
  },
  {
   "cell_type": "code",
   "execution_count": 32,
   "metadata": {},
   "outputs": [
    {
     "data": {
      "text/html": [
       "\n",
       "\n",
       "\n",
       "\n",
       "\n",
       "\n",
       "  <div class=\"bk-root\" id=\"d7462e10-8f52-42bb-9d9d-9b35e2de11de\" data-root-id=\"5502\"></div>\n"
      ]
     },
     "metadata": {},
     "output_type": "display_data"
    },
    {
     "data": {
      "application/javascript": [
       "(function(root) {\n",
       "  function embed_document(root) {\n",
       "    \n",
       "  var docs_json = {\"55b5aa48-226b-4ae0-b54e-7996b59adea7\":{\"roots\":{\"references\":[{\"attributes\":{\"background_fill_color\":\"white\",\"below\":[{\"id\":\"5512\"}],\"border_fill_color\":\"white\",\"center\":[{\"id\":\"5515\"},{\"id\":\"5519\"},{\"id\":\"5545\"},{\"id\":\"5549\"},{\"id\":\"5550\"},{\"id\":\"5551\"}],\"left\":[{\"id\":\"5516\"}],\"min_border\":20,\"outline_line_color\":\"white\",\"plot_height\":500,\"plot_width\":825,\"renderers\":[{\"id\":\"5537\"}],\"title\":{\"id\":\"5503\"},\"toolbar\":{\"id\":\"5526\"},\"toolbar_location\":null,\"x_range\":{\"id\":\"5505\"},\"x_scale\":{\"id\":\"5508\"},\"y_range\":{\"id\":\"5501\"},\"y_scale\":{\"id\":\"5510\"}},\"id\":\"5502\",\"subtype\":\"Figure\",\"type\":\"Plot\"},{\"attributes\":{},\"id\":\"5520\",\"type\":\"PanTool\"},{\"attributes\":{\"data_source\":{\"id\":\"5533\"},\"glyph\":{\"id\":\"5535\"},\"hover_glyph\":null,\"muted_glyph\":null,\"nonselection_glyph\":{\"id\":\"5536\"},\"selection_glyph\":null,\"view\":{\"id\":\"5538\"}},\"id\":\"5537\",\"type\":\"GlyphRenderer\"},{\"attributes\":{},\"id\":\"5525\",\"type\":\"HelpTool\"},{\"attributes\":{},\"id\":\"5510\",\"type\":\"LinearScale\"},{\"attributes\":{\"source\":{\"id\":\"5533\"}},\"id\":\"5538\",\"type\":\"CDSView\"},{\"attributes\":{\"active_drag\":\"auto\",\"active_inspect\":\"auto\",\"active_multi\":null,\"active_scroll\":\"auto\",\"active_tap\":\"auto\",\"tools\":[{\"id\":\"5520\"},{\"id\":\"5521\"},{\"id\":\"5522\"},{\"id\":\"5523\"},{\"id\":\"5524\"},{\"id\":\"5525\"}]},\"id\":\"5526\",\"type\":\"Toolbar\"},{\"attributes\":{\"background_fill_alpha\":0.0,\"border_line_alpha\":0.0,\"border_line_color\":\"black\",\"items\":[{\"id\":\"5546\"},{\"id\":\"5547\"},{\"id\":\"5548\"}],\"label_text_font_size\":\"8pt\",\"title\":\"Region: Start Date\",\"visible\":false},\"id\":\"5545\",\"type\":\"Legend\"},{\"attributes\":{\"text\":\"Germany\",\"text_alpha\":0.8,\"text_color\":\"#393b79\",\"text_font_size\":\"8pt\",\"text_font_style\":\"bold\",\"x\":118,\"x_offset\":-20,\"y\":50.0,\"y_offset\":5},\"id\":\"5549\",\"type\":\"Label\"},{\"attributes\":{\"axis_label\":\"Days Since 10 Cumulative Cases\",\"formatter\":{\"id\":\"5543\"},\"major_label_text_font_size\":\"16pt\",\"major_tick_line_color\":null,\"ticker\":{\"id\":\"5513\"}},\"id\":\"5512\",\"type\":\"LinearAxis\"},{\"attributes\":{},\"id\":\"5543\",\"type\":\"BasicTickFormatter\"},{\"attributes\":{\"data\":{\"color\":[\"#393b79\",\"#b5cf6b\",\"#ad494a\"],\"regions\":[\"Germany\",\"Spain\",\"Taiwan\"],\"x\":[[0,1,2,3,4,5,6,7,8,9,10,11,12,13,14,15,16,17,18,19,20,21,22,23,24,25,26,27,28,29,30,31,32,33,34,35,36,37,38,39,40,41,42,43,44,45,46,47,48,49,50,51,52,53,54,55,56,57,58,59,60,61,62,63,64,65,66,67,68,69,70,71,72,73,74,75,76,77,78,79,80,81,82,83,84,85,86,87,88,89,90,91,92,93,94,95,96,97,98,99,100,101,102,103,104,105,106,107,108,109,110,111,112,113,114,115,116,117,118],[0,1,2,3,4,5,6,7,8,9,10,11,12,13,14,15,16,17,18,19,20,21,22,23,24,25,26,27,28,29,30,31,32,33,34,35,36,37,38,39,40,41,42,43,44,45,46,47,48,49,50,51,52,53,54,55,56,57,58,59,60,61,62,63,64,65,66,67,68,69,70,71,72,73,74,75,76,77,78,79,80,81,82,83,84,85,86,87,88,89,90,91,92,93,94],[0,1,2,3,4,5,6,7,8,9,10,11,12,13,14,15,16,17,18,19,20,21,22,23,24,25,26,27,28,29,30,31,32,33,34,35,36,37,38,39,40,41,42,43,44,45,46,47,48,49,50,51,52,53,54,55,56,57,58,59,60,61,62,63,64,65,66,67,68,69,70,71,72,73,74,75,76,77,78,79,80,81,82,83,84,85,86,87,88,89,90,91,92,93,94,95,96,97,98,99,100,101,102,103,104,105,106,107,108,109,110,111,112,113,114,115,116,117,118,119,120]],\"y\":[[5.56,5.56,5.56,5.56,5.56,5.56,5.56,5.56,5.56,5.56,11.11,11.11,11.11,11.11,11.11,11.11,11.11,11.11,11.11,11.11,11.11,11.11,11.11,11.11,16.67,16.67,19.44,25.0,25.0,25.0,25.0,25.0,25.0,25.0,25.0,25.0,28.7,32.87,32.87,32.87,32.87,32.87,32.87,42.13,42.13,52.31,55.09,57.87,68.06,73.15,73.15,73.15,73.15,73.15,73.15,73.15,73.15,73.15,73.15,73.15,73.15,73.15,73.15,73.15,73.15,73.15,73.15,73.15,73.15,73.15,73.15,73.15,73.15,73.15,73.15,73.15,73.15,73.15,73.15,73.15,73.15,73.15,73.15,73.15,73.15,73.15,73.15,73.15,73.15,73.15,73.15,73.15,68.06,68.06,62.5,60.65,64.35,64.35,64.35,64.35,64.35,64.35,64.35,64.35,61.57,61.57,62.96,52.78,52.78,52.78,52.78,52.78,52.78,50.0,50.0,50.0,50.0,50.0,50.0],[11.11,11.11,11.11,11.11,11.11,11.11,11.11,11.11,11.11,11.11,11.11,11.11,25.0,45.83,45.83,45.83,45.83,67.13,67.13,68.98,71.76,71.76,71.76,71.76,71.76,71.76,71.76,71.76,71.76,71.76,71.76,71.76,71.76,85.19,85.19,85.19,85.19,85.19,85.19,85.19,85.19,85.19,85.19,85.19,85.19,85.19,85.19,85.19,85.19,85.19,85.19,85.19,85.19,85.19,85.19,85.19,85.19,85.19,85.19,85.19,85.19,85.19,85.19,85.19,85.19,85.19,85.19,85.19,81.94,81.94,81.94,81.94,81.94,81.94,81.94,81.94,81.94,83.33,83.33,83.33,83.33,79.17,79.17,79.17,79.17,79.17,79.17,79.17,79.17,79.17,79.17,79.17,79.17,79.17,79.17],[19.44,19.44,30.56,30.56,30.56,30.56,30.56,30.56,30.56,30.56,30.56,30.56,30.56,30.56,30.56,30.56,30.56,30.56,30.56,30.56,30.56,30.56,30.56,30.56,30.56,19.44,19.44,19.44,19.44,19.44,19.44,19.44,19.44,19.44,25.0,25.0,25.0,25.0,25.0,25.0,25.0,25.0,25.0,25.0,25.0,25.0,25.0,25.0,27.78,27.78,27.78,27.78,27.78,27.78,27.78,27.78,27.78,27.78,27.78,27.78,27.78,27.78,27.78,27.78,27.78,27.78,27.78,27.78,27.78,27.78,27.78,27.78,27.78,27.78,27.78,27.78,27.78,27.78,27.78,27.78,27.78,27.78,27.78,27.78,27.78,27.78,27.78,27.78,27.78,27.78,27.78,27.78,27.78,27.78,27.78,27.78,27.78,27.78,22.22,22.22,22.22,22.22,22.22,22.22,22.22,22.22,22.22,22.22,22.22,22.22,22.22,22.22,22.22,22.22,22.22,22.22,22.22,22.22,22.22,22.22,22.22]]},\"selected\":{\"id\":\"5741\"},\"selection_policy\":{\"id\":\"5742\"}},\"id\":\"5533\",\"type\":\"ColumnDataSource\"},{\"attributes\":{},\"id\":\"5741\",\"type\":\"Selection\"},{\"attributes\":{},\"id\":\"5505\",\"type\":\"DataRange1d\"},{\"attributes\":{},\"id\":\"5541\",\"type\":\"BasicTickFormatter\"},{\"attributes\":{},\"id\":\"5742\",\"type\":\"UnionRenderers\"},{\"attributes\":{\"axis_label\":\"Oxford Stringency Index\",\"formatter\":{\"id\":\"5541\"},\"major_label_text_font_size\":\"16pt\",\"ticker\":{\"id\":\"5517\"}},\"id\":\"5516\",\"type\":\"LinearAxis\"},{\"attributes\":{\"axis\":{\"id\":\"5516\"},\"dimension\":1,\"grid_line_color\":null,\"ticker\":null},\"id\":\"5519\",\"type\":\"Grid\"},{\"attributes\":{\"text\":\"Spain\",\"text_alpha\":0.8,\"text_color\":\"#b5cf6b\",\"text_font_size\":\"8pt\",\"text_font_style\":\"bold\",\"x\":94,\"x_offset\":-20,\"y\":79.17,\"y_offset\":5},\"id\":\"5550\",\"type\":\"Label\"},{\"attributes\":{\"line_alpha\":{\"value\":0.1},\"line_color\":{\"field\":\"color\"},\"line_width\":{\"value\":5},\"xs\":{\"field\":\"x\"},\"ys\":{\"field\":\"y\"}},\"id\":\"5536\",\"type\":\"MultiLine\"},{\"attributes\":{},\"id\":\"5513\",\"type\":\"BasicTicker\"},{\"attributes\":{\"axis\":{\"id\":\"5512\"},\"grid_line_color\":null,\"ticker\":null},\"id\":\"5515\",\"type\":\"Grid\"},{\"attributes\":{},\"id\":\"5508\",\"type\":\"LinearScale\"},{\"attributes\":{},\"id\":\"5517\",\"type\":\"BasicTicker\"},{\"attributes\":{\"text\":\"Taiwan\",\"text_alpha\":0.8,\"text_color\":\"#ad494a\",\"text_font_size\":\"8pt\",\"text_font_style\":\"bold\",\"x\":120,\"x_offset\":-10,\"y\":22.22,\"y_offset\":10},\"id\":\"5551\",\"type\":\"Label\"},{\"attributes\":{\"end\":93.709,\"start\":5.6156},\"id\":\"5501\",\"type\":\"Range1d\"},{\"attributes\":{\"line_color\":{\"field\":\"color\"},\"line_width\":{\"value\":5},\"xs\":{\"field\":\"x\"},\"ys\":{\"field\":\"y\"}},\"id\":\"5535\",\"type\":\"MultiLine\"},{\"attributes\":{},\"id\":\"5521\",\"type\":\"WheelZoomTool\"},{\"attributes\":{\"bottom_units\":\"screen\",\"fill_alpha\":0.5,\"fill_color\":\"lightgrey\",\"left_units\":\"screen\",\"level\":\"overlay\",\"line_alpha\":1.0,\"line_color\":\"black\",\"line_dash\":[4,4],\"line_width\":2,\"render_mode\":\"css\",\"right_units\":\"screen\",\"top_units\":\"screen\"},\"id\":\"5544\",\"type\":\"BoxAnnotation\"},{\"attributes\":{\"index\":0,\"label\":{\"value\":\"Germany\"},\"renderers\":[{\"id\":\"5537\"}]},\"id\":\"5546\",\"type\":\"LegendItem\"},{\"attributes\":{\"index\":2,\"label\":{\"value\":\"Taiwan\"},\"renderers\":[{\"id\":\"5537\"}]},\"id\":\"5548\",\"type\":\"LegendItem\"},{\"attributes\":{},\"id\":\"5524\",\"type\":\"ResetTool\"},{\"attributes\":{\"index\":1,\"label\":{\"value\":\"Spain\"},\"renderers\":[{\"id\":\"5537\"}]},\"id\":\"5547\",\"type\":\"LegendItem\"},{\"attributes\":{},\"id\":\"5523\",\"type\":\"SaveTool\"},{\"attributes\":{\"overlay\":{\"id\":\"5544\"}},\"id\":\"5522\",\"type\":\"BoxZoomTool\"},{\"attributes\":{\"text\":\"\"},\"id\":\"5503\",\"type\":\"Title\"}],\"root_ids\":[\"5502\"]},\"title\":\"Bokeh Application\",\"version\":\"2.0.0\"}};\n",
       "  var render_items = [{\"docid\":\"55b5aa48-226b-4ae0-b54e-7996b59adea7\",\"root_ids\":[\"5502\"],\"roots\":{\"5502\":\"d7462e10-8f52-42bb-9d9d-9b35e2de11de\"}}];\n",
       "  root.Bokeh.embed.embed_items_notebook(docs_json, render_items);\n",
       "\n",
       "  }\n",
       "  if (root.Bokeh !== undefined) {\n",
       "    embed_document(root);\n",
       "  } else {\n",
       "    var attempts = 0;\n",
       "    var timer = setInterval(function(root) {\n",
       "      if (root.Bokeh !== undefined) {\n",
       "        clearInterval(timer);\n",
       "        embed_document(root);\n",
       "      } else {\n",
       "        attempts++;\n",
       "        if (attempts > 100) {\n",
       "          clearInterval(timer);\n",
       "          console.log(\"Bokeh: ERROR: Unable to run BokehJS code because BokehJS library is missing\");\n",
       "        }\n",
       "      }\n",
       "    }, 10, root)\n",
       "  }\n",
       "})(window);"
      ],
      "application/vnd.bokehjs_exec.v0+json": ""
     },
     "metadata": {
      "application/vnd.bokehjs_exec.v0+json": {
       "id": "5502"
      }
     },
     "output_type": "display_data"
    }
   ],
   "source": [
    "regions = ['Germany', 'Spain', 'Taiwan']\n",
    "\n",
    "casestudy = CaseStudy(\n",
    "    baseframe, count_categories='cases_new_per_1M', regions=regions, \n",
    "    start_hurdle=10, start_factor='cases', factors=['strindex']\n",
    ")\n",
    "kwargs = {\n",
    "    'width': 825, 'height': 500,\n",
    "    'palette_base': Category20b[20],\n",
    "    'label_offsets': {\n",
    "        'Taiwan': {'x_offset': 10, 'y_offset': 5},\n",
    "    },\n",
    "}\n",
    "p = casestudy.comp_chart.make(comp_category='strindex', comp_type='multiline', **kwargs)\n",
    "show(p)"
   ]
  },
  {
   "cell_type": "markdown",
   "metadata": {},
   "source": [
    "<h2><a id='section4.4'>4.4 MultiBar Comparison</a></h2>\n",
    "\n",
    "Staggered bar charts are available by selecting `v-bar` for the `comp_type` parameter. `v-bar` is also the default parameter. The chart staggers the outcomes for individual regions on each day around the midpoint.\n",
    "\n",
    "can provide more clear point-to-point comparisons between two or three regions. If you are interested in more than three regions, the 4D Bar chart is recommended.\n",
    "\n",
    "Options for tinkering with the color scheme are also shown.\n",
    "\n",
    "**NOTE:** Despite its low score on the Oxford Stringency Index, Taiwan ***doesn't even register on the page*** and so has been removed from the comparison."
   ]
  },
  {
   "cell_type": "code",
   "execution_count": 36,
   "metadata": {},
   "outputs": [
    {
     "data": {
      "text/html": [
       "\n",
       "\n",
       "\n",
       "\n",
       "\n",
       "\n",
       "  <div class=\"bk-root\" id=\"430601b5-fc00-402a-91e4-4226ed8c1dc8\" data-root-id=\"6823\"></div>\n"
      ]
     },
     "metadata": {},
     "output_type": "display_data"
    },
    {
     "data": {
      "application/javascript": [
       "(function(root) {\n",
       "  function embed_document(root) {\n",
       "    \n",
       "  var docs_json = {\"8dd44750-bc69-4247-a932-10e36145ca09\":{\"roots\":{\"references\":[{\"attributes\":{\"background_fill_color\":\"white\",\"below\":[{\"id\":\"6833\"}],\"border_fill_color\":\"white\",\"center\":[{\"id\":\"6836\"},{\"id\":\"6840\"},{\"id\":\"6867\"}],\"left\":[{\"id\":\"6837\"}],\"min_border\":20,\"outline_line_color\":\"white\",\"plot_height\":500,\"plot_width\":825,\"renderers\":[{\"id\":\"6859\"},{\"id\":\"6873\"}],\"title\":{\"id\":\"6824\"},\"toolbar\":{\"id\":\"6847\"},\"toolbar_location\":null,\"x_range\":{\"id\":\"6826\"},\"x_scale\":{\"id\":\"6829\"},\"y_range\":{\"id\":\"6822\"},\"y_scale\":{\"id\":\"6831\"}},\"id\":\"6823\",\"subtype\":\"Figure\",\"type\":\"Plot\"},{\"attributes\":{\"axis\":{\"id\":\"6833\"},\"grid_line_color\":null,\"ticker\":null},\"id\":\"6836\",\"type\":\"Grid\"},{\"attributes\":{},\"id\":\"6826\",\"type\":\"DataRange1d\"},{\"attributes\":{\"range\":{\"id\":\"6826\"},\"value\":0.125},\"id\":\"6869\",\"type\":\"Dodge\"},{\"attributes\":{\"axis\":{\"id\":\"6837\"},\"dimension\":1,\"grid_line_color\":null,\"ticker\":null},\"id\":\"6840\",\"type\":\"Grid\"},{\"attributes\":{\"axis_label\":\"Daily Cases per 1M (14DMA)\",\"formatter\":{\"id\":\"6863\"},\"major_label_text_font_size\":\"16pt\",\"ticker\":{\"id\":\"6838\"}},\"id\":\"6837\",\"type\":\"LinearAxis\"},{\"attributes\":{\"source\":{\"id\":\"6854\"}},\"id\":\"6860\",\"type\":\"CDSView\"},{\"attributes\":{},\"id\":\"6865\",\"type\":\"BasicTickFormatter\"},{\"attributes\":{\"data\":{\"Germany\":[0.010639513210352086,0.010639513210352086,0.01152613931121476,0.01152613931121476,0.012412765412077434,0.01152613931121476,0.010639513210352086,0.010639513210352086,0.010639513210352086,0.009752887109489412,0.007093008806901391,0.005319756605176043,0.0035465044034506954,0.0035465044034506954,0.0035465044034506954,0.0035465044034506954,0.0026598783025880215,0.0026598783025880215,0.0017732522017253477,0.0017732522017253477,0.0008866261008626738,0.009752887109489412,0.02659878302588022,0.028372035227605563,0.05585744435434845,0.10107537549834482,0.12678753242336235,0.15959269815528132,0.2181100208122178,0.413167763002006,0.5798534699641887,0.6942282369754738,0.907905127283378,1.028486277000702,1.2767415852422506,1.6677436957226897,1.8016242369529532,3.215792867828918,3.9951372104872083,5.022736861387048,6.306571455436199,8.033719099916686,10.697143906908162,13.155758084600356,17.00371536234436,18.986211323873302,21.130959861860106,24.719135692051346,27.954434334099243,31.399863362051597,37.11416858211153,41.84520545631476,47.08871221681661,49.91704947856854,52.85444175072658,55.45934923506112,58.11390778104396,61.59746173133341,63.22619387861814,65.50304970563349,66.71861408991622,65.8922785639122,66.2105773341219,67.35964476083993,65.8257816063475,63.21644099150865,59.592800117282906,58.30364576662858,56.02324343520978,52.79947093247309,50.432179243169756,46.906067240038894,44.54232205513902,41.89308326576135,39.95225873097295,38.737580972791086,36.021845225848715,33.117258119422594,30.985808972948725,29.106161639119858,28.02181791776481,26.52430643340775,25.433756329346664,25.315835057931928,23.749166737707583,22.441393238935138,20.108679967565443,19.17328943115532,18.158102545667564,16.923032387165858,16.594094103745807,15.528369530508872,14.452892070162449,13.821614286348224,13.131819179877063,12.509407657071467,12.251399461720428,11.755775471338193,11.13513720073432,10.168714750794008,9.89120078122399,9.562262497803939,9.491332409734923,9.220024822870947,9.549849732391861,9.14200172599503,8.503630933373906,8.08780329206931,7.679955285672481,7.491103926188732,7.114287833322095,7.118720963826409,6.584085425006217,6.842980246458118,6.8172680895330995,6.593838312115705,0,0,0],\"Germany_date\":[\"Feb 05\",\"Feb 06\",\"Feb 07\",\"Feb 08\",\"Feb 09\",\"Feb 10\",\"Feb 11\",\"Feb 12\",\"Feb 13\",\"Feb 14\",\"Feb 15\",\"Feb 16\",\"Feb 17\",\"Feb 18\",\"Feb 19\",\"Feb 20\",\"Feb 21\",\"Feb 22\",\"Feb 23\",\"Feb 24\",\"Feb 25\",\"Feb 26\",\"Feb 27\",\"Feb 28\",\"Feb 29\",\"Mar 01\",\"Mar 02\",\"Mar 03\",\"Mar 04\",\"Mar 05\",\"Mar 06\",\"Mar 07\",\"Mar 08\",\"Mar 09\",\"Mar 10\",\"Mar 11\",\"Mar 12\",\"Mar 13\",\"Mar 14\",\"Mar 15\",\"Mar 16\",\"Mar 17\",\"Mar 18\",\"Mar 19\",\"Mar 20\",\"Mar 21\",\"Mar 22\",\"Mar 23\",\"Mar 24\",\"Mar 25\",\"Mar 26\",\"Mar 27\",\"Mar 28\",\"Mar 29\",\"Mar 30\",\"Mar 31\",\"Apr 01\",\"Apr 02\",\"Apr 03\",\"Apr 04\",\"Apr 05\",\"Apr 06\",\"Apr 07\",\"Apr 08\",\"Apr 09\",\"Apr 10\",\"Apr 11\",\"Apr 12\",\"Apr 13\",\"Apr 14\",\"Apr 15\",\"Apr 16\",\"Apr 17\",\"Apr 18\",\"Apr 19\",\"Apr 20\",\"Apr 21\",\"Apr 22\",\"Apr 23\",\"Apr 24\",\"Apr 25\",\"Apr 26\",\"Apr 27\",\"Apr 28\",\"Apr 29\",\"Apr 30\",\"May 01\",\"May 02\",\"May 03\",\"May 04\",\"May 05\",\"May 06\",\"May 07\",\"May 08\",\"May 09\",\"May 10\",\"May 11\",\"May 12\",\"May 13\",\"May 14\",\"May 15\",\"May 16\",\"May 17\",\"May 18\",\"May 19\",\"May 20\",\"May 21\",\"May 22\",\"May 23\",\"May 24\",\"May 25\",\"May 26\",\"May 27\",\"May 28\",\"May 29\",\"May 30\",\"n/a\",\"n/a\",\"n/a\"],\"Spain\":[0.017017868018821884,0.020112025840425866,0.046412367324059685,0.06652439316448555,0.12686047068576314,0.18255531147463477,0.2521738624607243,0.3403573603764377,0.39759928007611134,0.6157374064991918,0.7704452975793908,1.038089949148135,1.656921513468931,2.6130162803445605,3.5025866540557047,3.499492496234101,8.044810336170347,9.817762767949425,11.934166717926548,15.195409061897141,17.919815023819446,21.176416131057632,27.389485036838426,30.95704900514781,38.482040827288685,43.4651819989819,52.69814893864817,59.08294360352798,73.08091358846438,85.87680325970764,93.57816207767995,103.41294271364819,111.87237019791347,120.69381414730643,130.22536731675748,139.55889438562588,145.5832196642888,152.83437851921775,155.93627173537573,159.1603841854871,157.08884552392323,157.89023239971866,152.7044238907104,147.6470229312987,143.18834151036734,138.91530955873225,134.16423022365936,127.08170297000783,118.53409198782684,113.75052399562709,112.7557522559814,110.83273316985452,101.42339923435684,103.69760523323575,98.2936585978044,96.28400309267263,93.08619098404493,92.51841302378058,69.18072765433257,66.3356495373677,63.125460797453584,60.90230840263112,59.14792091778166,54.57011442071858,44.071636932016276,37.713142608620096,38.454193406894255,29.07270689179099,27.539551691186215,23.439792577560944,18.46593387933255,13.031045665685157,30.73581672090313,27.341525590603563,25.86097107296606,27.802555106022556,26.697940763709934,24.403622738990585,24.915705858466044,23.15513005797338,21.838565904880884,20.470948147731928,21.032537792353047,19.660278798471683,18.92077507910833,17.93064457619506,18.51389332556741,18.119388203312905,17.670735319180327,12.320936445627046,12.730912356989574,11.708293196949457,12.942862167769444,12.966068351431474,13.196583109140972,0,0,0,0,0,0,0,0,0,0,0,0,0,0,0,0,0,0,0,0,0,0,0,0],\"Spain_date\":[\"Feb 26\",\"Feb 27\",\"Feb 28\",\"Feb 29\",\"Mar 01\",\"Mar 02\",\"Mar 03\",\"Mar 04\",\"Mar 05\",\"Mar 06\",\"Mar 07\",\"Mar 08\",\"Mar 09\",\"Mar 10\",\"Mar 11\",\"Mar 12\",\"Mar 13\",\"Mar 14\",\"Mar 15\",\"Mar 16\",\"Mar 17\",\"Mar 18\",\"Mar 19\",\"Mar 20\",\"Mar 21\",\"Mar 22\",\"Mar 23\",\"Mar 24\",\"Mar 25\",\"Mar 26\",\"Mar 27\",\"Mar 28\",\"Mar 29\",\"Mar 30\",\"Mar 31\",\"Apr 01\",\"Apr 02\",\"Apr 03\",\"Apr 04\",\"Apr 05\",\"Apr 06\",\"Apr 07\",\"Apr 08\",\"Apr 09\",\"Apr 10\",\"Apr 11\",\"Apr 12\",\"Apr 13\",\"Apr 14\",\"Apr 15\",\"Apr 16\",\"Apr 17\",\"Apr 18\",\"Apr 19\",\"Apr 20\",\"Apr 21\",\"Apr 22\",\"Apr 23\",\"Apr 24\",\"Apr 25\",\"Apr 26\",\"Apr 27\",\"Apr 28\",\"Apr 29\",\"Apr 30\",\"May 01\",\"May 02\",\"May 03\",\"May 04\",\"May 05\",\"May 06\",\"May 07\",\"May 08\",\"May 09\",\"May 10\",\"May 11\",\"May 12\",\"May 13\",\"May 14\",\"May 15\",\"May 16\",\"May 17\",\"May 18\",\"May 19\",\"May 20\",\"May 21\",\"May 22\",\"May 23\",\"May 24\",\"May 25\",\"May 26\",\"May 27\",\"May 28\",\"May 29\",\"May 30\",\"n/a\",\"n/a\",\"n/a\",\"n/a\",\"n/a\",\"n/a\",\"n/a\",\"n/a\",\"n/a\",\"n/a\",\"n/a\",\"n/a\",\"n/a\",\"n/a\",\"n/a\",\"n/a\",\"n/a\",\"n/a\",\"n/a\",\"n/a\",\"n/a\",\"n/a\",\"n/a\",\"n/a\"],\"x\":[0,1,2,3,4,5,6,7,8,9,10,11,12,13,14,15,16,17,18,19,20,21,22,23,24,25,26,27,28,29,30,31,32,33,34,35,36,37,38,39,40,41,42,43,44,45,46,47,48,49,50,51,52,53,54,55,56,57,58,59,60,61,62,63,64,65,66,67,68,69,70,71,72,73,74,75,76,77,78,79,80,81,82,83,84,85,86,87,88,89,90,91,92,93,94,95,96,97,98,99,100,101,102,103,104,105,106,107,108,109,110,111,112,113,114,115,116,117,118]},\"selected\":{\"id\":\"6880\"},\"selection_policy\":{\"id\":\"6881\"}},\"id\":\"6854\",\"type\":\"ColumnDataSource\"},{\"attributes\":{},\"id\":\"6863\",\"type\":\"BasicTickFormatter\"},{\"attributes\":{\"background_fill_alpha\":0.0,\"border_line_alpha\":0.0,\"border_line_color\":\"black\",\"items\":[{\"id\":\"6868\"},{\"id\":\"6883\"}],\"label_text_font_size\":\"8pt\",\"title\":\"Region: Start Date\"},\"id\":\"6867\",\"type\":\"Legend\"},{\"attributes\":{\"data_source\":{\"id\":\"6854\"},\"glyph\":{\"id\":\"6857\"},\"hover_glyph\":null,\"muted_glyph\":null,\"nonselection_glyph\":{\"id\":\"6858\"},\"selection_glyph\":null,\"view\":{\"id\":\"6860\"}},\"id\":\"6859\",\"type\":\"GlyphRenderer\"},{\"attributes\":{\"bottom_units\":\"screen\",\"fill_alpha\":0.5,\"fill_color\":\"lightgrey\",\"left_units\":\"screen\",\"level\":\"overlay\",\"line_alpha\":1.0,\"line_color\":\"black\",\"line_dash\":[4,4],\"line_width\":2,\"render_mode\":\"css\",\"right_units\":\"screen\",\"top_units\":\"screen\"},\"id\":\"6866\",\"type\":\"BoxAnnotation\"},{\"attributes\":{\"active_drag\":\"auto\",\"active_inspect\":\"auto\",\"active_multi\":null,\"active_scroll\":\"auto\",\"active_tap\":\"auto\",\"tools\":[{\"id\":\"6841\"},{\"id\":\"6842\"},{\"id\":\"6843\"},{\"id\":\"6844\"},{\"id\":\"6845\"},{\"id\":\"6846\"}]},\"id\":\"6847\",\"type\":\"Toolbar\"},{\"attributes\":{\"fill_color\":{\"value\":\"#fdae61\"},\"line_color\":{\"value\":\"#fdae61\"},\"top\":{\"field\":\"Germany\"},\"width\":{\"value\":0.3},\"x\":{\"field\":\"x\",\"transform\":{\"id\":\"6855\"}}},\"id\":\"6857\",\"type\":\"VBar\"},{\"attributes\":{\"fill_color\":{\"value\":\"#66c2a5\"},\"line_color\":{\"value\":\"#66c2a5\"},\"top\":{\"field\":\"Spain\"},\"width\":{\"value\":0.3},\"x\":{\"field\":\"x\",\"transform\":{\"id\":\"6869\"}}},\"id\":\"6871\",\"type\":\"VBar\"},{\"attributes\":{\"label\":{\"value\":\"Spain: Feb 26\"},\"renderers\":[{\"id\":\"6873\"}]},\"id\":\"6883\",\"type\":\"LegendItem\"},{\"attributes\":{\"label\":{\"value\":\"Germany: Feb 05\"},\"renderers\":[{\"id\":\"6859\"}]},\"id\":\"6868\",\"type\":\"LegendItem\"},{\"attributes\":{},\"id\":\"6841\",\"type\":\"PanTool\"},{\"attributes\":{},\"id\":\"6842\",\"type\":\"WheelZoomTool\"},{\"attributes\":{\"overlay\":{\"id\":\"6866\"}},\"id\":\"6843\",\"type\":\"BoxZoomTool\"},{\"attributes\":{},\"id\":\"6844\",\"type\":\"SaveTool\"},{\"attributes\":{},\"id\":\"6845\",\"type\":\"ResetTool\"},{\"attributes\":{\"axis_label\":\"Days Since 10 Cumulative Cases\",\"formatter\":{\"id\":\"6865\"},\"major_label_text_font_size\":\"16pt\",\"major_tick_line_color\":null,\"ticker\":{\"id\":\"6834\"}},\"id\":\"6833\",\"type\":\"LinearAxis\"},{\"attributes\":{\"fill_alpha\":{\"value\":0.1},\"fill_color\":{\"value\":\"#fdae61\"},\"line_alpha\":{\"value\":0.1},\"line_color\":{\"value\":\"#fdae61\"},\"top\":{\"field\":\"Germany\"},\"width\":{\"value\":0.3},\"x\":{\"field\":\"x\",\"transform\":{\"id\":\"6855\"}}},\"id\":\"6858\",\"type\":\"VBar\"},{\"attributes\":{\"source\":{\"id\":\"6854\"}},\"id\":\"6874\",\"type\":\"CDSView\"},{\"attributes\":{\"data_source\":{\"id\":\"6854\"},\"glyph\":{\"id\":\"6871\"},\"hover_glyph\":null,\"muted_glyph\":null,\"nonselection_glyph\":{\"id\":\"6872\"},\"selection_glyph\":null,\"view\":{\"id\":\"6874\"}},\"id\":\"6873\",\"type\":\"GlyphRenderer\"},{\"attributes\":{},\"id\":\"6831\",\"type\":\"LinearScale\"},{\"attributes\":{\"end\":175.0764226040358,\"start\":0.0008954923618713006},\"id\":\"6822\",\"type\":\"Range1d\"},{\"attributes\":{\"fill_alpha\":{\"value\":0.1},\"fill_color\":{\"value\":\"#66c2a5\"},\"line_alpha\":{\"value\":0.1},\"line_color\":{\"value\":\"#66c2a5\"},\"top\":{\"field\":\"Spain\"},\"width\":{\"value\":0.3},\"x\":{\"field\":\"x\",\"transform\":{\"id\":\"6869\"}}},\"id\":\"6872\",\"type\":\"VBar\"},{\"attributes\":{},\"id\":\"6881\",\"type\":\"UnionRenderers\"},{\"attributes\":{},\"id\":\"6829\",\"type\":\"LinearScale\"},{\"attributes\":{},\"id\":\"6846\",\"type\":\"HelpTool\"},{\"attributes\":{},\"id\":\"6880\",\"type\":\"Selection\"},{\"attributes\":{},\"id\":\"6838\",\"type\":\"BasicTicker\"},{\"attributes\":{\"range\":{\"id\":\"6826\"},\"value\":-0.125},\"id\":\"6855\",\"type\":\"Dodge\"},{\"attributes\":{},\"id\":\"6834\",\"type\":\"BasicTicker\"},{\"attributes\":{\"text\":\"\"},\"id\":\"6824\",\"type\":\"Title\"}],\"root_ids\":[\"6823\"]},\"title\":\"Bokeh Application\",\"version\":\"2.0.0\"}};\n",
       "  var render_items = [{\"docid\":\"8dd44750-bc69-4247-a932-10e36145ca09\",\"root_ids\":[\"6823\"],\"roots\":{\"6823\":\"430601b5-fc00-402a-91e4-4226ed8c1dc8\"}}];\n",
       "  root.Bokeh.embed.embed_items_notebook(docs_json, render_items);\n",
       "\n",
       "  }\n",
       "  if (root.Bokeh !== undefined) {\n",
       "    embed_document(root);\n",
       "  } else {\n",
       "    var attempts = 0;\n",
       "    var timer = setInterval(function(root) {\n",
       "      if (root.Bokeh !== undefined) {\n",
       "        clearInterval(timer);\n",
       "        embed_document(root);\n",
       "      } else {\n",
       "        attempts++;\n",
       "        if (attempts > 100) {\n",
       "          clearInterval(timer);\n",
       "          console.log(\"Bokeh: ERROR: Unable to run BokehJS code because BokehJS library is missing\");\n",
       "        }\n",
       "      }\n",
       "    }, 10, root)\n",
       "  }\n",
       "})(window);"
      ],
      "application/vnd.bokehjs_exec.v0+json": ""
     },
     "metadata": {
      "application/vnd.bokehjs_exec.v0+json": {
       "id": "6823"
      }
     },
     "output_type": "display_data"
    }
   ],
   "source": [
    "from bokeh.palettes import Spectral\n",
    "regions = ['Germany', 'Spain']\n",
    "\n",
    "casestudy = CaseStudy(baseframe, regions=regions, factors='strindex', count_dma=14, start_hurdle=10, start_factor='cases', lognat=True)\n",
    "\n",
    "kwargs = {\n",
    "    'width': 825, 'height': 500,\n",
    "    'palette_base': Spectral[11],\n",
    "    'palette_flip': True,\n",
    "    'palette_shift': 2,\n",
    "    'legend': True,\n",
    "}\n",
    "\n",
    "p = casestudy.comp_chart.make(comp_category='cases_new_dma_per_1M', **kwargs)\n",
    "show(p)"
   ]
  },
  {
   "cell_type": "markdown",
   "metadata": {},
   "source": [
    "Via the `overlay` parameter, an optional second factor can be added to the right y-axis for understanding related variables.\n",
    "\n",
    "Here we compare based on ***density***.\n",
    "\n",
    "We can see from below that, despite having a lower `stringency index` overall and seemingly reacting slower to to the onset of the outbreak, Germany has managed to maintain materially lower case counts.\n",
    "\n",
    "The impacts of testing should be investigated."
   ]
  },
  {
   "cell_type": "code",
   "execution_count": 40,
   "metadata": {},
   "outputs": [
    {
     "data": {
      "text/html": [
       "\n",
       "\n",
       "\n",
       "\n",
       "\n",
       "\n",
       "  <div class=\"bk-root\" id=\"9a4176d4-4889-40e9-8866-20b28ff01281\" data-root-id=\"8359\"></div>\n"
      ]
     },
     "metadata": {},
     "output_type": "display_data"
    },
    {
     "data": {
      "application/javascript": [
       "(function(root) {\n",
       "  function embed_document(root) {\n",
       "    \n",
       "  var docs_json = {\"70a30b69-d92a-46e4-bedb-43aef2a0e521\":{\"roots\":{\"references\":[{\"attributes\":{\"background_fill_color\":\"white\",\"below\":[{\"id\":\"8369\"}],\"border_fill_color\":\"white\",\"center\":[{\"id\":\"8372\"},{\"id\":\"8376\"},{\"id\":\"8403\"}],\"extra_y_ranges\":{\"strindex\":{\"id\":\"8421\"}},\"left\":[{\"id\":\"8373\"}],\"min_border\":20,\"outline_line_color\":\"white\",\"plot_height\":500,\"plot_width\":825,\"renderers\":[{\"id\":\"8395\"},{\"id\":\"8409\"},{\"id\":\"8425\"}],\"right\":[{\"id\":\"8427\"}],\"title\":{\"id\":\"8360\"},\"toolbar\":{\"id\":\"8383\"},\"toolbar_location\":null,\"x_range\":{\"id\":\"8362\"},\"x_scale\":{\"id\":\"8365\"},\"y_range\":{\"id\":\"8358\"},\"y_scale\":{\"id\":\"8367\"}},\"id\":\"8359\",\"subtype\":\"Figure\",\"type\":\"Plot\"},{\"attributes\":{},\"id\":\"8700\",\"type\":\"BasicTickFormatter\"},{\"attributes\":{},\"id\":\"8362\",\"type\":\"DataRange1d\"},{\"attributes\":{\"end\":93.709,\"start\":4.4479999999999995},\"id\":\"8421\",\"type\":\"Range1d\"},{\"attributes\":{\"text\":\"\"},\"id\":\"8360\",\"type\":\"Title\"},{\"attributes\":{\"background_fill_alpha\":0.0,\"border_line_alpha\":0.0,\"border_line_color\":\"black\",\"items\":[{\"id\":\"8404\"},{\"id\":\"8419\"}],\"label_text_font_size\":\"8pt\",\"location\":\"top_left\",\"title\":\"Region: Start Date\"},\"id\":\"8403\",\"type\":\"Legend\"},{\"attributes\":{\"line_alpha\":{\"value\":0.3},\"line_color\":{\"field\":\"color\"},\"line_width\":{\"value\":4},\"xs\":{\"field\":\"x\"},\"ys\":{\"field\":\"y\"}},\"id\":\"8423\",\"type\":\"MultiLine\"},{\"attributes\":{\"data_source\":{\"id\":\"8390\"},\"glyph\":{\"id\":\"8393\"},\"hover_glyph\":null,\"muted_glyph\":null,\"nonselection_glyph\":{\"id\":\"8394\"},\"selection_glyph\":null,\"view\":{\"id\":\"8396\"}},\"id\":\"8395\",\"type\":\"GlyphRenderer\"},{\"attributes\":{},\"id\":\"8377\",\"type\":\"PanTool\"},{\"attributes\":{\"data_source\":{\"id\":\"8420\"},\"glyph\":{\"id\":\"8423\"},\"hover_glyph\":null,\"muted_glyph\":null,\"nonselection_glyph\":{\"id\":\"8424\"},\"selection_glyph\":null,\"view\":{\"id\":\"8426\"},\"y_range_name\":\"strindex\"},\"id\":\"8425\",\"type\":\"GlyphRenderer\"},{\"attributes\":{\"source\":{\"id\":\"8390\"}},\"id\":\"8410\",\"type\":\"CDSView\"},{\"attributes\":{},\"id\":\"8399\",\"type\":\"BasicTickFormatter\"},{\"attributes\":{\"overlay\":{\"id\":\"8402\"}},\"id\":\"8379\",\"type\":\"BoxZoomTool\"},{\"attributes\":{\"source\":{\"id\":\"8390\"}},\"id\":\"8396\",\"type\":\"CDSView\"},{\"attributes\":{},\"id\":\"8374\",\"type\":\"BasicTicker\"},{\"attributes\":{\"range\":{\"id\":\"8362\"},\"value\":0.125},\"id\":\"8405\",\"type\":\"Dodge\"},{\"attributes\":{\"axis_label\":\"Oxford Stringency Index\",\"formatter\":{\"id\":\"8700\"},\"ticker\":{\"id\":\"8699\"},\"y_range_name\":\"strindex\"},\"id\":\"8427\",\"type\":\"LinearAxis\"},{\"attributes\":{},\"id\":\"8370\",\"type\":\"BasicTicker\"},{\"attributes\":{\"end\":88.36388867333429,\"start\":0.0003166146254155335},\"id\":\"8358\",\"type\":\"Range1d\"},{\"attributes\":{\"data_source\":{\"id\":\"8390\"},\"glyph\":{\"id\":\"8407\"},\"hover_glyph\":null,\"muted_glyph\":null,\"nonselection_glyph\":{\"id\":\"8408\"},\"selection_glyph\":null,\"view\":{\"id\":\"8410\"}},\"id\":\"8409\",\"type\":\"GlyphRenderer\"},{\"attributes\":{},\"id\":\"8381\",\"type\":\"ResetTool\"},{\"attributes\":{},\"id\":\"8382\",\"type\":\"HelpTool\"},{\"attributes\":{\"fill_alpha\":{\"value\":0.1},\"fill_color\":{\"value\":\"#66c2a5\"},\"line_alpha\":{\"value\":0.1},\"line_color\":{\"value\":\"#66c2a5\"},\"top\":{\"field\":\"Spain\"},\"width\":{\"value\":0.3},\"x\":{\"field\":\"x\",\"transform\":{\"id\":\"8405\"}}},\"id\":\"8408\",\"type\":\"VBar\"},{\"attributes\":{\"fill_color\":{\"value\":\"#66c2a5\"},\"line_color\":{\"value\":\"#66c2a5\"},\"top\":{\"field\":\"Spain\"},\"width\":{\"value\":0.3},\"x\":{\"field\":\"x\",\"transform\":{\"id\":\"8405\"}}},\"id\":\"8407\",\"type\":\"VBar\"},{\"attributes\":{\"line_alpha\":{\"value\":0.1},\"line_color\":{\"field\":\"color\"},\"line_width\":{\"value\":4},\"xs\":{\"field\":\"x\"},\"ys\":{\"field\":\"y\"}},\"id\":\"8424\",\"type\":\"MultiLine\"},{\"attributes\":{\"data\":{\"Germany\":[0.0037617579257291107,0.0037617579257291107,0.004075237752873204,0.004075237752873204,0.004388717580017296,0.004075237752873204,0.0037617579257291107,0.0037617579257291107,0.0037617579257291107,0.0034482780985850186,0.0025078386171527405,0.0018808789628645553,0.0012539193085763702,0.0012539193085763702,0.0012539193085763702,0.0012539193085763702,0.0009404394814322777,0.0009404394814322777,0.0006269596542881851,0.0006269596542881851,0.00031347982714409256,0.0034482780985850186,0.009404394814322778,0.010031354468610962,0.019749229110077832,0.03573670029442655,0.04482761528160523,0.05642636888593667,0.07711603747744679,0.14608159944914714,0.20501580695223656,0.2454547046538245,0.3210033429955508,0.36363659948714744,0.45141095108749335,0.5896555548580382,0.6369910087567962,1.1369913330516237,1.412540101111281,1.7758632207712846,2.2297820104759305,2.840440713752623,3.782134114493477,4.651413675164046,6.0119161249694075,6.712857018463599,7.4711647203251585,8.7398175807773,9.883705470026095,11.10188807830804,13.122265564251716,14.794993921892594,16.648913619622757,17.648914268212412,18.68747293554079,19.608476667690137,20.54703527015955,21.778697511008687,22.354559953472386,23.159576149578417,23.58935699259297,23.297193793694674,23.4097330516394,23.816002907618145,23.273682806658865,22.3511116753738,21.069919621835897,20.614119953168384,19.80784983775378,18.668037186257855,17.83104604778313,16.584336775231073,15.748599556064924,14.811921832558374,14.125714490939957,13.69624712775255,12.736058417210193,11.709098503486146,10.955492999031748,10.29091576548627,9.907529936889047,9.378062508842673,8.992482321455439,8.950789504445275,8.396870649881663,7.934487904844127,7.10972247962802,6.779001261991002,6.420066859911016,5.9833894606992954,5.867088444828837,5.4902856926016375,5.1100346622758535,4.8868370253492595,4.6429497198311545,4.4228868811760025,4.331664251477071,4.156429028103523,3.936993149102659,3.5953001375155975,3.497180951619497,3.3808799357490384,3.355801549577511,3.259876722471419,3.376491218169021,3.2322904976827385,3.006585022138992,2.8595629832084124,2.7153622627221297,2.648591059540438,2.515362133004199,2.5169295321399194,2.3279011963720317,2.4194373058981067,2.4103463909109277,2.3313494744706165,0,0,0],\"Germany_date\":[\"Feb 05\",\"Feb 06\",\"Feb 07\",\"Feb 08\",\"Feb 09\",\"Feb 10\",\"Feb 11\",\"Feb 12\",\"Feb 13\",\"Feb 14\",\"Feb 15\",\"Feb 16\",\"Feb 17\",\"Feb 18\",\"Feb 19\",\"Feb 20\",\"Feb 21\",\"Feb 22\",\"Feb 23\",\"Feb 24\",\"Feb 25\",\"Feb 26\",\"Feb 27\",\"Feb 28\",\"Feb 29\",\"Mar 01\",\"Mar 02\",\"Mar 03\",\"Mar 04\",\"Mar 05\",\"Mar 06\",\"Mar 07\",\"Mar 08\",\"Mar 09\",\"Mar 10\",\"Mar 11\",\"Mar 12\",\"Mar 13\",\"Mar 14\",\"Mar 15\",\"Mar 16\",\"Mar 17\",\"Mar 18\",\"Mar 19\",\"Mar 20\",\"Mar 21\",\"Mar 22\",\"Mar 23\",\"Mar 24\",\"Mar 25\",\"Mar 26\",\"Mar 27\",\"Mar 28\",\"Mar 29\",\"Mar 30\",\"Mar 31\",\"Apr 01\",\"Apr 02\",\"Apr 03\",\"Apr 04\",\"Apr 05\",\"Apr 06\",\"Apr 07\",\"Apr 08\",\"Apr 09\",\"Apr 10\",\"Apr 11\",\"Apr 12\",\"Apr 13\",\"Apr 14\",\"Apr 15\",\"Apr 16\",\"Apr 17\",\"Apr 18\",\"Apr 19\",\"Apr 20\",\"Apr 21\",\"Apr 22\",\"Apr 23\",\"Apr 24\",\"Apr 25\",\"Apr 26\",\"Apr 27\",\"Apr 28\",\"Apr 29\",\"Apr 30\",\"May 01\",\"May 02\",\"May 03\",\"May 04\",\"May 05\",\"May 06\",\"May 07\",\"May 08\",\"May 09\",\"May 10\",\"May 11\",\"May 12\",\"May 13\",\"May 14\",\"May 15\",\"May 16\",\"May 17\",\"May 18\",\"May 19\",\"May 20\",\"May 21\",\"May 22\",\"May 23\",\"May 24\",\"May 25\",\"May 26\",\"May 27\",\"May 28\",\"May 29\",\"May 30\",\"n/a\",\"n/a\",\"n/a\"],\"Spain\":[0.008589191923767402,0.010150863182634204,0.023425068883002005,0.033575932065636215,0.06402852161353882,0.09213860427314123,0.12727620759764424,0.17178383847534803,0.20067475676438387,0.3107725805144933,0.3888561434578333,0.5239407073498116,0.8362749591231716,1.318831378113013,1.7678118650372183,1.7662501937783515,4.060345273053682,4.955182904384358,6.023366045449249,7.669367552294857,9.044419095727076,10.688078095684382,13.82391398348892,15.624520944962338,19.422505446526397,21.937577008931378,26.59760404538991,29.820112688061553,36.88511346317496,43.34340495421861,47.23040471753808,52.194176813846205,56.463786035588036,60.91611079461729,65.72683910755647,70.43762045992817,73.47819440094183,77.13797099609619,78.70354643311015,80.33080788484935,79.28526897703803,79.68974183308454,77.07238080322378,74.51982913060598,72.26946084657892,70.11279283808388,67.71484662009391,64.1401811085478,59.82606425592826,57.41172048972019,56.90964317999451,55.93906449260879,51.19002219439485,52.337850569661946,49.61039171605108,48.5960862334171,46.982098987378265,46.6955323113762,34.91662684137336,33.48067011884534,31.86043618777103,30.73837538827523,29.852907784497756,27.542415157004328,22.24366457566927,19.034430138698,19.408450405196596,14.673463148312457,13.899655039543958,11.830440621545447,9.320054072917065,6.57697850671753,15.512861449953364,13.799708078976483,13.052448381608718,14.032397096547635,13.474880457132187,12.316901218682457,12.575357812024912,11.686766865729702,11.022275745081878,10.332017048662753,10.615460382147075,9.92285917883965,9.549619747970485,9.04988494513311,9.344259977429502,9.145146891923984,8.918704559388297,6.2185749528076,6.4254963946074515,5.909364043551973,6.532470875839826,6.544183410281327,6.6605279190669044,0,0,0,0,0,0,0,0,0,0,0,0,0,0,0,0,0,0,0,0,0,0,0,0],\"Spain_date\":[\"Feb 26\",\"Feb 27\",\"Feb 28\",\"Feb 29\",\"Mar 01\",\"Mar 02\",\"Mar 03\",\"Mar 04\",\"Mar 05\",\"Mar 06\",\"Mar 07\",\"Mar 08\",\"Mar 09\",\"Mar 10\",\"Mar 11\",\"Mar 12\",\"Mar 13\",\"Mar 14\",\"Mar 15\",\"Mar 16\",\"Mar 17\",\"Mar 18\",\"Mar 19\",\"Mar 20\",\"Mar 21\",\"Mar 22\",\"Mar 23\",\"Mar 24\",\"Mar 25\",\"Mar 26\",\"Mar 27\",\"Mar 28\",\"Mar 29\",\"Mar 30\",\"Mar 31\",\"Apr 01\",\"Apr 02\",\"Apr 03\",\"Apr 04\",\"Apr 05\",\"Apr 06\",\"Apr 07\",\"Apr 08\",\"Apr 09\",\"Apr 10\",\"Apr 11\",\"Apr 12\",\"Apr 13\",\"Apr 14\",\"Apr 15\",\"Apr 16\",\"Apr 17\",\"Apr 18\",\"Apr 19\",\"Apr 20\",\"Apr 21\",\"Apr 22\",\"Apr 23\",\"Apr 24\",\"Apr 25\",\"Apr 26\",\"Apr 27\",\"Apr 28\",\"Apr 29\",\"Apr 30\",\"May 01\",\"May 02\",\"May 03\",\"May 04\",\"May 05\",\"May 06\",\"May 07\",\"May 08\",\"May 09\",\"May 10\",\"May 11\",\"May 12\",\"May 13\",\"May 14\",\"May 15\",\"May 16\",\"May 17\",\"May 18\",\"May 19\",\"May 20\",\"May 21\",\"May 22\",\"May 23\",\"May 24\",\"May 25\",\"May 26\",\"May 27\",\"May 28\",\"May 29\",\"May 30\",\"n/a\",\"n/a\",\"n/a\",\"n/a\",\"n/a\",\"n/a\",\"n/a\",\"n/a\",\"n/a\",\"n/a\",\"n/a\",\"n/a\",\"n/a\",\"n/a\",\"n/a\",\"n/a\",\"n/a\",\"n/a\",\"n/a\",\"n/a\",\"n/a\",\"n/a\",\"n/a\",\"n/a\"],\"x\":[0,1,2,3,4,5,6,7,8,9,10,11,12,13,14,15,16,17,18,19,20,21,22,23,24,25,26,27,28,29,30,31,32,33,34,35,36,37,38,39,40,41,42,43,44,45,46,47,48,49,50,51,52,53,54,55,56,57,58,59,60,61,62,63,64,65,66,67,68,69,70,71,72,73,74,75,76,77,78,79,80,81,82,83,84,85,86,87,88,89,90,91,92,93,94,95,96,97,98,99,100,101,102,103,104,105,106,107,108,109,110,111,112,113,114,115,116,117,118]},\"selected\":{\"id\":\"8416\"},\"selection_policy\":{\"id\":\"8417\"}},\"id\":\"8390\",\"type\":\"ColumnDataSource\"},{\"attributes\":{},\"id\":\"8706\",\"type\":\"UnionRenderers\"},{\"attributes\":{},\"id\":\"8365\",\"type\":\"LinearScale\"},{\"attributes\":{\"axis\":{\"id\":\"8369\"},\"grid_line_color\":null,\"ticker\":null},\"id\":\"8372\",\"type\":\"Grid\"},{\"attributes\":{},\"id\":\"8380\",\"type\":\"SaveTool\"},{\"attributes\":{},\"id\":\"8699\",\"type\":\"BasicTicker\"},{\"attributes\":{},\"id\":\"8378\",\"type\":\"WheelZoomTool\"},{\"attributes\":{\"range\":{\"id\":\"8362\"},\"value\":-0.125},\"id\":\"8391\",\"type\":\"Dodge\"},{\"attributes\":{},\"id\":\"8416\",\"type\":\"Selection\"},{\"attributes\":{},\"id\":\"8705\",\"type\":\"Selection\"},{\"attributes\":{},\"id\":\"8367\",\"type\":\"LinearScale\"},{\"attributes\":{\"fill_alpha\":{\"value\":0.1},\"fill_color\":{\"value\":\"#fdae61\"},\"line_alpha\":{\"value\":0.1},\"line_color\":{\"value\":\"#fdae61\"},\"top\":{\"field\":\"Germany\"},\"width\":{\"value\":0.3},\"x\":{\"field\":\"x\",\"transform\":{\"id\":\"8391\"}}},\"id\":\"8394\",\"type\":\"VBar\"},{\"attributes\":{\"fill_color\":{\"value\":\"#fdae61\"},\"line_color\":{\"value\":\"#fdae61\"},\"top\":{\"field\":\"Germany\"},\"width\":{\"value\":0.3},\"x\":{\"field\":\"x\",\"transform\":{\"id\":\"8391\"}}},\"id\":\"8393\",\"type\":\"VBar\"},{\"attributes\":{\"label\":{\"value\":\"Spain: Feb 26\"},\"renderers\":[{\"id\":\"8409\"}]},\"id\":\"8419\",\"type\":\"LegendItem\"},{\"attributes\":{\"data\":{\"color\":[\"#fdae61\",\"#66c2a5\"],\"x\":[[0,1,2,3,4,5,6,7,8,9,10,11,12,13,14,15,16,17,18,19,20,21,22,23,24,25,26,27,28,29,30,31,32,33,34,35,36,37,38,39,40,41,42,43,44,45,46,47,48,49,50,51,52,53,54,55,56,57,58,59,60,61,62,63,64,65,66,67,68,69,70,71,72,73,74,75,76,77,78,79,80,81,82,83,84,85,86,87,88,89,90,91,92,93,94,95,96,97,98,99,100,101,102,103,104,105,106,107,108,109,110,111,112,113,114,115],[0,1,2,3,4,5,6,7,8,9,10,11,12,13,14,15,16,17,18,19,20,21,22,23,24,25,26,27,28,29,30,31,32,33,34,35,36,37,38,39,40,41,42,43,44,45,46,47,48,49,50,51,52,53,54,55,56,57,58,59,60,61,62,63,64,65,66,67,68,69,70,71,72,73,74,75,76,77,78,79,80,81,82,83,84,85,86,87,88,89,90,91,92,93,94]],\"y\":[[5.56,5.56,5.56,5.56,5.56,5.56,5.56,11.11,11.11,11.11,11.11,11.11,11.11,11.11,11.11,11.11,11.11,11.11,11.11,11.11,11.11,16.67,16.67,19.44,25.0,25.0,25.0,25.0,25.0,25.0,25.0,25.0,25.0,28.7,32.87,32.87,32.87,32.87,32.87,32.87,42.13,42.13,52.31,55.09,57.87,68.06,73.15,73.15,73.15,73.15,73.15,73.15,73.15,73.15,73.15,73.15,73.15,73.15,73.15,73.15,73.15,73.15,73.15,73.15,73.15,73.15,73.15,73.15,73.15,73.15,73.15,73.15,73.15,73.15,73.15,73.15,73.15,73.15,73.15,73.15,73.15,73.15,73.15,73.15,73.15,73.15,73.15,73.15,73.15,68.06,68.06,62.5,60.65,64.35,64.35,64.35,64.35,64.35,64.35,64.35,64.35,61.57,61.57,62.96,52.78,52.78,52.78,52.78,52.78,52.78,50.0,50.0,50.0,50.0,50.0,50.0],[11.11,11.11,11.11,11.11,11.11,11.11,11.11,11.11,11.11,11.11,11.11,11.11,25.0,45.83,45.83,45.83,45.83,67.13,67.13,68.98,71.76,71.76,71.76,71.76,71.76,71.76,71.76,71.76,71.76,71.76,71.76,71.76,71.76,85.19,85.19,85.19,85.19,85.19,85.19,85.19,85.19,85.19,85.19,85.19,85.19,85.19,85.19,85.19,85.19,85.19,85.19,85.19,85.19,85.19,85.19,85.19,85.19,85.19,85.19,85.19,85.19,85.19,85.19,85.19,85.19,85.19,85.19,85.19,81.94,81.94,81.94,81.94,81.94,81.94,81.94,81.94,81.94,83.33,83.33,83.33,83.33,79.17,79.17,79.17,79.17,79.17,79.17,79.17,79.17,79.17,79.17,79.17,79.17,79.17,79.17]]},\"selected\":{\"id\":\"8705\"},\"selection_policy\":{\"id\":\"8706\"}},\"id\":\"8420\",\"type\":\"ColumnDataSource\"},{\"attributes\":{},\"id\":\"8417\",\"type\":\"UnionRenderers\"},{\"attributes\":{\"bottom_units\":\"screen\",\"fill_alpha\":0.5,\"fill_color\":\"lightgrey\",\"left_units\":\"screen\",\"level\":\"overlay\",\"line_alpha\":1.0,\"line_color\":\"black\",\"line_dash\":[4,4],\"line_width\":2,\"render_mode\":\"css\",\"right_units\":\"screen\",\"top_units\":\"screen\"},\"id\":\"8402\",\"type\":\"BoxAnnotation\"},{\"attributes\":{\"axis_label\":\"Daily Cases / Person / Land KM\\u00b2 (14DMA)\",\"formatter\":{\"id\":\"8399\"},\"major_label_text_font_size\":\"16pt\",\"ticker\":{\"id\":\"8374\"}},\"id\":\"8373\",\"type\":\"LinearAxis\"},{\"attributes\":{\"axis_label\":\"Days Since 10 Cumulative Cases\",\"formatter\":{\"id\":\"8401\"},\"major_label_text_font_size\":\"16pt\",\"major_tick_line_color\":null,\"ticker\":{\"id\":\"8370\"}},\"id\":\"8369\",\"type\":\"LinearAxis\"},{\"attributes\":{},\"id\":\"8401\",\"type\":\"BasicTickFormatter\"},{\"attributes\":{\"label\":{\"value\":\"Germany: Feb 05\"},\"renderers\":[{\"id\":\"8395\"}]},\"id\":\"8404\",\"type\":\"LegendItem\"},{\"attributes\":{\"axis\":{\"id\":\"8373\"},\"dimension\":1,\"grid_line_color\":null,\"ticker\":null},\"id\":\"8376\",\"type\":\"Grid\"},{\"attributes\":{\"source\":{\"id\":\"8420\"}},\"id\":\"8426\",\"type\":\"CDSView\"},{\"attributes\":{\"active_drag\":\"auto\",\"active_inspect\":\"auto\",\"active_multi\":null,\"active_scroll\":\"auto\",\"active_tap\":\"auto\",\"tools\":[{\"id\":\"8377\"},{\"id\":\"8378\"},{\"id\":\"8379\"},{\"id\":\"8380\"},{\"id\":\"8381\"},{\"id\":\"8382\"}]},\"id\":\"8383\",\"type\":\"Toolbar\"}],\"root_ids\":[\"8359\"]},\"title\":\"Bokeh Application\",\"version\":\"2.0.0\"}};\n",
       "  var render_items = [{\"docid\":\"70a30b69-d92a-46e4-bedb-43aef2a0e521\",\"root_ids\":[\"8359\"],\"roots\":{\"8359\":\"9a4176d4-4889-40e9-8866-20b28ff01281\"}}];\n",
       "  root.Bokeh.embed.embed_items_notebook(docs_json, render_items);\n",
       "\n",
       "  }\n",
       "  if (root.Bokeh !== undefined) {\n",
       "    embed_document(root);\n",
       "  } else {\n",
       "    var attempts = 0;\n",
       "    var timer = setInterval(function(root) {\n",
       "      if (root.Bokeh !== undefined) {\n",
       "        clearInterval(timer);\n",
       "        embed_document(root);\n",
       "      } else {\n",
       "        attempts++;\n",
       "        if (attempts > 100) {\n",
       "          clearInterval(timer);\n",
       "          console.log(\"Bokeh: ERROR: Unable to run BokehJS code because BokehJS library is missing\");\n",
       "        }\n",
       "      }\n",
       "    }, 10, root)\n",
       "  }\n",
       "})(window);"
      ],
      "application/vnd.bokehjs_exec.v0+json": ""
     },
     "metadata": {
      "application/vnd.bokehjs_exec.v0+json": {
       "id": "8359"
      }
     },
     "output_type": "display_data"
    }
   ],
   "source": [
    "regions = ['Germany', 'Spain']\n",
    "\n",
    "kwargs = {\n",
    "    'width': 825, 'height': 500,\n",
    "    'legend_location': 'top_left',\n",
    "    'palette_base': Spectral[11],\n",
    "    'palette_flip': True,\n",
    "    'palette_shift': 2,\n",
    "    'overlay': 'strindex',  \n",
    "    'legend': True,\n",
    "}\n",
    "\n",
    "p = casestudy.comp_chart.make(comp_category='cases_new_dma_per_person_per_land_KM2', **kwargs)\n",
    "show(p)"
   ]
  },
  {
   "cell_type": "markdown",
   "metadata": {},
   "source": [
    "### Saving Files"
   ]
  },
  {
   "cell_type": "markdown",
   "metadata": {},
   "source": [
    "All chart instances in `see19` have a `save_file` option. Simply set that option to `True` and provide a `filename` and the file will be saved to yor location of choice."
   ]
  },
  {
   "cell_type": "markdown",
   "metadata": {},
   "source": [
    "# Next Section"
   ]
  },
  {
   "cell_type": "markdown",
   "metadata": {},
   "source": [
    "Click on this link to go to the next notebook: [5. Visualizing Factors in 4D](https://ryanskene.github.io/see19/guide/5.%20See19%20-%20Visualizing%20Factors%20in%204D.html)"
   ]
  }
 ],
 "metadata": {
  "kernelspec": {
   "display_name": "Django Shell-Plus",
   "language": "python",
   "name": "django_extensions"
  },
  "language_info": {
   "codemirror_mode": {
    "name": "ipython",
    "version": 3
   },
   "file_extension": ".py",
   "mimetype": "text/x-python",
   "name": "python",
   "nbconvert_exporter": "python",
   "pygments_lexer": "ipython3",
   "version": "3.7.7"
  }
 },
 "nbformat": 4,
 "nbformat_minor": 4
}
