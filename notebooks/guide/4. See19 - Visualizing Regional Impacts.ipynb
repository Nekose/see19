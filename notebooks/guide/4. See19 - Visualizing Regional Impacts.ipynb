{
 "cells": [
  {
   "cell_type": "markdown",
   "metadata": {},
   "source": [
    "# see19 Guide\n",
    "\n",
    "**A dataset and interface for visualizing and analyzing the epidemiology of Coronavirus Disease 2019 aka SARS-CoV-2 aka COVID19 aka C19**\n",
    "\n",
    "Find it on [GitHub](https://github.com/ryanskene/see19)"
   ]
  },
  {
   "cell_type": "markdown",
   "metadata": {},
   "source": [
    "# 4. Visualizating Regional Impacts"
   ]
  },
  {
   "cell_type": "markdown",
   "metadata": {},
   "source": [
    "`CaseStudy` has a `comp_chart` attribute, which is an instance of the `CompChart2D` class and provides categorical time-series charts comparing various regions on a single `comp_category`.\n",
    "\n",
    "`CompChart2D` object utilizes `Bokeh` for chart creation.\n",
    "\n",
    "Charts are available in **multi-line** and **bar** format with optional overlay of a second factor on a separate y-axis."
   ]
  },
  {
   "cell_type": "markdown",
   "metadata": {},
   "source": [
    "## 4.1 Daily Fatalities Comparison - Italy"
   ]
  },
  {
   "cell_type": "markdown",
   "metadata": {},
   "source": [
    "We will illustrate with an example, focusing on only the top 5 most impacted regions in Italy."
   ]
  },
  {
   "cell_type": "code",
   "execution_count": 1,
   "metadata": {
    "scrolled": true
   },
   "outputs": [
    {
     "data": {
      "text/html": [
       "\n",
       "    <div class=\"bk-root\">\n",
       "        <a href=\"https://bokeh.org\" target=\"_blank\" class=\"bk-logo bk-logo-small bk-logo-notebook\"></a>\n",
       "        <span id=\"1001\">Loading BokehJS ...</span>\n",
       "    </div>"
      ]
     },
     "metadata": {},
     "output_type": "display_data"
    },
    {
     "data": {
      "application/javascript": [
       "\n",
       "(function(root) {\n",
       "  function now() {\n",
       "    return new Date();\n",
       "  }\n",
       "\n",
       "  var force = true;\n",
       "\n",
       "  if (typeof root._bokeh_onload_callbacks === \"undefined\" || force === true) {\n",
       "    root._bokeh_onload_callbacks = [];\n",
       "    root._bokeh_is_loading = undefined;\n",
       "  }\n",
       "\n",
       "  var JS_MIME_TYPE = 'application/javascript';\n",
       "  var HTML_MIME_TYPE = 'text/html';\n",
       "  var EXEC_MIME_TYPE = 'application/vnd.bokehjs_exec.v0+json';\n",
       "  var CLASS_NAME = 'output_bokeh rendered_html';\n",
       "\n",
       "  /**\n",
       "   * Render data to the DOM node\n",
       "   */\n",
       "  function render(props, node) {\n",
       "    var script = document.createElement(\"script\");\n",
       "    node.appendChild(script);\n",
       "  }\n",
       "\n",
       "  /**\n",
       "   * Handle when an output is cleared or removed\n",
       "   */\n",
       "  function handleClearOutput(event, handle) {\n",
       "    var cell = handle.cell;\n",
       "\n",
       "    var id = cell.output_area._bokeh_element_id;\n",
       "    var server_id = cell.output_area._bokeh_server_id;\n",
       "    // Clean up Bokeh references\n",
       "    if (id != null && id in Bokeh.index) {\n",
       "      Bokeh.index[id].model.document.clear();\n",
       "      delete Bokeh.index[id];\n",
       "    }\n",
       "\n",
       "    if (server_id !== undefined) {\n",
       "      // Clean up Bokeh references\n",
       "      var cmd = \"from bokeh.io.state import curstate; print(curstate().uuid_to_server['\" + server_id + \"'].get_sessions()[0].document.roots[0]._id)\";\n",
       "      cell.notebook.kernel.execute(cmd, {\n",
       "        iopub: {\n",
       "          output: function(msg) {\n",
       "            var id = msg.content.text.trim();\n",
       "            if (id in Bokeh.index) {\n",
       "              Bokeh.index[id].model.document.clear();\n",
       "              delete Bokeh.index[id];\n",
       "            }\n",
       "          }\n",
       "        }\n",
       "      });\n",
       "      // Destroy server and session\n",
       "      var cmd = \"import bokeh.io.notebook as ion; ion.destroy_server('\" + server_id + \"')\";\n",
       "      cell.notebook.kernel.execute(cmd);\n",
       "    }\n",
       "  }\n",
       "\n",
       "  /**\n",
       "   * Handle when a new output is added\n",
       "   */\n",
       "  function handleAddOutput(event, handle) {\n",
       "    var output_area = handle.output_area;\n",
       "    var output = handle.output;\n",
       "\n",
       "    // limit handleAddOutput to display_data with EXEC_MIME_TYPE content only\n",
       "    if ((output.output_type != \"display_data\") || (!output.data.hasOwnProperty(EXEC_MIME_TYPE))) {\n",
       "      return\n",
       "    }\n",
       "\n",
       "    var toinsert = output_area.element.find(\".\" + CLASS_NAME.split(' ')[0]);\n",
       "\n",
       "    if (output.metadata[EXEC_MIME_TYPE][\"id\"] !== undefined) {\n",
       "      toinsert[toinsert.length - 1].firstChild.textContent = output.data[JS_MIME_TYPE];\n",
       "      // store reference to embed id on output_area\n",
       "      output_area._bokeh_element_id = output.metadata[EXEC_MIME_TYPE][\"id\"];\n",
       "    }\n",
       "    if (output.metadata[EXEC_MIME_TYPE][\"server_id\"] !== undefined) {\n",
       "      var bk_div = document.createElement(\"div\");\n",
       "      bk_div.innerHTML = output.data[HTML_MIME_TYPE];\n",
       "      var script_attrs = bk_div.children[0].attributes;\n",
       "      for (var i = 0; i < script_attrs.length; i++) {\n",
       "        toinsert[toinsert.length - 1].firstChild.setAttribute(script_attrs[i].name, script_attrs[i].value);\n",
       "        toinsert[toinsert.length - 1].firstChild.textContent = bk_div.children[0].textContent\n",
       "      }\n",
       "      // store reference to server id on output_area\n",
       "      output_area._bokeh_server_id = output.metadata[EXEC_MIME_TYPE][\"server_id\"];\n",
       "    }\n",
       "  }\n",
       "\n",
       "  function register_renderer(events, OutputArea) {\n",
       "\n",
       "    function append_mime(data, metadata, element) {\n",
       "      // create a DOM node to render to\n",
       "      var toinsert = this.create_output_subarea(\n",
       "        metadata,\n",
       "        CLASS_NAME,\n",
       "        EXEC_MIME_TYPE\n",
       "      );\n",
       "      this.keyboard_manager.register_events(toinsert);\n",
       "      // Render to node\n",
       "      var props = {data: data, metadata: metadata[EXEC_MIME_TYPE]};\n",
       "      render(props, toinsert[toinsert.length - 1]);\n",
       "      element.append(toinsert);\n",
       "      return toinsert\n",
       "    }\n",
       "\n",
       "    /* Handle when an output is cleared or removed */\n",
       "    events.on('clear_output.CodeCell', handleClearOutput);\n",
       "    events.on('delete.Cell', handleClearOutput);\n",
       "\n",
       "    /* Handle when a new output is added */\n",
       "    events.on('output_added.OutputArea', handleAddOutput);\n",
       "\n",
       "    /**\n",
       "     * Register the mime type and append_mime function with output_area\n",
       "     */\n",
       "    OutputArea.prototype.register_mime_type(EXEC_MIME_TYPE, append_mime, {\n",
       "      /* Is output safe? */\n",
       "      safe: true,\n",
       "      /* Index of renderer in `output_area.display_order` */\n",
       "      index: 0\n",
       "    });\n",
       "  }\n",
       "\n",
       "  // register the mime type if in Jupyter Notebook environment and previously unregistered\n",
       "  if (root.Jupyter !== undefined) {\n",
       "    var events = require('base/js/events');\n",
       "    var OutputArea = require('notebook/js/outputarea').OutputArea;\n",
       "\n",
       "    if (OutputArea.prototype.mime_types().indexOf(EXEC_MIME_TYPE) == -1) {\n",
       "      register_renderer(events, OutputArea);\n",
       "    }\n",
       "  }\n",
       "\n",
       "  \n",
       "  if (typeof (root._bokeh_timeout) === \"undefined\" || force === true) {\n",
       "    root._bokeh_timeout = Date.now() + 5000;\n",
       "    root._bokeh_failed_load = false;\n",
       "  }\n",
       "\n",
       "  var NB_LOAD_WARNING = {'data': {'text/html':\n",
       "     \"<div style='background-color: #fdd'>\\n\"+\n",
       "     \"<p>\\n\"+\n",
       "     \"BokehJS does not appear to have successfully loaded. If loading BokehJS from CDN, this \\n\"+\n",
       "     \"may be due to a slow or bad network connection. Possible fixes:\\n\"+\n",
       "     \"</p>\\n\"+\n",
       "     \"<ul>\\n\"+\n",
       "     \"<li>re-rerun `output_notebook()` to attempt to load from CDN again, or</li>\\n\"+\n",
       "     \"<li>use INLINE resources instead, as so:</li>\\n\"+\n",
       "     \"</ul>\\n\"+\n",
       "     \"<code>\\n\"+\n",
       "     \"from bokeh.resources import INLINE\\n\"+\n",
       "     \"output_notebook(resources=INLINE)\\n\"+\n",
       "     \"</code>\\n\"+\n",
       "     \"</div>\"}};\n",
       "\n",
       "  function display_loaded() {\n",
       "    var el = document.getElementById(\"1001\");\n",
       "    if (el != null) {\n",
       "      el.textContent = \"BokehJS is loading...\";\n",
       "    }\n",
       "    if (root.Bokeh !== undefined) {\n",
       "      if (el != null) {\n",
       "        el.textContent = \"BokehJS \" + root.Bokeh.version + \" successfully loaded.\";\n",
       "      }\n",
       "    } else if (Date.now() < root._bokeh_timeout) {\n",
       "      setTimeout(display_loaded, 100)\n",
       "    }\n",
       "  }\n",
       "\n",
       "\n",
       "  function run_callbacks() {\n",
       "    try {\n",
       "      root._bokeh_onload_callbacks.forEach(function(callback) {\n",
       "        if (callback != null)\n",
       "          callback();\n",
       "      });\n",
       "    } finally {\n",
       "      delete root._bokeh_onload_callbacks\n",
       "    }\n",
       "    console.debug(\"Bokeh: all callbacks have finished\");\n",
       "  }\n",
       "\n",
       "  function load_libs(css_urls, js_urls, callback) {\n",
       "    if (css_urls == null) css_urls = [];\n",
       "    if (js_urls == null) js_urls = [];\n",
       "\n",
       "    root._bokeh_onload_callbacks.push(callback);\n",
       "    if (root._bokeh_is_loading > 0) {\n",
       "      console.debug(\"Bokeh: BokehJS is being loaded, scheduling callback at\", now());\n",
       "      return null;\n",
       "    }\n",
       "    if (js_urls == null || js_urls.length === 0) {\n",
       "      run_callbacks();\n",
       "      return null;\n",
       "    }\n",
       "    console.debug(\"Bokeh: BokehJS not loaded, scheduling load and callback at\", now());\n",
       "    root._bokeh_is_loading = css_urls.length + js_urls.length;\n",
       "\n",
       "    function on_load() {\n",
       "      root._bokeh_is_loading--;\n",
       "      if (root._bokeh_is_loading === 0) {\n",
       "        console.debug(\"Bokeh: all BokehJS libraries/stylesheets loaded\");\n",
       "        run_callbacks()\n",
       "      }\n",
       "    }\n",
       "\n",
       "    function on_error() {\n",
       "      console.error(\"failed to load \" + url);\n",
       "    }\n",
       "\n",
       "    for (var i = 0; i < css_urls.length; i++) {\n",
       "      var url = css_urls[i];\n",
       "      const element = document.createElement(\"link\");\n",
       "      element.onload = on_load;\n",
       "      element.onerror = on_error;\n",
       "      element.rel = \"stylesheet\";\n",
       "      element.type = \"text/css\";\n",
       "      element.href = url;\n",
       "      console.debug(\"Bokeh: injecting link tag for BokehJS stylesheet: \", url);\n",
       "      document.body.appendChild(element);\n",
       "    }\n",
       "\n",
       "    for (var i = 0; i < js_urls.length; i++) {\n",
       "      var url = js_urls[i];\n",
       "      var element = document.createElement('script');\n",
       "      element.onload = on_load;\n",
       "      element.onerror = on_error;\n",
       "      element.async = false;\n",
       "      element.src = url;\n",
       "      \n",
       "      console.debug(\"Bokeh: injecting script tag for BokehJS library: \", url);\n",
       "      document.head.appendChild(element);\n",
       "    }\n",
       "  };var element = document.getElementById(\"1001\");\n",
       "  if (element == null) {\n",
       "    console.error(\"Bokeh: ERROR: autoload.js configured with elementid '1001' but no matching script tag was found. \")\n",
       "    return false;\n",
       "  }\n",
       "\n",
       "  function inject_raw_css(css) {\n",
       "    const element = document.createElement(\"style\");\n",
       "    element.appendChild(document.createTextNode(css));\n",
       "    document.body.appendChild(element);\n",
       "  }\n",
       "\n",
       "  \n",
       "  var js_urls = [\"https://cdn.bokeh.org/bokeh/release/bokeh-2.0.0.min.js\", \"https://cdn.bokeh.org/bokeh/release/bokeh-widgets-2.0.0.min.js\", \"https://cdn.bokeh.org/bokeh/release/bokeh-tables-2.0.0.min.js\", \"https://cdn.bokeh.org/bokeh/release/bokeh-gl-2.0.0.min.js\"];\n",
       "  var css_urls = [];\n",
       "  \n",
       "\n",
       "  var inline_js = [\n",
       "    function(Bokeh) {\n",
       "      Bokeh.set_log_level(\"info\");\n",
       "    },\n",
       "    function(Bokeh) {\n",
       "    \n",
       "    \n",
       "    }\n",
       "  ];\n",
       "\n",
       "  function run_inline_js() {\n",
       "    \n",
       "    if (root.Bokeh !== undefined || force === true) {\n",
       "      \n",
       "    for (var i = 0; i < inline_js.length; i++) {\n",
       "      inline_js[i].call(root, root.Bokeh);\n",
       "    }\n",
       "    if (force === true) {\n",
       "        display_loaded();\n",
       "      }} else if (Date.now() < root._bokeh_timeout) {\n",
       "      setTimeout(run_inline_js, 100);\n",
       "    } else if (!root._bokeh_failed_load) {\n",
       "      console.log(\"Bokeh: BokehJS failed to load within specified timeout.\");\n",
       "      root._bokeh_failed_load = true;\n",
       "    } else if (force !== true) {\n",
       "      var cell = $(document.getElementById(\"1001\")).parents('.cell').data().cell;\n",
       "      cell.output_area.append_execute_result(NB_LOAD_WARNING)\n",
       "    }\n",
       "\n",
       "  }\n",
       "\n",
       "  if (root._bokeh_is_loading === 0) {\n",
       "    console.debug(\"Bokeh: BokehJS loaded, going straight to plotting\");\n",
       "    run_inline_js();\n",
       "  } else {\n",
       "    load_libs(css_urls, js_urls, function() {\n",
       "      console.debug(\"Bokeh: BokehJS plotting callback run at\", now());\n",
       "      run_inline_js();\n",
       "    });\n",
       "  }\n",
       "}(window));"
      ],
      "application/vnd.bokehjs_load.v0+json": "\n(function(root) {\n  function now() {\n    return new Date();\n  }\n\n  var force = true;\n\n  if (typeof root._bokeh_onload_callbacks === \"undefined\" || force === true) {\n    root._bokeh_onload_callbacks = [];\n    root._bokeh_is_loading = undefined;\n  }\n\n  \n\n  \n  if (typeof (root._bokeh_timeout) === \"undefined\" || force === true) {\n    root._bokeh_timeout = Date.now() + 5000;\n    root._bokeh_failed_load = false;\n  }\n\n  var NB_LOAD_WARNING = {'data': {'text/html':\n     \"<div style='background-color: #fdd'>\\n\"+\n     \"<p>\\n\"+\n     \"BokehJS does not appear to have successfully loaded. If loading BokehJS from CDN, this \\n\"+\n     \"may be due to a slow or bad network connection. Possible fixes:\\n\"+\n     \"</p>\\n\"+\n     \"<ul>\\n\"+\n     \"<li>re-rerun `output_notebook()` to attempt to load from CDN again, or</li>\\n\"+\n     \"<li>use INLINE resources instead, as so:</li>\\n\"+\n     \"</ul>\\n\"+\n     \"<code>\\n\"+\n     \"from bokeh.resources import INLINE\\n\"+\n     \"output_notebook(resources=INLINE)\\n\"+\n     \"</code>\\n\"+\n     \"</div>\"}};\n\n  function display_loaded() {\n    var el = document.getElementById(\"1001\");\n    if (el != null) {\n      el.textContent = \"BokehJS is loading...\";\n    }\n    if (root.Bokeh !== undefined) {\n      if (el != null) {\n        el.textContent = \"BokehJS \" + root.Bokeh.version + \" successfully loaded.\";\n      }\n    } else if (Date.now() < root._bokeh_timeout) {\n      setTimeout(display_loaded, 100)\n    }\n  }\n\n\n  function run_callbacks() {\n    try {\n      root._bokeh_onload_callbacks.forEach(function(callback) {\n        if (callback != null)\n          callback();\n      });\n    } finally {\n      delete root._bokeh_onload_callbacks\n    }\n    console.debug(\"Bokeh: all callbacks have finished\");\n  }\n\n  function load_libs(css_urls, js_urls, callback) {\n    if (css_urls == null) css_urls = [];\n    if (js_urls == null) js_urls = [];\n\n    root._bokeh_onload_callbacks.push(callback);\n    if (root._bokeh_is_loading > 0) {\n      console.debug(\"Bokeh: BokehJS is being loaded, scheduling callback at\", now());\n      return null;\n    }\n    if (js_urls == null || js_urls.length === 0) {\n      run_callbacks();\n      return null;\n    }\n    console.debug(\"Bokeh: BokehJS not loaded, scheduling load and callback at\", now());\n    root._bokeh_is_loading = css_urls.length + js_urls.length;\n\n    function on_load() {\n      root._bokeh_is_loading--;\n      if (root._bokeh_is_loading === 0) {\n        console.debug(\"Bokeh: all BokehJS libraries/stylesheets loaded\");\n        run_callbacks()\n      }\n    }\n\n    function on_error() {\n      console.error(\"failed to load \" + url);\n    }\n\n    for (var i = 0; i < css_urls.length; i++) {\n      var url = css_urls[i];\n      const element = document.createElement(\"link\");\n      element.onload = on_load;\n      element.onerror = on_error;\n      element.rel = \"stylesheet\";\n      element.type = \"text/css\";\n      element.href = url;\n      console.debug(\"Bokeh: injecting link tag for BokehJS stylesheet: \", url);\n      document.body.appendChild(element);\n    }\n\n    for (var i = 0; i < js_urls.length; i++) {\n      var url = js_urls[i];\n      var element = document.createElement('script');\n      element.onload = on_load;\n      element.onerror = on_error;\n      element.async = false;\n      element.src = url;\n      \n      console.debug(\"Bokeh: injecting script tag for BokehJS library: \", url);\n      document.head.appendChild(element);\n    }\n  };var element = document.getElementById(\"1001\");\n  if (element == null) {\n    console.error(\"Bokeh: ERROR: autoload.js configured with elementid '1001' but no matching script tag was found. \")\n    return false;\n  }\n\n  function inject_raw_css(css) {\n    const element = document.createElement(\"style\");\n    element.appendChild(document.createTextNode(css));\n    document.body.appendChild(element);\n  }\n\n  \n  var js_urls = [\"https://cdn.bokeh.org/bokeh/release/bokeh-2.0.0.min.js\", \"https://cdn.bokeh.org/bokeh/release/bokeh-widgets-2.0.0.min.js\", \"https://cdn.bokeh.org/bokeh/release/bokeh-tables-2.0.0.min.js\", \"https://cdn.bokeh.org/bokeh/release/bokeh-gl-2.0.0.min.js\"];\n  var css_urls = [];\n  \n\n  var inline_js = [\n    function(Bokeh) {\n      Bokeh.set_log_level(\"info\");\n    },\n    function(Bokeh) {\n    \n    \n    }\n  ];\n\n  function run_inline_js() {\n    \n    if (root.Bokeh !== undefined || force === true) {\n      \n    for (var i = 0; i < inline_js.length; i++) {\n      inline_js[i].call(root, root.Bokeh);\n    }\n    if (force === true) {\n        display_loaded();\n      }} else if (Date.now() < root._bokeh_timeout) {\n      setTimeout(run_inline_js, 100);\n    } else if (!root._bokeh_failed_load) {\n      console.log(\"Bokeh: BokehJS failed to load within specified timeout.\");\n      root._bokeh_failed_load = true;\n    } else if (force !== true) {\n      var cell = $(document.getElementById(\"1001\")).parents('.cell').data().cell;\n      cell.output_area.append_execute_result(NB_LOAD_WARNING)\n    }\n\n  }\n\n  if (root._bokeh_is_loading === 0) {\n    console.debug(\"Bokeh: BokehJS loaded, going straight to plotting\");\n    run_inline_js();\n  } else {\n    load_libs(css_urls, js_urls, function() {\n      console.debug(\"Bokeh: BokehJS plotting callback run at\", now());\n      run_inline_js();\n    });\n  }\n}(window));"
     },
     "metadata": {},
     "output_type": "display_data"
    }
   ],
   "source": [
    "# required to display Bokeh charts in Jupyter Notebooks\n",
    "from bokeh.io import output_notebook, show\n",
    "output_notebook()"
   ]
  },
  {
   "cell_type": "code",
   "execution_count": 2,
   "metadata": {},
   "outputs": [],
   "source": [
    "from see19 import CaseStudy, get_baseframe\n",
    "baseframe = get_baseframe()"
   ]
  },
  {
   "cell_type": "code",
   "execution_count": 3,
   "metadata": {},
   "outputs": [],
   "source": [
    "itaregions = list(baseframe[baseframe['country'] == 'Italy'] \\\n",
    "    .sort_values(by='deaths', ascending=False).region_name.unique())[:5]\n",
    "\n",
    "casestudy = CaseStudy(baseframe, regions=itaregions, start_hurdle=3, start_factor='deaths')"
   ]
  },
  {
   "cell_type": "markdown",
   "metadata": {},
   "source": [
    "When `CaseStudy` is instantiated, `comp_chart` is also instantiated with its own attributes."
   ]
  },
  {
   "cell_type": "code",
   "execution_count": 4,
   "metadata": {},
   "outputs": [
    {
     "name": "stdout",
     "output_type": "stream",
     "text": [
      "<see19.charts.CompChart2D object at 0x124ef5a90>\n"
     ]
    }
   ],
   "source": [
    "print (casestudy.comp_chart)"
   ]
  },
  {
   "cell_type": "markdown",
   "metadata": {},
   "source": [
    "In particular, all the various `comp_categories` and `factors` are automatically provided labels via the `label` attribute. There tens of labels but some are show below for illustration purposes."
   ]
  },
  {
   "cell_type": "code",
   "execution_count": 8,
   "metadata": {},
   "outputs": [
    {
     "name": "stdout",
     "output_type": "stream",
     "text": [
      "max_days: Days Since 3 Deaths Until Max Fatality Rate\n",
      "deaths: Days Since 3 Deaths\n",
      "deaths_new_dma_per_1M: Daily Deaths per 1M (3DMA)\n",
      "deaths_per_1M: Cumulative Deaths per 1M\n",
      "deaths_new_dma_per_1M_lognat: Daily Deaths per 1M (3DMA)\n",
      "(Natural Log)\n",
      "deaths_new_dma_per_person_per_land_KM2: Daily Deaths / Person / Land KM² (3DMA)\n",
      "deaths_new_dma_per_person_per_city_KM2: Daily Deaths / Person / City KM² (3DMA)\n",
      "deaths_new_dma_per_person_per_city_KM2_lognat: Daily Deaths / Person / Land KM² (3DMA)\n",
      "(Natural Log)\n",
      "deaths_per_person_per_land_KM2: Total Deaths / Person / Land KM² (3DMA)\n",
      "deaths_per_person_per_city_KM2: Total Deaths / Person / City KM² (3DMA)\n",
      "cases_new_dma_per_1M: Daily Cases per 1M (3DMA)\n",
      "cases_new_dma_per_1M_lognat: Daily Cases per 1M (3DMA)\n",
      "(Natural Log)\n",
      "cases_new_dma_per_person_per_city_KM2: Total Cases / Person / City KM² (3DMA)\n",
      "cases_new_dma_per_person_per_land_KM2: Total Cases / Person / Land KM² (3DMA)\n",
      "cases_new_dma_per_person_per_city_KM2_lognat: Total Cases / Person / City KM² (3DMA)\n",
      "(Natural Log)\n",
      "temp: Temperature (°C)\n"
     ]
    }
   ],
   "source": [
    "for k,v in casestudy.comp_chart.labels.items():\n",
    "    print ('{}: {}'.format(k, v))\n",
    "    if k == 'temp':\n",
    "        break"
   ]
  },
  {
   "cell_type": "markdown",
   "metadata": {},
   "source": [
    "#### make\n",
    "\n",
    "Charts are rendered with the `make` method. \n",
    "\n",
    "The basic `comp_chart` is structured as the `comp_category` on the y-axis with the number of days from the `start_hurdle` on the x-axis.\n",
    "\n",
    "`comp_category` is the major keyword, which defaults to `deaths_new_dma_per_1M`\n",
    "\n",
    "`make` accepts many optional kwargs. Below we see that `height` and `width` can be customized and that the positioning of the line labels can be adjusted using `label_offsets`"
   ]
  },
  {
   "cell_type": "code",
   "execution_count": 21,
   "metadata": {},
   "outputs": [
    {
     "data": {
      "text/html": [
       "\n",
       "\n",
       "\n",
       "\n",
       "\n",
       "\n",
       "  <div class=\"bk-root\" id=\"3271448e-e4fe-4afd-8840-e89a995bf43e\" data-root-id=\"2719\"></div>\n"
      ]
     },
     "metadata": {},
     "output_type": "display_data"
    },
    {
     "data": {
      "application/javascript": [
       "(function(root) {\n",
       "  function embed_document(root) {\n",
       "    \n",
       "  var docs_json = {\"ba3af61c-64f7-4399-a500-8f025608ea08\":{\"roots\":{\"references\":[{\"attributes\":{\"below\":[{\"id\":\"2729\"}],\"center\":[{\"id\":\"2732\"},{\"id\":\"2736\"},{\"id\":\"2756\"},{\"id\":\"2757\"},{\"id\":\"2758\"},{\"id\":\"2759\"},{\"id\":\"2760\"}],\"left\":[{\"id\":\"2733\"}],\"min_border\":0,\"plot_height\":500,\"plot_width\":725,\"renderers\":[{\"id\":\"2754\"}],\"title\":{\"id\":\"2720\"},\"toolbar\":{\"id\":\"2743\"},\"toolbar_location\":null,\"x_range\":{\"id\":\"2722\"},\"x_scale\":{\"id\":\"2725\"},\"y_range\":{\"id\":\"2718\"},\"y_scale\":{\"id\":\"2727\"}},\"id\":\"2719\",\"subtype\":\"Figure\",\"type\":\"Plot\"},{\"attributes\":{},\"id\":\"2722\",\"type\":\"DataRange1d\"},{\"attributes\":{\"text\":\"Piemonte\",\"text_alpha\":0.6,\"text_color\":\"#29788E\",\"text_font_size\":\"8pt\",\"x\":58,\"x_offset\":-40,\"y\":6.593163625301619,\"y_offset\":-20},\"id\":\"2758\",\"type\":\"Label\"},{\"attributes\":{\"active_drag\":\"auto\",\"active_inspect\":\"auto\",\"active_multi\":null,\"active_scroll\":\"auto\",\"active_tap\":\"auto\",\"tools\":[{\"id\":\"2737\"},{\"id\":\"2738\"},{\"id\":\"2739\"},{\"id\":\"2740\"},{\"id\":\"2741\"},{\"id\":\"2742\"}]},\"id\":\"2743\",\"type\":\"Toolbar\"},{\"attributes\":{\"axis_label\":\"Days Since 3 Deaths\",\"formatter\":{\"id\":\"2861\"},\"major_tick_line_color\":null,\"ticker\":{\"id\":\"2730\"}},\"id\":\"2729\",\"type\":\"LinearAxis\"},{\"attributes\":{},\"id\":\"2730\",\"type\":\"BasicTicker\"},{\"attributes\":{},\"id\":\"2863\",\"type\":\"Selection\"},{\"attributes\":{},\"id\":\"2737\",\"type\":\"PanTool\"},{\"attributes\":{},\"id\":\"2862\",\"type\":\"UnionRenderers\"},{\"attributes\":{},\"id\":\"2738\",\"type\":\"WheelZoomTool\"},{\"attributes\":{\"text\":\"Veneto\",\"text_alpha\":0.6,\"text_color\":\"#440154\",\"text_font_size\":\"8pt\",\"x\":61,\"x_offset\":-20,\"y\":3.9405327973655666,\"y_offset\":-15},\"id\":\"2756\",\"type\":\"Label\"},{\"attributes\":{\"bottom_units\":\"screen\",\"fill_alpha\":0.5,\"fill_color\":\"lightgrey\",\"left_units\":\"screen\",\"level\":\"overlay\",\"line_alpha\":1.0,\"line_color\":\"black\",\"line_dash\":[4,4],\"line_width\":2,\"render_mode\":\"css\",\"right_units\":\"screen\",\"top_units\":\"screen\"},\"id\":\"2864\",\"type\":\"BoxAnnotation\"},{\"attributes\":{\"overlay\":{\"id\":\"2864\"}},\"id\":\"2739\",\"type\":\"BoxZoomTool\"},{\"attributes\":{},\"id\":\"2734\",\"type\":\"BasicTicker\"},{\"attributes\":{},\"id\":\"2740\",\"type\":\"SaveTool\"},{\"attributes\":{\"axis_label\":\"Daily Deaths per 1M (3DMA)\",\"formatter\":{\"id\":\"2859\"},\"ticker\":{\"id\":\"2734\"}},\"id\":\"2733\",\"type\":\"LinearAxis\"},{\"attributes\":{},\"id\":\"2725\",\"type\":\"LinearScale\"},{\"attributes\":{},\"id\":\"2741\",\"type\":\"ResetTool\"},{\"attributes\":{\"axis\":{\"id\":\"2733\"},\"dimension\":1,\"ticker\":null},\"id\":\"2736\",\"type\":\"Grid\"},{\"attributes\":{\"line_alpha\":{\"value\":0.1},\"line_color\":{\"field\":\"color\"},\"line_width\":{\"value\":5},\"xs\":{\"field\":\"x\"},\"ys\":{\"field\":\"y\"}},\"id\":\"2753\",\"type\":\"MultiLine\"},{\"attributes\":{},\"id\":\"2742\",\"type\":\"HelpTool\"},{\"attributes\":{\"text\":\"Emilia-Romagna\",\"text_alpha\":0.6,\"text_color\":\"#22A784\",\"text_font_size\":\"8pt\",\"x\":64,\"x_offset\":-25,\"y\":7.045114747112896,\"y_offset\":-17},\"id\":\"2759\",\"type\":\"Label\"},{\"attributes\":{\"text\":\"Lombardia\",\"text_alpha\":0.6,\"text_color\":\"#404387\",\"text_font_size\":\"8pt\",\"x\":66,\"x_offset\":-30,\"y\":15.885910505632957,\"y_offset\":15},\"id\":\"2757\",\"type\":\"Label\"},{\"attributes\":{},\"id\":\"2861\",\"type\":\"BasicTickFormatter\"},{\"attributes\":{\"text\":\"Liguria\",\"text_alpha\":0.6,\"text_color\":\"#79D151\",\"text_font_size\":\"8pt\",\"x\":59,\"x_offset\":-190,\"y\":8.913876039819558},\"id\":\"2760\",\"type\":\"Label\"},{\"attributes\":{\"end\":54.474136907060995,\"start\":0.06913215433974679},\"id\":\"2718\",\"type\":\"Range1d\"},{\"attributes\":{\"data\":{\"color\":[\"#440154\",\"#404387\",\"#29788E\",\"#22A784\",\"#79D151\"],\"regions\":[\"Veneto\",\"Lombardia\",\"Piemonte\",\"Emilia-Romagna\",\"Liguria\"],\"x\":[[0,1,2,3,4,5,6,7,8,9,10,11,12,13,14,15,16,17,18,19,20,21,22,23,24,25,26,27,28,29,30,31,32,33,34,35,36,37,38,39,40,41,42,43,44,45,46,47,48,49,50,51,52,53,54,55,56,57,58,59,60,61],[0,1,2,3,4,5,6,7,8,9,10,11,12,13,14,15,16,17,18,19,20,21,22,23,24,25,26,27,28,29,30,31,32,33,34,35,36,37,38,39,40,41,42,43,44,45,46,47,48,49,50,51,52,53,54,55,56,57,58,59,60,61,62,63,64,65,66],[0,1,2,3,4,5,6,7,8,9,10,11,12,13,14,15,16,17,18,19,20,21,22,23,24,25,26,27,28,29,30,31,32,33,34,35,36,37,38,39,40,41,42,43,44,45,46,47,48,49,50,51,52,53,54,55,56,57,58],[0,1,2,3,4,5,6,7,8,9,10,11,12,13,14,15,16,17,18,19,20,21,22,23,24,25,26,27,28,29,30,31,32,33,34,35,36,37,38,39,40,41,42,43,44,45,46,47,48,49,50,51,52,53,54,55,56,57,58,59,60,61,62,63,64],[0,1,2,3,4,5,6,7,8,9,10,11,12,13,14,15,16,17,18,19,20,21,22,23,24,25,26,27,28,29,30,31,32,33,34,35,36,37,38,39,40,41,42,43,44,45,46,47,48,49,50,51,52,53,54,55,56,57,58,59]],\"y\":[[0.06913215433974679,0.27652861735898715,0.5530572347179743,0.6221893890577211,0.48392508037822757,0.5530572347179743,0.5530572347179743,0.8987180064167082,0.7604536977372147,0.8295858520769616,1.1061144694359486,1.7974360128334164,2.1430967845321507,1.8665681671731635,1.7283038584936699,2.1430967845321507,3.180079099628353,3.525739871327086,3.5948720256668327,3.733136334346327,4.217061414724554,4.839250803782275,6.152761736237465,6.5675546622759455,6.7058189709554386,7.1897440513336655,7.258876205673413,6.913215433974679,7.950197749070882,7.397140514352906,8.226726366429869,6.5675546622759455,7.466272668692654,6.8440832796349325,6.221893890577212,6.083629581897718,7.258876205673413,6.498422507936199,6.774951125295185,6.5675546622759455,6.913215433974679,6.152761736237465,5.184911575481009,5.80710096453873,6.8440832796349325,8.295858520769615,8.226726366429869,7.32800836001316,5.945365273218224,6.5675546622759455,6.498422507936199,6.498422507936199,6.221893890577212,7.397140514352906,7.535404823032401,6.913215433974679,8.295858520769615,8.434122829449109,7.950197749070882,4.908382958122022,4.493590032083542,3.9405327973655666],[0.27687861447726286,0.27687861447726286,0.48453757533521,0.3460982680965786,0.726806363002815,1.1075144579090515,1.695881513673235,2.0765896085794715,2.768786144772629,2.8033959715822863,5.8490607308321785,6.852745708312256,10.867485618232568,12.113439383380252,14.22463881876938,14.605346913675616,12.078829556570593,16.405057907777827,18.343208209118664,23.327023269709397,25.645881665956473,25.888150453624082,31.460332569978995,39.31676325577133,44.57745693083932,42.46625749545019,37.48244243485946,35.2328036922317,37.55166208847878,42.362428015021216,50.87644541019705,51.880130387677134,49.00751476247552,43.43533264612061,42.673916456308135,39.524422216629276,38.48612741233954,36.7902458986663,32.70628633512668,30.83735568740515,28.656936598396708,28.27622850349047,28.380057983919443,26.095809414482027,27.307153352820052,20.731286258985058,22.94631517480316,21.83880071689411,26.16502906810134,24.469147554428105,24.538367208047422,23.29241344289974,20.938945219843003,18.170159075070373,18.308598382309007,18.23937872868969,19.519942320647033,18.23937872868969,18.308598382309007,13.324783321718277,11.871170595712645,10.590607003755304,12.25187869061888,11.178974059519488,9.86380064075249,17.65101167292551,15.885910505632957],[0.3066587732698427,0.38332346658730343,0.22999407995238202,0.6899822398571461,0.9199763198095281,1.2266350930793708,0.9966410131269888,2.2232761062063595,2.9132583460635053,4.216558132460337,4.9832050656349445,5.67318730549209,5.596522612174629,4.906540372317483,5.826516692127011,6.4398342386666965,8.279786878285753,8.12645749165083,10.426398291174651,12.726339090698472,10.273068904539729,14.949615196904832,12.879668477333393,18.016202929603256,13.799644797142921,18.16953231623818,15.486268050127054,17.9395382362858,14.489627037000067,18.552855782825485,14.182968263730224,15.946256210031821,14.642956423634988,16.099585596666742,15.562932743444518,16.329579676619122,19.54949679595247,21.082790662301687,22.53941983533344,22.53941983533344,21.92610228879375,20.546137809079458,18.706185169460404,18.16953231623818,18.16953231623818,18.24619700955564,17.862873542968337,17.479550076381035,16.94289722315881,16.406244369936584,15.946256210031821,14.796285810269909,13.72298010382546,12.956333170650854,13.799644797142921,14.412962343682608,12.343015624111167,9.429757278047664,6.593163625301619],[0.23225653012460099,0.541931903624069,0.6967695903738029,1.083863807248138,1.083863807248138,1.470958024122473,1.470958024122473,2.0128899277465417,2.0128899277465417,2.554821831370611,2.8644972048700788,4.412874072367419,5.883832096489892,8.980585831484571,9.909611951982974,10.683800385731645,11.225732289355715,11.767664192979783,13.470878747226857,14.322486024350393,19.122454313592147,19.896642747340817,22.064370361837092,19.509548530466482,20.903087711214088,20.206318120840283,21.832113831712494,21.832113831712494,20.67083118108949,20.825668867839223,20.980506554588953,23.225653012460096,22.374045735336562,21.13534424133869,19.974061590715685,18.967616626842414,18.58052240996808,15.948281735222603,15.716025205098001,14.16764833760066,16.103119421972334,16.79988901234614,19.122454313592147,19.199873156967016,16.877307855721007,17.341820915970207,17.341820915970207,17.651496289469677,15.328930988223663,13.703135277351459,13.935391807476059,13.62571643397659,14.090229494225792,14.012810650850927,14.70958024122473,12.077339566479251,11.070894602605978,9.058004674859438,9.909611951982974,9.677355421858374,9.754774265233241,9.29026120498404,8.283816241110769,7.896722024236434,7.045114747112896],[0.6367054314156827,0.4244702876104551,0.6367054314156827,0.6367054314156827,0.8489405752209102,0.8489405752209102,0.4244702876104551,0.8489405752209102,1.910116294247048,4.032467732299324,4.669173163715006,7.003759745572509,7.003759745572509,8.489405752209104,8.701640896014329,12.521873484508427,16.766576360612977,16.978811504418207,19.737868373886162,16.766576360612977,17.615516935833888,14.431989778755474,21.223514380522758,22.072454955743666,20.586808949107073,14.007519491145018,14.85646006636593,17.615516935833888,19.313398086275708,19.313398086275708,17.403281792028658,14.431989778755474,16.129870929197295,16.55434121680775,20.7990440929123,18.4644575110548,18.888927798665254,16.978811504418207,14.219754634950245,10.823992334066606,12.521873484508427,12.309638340703199,14.431989778755474,15.493165497781613,19.10116294247048,21.223514380522758,19.313398086275708,19.737868373886162,19.950103517691392,19.10116294247048,18.25222236724957,15.068695210171159,14.219754634950245,11.036227477871833,10.187286902650923,8.064935464598648,8.277170608403875,9.126111183624785,9.126111183624785,8.913876039819558]]},\"selected\":{\"id\":\"2863\"},\"selection_policy\":{\"id\":\"2862\"}},\"id\":\"2750\",\"type\":\"ColumnDataSource\"},{\"attributes\":{},\"id\":\"2727\",\"type\":\"LinearScale\"},{\"attributes\":{\"data_source\":{\"id\":\"2750\"},\"glyph\":{\"id\":\"2752\"},\"hover_glyph\":null,\"muted_glyph\":null,\"nonselection_glyph\":{\"id\":\"2753\"},\"selection_glyph\":null,\"view\":{\"id\":\"2755\"}},\"id\":\"2754\",\"type\":\"GlyphRenderer\"},{\"attributes\":{\"text\":\"Comparison of Daily Fatalities as of May 03\"},\"id\":\"2720\",\"type\":\"Title\"},{\"attributes\":{\"source\":{\"id\":\"2750\"}},\"id\":\"2755\",\"type\":\"CDSView\"},{\"attributes\":{},\"id\":\"2859\",\"type\":\"BasicTickFormatter\"},{\"attributes\":{\"line_color\":{\"field\":\"color\"},\"line_width\":{\"value\":5},\"xs\":{\"field\":\"x\"},\"ys\":{\"field\":\"y\"}},\"id\":\"2752\",\"type\":\"MultiLine\"},{\"attributes\":{\"axis\":{\"id\":\"2729\"},\"grid_line_color\":null,\"ticker\":null},\"id\":\"2732\",\"type\":\"Grid\"}],\"root_ids\":[\"2719\"]},\"title\":\"Bokeh Application\",\"version\":\"2.0.0\"}};\n",
       "  var render_items = [{\"docid\":\"ba3af61c-64f7-4399-a500-8f025608ea08\",\"root_ids\":[\"2719\"],\"roots\":{\"2719\":\"3271448e-e4fe-4afd-8840-e89a995bf43e\"}}];\n",
       "  root.Bokeh.embed.embed_items_notebook(docs_json, render_items);\n",
       "\n",
       "  }\n",
       "  if (root.Bokeh !== undefined) {\n",
       "    embed_document(root);\n",
       "  } else {\n",
       "    var attempts = 0;\n",
       "    var timer = setInterval(function(root) {\n",
       "      if (root.Bokeh !== undefined) {\n",
       "        clearInterval(timer);\n",
       "        embed_document(root);\n",
       "      } else {\n",
       "        attempts++;\n",
       "        if (attempts > 100) {\n",
       "          clearInterval(timer);\n",
       "          console.log(\"Bokeh: ERROR: Unable to run BokehJS code because BokehJS library is missing\");\n",
       "        }\n",
       "      }\n",
       "    }, 10, root)\n",
       "  }\n",
       "})(window);"
      ],
      "application/vnd.bokehjs_exec.v0+json": ""
     },
     "metadata": {
      "application/vnd.bokehjs_exec.v0+json": {
       "id": "2719"
      }
     },
     "output_type": "display_data"
    }
   ],
   "source": [
    "kwargs = {\n",
    "    'width': 725, 'height': 500,\n",
    "    'label_offsets': {\n",
    "        'Liguria': {'x_offset': -170, 'y_offset': -5},\n",
    "        'Veneto': {'x_offset': 0, 'y_offset': -20},\n",
    "        'Piemonte': {'x_offset': -20, 'y_offset': -25},\n",
    "        'Emilia-Romagna': {'x_offset': -5, 'y_offset': -22},\n",
    "        'Lombardia': {'x_offset': -10, 'y_offset': 10},\n",
    "    },    \n",
    "}\n",
    "p = casestudy.comp_chart.make(comp_type='multiline', **kwargs)\n",
    "show(p)"
   ]
  },
  {
   "cell_type": "markdown",
   "metadata": {},
   "source": [
    "After `make` is called, many other attributes are available on the `casestudy.comp_chart` instance, including a dataframe tailor-made to the chart"
   ]
  },
  {
   "cell_type": "code",
   "execution_count": 22,
   "metadata": {},
   "outputs": [
    {
     "data": {
      "text/html": [
       "<div>\n",
       "<style scoped>\n",
       "    .dataframe tbody tr th:only-of-type {\n",
       "        vertical-align: middle;\n",
       "    }\n",
       "\n",
       "    .dataframe tbody tr th {\n",
       "        vertical-align: top;\n",
       "    }\n",
       "\n",
       "    .dataframe thead th {\n",
       "        text-align: right;\n",
       "    }\n",
       "</style>\n",
       "<table border=\"1\" class=\"dataframe\">\n",
       "  <thead>\n",
       "    <tr style=\"text-align: right;\">\n",
       "      <th></th>\n",
       "      <th>region_id</th>\n",
       "      <th>country_id</th>\n",
       "      <th>region_name</th>\n",
       "      <th>country_code</th>\n",
       "      <th>country</th>\n",
       "      <th>date</th>\n",
       "      <th>cases</th>\n",
       "      <th>deaths</th>\n",
       "      <th>population</th>\n",
       "      <th>land_KM2</th>\n",
       "      <th>...</th>\n",
       "      <th>growth_deaths_new_dma_per_1M</th>\n",
       "      <th>growth_deaths_new_dma_per_person_per_land_KM2</th>\n",
       "      <th>growth_deaths_new_dma_per_person_per_city_KM2</th>\n",
       "      <th>growth_cases_per_1M</th>\n",
       "      <th>growth_cases_per_person_per_land_KM2</th>\n",
       "      <th>growth_cases_per_person_per_city_KM2</th>\n",
       "      <th>growth_deaths_per_1M</th>\n",
       "      <th>growth_deaths_per_person_per_land_KM2</th>\n",
       "      <th>growth_deaths_per_person_per_city_KM2</th>\n",
       "      <th>days</th>\n",
       "    </tr>\n",
       "  </thead>\n",
       "  <tbody>\n",
       "    <tr>\n",
       "      <th>36017</th>\n",
       "      <td>34</td>\n",
       "      <td>110</td>\n",
       "      <td>Veneto</td>\n",
       "      <td>ITA</td>\n",
       "      <td>Italy</td>\n",
       "      <td>2020-03-03 00:00:00+00:00</td>\n",
       "      <td>307.0</td>\n",
       "      <td>3.0</td>\n",
       "      <td>4821683.0</td>\n",
       "      <td>14681.071027</td>\n",
       "      <td>...</td>\n",
       "      <td>NaN</td>\n",
       "      <td>NaN</td>\n",
       "      <td>NaN</td>\n",
       "      <td>1.124542</td>\n",
       "      <td>1.124542</td>\n",
       "      <td>1.124542</td>\n",
       "      <td>1.5</td>\n",
       "      <td>1.5</td>\n",
       "      <td>1.5</td>\n",
       "      <td>0 days</td>\n",
       "    </tr>\n",
       "    <tr>\n",
       "      <th>36018</th>\n",
       "      <td>34</td>\n",
       "      <td>110</td>\n",
       "      <td>Veneto</td>\n",
       "      <td>ITA</td>\n",
       "      <td>Italy</td>\n",
       "      <td>2020-03-04 00:00:00+00:00</td>\n",
       "      <td>360.0</td>\n",
       "      <td>6.0</td>\n",
       "      <td>4821683.0</td>\n",
       "      <td>14681.071027</td>\n",
       "      <td>...</td>\n",
       "      <td>4.0</td>\n",
       "      <td>4.0</td>\n",
       "      <td>4.0</td>\n",
       "      <td>1.172638</td>\n",
       "      <td>1.172638</td>\n",
       "      <td>1.172638</td>\n",
       "      <td>2.0</td>\n",
       "      <td>2.0</td>\n",
       "      <td>2.0</td>\n",
       "      <td>1 days</td>\n",
       "    </tr>\n",
       "  </tbody>\n",
       "</table>\n",
       "<p>2 rows × 74 columns</p>\n",
       "</div>"
      ],
      "text/plain": [
       "       region_id  country_id region_name country_code country  \\\n",
       "36017         34         110      Veneto          ITA   Italy   \n",
       "36018         34         110      Veneto          ITA   Italy   \n",
       "\n",
       "                           date  cases  deaths  population      land_KM2  ...  \\\n",
       "36017 2020-03-03 00:00:00+00:00  307.0     3.0   4821683.0  14681.071027  ...   \n",
       "36018 2020-03-04 00:00:00+00:00  360.0     6.0   4821683.0  14681.071027  ...   \n",
       "\n",
       "       growth_deaths_new_dma_per_1M  \\\n",
       "36017                           NaN   \n",
       "36018                           4.0   \n",
       "\n",
       "       growth_deaths_new_dma_per_person_per_land_KM2  \\\n",
       "36017                                            NaN   \n",
       "36018                                            4.0   \n",
       "\n",
       "       growth_deaths_new_dma_per_person_per_city_KM2  growth_cases_per_1M  \\\n",
       "36017                                            NaN             1.124542   \n",
       "36018                                            4.0             1.172638   \n",
       "\n",
       "       growth_cases_per_person_per_land_KM2  \\\n",
       "36017                              1.124542   \n",
       "36018                              1.172638   \n",
       "\n",
       "       growth_cases_per_person_per_city_KM2  growth_deaths_per_1M  \\\n",
       "36017                              1.124542                   1.5   \n",
       "36018                              1.172638                   2.0   \n",
       "\n",
       "       growth_deaths_per_person_per_land_KM2  \\\n",
       "36017                                    1.5   \n",
       "36018                                    2.0   \n",
       "\n",
       "       growth_deaths_per_person_per_city_KM2   days  \n",
       "36017                                    1.5 0 days  \n",
       "36018                                    2.0 1 days  \n",
       "\n",
       "[2 rows x 74 columns]"
      ]
     },
     "execution_count": 22,
     "metadata": {},
     "output_type": "execute_result"
    }
   ],
   "source": [
    "casestudy.comp_chart.df_comp.head(2)"
   ]
  },
  {
   "cell_type": "markdown",
   "metadata": {},
   "source": [
    "As mentioned, `comp_chart` can accept additional keywords. Here we change `comp_category`, `palette_base`, increase the axis label size, and narrow the `regions` further.\n",
    "\n",
    "We also add a custom title."
   ]
  },
  {
   "cell_type": "code",
   "execution_count": 24,
   "metadata": {},
   "outputs": [
    {
     "data": {
      "text/html": [
       "\n",
       "\n",
       "\n",
       "\n",
       "\n",
       "\n",
       "  <div class=\"bk-root\" id=\"91f2835a-e48f-4287-9698-3cfec083821d\" data-root-id=\"3114\"></div>\n"
      ]
     },
     "metadata": {},
     "output_type": "display_data"
    },
    {
     "data": {
      "application/javascript": [
       "(function(root) {\n",
       "  function embed_document(root) {\n",
       "    \n",
       "  var docs_json = {\"0aef7ff5-06c4-49f7-a2db-eaa0d1af528f\":{\"roots\":{\"references\":[{\"attributes\":{\"below\":[{\"id\":\"3124\"}],\"center\":[{\"id\":\"3127\"},{\"id\":\"3131\"},{\"id\":\"3151\"},{\"id\":\"3152\"}],\"left\":[{\"id\":\"3128\"}],\"min_border\":0,\"plot_height\":500,\"plot_width\":725,\"renderers\":[{\"id\":\"3149\"}],\"title\":{\"id\":\"3115\"},\"toolbar\":{\"id\":\"3138\"},\"toolbar_location\":null,\"x_range\":{\"id\":\"3117\"},\"x_scale\":{\"id\":\"3120\"},\"y_range\":{\"id\":\"3113\"},\"y_scale\":{\"id\":\"3122\"}},\"id\":\"3114\",\"subtype\":\"Figure\",\"type\":\"Plot\"},{\"attributes\":{},\"id\":\"3133\",\"type\":\"WheelZoomTool\"},{\"attributes\":{},\"id\":\"3125\",\"type\":\"BasicTicker\"},{\"attributes\":{\"overlay\":{\"id\":\"3272\"}},\"id\":\"3134\",\"type\":\"BoxZoomTool\"},{\"attributes\":{\"data\":{\"color\":[\"#393b79\",\"#e7ba52\"],\"regions\":[\"Lombardia\",\"Piemonte\"],\"x\":[[0,1,2,3,4,5,6,7,8,9,10,11,12,13,14,15,16,17,18,19,20,21,22,23,24,25,26,27,28,29,30,31,32,33,34,35,36,37,38,39,40,41,42,43,44,45,46,47,48,49,50,51,52,53,54,55,56,57,58,59,60,61,62,63,64,65,66,67,68,69],[0,1,2,3,4,5,6,7,8,9,10,11,12,13,14,15,16,17,18,19,20,21,22,23,24,25,26,27,28,29,30,31,32,33,34,35,36,37,38,39,40,41,42,43,44,45,46,47,48,49,50,51,52,53,54,55,56,57,58]],\"y\":[[0.010140523175794544,0.015210784763691816,0.015210784763691816,0.023661220743520603,0.028731482331417875,0.03887200550721242,0.040562092703178176,0.06422331344669878,0.09295479577811665,0.12337636530550028,0.1656285452046442,0.22816177145537725,0.2602734281787266,0.4512532813228572,0.5627990362565972,0.7909608077119744,1.0427837999108722,1.2574248737985234,1.504177604409524,1.6326242313029216,2.0585262046862924,2.3999238182713754,2.771743001383842,3.3108808168969186,3.664109040853762,4.308032262516716,5.230819871514019,5.840941349257657,6.381769251966699,7.061184304744934,7.561450114750798,8.215513859589546,9.129851032607021,10.045878292820461,10.748954566342217,11.523014502094533,12.166937723757487,12.832832078967995,13.453094079887428,14.046314685671408,14.629394768279596,15.050226480075068,15.5521823772769,16.028786966539244,16.43102771917909,16.93805387796882,17.303112712297423,17.764506516796075,17.950416108352307,18.42364052322272,18.830951537450467,19.228122028502423,19.61853217077051,20.02922335939019,20.365550711387375,20.641034924329794,20.916519137272214,21.259606838053262,21.53171087660375,21.8697283157969,22.150282790327214,22.425767003269634,22.520411886243718,22.72998269854347,22.942933685235154,23.118702753615594,23.27588086284041,23.424608536085398,23.98064722355813,24.051630885788693],[0.015136295446083047,0.018920369307603806,0.018920369307603806,0.0491929601997699,0.06432925564585294,0.079465551091936,0.0983859203995398,0.17406739762995505,0.22326035782972495,0.3065099827831817,0.42003219862880453,0.5032818235822613,0.5827473746741972,0.6622129257661333,0.7908714370578391,0.9006095790419413,1.0708929028103755,1.19198326637904,1.415243624208765,1.699049163822822,1.699049163822822,2.1531380272053133,2.33477357255831,2.588306521280201,2.8342713222790503,3.2315990777387302,3.352689441307395,3.719744605874909,3.9467890375661545,4.268435315795419,4.4197982702562495,4.7338764007624725,4.991193423345885,5.214453781175609,5.502043394651188,5.797201155849807,6.179392615863404,6.542663706569397,6.909718871136911,7.291910331150508,7.624908830964334,7.9238506660244745,8.215224353361574,8.521734336144755,8.820676171204894,9.115833932403515,9.403423545879093,9.68344501163163,9.952114255799604,10.213215352244536,10.470532374827947,10.68244051107311,10.890564573456752,11.110040857424956,11.363573806146848,11.601970459422654,11.719276749129799,11.8290148911139,11.92740081151344]]},\"selected\":{\"id\":\"3271\"},\"selection_policy\":{\"id\":\"3270\"}},\"id\":\"3145\",\"type\":\"ColumnDataSource\"},{\"attributes\":{},\"id\":\"3129\",\"type\":\"BasicTicker\"},{\"attributes\":{},\"id\":\"3135\",\"type\":\"SaveTool\"},{\"attributes\":{\"line_color\":{\"field\":\"color\"},\"line_width\":{\"value\":5},\"xs\":{\"field\":\"x\"},\"ys\":{\"field\":\"y\"}},\"id\":\"3147\",\"type\":\"MultiLine\"},{\"attributes\":{},\"id\":\"3136\",\"type\":\"ResetTool\"},{\"attributes\":{},\"id\":\"3122\",\"type\":\"LinearScale\"},{\"attributes\":{},\"id\":\"3137\",\"type\":\"HelpTool\"},{\"attributes\":{\"axis_label\":\"Days Since 3 Deaths\",\"axis_label_text_font_size\":\"14pt\",\"formatter\":{\"id\":\"3269\"},\"major_tick_line_color\":null,\"ticker\":{\"id\":\"3125\"}},\"id\":\"3124\",\"type\":\"LinearAxis\"},{\"attributes\":{\"data_source\":{\"id\":\"3145\"},\"glyph\":{\"id\":\"3147\"},\"hover_glyph\":null,\"muted_glyph\":null,\"nonselection_glyph\":{\"id\":\"3148\"},\"selection_glyph\":null,\"view\":{\"id\":\"3150\"}},\"id\":\"3149\",\"type\":\"GlyphRenderer\"},{\"attributes\":{},\"id\":\"3120\",\"type\":\"LinearScale\"},{\"attributes\":{},\"id\":\"3270\",\"type\":\"UnionRenderers\"},{\"attributes\":{\"line_alpha\":{\"value\":0.1},\"line_color\":{\"field\":\"color\"},\"line_width\":{\"value\":5},\"xs\":{\"field\":\"x\"},\"ys\":{\"field\":\"y\"}},\"id\":\"3148\",\"type\":\"MultiLine\"},{\"attributes\":{},\"id\":\"3117\",\"type\":\"DataRange1d\"},{\"attributes\":{\"axis\":{\"id\":\"3124\"},\"grid_line_color\":null,\"ticker\":null},\"id\":\"3127\",\"type\":\"Grid\"},{\"attributes\":{},\"id\":\"3269\",\"type\":\"BasicTickFormatter\"},{\"attributes\":{\"text\":\"Piemonte\",\"text_alpha\":0.6,\"text_color\":\"#e7ba52\",\"text_font_size\":\"8pt\",\"x\":58,\"x_offset\":-20,\"y\":11.92740081151344,\"y_offset\":5},\"id\":\"3152\",\"type\":\"Label\"},{\"attributes\":{\"axis\":{\"id\":\"3128\"},\"dimension\":1,\"ticker\":null},\"id\":\"3131\",\"type\":\"Grid\"},{\"attributes\":{\"axis_label\":\"Total Deaths / Person / Land KM\\u00b2 (3DMA)\",\"axis_label_text_font_size\":\"14pt\",\"formatter\":{\"id\":\"3267\"},\"ticker\":{\"id\":\"3129\"}},\"id\":\"3128\",\"type\":\"LinearAxis\"},{\"attributes\":{\"bottom_units\":\"screen\",\"fill_alpha\":0.5,\"fill_color\":\"lightgrey\",\"left_units\":\"screen\",\"level\":\"overlay\",\"line_alpha\":1.0,\"line_color\":\"black\",\"line_dash\":[4,4],\"line_width\":2,\"render_mode\":\"css\",\"right_units\":\"screen\",\"top_units\":\"screen\"},\"id\":\"3272\",\"type\":\"BoxAnnotation\"},{\"attributes\":{\"text\":\"Lombardia\",\"text_alpha\":0.6,\"text_color\":\"#393b79\",\"text_font_size\":\"8pt\",\"x\":69,\"x_offset\":-30,\"y\":24.051630885788693,\"y_offset\":5},\"id\":\"3151\",\"type\":\"Label\"},{\"attributes\":{\"end\":25.254212430078127,\"start\":0.010140523175794544},\"id\":\"3113\",\"type\":\"Range1d\"},{\"attributes\":{\"source\":{\"id\":\"3145\"}},\"id\":\"3150\",\"type\":\"CDSView\"},{\"attributes\":{},\"id\":\"3267\",\"type\":\"BasicTickFormatter\"},{\"attributes\":{\"active_drag\":\"auto\",\"active_inspect\":\"auto\",\"active_multi\":null,\"active_scroll\":\"auto\",\"active_tap\":\"auto\",\"tools\":[{\"id\":\"3132\"},{\"id\":\"3133\"},{\"id\":\"3134\"},{\"id\":\"3135\"},{\"id\":\"3136\"},{\"id\":\"3137\"}]},\"id\":\"3138\",\"type\":\"Toolbar\"},{\"attributes\":{},\"id\":\"3271\",\"type\":\"Selection\"},{\"attributes\":{},\"id\":\"3132\",\"type\":\"PanTool\"},{\"attributes\":{\"text\":\"Comparison of Cumulative Fatalities adjusted for Density as of May 3\"},\"id\":\"3115\",\"type\":\"Title\"}],\"root_ids\":[\"3114\"]},\"title\":\"Bokeh Application\",\"version\":\"2.0.0\"}};\n",
       "  var render_items = [{\"docid\":\"0aef7ff5-06c4-49f7-a2db-eaa0d1af528f\",\"root_ids\":[\"3114\"],\"roots\":{\"3114\":\"91f2835a-e48f-4287-9698-3cfec083821d\"}}];\n",
       "  root.Bokeh.embed.embed_items_notebook(docs_json, render_items);\n",
       "\n",
       "  }\n",
       "  if (root.Bokeh !== undefined) {\n",
       "    embed_document(root);\n",
       "  } else {\n",
       "    var attempts = 0;\n",
       "    var timer = setInterval(function(root) {\n",
       "      if (root.Bokeh !== undefined) {\n",
       "        clearInterval(timer);\n",
       "        embed_document(root);\n",
       "      } else {\n",
       "        attempts++;\n",
       "        if (attempts > 100) {\n",
       "          clearInterval(timer);\n",
       "          console.log(\"Bokeh: ERROR: Unable to run BokehJS code because BokehJS library is missing\");\n",
       "        }\n",
       "      }\n",
       "    }, 10, root)\n",
       "  }\n",
       "})(window);"
      ],
      "application/vnd.bokehjs_exec.v0+json": ""
     },
     "metadata": {
      "application/vnd.bokehjs_exec.v0+json": {
       "id": "3114"
      }
     },
     "output_type": "display_data"
    }
   ],
   "source": [
    "from bokeh.palettes import Category20b\n",
    "kwargs['regions'] = ['Lombardia', 'Piemonte']\n",
    "kwargs['comp_category'] = 'deaths_per_person_per_land_KM2'\n",
    "kwargs['palette_base'] = Category20b[20]\n",
    "kwargs['x_fontsize'] = 14\n",
    "kwargs['y_fontsize'] = 14\n",
    "kwargs['label_offsets'] = {\n",
    "    'Lombardia': {'x_offset': -10, 'y_offset': 0},\n",
    "}\n",
    "kwargs['title'] = 'Comparison of Cumulative Fatalities adjusted for Density as of May 3'\n",
    "p = casestudy.comp_chart.make(comp_type='multiline', **kwargs)\n",
    "show(p)"
   ]
  },
  {
   "cell_type": "markdown",
   "metadata": {},
   "source": [
    "## 4.2 Daily Fatalities Comparison - 10 Most Impacted Regions"
   ]
  },
  {
   "cell_type": "markdown",
   "metadata": {},
   "source": [
    "Now we'll look at new cases in the 10 most impacted regions globally."
   ]
  },
  {
   "cell_type": "code",
   "execution_count": 27,
   "metadata": {},
   "outputs": [],
   "source": [
    "regions = list(baseframe[~(baseframe['region_name'] == 'Hubei')] \\\n",
    "    .sort_values(by='cases', ascending=False).region_name.unique())[:7]\n",
    "casestudy = CaseStudy(baseframe, regions=regions, start_hurdle=3, start_factor='deaths', count_dma=7, lognat=True)"
   ]
  },
  {
   "cell_type": "code",
   "execution_count": 28,
   "metadata": {},
   "outputs": [
    {
     "data": {
      "text/html": [
       "\n",
       "\n",
       "\n",
       "\n",
       "\n",
       "\n",
       "  <div class=\"bk-root\" id=\"db31eb8c-54e9-4614-85a2-39171310b507\" data-root-id=\"3543\"></div>\n"
      ]
     },
     "metadata": {},
     "output_type": "display_data"
    },
    {
     "data": {
      "application/javascript": [
       "(function(root) {\n",
       "  function embed_document(root) {\n",
       "    \n",
       "  var docs_json = {\"0508d5c2-5754-4b55-9c3b-1fae74e6f4ad\":{\"roots\":{\"references\":[{\"attributes\":{\"below\":[{\"id\":\"3553\"}],\"center\":[{\"id\":\"3556\"},{\"id\":\"3560\"},{\"id\":\"3580\"},{\"id\":\"3581\"},{\"id\":\"3582\"},{\"id\":\"3583\"},{\"id\":\"3584\"},{\"id\":\"3585\"},{\"id\":\"3586\"}],\"left\":[{\"id\":\"3557\"}],\"min_border\":0,\"plot_height\":500,\"plot_width\":925,\"renderers\":[{\"id\":\"3578\"}],\"title\":{\"id\":\"3544\"},\"toolbar\":{\"id\":\"3567\"},\"toolbar_location\":null,\"x_range\":{\"id\":\"3546\"},\"x_scale\":{\"id\":\"3549\"},\"y_range\":{\"id\":\"3542\"},\"y_scale\":{\"id\":\"3551\"}},\"id\":\"3543\",\"subtype\":\"Figure\",\"type\":\"Plot\"},{\"attributes\":{\"text\":\"New Jersey\",\"text_alpha\":0.6,\"text_color\":\"#393b79\",\"text_font_size\":\"8pt\",\"x\":48,\"x_offset\":-20,\"y\":287.7000759368313,\"y_offset\":5},\"id\":\"3580\",\"type\":\"Label\"},{\"attributes\":{},\"id\":\"3549\",\"type\":\"LinearScale\"},{\"attributes\":{},\"id\":\"3720\",\"type\":\"UnionRenderers\"},{\"attributes\":{},\"id\":\"3551\",\"type\":\"LinearScale\"},{\"attributes\":{\"axis_label\":\"Daily Cases per 1M (7DMA)\",\"formatter\":{\"id\":\"3717\"},\"ticker\":{\"id\":\"3558\"}},\"id\":\"3557\",\"type\":\"LinearAxis\"},{\"attributes\":{\"text\":\"France\",\"text_alpha\":0.6,\"text_color\":\"#8ca252\",\"text_font_size\":\"8pt\",\"x\":62,\"x_offset\":-20,\"y\":14.589469075527814,\"y_offset\":5},\"id\":\"3582\",\"type\":\"Label\"},{\"attributes\":{\"data\":{\"color\":[\"#393b79\",\"#9c9ede\",\"#8ca252\",\"#8c6d31\",\"#e7cb94\",\"#d6616b\",\"#7b4173\"],\"regions\":[\"New Jersey\",\"New York\",\"France\",\"Germany\",\"Russia\",\"Spain\",\"United Kingdom\"],\"x\":[[0,1,2,3,4,5,6,7,8,9,10,11,12,13,14,15,16,17,18,19,20,21,22,23,24,25,26,27,28,29,30,31,32,33,34,35,36,37,38,39,40,41,42,43,44,45,46,47,48],[0,1,2,3,4,5,6,7,8,9,10,11,12,13,14,15,16,17,18,19,20,21,22,23,24,25,26,27,28,29,30,31,32,33,34,35,36,37,38,39,40,41,42,43,44,45,46,47,48,49],[0,1,2,3,4,5,6,7,8,9,10,11,12,13,14,15,16,17,18,19,20,21,22,23,24,25,26,27,28,29,30,31,32,33,34,35,36,37,38,39,40,41,42,43,44,45,46,47,48,49,50,51,52,53,54,55,56,57,58,59,60,61,62],[0,1,2,3,4,5,6,7,8,9,10,11,12,13,14,15,16,17,18,19,20,21,22,23,24,25,26,27,28,29,30,31,32,33,34,35,36,37,38,39,40,41,42,43,44,45,46,47,48,49,50,51,52,53],[0,1,2,3,4,5,6,7,8,9,10,11,12,13,14,15,16,17,18,19,20,21,22,23,24,25,26,27,28,29,30,31,32,33,34,35,36,37,38,39],[0,1,2,3,4,5,6,7,8,9,10,11,12,13,14,15,16,17,18,19,20,21,22,23,24,25,26,27,28,29,30,31,32,33,34,35,36,37,38,39,40,41,42,43,44,45,46,47,48,49,50,51,52,53,54,55,56,57,58],[0,1,2,3,4,5,6,7,8,9,10,11,12,13,14,15,16,17,18,19,20,21,22,23,24,25,26,27,28,29,30,31,32,33,34,35,36,37,38,39,40,41,42,43,44,45,46,47,48,49,50,51,52,53,54,55]],\"y\":[[2.729787233558548,4.094680850337823,6.564488347366985,11.55284954202457,13.648936167792742,20.424658051089857,29.328964027221307,43.30287486567578,55.37568388075912,64.66995946168466,99.66973149195319,128.93370058504215,159.18884242364942,186.40547109156947,224.10253288833033,248.96309519395282,290.00739609852957,304.0787993381826,342.3608155421346,373.72087126099177,391.90320408451566,397.34652981809967,413.0265576775282,409.1756078301867,413.31903488112374,401.2299771325074,390.40832059947166,395.57541786299316,381.7477456263365,396.59908807557764,383.3563702461121,394.68173751867346,388.0035080365749,381.0003038838145,381.0490500844138,393.57682363842355,382.86890824011954,404.3334852373269,401.4737081355036,385.56619800661184,388.7347010455638,385.69618787487656,363.67915393754424,348.8440602218362,332.30284948515396,302.665159520804,308.62844472744683,295.62945790097757,287.7000759368313],[4.725510711597481,6.089347656442309,11.316160596415184,21.143158690891692,39.7134574155626,58.844035101358955,86.3050762880994,119.20672107103162,164.11013096859833,181.8547554347686,220.77202695820554,246.43427779606958,277.8615042602506,303.7154294795523,315.74668296056177,325.5073322306945,366.19390573663287,376.07250847226567,395.1662257000932,420.7621277136135,447.14684352766557,467.4938163264316,475.10181485118767,474.29825686746824,494.1734158042339,509.14613383115193,525.7775724666652,498.729368409175,494.87376450564074,474.14344294399933,464.37542158227296,469.99295537671486,456.2145161879852,449.00461060929206,447.81770386269733,428.53231225343205,421.4256159570515,407.0279210744464,360.6574649497223,349.9605600471826,323.77489070616184,331.1543543915115,333.8009352736698,332.709865717794,316.2627293721247,314.9652412516237,296.48340762607785,266.8770877855544,235.60467524484227,217.7420973131719],[0.4064614730769617,0.4314395524280598,0.6062861078857472,0.7697789909111172,1.3533577539322297,1.9278535790074887,2.261651548517619,2.311607707219815,3.587760488612287,4.532386034981092,4.3234784622264515,6.830369335282127,7.992985392351424,7.659187422841294,12.316463854577876,13.32466996656766,15.354706597466002,19.50560923872123,20.325344388334546,22.282717515666057,26.156590549572744,30.0259221145065,33.27080169566281,36.76319133584362,41.518109350498136,46.2139882685046,52.892218393193666,54.851862255011646,56.073517408728996,67.7223853242866,72.10944435213403,68.008497869581,71.24202377830498,70.46089111496157,68.81233787778908,67.75871707607003,59.127655293022364,56.90233549628816,61.8298293319139,59.806604904474945,57.188448041582554,113.88868816857547,113.32781675041899,116.01182491341882,114.50178647992061,133.08774825162413,127.72200266011096,120.61233298299382,70.79014761549877,67.87225380039321,62.81759883352551,50.505676447920564,27.43501406545168,26.597113039946656,30.396051835800044,20.525169023143327,23.61790939370658,24.260527253375745,23.565682500517923,19.841677942717826,16.185795419511635,15.177589307521853,14.589469075527814],[2.9187731240399226,2.830110513953655,5.32862286618467,6.713532835732167,8.431814219204028,10.80974542171772,13.831367173457712,18.475514689776396,23.481405655247055,28.67880785850405,31.258889812014434,33.83010550451619,38.62852596238498,42.07750149474078,44.32421203432679,50.746931508976004,55.011603054125466,62.9185346216188,66.00399345262089,67.08035753906817,68.84119697538145,71.90360352776112,72.44799195369082,71.44078470311082,68.08756478964818,67.43323472721153,64.70419958875621,63.579957692862344,62.81568599391872,59.203571259004185,54.992097279906496,51.09803544491762,49.17405680604562,47.34228728166334,42.01898417208385,38.048672492420785,34.60856322107362,34.09254683037154,32.68813108660506,30.730460655900277,30.132874663918834,30.024706279613586,28.185843746424403,27.363054724823844,24.11977644786818,23.35550474892456,22.318152210915226,20.73463799477449,20.606963836250266,19.312489728990762,17.519731753046436,16.097583487262707,14.991074113386091,13.998052880419896],[0.5110021707372212,0.6410027229795673,0.7830033261981297,0.9580040696012877,1.1670049574370591,1.3980059387292278,1.8420078248492402,2.1190090015502387,2.708011503632867,3.1130132240801762,3.467014727878564,3.855016376109565,4.507019145817331,5.160021919773115,5.895025042066379,6.583027964702794,7.768032998604179,8.853037607703758,10.381044098675332,11.985050912496277,13.60505779428551,15.818067195149446,17.807075644457335,20.091085346930555,23.209098592250818,27.083115049072727,28.793122313183588,31.66113449649934,33.50914234683669,34.83514797970862,36.61415553693272,37.79516055384204,38.09616183249547,40.026170031170295,40.79517329789617,41.400175867947084,43.72518574458905,45.80919459745864,49.466210132460645,53.738228279993734],[0.7549745084713709,1.1386500783502644,1.4078418088298106,1.8224589569247436,2.948732403988592,4.734061467054088,6.358494323396177,6.24401048399683,14.950970593990428,18.227683727069042,22.045874478928354,27.442085719805693,31.105568580584805,35.99433793871909,48.534959589680014,46.96312741630519,58.736397927508335,64.88448951903545,77.95421215749064,87.06031862647116,110.16748923820968,123.21864692973526,140.19319673905468,148.08948749978805,158.8602508767915,163.43341613712218,173.3904160070438,168.95029953304208,167.94779239884238,165.47556029938082,163.78305597096343,159.46051749418268,150.74427491072427,142.39004879239351,136.4585482483787,127.34625346375498,120.90112272135389,114.04756314650108,108.86794295313601,103.4191310292914,94.67813518326017,91.04249974287549,98.16525104820785,100.76434361835518,88.79923532221261,98.52726751333552,93.16818616631741,97.88987100208509,95.12988222521435,86.87157499935333,37.59711169030995,43.87206375252282,27.723654081571652,28.636430638944827,20.405970833478243,14.010346616222819,1.2716988646792355,32.318478446653565,35.7715585755636],[0.6400281863857924,0.7539122053156486,0.8450194204595337,0.7766890091016199,1.4463270404091748,2.1273534736097153,1.974748888243708,2.783325422645688,3.571402833640293,4.942566421555763,5.086060285407382,7.2544120058318455,8.832844508199654,10.347501959966742,11.632113693495521,13.955347679664591,15.72282765345596,20.42851531563762,24.052304797985652,27.493879850045904,31.52081875940562,35.283546744848074,38.886837103788736,45.428335151119676,50.2456291518526,53.8101989443571,56.518360914509074,64.4219118282411,67.11640771612151,68.53995795274471,71.19801095456755,71.42577899242727,81.06264467427172,84.4746098814102,83.07383644857298,84.3037838530154,87.98907070558556,85.96649052939132,86.58829727274833,79.56848634591199,80.23356901646235,81.51362538923394,82.27437063568539,80.10829659563952,79.76208917809274,79.68464804522046,79.19950212457925,77.80556173287782,74.64641904776362,73.81051034881847,73.11581783334634,72.26168769137243,75.56204655995965,77.4183560685163,77.17464426800642,76.89221190106036]]},\"selected\":{\"id\":\"3721\"},\"selection_policy\":{\"id\":\"3720\"}},\"id\":\"3574\",\"type\":\"ColumnDataSource\"},{\"attributes\":{\"text\":\"United Kingdom\",\"text_alpha\":0.6,\"text_color\":\"#7b4173\",\"text_font_size\":\"8pt\",\"x\":55,\"x_offset\":-20,\"y\":76.89221190106036,\"y_offset\":5},\"id\":\"3586\",\"type\":\"Label\"},{\"attributes\":{\"source\":{\"id\":\"3574\"}},\"id\":\"3579\",\"type\":\"CDSView\"},{\"attributes\":{},\"id\":\"3561\",\"type\":\"PanTool\"},{\"attributes\":{},\"id\":\"3721\",\"type\":\"Selection\"},{\"attributes\":{\"text\":\"Russia\",\"text_alpha\":0.6,\"text_color\":\"#e7cb94\",\"text_font_size\":\"8pt\",\"x\":39,\"x_offset\":-20,\"y\":53.738228279993734,\"y_offset\":5},\"id\":\"3584\",\"type\":\"Label\"},{\"attributes\":{},\"id\":\"3719\",\"type\":\"BasicTickFormatter\"},{\"attributes\":{\"axis\":{\"id\":\"3553\"},\"grid_line_color\":null,\"ticker\":null},\"id\":\"3556\",\"type\":\"Grid\"},{\"attributes\":{\"overlay\":{\"id\":\"3722\"}},\"id\":\"3563\",\"type\":\"BoxZoomTool\"},{\"attributes\":{\"text\":\"Spain\",\"text_alpha\":0.6,\"text_color\":\"#d6616b\",\"text_font_size\":\"8pt\",\"x\":58,\"x_offset\":-20,\"y\":35.7715585755636,\"y_offset\":5},\"id\":\"3585\",\"type\":\"Label\"},{\"attributes\":{\"line_alpha\":{\"value\":0.1},\"line_color\":{\"field\":\"color\"},\"line_width\":{\"value\":5},\"xs\":{\"field\":\"x\"},\"ys\":{\"field\":\"y\"}},\"id\":\"3577\",\"type\":\"MultiLine\"},{\"attributes\":{},\"id\":\"3564\",\"type\":\"SaveTool\"},{\"attributes\":{\"data_source\":{\"id\":\"3574\"},\"glyph\":{\"id\":\"3576\"},\"hover_glyph\":null,\"muted_glyph\":null,\"nonselection_glyph\":{\"id\":\"3577\"},\"selection_glyph\":null,\"view\":{\"id\":\"3579\"}},\"id\":\"3578\",\"type\":\"GlyphRenderer\"},{\"attributes\":{\"bottom_units\":\"screen\",\"fill_alpha\":0.5,\"fill_color\":\"lightgrey\",\"left_units\":\"screen\",\"level\":\"overlay\",\"line_alpha\":1.0,\"line_color\":\"black\",\"line_dash\":[4,4],\"line_width\":2,\"render_mode\":\"css\",\"right_units\":\"screen\",\"top_units\":\"screen\"},\"id\":\"3722\",\"type\":\"BoxAnnotation\"},{\"attributes\":{\"text\":\"Comparison of Population Adjusted Daily Cases in Top 10 Most Impacted Regions Excluding Hubei\"},\"id\":\"3544\",\"type\":\"Title\"},{\"attributes\":{\"line_color\":{\"field\":\"color\"},\"line_width\":{\"value\":5},\"xs\":{\"field\":\"x\"},\"ys\":{\"field\":\"y\"}},\"id\":\"3576\",\"type\":\"MultiLine\"},{\"attributes\":{\"axis_label\":\"Days Since 3 Deaths\",\"formatter\":{\"id\":\"3719\"},\"major_tick_line_color\":null,\"ticker\":{\"id\":\"3554\"}},\"id\":\"3553\",\"type\":\"LinearAxis\"},{\"attributes\":{\"end\":552.0664510899985,\"start\":0.4064614730769617},\"id\":\"3542\",\"type\":\"Range1d\"},{\"attributes\":{},\"id\":\"3562\",\"type\":\"WheelZoomTool\"},{\"attributes\":{},\"id\":\"3565\",\"type\":\"ResetTool\"},{\"attributes\":{},\"id\":\"3546\",\"type\":\"DataRange1d\"},{\"attributes\":{},\"id\":\"3558\",\"type\":\"BasicTicker\"},{\"attributes\":{},\"id\":\"3566\",\"type\":\"HelpTool\"},{\"attributes\":{\"text\":\"New York\",\"text_alpha\":0.6,\"text_color\":\"#9c9ede\",\"text_font_size\":\"8pt\",\"x\":49,\"x_offset\":-20,\"y\":217.7420973131719,\"y_offset\":5},\"id\":\"3581\",\"type\":\"Label\"},{\"attributes\":{\"active_drag\":\"auto\",\"active_inspect\":\"auto\",\"active_multi\":null,\"active_scroll\":\"auto\",\"active_tap\":\"auto\",\"tools\":[{\"id\":\"3561\"},{\"id\":\"3562\"},{\"id\":\"3563\"},{\"id\":\"3564\"},{\"id\":\"3565\"},{\"id\":\"3566\"}]},\"id\":\"3567\",\"type\":\"Toolbar\"},{\"attributes\":{},\"id\":\"3717\",\"type\":\"BasicTickFormatter\"},{\"attributes\":{},\"id\":\"3554\",\"type\":\"BasicTicker\"},{\"attributes\":{\"text\":\"Germany\",\"text_alpha\":0.6,\"text_color\":\"#8c6d31\",\"text_font_size\":\"8pt\",\"x\":53,\"x_offset\":-20,\"y\":13.998052880419896,\"y_offset\":5},\"id\":\"3583\",\"type\":\"Label\"},{\"attributes\":{\"axis\":{\"id\":\"3557\"},\"dimension\":1,\"ticker\":null},\"id\":\"3560\",\"type\":\"Grid\"}],\"root_ids\":[\"3543\"]},\"title\":\"Bokeh Application\",\"version\":\"2.0.0\"}};\n",
       "  var render_items = [{\"docid\":\"0508d5c2-5754-4b55-9c3b-1fae74e6f4ad\",\"root_ids\":[\"3543\"],\"roots\":{\"3543\":\"db31eb8c-54e9-4614-85a2-39171310b507\"}}];\n",
       "  root.Bokeh.embed.embed_items_notebook(docs_json, render_items);\n",
       "\n",
       "  }\n",
       "  if (root.Bokeh !== undefined) {\n",
       "    embed_document(root);\n",
       "  } else {\n",
       "    var attempts = 0;\n",
       "    var timer = setInterval(function(root) {\n",
       "      if (root.Bokeh !== undefined) {\n",
       "        clearInterval(timer);\n",
       "        embed_document(root);\n",
       "      } else {\n",
       "        attempts++;\n",
       "        if (attempts > 100) {\n",
       "          clearInterval(timer);\n",
       "          console.log(\"Bokeh: ERROR: Unable to run BokehJS code because BokehJS library is missing\");\n",
       "        }\n",
       "      }\n",
       "    }, 10, root)\n",
       "  }\n",
       "})(window);"
      ],
      "application/vnd.bokehjs_exec.v0+json": ""
     },
     "metadata": {
      "application/vnd.bokehjs_exec.v0+json": {
       "id": "3543"
      }
     },
     "output_type": "display_data"
    }
   ],
   "source": [
    "kwargs ={\n",
    "    'title': 'Comparison of Population Adjusted Daily Cases in Top 10 Most Impacted Regions Excluding Hubei',\n",
    "    'width': 925,\n",
    "    'palette_base': Category20b[20]\n",
    "}\n",
    "p = casestudy.comp_chart.make(comp_category='cases_new_dma_per_1M', comp_type='multiline', **kwargs)\n",
    "show(p)"
   ]
  },
  {
   "cell_type": "markdown",
   "metadata": {},
   "source": [
    "The above is a cluttered mess to the point where I can't even be bothered to fix the labels. \n",
    "\n",
    "There are two clear regions separating themselves and the remaining regions are so far behind that it makes it difficult to read the chart. This is where `lognat` can come in handy."
   ]
  },
  {
   "cell_type": "code",
   "execution_count": 33,
   "metadata": {},
   "outputs": [
    {
     "data": {
      "text/html": [
       "\n",
       "\n",
       "\n",
       "\n",
       "\n",
       "\n",
       "  <div class=\"bk-root\" id=\"e5d3a965-0145-46d3-9292-d2ba9ad508da\" data-root-id=\"4768\"></div>\n"
      ]
     },
     "metadata": {},
     "output_type": "display_data"
    },
    {
     "data": {
      "application/javascript": [
       "(function(root) {\n",
       "  function embed_document(root) {\n",
       "    \n",
       "  var docs_json = {\"b5829553-ec1b-4ff7-85a3-bc145f8c6a3d\":{\"roots\":{\"references\":[{\"attributes\":{\"below\":[{\"id\":\"4778\"}],\"center\":[{\"id\":\"4781\"},{\"id\":\"4785\"},{\"id\":\"4805\"},{\"id\":\"4806\"},{\"id\":\"4807\"},{\"id\":\"4808\"},{\"id\":\"4809\"},{\"id\":\"4810\"},{\"id\":\"4811\"}],\"left\":[{\"id\":\"4782\"}],\"min_border\":0,\"plot_height\":500,\"plot_width\":925,\"renderers\":[{\"id\":\"4803\"}],\"title\":{\"id\":\"4769\"},\"toolbar\":{\"id\":\"4792\"},\"toolbar_location\":null,\"x_range\":{\"id\":\"4771\"},\"x_scale\":{\"id\":\"4774\"},\"y_range\":{\"id\":\"4767\"},\"y_scale\":{\"id\":\"4776\"}},\"id\":\"4768\",\"subtype\":\"Figure\",\"type\":\"Plot\"},{\"attributes\":{\"text\":\"Germany\",\"text_alpha\":0.6,\"text_color\":\"#8c6d31\",\"text_font_size\":\"8pt\",\"x\":53,\"x_offset\":-20,\"y\":2.6389182399727353,\"y_offset\":-15},\"id\":\"4808\",\"type\":\"Label\"},{\"attributes\":{\"text\":\"France\",\"text_alpha\":0.6,\"text_color\":\"#8ca252\",\"text_font_size\":\"8pt\",\"x\":62,\"x_offset\":-10,\"y\":2.680299972258307,\"y_offset\":15},\"id\":\"4807\",\"type\":\"Label\"},{\"attributes\":{\"overlay\":{\"id\":\"4987\"}},\"id\":\"4788\",\"type\":\"BoxZoomTool\"},{\"attributes\":{\"text\":\"New York\",\"text_alpha\":0.6,\"text_color\":\"#9c9ede\",\"text_font_size\":\"8pt\",\"x\":49,\"y\":5.383311322597202,\"y_offset\":-15},\"id\":\"4806\",\"type\":\"Label\"},{\"attributes\":{},\"id\":\"4789\",\"type\":\"SaveTool\"},{\"attributes\":{},\"id\":\"4982\",\"type\":\"BasicTickFormatter\"},{\"attributes\":{\"text\":\"Russia\",\"text_alpha\":0.6,\"text_color\":\"#e7cb94\",\"text_font_size\":\"8pt\",\"x\":39,\"x_offset\":-20,\"y\":3.9841246342775523,\"y_offset\":5},\"id\":\"4809\",\"type\":\"Label\"},{\"attributes\":{\"axis_label\":\"Days Since 3 Deaths\",\"formatter\":{\"id\":\"4984\"},\"major_tick_line_color\":null,\"ticker\":{\"id\":\"4779\"}},\"id\":\"4778\",\"type\":\"LinearAxis\"},{\"attributes\":{},\"id\":\"4790\",\"type\":\"ResetTool\"},{\"attributes\":{},\"id\":\"4986\",\"type\":\"Selection\"},{\"attributes\":{\"text\":\"Comparison of Population Adjusted Daily Cases in Top 10 Most Impacted Regions Excluding Hubei\"},\"id\":\"4769\",\"type\":\"Title\"},{\"attributes\":{},\"id\":\"4787\",\"type\":\"WheelZoomTool\"},{\"attributes\":{},\"id\":\"4791\",\"type\":\"HelpTool\"},{\"attributes\":{\"data\":{\"color\":[\"#393b79\",\"#9c9ede\",\"#8ca252\",\"#8c6d31\",\"#e7cb94\",\"#d6616b\",\"#7b4173\"],\"regions\":[\"New Jersey\",\"New York\",\"France\",\"Germany\",\"Russia\",\"Spain\",\"United Kingdom\"],\"x\":[[0,1,2,3,4,5,6,7,8,9,10,11,12,13,14,15,16,17,18,19,20,21,22,23,24,25,26,27,28,29,30,31,32,33,34,35,36,37,38,39,40,41,42,43,44,45,46,47,48],[0,1,2,3,4,5,6,7,8,9,10,11,12,13,14,15,16,17,18,19,20,21,22,23,24,25,26,27,28,29,30,31,32,33,34,35,36,37,38,39,40,41,42,43,44,45,46,47,48,49],[0,1,2,3,4,5,6,7,8,9,10,11,12,13,14,15,16,17,18,19,20,21,22,23,24,25,26,27,28,29,30,31,32,33,34,35,36,37,38,39,40,41,42,43,44,45,46,47,48,49,50,51,52,53,54,55,56,57,58,59,60,61,62],[0,1,2,3,4,5,6,7,8,9,10,11,12,13,14,15,16,17,18,19,20,21,22,23,24,25,26,27,28,29,30,31,32,33,34,35,36,37,38,39,40,41,42,43,44,45,46,47,48,49,50,51,52,53],[0,1,2,3,4,5,6,7,8,9,10,11,12,13,14,15,16,17,18,19,20,21,22,23,24,25,26,27,28,29,30,31,32,33,34,35,36,37,38,39],[0,1,2,3,4,5,6,7,8,9,10,11,12,13,14,15,16,17,18,19,20,21,22,23,24,25,26,27,28,29,30,31,32,33,34,35,36,37,38,39,40,41,42,43,44,45,46,47,48,49,50,51,52,53,54,55,56,57,58],[0,1,2,3,4,5,6,7,8,9,10,11,12,13,14,15,16,17,18,19,20,21,22,23,24,25,26,27,28,29,30,31,32,33,34,35,36,37,38,39,40,41,42,43,44,45,46,47,48,49,50,51,52,53,54,55]],\"y\":[[1.004223669734227,1.4096887778423917,1.8816745682921183,2.446932120134209,2.613661582168328,3.016742898921216,3.3785755610979495,3.7682190269309133,4.014140578280174,4.169296788609452,4.601862035005165,4.859298323291478,5.070091185675611,5.22792425317037,5.4121036832344425,5.517304673407734,5.669906426443337,5.717286876166827,5.835865197129203,5.9235091852422554,5.971014880942809,5.9848087710351034,6.023511895197542,6.014144422892614,6.024219776303081,5.994534771971722,5.96719316732276,5.98034145894777,5.9447600387148,5.982925916727474,5.948965027177682,5.978079712327187,5.961014380913779,5.942800172721697,5.942928107219409,5.975276280411964,5.9476926544553415,6.002239995965879,5.995142047146758,5.954712898122725,5.962897108495416,5.95504998151192,5.896272033708941,5.854625003500533,5.806046750361863,5.712627110363971,5.732138109133866,5.689106838712975,5.661918534501963],[1.5529756422152932,1.8065409588156014,2.426231845315921,3.051316387014134,3.681690107975157,4.074890470903302,4.457888417774296,4.780859137865776,5.100537732744952,5.203208321406007,5.397130616876267,5.50709533641595,5.627122803440498,5.716091175764638,5.75494025590404,5.7853849874492775,5.90316299020306,5.929781966479885,5.9793065009365,6.04206765669262,6.102887049676736,6.147386121532025,6.163529128120725,6.161836357708046,6.20288649972447,6.232735075209981,6.2648782572717,6.212063600750306,6.204302708844528,6.161509898158926,6.140693323320383,6.152717706031593,6.122963129133582,6.107033156307109,6.104386238583466,6.0603661430207865,6.043643287270694,6.008881785238092,5.887928657334449,5.857820462554484,5.780048492548516,5.802584594147003,5.810544813122161,5.807270836079797,5.756573290210731,5.752462287504209,5.6919912560829715,5.586788207036333,5.462155295573931,5.383311322597202],[-0.9002661316643584,-0.8406278653446274,-0.500403279104864,-0.2616518301246633,0.30258872956023614,0.6564072488062339,0.8160953200794847,0.8379432596053544,1.2775281885158989,1.5112485193662957,1.4640602778461969,1.921378747564617,2.0785643310870294,2.0359058975565367,2.510936892115118,2.589617201757759,2.731422045762718,2.9707020774731876,3.0118685993658256,3.10381137870138,3.2641011874213928,3.4020610790517094,3.5046801863935917,3.604497109166567,3.7261297019465216,3.833282528634735,3.9682562277262408,4.004636137922678,4.0266636406225755,4.215416779980204,4.278185025339891,4.219632666038482,4.266082865911072,4.255057819937313,4.2313830584806915,4.2159531168125834,4.079698755622242,4.041336385918902,4.124385923287093,4.091116104765052,4.0463519206746374,4.735221551812472,4.730284652025798,4.75369212481973,4.740590425317299,4.891008671965361,4.849856047805947,4.792581542605104,4.259719833043124,4.2176273177728705,4.140235270417958,3.922085734873674,3.311820083193573,3.280802677564761,3.4143127261554738,3.021651890293297,3.1620052968480197,3.1888506367247382,3.1597915224225717,2.9877846720062675,2.784134031645532,2.719819952210171,2.680299972258307],[1.071163364986958,1.040315761759697,1.6730928307192507,1.904125315519211,2.1320119587294335,2.380448081116425,2.6269389964276257,2.9164463251621267,3.1562088592347344,3.3561584478697215,3.4423038097118206,3.5213511014550964,3.653991018103538,3.7395131915417004,3.791531074798915,3.926851153216623,4.007544127603028,4.141840788370537,4.189715247053852,4.205891266980579,4.231802358980979,4.275326382076963,4.282868952077423,4.2688689205940165,4.220794594273844,4.2111379932288635,4.169826108036489,4.152298290066618,4.140204819258306,4.080981865391478,4.007189489088793,3.9337460511656803,3.8953661837362334,3.8574039189656206,3.738121520257523,3.638866195195024,3.5441011433811447,3.5290787923757043,3.4870120483035523,3.4252543664595945,3.405616757284048,3.402020585390757,3.3388198570948457,3.3091937358211476,3.1830321034855267,3.1508327057489893,3.1054003478368215,3.031805634890261,3.0256290689728167,2.960752022825629,2.8633277744918564,2.778669166766354,2.707454964876678,2.6389182399727353],[-0.67138144076941,-0.4447215740524441,-0.24461833498231111,-0.04290325300225369,0.15444060131344164,0.3350468918206414,0.610856185842138,0.7509485272951849,0.9962146030590512,1.135591139468494,1.243293914711909,1.3493752550243154,1.505635991717534,1.6409408275024941,1.7741087819983572,1.8844948164947624,2.0500169789980465,2.1807606326379347,2.339981460220131,2.4836601158953706,2.6104416202442327,2.7611527801062485,2.8795958864282,3.0002762016050455,3.1445443824899804,3.298910472782712,3.360136550052579,3.455089887560042,3.5118183074747082,3.5506268764911053,3.6004349289378457,3.632181066753163,3.6401135377535296,3.689533490964456,3.7085637728897862,3.7232851288402915,3.7779242689136887,3.8244848263744973,3.9012898128944276,3.9841246342775523],[-0.2810712939171942,0.1298434189585349,0.34205789974055434,0.6001866644411905,1.0813753844438059,1.554783495176085,1.8497916077199388,1.831622681703158,2.7047762204042547,2.9029415223112913,3.093125485926455,3.3120778101660564,3.437386857195024,3.5833616466063702,3.8822843545622154,3.849362770753462,4.0730596015801455,4.1726086046855695,4.356121630701852,4.466601195966652,4.702001837205829,4.813960394595565,4.943021448024055,4.997816736308654,5.068024890435714,5.096405666640727,5.155545791809969,5.129604586068121,5.12365317157681,5.1088235120054835,5.09854272266762,5.071796352360584,5.015584857511173,4.958570114460121,4.916020892670117,4.846909781783879,4.794973043941185,4.736615581965532,4.690135615190253,4.638789964585951,4.550483088457519,4.511326427633707,4.5866522937580045,4.612784559113769,4.486378038724703,4.590333337414921,4.534406313271514,4.58384308148807,4.555243139177174,4.4644308786399165,3.6269272306982154,3.7812777565271616,3.32228598675858,3.3546797057972015,3.015827545941019,2.6397961006726227,0.24035369528583858,3.47563915478027,3.5771531244649255],[-0.4462430623704053,-0.28247935632708826,-0.16839566909671594,-0.25271525442063436,0.36902726718854045,0.7548787065246914,0.6804412450763907,1.0236464080273895,1.272958469206202,1.597884714830354,1.6265035201360067,1.9816098363021126,2.178477104098446,2.3367451340552523,2.453769694943493,2.6358627810215034,2.7551136469993245,3.016931734413852,3.1802308255561016,3.313963428996976,3.450648240521779,3.5634167574022118,3.6606558155670825,3.816136032635356,3.916923561103342,3.9854630206577926,4.034565557298666,4.16545382101998,4.206428540406686,4.227416902975961,4.265464881996357,4.268658854496666,4.395222246800087,4.4364510144353275,4.419729808106737,4.434426749564129,4.477212610237743,4.45395757531509,4.461164671018166,4.376618114284187,4.38494199358809,4.400770188963335,4.410059645279458,4.383379426683513,4.379048318616622,4.378076945475846,4.3719700124948035,4.354212916198355,4.312762552945306,4.301501138116795,4.2920447295766975,4.28029408126425,4.324954127496257,4.3492239109860105,4.346070960957534,4.342404595713956]]},\"selected\":{\"id\":\"4986\"},\"selection_policy\":{\"id\":\"4985\"}},\"id\":\"4799\",\"type\":\"ColumnDataSource\"},{\"attributes\":{\"active_drag\":\"auto\",\"active_inspect\":\"auto\",\"active_multi\":null,\"active_scroll\":\"auto\",\"active_tap\":\"auto\",\"tools\":[{\"id\":\"4786\"},{\"id\":\"4787\"},{\"id\":\"4788\"},{\"id\":\"4789\"},{\"id\":\"4790\"},{\"id\":\"4791\"}]},\"id\":\"4792\",\"type\":\"Toolbar\"},{\"attributes\":{},\"id\":\"4786\",\"type\":\"PanTool\"},{\"attributes\":{\"end\":6.578122170135285,\"start\":-0.9002661316643584},\"id\":\"4767\",\"type\":\"Range1d\"},{\"attributes\":{},\"id\":\"4776\",\"type\":\"LinearScale\"},{\"attributes\":{\"line_alpha\":{\"value\":0.1},\"line_color\":{\"field\":\"color\"},\"line_width\":{\"value\":5},\"xs\":{\"field\":\"x\"},\"ys\":{\"field\":\"y\"}},\"id\":\"4802\",\"type\":\"MultiLine\"},{\"attributes\":{\"axis\":{\"id\":\"4778\"},\"grid_line_color\":null,\"ticker\":null},\"id\":\"4781\",\"type\":\"Grid\"},{\"attributes\":{},\"id\":\"4779\",\"type\":\"BasicTicker\"},{\"attributes\":{},\"id\":\"4783\",\"type\":\"BasicTicker\"},{\"attributes\":{},\"id\":\"4771\",\"type\":\"DataRange1d\"},{\"attributes\":{\"bottom_units\":\"screen\",\"fill_alpha\":0.5,\"fill_color\":\"lightgrey\",\"left_units\":\"screen\",\"level\":\"overlay\",\"line_alpha\":1.0,\"line_color\":\"black\",\"line_dash\":[4,4],\"line_width\":2,\"render_mode\":\"css\",\"right_units\":\"screen\",\"top_units\":\"screen\"},\"id\":\"4987\",\"type\":\"BoxAnnotation\"},{\"attributes\":{\"data_source\":{\"id\":\"4799\"},\"glyph\":{\"id\":\"4801\"},\"hover_glyph\":null,\"muted_glyph\":null,\"nonselection_glyph\":{\"id\":\"4802\"},\"selection_glyph\":null,\"view\":{\"id\":\"4804\"}},\"id\":\"4803\",\"type\":\"GlyphRenderer\"},{\"attributes\":{\"text\":\"Spain\",\"text_alpha\":0.6,\"text_color\":\"#d6616b\",\"text_font_size\":\"8pt\",\"x\":58,\"x_offset\":-20,\"y\":3.5771531244649255,\"y_offset\":5},\"id\":\"4810\",\"type\":\"Label\"},{\"attributes\":{\"text\":\"New Jersey\",\"text_alpha\":0.6,\"text_color\":\"#393b79\",\"text_font_size\":\"8pt\",\"x\":48,\"x_offset\":-25,\"y\":5.661918534501963,\"y_offset\":10},\"id\":\"4805\",\"type\":\"Label\"},{\"attributes\":{\"text\":\"United Kingdom\",\"text_alpha\":0.6,\"text_color\":\"#7b4173\",\"text_font_size\":\"8pt\",\"x\":55,\"x_offset\":-20,\"y\":4.342404595713956,\"y_offset\":5},\"id\":\"4811\",\"type\":\"Label\"},{\"attributes\":{},\"id\":\"4985\",\"type\":\"UnionRenderers\"},{\"attributes\":{\"axis\":{\"id\":\"4782\"},\"dimension\":1,\"ticker\":null},\"id\":\"4785\",\"type\":\"Grid\"},{\"attributes\":{},\"id\":\"4774\",\"type\":\"LinearScale\"},{\"attributes\":{\"source\":{\"id\":\"4799\"}},\"id\":\"4804\",\"type\":\"CDSView\"},{\"attributes\":{},\"id\":\"4984\",\"type\":\"BasicTickFormatter\"},{\"attributes\":{\"axis_label\":\"Daily Cases per 1M (7DMA)\\n(Natural Log)\",\"formatter\":{\"id\":\"4982\"},\"ticker\":{\"id\":\"4783\"}},\"id\":\"4782\",\"type\":\"LinearAxis\"},{\"attributes\":{\"line_color\":{\"field\":\"color\"},\"line_width\":{\"value\":5},\"xs\":{\"field\":\"x\"},\"ys\":{\"field\":\"y\"}},\"id\":\"4801\",\"type\":\"MultiLine\"}],\"root_ids\":[\"4768\"]},\"title\":\"Bokeh Application\",\"version\":\"2.0.0\"}};\n",
       "  var render_items = [{\"docid\":\"b5829553-ec1b-4ff7-85a3-bc145f8c6a3d\",\"root_ids\":[\"4768\"],\"roots\":{\"4768\":\"e5d3a965-0145-46d3-9292-d2ba9ad508da\"}}];\n",
       "  root.Bokeh.embed.embed_items_notebook(docs_json, render_items);\n",
       "\n",
       "  }\n",
       "  if (root.Bokeh !== undefined) {\n",
       "    embed_document(root);\n",
       "  } else {\n",
       "    var attempts = 0;\n",
       "    var timer = setInterval(function(root) {\n",
       "      if (root.Bokeh !== undefined) {\n",
       "        clearInterval(timer);\n",
       "        embed_document(root);\n",
       "      } else {\n",
       "        attempts++;\n",
       "        if (attempts > 100) {\n",
       "          clearInterval(timer);\n",
       "          console.log(\"Bokeh: ERROR: Unable to run BokehJS code because BokehJS library is missing\");\n",
       "        }\n",
       "      }\n",
       "    }, 10, root)\n",
       "  }\n",
       "})(window);"
      ],
      "application/vnd.bokehjs_exec.v0+json": ""
     },
     "metadata": {
      "application/vnd.bokehjs_exec.v0+json": {
       "id": "4768"
      }
     },
     "output_type": "display_data"
    }
   ],
   "source": [
    "kwargs ={\n",
    "    'title': 'Comparison of Population Adjusted Daily Cases in Top 10 Most Impacted Regions Excluding Hubei',\n",
    "    'width': 925,\n",
    "    'palette_base': Category20b[20],\n",
    "    'label_offsets': {\n",
    "        'New Jersey': {'x_offset': -5, 'y_offset': 5},\n",
    "        'New York': {'x_offset': 20, 'y_offset': -20},\n",
    "        'France': {'x_offset': 10, 'y_offset': 10},\n",
    "        'Germany': {'x_offset': 0, 'y_offset': -20},\n",
    "    }, \n",
    "}\n",
    "p = casestudy.comp_chart.make(comp_category='cases_new_dma_per_1M_lognat', comp_type='multiline', **kwargs)\n",
    "show(p)"
   ]
  },
  {
   "cell_type": "markdown",
   "metadata": {},
   "source": [
    "## 4.3 Factor Comparison: Oxford Government Tracker"
   ]
  },
  {
   "cell_type": "markdown",
   "metadata": {},
   "source": [
    "**Oxford Stringency Index from day of 1st Death**\n",
    "\n",
    "The comparison chart can be used to compare any time-dynamic variable provided by the `factor` attribute.\n",
    "\n",
    "The below chart compares the Oxford Stringency Index for each selected region"
   ]
  },
  {
   "cell_type": "code",
   "execution_count": 34,
   "metadata": {},
   "outputs": [
    {
     "data": {
      "text/html": [
       "\n",
       "\n",
       "\n",
       "\n",
       "\n",
       "\n",
       "  <div class=\"bk-root\" id=\"33ba55a8-d591-4033-847b-4c97d48482e6\" data-root-id=\"5037\"></div>\n"
      ]
     },
     "metadata": {},
     "output_type": "display_data"
    },
    {
     "data": {
      "application/javascript": [
       "(function(root) {\n",
       "  function embed_document(root) {\n",
       "    \n",
       "  var docs_json = {\"bcad0ec9-f2cb-4549-bc2a-4d2494c11cdb\":{\"roots\":{\"references\":[{\"attributes\":{\"below\":[{\"id\":\"5047\"}],\"center\":[{\"id\":\"5050\"},{\"id\":\"5054\"},{\"id\":\"5074\"},{\"id\":\"5075\"},{\"id\":\"5076\"}],\"left\":[{\"id\":\"5051\"}],\"min_border\":0,\"plot_height\":500,\"plot_width\":825,\"renderers\":[{\"id\":\"5072\"}],\"title\":{\"id\":\"5038\"},\"toolbar\":{\"id\":\"5061\"},\"toolbar_location\":null,\"x_range\":{\"id\":\"5040\"},\"x_scale\":{\"id\":\"5043\"},\"y_range\":{\"id\":\"5036\"},\"y_scale\":{\"id\":\"5045\"}},\"id\":\"5037\",\"subtype\":\"Figure\",\"type\":\"Plot\"},{\"attributes\":{},\"id\":\"5259\",\"type\":\"Selection\"},{\"attributes\":{\"active_drag\":\"auto\",\"active_inspect\":\"auto\",\"active_multi\":null,\"active_scroll\":\"auto\",\"active_tap\":\"auto\",\"tools\":[{\"id\":\"5055\"},{\"id\":\"5056\"},{\"id\":\"5057\"},{\"id\":\"5058\"},{\"id\":\"5059\"},{\"id\":\"5060\"}]},\"id\":\"5061\",\"type\":\"Toolbar\"},{\"attributes\":{\"axis_label\":\"Days Since 10 Cases\",\"formatter\":{\"id\":\"5257\"},\"major_tick_line_color\":null,\"ticker\":{\"id\":\"5048\"}},\"id\":\"5047\",\"type\":\"LinearAxis\"},{\"attributes\":{},\"id\":\"5060\",\"type\":\"HelpTool\"},{\"attributes\":{},\"id\":\"5255\",\"type\":\"BasicTickFormatter\"},{\"attributes\":{\"axis\":{\"id\":\"5047\"},\"grid_line_color\":null,\"ticker\":null},\"id\":\"5050\",\"type\":\"Grid\"},{\"attributes\":{},\"id\":\"5045\",\"type\":\"LinearScale\"},{\"attributes\":{},\"id\":\"5040\",\"type\":\"DataRange1d\"},{\"attributes\":{\"source\":{\"id\":\"5068\"}},\"id\":\"5073\",\"type\":\"CDSView\"},{\"attributes\":{\"axis_label\":\"Oxford Stringency Index\",\"formatter\":{\"id\":\"5255\"},\"ticker\":{\"id\":\"5052\"}},\"id\":\"5051\",\"type\":\"LinearAxis\"},{\"attributes\":{\"overlay\":{\"id\":\"5260\"}},\"id\":\"5057\",\"type\":\"BoxZoomTool\"},{\"attributes\":{},\"id\":\"5059\",\"type\":\"ResetTool\"},{\"attributes\":{\"bottom_units\":\"screen\",\"fill_alpha\":0.5,\"fill_color\":\"lightgrey\",\"left_units\":\"screen\",\"level\":\"overlay\",\"line_alpha\":1.0,\"line_color\":\"black\",\"line_dash\":[4,4],\"line_width\":2,\"render_mode\":\"css\",\"right_units\":\"screen\",\"top_units\":\"screen\"},\"id\":\"5260\",\"type\":\"BoxAnnotation\"},{\"attributes\":{},\"id\":\"5048\",\"type\":\"BasicTicker\"},{\"attributes\":{\"text\":\"Spain\",\"text_alpha\":0.6,\"text_color\":\"#b5cf6b\",\"text_font_size\":\"8pt\",\"x\":64,\"x_offset\":-20,\"y\":89.41,\"y_offset\":5},\"id\":\"5075\",\"type\":\"Label\"},{\"attributes\":{},\"id\":\"5052\",\"type\":\"BasicTicker\"},{\"attributes\":{},\"id\":\"5258\",\"type\":\"UnionRenderers\"},{\"attributes\":{\"line_color\":{\"field\":\"color\"},\"line_width\":{\"value\":5},\"xs\":{\"field\":\"x\"},\"ys\":{\"field\":\"y\"}},\"id\":\"5070\",\"type\":\"MultiLine\"},{\"attributes\":{},\"id\":\"5043\",\"type\":\"LinearScale\"},{\"attributes\":{\"text\":\"Taiwan\",\"text_alpha\":0.6,\"text_color\":\"#ad494a\",\"text_font_size\":\"8pt\",\"x\":87,\"x_offset\":-10,\"y\":29.36,\"y_offset\":10},\"id\":\"5076\",\"type\":\"Label\"},{\"attributes\":{\"data\":{\"color\":[\"#393b79\",\"#b5cf6b\",\"#ad494a\"],\"regions\":[\"Germany\",\"Spain\",\"Taiwan\"],\"x\":[[0,1,2,3,4,5,6,7,8,9,10,11,12,13,14,15,16,17,18,19,20,21,22,23,24,25,26,27,28,29,30,31,32,33,34,35,36,37,38,39,40,41,42,43,44,45,46,47,48,49,50,51,52,53,54,55,56,57,58,59,60,61,62,63,64,65,66,67,68,69,70,71,72,73,74,75,76,77,78,79,80,81,82,83,84,85,86,87],[0,1,2,3,4,5,6,7,8,9,10,11,12,13,14,15,16,17,18,19,20,21,22,23,24,25,26,27,28,29,30,31,32,33,34,35,36,37,38,39,40,41,42,43,44,45,46,47,48,49,50,51,52,53,54,55,56,57,58,59,60,61,62,63,64],[0,1,2,3,4,5,6,7,8,9,10,11,12,13,14,15,16,17,18,19,20,21,22,23,24,25,26,27,28,29,30,31,32,33,34,35,36,37,38,39,40,41,42,43,44,45,46,47,48,49,50,51,52,53,54,55,56,57,58,59,60,61,62,63,64,65,66,67,68,69,70,71,72,73,74,75,76,77,78,79,80,81,82,83,84,85,86,87]],\"y\":[[7.94,7.94,7.94,7.94,7.94,7.94,7.94,7.94,7.94,7.94,7.94,7.94,7.94,7.94,7.94,7.94,7.94,7.94,7.94,7.94,7.94,7.94,7.94,7.94,15.88,15.88,18.66,25.8,25.8,25.8,25.8,25.8,25.8,25.8,25.8,25.8,25.8,28.58,28.58,28.58,28.58,26.6,26.6,35.32,35.32,42.47,43.26,46.44,51.73,68.66,68.66,68.66,68.66,68.66,68.66,68.66,68.66,68.66,68.66,68.66,68.66,68.66,68.66,68.66,75.8,75.8,75.8,75.8,75.8,75.8,75.8,78.97,78.97,76.19,76.19,78.97,78.97,78.97,78.97,78.97,78.97,78.97,78.97,78.97,73.15,73.15,73.15,73.15],[11.11,11.11,11.11,11.11,11.11,11.11,11.11,11.11,11.11,11.11,11.11,11.11,25.67,47.1,47.1,47.1,47.1,71.69,71.69,74.86,77.64,77.64,77.64,77.64,77.64,77.64,77.64,77.64,77.64,77.64,77.64,77.64,77.64,89.41,89.41,89.41,89.41,89.41,89.41,89.41,89.41,89.41,89.41,89.41,89.41,89.41,89.41,89.41,89.41,89.41,89.41,89.41,89.41,89.41,89.41,89.41,89.41,89.41,89.41,89.41,89.41,89.41,89.41,89.41,89.41],[19.44,19.44,30.56,30.56,30.56,30.56,30.56,30.56,30.56,30.56,30.56,30.56,30.56,30.56,30.56,30.56,30.56,30.56,30.56,30.56,30.56,30.56,30.56,30.56,30.56,19.44,19.44,19.44,19.44,19.44,19.44,19.44,19.44,19.44,26.59,26.59,26.59,26.59,26.59,26.59,26.59,26.59,26.59,26.59,29.23,29.23,29.23,29.23,32.01,32.01,32.01,32.01,32.01,32.01,32.01,32.01,32.01,29.36,29.36,29.36,29.36,29.36,29.36,29.36,29.36,29.36,29.36,29.36,29.36,29.36,29.36,29.36,29.36,29.36,29.36,29.36,29.36,29.36,29.36,29.36,29.36,29.36,29.36,29.36,29.36,29.36,29.36,29.36]]},\"selected\":{\"id\":\"5259\"},\"selection_policy\":{\"id\":\"5258\"}},\"id\":\"5068\",\"type\":\"ColumnDataSource\"},{\"attributes\":{\"text\":\"Germany\",\"text_alpha\":0.6,\"text_color\":\"#393b79\",\"text_font_size\":\"8pt\",\"x\":87,\"x_offset\":-20,\"y\":73.15,\"y_offset\":5},\"id\":\"5074\",\"type\":\"Label\"},{\"attributes\":{},\"id\":\"5257\",\"type\":\"BasicTickFormatter\"},{\"attributes\":{\"axis\":{\"id\":\"5051\"},\"dimension\":1,\"ticker\":null},\"id\":\"5054\",\"type\":\"Grid\"},{\"attributes\":{\"data_source\":{\"id\":\"5068\"},\"glyph\":{\"id\":\"5070\"},\"hover_glyph\":null,\"muted_glyph\":null,\"nonselection_glyph\":{\"id\":\"5071\"},\"selection_glyph\":null,\"view\":{\"id\":\"5073\"}},\"id\":\"5072\",\"type\":\"GlyphRenderer\"},{\"attributes\":{},\"id\":\"5056\",\"type\":\"WheelZoomTool\"},{\"attributes\":{\"end\":93.8805,\"start\":7.94},\"id\":\"5036\",\"type\":\"Range1d\"},{\"attributes\":{},\"id\":\"5058\",\"type\":\"SaveTool\"},{\"attributes\":{\"line_alpha\":{\"value\":0.1},\"line_color\":{\"field\":\"color\"},\"line_width\":{\"value\":5},\"xs\":{\"field\":\"x\"},\"ys\":{\"field\":\"y\"}},\"id\":\"5071\",\"type\":\"MultiLine\"},{\"attributes\":{\"text\":\"Comparison of Daily Fatalities as of April 27\"},\"id\":\"5038\",\"type\":\"Title\"},{\"attributes\":{},\"id\":\"5055\",\"type\":\"PanTool\"}],\"root_ids\":[\"5037\"]},\"title\":\"Bokeh Application\",\"version\":\"2.0.0\"}};\n",
       "  var render_items = [{\"docid\":\"bcad0ec9-f2cb-4549-bc2a-4d2494c11cdb\",\"root_ids\":[\"5037\"],\"roots\":{\"5037\":\"33ba55a8-d591-4033-847b-4c97d48482e6\"}}];\n",
       "  root.Bokeh.embed.embed_items_notebook(docs_json, render_items);\n",
       "\n",
       "  }\n",
       "  if (root.Bokeh !== undefined) {\n",
       "    embed_document(root);\n",
       "  } else {\n",
       "    var attempts = 0;\n",
       "    var timer = setInterval(function(root) {\n",
       "      if (root.Bokeh !== undefined) {\n",
       "        clearInterval(timer);\n",
       "        embed_document(root);\n",
       "      } else {\n",
       "        attempts++;\n",
       "        if (attempts > 100) {\n",
       "          clearInterval(timer);\n",
       "          console.log(\"Bokeh: ERROR: Unable to run BokehJS code because BokehJS library is missing\");\n",
       "        }\n",
       "      }\n",
       "    }, 10, root)\n",
       "  }\n",
       "})(window);"
      ],
      "application/vnd.bokehjs_exec.v0+json": ""
     },
     "metadata": {
      "application/vnd.bokehjs_exec.v0+json": {
       "id": "5037"
      }
     },
     "output_type": "display_data"
    }
   ],
   "source": [
    "regions = ['Germany', 'Spain', 'Taiwan']\n",
    "\n",
    "casestudy = CaseStudy(\n",
    "    baseframe, count_categories='cases_new_per_1M', regions=regions, \n",
    "    start_hurdle=10, start_factor='cases', factors=['strindex']\n",
    ")\n",
    "kwargs = {\n",
    "    'width': 825, 'height': 500,\n",
    "    'palette_base': Category20b[20],\n",
    "    'label_offsets': {\n",
    "        'Taiwan': {'x_offset': 10, 'y_offset': 5},\n",
    "    },\n",
    "}\n",
    "p = casestudy.comp_chart.make(comp_category='strindex', comp_type='multiline', **kwargs)\n",
    "show(p)"
   ]
  },
  {
   "cell_type": "markdown",
   "metadata": {},
   "source": [
    "## 4.4 MultiBar Comparison\n",
    "\n",
    "Staggered bar charts are available by selecting `v-bar` for the `comp_type` parameter. `v-bar` is also the default parameter. The chart staggers the outcomes for individual regions on each day around the midpoint.\n",
    "\n",
    "can provide more clear point-to-point comparisons between two or three regions. If you are interested in more than three regions, the 4D Bar chart is recommended.\n",
    "\n",
    "Options for tinkering with the color scheme are also shown.\n",
    "\n",
    "**NOTE:** Despite its low score on the Oxford Stringency Index, Taiwan ***doesn't even register on the page*** and so has been removed from the comparison."
   ]
  },
  {
   "cell_type": "code",
   "execution_count": 35,
   "metadata": {},
   "outputs": [
    {
     "data": {
      "text/html": [
       "\n",
       "\n",
       "\n",
       "\n",
       "\n",
       "\n",
       "  <div class=\"bk-root\" id=\"13cd578d-937c-41c6-ab7d-fa49112ad6c9\" data-root-id=\"5310\"></div>\n"
      ]
     },
     "metadata": {},
     "output_type": "display_data"
    },
    {
     "data": {
      "application/javascript": [
       "(function(root) {\n",
       "  function embed_document(root) {\n",
       "    \n",
       "  var docs_json = {\"a9942111-65b3-4e77-afd8-35eb186ff045\":{\"roots\":{\"references\":[{\"attributes\":{\"below\":[{\"id\":\"5320\"}],\"center\":[{\"id\":\"5323\"},{\"id\":\"5327\"},{\"id\":\"5354\"}],\"left\":[{\"id\":\"5324\"}],\"min_border\":0,\"plot_height\":500,\"plot_width\":825,\"renderers\":[{\"id\":\"5346\"},{\"id\":\"5360\"}],\"title\":{\"id\":\"5311\"},\"toolbar\":{\"id\":\"5334\"},\"toolbar_location\":null,\"x_range\":{\"id\":\"5313\"},\"x_scale\":{\"id\":\"5316\"},\"y_range\":{\"id\":\"5309\"},\"y_scale\":{\"id\":\"5318\"}},\"id\":\"5310\",\"subtype\":\"Figure\",\"type\":\"Plot\"},{\"attributes\":{\"data_source\":{\"id\":\"5341\"},\"glyph\":{\"id\":\"5358\"},\"hover_glyph\":null,\"muted_glyph\":null,\"nonselection_glyph\":{\"id\":\"5359\"},\"selection_glyph\":null,\"view\":{\"id\":\"5361\"}},\"id\":\"5360\",\"type\":\"GlyphRenderer\"},{\"attributes\":{\"fill_alpha\":{\"value\":0.1},\"fill_color\":{\"value\":\"#abdda4\"},\"line_alpha\":{\"value\":0.1},\"line_color\":{\"value\":\"#abdda4\"},\"top\":{\"field\":\"Spain\"},\"width\":{\"value\":0.3},\"x\":{\"field\":\"x\",\"transform\":{\"id\":\"5356\"}}},\"id\":\"5359\",\"type\":\"VBar\"},{\"attributes\":{\"data_source\":{\"id\":\"5341\"},\"glyph\":{\"id\":\"5344\"},\"hover_glyph\":null,\"muted_glyph\":null,\"nonselection_glyph\":{\"id\":\"5345\"},\"selection_glyph\":null,\"view\":{\"id\":\"5347\"}},\"id\":\"5346\",\"type\":\"GlyphRenderer\"},{\"attributes\":{\"fill_alpha\":{\"value\":0.1},\"fill_color\":{\"value\":\"#f46d43\"},\"line_alpha\":{\"value\":0.1},\"line_color\":{\"value\":\"#f46d43\"},\"top\":{\"field\":\"Germany\"},\"width\":{\"value\":0.3},\"x\":{\"field\":\"x\",\"transform\":{\"id\":\"5342\"}}},\"id\":\"5345\",\"type\":\"VBar\"},{\"attributes\":{},\"id\":\"5318\",\"type\":\"LinearScale\"},{\"attributes\":{\"data\":{\"Germany\":[0.010639513210352086,0.010639513210352086,0.01152613931121476,0.01152613931121476,0.012412765412077434,0.01152613931121476,0.010639513210352086,0.010639513210352086,0.010639513210352086,0.009752887109489412,0.007093008806901391,0.005319756605176043,0.0035465044034506954,0.0035465044034506954,0.0035465044034506954,0.0035465044034506954,0.0026598783025880215,0.0026598783025880215,0.0017732522017253477,0.0017732522017253477,0.0008866261008626738,0.009752887109489412,0.02659878302588022,0.028372035227605563,0.05585744435434845,0.10107537549834482,0.12678753242336235,0.15959269815528132,0.2181100208122178,0.413167763002006,0.5798534699641887,0.6942282369754738,0.907905127283378,1.028486277000702,1.2767415852422506,1.6677436957226897,1.8016242369529532,3.215792867828918,3.9951372104872083,5.022736861387048,6.306571455436199,8.033719099916686,10.697143906908162,13.155758084600356,17.00371536234436,18.986211323873302,21.130959861860106,24.719135692051346,27.954434334099243,31.399863362051597,37.11416858211153,41.84520545631476,47.08871221681661,49.91704947856854,52.85444175072658,55.45934923506112,58.11390778104396,61.59746173133341,63.22619387861814,65.50304970563349,66.71861408991622,65.8922785639122,66.2105773341219,67.35964476083993,65.8257816063475,63.21644099150865,59.592800117282906,58.30364576662858,56.02324343520978,52.79947093247309,50.432179243169756,46.906067240038894,44.54232205513902,41.89308326576135,39.95225873097295,38.737580972791086,36.021845225848715,33.117258119422594,30.985808972948725,29.106161639119858,28.02181791776481,26.52430643340775,25.433756329346664,25.315835057931928,23.749166737707583,22.441393238935138,20.108679967565443,19.17328943115532,18.158102545667564,0,0,0],\"Germany_date\":[\"Feb 05\",\"Feb 06\",\"Feb 07\",\"Feb 08\",\"Feb 09\",\"Feb 10\",\"Feb 11\",\"Feb 12\",\"Feb 13\",\"Feb 14\",\"Feb 15\",\"Feb 16\",\"Feb 17\",\"Feb 18\",\"Feb 19\",\"Feb 20\",\"Feb 21\",\"Feb 22\",\"Feb 23\",\"Feb 24\",\"Feb 25\",\"Feb 26\",\"Feb 27\",\"Feb 28\",\"Feb 29\",\"Mar 01\",\"Mar 02\",\"Mar 03\",\"Mar 04\",\"Mar 05\",\"Mar 06\",\"Mar 07\",\"Mar 08\",\"Mar 09\",\"Mar 10\",\"Mar 11\",\"Mar 12\",\"Mar 13\",\"Mar 14\",\"Mar 15\",\"Mar 16\",\"Mar 17\",\"Mar 18\",\"Mar 19\",\"Mar 20\",\"Mar 21\",\"Mar 22\",\"Mar 23\",\"Mar 24\",\"Mar 25\",\"Mar 26\",\"Mar 27\",\"Mar 28\",\"Mar 29\",\"Mar 30\",\"Mar 31\",\"Apr 01\",\"Apr 02\",\"Apr 03\",\"Apr 04\",\"Apr 05\",\"Apr 06\",\"Apr 07\",\"Apr 08\",\"Apr 09\",\"Apr 10\",\"Apr 11\",\"Apr 12\",\"Apr 13\",\"Apr 14\",\"Apr 15\",\"Apr 16\",\"Apr 17\",\"Apr 18\",\"Apr 19\",\"Apr 20\",\"Apr 21\",\"Apr 22\",\"Apr 23\",\"Apr 24\",\"Apr 25\",\"Apr 26\",\"Apr 27\",\"Apr 28\",\"Apr 29\",\"Apr 30\",\"May 01\",\"May 02\",\"May 03\",\"n/a\",\"n/a\",\"n/a\"],\"Spain\":[0.017017868018821884,0.020112025840425866,0.046412367324059685,0.06652439316448555,0.12686047068576314,0.18255531147463477,0.2521738624607243,0.3403573603764377,0.39759928007611134,0.6157374064991918,0.7704452975793908,1.038089949148135,1.656921513468931,2.6130162803445605,3.5025866540557047,3.499492496234101,8.044810336170347,9.817762767949425,11.934166717926548,15.195409061897141,17.919815023819446,21.176416131057632,27.389485036838426,30.95704900514781,38.482040827288685,43.4651819989819,52.69814893864817,59.08294360352798,73.08091358846438,85.87680325970764,93.57816207767995,103.41294271364819,111.87237019791347,120.69381414730643,130.22536731675748,139.55889438562588,145.5832196642888,152.83437851921775,155.93627173537573,159.1603841854871,157.08884552392323,157.89023239971866,152.7044238907104,147.6470229312987,143.18834151036734,138.91530955873225,134.16423022365936,127.08170297000783,118.53409198782684,113.75052399562709,112.7557522559814,110.83273316985452,101.42339923435684,103.69760523323575,98.2936585978044,96.28400309267263,93.08619098404493,92.51841302378058,69.18072765433257,66.3356495373677,63.125460797453584,60.90230840263112,59.14792091778166,54.57011442071858,44.071636932016276,34.95779506848176,39.82181116404321,0,0,0,0,0,0,0,0,0,0,0,0,0,0,0,0,0,0,0,0,0,0,0,0,0],\"Spain_date\":[\"Feb 26\",\"Feb 27\",\"Feb 28\",\"Feb 29\",\"Mar 01\",\"Mar 02\",\"Mar 03\",\"Mar 04\",\"Mar 05\",\"Mar 06\",\"Mar 07\",\"Mar 08\",\"Mar 09\",\"Mar 10\",\"Mar 11\",\"Mar 12\",\"Mar 13\",\"Mar 14\",\"Mar 15\",\"Mar 16\",\"Mar 17\",\"Mar 18\",\"Mar 19\",\"Mar 20\",\"Mar 21\",\"Mar 22\",\"Mar 23\",\"Mar 24\",\"Mar 25\",\"Mar 26\",\"Mar 27\",\"Mar 28\",\"Mar 29\",\"Mar 30\",\"Mar 31\",\"Apr 01\",\"Apr 02\",\"Apr 03\",\"Apr 04\",\"Apr 05\",\"Apr 06\",\"Apr 07\",\"Apr 08\",\"Apr 09\",\"Apr 10\",\"Apr 11\",\"Apr 12\",\"Apr 13\",\"Apr 14\",\"Apr 15\",\"Apr 16\",\"Apr 17\",\"Apr 18\",\"Apr 19\",\"Apr 20\",\"Apr 21\",\"Apr 22\",\"Apr 23\",\"Apr 24\",\"Apr 25\",\"Apr 26\",\"Apr 27\",\"Apr 28\",\"Apr 29\",\"Apr 30\",\"May 01\",\"May 03\",\"n/a\",\"n/a\",\"n/a\",\"n/a\",\"n/a\",\"n/a\",\"n/a\",\"n/a\",\"n/a\",\"n/a\",\"n/a\",\"n/a\",\"n/a\",\"n/a\",\"n/a\",\"n/a\",\"n/a\",\"n/a\",\"n/a\",\"n/a\",\"n/a\",\"n/a\",\"n/a\",\"n/a\",\"n/a\"],\"x\":[0,1,2,3,4,5,6,7,8,9,10,11,12,13,14,15,16,17,18,19,20,21,22,23,24,25,26,27,28,29,30,31,32,33,34,35,36,37,38,39,40,41,42,43,44,45,46,47,48,49,50,51,52,53,54,55,56,57,58,59,60,61,62,63,64,65,66,67,68,69,70,71,72,73,74,75,76,77,78,79,80,81,82,83,84,85,86,87,88,89,90,91]},\"selected\":{\"id\":\"5368\"},\"selection_policy\":{\"id\":\"5367\"}},\"id\":\"5341\",\"type\":\"ColumnDataSource\"},{\"attributes\":{},\"id\":\"5333\",\"type\":\"HelpTool\"},{\"attributes\":{\"fill_color\":{\"value\":\"#f46d43\"},\"line_color\":{\"value\":\"#f46d43\"},\"top\":{\"field\":\"Germany\"},\"width\":{\"value\":0.3},\"x\":{\"field\":\"x\",\"transform\":{\"id\":\"5342\"}}},\"id\":\"5344\",\"type\":\"VBar\"},{\"attributes\":{},\"id\":\"5332\",\"type\":\"ResetTool\"},{\"attributes\":{},\"id\":\"5352\",\"type\":\"BasicTickFormatter\"},{\"attributes\":{\"range\":{\"id\":\"5313\"},\"value\":0.125},\"id\":\"5356\",\"type\":\"Dodge\"},{\"attributes\":{},\"id\":\"5316\",\"type\":\"LinearScale\"},{\"attributes\":{},\"id\":\"5350\",\"type\":\"BasicTickFormatter\"},{\"attributes\":{\"label\":{\"value\":\"Spain: Feb 26\"},\"renderers\":[{\"id\":\"5360\"}]},\"id\":\"5370\",\"type\":\"LegendItem\"},{\"attributes\":{\"axis_label\":\"Days Since 10 Cases\",\"formatter\":{\"id\":\"5352\"},\"major_tick_line_color\":null,\"ticker\":{\"id\":\"5321\"}},\"id\":\"5320\",\"type\":\"LinearAxis\"},{\"attributes\":{\"border_line_color\":\"black\",\"items\":[{\"id\":\"5355\"},{\"id\":\"5370\"}],\"title\":\"Region: Start Date\"},\"id\":\"5354\",\"type\":\"Legend\"},{\"attributes\":{},\"id\":\"5325\",\"type\":\"BasicTicker\"},{\"attributes\":{\"end\":167.11840339476146,\"start\":0.0008866261008626738},\"id\":\"5309\",\"type\":\"Range1d\"},{\"attributes\":{\"axis\":{\"id\":\"5324\"},\"dimension\":1,\"ticker\":null},\"id\":\"5327\",\"type\":\"Grid\"},{\"attributes\":{\"overlay\":{\"id\":\"5353\"}},\"id\":\"5330\",\"type\":\"BoxZoomTool\"},{\"attributes\":{\"bottom_units\":\"screen\",\"fill_alpha\":0.5,\"fill_color\":\"lightgrey\",\"left_units\":\"screen\",\"level\":\"overlay\",\"line_alpha\":1.0,\"line_color\":\"black\",\"line_dash\":[4,4],\"line_width\":2,\"render_mode\":\"css\",\"right_units\":\"screen\",\"top_units\":\"screen\"},\"id\":\"5353\",\"type\":\"BoxAnnotation\"},{\"attributes\":{\"axis_label\":\"Daily Cases per 1M (14DMA)\",\"formatter\":{\"id\":\"5350\"},\"ticker\":{\"id\":\"5325\"}},\"id\":\"5324\",\"type\":\"LinearAxis\"},{\"attributes\":{\"text\":\"Comparison of Daily Fatalities as of May 03\"},\"id\":\"5311\",\"type\":\"Title\"},{\"attributes\":{},\"id\":\"5367\",\"type\":\"UnionRenderers\"},{\"attributes\":{\"source\":{\"id\":\"5341\"}},\"id\":\"5347\",\"type\":\"CDSView\"},{\"attributes\":{\"label\":{\"value\":\"Germany: Feb 05\"},\"renderers\":[{\"id\":\"5346\"}]},\"id\":\"5355\",\"type\":\"LegendItem\"},{\"attributes\":{},\"id\":\"5368\",\"type\":\"Selection\"},{\"attributes\":{\"range\":{\"id\":\"5313\"},\"value\":-0.125},\"id\":\"5342\",\"type\":\"Dodge\"},{\"attributes\":{\"active_drag\":\"auto\",\"active_inspect\":\"auto\",\"active_multi\":null,\"active_scroll\":\"auto\",\"active_tap\":\"auto\",\"tools\":[{\"id\":\"5328\"},{\"id\":\"5329\"},{\"id\":\"5330\"},{\"id\":\"5331\"},{\"id\":\"5332\"},{\"id\":\"5333\"}]},\"id\":\"5334\",\"type\":\"Toolbar\"},{\"attributes\":{\"fill_color\":{\"value\":\"#abdda4\"},\"line_color\":{\"value\":\"#abdda4\"},\"top\":{\"field\":\"Spain\"},\"width\":{\"value\":0.3},\"x\":{\"field\":\"x\",\"transform\":{\"id\":\"5356\"}}},\"id\":\"5358\",\"type\":\"VBar\"},{\"attributes\":{},\"id\":\"5331\",\"type\":\"SaveTool\"},{\"attributes\":{},\"id\":\"5328\",\"type\":\"PanTool\"},{\"attributes\":{},\"id\":\"5321\",\"type\":\"BasicTicker\"},{\"attributes\":{},\"id\":\"5313\",\"type\":\"DataRange1d\"},{\"attributes\":{\"axis\":{\"id\":\"5320\"},\"grid_line_color\":null,\"ticker\":null},\"id\":\"5323\",\"type\":\"Grid\"},{\"attributes\":{},\"id\":\"5329\",\"type\":\"WheelZoomTool\"},{\"attributes\":{\"source\":{\"id\":\"5341\"}},\"id\":\"5361\",\"type\":\"CDSView\"}],\"root_ids\":[\"5310\"]},\"title\":\"Bokeh Application\",\"version\":\"2.0.0\"}};\n",
       "  var render_items = [{\"docid\":\"a9942111-65b3-4e77-afd8-35eb186ff045\",\"root_ids\":[\"5310\"],\"roots\":{\"5310\":\"13cd578d-937c-41c6-ab7d-fa49112ad6c9\"}}];\n",
       "  root.Bokeh.embed.embed_items_notebook(docs_json, render_items);\n",
       "\n",
       "  }\n",
       "  if (root.Bokeh !== undefined) {\n",
       "    embed_document(root);\n",
       "  } else {\n",
       "    var attempts = 0;\n",
       "    var timer = setInterval(function(root) {\n",
       "      if (root.Bokeh !== undefined) {\n",
       "        clearInterval(timer);\n",
       "        embed_document(root);\n",
       "      } else {\n",
       "        attempts++;\n",
       "        if (attempts > 100) {\n",
       "          clearInterval(timer);\n",
       "          console.log(\"Bokeh: ERROR: Unable to run BokehJS code because BokehJS library is missing\");\n",
       "        }\n",
       "      }\n",
       "    }, 10, root)\n",
       "  }\n",
       "})(window);"
      ],
      "application/vnd.bokehjs_exec.v0+json": ""
     },
     "metadata": {
      "application/vnd.bokehjs_exec.v0+json": {
       "id": "5310"
      }
     },
     "output_type": "display_data"
    }
   ],
   "source": [
    "from bokeh.palettes import Spectral\n",
    "regions = ['Germany', 'Spain']\n",
    "\n",
    "casestudy = CaseStudy(baseframe, regions=regions, factors='strindex', count_dma=14, start_hurdle=10, start_factor='cases', lognat=True)\n",
    "\n",
    "kwargs = {\n",
    "    'width': 825, 'height': 500,\n",
    "    'palette_base': Spectral[11],\n",
    "    'palette_flip': True,\n",
    "    'palette_shift': 3,\n",
    "}\n",
    "\n",
    "p = casestudy.comp_chart.make(comp_category='cases_new_dma_per_1M', **kwargs)\n",
    "show(p)"
   ]
  },
  {
   "cell_type": "markdown",
   "metadata": {},
   "source": [
    "Via the `overlay` parameter, an optional second factor can be added to the right y-axis for understanding related variables.\n",
    "\n",
    "Here we compare based on ***density***.\n",
    "\n",
    "We can see from below that, despite having a lower `stringency index` overall and seemingly reacting slower to to the onset of the outbreak, Germany has managed to maintain materially lower case counts.\n",
    "\n",
    "The impacts of testing should be investigated."
   ]
  },
  {
   "cell_type": "code",
   "execution_count": 36,
   "metadata": {},
   "outputs": [
    {
     "data": {
      "text/html": [
       "\n",
       "\n",
       "\n",
       "\n",
       "\n",
       "\n",
       "  <div class=\"bk-root\" id=\"1dc80b83-516a-4034-bfd9-4a0a2515baeb\" data-root-id=\"5612\"></div>\n"
      ]
     },
     "metadata": {},
     "output_type": "display_data"
    },
    {
     "data": {
      "application/javascript": [
       "(function(root) {\n",
       "  function embed_document(root) {\n",
       "    \n",
       "  var docs_json = {\"662421d1-cbb5-41a2-b2a6-3ca0a9a28867\":{\"roots\":{\"references\":[{\"attributes\":{\"below\":[{\"id\":\"5622\"}],\"center\":[{\"id\":\"5625\"},{\"id\":\"5629\"},{\"id\":\"5656\"}],\"extra_y_ranges\":{\"strindex\":{\"id\":\"5674\"}},\"left\":[{\"id\":\"5626\"}],\"min_border\":0,\"plot_height\":500,\"plot_width\":825,\"renderers\":[{\"id\":\"5648\"},{\"id\":\"5662\"},{\"id\":\"5678\"}],\"right\":[{\"id\":\"5680\"}],\"title\":{\"id\":\"5613\"},\"toolbar\":{\"id\":\"5636\"},\"toolbar_location\":null,\"x_range\":{\"id\":\"5615\"},\"x_scale\":{\"id\":\"5618\"},\"y_range\":{\"id\":\"5611\"},\"y_scale\":{\"id\":\"5620\"}},\"id\":\"5612\",\"subtype\":\"Figure\",\"type\":\"Plot\"},{\"attributes\":{\"data\":{\"Germany\":[0.0037617579257291102,0.0037617579257291102,0.004075237752873203,0.004075237752873203,0.004388717580017296,0.004075237752873203,0.0037617579257291102,0.0037617579257291102,0.0037617579257291102,0.003448278098585018,0.00250783861715274,0.0018808789628645551,0.00125391930857637,0.00125391930857637,0.00125391930857637,0.00125391930857637,0.0009404394814322776,0.0009404394814322776,0.000626959654288185,0.000626959654288185,0.0003134798271440925,0.003448278098585018,0.009404394814322776,0.01003135446861096,0.01974922911007783,0.03573670029442655,0.04482761528160523,0.05642636888593666,0.07711603747744677,0.14608159944914711,0.20501580695223653,0.24545470465382446,0.3210033429955507,0.3636365994871474,0.4514109510874933,0.5896555548580381,0.636991008756796,1.1369913330516235,1.4125401011112808,1.7758632207712843,2.22978201047593,2.8404407137526224,3.7821341144934766,4.651413675164045,6.011916124969407,6.712857018463598,7.471164720325158,8.7398175807773,9.883705470026094,11.101888078308038,13.122265564251714,14.794993921892592,16.648913619622753,17.648914268212412,18.68747293554079,19.608476667690134,20.547035270159547,21.778697511008687,22.354559953472382,23.159576149578413,23.589356992592965,23.29719379369467,23.4097330516394,23.81600290761814,23.27368280665886,22.3511116753738,21.069919621835894,20.61411995316838,19.80784983775378,18.668037186257855,17.83104604778313,16.584336775231073,15.748599556064923,14.811921832558372,14.125714490939956,13.696247127752548,12.736058417210192,11.709098503486144,10.955492999031746,10.29091576548627,9.907529936889045,9.378062508842671,8.992482321455439,8.950789504445275,8.396870649881663,7.934487904844126,7.109722479628019,6.779001261991001,6.4200668599110156,0,0,0],\"Germany_date\":[\"Feb 05\",\"Feb 06\",\"Feb 07\",\"Feb 08\",\"Feb 09\",\"Feb 10\",\"Feb 11\",\"Feb 12\",\"Feb 13\",\"Feb 14\",\"Feb 15\",\"Feb 16\",\"Feb 17\",\"Feb 18\",\"Feb 19\",\"Feb 20\",\"Feb 21\",\"Feb 22\",\"Feb 23\",\"Feb 24\",\"Feb 25\",\"Feb 26\",\"Feb 27\",\"Feb 28\",\"Feb 29\",\"Mar 01\",\"Mar 02\",\"Mar 03\",\"Mar 04\",\"Mar 05\",\"Mar 06\",\"Mar 07\",\"Mar 08\",\"Mar 09\",\"Mar 10\",\"Mar 11\",\"Mar 12\",\"Mar 13\",\"Mar 14\",\"Mar 15\",\"Mar 16\",\"Mar 17\",\"Mar 18\",\"Mar 19\",\"Mar 20\",\"Mar 21\",\"Mar 22\",\"Mar 23\",\"Mar 24\",\"Mar 25\",\"Mar 26\",\"Mar 27\",\"Mar 28\",\"Mar 29\",\"Mar 30\",\"Mar 31\",\"Apr 01\",\"Apr 02\",\"Apr 03\",\"Apr 04\",\"Apr 05\",\"Apr 06\",\"Apr 07\",\"Apr 08\",\"Apr 09\",\"Apr 10\",\"Apr 11\",\"Apr 12\",\"Apr 13\",\"Apr 14\",\"Apr 15\",\"Apr 16\",\"Apr 17\",\"Apr 18\",\"Apr 19\",\"Apr 20\",\"Apr 21\",\"Apr 22\",\"Apr 23\",\"Apr 24\",\"Apr 25\",\"Apr 26\",\"Apr 27\",\"Apr 28\",\"Apr 29\",\"Apr 30\",\"May 01\",\"May 02\",\"May 03\",\"n/a\",\"n/a\",\"n/a\"],\"Spain\":[0.008589191923767402,0.010150863182634204,0.023425068883002005,0.033575932065636215,0.06402852161353882,0.09213860427314123,0.12727620759764424,0.17178383847534803,0.20067475676438387,0.3107725805144933,0.3888561434578333,0.5239407073498116,0.8362749591231716,1.318831378113013,1.7678118650372183,1.7662501937783515,4.060345273053682,4.955182904384358,6.023366045449249,7.669367552294857,9.044419095727076,10.688078095684382,13.82391398348892,15.624520944962338,19.422505446526397,21.937577008931378,26.59760404538991,29.820112688061553,36.88511346317496,43.34340495421861,47.23040471753808,52.194176813846205,56.463786035588036,60.91611079461729,65.72683910755647,70.43762045992817,73.47819440094183,77.13797099609619,78.70354643311015,80.33080788484935,79.28526897703803,79.68974183308454,77.07238080322378,74.51982913060598,72.26946084657892,70.11279283808388,67.71484662009391,64.1401811085478,59.82606425592826,57.41172048972019,56.90964317999451,55.93906449260879,51.19002219439485,52.337850569661946,49.61039171605108,48.5960862334171,46.982098987378265,46.6955323113762,34.91662684137336,33.48067011884534,31.86043618777103,30.73837538827523,29.852907784497756,27.542415157004328,22.24366457566927,17.64376188267711,20.09870910161572,0,0,0,0,0,0,0,0,0,0,0,0,0,0,0,0,0,0,0,0,0,0,0,0,0],\"Spain_date\":[\"Feb 26\",\"Feb 27\",\"Feb 28\",\"Feb 29\",\"Mar 01\",\"Mar 02\",\"Mar 03\",\"Mar 04\",\"Mar 05\",\"Mar 06\",\"Mar 07\",\"Mar 08\",\"Mar 09\",\"Mar 10\",\"Mar 11\",\"Mar 12\",\"Mar 13\",\"Mar 14\",\"Mar 15\",\"Mar 16\",\"Mar 17\",\"Mar 18\",\"Mar 19\",\"Mar 20\",\"Mar 21\",\"Mar 22\",\"Mar 23\",\"Mar 24\",\"Mar 25\",\"Mar 26\",\"Mar 27\",\"Mar 28\",\"Mar 29\",\"Mar 30\",\"Mar 31\",\"Apr 01\",\"Apr 02\",\"Apr 03\",\"Apr 04\",\"Apr 05\",\"Apr 06\",\"Apr 07\",\"Apr 08\",\"Apr 09\",\"Apr 10\",\"Apr 11\",\"Apr 12\",\"Apr 13\",\"Apr 14\",\"Apr 15\",\"Apr 16\",\"Apr 17\",\"Apr 18\",\"Apr 19\",\"Apr 20\",\"Apr 21\",\"Apr 22\",\"Apr 23\",\"Apr 24\",\"Apr 25\",\"Apr 26\",\"Apr 27\",\"Apr 28\",\"Apr 29\",\"Apr 30\",\"May 01\",\"May 03\",\"n/a\",\"n/a\",\"n/a\",\"n/a\",\"n/a\",\"n/a\",\"n/a\",\"n/a\",\"n/a\",\"n/a\",\"n/a\",\"n/a\",\"n/a\",\"n/a\",\"n/a\",\"n/a\",\"n/a\",\"n/a\",\"n/a\",\"n/a\",\"n/a\",\"n/a\",\"n/a\",\"n/a\",\"n/a\"],\"x\":[0,1,2,3,4,5,6,7,8,9,10,11,12,13,14,15,16,17,18,19,20,21,22,23,24,25,26,27,28,29,30,31,32,33,34,35,36,37,38,39,40,41,42,43,44,45,46,47,48,49,50,51,52,53,54,55,56,57,58,59,60,61,62,63,64,65,66,67,68,69,70,71,72,73,74,75,76,77,78,79,80,81,82,83,84,85,86,87,88,89,90,91]},\"selected\":{\"id\":\"5670\"},\"selection_policy\":{\"id\":\"5669\"}},\"id\":\"5643\",\"type\":\"ColumnDataSource\"},{\"attributes\":{\"data_source\":{\"id\":\"5673\"},\"glyph\":{\"id\":\"5676\"},\"hover_glyph\":null,\"muted_glyph\":null,\"nonselection_glyph\":{\"id\":\"5677\"},\"selection_glyph\":null,\"view\":{\"id\":\"5679\"},\"y_range_name\":\"strindex\"},\"id\":\"5678\",\"type\":\"GlyphRenderer\"},{\"attributes\":{},\"id\":\"5630\",\"type\":\"PanTool\"},{\"attributes\":{},\"id\":\"5631\",\"type\":\"WheelZoomTool\"},{\"attributes\":{},\"id\":\"5654\",\"type\":\"BasicTickFormatter\"},{\"attributes\":{\"range\":{\"id\":\"5615\"},\"value\":-0.125},\"id\":\"5644\",\"type\":\"Dodge\"},{\"attributes\":{\"range\":{\"id\":\"5615\"},\"value\":0.125},\"id\":\"5658\",\"type\":\"Dodge\"},{\"attributes\":{\"overlay\":{\"id\":\"5655\"}},\"id\":\"5632\",\"type\":\"BoxZoomTool\"},{\"attributes\":{\"source\":{\"id\":\"5643\"}},\"id\":\"5649\",\"type\":\"CDSView\"},{\"attributes\":{\"text\":\"Comparison of Daily Fatalities as of May 03\"},\"id\":\"5613\",\"type\":\"Title\"},{\"attributes\":{},\"id\":\"5652\",\"type\":\"BasicTickFormatter\"},{\"attributes\":{\"border_line_color\":\"black\",\"items\":[{\"id\":\"5657\"},{\"id\":\"5672\"}],\"location\":\"top_left\",\"title\":\"Region: Start Date\"},\"id\":\"5656\",\"type\":\"Legend\"},{\"attributes\":{},\"id\":\"5633\",\"type\":\"SaveTool\"},{\"attributes\":{},\"id\":\"5623\",\"type\":\"BasicTicker\"},{\"attributes\":{\"active_drag\":\"auto\",\"active_inspect\":\"auto\",\"active_multi\":null,\"active_scroll\":\"auto\",\"active_tap\":\"auto\",\"tools\":[{\"id\":\"5630\"},{\"id\":\"5631\"},{\"id\":\"5632\"},{\"id\":\"5633\"},{\"id\":\"5634\"},{\"id\":\"5635\"}]},\"id\":\"5636\",\"type\":\"Toolbar\"},{\"attributes\":{\"axis\":{\"id\":\"5622\"},\"grid_line_color\":null,\"ticker\":null},\"id\":\"5625\",\"type\":\"Grid\"},{\"attributes\":{},\"id\":\"5634\",\"type\":\"ResetTool\"},{\"attributes\":{\"bottom_units\":\"screen\",\"fill_alpha\":0.5,\"fill_color\":\"lightgrey\",\"left_units\":\"screen\",\"level\":\"overlay\",\"line_alpha\":1.0,\"line_color\":\"black\",\"line_dash\":[4,4],\"line_width\":2,\"render_mode\":\"css\",\"right_units\":\"screen\",\"top_units\":\"screen\"},\"id\":\"5655\",\"type\":\"BoxAnnotation\"},{\"attributes\":{\"fill_color\":{\"value\":\"#abdda4\"},\"line_color\":{\"value\":\"#abdda4\"},\"top\":{\"field\":\"Spain\"},\"width\":{\"value\":0.3},\"x\":{\"field\":\"x\",\"transform\":{\"id\":\"5658\"}}},\"id\":\"5660\",\"type\":\"VBar\"},{\"attributes\":{},\"id\":\"5635\",\"type\":\"HelpTool\"},{\"attributes\":{\"label\":{\"value\":\"Germany: Feb 05\"},\"renderers\":[{\"id\":\"5648\"}]},\"id\":\"5657\",\"type\":\"LegendItem\"},{\"attributes\":{},\"id\":\"5615\",\"type\":\"DataRange1d\"},{\"attributes\":{\"fill_color\":{\"value\":\"#f46d43\"},\"line_color\":{\"value\":\"#f46d43\"},\"top\":{\"field\":\"Germany\"},\"width\":{\"value\":0.3},\"x\":{\"field\":\"x\",\"transform\":{\"id\":\"5644\"}}},\"id\":\"5646\",\"type\":\"VBar\"},{\"attributes\":{},\"id\":\"5627\",\"type\":\"BasicTicker\"},{\"attributes\":{},\"id\":\"5618\",\"type\":\"LinearScale\"},{\"attributes\":{\"axis_label\":\"Days Since 10 Cases\",\"formatter\":{\"id\":\"5654\"},\"major_tick_line_color\":null,\"ticker\":{\"id\":\"5623\"}},\"id\":\"5622\",\"type\":\"LinearAxis\"},{\"attributes\":{},\"id\":\"5883\",\"type\":\"Selection\"},{\"attributes\":{\"line_alpha\":{\"value\":0.4},\"line_color\":{\"field\":\"color\"},\"line_width\":{\"value\":4},\"xs\":{\"field\":\"x\"},\"ys\":{\"field\":\"y\"}},\"id\":\"5676\",\"type\":\"MultiLine\"},{\"attributes\":{},\"id\":\"5877\",\"type\":\"BasicTickFormatter\"},{\"attributes\":{\"fill_alpha\":{\"value\":0.1},\"fill_color\":{\"value\":\"#f46d43\"},\"line_alpha\":{\"value\":0.1},\"line_color\":{\"value\":\"#f46d43\"},\"top\":{\"field\":\"Germany\"},\"width\":{\"value\":0.3},\"x\":{\"field\":\"x\",\"transform\":{\"id\":\"5644\"}}},\"id\":\"5647\",\"type\":\"VBar\"},{\"attributes\":{},\"id\":\"5882\",\"type\":\"UnionRenderers\"},{\"attributes\":{\"axis_label\":\"Total Cases / Person / Land KM\\u00b2 (14DMA)\",\"formatter\":{\"id\":\"5652\"},\"ticker\":{\"id\":\"5627\"}},\"id\":\"5626\",\"type\":\"LinearAxis\"},{\"attributes\":{},\"id\":\"5876\",\"type\":\"BasicTicker\"},{\"attributes\":{},\"id\":\"5669\",\"type\":\"UnionRenderers\"},{\"attributes\":{\"source\":{\"id\":\"5643\"}},\"id\":\"5663\",\"type\":\"CDSView\"},{\"attributes\":{},\"id\":\"5670\",\"type\":\"Selection\"},{\"attributes\":{\"axis\":{\"id\":\"5626\"},\"dimension\":1,\"ticker\":null},\"id\":\"5629\",\"type\":\"Grid\"},{\"attributes\":{\"line_alpha\":{\"value\":0.1},\"line_color\":{\"field\":\"color\"},\"line_width\":{\"value\":4},\"xs\":{\"field\":\"x\"},\"ys\":{\"field\":\"y\"}},\"id\":\"5677\",\"type\":\"MultiLine\"},{\"attributes\":{\"source\":{\"id\":\"5673\"}},\"id\":\"5679\",\"type\":\"CDSView\"},{\"attributes\":{\"end\":98.351,\"start\":7.146000000000001},\"id\":\"5674\",\"type\":\"Range1d\"},{\"attributes\":{\"end\":84.34734827909182,\"start\":0.0003134798271440925},\"id\":\"5611\",\"type\":\"Range1d\"},{\"attributes\":{},\"id\":\"5620\",\"type\":\"LinearScale\"},{\"attributes\":{\"fill_alpha\":{\"value\":0.1},\"fill_color\":{\"value\":\"#abdda4\"},\"line_alpha\":{\"value\":0.1},\"line_color\":{\"value\":\"#abdda4\"},\"top\":{\"field\":\"Spain\"},\"width\":{\"value\":0.3},\"x\":{\"field\":\"x\",\"transform\":{\"id\":\"5658\"}}},\"id\":\"5661\",\"type\":\"VBar\"},{\"attributes\":{\"label\":{\"value\":\"Spain: Feb 26\"},\"renderers\":[{\"id\":\"5662\"}]},\"id\":\"5672\",\"type\":\"LegendItem\"},{\"attributes\":{\"data_source\":{\"id\":\"5643\"},\"glyph\":{\"id\":\"5646\"},\"hover_glyph\":null,\"muted_glyph\":null,\"nonselection_glyph\":{\"id\":\"5647\"},\"selection_glyph\":null,\"view\":{\"id\":\"5649\"}},\"id\":\"5648\",\"type\":\"GlyphRenderer\"},{\"attributes\":{\"data\":{\"color\":[\"#f46d43\",\"#abdda4\"],\"x\":[[0,1,2,3,4,5,6,7,8,9,10,11,12,13,14,15,16,17,18,19,20,21,22,23,24,25,26,27,28,29,30,31,32,33,34,35,36,37,38,39,40,41,42,43,44,45,46,47,48,49,50,51,52,53,54,55,56,57,58,59,60,61,62,63,64,65,66,67,68,69,70,71,72,73,74,75,76,77,78,79,80,81,82,83,84],[0,1,2,3,4,5,6,7,8,9,10,11,12,13,14,15,16,17,18,19,20,21,22,23,24,25,26,27,28,29,30,31,32,33,34,35,36,37,38,39,40,41,42,43,44,45,46,47,48,49,50,51,52,53,54,55,56,57,58,59,60,61,62,63,64]],\"y\":[[7.94,7.94,7.94,7.94,7.94,7.94,7.94,7.94,7.94,7.94,7.94,7.94,7.94,7.94,7.94,7.94,7.94,7.94,7.94,7.94,7.94,15.88,15.88,18.66,25.8,25.8,25.8,25.8,25.8,25.8,25.8,25.8,25.8,25.8,28.58,28.58,28.58,28.58,26.6,26.6,35.32,35.32,42.47,43.26,46.44,51.73,68.66,68.66,68.66,68.66,68.66,68.66,68.66,68.66,68.66,68.66,68.66,68.66,68.66,68.66,68.66,75.8,75.8,75.8,75.8,75.8,75.8,75.8,78.97,78.97,76.19,76.19,78.97,78.97,78.97,78.97,78.97,78.97,78.97,78.97,78.97,73.15,73.15,73.15,73.15],[11.11,11.11,11.11,11.11,11.11,11.11,11.11,11.11,11.11,11.11,11.11,11.11,25.67,47.1,47.1,47.1,47.1,71.69,71.69,74.86,77.64,77.64,77.64,77.64,77.64,77.64,77.64,77.64,77.64,77.64,77.64,77.64,77.64,89.41,89.41,89.41,89.41,89.41,89.41,89.41,89.41,89.41,89.41,89.41,89.41,89.41,89.41,89.41,89.41,89.41,89.41,89.41,89.41,89.41,89.41,89.41,89.41,89.41,89.41,89.41,89.41,89.41,89.41,89.41,89.41]]},\"selected\":{\"id\":\"5883\"},\"selection_policy\":{\"id\":\"5882\"}},\"id\":\"5673\",\"type\":\"ColumnDataSource\"},{\"attributes\":{\"data_source\":{\"id\":\"5643\"},\"glyph\":{\"id\":\"5660\"},\"hover_glyph\":null,\"muted_glyph\":null,\"nonselection_glyph\":{\"id\":\"5661\"},\"selection_glyph\":null,\"view\":{\"id\":\"5663\"}},\"id\":\"5662\",\"type\":\"GlyphRenderer\"},{\"attributes\":{\"axis_label\":\"Oxford Stringency Index\",\"formatter\":{\"id\":\"5877\"},\"ticker\":{\"id\":\"5876\"},\"y_range_name\":\"strindex\"},\"id\":\"5680\",\"type\":\"LinearAxis\"}],\"root_ids\":[\"5612\"]},\"title\":\"Bokeh Application\",\"version\":\"2.0.0\"}};\n",
       "  var render_items = [{\"docid\":\"662421d1-cbb5-41a2-b2a6-3ca0a9a28867\",\"root_ids\":[\"5612\"],\"roots\":{\"5612\":\"1dc80b83-516a-4034-bfd9-4a0a2515baeb\"}}];\n",
       "  root.Bokeh.embed.embed_items_notebook(docs_json, render_items);\n",
       "\n",
       "  }\n",
       "  if (root.Bokeh !== undefined) {\n",
       "    embed_document(root);\n",
       "  } else {\n",
       "    var attempts = 0;\n",
       "    var timer = setInterval(function(root) {\n",
       "      if (root.Bokeh !== undefined) {\n",
       "        clearInterval(timer);\n",
       "        embed_document(root);\n",
       "      } else {\n",
       "        attempts++;\n",
       "        if (attempts > 100) {\n",
       "          clearInterval(timer);\n",
       "          console.log(\"Bokeh: ERROR: Unable to run BokehJS code because BokehJS library is missing\");\n",
       "        }\n",
       "      }\n",
       "    }, 10, root)\n",
       "  }\n",
       "})(window);"
      ],
      "application/vnd.bokehjs_exec.v0+json": ""
     },
     "metadata": {
      "application/vnd.bokehjs_exec.v0+json": {
       "id": "5612"
      }
     },
     "output_type": "display_data"
    }
   ],
   "source": [
    "regions = ['Germany', 'Spain']\n",
    "\n",
    "kwargs = {\n",
    "    'width': 825, 'height': 500,\n",
    "    'legend_location': 'top_left',\n",
    "    'palette_base': Spectral[11],\n",
    "    'palette_flip': True,\n",
    "    'palette_shift': 3,\n",
    "    'overlay': 'strindex',  \n",
    "}\n",
    "\n",
    "p = casestudy.comp_chart.make(comp_category='cases_new_dma_per_person_per_land_KM2', **kwargs)\n",
    "show(p)"
   ]
  },
  {
   "cell_type": "markdown",
   "metadata": {},
   "source": [
    "### Saving Files"
   ]
  },
  {
   "cell_type": "markdown",
   "metadata": {},
   "source": [
    "All chart instances in `see19` have a `save_file` option. Simply set that option to `True` and provide a `filename` and the file will be saved to yor location of choice."
   ]
  },
  {
   "cell_type": "markdown",
   "metadata": {},
   "source": [
    "# Next Section"
   ]
  },
  {
   "cell_type": "markdown",
   "metadata": {},
   "source": [
    "Click on this link to go to the next notebook: [5. Visualizing Factors in 4D](https://ryanskene.github.io/see19/guide/5.%20See19%20-%20Visualizing%20Factors%20in%204D.html)"
   ]
  }
 ],
 "metadata": {
  "kernelspec": {
   "display_name": "Django Shell-Plus",
   "language": "python",
   "name": "django_extensions"
  },
  "language_info": {
   "codemirror_mode": {
    "name": "ipython",
    "version": 3
   },
   "file_extension": ".py",
   "mimetype": "text/x-python",
   "name": "python",
   "nbconvert_exporter": "python",
   "pygments_lexer": "ipython3",
   "version": "3.7.7"
  }
 },
 "nbformat": 4,
 "nbformat_minor": 4
}
