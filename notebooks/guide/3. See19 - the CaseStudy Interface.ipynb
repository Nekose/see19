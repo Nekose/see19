{
 "cells": [
  {
   "cell_type": "markdown",
   "metadata": {},
   "source": [
    "# see19 Guide\n",
    "\n",
    "**A dataset and interface for visualizing and analyzing the epidemiology of Coronavirus Disease 2019 aka SARS-CoV-2 aka COVID19 aka C19**\n",
    "\n",
    "Find it on [GitHub](https://github.com/ryanskene/see19)\n",
    "\n",
    "Current with version 0.3.0."
   ]
  },
  {
   "cell_type": "markdown",
   "metadata": {},
   "source": [
    "# 3. the Casestudy Interface\n",
    "\n",
    "3.1 [Basics](#section3.1)  \n",
    "3.2 [Filtering](#section3.2)  \n",
    "3.3 [Available Factors](#section3.3)  \n",
    "3.4 [Additional Flags](#section3.4)\n",
    "\n",
    "See19 Visualization and Data analysis is completed via the `CaseStudy` class.\n",
    "    \n",
    "`CaseStudy` can be accessed directly from the `see19` module"
   ]
  },
  {
   "cell_type": "code",
   "execution_count": 1,
   "metadata": {},
   "outputs": [],
   "source": [
    "import pandas as pd"
   ]
  },
  {
   "cell_type": "code",
   "execution_count": 2,
   "metadata": {},
   "outputs": [
    {
     "name": "stdout",
     "output_type": "stream",
     "text": [
      "[*********************100%*************************] Downloading ... COMPLETE\r"
     ]
    }
   ],
   "source": [
    "from see19 import CaseStudy, get_baseframe\n",
    "baseframe = get_baseframe()\n",
    "casestudy = CaseStudy(baseframe)"
   ]
  },
  {
   "cell_type": "markdown",
   "metadata": {},
   "source": [
    "<h2><a id='section3.1'>3.1 Basics</a></h2>"
   ]
  },
  {
   "cell_type": "markdown",
   "metadata": {},
   "source": [
    "The original baseframe can be accessed via the `baseframe` attribute"
   ]
  },
  {
   "cell_type": "code",
   "execution_count": 3,
   "metadata": {},
   "outputs": [
    {
     "ename": "NameError",
     "evalue": "name 'casestudy' is not defined",
     "output_type": "error",
     "traceback": [
      "\u001b[0;31m---------------------------------------------------------------------------\u001b[0m",
      "\u001b[0;31mNameError\u001b[0m                                 Traceback (most recent call last)",
      "\u001b[0;32m<ipython-input-3-8642444c6cc2>\u001b[0m in \u001b[0;36m<module>\u001b[0;34m\u001b[0m\n\u001b[0;32m----> 1\u001b[0;31m \u001b[0mcasestudy\u001b[0m\u001b[0;34m.\u001b[0m\u001b[0mbaseframe\u001b[0m\u001b[0;34m.\u001b[0m\u001b[0mhead\u001b[0m\u001b[0;34m(\u001b[0m\u001b[0;36m2\u001b[0m\u001b[0;34m)\u001b[0m\u001b[0;34m\u001b[0m\u001b[0;34m\u001b[0m\u001b[0m\n\u001b[0m",
      "\u001b[0;31mNameError\u001b[0m: name 'casestudy' is not defined"
     ]
    }
   ],
   "source": [
    "casestudy.baseframe.head(2)"
   ]
  },
  {
   "cell_type": "markdown",
   "metadata": {},
   "source": [
    "`CaseStudy` automatically computes different adjustments including:\n",
    "\n",
    "1. Daily new cases, fatalities, and tests\n",
    "2. Daily Moving Average (DMA) for new and cumulative cases, fatalities, and tests\n",
    "3. Population and density adjustments for new and cumulative cases, fatalities, and tests\n",
    "4. Daily growth or change in 1. thru 3. above\n",
    "\n",
    "These adjustments are referred to as `count_categories`.\n",
    "\n",
    "The amended dataframe can be accessed via the `df` attribute:"
   ]
  },
  {
   "cell_type": "code",
   "execution_count": null,
   "metadata": {},
   "outputs": [],
   "source": [
    "casestudy.df.head(2)"
   ]
  },
  {
   "cell_type": "markdown",
   "metadata": {},
   "source": [
    "For ease of selection, `CaseStudy` has a number of class attributes with different groupings of count categories: `BASECOUNT_CATS`, `PER_CATS`, `LOGNAT_CATS`, `ALL_CATS`, `DMA_COUNT_CATS`, `PER_COUNT_CATS`.\n",
    "\n",
    "`DMA_COUNT_CATS` is shown as an example:"
   ]
  },
  {
   "cell_type": "code",
   "execution_count": null,
   "metadata": {},
   "outputs": [],
   "source": [
    "CaseStudy.DMA_COUNT_CATS[:10]"
   ]
  },
  {
   "cell_type": "markdown",
   "metadata": {},
   "source": [
    "By providing `lognat=True`, `CaseStudy` will also take the natural log of each of 1. thru 3. above"
   ]
  },
  {
   "cell_type": "code",
   "execution_count": null,
   "metadata": {},
   "outputs": [],
   "source": [
    "casestudy = CaseStudy(baseframe, lognat=True)"
   ]
  },
  {
   "cell_type": "code",
   "execution_count": null,
   "metadata": {},
   "outputs": [],
   "source": [
    "casestudy.LOGNAT_CATS[10:20]"
   ]
  },
  {
   "cell_type": "code",
   "execution_count": null,
   "metadata": {},
   "outputs": [],
   "source": [
    "'In total, there are {} different `count_categories` to choose from.'.format(len(CaseStudy.ALL_COUNT_CATS))"
   ]
  },
  {
   "cell_type": "markdown",
   "metadata": {},
   "source": [
    "<h2><a id='section3.2'>3.2 Filtering</a></h2>"
   ]
  },
  {
   "cell_type": "markdown",
   "metadata": {},
   "source": [
    "Thankfully, `casestudy.df` can be limited to specific count categories via the `count_categories` attribute:"
   ]
  },
  {
   "cell_type": "code",
   "execution_count": null,
   "metadata": {},
   "outputs": [],
   "source": [
    "casestudy = CaseStudy(baseframe, count_categories='tests_new_dma_per_person_per_land_KM2')\n",
    "casestudy.df.head(2)"
   ]
  },
  {
   "cell_type": "code",
   "execution_count": null,
   "metadata": {},
   "outputs": [],
   "source": [
    "casestudy = CaseStudy(baseframe, count_categories=['deaths_new_dma_per_person_per_land_KM2', 'growth_cases_new_per_1M'])\n",
    "casestudy.df.head(2)"
   ]
  },
  {
   "cell_type": "markdown",
   "metadata": {},
   "source": [
    "`CaseStudy` can further filter `baseframe` as follows:\n",
    "    \n",
    "* `regions` to limit the frame to certain regions\n",
    "* `countries` to limit the frame to certain countries\n",
    "* `exclude_regions` to exclude certain regions\n",
    "* `exclude_countries` to exclude certain countries\n",
    "\n",
    "Specific regions can be included or excluded by providing the `region_name`, `region_code`, or `region_id`.\n",
    "Specific countries can be included or excluded by providing the `country`, `country_code`, or `country_id`.\n",
    "\n",
    "Each of the four parameters can accept a single region as a `str` object or multiple regions via several common iterables.\n",
    "\n",
    "Below we select three regions:"
   ]
  },
  {
   "cell_type": "code",
   "execution_count": null,
   "metadata": {},
   "outputs": [],
   "source": [
    "regions = ['New York', 'FL', 32]\n",
    "casestudy = CaseStudy(\n",
    "    baseframe, regions=regions, count_categories=CaseStudy.BASECOUNT_CATS, \n",
    ")"
   ]
  },
  {
   "cell_type": "code",
   "execution_count": null,
   "metadata": {},
   "outputs": [],
   "source": [
    "casestudy.df.head(3)"
   ]
  },
  {
   "cell_type": "markdown",
   "metadata": {},
   "source": [
    "We can see that all three regions are indeed in the object by grouping:"
   ]
  },
  {
   "cell_type": "code",
   "execution_count": null,
   "metadata": {},
   "outputs": [],
   "source": [
    "pd.concat([df_group.iloc[:1] for region_id, df_group in casestudy.df.groupby('region_id')]).head(3)"
   ]
  },
  {
   "cell_type": "markdown",
   "metadata": {},
   "source": [
    "The region and country filters are important mechanisms for isolating data.\n",
    "\n",
    "Here, we focus on US regions only, but exclude some of the most impacted ones:"
   ]
  },
  {
   "cell_type": "code",
   "execution_count": null,
   "metadata": {},
   "outputs": [],
   "source": [
    "countries = ['USA']\n",
    "excluded_regions = ['NY', 'NJ']\n",
    "casestudy = CaseStudy(\n",
    "    baseframe, countries=countries, excluded_regions=excluded_regions, count_categories=CaseStudy.BASECOUNT_CATS, \n",
    ")"
   ]
  },
  {
   "cell_type": "markdown",
   "metadata": {},
   "source": [
    "And below we can see that we have various US states in the dataset and that New York or New Jersey are *not* included."
   ]
  },
  {
   "cell_type": "code",
   "execution_count": null,
   "metadata": {},
   "outputs": [],
   "source": [
    "casestudy.df.head(2)"
   ]
  },
  {
   "cell_type": "code",
   "execution_count": null,
   "metadata": {},
   "outputs": [],
   "source": [
    "pd.concat([df_group.iloc[:1] for region_id, df_group in casestudy.df.groupby('region_id')]).head(3)"
   ]
  },
  {
   "cell_type": "code",
   "execution_count": null,
   "metadata": {},
   "outputs": [],
   "source": [
    "casestudy.df[casestudy.df.region_name.isin(excluded_regions)]"
   ]
  },
  {
   "cell_type": "markdown",
   "metadata": {},
   "source": [
    "### Limiting data via different start and tail hurdles\n",
    "\n",
    "Parameters exist that allow you to filter the dataset such that regions and days appear only if they meet certain criteria.\n",
    "\n",
    "`start_factor` and `start_hurdle` provide the ability to effectively *crop* the beginning of region's period of data.\n",
    "\n",
    "`tail_factor` and `tail_hurdle` do the same for the end of a region's period.\n",
    "\n",
    "`start_factor` and `tail_factor` accept almost any factor in the dataset, from the count_categories to dates.\n",
    "\n",
    "The `hurdle` is the level the region must reach to be included. For instance, if a `start_factor` of `cases_new_per_1M` is selected and a `start_hurdle` of `1.0`, then each region's first row in `casestudy.df` will be the day that the region met or exceeded **1.0 new cases per 1M people**.\n",
    "\n",
    "These options are a convenient way to compare regions that have been impacted in similar ways or, perhaps, to fairly compare regions that were impacted at different times.\n",
    "\n",
    "The default parameters for `start_factor` and `start_hurdle` limit the data to regions with at least one cumulative fatality.\n",
    "\n",
    "**NOTE**: a `days` column is added to `casestudy.df`. This is a count of the number of days from the current date back to the first date in frame.  When a `start_factor` is provided, this is the first date that the `start_hurdle` is met. When `start_factor` is not provided, this is the first date in the dataset.\n",
    "\n",
    "Examples are show below."
   ]
  },
  {
   "cell_type": "code",
   "execution_count": null,
   "metadata": {},
   "outputs": [],
   "source": [
    "casestudy = CaseStudy(\n",
    "    baseframe, regions=['Spain'], count_categories=CaseStudy.BASECOUNT_CATS, \n",
    "    start_factor='cases', start_hurdle=3\n",
    ")\n",
    "casestudy.df.head(2)"
   ]
  },
  {
   "cell_type": "code",
   "execution_count": null,
   "metadata": {},
   "outputs": [],
   "source": [
    "casestudy = CaseStudy(\n",
    "    baseframe, countries=['Sweden'], \n",
    "    count_categories='deaths_new', start_factor='deaths_new', start_hurdle=3\n",
    ")\n",
    "casestudy.df.head(2)"
   ]
  },
  {
   "cell_type": "markdown",
   "metadata": {},
   "source": [
    "To see the earliest dates in the dataframe, prior to any deaths being recorded, set `start_factor` to `''`."
   ]
  },
  {
   "cell_type": "code",
   "execution_count": null,
   "metadata": {},
   "outputs": [],
   "source": [
    "casestudy = CaseStudy(\n",
    "    baseframe, regions='RJ', count_categories='tests_new_dma', \n",
    "    factors=['temp', 'strindex'], start_factor=''\n",
    ")\n",
    "casestudy.df.head(2)"
   ]
  },
  {
   "cell_type": "markdown",
   "metadata": {},
   "source": [
    "<h2><a id='section3.3'>3.3 Available Factors</a></h2>\n",
    "\n",
    "The remaining columns in the `baseframe` can be included in a `CaseStudy` instance on an ***opt-in*** basis via the `factors` attribute:"
   ]
  },
  {
   "cell_type": "code",
   "execution_count": null,
   "metadata": {},
   "outputs": [],
   "source": [
    "casestudy = CaseStudy(baseframe, count_categories='cases_new_per_person_per_land_KM2', factors=['no2', 'strindex'])\n",
    "casestudy.df.head(2)"
   ]
  },
  {
   "cell_type": "markdown",
   "metadata": {},
   "source": [
    "For convenience, a number of factor groupings can be accessed via `CaseStudy` attributes:\n",
    "\n",
    "* `GMOBIS`, `AMOBIS`, `CAUSES`, `MAJOR_CAUSES`, `POLLUTS`, `TEMP_MSMTS`, `MSMTS`\n",
    "    * various groupings for factor data\n",
    "    * `GMOBIS` refer to Google Mobility data.\n",
    "    * `AMOBIS` refer to Apple Mobility data.\n",
    "* `STRINDEX_CATS`, `CONTAIN_CATS`, `ECON_CATS`, `HEALTH_CATS`\n",
    "    * groupings for the Oxford Stringency Index"
   ]
  },
  {
   "cell_type": "code",
   "execution_count": null,
   "metadata": {},
   "outputs": [],
   "source": [
    "print (CaseStudy.MSMTS)\n",
    "print (CaseStudy.MAJOR_CAUSES)"
   ]
  },
  {
   "cell_type": "markdown",
   "metadata": {},
   "source": [
    "Demographic population age groupings can be accessed via the `see19` module:\n",
    "* `ALL_RANGES` - all the possible demographic age ranges\n",
    "* `RANGES` - a dictionary of various groupings of age ranges"
   ]
  },
  {
   "cell_type": "code",
   "execution_count": null,
   "metadata": {},
   "outputs": [],
   "source": [
    "from see19 import RANGES\n",
    "RANGES.keys()"
   ]
  },
  {
   "cell_type": "code",
   "execution_count": null,
   "metadata": {},
   "outputs": [],
   "source": [
    "overs = RANGES['OVERS']['ranges']\n",
    "casestudy = CaseStudy(baseframe, regions='Lombardia', count_categories='deaths_new_per_person_per_land_KM2', factors=overs)\n",
    "casestudy.df.head(2)"
   ]
  },
  {
   "cell_type": "code",
   "execution_count": null,
   "metadata": {},
   "outputs": [],
   "source": [
    "casestudy = CaseStudy(baseframe, regions='LOM', count_categories='deaths_new_per_person_per_land_KM2', factors=CaseStudy.MAJOR_CAUSES)\n",
    "casestudy.df.head(2)"
   ]
  },
  {
   "cell_type": "markdown",
   "metadata": {},
   "source": [
    "Some factors are only available at a country level, regardless of the sub regions available for some countries.\n",
    "\n",
    "By setting `country_level=True`, `casestudy` will aggregate most data among the subregions up to the country level to allow for proper comparison across the broad range of countries.\n",
    "\n",
    "The **Oxford Stringency Index** and its derivatives is one such data group only available at the country level."
   ]
  },
  {
   "cell_type": "code",
   "execution_count": null,
   "metadata": {},
   "outputs": [],
   "source": [
    "casestudy = CaseStudy(baseframe, \n",
    "    count_categories='deaths_new_per_person_per_land_KM2', \n",
    "    factors='strindex',\n",
    "    country_level=True,\n",
    ")\n",
    "casestudy.df.tail(2)"
   ]
  },
  {
   "cell_type": "markdown",
   "metadata": {},
   "source": [
    "Above you can see that all US states have been aggregated into a single region with an region_id "
   ]
  },
  {
   "cell_type": "markdown",
   "metadata": {},
   "source": [
    "With respect to the `STRINDEX_CATS` subgroups, if all the required categories are provided, `CaseStudy` will sum the individual category values. \n",
    "\n",
    "For example, if `CONTAIN_CATS` are provided, the aggregate of the eight categories will be included in the `c_sum` column.\n",
    "\n",
    "Note if all five `h` indicators are provided, `CaseStudy` will also tabulate a `key3_sum`, which aggregates the scores on the `h1`, `h2`, and `h3` indicators."
   ]
  },
  {
   "cell_type": "code",
   "execution_count": null,
   "metadata": {},
   "outputs": [],
   "source": [
    "casestudy = CaseStudy(baseframe, \n",
    "    count_categories='deaths_new_per_person_per_land_KM2', \n",
    "    factors=CaseStudy.CONTAIN_CATS,\n",
    "    country_level=True,\n",
    ")\n",
    "casestudy.df.tail(2)"
   ]
  },
  {
   "cell_type": "markdown",
   "metadata": {},
   "source": [
    "Additional computations can be added for each factor via the `factor_dmas` attribute. \n",
    "\n",
    "The attribute is a dictionary of the form `str(factor_name): int(dma)`. \n",
    "\n",
    "When provided, `CaseStudy` will automatically add `_dma`, `_growth`, and `_growth_dma` computations"
   ]
  },
  {
   "cell_type": "code",
   "execution_count": null,
   "metadata": {},
   "outputs": [],
   "source": [
    "casestudy = CaseStudy(baseframe, count_categories='deaths_new_dma_per_1M', \n",
    "    factors=['temp', 'c1', 'strindex'], \n",
    "    factor_dmas={'temp': 7, 'c1': 14},\n",
    "    country_level=True,\n",
    ")\n",
    "casestudy.df.head(2)"
   ]
  },
  {
   "cell_type": "markdown",
   "metadata": {},
   "source": [
    "To provide a single dma for all the factors submitted, build the dictionary ahead of time:"
   ]
  },
  {
   "cell_type": "code",
   "execution_count": null,
   "metadata": {},
   "outputs": [],
   "source": [
    "factor_dmas = {msmt: 14 for msmt in CaseStudy.MSMTS}\n",
    "casestudy = CaseStudy(\n",
    "    baseframe, count_categories='tests_new_per_1M', \n",
    "    factors=CaseStudy.MSMTS, factor_dmas=factor_dmas\n",
    ")\n",
    "casestudy.df.head(2)"
   ]
  },
  {
   "cell_type": "markdown",
   "metadata": {},
   "source": [
    "Other factors are adjusted to population. These factors are appended with `_%` and can be seen via the `pop_cats` attribute.\n",
    "\n",
    "These are typically time-static factors."
   ]
  },
  {
   "cell_type": "code",
   "execution_count": null,
   "metadata": {},
   "outputs": [],
   "source": [
    "casestudy = CaseStudy(baseframe, count_categories='deaths_new_dma_per_1M', factors=['visitors', 'gdp', 'A65PLUSB' ])\n",
    "casestudy.pop_cats"
   ]
  },
  {
   "cell_type": "code",
   "execution_count": null,
   "metadata": {},
   "outputs": [],
   "source": [
    "casestudy.df[['region_name', 'date', 'visitors_%', 'gdp_%', 'A65PLUSB_%']].head(2)"
   ]
  },
  {
   "cell_type": "markdown",
   "metadata": {},
   "source": [
    "<h3><a id='section3.4'>3.4 Additional Flags</a></h3>\n",
    "\n",
    "There are several additional flags and methods that will be touched on briefly, however, you are encouraged to read the analysis pages to see them in action.\n",
    "\n",
    "* `world_averages`: when set to `True`, averages each date in the dataset across all the regions, to provide a ***per_region*** statistic for each factor\n",
    "\n",
    "* `favor_earlier`: when set to `True`, scales any selected rows such that the rows values favor earlier dates over later ones. A new column is added with the `_earlier` suffix. This is helpful when attempting to study the impacts of early moves to, say, social distance. Factors are selected by passing a list to the `factors_to_favor_earlier` parameter."
   ]
  },
  {
   "cell_type": "markdown",
   "metadata": {},
   "source": [
    "# Next Section"
   ]
  },
  {
   "cell_type": "markdown",
   "metadata": {},
   "source": [
    "Click on this link to go to the next notebook: [4. Visualizing Regional Impacts](https://ryanskene.github.io/see19/guide/4.%20See19%20-%20Visualizing%20Regional%20Impacts.html)"
   ]
  }
 ],
 "metadata": {
  "kernelspec": {
   "display_name": "Django Shell-Plus",
   "language": "python",
   "name": "django_extensions"
  },
  "language_info": {
   "codemirror_mode": {
    "name": "ipython",
    "version": 3
   },
   "file_extension": ".py",
   "mimetype": "text/x-python",
   "name": "python",
   "nbconvert_exporter": "python",
   "pygments_lexer": "ipython3",
   "version": "3.7.7"
  }
 },
 "nbformat": 4,
 "nbformat_minor": 4
}
