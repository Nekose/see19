{
 "cells": [
  {
   "cell_type": "markdown",
   "metadata": {},
   "source": [
    "# see19 Guide\n",
    "\n",
    "**A dataset and interface for visualizing and analyzing the epidemiology of Coronavirus Disease 2019 aka SARS-CoV-2 aka COVID19 aka C19**"
   ]
  },
  {
   "cell_type": "markdown",
   "metadata": {},
   "source": [
    "# Analysis\n",
    "\n",
    "Please read my various deep dives with see19 exploring different aspects of COVID19.\n",
    "\n",
    "* [How Effective Is Social Distancing?](https://ryanskene.github.io/see19/analysis/How%20Effective%20Is%20Social%20Distancing%3F.html)"
   ]
  },
  {
   "cell_type": "markdown",
   "metadata": {},
   "source": [
    "# Contents"
   ]
  },
  {
   "cell_type": "markdown",
   "metadata": {},
   "source": [
    "0. [Purpose](#section0)\n",
    "1. [Getting Started](#section1)\n",
    "2. [the Data](#section2)  \n",
    "    2.1 [Data Sources](#section2.1)  \n",
    "    2.2 [Dataset Characteristics](#section2.2)  \n",
    "    2.3 [Disclaimer](#section2.3)\n",
    "3. [the CaseStudy Interface](https://ryanskene.github.io/see19/guide/3.%20See19%20-%20the%20CaseStudy%20Interface.ipynb)\n",
    "4. [Visualizing Regional Impacts](https://ryanskene.github.io/see19/guide/4.%20See19%20-%20Visualizing%20Regional%20Impacts.ipynb)\n",
    "5. [Visualizing Factors in 4D](https://ryanskene.github.io/see19/guide/5.%20See19%20-%20Visualizing%20Factors%20in%204D.ipynb)\n",
    "6. [Visualizing via Heat Map](https://ryanskene.github.io/see19/guide/6.%20See19%20-%20Visualizing%20via%20Heat%20Map.ipynb)"
   ]
  },
  {
   "cell_type": "markdown",
   "metadata": {},
   "source": [
    "<h1><a id='section0'>0. Purpose</a></h1>\n",
    "\n",
    "\n",
    "##### _\"It is better to be vaguely right than exactly wrong.\"_   \n",
    "\n",
    "_- Carveth Read, Logic, Chapter 22_\n",
    "\n",
    "<br/>\n",
    "\n",
    "**See19** is an early stage attempt to aggregate various data and analyze their impact (in aggregate and in isolation) on the virulence of SARS-CoV2.\n",
    "\n",
    "There is no single all-encompassing data from an undoubted source that will serve the needs of every user for every use case. Thus, the dataset as it stands is an adhoc aggregation from multiple sources with _eyeball_-style approximations used in some instances (see Disclaimer section). But while the dataset's imperfections are numerous, they cannot blunt the power of the insights that can be gleaned from an early exploratory analysis.\n",
    "\n",
    "Visualization tools have been developed to help users in that early exploration.\n",
    "\n",
    "Statistical analysis is also a goal of the project and I expect to add such analysis tools as time progresses.\n",
    "\n",
    "Ease-of-use is paramount, thus, all data from all sources have been compiled into a single structure, readily consumed and manipulated in the ubiquitous `csv` format.\n",
    "\n",
    "Until then, the data is available for all.\n",
    "\n",
    "**I AM AN AMATEUR ENTHUSIAST. THIS IS A SOLO PROJECT UNTIL NOW. I AM SURE THERE ARE MISTAKES. PLEASE FLAG ANY ISSUES YOU SEE!**"
   ]
  },
  {
   "cell_type": "markdown",
   "metadata": {},
   "source": [
    "<h1><a id='section1'>1. Getting Started</a></h1>"
   ]
  },
  {
   "cell_type": "markdown",
   "metadata": {},
   "source": [
    "**See19** is a dataset ***and*** a python package.\n",
    "\n",
    "The dataset can be accessed directly **[here]('https://github.com/ryanskene/see19/tree/master/dataset')**. Files are timestamped with creation date.\n",
    "\n",
    "The package can be installed via pip.\n",
    "\n",
    "`pip install see19`"
   ]
  },
  {
   "cell_type": "markdown",
   "metadata": {},
   "source": [
    "<h1><a id='section2'> 2. the Data</a></h1>\n",
    "The See19 dataset aggregates global data on COVID19 fatalities in various regions, as available data allows, and marries that data with available datasets on various exogenous factors that might impact the epidemiology of the virus.\n",
    "\n",
    "The dataset was compiled using `Selenium`, `Django`, `SQLite`, and `Pandas`.\n",
    "\n",
    "\n",
    "#### COVID19 Data Characteristics:\n",
    "* Cumulative Cases for each region on each date\n",
    "* Cumulative Fatalities for each region on each date\n",
    "* State / Provincial-level data available for:\n",
    "    * Australia\n",
    "    * Brazil\n",
    "    * Canada\n",
    "    * China\n",
    "    * Italy\n",
    "    * United States\n",
    "* Country-level data available for all other regions\n",
    "\n",
    "**Factor Data Characteristics** available for most regions:\n",
    "* Longitude / Latitude\n",
    "    * I just wrote a script that searched the region name on [this website]('https://www.openstreetmap.org/') and pulled the coordinates from the resulting url\n",
    "* Population\n",
    "* Population demographic segmentation\n",
    "* Land Density\n",
    "* City Density (typically the density of the largest city in the region)\n",
    "* Climate Characteristics including:\n",
    "    * Average daily temperature\n",
    "    * Average daily dewpoint temperate\n",
    "    * Average daily relative humidity (derived from temperature and dewpoint temperature)\n",
    "    * Total daily UV-B Radiation\n",
    "* Air quality measures      \n",
    "* Historical Health Outcomes\n",
    "* Travel Popularity\n",
    "* Social Distancing Implementation\n",
    "    \n",
    "Aim to update the dataset each morning."
   ]
  },
  {
   "cell_type": "markdown",
   "metadata": {},
   "source": [
    "<h2><a id='section2.1'>2.1 Data Sources</a></h2>\n",
    "\n",
    "#### COVID Case and Fatality Data:\n",
    "* [Brazil Regional Data from the government supported site](https://covid.saude.gov.br/)\n",
    "* [Italy Regional Data from the government github repo](https://github.com/pcm-dpc/COVID-19/blob/master/dati-regioni/dpc-covid19-ita-regioni-20200224.csv)\n",
    "* [US Regional Data from the University of Virginia](https://nssac.bii.virginia.edu/covid-19/dashboard/)\n",
    "* [Other Regions from Johns Hopkins via humdata.org](https://data.humdata.org/dataset/novel-coronavirus-2019-ncov-cases)\n",
    "\n",
    "Other Data:\n",
    "* Longitude & Latitude\n",
    "    * I just wrote a script that searched each region name on this [site]('https://www.openstreetmap.org/')\n",
    "    * Any errors were fixed manually\n",
    "* [Population, Demographics, and Density from SEDAC](https://sedac.ciesin.columbia.edu/data/set/gpw-v4-admin-unit-center-points-population-estimates-rev11)\n",
    "    * Matched to regional case data by name, often manually\n",
    "* [Climate Data from European Centre for Medium-Range Weather Forecasts](https://cds.climate.copernicus.eu/cdsapp#!/dataset/reanalysis-era5-single-levels?tab=overview)\n",
    "    * Climate data pulled from nearest matching longitude & latitude coordinate in the dataset\n",
    "* [Air Quality Data from the World Air Quality Project](https://aqicn.org/data-platform/covid19/verify/1c09b43b-09f2-4244-a86f-24647e1fa3d9)\n",
    "    * Air quality data recorded at city-level, with limited number of cities available\n",
    "    * City data is aggregated to the regional or country-level\n",
    "    * So, where a region has mutiple cities reporting AQ data, the region value is aggregate of the cities\n",
    "    * Where a region has only a single city, that city represents the whole region\n",
    "    * Where a region has no cities, NADA\n",
    "* Social Distancing Stringency Index via [Oxford Covid Government Response Tracker](https://github.com/OxCGRT/covid-policy-tracker)\n",
    "* [Global Mobility Data via Google](https://www.google.com/covid19/mobility/)\n",
    "* GDP Per Capita via the [OECD](https://stats.oecd.org/Index.aspx?DataSetCode=REGION_ECONOM) and [WorldBank](https://data.worldbank.org/indicator/NY.GDP.MKTP.PP.CD?most_recent_year_desc=false)\n",
    "    * utilizing real 2016 Purchasing Power Parity figures indexed to 2015 US dollars\n",
    "* Causes of Death\n",
    "    * A fairly messy hodgepodge of data for [global](https://ourworldindata.org/causes-of-death), [US](https://wonder.cdc.gov/controller/datarequest/D76;jsessionid=7D21B11E6FF1F1059C184EE313E58875), and [Italy](http://dati.istat.it/Index.aspx?QueryId=26435&lang=en#)\n",
    "* Travel Popularity\n",
    "    * An even messier hodgepodge of data pulled from the World Tourism Organization via [indexmundi](https://www.indexmundi.com/facts/indicators/ST.INT.ARVL/rankings)\n",
    "    * State/Provincial data were derived from the country-level and other various sources in an ad-hoc fashion\n",
    "    * Good travel data is surprisingly difficult to come by. There are a number of services that offer data on flight statistics, however, it is prohibitively expensive"
   ]
  },
  {
   "cell_type": "markdown",
   "metadata": {},
   "source": [
    "<h2><a id='section2.2'>2.2 Dataset Characteristics</a></h2>"
   ]
  },
  {
   "cell_type": "markdown",
   "metadata": {},
   "source": [
    "With `see19` installed, we can download the dataset via `get_baseframe`"
   ]
  },
  {
   "cell_type": "code",
   "execution_count": 19,
   "metadata": {},
   "outputs": [],
   "source": [
    "from see19 import get_baseframe\n",
    "baseframe = get_baseframe()"
   ]
  },
  {
   "cell_type": "markdown",
   "metadata": {},
   "source": [
    "The dataset is arranged such that each row is a unique entry for each `region_id` on each `date`\n",
    "\n",
    "All other columns are the value of that particular factor in that particular region on that particular date"
   ]
  },
  {
   "cell_type": "code",
   "execution_count": 2,
   "metadata": {},
   "outputs": [
    {
     "data": {
      "text/html": [
       "<div>\n",
       "<style scoped>\n",
       "    .dataframe tbody tr th:only-of-type {\n",
       "        vertical-align: middle;\n",
       "    }\n",
       "\n",
       "    .dataframe tbody tr th {\n",
       "        vertical-align: top;\n",
       "    }\n",
       "\n",
       "    .dataframe thead th {\n",
       "        text-align: right;\n",
       "    }\n",
       "</style>\n",
       "<table border=\"1\" class=\"dataframe\">\n",
       "  <thead>\n",
       "    <tr style=\"text-align: right;\">\n",
       "      <th></th>\n",
       "      <th>region_id</th>\n",
       "      <th>country_id</th>\n",
       "      <th>region_name</th>\n",
       "      <th>country_code</th>\n",
       "      <th>country</th>\n",
       "      <th>date</th>\n",
       "      <th>cases</th>\n",
       "      <th>deaths</th>\n",
       "      <th>population</th>\n",
       "      <th>land_KM2</th>\n",
       "      <th>...</th>\n",
       "      <th>genito</th>\n",
       "      <th>childbirth</th>\n",
       "      <th>perinatal</th>\n",
       "      <th>congenital</th>\n",
       "      <th>other</th>\n",
       "      <th>external</th>\n",
       "      <th>visitors</th>\n",
       "      <th>travel_year</th>\n",
       "      <th>gdp</th>\n",
       "      <th>gdp_year</th>\n",
       "    </tr>\n",
       "  </thead>\n",
       "  <tbody>\n",
       "    <tr>\n",
       "      <th>0</th>\n",
       "      <td>282</td>\n",
       "      <td>110</td>\n",
       "      <td>Abruzzo</td>\n",
       "      <td>ITA</td>\n",
       "      <td>Italy</td>\n",
       "      <td>2020-01-01 00:00:00+00:00</td>\n",
       "      <td>NaN</td>\n",
       "      <td>NaN</td>\n",
       "      <td>1302305.0</td>\n",
       "      <td>5836.611979</td>\n",
       "      <td>...</td>\n",
       "      <td>442.0</td>\n",
       "      <td>1.0</td>\n",
       "      <td>16.0</td>\n",
       "      <td>19.0</td>\n",
       "      <td>384.0</td>\n",
       "      <td>2059</td>\n",
       "      <td>181458.0</td>\n",
       "      <td>2017.0</td>\n",
       "      <td>4.560860e+10</td>\n",
       "      <td>2016.0</td>\n",
       "    </tr>\n",
       "    <tr>\n",
       "      <th>1</th>\n",
       "      <td>282</td>\n",
       "      <td>110</td>\n",
       "      <td>Abruzzo</td>\n",
       "      <td>ITA</td>\n",
       "      <td>Italy</td>\n",
       "      <td>2020-01-02 00:00:00+00:00</td>\n",
       "      <td>NaN</td>\n",
       "      <td>NaN</td>\n",
       "      <td>1302305.0</td>\n",
       "      <td>5836.611979</td>\n",
       "      <td>...</td>\n",
       "      <td>442.0</td>\n",
       "      <td>1.0</td>\n",
       "      <td>16.0</td>\n",
       "      <td>19.0</td>\n",
       "      <td>384.0</td>\n",
       "      <td>2059</td>\n",
       "      <td>181458.0</td>\n",
       "      <td>2017.0</td>\n",
       "      <td>4.560860e+10</td>\n",
       "      <td>2016.0</td>\n",
       "    </tr>\n",
       "    <tr>\n",
       "      <th>2</th>\n",
       "      <td>282</td>\n",
       "      <td>110</td>\n",
       "      <td>Abruzzo</td>\n",
       "      <td>ITA</td>\n",
       "      <td>Italy</td>\n",
       "      <td>2020-01-03 00:00:00+00:00</td>\n",
       "      <td>NaN</td>\n",
       "      <td>NaN</td>\n",
       "      <td>1302305.0</td>\n",
       "      <td>5836.611979</td>\n",
       "      <td>...</td>\n",
       "      <td>442.0</td>\n",
       "      <td>1.0</td>\n",
       "      <td>16.0</td>\n",
       "      <td>19.0</td>\n",
       "      <td>384.0</td>\n",
       "      <td>2059</td>\n",
       "      <td>181458.0</td>\n",
       "      <td>2017.0</td>\n",
       "      <td>4.560860e+10</td>\n",
       "      <td>2016.0</td>\n",
       "    </tr>\n",
       "  </tbody>\n",
       "</table>\n",
       "<p>3 rows × 127 columns</p>\n",
       "</div>"
      ],
      "text/plain": [
       "   region_id  country_id region_name country_code country  \\\n",
       "0        282         110     Abruzzo          ITA   Italy   \n",
       "1        282         110     Abruzzo          ITA   Italy   \n",
       "2        282         110     Abruzzo          ITA   Italy   \n",
       "\n",
       "                       date  cases  deaths  population     land_KM2  ...  \\\n",
       "0 2020-01-01 00:00:00+00:00    NaN     NaN   1302305.0  5836.611979  ...   \n",
       "1 2020-01-02 00:00:00+00:00    NaN     NaN   1302305.0  5836.611979  ...   \n",
       "2 2020-01-03 00:00:00+00:00    NaN     NaN   1302305.0  5836.611979  ...   \n",
       "\n",
       "   genito  childbirth  perinatal  congenital  other  external  visitors  \\\n",
       "0   442.0         1.0       16.0        19.0  384.0      2059  181458.0   \n",
       "1   442.0         1.0       16.0        19.0  384.0      2059  181458.0   \n",
       "2   442.0         1.0       16.0        19.0  384.0      2059  181458.0   \n",
       "\n",
       "   travel_year           gdp  gdp_year  \n",
       "0       2017.0  4.560860e+10    2016.0  \n",
       "1       2017.0  4.560860e+10    2016.0  \n",
       "2       2017.0  4.560860e+10    2016.0  \n",
       "\n",
       "[3 rows x 127 columns]"
      ]
     },
     "execution_count": 2,
     "metadata": {},
     "output_type": "execute_result"
    }
   ],
   "source": [
    "baseframe.head(3)"
   ]
  },
  {
   "cell_type": "markdown",
   "metadata": {},
   "source": [
    "_This could perhaps be more appropriately structured as a multi-index frame, however, I find such indexes cumbersome to work with._"
   ]
  },
  {
   "cell_type": "code",
   "execution_count": 3,
   "metadata": {},
   "outputs": [],
   "source": [
    "num_regs = baseframe.region_id.unique().size"
   ]
  },
  {
   "cell_type": "markdown",
   "metadata": {
    "variables": {
     "num_regs": "307"
    }
   },
   "source": [
    "There are **{{num_regs}}** unique regions in the dataset\n",
    "\n",
    "Australia, Brazil, Canada, China, Italy, and the US have state/provincial level data.\n",
    "\n",
    "For example, regions within Italy and Brazil are as follows:"
   ]
  },
  {
   "cell_type": "code",
   "execution_count": 11,
   "metadata": {},
   "outputs": [
    {
     "data": {
      "text/plain": [
       "array(['Abruzzo', 'Acre', 'Alagoas', 'Amapa', 'Amazonas', 'Bahia',\n",
       "       'Basilicata', 'Calabria', 'Campania', 'Ceara', 'Distrito Federal',\n",
       "       'Emilia-Romagna', 'Espirito Santo', 'Friuli Venezia Giulia',\n",
       "       'Goias', 'Lazio', 'Liguria', 'Lombardia', 'Maranhao', 'Marche',\n",
       "       'Mato Grosso', 'Mato Grosso Do Sul', 'Minas Gerais', 'Molise',\n",
       "       'P.A. Bolzano', 'P.A. Trento', 'Para', 'Paraiba', 'Parana',\n",
       "       'Pernambuco', 'Piaui', 'Piemonte', 'Puglia', 'Rio De Janeiro',\n",
       "       'Rio Grande Do Norte', 'Rio Grande Do Sul', 'Rondonia', 'Roraima',\n",
       "       'Santa Catarina', 'Sao Paulo', 'Sardegna', 'Sergipe', 'Sicilia',\n",
       "       'Tocantins', 'Toscana', 'Umbria', \"Valle d'Aosta\", 'Veneto'],\n",
       "      dtype=object)"
      ]
     },
     "execution_count": 11,
     "metadata": {},
     "output_type": "execute_result"
    }
   ],
   "source": [
    "baseframe[baseframe.country.isin(['Italy', 'Brazil'])].region_name.unique()"
   ]
  },
  {
   "cell_type": "code",
   "execution_count": 12,
   "metadata": {},
   "outputs": [],
   "source": [
    "num_dates = baseframe.date.unique().size\n",
    "rows = baseframe.date.shape[0]"
   ]
  },
  {
   "cell_type": "markdown",
   "metadata": {
    "variables": {
     "num_dates": "124",
     "rows": "38063"
    }
   },
   "source": [
    "Each region has up to **{{num_dates}}** dates in the dataset.\n",
    "\n",
    "Thus there are **{{rows}}** rows in the dataset, with one row for each unique `region_id`-`date` combination."
   ]
  },
  {
   "cell_type": "code",
   "execution_count": 13,
   "metadata": {},
   "outputs": [],
   "source": [
    "num_cols = baseframe.columns.size"
   ]
  },
  {
   "cell_type": "markdown",
   "metadata": {
    "variables": {
     "num_cols": "127"
    }
   },
   "source": [
    "There are currently **{{num_cols}}** columns in the dataset, most of which are observable factors.\n",
    "\n",
    "The factors can be seen as split between two types:\n",
    "* **Time-static** factors, i.e. do not change by the date. \n",
    "    * population, density, population demographic ranges, cause of death outcomes, travel popularity\n",
    "    \n",
    "* **Time-dynamic** factors, i.e. change with each date. \n",
    "    * fatalities, climate, pollution, mobility, and the Oxford stringency index\n",
    "\n",
    "They can be found as follows:"
   ]
  },
  {
   "cell_type": "code",
   "execution_count": 14,
   "metadata": {},
   "outputs": [],
   "source": [
    "ny = baseframe[baseframe.region_name == 'New York']\n",
    "\n",
    "dynamic = []\n",
    "static = []\n",
    "for col in ny.columns:\n",
    "    if ny[col].unique().size > 1:\n",
    "        dynamic.append(col)\n",
    "    else:\n",
    "        static.append(col)"
   ]
  },
  {
   "cell_type": "code",
   "execution_count": 15,
   "metadata": {},
   "outputs": [],
   "source": [
    "size = baseframe.size"
   ]
  },
  {
   "cell_type": "markdown",
   "metadata": {
    "variables": {
     "size": "4834001"
    }
   },
   "source": [
    "The entire set has **{{size}}** different data points"
   ]
  },
  {
   "cell_type": "markdown",
   "metadata": {},
   "source": [
    "**Aggregate to Country Level**\n",
    "\n",
    "There may be times the user wishes to focus on just country level analysis.\n",
    "\n",
    "Thus, there is an `agg_to_country_level` function that aggregates any state/provincial-level regions to their respective country level.\n",
    "\n",
    "**NOTE:** Climate measure such as temperature and uvb-radiation are averaged, which can be an inaccurate tool across large countries (like the United States).\n",
    "\n",
    "**NOTE:** Several factors are removed that can't easily be aggregated."
   ]
  },
  {
   "cell_type": "code",
   "execution_count": 16,
   "metadata": {},
   "outputs": [],
   "source": [
    "from see19 import agg_to_country_level\n",
    "country_base = agg_to_country_level(baseframe)"
   ]
  },
  {
   "cell_type": "code",
   "execution_count": 17,
   "metadata": {},
   "outputs": [
    {
     "data": {
      "text/html": [
       "<div>\n",
       "<style scoped>\n",
       "    .dataframe tbody tr th:only-of-type {\n",
       "        vertical-align: middle;\n",
       "    }\n",
       "\n",
       "    .dataframe tbody tr th {\n",
       "        vertical-align: top;\n",
       "    }\n",
       "\n",
       "    .dataframe thead th {\n",
       "        text-align: right;\n",
       "    }\n",
       "</style>\n",
       "<table border=\"1\" class=\"dataframe\">\n",
       "  <thead>\n",
       "    <tr style=\"text-align: right;\">\n",
       "      <th></th>\n",
       "      <th>region_id</th>\n",
       "      <th>country_id</th>\n",
       "      <th>region_name</th>\n",
       "      <th>country_code</th>\n",
       "      <th>country</th>\n",
       "      <th>date</th>\n",
       "      <th>cases</th>\n",
       "      <th>deaths</th>\n",
       "      <th>population</th>\n",
       "      <th>land_KM2</th>\n",
       "      <th>...</th>\n",
       "      <th>genito</th>\n",
       "      <th>childbirth</th>\n",
       "      <th>perinatal</th>\n",
       "      <th>congenital</th>\n",
       "      <th>other</th>\n",
       "      <th>external</th>\n",
       "      <th>visitors</th>\n",
       "      <th>travel_year</th>\n",
       "      <th>gdp</th>\n",
       "      <th>gdp_year</th>\n",
       "    </tr>\n",
       "  </thead>\n",
       "  <tbody>\n",
       "    <tr>\n",
       "      <th>0</th>\n",
       "      <td>reg_for_USA</td>\n",
       "      <td>236</td>\n",
       "      <td>USA</td>\n",
       "      <td>USA</td>\n",
       "      <td>United States of America (the)</td>\n",
       "      <td>2020-01-01 00:00:00+00:00</td>\n",
       "      <td>NaN</td>\n",
       "      <td>0.0</td>\n",
       "      <td>6.053834e+06</td>\n",
       "      <td>9.090182e+06</td>\n",
       "      <td>...</td>\n",
       "      <td>68647.0</td>\n",
       "      <td>181.0</td>\n",
       "      <td>6481.0</td>\n",
       "      <td>3985.0</td>\n",
       "      <td>29419.0</td>\n",
       "      <td>14062</td>\n",
       "      <td>102108383.0</td>\n",
       "      <td>2017.0</td>\n",
       "      <td>1.860210e+13</td>\n",
       "      <td>2016.0</td>\n",
       "    </tr>\n",
       "    <tr>\n",
       "      <th>1</th>\n",
       "      <td>reg_for_USA</td>\n",
       "      <td>236</td>\n",
       "      <td>USA</td>\n",
       "      <td>USA</td>\n",
       "      <td>United States of America (the)</td>\n",
       "      <td>2020-01-02 00:00:00+00:00</td>\n",
       "      <td>NaN</td>\n",
       "      <td>0.0</td>\n",
       "      <td>6.053834e+06</td>\n",
       "      <td>9.090182e+06</td>\n",
       "      <td>...</td>\n",
       "      <td>68647.0</td>\n",
       "      <td>181.0</td>\n",
       "      <td>6481.0</td>\n",
       "      <td>3985.0</td>\n",
       "      <td>29419.0</td>\n",
       "      <td>14062</td>\n",
       "      <td>102108383.0</td>\n",
       "      <td>2017.0</td>\n",
       "      <td>1.860210e+13</td>\n",
       "      <td>2016.0</td>\n",
       "    </tr>\n",
       "  </tbody>\n",
       "</table>\n",
       "<p>2 rows × 100 columns</p>\n",
       "</div>"
      ],
      "text/plain": [
       "     region_id  country_id region_name country_code  \\\n",
       "0  reg_for_USA         236         USA          USA   \n",
       "1  reg_for_USA         236         USA          USA   \n",
       "\n",
       "                          country                      date  cases  deaths  \\\n",
       "0  United States of America (the) 2020-01-01 00:00:00+00:00    NaN     0.0   \n",
       "1  United States of America (the) 2020-01-02 00:00:00+00:00    NaN     0.0   \n",
       "\n",
       "     population      land_KM2  ...   genito  childbirth  perinatal  \\\n",
       "0  6.053834e+06  9.090182e+06  ...  68647.0       181.0     6481.0   \n",
       "1  6.053834e+06  9.090182e+06  ...  68647.0       181.0     6481.0   \n",
       "\n",
       "   congenital    other  external     visitors  travel_year           gdp  \\\n",
       "0      3985.0  29419.0     14062  102108383.0       2017.0  1.860210e+13   \n",
       "1      3985.0  29419.0     14062  102108383.0       2017.0  1.860210e+13   \n",
       "\n",
       "   gdp_year  \n",
       "0    2016.0  \n",
       "1    2016.0  \n",
       "\n",
       "[2 rows x 100 columns]"
      ]
     },
     "execution_count": 17,
     "metadata": {},
     "output_type": "execute_result"
    }
   ],
   "source": [
    "country_base[country_base.region_name == 'USA'].head(2)"
   ]
  },
  {
   "cell_type": "markdown",
   "metadata": {},
   "source": [
    "<h2><a id='section2.3'>2.3 Disclaimer</a></h2>\n",
    "\n",
    "I have said before and it bears repeating: **This is an imperfect dataset.** Specific problems are highlighted here.\n",
    "\n",
    "**GENERAL ISSUES**\n",
    "* Not all factors have available measurements for each region or each date.\n",
    "    * These are typically expressed as `NaN`\n",
    "\n",
    "* Some factors are available at regional levels while others are not\n",
    "    * Measurements for a region are often compared to other measurements at the country level. This isn't necessarily problematic ... for large geographic and populous countries like the US, it is likely better that state-level data is used to compare to other smaller countries.\n",
    "    * State-level measurements are often estimate by mixing separate data sources. For instance, Visitor data for the provinces of Brazil was estimated by taking the country-level data from the World Tourism Organization and weighting it by the province's proportionate share in visitor travel from separate data from the Brazilian government.\n",
    "* Some data is outdated.\n",
    "    * GDP data lags signficantly particularly for large groups of countries, so 2016 figures have been used, presuming that the relative mix among countries has remained constant\n",
    "    \n",
    "**DENSITY**\n",
    "\n",
    "Population density is oft-cited as a potential explanatory factor in COVID19 infection rates. And I couldn't agree more that it is important to consider. However, the study of density suffers from many issues.\n",
    "\n",
    "\n",
    "* Denisty is highly variable within regions. And case and fatality rates have been highly variable within regions and across densities. In New York City, for example, some of the least dense regions have had the highest infection rates.\n",
    "\n",
    "* With only regional data available, to be rigourous the safest option is to simple choose the density of the region. However, this is often a poor reflection of reality. New York State actually has signficant land mass despite most of its population residing on a tiny island on the southeastern edge.\n",
    "\n",
    "* To account for this, See19 includes a factor `city_dens`. `city_dens` is the density of the largest city in the region, so :\n",
    "    * for New York State, `city_dens` is the density of New York City,\n",
    "    * for Taiwan, `city_dens` is the density of Taipei, \n",
    "    * for Japan, `city_dens` is the density of Tokyo, and so on.\n",
    "\n",
    "    This approach results in its own issues. For instance, at present, for all of Russia, `city_dens` reflects the density of Moscow.\n",
    "\n",
    "Other geographic measurements, such as `temperature` and `uvb radiation` suffer from similar issues.\n",
    "\n",
    "\n",
    "The only true way to address these shortcomings is for ***daily*** case and fatality statistics to be released at the county-level (or equivalent) in every country around the globe.\n",
    "\n",
    "**CASE DATA**\n",
    "\n",
    "Aside from just the difficulties of aggregating data, there are well-documented issues with the underlying case and fatality counts as well.\n",
    "\n",
    "\n",
    "* Confirmed cases are likely well below actual cases given up to 50% of all COVID19 cases may be asymptomatic and limited testing in the early stages led to many symptomatic cases going unreported.\n",
    "\n",
    "\n",
    "* The rapid improvement in testing likely exaggerated the growth of infections over time\n",
    "\n",
    "\n",
    "* Fatalities were unreported at peak periods due to lack of health care capacity\n",
    "\n",
    "\n",
    "* Fatalities have been retroactively added to data, without adjusting back to the days the fatalities actually occured, so for regions like Hubei and New York state, there are massive spikes in fatalities that don't reflect the actual experience.\n",
    "\n",
    "\n",
    "* China has been heavily criticized for under-reporting, late-reporting, and recently added ~20% increase in cumulative fatalities on a random day in March. For these reasons, throughout this tutorial, you will see that China is often excluded from the dataset."
   ]
  },
  {
   "cell_type": "markdown",
   "metadata": {},
   "source": [
    "# Next Section"
   ]
  },
  {
   "cell_type": "markdown",
   "metadata": {},
   "source": [
    "Click on this link to go to the next notebook: [3. CaseStudy Interface](3.%20See19%20-%20the%20CaseStudy%20Interface.ipynb)"
   ]
  }
 ],
 "metadata": {
  "kernelspec": {
   "display_name": "Django Shell-Plus",
   "language": "python",
   "name": "django_extensions"
  },
  "language_info": {
   "codemirror_mode": {
    "name": "ipython",
    "version": 3
   },
   "file_extension": ".py",
   "mimetype": "text/x-python",
   "name": "python",
   "nbconvert_exporter": "python",
   "pygments_lexer": "ipython3",
   "version": "3.7.7"
  }
 },
 "nbformat": 4,
 "nbformat_minor": 4
}
