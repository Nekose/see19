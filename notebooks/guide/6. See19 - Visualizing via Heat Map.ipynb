{
 "cells": [
  {
   "cell_type": "markdown",
   "metadata": {},
   "source": [
    "# see19 Guide\n",
    "\n",
    "**A dataset and interface for visualizing and analyzing the epidemiology of Coronavirus Disease 2019 aka SARS-CoV-2 aka COVID19 aka C19**\n",
    "\n",
    "Find it on [GitHub](https://github.com/ryanskene/see19)\n",
    "\n",
    "Current w version 0.3.0"
   ]
  },
  {
   "cell_type": "markdown",
   "metadata": {},
   "source": [
    "# 6. Heat Map Visualizations"
   ]
  },
  {
   "cell_type": "markdown",
   "metadata": {},
   "source": [
    "### Hexbins? ###\n",
    "See19 utilizes the `hexbin` module of `matplotlib` to generate ***HeatMap***-style charts to investigate the impact of different factors on COVID19 virulence.\n",
    "\n",
    "This is a bit of a repurpose or basterdization from `hexbin`'s intended usage. `hexbin` is more commonly used as a 2D histogram for very large datasets, counting the appearance of datapoints at within a range certain `(x,y)` coordinates (called `bins`) and then mapping a color scheme to the range of counts.\n",
    "\n",
    "For our purposes, use of `hexbin` is a stylistic choice, with the patterns developed more interesting and a bit more revealing than a scatter plot. The intention is for each `bin` to contain only one datapoint and the color is mapped to either the x-axis values or a 3rd dimension of values. "
   ]
  },
  {
   "cell_type": "markdown",
   "metadata": {},
   "source": [
    "### Structure ###\n",
    "\n",
    "As with previous charts, heatmaps are available in `CaseStudy` via the `heatmap` attribute, which is in turn an instance of the `HeatMap` class.\n",
    "\n",
    "Charts are generated via the `make` method, which further morphs `casestudy.df` to arrange data for visualization."
   ]
  },
  {
   "cell_type": "markdown",
   "metadata": {},
   "source": [
    "### Average over Time v Daily Points ###\n",
    "\n",
    "All of the analysis to this point has considered each daily datapoint for each region separately. `heatmap` is different. `heatmap` takes (at this point) a simple mean of the `comp_category` and `factors` in question. This is a sufficient method to explore potential relationships, but true time series analysis must also be considered to project COVID19 virulence forward.\n",
    "\n",
    "While the average is used, the timing of such average can still have an impact on the relevance of the analysis. At this stage, `heatmap` is capable of utilizing the *daily moving average* from the date of the peak of the `comp_category` or from the date the region clears the `start_hurdle`.\n",
    "\n",
    "This option is denoted as the `comp_factor_start` and `color_factor_start` parameters in the `make` method."
   ]
  },
  {
   "cell_type": "code",
   "execution_count": 1,
   "metadata": {},
   "outputs": [
    {
     "name": "stdout",
     "output_type": "stream",
     "text": [
      "[*********************100%*************************] Downloading ... COMPLETE\r"
     ]
    }
   ],
   "source": [
    "from see19 import CaseStudy, get_baseframe\n",
    "baseframe = get_baseframe()\n",
    "%load_ext autoreload\n",
    "%autoreload 2\n",
    "from casestudy.see19 import CaseStudy, get_baseframe\n",
    "casestudy = CaseStudy(baseframe)"
   ]
  },
  {
   "cell_type": "markdown",
   "metadata": {},
   "source": [
    "For this analysis, we need a large dataset, so will start with the top **250** regions in terms of population and we will add many different factors."
   ]
  },
  {
   "cell_type": "code",
   "execution_count": null,
   "metadata": {},
   "outputs": [],
   "source": [
    "excluded_countries = ['China']\n",
    "excluded_regions = []\n",
    "\n",
    "frame_filter = (~baseframe['country'].isin(excluded_countries)) & (~baseframe['region_name'].isin(excluded_regions))\n",
    "regions = baseframe[frame_filter] \\\n",
    "    .sort_values('population', ascending=False) \\\n",
    "    .region_name.unique().tolist()[:250]\n",
    "\n",
    "factors_with_dmas = CaseStudy.MSMTS + ['strindex']\n",
    "factor_dmas = {factor: 28 for factor in factors_with_dmas}\n",
    "factor_dmas['strindex'] = 14\n",
    "factors = factors_with_dmas + CaseStudy.MAJOR_CAUSES + ['visitors', 'A75PLUSB', 'A65PLUSB', 'gdp']\n",
    "\n",
    "casestudy = CaseStudy(\n",
    "    baseframe, regions=regions, count_dma=14, factors=factors, \n",
    "    factor_dmas=factor_dmas, start_hurdle=1, start_factor='deaths', lognat=True,\n",
    ")"
   ]
  },
  {
   "cell_type": "markdown",
   "metadata": {},
   "source": [
    "## 6.1 Count Category v a Single Factor\n",
    "\n",
    "`heatmap` takes a similar set of options as `comp_chart` and `comp_chart4d`. The biggest difference in approach relates to text annotations:\n",
    "\n",
    "* In `comp_chart` and `comp_chart4d`, specific variables for `title`, `subtitle`, etc. generate text boxes for specific purposes.\n",
    "* In `heatmap` this is replaced in favor of a more flexible approach of ad-hoc text annotations via the `annotations` parameter.\n",
    "* `heatmap` has tended to require more lengthy notations / explanations and so this approach seemed more appropriate.\n",
    "\n",
    "In addition to the standard `comp_category`, the x-axis of `heatmap` is now provided by the `comp_factor` parameter.\n",
    "\n",
    "The below chart is completed on a linear scale of daily fatalities. It hints at a potential relationship between fatalities and temperature for the most impacted regions, however, the scaling is negatively impacted by a handful of outliers.\n",
    "\n",
    "**NOTE:** `color_factor` is ***not*** provided, therefore, the color map is a function of the `comp_factor` values (on the x-axis)."
   ]
  },
  {
   "cell_type": "markdown",
   "metadata": {},
   "source": [
    "**Max Fatalities v Temperature**"
   ]
  },
  {
   "cell_type": "code",
   "execution_count": null,
   "metadata": {},
   "outputs": [],
   "source": [
    "title = 'Max Daily Fatalities v Temperature by Region'\n",
    "subtitle = '*Average temperature for two weeks prior to day of 3rd fatality'\n",
    "note = '**{} Regions considered excluding mainland China'.format(casestudy.df.region_id.unique().shape[0])\n",
    "kwargs = {\n",
    "    'comp_category': 'deaths_new_dma_per_1M',\n",
    "    'comp_factor': 'temp_dma',\n",
    "    'annotations': [\n",
    "        [-9, 60.3, title, {'color': 'black', 'fontsize': 16, 'ha': 'left', 'va': 'center',}],\n",
    "        [-9, 57.9, subtitle, {'color': 'black', 'fontsize': 12, 'ha': 'left', 'va': 'center', 'style': 'italic'}],\n",
    "        [-9, 55.7, note, {'color': 'black', 'fontsize': 12, 'ha': 'left', 'va': 'center', 'style': 'italic'}],\n",
    "    ],\n",
    "    'fs_xticks': 12, 'fs_yticks': 12,\n",
    "    'fs_xlabel': 16, 'fs_ylabel': 14, 'fs_clabel': 14,\n",
    "    'width': 12, 'height': 8,\n",
    "}\n",
    "plt = casestudy.heatmap.make(**kwargs)"
   ]
  },
  {
   "cell_type": "markdown",
   "metadata": {},
   "source": [
    "**Natural Log of Max Fatalities v Temperature**\n",
    "\n",
    "By taking the natural log of the fatality rate, we can scale the figure to reveal a more *(potentially)* clear relationship.\n",
    "\n",
    "Viewers often struggle to understand the scaling of a natural log, so an `hlines` option has been provided that will create horizontal lines at the y-values input. `hlines` requires a `list` of `y-values`. \n",
    "\n",
    "Text annotations are then included to inform of the unscaled `comp_category` value at each `hline`.\n",
    "\n",
    "We also provide `comp_factor_start:` as `max`, which puts to use the 28DMA on the day of **peak fatalitiy rate** for each region."
   ]
  },
  {
   "cell_type": "code",
   "execution_count": null,
   "metadata": {},
   "outputs": [],
   "source": [
    "title = 'Max Daily Fatalities v Temperature by Region'\n",
    "kwargs = {\n",
    "    'comp_category': 'deaths_new_dma_per_1M_lognat',\n",
    "    'comp_factor': 'temp_dma',\n",
    "    'comp_factor_start': 'start_hurdle',\n",
    "    'annotations': [\n",
    "        [-8.9, 5.37, title, {'color': 'black', 'fontsize': 16, 'ha': 'left', 'va': 'center',}],\n",
    "        [-8.9, 5.0, subtitle, {'color': 'black', 'fontsize': 12, 'ha': 'left', 'va': 'center', 'style': 'italic'}],\n",
    "        [-8.9, 4.65, note, {'color': 'black', 'fontsize': 12, 'ha': 'left', 'va': 'center', 'style': 'italic'}],\n",
    "        [37, 4.15, '>54 deaths per 1M', {'color': 'black', 'fontsize': 8, 'ha': 'center', 'va': 'center', 'alpha': .4,}],\n",
    "        [37, 2.15, '>7 deaths per 1M', {'color': 'black', 'fontsize': 8, 'ha': 'center', 'va': 'center', 'alpha': .4,}],\n",
    "        [37, 0.15, '>1 death per 1M', {'color': 'black', 'fontsize': 8, 'ha': 'center', 'va': 'center', 'alpha': .4,}],\n",
    "    ],\n",
    "    'fs_xticks': 12, 'fs_yticks': 12,\n",
    "    'fs_xlabel': 16, 'fs_ylabel': 16, 'fs_clabel': 16,\n",
    "    'width': 12, 'height': 10,\n",
    "    'hlines': [0,2,4], \n",
    "}\n",
    "plt = casestudy.heatmap.make(**kwargs)"
   ]
  },
  {
   "cell_type": "markdown",
   "metadata": {},
   "source": [
    "As with the other chart instances, a chart-specific dataframe can be access for `heatmap` via the `df_hm` attribute."
   ]
  },
  {
   "cell_type": "code",
   "execution_count": null,
   "metadata": {},
   "outputs": [],
   "source": [
    "casestudy.heatmap.df_hm.head(4)"
   ]
  },
  {
   "cell_type": "markdown",
   "metadata": {},
   "source": [
    "**Lognat of Max Daily New Fatalities and UVB Radition**"
   ]
  },
  {
   "cell_type": "code",
   "execution_count": null,
   "metadata": {
    "scrolled": false
   },
   "outputs": [],
   "source": [
    "title = 'Max Daily Fatalities v UVB Radiation by Region'\n",
    "subtitle = '*Color-mapped by average daily uvb radiation for two weeks prior to the day of max fatalities'\n",
    "kwargs = {\n",
    "    'comp_category': 'cases_new_dma_per_person_per_city_KM2_lognat',\n",
    "    'comp_factor': 'uvb_dma',\n",
    "    'comp_factor_start': 'max',\n",
    "    'annotations': [\n",
    "#         [1330000, 9.65,  title, {'color': 'black', 'fontsize': 16, 'ha': 'left', 'va': 'center',}],\n",
    "#         [1330000, 9.15, subtitle, {'color': 'black', 'fontsize': 12, 'ha': 'left', 'va': 'center', 'style': 'italic'}],\n",
    "#         [1330000, 8.65, note, {'color': 'black', 'fontsize': 12, 'ha': 'left', 'va': 'center', 'style': 'italic'}],\n",
    "    ],\n",
    "    'fs_xticks': 12, 'fs_yticks': 12,\n",
    "    'fs_xlabel': 24, 'fs_ylabel': 20,\n",
    "    'width': 10, 'height': 8,\n",
    "}\n",
    "plt = casestudy.heatmap.make(**kwargs)"
   ]
  },
  {
   "cell_type": "markdown",
   "metadata": {},
   "source": [
    "## 6.2 Count Category v Multiple Factors (w one factor color-mapped)"
   ]
  },
  {
   "cell_type": "markdown",
   "metadata": {},
   "source": [
    "The `heatmap` is made all the more powerful when a second factor is used to map the color space of the chart.\n",
    "\n",
    "This is done via the `color_factor` parameter, which can be adapted via the `color_factor_start` parameter to take place on the day the `start_hurdle` is cleared or the day of max count category."
   ]
  },
  {
   "cell_type": "code",
   "execution_count": null,
   "metadata": {},
   "outputs": [],
   "source": [
    "title = 'Max Daily Fatalities v UVB Radiation v Oxford Stringency Index'\n",
    "subtitle = '*Average UVB radiation and Oxford Stringency Index for two weeks prior to day of 1st fatality'\n",
    "kwargs = {\n",
    "    'comp_category': 'cases_new_dma_per_1M_lognat',\n",
    "    'color_factor': 'strindex_dma',\n",
    "    'color_factor_start': 'start_hurdle',\n",
    "    'comp_factor': 'uvb_dma',\n",
    "    'annotations': [\n",
    "#         [-10900, 225.6, title, {'color': 'black', 'fontsize': 16, 'ha': 'left', 'va': 'center',}],\n",
    "#         [-10900, 217.1, subtitle, {'color': 'black', 'fontsize': 12, 'ha': 'left', 'va': 'center', 'style': 'italic'}],\n",
    "#         [-10900, 209.2, note, {'color': 'black', 'fontsize': 12, 'ha': 'left', 'va': 'center', 'style': 'italic'}],\n",
    "#         [-200, 196.4, '>403 cases per 1M', {'color': 'black', 'fontsize': 8, 'ha': 'center', 'va': 'center', 'alpha': .4,}],\n",
    "#         [-200, 153.4, '>54 cases per 1M', {'color': 'black', 'fontsize': 8, 'ha': 'center', 'va': 'center', 'alpha': .4,}],\n",
    "#         [-10300, 69.5, '>2.7 deaths per 1M', {'color': 'black', 'fontsize': 8, 'ha': 'center', 'va': 'center', 'alpha': .4,}],\n",
    "    ],\n",
    "    'fs_xticks': 12, 'fs_yticks': 12,\n",
    "    'fs_xlabel': 16, 'fs_ylabel': 14, 'fs_clabel': 14,\n",
    "    'width': 10, 'height': 8,\n",
    "    'hlines': [0, 4, 6],\n",
    "}\n",
    "plt = casestudy.heatmap.make(**kwargs)"
   ]
  },
  {
   "cell_type": "markdown",
   "metadata": {},
   "source": [
    "The `heatmap` approach is even better suited to time-static variables like demographic age ranges, given they are not susceptible to issues around averages over time.\n",
    "\n",
    "Below we compare `A75PLUBB_%` against the average `strindex` for the 14 days prior to the max fatalitiy rate.\n",
    "\n",
    "We can see that social distancing stringency was quite common across the spectrum and that population age was a much more important variable impacting fatalities."
   ]
  },
  {
   "cell_type": "code",
   "execution_count": null,
   "metadata": {
    "scrolled": false
   },
   "outputs": [],
   "source": [
    "title = 'Max Daily Fatalities v UVB Radiation v Oxford Stringency Index'\n",
    "subtitle = '*Average UVB radiation and Oxford Stringency Index for two weeks prior to day of 1st fatality'\n",
    "note = '**Excludes mainland China'\n",
    "\n",
    "kwargs = {\n",
    "    'comp_category': 'deaths_new_dma_per_person_per_city_KM2_lognat',\n",
    "    'comp_factor': 'A75PLUSB_%',\n",
    "    'color_factor': 'strindex_dma',\n",
    "    'color_factor_start': 'max',\n",
    "    'annotations': [\n",
    "#         [-9690, 213.7, title, {'color': 'black', 'fontsize': 16, 'ha': 'left', 'va': 'center',}],\n",
    "#         [-9690, 206.9, subtitle, {'color': 'black', 'fontsize': 12, 'ha': 'left', 'va': 'center', 'style': 'italic'}],\n",
    "#         [-9690, 200.2, note, {'color': 'black', 'fontsize': 12, 'ha': 'left', 'va': 'center', 'style': 'italic'}],\n",
    "#         [-200, 155.1, '>1 deaths per 1M', {'color': 'black', 'fontsize': 8, 'ha': 'center', 'va': 'center', 'alpha': .4,}],\n",
    "#         [-145, 130.9, '>).13 deaths per 1M', {'color': 'black', 'fontsize': 8, 'ha': 'center', 'va': 'center', 'alpha': .4,}],\n",
    "\n",
    "    ],\n",
    "    'fs_xticks': 12, 'fs_yticks': 12,\n",
    "    'fs_xlabel': 16, 'fs_ylabel': 14, 'fs_clabel': 14,\n",
    "    'width': 10, 'height': 8,\n",
    "    'hlines': [0,-2],\n",
    "}\n",
    "plt = casestudy.heatmap.make(**kwargs)"
   ]
  }
 ],
 "metadata": {
  "kernelspec": {
   "display_name": "Django Shell-Plus",
   "language": "python",
   "name": "django_extensions"
  },
  "language_info": {
   "codemirror_mode": {
    "name": "ipython",
    "version": 3
   },
   "file_extension": ".py",
   "mimetype": "text/x-python",
   "name": "python",
   "nbconvert_exporter": "python",
   "pygments_lexer": "ipython3",
   "version": "3.7.7"
  }
 },
 "nbformat": 4,
 "nbformat_minor": 4
}
