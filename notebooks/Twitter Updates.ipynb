{
 "cells": [
  {
   "cell_type": "markdown",
   "metadata": {},
   "source": [
    "# Updates"
   ]
  },
  {
   "cell_type": "code",
   "execution_count": 1,
   "metadata": {
    "scrolled": true
   },
   "outputs": [
    {
     "data": {
      "text/html": [
       "\n",
       "    <div class=\"bk-root\">\n",
       "        <a href=\"https://bokeh.org\" target=\"_blank\" class=\"bk-logo bk-logo-small bk-logo-notebook\"></a>\n",
       "        <span id=\"1001\">Loading BokehJS ...</span>\n",
       "    </div>"
      ]
     },
     "metadata": {},
     "output_type": "display_data"
    },
    {
     "data": {
      "application/javascript": [
       "\n",
       "(function(root) {\n",
       "  function now() {\n",
       "    return new Date();\n",
       "  }\n",
       "\n",
       "  var force = true;\n",
       "\n",
       "  if (typeof root._bokeh_onload_callbacks === \"undefined\" || force === true) {\n",
       "    root._bokeh_onload_callbacks = [];\n",
       "    root._bokeh_is_loading = undefined;\n",
       "  }\n",
       "\n",
       "  var JS_MIME_TYPE = 'application/javascript';\n",
       "  var HTML_MIME_TYPE = 'text/html';\n",
       "  var EXEC_MIME_TYPE = 'application/vnd.bokehjs_exec.v0+json';\n",
       "  var CLASS_NAME = 'output_bokeh rendered_html';\n",
       "\n",
       "  /**\n",
       "   * Render data to the DOM node\n",
       "   */\n",
       "  function render(props, node) {\n",
       "    var script = document.createElement(\"script\");\n",
       "    node.appendChild(script);\n",
       "  }\n",
       "\n",
       "  /**\n",
       "   * Handle when an output is cleared or removed\n",
       "   */\n",
       "  function handleClearOutput(event, handle) {\n",
       "    var cell = handle.cell;\n",
       "\n",
       "    var id = cell.output_area._bokeh_element_id;\n",
       "    var server_id = cell.output_area._bokeh_server_id;\n",
       "    // Clean up Bokeh references\n",
       "    if (id != null && id in Bokeh.index) {\n",
       "      Bokeh.index[id].model.document.clear();\n",
       "      delete Bokeh.index[id];\n",
       "    }\n",
       "\n",
       "    if (server_id !== undefined) {\n",
       "      // Clean up Bokeh references\n",
       "      var cmd = \"from bokeh.io.state import curstate; print(curstate().uuid_to_server['\" + server_id + \"'].get_sessions()[0].document.roots[0]._id)\";\n",
       "      cell.notebook.kernel.execute(cmd, {\n",
       "        iopub: {\n",
       "          output: function(msg) {\n",
       "            var id = msg.content.text.trim();\n",
       "            if (id in Bokeh.index) {\n",
       "              Bokeh.index[id].model.document.clear();\n",
       "              delete Bokeh.index[id];\n",
       "            }\n",
       "          }\n",
       "        }\n",
       "      });\n",
       "      // Destroy server and session\n",
       "      var cmd = \"import bokeh.io.notebook as ion; ion.destroy_server('\" + server_id + \"')\";\n",
       "      cell.notebook.kernel.execute(cmd);\n",
       "    }\n",
       "  }\n",
       "\n",
       "  /**\n",
       "   * Handle when a new output is added\n",
       "   */\n",
       "  function handleAddOutput(event, handle) {\n",
       "    var output_area = handle.output_area;\n",
       "    var output = handle.output;\n",
       "\n",
       "    // limit handleAddOutput to display_data with EXEC_MIME_TYPE content only\n",
       "    if ((output.output_type != \"display_data\") || (!output.data.hasOwnProperty(EXEC_MIME_TYPE))) {\n",
       "      return\n",
       "    }\n",
       "\n",
       "    var toinsert = output_area.element.find(\".\" + CLASS_NAME.split(' ')[0]);\n",
       "\n",
       "    if (output.metadata[EXEC_MIME_TYPE][\"id\"] !== undefined) {\n",
       "      toinsert[toinsert.length - 1].firstChild.textContent = output.data[JS_MIME_TYPE];\n",
       "      // store reference to embed id on output_area\n",
       "      output_area._bokeh_element_id = output.metadata[EXEC_MIME_TYPE][\"id\"];\n",
       "    }\n",
       "    if (output.metadata[EXEC_MIME_TYPE][\"server_id\"] !== undefined) {\n",
       "      var bk_div = document.createElement(\"div\");\n",
       "      bk_div.innerHTML = output.data[HTML_MIME_TYPE];\n",
       "      var script_attrs = bk_div.children[0].attributes;\n",
       "      for (var i = 0; i < script_attrs.length; i++) {\n",
       "        toinsert[toinsert.length - 1].firstChild.setAttribute(script_attrs[i].name, script_attrs[i].value);\n",
       "        toinsert[toinsert.length - 1].firstChild.textContent = bk_div.children[0].textContent\n",
       "      }\n",
       "      // store reference to server id on output_area\n",
       "      output_area._bokeh_server_id = output.metadata[EXEC_MIME_TYPE][\"server_id\"];\n",
       "    }\n",
       "  }\n",
       "\n",
       "  function register_renderer(events, OutputArea) {\n",
       "\n",
       "    function append_mime(data, metadata, element) {\n",
       "      // create a DOM node to render to\n",
       "      var toinsert = this.create_output_subarea(\n",
       "        metadata,\n",
       "        CLASS_NAME,\n",
       "        EXEC_MIME_TYPE\n",
       "      );\n",
       "      this.keyboard_manager.register_events(toinsert);\n",
       "      // Render to node\n",
       "      var props = {data: data, metadata: metadata[EXEC_MIME_TYPE]};\n",
       "      render(props, toinsert[toinsert.length - 1]);\n",
       "      element.append(toinsert);\n",
       "      return toinsert\n",
       "    }\n",
       "\n",
       "    /* Handle when an output is cleared or removed */\n",
       "    events.on('clear_output.CodeCell', handleClearOutput);\n",
       "    events.on('delete.Cell', handleClearOutput);\n",
       "\n",
       "    /* Handle when a new output is added */\n",
       "    events.on('output_added.OutputArea', handleAddOutput);\n",
       "\n",
       "    /**\n",
       "     * Register the mime type and append_mime function with output_area\n",
       "     */\n",
       "    OutputArea.prototype.register_mime_type(EXEC_MIME_TYPE, append_mime, {\n",
       "      /* Is output safe? */\n",
       "      safe: true,\n",
       "      /* Index of renderer in `output_area.display_order` */\n",
       "      index: 0\n",
       "    });\n",
       "  }\n",
       "\n",
       "  // register the mime type if in Jupyter Notebook environment and previously unregistered\n",
       "  if (root.Jupyter !== undefined) {\n",
       "    var events = require('base/js/events');\n",
       "    var OutputArea = require('notebook/js/outputarea').OutputArea;\n",
       "\n",
       "    if (OutputArea.prototype.mime_types().indexOf(EXEC_MIME_TYPE) == -1) {\n",
       "      register_renderer(events, OutputArea);\n",
       "    }\n",
       "  }\n",
       "\n",
       "  \n",
       "  if (typeof (root._bokeh_timeout) === \"undefined\" || force === true) {\n",
       "    root._bokeh_timeout = Date.now() + 5000;\n",
       "    root._bokeh_failed_load = false;\n",
       "  }\n",
       "\n",
       "  var NB_LOAD_WARNING = {'data': {'text/html':\n",
       "     \"<div style='background-color: #fdd'>\\n\"+\n",
       "     \"<p>\\n\"+\n",
       "     \"BokehJS does not appear to have successfully loaded. If loading BokehJS from CDN, this \\n\"+\n",
       "     \"may be due to a slow or bad network connection. Possible fixes:\\n\"+\n",
       "     \"</p>\\n\"+\n",
       "     \"<ul>\\n\"+\n",
       "     \"<li>re-rerun `output_notebook()` to attempt to load from CDN again, or</li>\\n\"+\n",
       "     \"<li>use INLINE resources instead, as so:</li>\\n\"+\n",
       "     \"</ul>\\n\"+\n",
       "     \"<code>\\n\"+\n",
       "     \"from bokeh.resources import INLINE\\n\"+\n",
       "     \"output_notebook(resources=INLINE)\\n\"+\n",
       "     \"</code>\\n\"+\n",
       "     \"</div>\"}};\n",
       "\n",
       "  function display_loaded() {\n",
       "    var el = document.getElementById(\"1001\");\n",
       "    if (el != null) {\n",
       "      el.textContent = \"BokehJS is loading...\";\n",
       "    }\n",
       "    if (root.Bokeh !== undefined) {\n",
       "      if (el != null) {\n",
       "        el.textContent = \"BokehJS \" + root.Bokeh.version + \" successfully loaded.\";\n",
       "      }\n",
       "    } else if (Date.now() < root._bokeh_timeout) {\n",
       "      setTimeout(display_loaded, 100)\n",
       "    }\n",
       "  }\n",
       "\n",
       "\n",
       "  function run_callbacks() {\n",
       "    try {\n",
       "      root._bokeh_onload_callbacks.forEach(function(callback) {\n",
       "        if (callback != null)\n",
       "          callback();\n",
       "      });\n",
       "    } finally {\n",
       "      delete root._bokeh_onload_callbacks\n",
       "    }\n",
       "    console.debug(\"Bokeh: all callbacks have finished\");\n",
       "  }\n",
       "\n",
       "  function load_libs(css_urls, js_urls, callback) {\n",
       "    if (css_urls == null) css_urls = [];\n",
       "    if (js_urls == null) js_urls = [];\n",
       "\n",
       "    root._bokeh_onload_callbacks.push(callback);\n",
       "    if (root._bokeh_is_loading > 0) {\n",
       "      console.debug(\"Bokeh: BokehJS is being loaded, scheduling callback at\", now());\n",
       "      return null;\n",
       "    }\n",
       "    if (js_urls == null || js_urls.length === 0) {\n",
       "      run_callbacks();\n",
       "      return null;\n",
       "    }\n",
       "    console.debug(\"Bokeh: BokehJS not loaded, scheduling load and callback at\", now());\n",
       "    root._bokeh_is_loading = css_urls.length + js_urls.length;\n",
       "\n",
       "    function on_load() {\n",
       "      root._bokeh_is_loading--;\n",
       "      if (root._bokeh_is_loading === 0) {\n",
       "        console.debug(\"Bokeh: all BokehJS libraries/stylesheets loaded\");\n",
       "        run_callbacks()\n",
       "      }\n",
       "    }\n",
       "\n",
       "    function on_error() {\n",
       "      console.error(\"failed to load \" + url);\n",
       "    }\n",
       "\n",
       "    for (var i = 0; i < css_urls.length; i++) {\n",
       "      var url = css_urls[i];\n",
       "      const element = document.createElement(\"link\");\n",
       "      element.onload = on_load;\n",
       "      element.onerror = on_error;\n",
       "      element.rel = \"stylesheet\";\n",
       "      element.type = \"text/css\";\n",
       "      element.href = url;\n",
       "      console.debug(\"Bokeh: injecting link tag for BokehJS stylesheet: \", url);\n",
       "      document.body.appendChild(element);\n",
       "    }\n",
       "\n",
       "    for (var i = 0; i < js_urls.length; i++) {\n",
       "      var url = js_urls[i];\n",
       "      var element = document.createElement('script');\n",
       "      element.onload = on_load;\n",
       "      element.onerror = on_error;\n",
       "      element.async = false;\n",
       "      element.src = url;\n",
       "      \n",
       "      console.debug(\"Bokeh: injecting script tag for BokehJS library: \", url);\n",
       "      document.head.appendChild(element);\n",
       "    }\n",
       "  };var element = document.getElementById(\"1001\");\n",
       "  if (element == null) {\n",
       "    console.error(\"Bokeh: ERROR: autoload.js configured with elementid '1001' but no matching script tag was found. \")\n",
       "    return false;\n",
       "  }\n",
       "\n",
       "  function inject_raw_css(css) {\n",
       "    const element = document.createElement(\"style\");\n",
       "    element.appendChild(document.createTextNode(css));\n",
       "    document.body.appendChild(element);\n",
       "  }\n",
       "\n",
       "  \n",
       "  var js_urls = [\"https://cdn.bokeh.org/bokeh/release/bokeh-2.0.0.min.js\", \"https://cdn.bokeh.org/bokeh/release/bokeh-widgets-2.0.0.min.js\", \"https://cdn.bokeh.org/bokeh/release/bokeh-tables-2.0.0.min.js\", \"https://cdn.bokeh.org/bokeh/release/bokeh-gl-2.0.0.min.js\"];\n",
       "  var css_urls = [];\n",
       "  \n",
       "\n",
       "  var inline_js = [\n",
       "    function(Bokeh) {\n",
       "      Bokeh.set_log_level(\"info\");\n",
       "    },\n",
       "    function(Bokeh) {\n",
       "    \n",
       "    \n",
       "    }\n",
       "  ];\n",
       "\n",
       "  function run_inline_js() {\n",
       "    \n",
       "    if (root.Bokeh !== undefined || force === true) {\n",
       "      \n",
       "    for (var i = 0; i < inline_js.length; i++) {\n",
       "      inline_js[i].call(root, root.Bokeh);\n",
       "    }\n",
       "    if (force === true) {\n",
       "        display_loaded();\n",
       "      }} else if (Date.now() < root._bokeh_timeout) {\n",
       "      setTimeout(run_inline_js, 100);\n",
       "    } else if (!root._bokeh_failed_load) {\n",
       "      console.log(\"Bokeh: BokehJS failed to load within specified timeout.\");\n",
       "      root._bokeh_failed_load = true;\n",
       "    } else if (force !== true) {\n",
       "      var cell = $(document.getElementById(\"1001\")).parents('.cell').data().cell;\n",
       "      cell.output_area.append_execute_result(NB_LOAD_WARNING)\n",
       "    }\n",
       "\n",
       "  }\n",
       "\n",
       "  if (root._bokeh_is_loading === 0) {\n",
       "    console.debug(\"Bokeh: BokehJS loaded, going straight to plotting\");\n",
       "    run_inline_js();\n",
       "  } else {\n",
       "    load_libs(css_urls, js_urls, function() {\n",
       "      console.debug(\"Bokeh: BokehJS plotting callback run at\", now());\n",
       "      run_inline_js();\n",
       "    });\n",
       "  }\n",
       "}(window));"
      ],
      "application/vnd.bokehjs_load.v0+json": "\n(function(root) {\n  function now() {\n    return new Date();\n  }\n\n  var force = true;\n\n  if (typeof root._bokeh_onload_callbacks === \"undefined\" || force === true) {\n    root._bokeh_onload_callbacks = [];\n    root._bokeh_is_loading = undefined;\n  }\n\n  \n\n  \n  if (typeof (root._bokeh_timeout) === \"undefined\" || force === true) {\n    root._bokeh_timeout = Date.now() + 5000;\n    root._bokeh_failed_load = false;\n  }\n\n  var NB_LOAD_WARNING = {'data': {'text/html':\n     \"<div style='background-color: #fdd'>\\n\"+\n     \"<p>\\n\"+\n     \"BokehJS does not appear to have successfully loaded. If loading BokehJS from CDN, this \\n\"+\n     \"may be due to a slow or bad network connection. Possible fixes:\\n\"+\n     \"</p>\\n\"+\n     \"<ul>\\n\"+\n     \"<li>re-rerun `output_notebook()` to attempt to load from CDN again, or</li>\\n\"+\n     \"<li>use INLINE resources instead, as so:</li>\\n\"+\n     \"</ul>\\n\"+\n     \"<code>\\n\"+\n     \"from bokeh.resources import INLINE\\n\"+\n     \"output_notebook(resources=INLINE)\\n\"+\n     \"</code>\\n\"+\n     \"</div>\"}};\n\n  function display_loaded() {\n    var el = document.getElementById(\"1001\");\n    if (el != null) {\n      el.textContent = \"BokehJS is loading...\";\n    }\n    if (root.Bokeh !== undefined) {\n      if (el != null) {\n        el.textContent = \"BokehJS \" + root.Bokeh.version + \" successfully loaded.\";\n      }\n    } else if (Date.now() < root._bokeh_timeout) {\n      setTimeout(display_loaded, 100)\n    }\n  }\n\n\n  function run_callbacks() {\n    try {\n      root._bokeh_onload_callbacks.forEach(function(callback) {\n        if (callback != null)\n          callback();\n      });\n    } finally {\n      delete root._bokeh_onload_callbacks\n    }\n    console.debug(\"Bokeh: all callbacks have finished\");\n  }\n\n  function load_libs(css_urls, js_urls, callback) {\n    if (css_urls == null) css_urls = [];\n    if (js_urls == null) js_urls = [];\n\n    root._bokeh_onload_callbacks.push(callback);\n    if (root._bokeh_is_loading > 0) {\n      console.debug(\"Bokeh: BokehJS is being loaded, scheduling callback at\", now());\n      return null;\n    }\n    if (js_urls == null || js_urls.length === 0) {\n      run_callbacks();\n      return null;\n    }\n    console.debug(\"Bokeh: BokehJS not loaded, scheduling load and callback at\", now());\n    root._bokeh_is_loading = css_urls.length + js_urls.length;\n\n    function on_load() {\n      root._bokeh_is_loading--;\n      if (root._bokeh_is_loading === 0) {\n        console.debug(\"Bokeh: all BokehJS libraries/stylesheets loaded\");\n        run_callbacks()\n      }\n    }\n\n    function on_error() {\n      console.error(\"failed to load \" + url);\n    }\n\n    for (var i = 0; i < css_urls.length; i++) {\n      var url = css_urls[i];\n      const element = document.createElement(\"link\");\n      element.onload = on_load;\n      element.onerror = on_error;\n      element.rel = \"stylesheet\";\n      element.type = \"text/css\";\n      element.href = url;\n      console.debug(\"Bokeh: injecting link tag for BokehJS stylesheet: \", url);\n      document.body.appendChild(element);\n    }\n\n    for (var i = 0; i < js_urls.length; i++) {\n      var url = js_urls[i];\n      var element = document.createElement('script');\n      element.onload = on_load;\n      element.onerror = on_error;\n      element.async = false;\n      element.src = url;\n      \n      console.debug(\"Bokeh: injecting script tag for BokehJS library: \", url);\n      document.head.appendChild(element);\n    }\n  };var element = document.getElementById(\"1001\");\n  if (element == null) {\n    console.error(\"Bokeh: ERROR: autoload.js configured with elementid '1001' but no matching script tag was found. \")\n    return false;\n  }\n\n  function inject_raw_css(css) {\n    const element = document.createElement(\"style\");\n    element.appendChild(document.createTextNode(css));\n    document.body.appendChild(element);\n  }\n\n  \n  var js_urls = [\"https://cdn.bokeh.org/bokeh/release/bokeh-2.0.0.min.js\", \"https://cdn.bokeh.org/bokeh/release/bokeh-widgets-2.0.0.min.js\", \"https://cdn.bokeh.org/bokeh/release/bokeh-tables-2.0.0.min.js\", \"https://cdn.bokeh.org/bokeh/release/bokeh-gl-2.0.0.min.js\"];\n  var css_urls = [];\n  \n\n  var inline_js = [\n    function(Bokeh) {\n      Bokeh.set_log_level(\"info\");\n    },\n    function(Bokeh) {\n    \n    \n    }\n  ];\n\n  function run_inline_js() {\n    \n    if (root.Bokeh !== undefined || force === true) {\n      \n    for (var i = 0; i < inline_js.length; i++) {\n      inline_js[i].call(root, root.Bokeh);\n    }\n    if (force === true) {\n        display_loaded();\n      }} else if (Date.now() < root._bokeh_timeout) {\n      setTimeout(run_inline_js, 100);\n    } else if (!root._bokeh_failed_load) {\n      console.log(\"Bokeh: BokehJS failed to load within specified timeout.\");\n      root._bokeh_failed_load = true;\n    } else if (force !== true) {\n      var cell = $(document.getElementById(\"1001\")).parents('.cell').data().cell;\n      cell.output_area.append_execute_result(NB_LOAD_WARNING)\n    }\n\n  }\n\n  if (root._bokeh_is_loading === 0) {\n    console.debug(\"Bokeh: BokehJS loaded, going straight to plotting\");\n    run_inline_js();\n  } else {\n    load_libs(css_urls, js_urls, function() {\n      console.debug(\"Bokeh: BokehJS plotting callback run at\", now());\n      run_inline_js();\n    });\n  }\n}(window));"
     },
     "metadata": {},
     "output_type": "display_data"
    }
   ],
   "source": [
    "from bokeh.io import output_notebook\n",
    "output_notebook()"
   ]
  },
  {
   "cell_type": "code",
   "execution_count": 2,
   "metadata": {},
   "outputs": [],
   "source": [
    "%load_ext autoreload\n",
    "%autoreload 2"
   ]
  },
  {
   "cell_type": "code",
   "execution_count": 3,
   "metadata": {},
   "outputs": [],
   "source": [
    "import os\n",
    "os.environ[\"DJANGO_ALLOW_ASYNC_UNSAFE\"] = \"true\""
   ]
  },
  {
   "cell_type": "code",
   "execution_count": 4,
   "metadata": {},
   "outputs": [],
   "source": [
    "from casestudy.covidcharts import tweetledee"
   ]
  },
  {
   "cell_type": "code",
   "execution_count": 5,
   "metadata": {},
   "outputs": [],
   "source": [
    "# print ('Instantiate Exception Logger')\n",
    "# filename = 'twitter-{}.log'.format(dt.now().strftime('%Y-%m-%d'))\n",
    "# logfile = config('TWEETLOG_PATH') + filename\n",
    "# exc_logger = ExceptionLogger(logfile)"
   ]
  },
  {
   "cell_type": "code",
   "execution_count": 6,
   "metadata": {},
   "outputs": [],
   "source": [
    "def wrap(self, level='exception'):\n",
    "    \"\"\"\n",
    "    Decorator for catching and logging exceptions for whatever function is called\n",
    "    Applied using traditional syntax of func = exc_wrap(level)(func)\n",
    "    \"\"\"\n",
    "    assert level in ['exception', 'critical']\n",
    "\n",
    "    def decorator(func):                \n",
    "        @functools.wraps(func)\n",
    "        def log_exception(*args, **kwargs):\n",
    "\n",
    "            try:\n",
    "                result = func(*args, **kwargs)\n",
    "                return result\n",
    "            except Exception as e:\n",
    "                print (repr(e))\n",
    "                if level == 'exception':\n",
    "                    logging.exception(func.__name__ + str(e))\n",
    "                elif level == 'critical':\n",
    "                    logging.critical(func.__name__ + str(e))\n",
    "        return log_exception\n",
    "    return decorator"
   ]
  },
  {
   "cell_type": "code",
   "execution_count": 7,
   "metadata": {},
   "outputs": [
    {
     "name": "stdout",
     "output_type": "stream",
     "text": [
      "Getting See19 Baseframe\n",
      "Instantiate Exception Logger***********************] Downloading ... COMPLETE\n",
      "Instantiate casestudy\n",
      "Instantiate TweetBot\n"
     ]
    }
   ],
   "source": [
    "from datetime import datetime as dt, timedelta\n",
    "import pandas as pd\n",
    "from decouple import config\n",
    "\n",
    "from see19 import CaseStudy, get_baseframe\n",
    "from see19.constants import COUNT_TYPES\n",
    "\n",
    "from casestudy.update.helpers import ExceptionLogger\n",
    "from casestudy.covidcharts.tweetbot import TweetBot\n",
    "\n",
    "print ('Getting See19 Baseframe')\n",
    "baseframe = get_baseframe()\n",
    "\n",
    "live = config('TWEETBOT_LIVE', cast=bool)\n",
    "\n",
    "print ('Instantiate Exception Logger')\n",
    "filename = 'twitter-{}.log'.format(dt.now().strftime('%Y-%m-%d'))\n",
    "logfile = config('TWEETLOG_PATH') + filename\n",
    "exc_logger = ExceptionLogger(logfile)\n",
    "\n",
    "## Load CaseStudy\n",
    "countries = [\n",
    "    'United States of America (the)',\n",
    "    'Brazil', \n",
    "    'Australia', \n",
    "    'Japan', \n",
    "    'Singapore', \n",
    "    'Taiwan',  \n",
    "    'Korea (the Republic of)',\n",
    "    'Hong Kong', \n",
    "    'Malaysia',\n",
    "    'Canada', 'Italy',\n",
    "    'Germany', \n",
    "    'Sweden',\n",
    "    'United Kingdom of Great Britain and Northern Ireland (the)',\n",
    "    'France', \n",
    "    'Norway',  \n",
    "    'Spain', \n",
    "    'Denmark', \n",
    "    'Finland',\n",
    "]\n",
    "\n",
    "factors_with_dmas = ['strindex']\n",
    "factor_dmas = {factor: 28 for factor in factors_with_dmas}\n",
    "mobi_dmas = {factor: 1 for factor in [*CaseStudy.GMOBIS, *CaseStudy.AMOBIS]}\n",
    "factors = factors_with_dmas + CaseStudy.GMOBIS + ['A65PLUSB'] + CaseStudy.AMOBIS\n",
    "\n",
    "print ('Instantiate casestudy')\n",
    "casestudy = CaseStudy(\n",
    "    baseframe, countries=countries, count_dma=3, factors=factors, \n",
    "    factor_dmas=factor_dmas, mobi_dmas=mobi_dmas, start_hurdle=dt(2020,3,1), start_factor='date', lognat=True,\n",
    "    min_deaths=1,\n",
    ")\n",
    "\n",
    "# instantiate TweetBot instance\n",
    "print ('Instantiate TweetBot')\n",
    "tweetbot = TweetBot(live=live, wait=live, wait_time=1)"
   ]
  },
  {
   "cell_type": "code",
   "execution_count": 8,
   "metadata": {},
   "outputs": [
    {
     "name": "stdout",
     "output_type": "stream",
     "text": [
      "Creating Case and Fatality comparisons for ...\n",
      "\tTexas Alabama Arizona\n"
     ]
    },
    {
     "data": {
      "text/html": [
       "\n",
       "\n",
       "\n",
       "\n",
       "\n",
       "\n",
       "  <div class=\"bk-root\" id=\"b46baebf-5bc5-4f6e-b237-693b36874759\" data-root-id=\"1003\"></div>\n"
      ]
     },
     "metadata": {},
     "output_type": "display_data"
    },
    {
     "data": {
      "application/javascript": [
       "(function(root) {\n",
       "  function embed_document(root) {\n",
       "    \n",
       "  var docs_json = {\"4218459f-10e8-44c5-912c-0c683e18d2c8\":{\"roots\":{\"references\":[{\"attributes\":{\"background_fill_alpha\":0.02,\"background_fill_color\":\"#6883BA\",\"below\":[{\"id\":\"1013\"}],\"border_fill_alpha\":0.05,\"border_fill_color\":\"#6883BA\",\"center\":[{\"id\":\"1016\"},{\"id\":\"1020\"},{\"id\":\"1046\"}],\"left\":[{\"id\":\"1017\"}],\"min_border\":20,\"outline_line_color\":\"#6883BA\",\"plot_height\":325,\"plot_width\":525,\"renderers\":[{\"id\":\"1038\"}],\"title\":{\"id\":\"1004\"},\"toolbar\":{\"id\":\"1027\"},\"toolbar_location\":null,\"x_range\":{\"id\":\"1006\"},\"x_scale\":{\"id\":\"1009\"},\"y_range\":{\"id\":\"1002\"},\"y_scale\":{\"id\":\"1011\"}},\"id\":\"1003\",\"subtype\":\"Figure\",\"type\":\"Plot\"},{\"attributes\":{\"line_color\":{\"field\":\"color\"},\"line_width\":{\"value\":5},\"xs\":{\"field\":\"x\"},\"ys\":{\"field\":\"y\"}},\"id\":\"1036\",\"type\":\"MultiLine\"},{\"attributes\":{},\"id\":\"1022\",\"type\":\"WheelZoomTool\"},{\"attributes\":{\"index\":2,\"label\":{\"value\":\"Arizona\"},\"renderers\":[{\"id\":\"1038\"}]},\"id\":\"1048\",\"type\":\"LegendItem\"},{\"attributes\":{\"line_alpha\":{\"value\":0.1},\"line_color\":{\"field\":\"color\"},\"line_width\":{\"value\":5},\"xs\":{\"field\":\"x\"},\"ys\":{\"field\":\"y\"}},\"id\":\"1037\",\"type\":\"MultiLine\"},{\"attributes\":{},\"id\":\"1025\",\"type\":\"ResetTool\"},{\"attributes\":{},\"id\":\"1014\",\"type\":\"BasicTicker\"},{\"attributes\":{\"text\":\"Comparing New Cases as of Jun 17\"},\"id\":\"1004\",\"type\":\"Title\"},{\"attributes\":{\"source\":{\"id\":\"1034\"}},\"id\":\"1039\",\"type\":\"CDSView\"},{\"attributes\":{\"axis\":{\"id\":\"1017\"},\"dimension\":1,\"grid_line_color\":null,\"ticker\":null},\"id\":\"1020\",\"type\":\"Grid\"},{\"attributes\":{\"index\":0,\"label\":{\"value\":\"Alabama\"},\"renderers\":[{\"id\":\"1038\"}]},\"id\":\"1047\",\"type\":\"LegendItem\"},{\"attributes\":{\"overlay\":{\"id\":\"1045\"}},\"id\":\"1023\",\"type\":\"BoxZoomTool\"},{\"attributes\":{},\"id\":\"1009\",\"type\":\"LinearScale\"},{\"attributes\":{},\"id\":\"1041\",\"type\":\"BasicTickFormatter\"},{\"attributes\":{\"axis\":{\"id\":\"1013\"},\"grid_line_color\":null,\"ticker\":null},\"id\":\"1016\",\"type\":\"Grid\"},{\"attributes\":{},\"id\":\"1024\",\"type\":\"SaveTool\"},{\"attributes\":{},\"id\":\"1021\",\"type\":\"PanTool\"},{\"attributes\":{\"data\":{\"color\":[\"#440154\",\"#30678D\",\"#35B778\"],\"regions\":[\"Alabama\",\"Texas\",\"Arizona\"],\"x\":[[0,1,2,3,4,5,6,7,8,9,10,11,12,13,14,15,16,17,18,19,20,21,22,23,24,25,26,27,28,29,30,31,32,33,34,35,36,37,38,39,40,41,42,43,44,45,46,47,48,49,50,51,52,53,54,55,56,57,58,59,60,61,62,63,64,65,66,67,68,69,70,71,72,73,74,75,76,77,78,79,80,81,82,83,84,85,86,87,88,89,90,91,92,93,94,95,96,97,98,99,100],[0,1,2,3,4,5,6,7,8,9,10,11,12,13,14,15,16,17,18,19,20,21,22,23,24,25,26,27,28,29,30,31,32,33,34,35,36,37,38,39,40,41,42,43,44,45,46,47,48,49,50,51,52,53,54,55,56,57,58,59,60,61,62,63,64,65,66,67,68,69,70,71,72,73,74,75,76,77,78,79,80,81,82,83,84,85,86,87,88,89,90,91,92,93,94,95,96,97,98,99,100,101,102,103],[0,1,2,3,4,5,6,7,8,9,10,11,12,13,14,15,16,17,18,19,20,21,22,23,24,25,26,27,28,29,30,31,32,33,34,35,36,37,38,39,40,41,42,43,44,45,46,47,48,49,50,51,52,53,54,55,56,57,58,59,60,61,62,63,64,65,66,67,68,69,70,71,72,73,74,75,76,77,78,79,80,81,82,83,84,85,86,87,88,89,90,91,92,93,94,95,96,97,98,99,100,101,102,103]],\"y\":[[0.0,0.0,0.0,0.06973885865941828,0.41843315195650976,0.8368663039130195,1.8829491838042938,2.092165759782549,2.371121194420222,2.7895543463767316,3.138248639673823,5.439630975434627,4.881720106159279,5.997541844709973,6.346236138007064,10.112134505615652,23.6414730855428,25.9428554213036,28.80214862633975,20.921657597825487,18.968969555361777,19.87557471793421,18.899230696702354,26.08233313862244,31.45222525539765,35.0786459056874,39.262977425252494,37.3800282414482,37.58924481742646,39.96036601184668,55.86082578619405,59.20829100184613,57.325341818041835,52.72257714652022,53.41996573311442,47.771118181701524,41.00644889173795,42.61044264090457,45.60921356325956,37.79846139340471,34.311518460433795,34.520735036412056,40.169582587824934,43.79600323811469,52.51336057054198,41.91305405431039,46.864513019129085,34.311518460433795,46.515818725832,38.35637226268006,39.89062715318726,36.264206502897515,32.84700242858601,41.285404326375634,49.23563421354931,60.463590457715654,59.34776871916497,59.69646301246205,60.88202360967217,65.27557170521551,68.76251463818645,61.30045676162868,54.954220623621616,51.81597198394779,58.58064127391137,66.87956545438213,63.18340594543297,63.18340594543297,56.00030350351289,60.672807033693914,59.487246436483794,67.855909475614,72.04024099517909,82.78002522872951,83.26819723934544,84.2445412605773,81.38524805554115,101.67925592543186,105.72410972767813,110.18739668188088,99.51735130698991,105.72410972767813,111.09400184445333,107.39784233550418,89.47495566003367,66.11243800912854,49.44485078952757,51.95544970126663,83.12871952202659,99.58709016564931,107.25836461818531,96.16988609133783,103.84116054387383,133.89860862608313,99.23839587235221,120.02057575285886,122.46143580593852,193.17663848658867,178.67095588542963,161.1665023619157,118.34684314503284],[0.09279305135937646,0.09279305135937646,0.09279305135937646,0.06628075097098317,0.17232995252455624,0.145817652136163,0.3446599050491125,0.39768450582589904,0.43745295640848897,0.23861070349553942,0.17232995252455624,0.35791605524330916,1.1400289167009106,1.7232995252455627,2.929609192917457,2.531924687091557,2.0944717306830682,1.4051519205848435,8.483936124285846,13.839420802741287,17.511374406533754,14.290129909343973,15.32410962449131,15.191548122549344,16.092966335754717,19.15513703061414,23.755021148000374,27.360694000821855,28.01024536033749,28.407929866163393,25.79646827790665,28.527235217911162,33.68387764345365,39.15866767365686,45.19021601201632,42.5257298229828,43.13551273191585,29.62749568402948,27.347437850627657,26.618349589946845,33.78992684500722,36.414644583458156,36.693023737536286,32.7161786792773,27.665585455288376,25.663906775964687,28.44769831674598,32.95478938277284,34.59855200685321,35.844630125107706,35.61927557180636,33.02107013374382,31.788248165683534,32.119651920538445,36.98465904180861,40.53730729385331,45.972328873473934,45.879535822114555,41.13383405259216,37.74025960287782,38.09817565812113,40.53730729385331,42.9499266291971,45.574644367648034,46.11814652561009,43.21504963308103,42.260606819098875,46.847234786290905,52.785990073290996,55.01302330591603,60.92526629252773,52.13643871377537,46.33024492871724,38.6151655156948,46.913515537261894,47.39073694425298,46.8870032368735,42.23409451871048,40.82894259812564,33.432010789763915,27.1883640482973,34.10807444966794,50.439651488918194,58.936843763398244,58.55241540776653,59.79849352602102,51.354325852317764,56.073515321451765,52.81250237367939,66.81099697875104,66.87727772972202,70.01898532574663,67.04960768224657,53.06436922736913,49.04775571852755,63.351141778065724,79.09944820877132,57.39913034087143,52.0038772118334,58.698233059902705,83.1293178678071,71.95438325409934,95.3780006472448,112.42540979698167],[0.15644514086868042,0.15644514086868042,0.10429676057912028,0.05214838028956014,0.20859352115824056,0.20859352115824056,0.15644514086868042,0.15644514086868042,0.15644514086868042,0.4693354226060412,0.4171870423164811,0.8343740846329623,1.3558578875285636,2.346677113030206,3.9632769020065703,5.632025071272495,10.42967605791203,13.193540213258714,15.54021732628892,16.270294650342763,19.764236129743292,22.058764862483937,17.834746059029566,21.95446810190482,21.693726200457018,25.76129986304271,22.99743570769602,25.031222538988864,31.601918455473445,34.99156317429485,35.825937258927816,28.994499440995437,23.831809792328983,29.3073897227328,28.003680215493794,34.78296965313661,27.169306130860832,30.767544370840483,21.537281059588338,22.058764862483937,27.742938314045997,36.55601458298166,39.476323879197025,36.2431243012443,29.046647821284996,27.742938314045997,27.638641553466872,36.7646081041399,41.40581394991076,42.81382021772888,39.476323879197025,34.99156317429485,34.83511803342618,35.252305075742655,48.60229042987005,52.87845761361398,60.59641789646888,51.73119324724367,49.90599993710905,49.071625852476096,55.64232176896067,53.5042381770887,63.673172333552934,65.34192050281887,61.222198459943606,44.534716767284365,40.46714310469867,55.12083796606506,67.48000409469081,74.72862895493968,75.87589332131,65.86340430571445,52.2005286698497,48.758735570738736,50.06244507797773,59.709895431546364,54.338612261721664,59.55345029067768,53.399941416509584,49.697406415950816,38.79839493543274,48.13295500726401,62.682353108051295,87.71357564704014,103.93172191709337,113.31843036921418,86.4620145200907,104.03601867767247,119.78482952511963,137.15024016154317,160.72130805242435,167.81348777180452,215.68570087762075,174.48848044886822,148.36214192379862,154.51565079796669,187.00409171836264,154.7763926994145,159.88693396779138,166.5619266448551,230.86087954188275,197.48591615656423,241.91633616326948,272.89247405526817]]},\"selected\":{\"id\":\"1056\"},\"selection_policy\":{\"id\":\"1057\"}},\"id\":\"1034\",\"type\":\"ColumnDataSource\"},{\"attributes\":{},\"id\":\"1006\",\"type\":\"DataRange1d\"},{\"attributes\":{},\"id\":\"1011\",\"type\":\"LinearScale\"},{\"attributes\":{},\"id\":\"1026\",\"type\":\"HelpTool\"},{\"attributes\":{},\"id\":\"1056\",\"type\":\"Selection\"},{\"attributes\":{\"background_fill_alpha\":0.0,\"border_line_alpha\":0.0,\"border_line_color\":\"black\",\"items\":[{\"id\":\"1047\"},{\"id\":\"1048\"},{\"id\":\"1049\"}],\"location\":\"top_left\"},\"id\":\"1046\",\"type\":\"Legend\"},{\"attributes\":{\"active_drag\":\"auto\",\"active_inspect\":\"auto\",\"active_multi\":null,\"active_scroll\":\"auto\",\"active_tap\":\"auto\",\"tools\":[{\"id\":\"1021\"},{\"id\":\"1022\"},{\"id\":\"1023\"},{\"id\":\"1024\"},{\"id\":\"1025\"},{\"id\":\"1026\"}]},\"id\":\"1027\",\"type\":\"Toolbar\"},{\"attributes\":{},\"id\":\"1018\",\"type\":\"BasicTicker\"},{\"attributes\":{\"axis_label\":\"Daily Cases per 1M (3DMA)\",\"axis_label_text_font_size\":\"11pt\",\"formatter\":{\"id\":\"1041\"},\"ticker\":{\"id\":\"1018\"}},\"id\":\"1017\",\"type\":\"LinearAxis\"},{\"attributes\":{},\"id\":\"1057\",\"type\":\"UnionRenderers\"},{\"attributes\":{},\"id\":\"1043\",\"type\":\"BasicTickFormatter\"},{\"attributes\":{\"axis_label\":\"Days Since March 01, 2020\",\"axis_label_text_font_size\":\"11pt\",\"formatter\":{\"id\":\"1043\"},\"major_tick_line_color\":null,\"ticker\":{\"id\":\"1014\"}},\"id\":\"1013\",\"type\":\"LinearAxis\"},{\"attributes\":{\"bottom_units\":\"screen\",\"fill_alpha\":0.5,\"fill_color\":\"lightgrey\",\"left_units\":\"screen\",\"level\":\"overlay\",\"line_alpha\":1.0,\"line_color\":\"black\",\"line_dash\":[4,4],\"line_width\":2,\"render_mode\":\"css\",\"right_units\":\"screen\",\"top_units\":\"screen\"},\"id\":\"1045\",\"type\":\"BoxAnnotation\"},{\"attributes\":{\"end\":300.18172146079496},\"id\":\"1002\",\"type\":\"Range1d\"},{\"attributes\":{\"data_source\":{\"id\":\"1034\"},\"glyph\":{\"id\":\"1036\"},\"hover_glyph\":null,\"muted_glyph\":null,\"nonselection_glyph\":{\"id\":\"1037\"},\"selection_glyph\":null,\"view\":{\"id\":\"1039\"}},\"id\":\"1038\",\"type\":\"GlyphRenderer\"},{\"attributes\":{\"index\":1,\"label\":{\"value\":\"Texas\"},\"renderers\":[{\"id\":\"1038\"}]},\"id\":\"1049\",\"type\":\"LegendItem\"}],\"root_ids\":[\"1003\"]},\"title\":\"Bokeh Application\",\"version\":\"2.0.0\"}};\n",
       "  var render_items = [{\"docid\":\"4218459f-10e8-44c5-912c-0c683e18d2c8\",\"root_ids\":[\"1003\"],\"roots\":{\"1003\":\"b46baebf-5bc5-4f6e-b237-693b36874759\"}}];\n",
       "  root.Bokeh.embed.embed_items_notebook(docs_json, render_items);\n",
       "\n",
       "  }\n",
       "  if (root.Bokeh !== undefined) {\n",
       "    embed_document(root);\n",
       "  } else {\n",
       "    var attempts = 0;\n",
       "    var timer = setInterval(function(root) {\n",
       "      if (root.Bokeh !== undefined) {\n",
       "        clearInterval(timer);\n",
       "        embed_document(root);\n",
       "      } else {\n",
       "        attempts++;\n",
       "        if (attempts > 100) {\n",
       "          clearInterval(timer);\n",
       "          console.log(\"Bokeh: ERROR: Unable to run BokehJS code because BokehJS library is missing\");\n",
       "        }\n",
       "      }\n",
       "    }, 10, root)\n",
       "  }\n",
       "})(window);"
      ],
      "application/vnd.bokehjs_exec.v0+json": ""
     },
     "metadata": {
      "application/vnd.bokehjs_exec.v0+json": {
       "id": "1003"
      }
     },
     "output_type": "display_data"
    },
    {
     "data": {
      "text/html": [
       "\n",
       "\n",
       "\n",
       "\n",
       "\n",
       "\n",
       "  <div class=\"bk-root\" id=\"7b4ccf43-84f8-4850-a163-ececa2e07d5d\" data-root-id=\"1212\"></div>\n"
      ]
     },
     "metadata": {},
     "output_type": "display_data"
    },
    {
     "data": {
      "application/javascript": [
       "(function(root) {\n",
       "  function embed_document(root) {\n",
       "    \n",
       "  var docs_json = {\"f2ff0b0e-da26-4175-9648-ef0bd80d8aac\":{\"roots\":{\"references\":[{\"attributes\":{\"background_fill_alpha\":0.02,\"background_fill_color\":\"#6883BA\",\"below\":[{\"id\":\"1222\"}],\"border_fill_alpha\":0.05,\"border_fill_color\":\"#6883BA\",\"center\":[{\"id\":\"1225\"},{\"id\":\"1229\"},{\"id\":\"1255\"}],\"left\":[{\"id\":\"1226\"}],\"min_border\":20,\"outline_line_color\":\"#6883BA\",\"plot_height\":325,\"plot_width\":525,\"renderers\":[{\"id\":\"1247\"}],\"title\":{\"id\":\"1213\"},\"toolbar\":{\"id\":\"1236\"},\"toolbar_location\":null,\"x_range\":{\"id\":\"1215\"},\"x_scale\":{\"id\":\"1218\"},\"y_range\":{\"id\":\"1211\"},\"y_scale\":{\"id\":\"1220\"}},\"id\":\"1212\",\"subtype\":\"Figure\",\"type\":\"Plot\"},{\"attributes\":{},\"id\":\"1250\",\"type\":\"BasicTickFormatter\"},{\"attributes\":{\"axis_label\":\"Daily Deaths per 1M (3DMA)\",\"axis_label_text_font_size\":\"11pt\",\"formatter\":{\"id\":\"1250\"},\"ticker\":{\"id\":\"1227\"}},\"id\":\"1226\",\"type\":\"LinearAxis\"},{\"attributes\":{},\"id\":\"1235\",\"type\":\"HelpTool\"},{\"attributes\":{\"data_source\":{\"id\":\"1243\"},\"glyph\":{\"id\":\"1245\"},\"hover_glyph\":null,\"muted_glyph\":null,\"nonselection_glyph\":{\"id\":\"1246\"},\"selection_glyph\":null,\"view\":{\"id\":\"1248\"}},\"id\":\"1247\",\"type\":\"GlyphRenderer\"},{\"attributes\":{\"axis\":{\"id\":\"1226\"},\"dimension\":1,\"grid_line_color\":null,\"ticker\":null},\"id\":\"1229\",\"type\":\"Grid\"},{\"attributes\":{},\"id\":\"1233\",\"type\":\"SaveTool\"},{\"attributes\":{},\"id\":\"1252\",\"type\":\"BasicTickFormatter\"},{\"attributes\":{\"data\":{\"color\":[\"#440154\",\"#30678D\",\"#35B778\"],\"regions\":[\"Alabama\",\"Texas\",\"Arizona\"],\"x\":[[0,1,2,3,4,5,6,7,8,9,10,11,12,13,14,15,16,17,18,19,20,21,22,23,24,25,26,27,28,29,30,31,32,33,34,35,36,37,38,39,40,41,42,43,44,45,46,47,48,49,50,51,52,53,54,55,56,57,58,59,60,61,62,63,64,65,66,67,68,69,70,71,72,73,74,75,76,77,78,79,80,81,82,83,84,85,86,87,88,89,90,91,92,93,94,95,96,97,98,99,100],[0,1,2,3,4,5,6,7,8,9,10,11,12,13,14,15,16,17,18,19,20,21,22,23,24,25,26,27,28,29,30,31,32,33,34,35,36,37,38,39,40,41,42,43,44,45,46,47,48,49,50,51,52,53,54,55,56,57,58,59,60,61,62,63,64,65,66,67,68,69,70,71,72,73,74,75,76,77,78,79,80,81,82,83,84,85,86,87,88,89,90,91,92,93,94,95,96,97,98,99,100,101,102,103],[0,1,2,3,4,5,6,7,8,9,10,11,12,13,14,15,16,17,18,19,20,21,22,23,24,25,26,27,28,29,30,31,32,33,34,35,36,37,38,39,40,41,42,43,44,45,46,47,48,49,50,51,52,53,54,55,56,57,58,59,60,61,62,63,64,65,66,67,68,69,70,71,72,73,74,75,76,77,78,79,80,81,82,83,84,85,86,87,88,89,90,91,92,93,94,95,96,97,98,99,100,101,102,103]],\"y\":[[0.0,0.0,0.0,0.0,0.0,0.0,0.0,0.0,0.0,0.0,0.0,0.0,0.0,0.0,0.0,0.0,0.06973885865941828,0.20921657597825488,0.20921657597825488,0.20921657597825488,0.20921657597825488,0.6973885865941829,1.5342548905072022,1.8132103251448755,1.5342548905072022,1.185560597210111,0.9066051625724377,1.0460828798912745,0.9066051625724377,1.464516031847784,1.673732607826039,1.673732607826039,1.7434714664854574,1.3250383145289475,1.3250383145289475,1.3250383145289475,1.9526880424637123,2.371121194420222,2.371121194420222,1.7434714664854574,1.464516031847784,1.6039937491666207,2.161904618441967,2.7895543463767316,2.092165759782549,1.3947771731883658,1.2552994558695292,1.3250383145289475,1.7434714664854574,2.092165759782549,2.02242690112313,3.2777263569926594,2.580337770398477,2.9987709223549865,1.464516031847784,1.185560597210111,1.7434714664854574,3.4869429329709147,3.6961595089491692,4.323809236883934,3.347465215652078,3.0685097810144044,1.8132103251448755,2.85929320503615,3.9053760849274246,4.602764671521607,3.2777263569926594,2.5105989117390584,1.464516031847784,0.9066051625724377,1.3250383145289475,2.02242690112313,2.7895543463767316,2.3013823357608034,2.02242690112313,1.5342548905072022,1.7434714664854574,2.02242690112313,2.092165759782549,1.9526880424637123,2.092165759782549,2.580337770398477,2.85929320503615,2.85929320503615,2.3013823357608034,1.5342548905072022,0.4881720106159281,1.7434714664854574,2.5105989117390584,2.7198154877173133,2.929032063695568,2.7895543463767316,3.626420650289751,2.580337770398477,1.8132103251448755,1.7434714664854574,1.2552994558695292,1.2552994558695292,0.34869429329709145,0.8368663039130195,1.185560597210111],[0.0,0.0,0.0,0.0,0.0,0.0,0.0,0.0,0.0,0.0,0.013256150194196634,0.026512300388393268,0.039768450582589904,0.053024600776786536,0.039768450582589904,0.026512300388393268,0.039768450582589904,0.053024600776786536,0.09279305135937646,0.13256150194196634,0.18558610271875292,0.19884225291294952,0.21209840310714614,0.145817652136163,0.18558610271875292,0.31814760466071923,0.47722140699107884,0.649551359515635,0.6230390591272419,0.7556005610692083,0.6628075097098318,0.649551359515635,0.6628075097098318,0.7821128614576016,0.9544428139821577,1.020723564953141,0.9544428139821577,0.8086251618459946,0.8483936124285846,1.232821968060287,1.4051519205848435,1.4581765213616298,1.1797973672835007,1.1135166163125174,0.8881620630111745,0.8483936124285846,0.8749059128169779,0.8749059128169779,1.0074674147589444,1.0604920155357307,1.1532850668951071,0.9279305135937643,0.8881620630111745,1.1135166163125174,1.5774818731093996,1.670274924468776,1.524457272332613,1.126772766506714,0.9014182132053713,0.7821128614576016,1.0737481657299273,1.1797973672835007,1.29910271903127,1.33887116961386,1.524457272332613,1.272590418642877,1.1135166163125174,0.9279305135937643,1.5377134225268094,1.8426048769933323,1.948654078546905,1.5907380233035961,0.9942112645647477,0.8483936124285846,1.1002604661183208,1.232821968060287,1.4714326715558264,1.1532850668951071,0.8749059128169779,0.6230390591272419,0.39768450582589904,0.7423444108750117,0.9809551143705512,1.1930535174776973,0.8483936124285846,0.9411866637879612,0.689319810098225,0.9544428139821577,0.8218813120401914,1.1797973672835007,1.1930535174776973,1.126772766506714,0.835137462234388,0.5567583081562587,0.45070910660268565,0.7290882606808149,1.1930535174776973,0.8881620630111745,0.7158321104866183,0.4904775571852756,0.7423444108750117,0.583270608544652,0.9544428139821577,1.1400289167009106],[0.0,0.0,0.0,0.0,0.0,0.0,0.0,0.0,0.0,0.0,0.0,0.0,0.0,0.0,0.05214838028956014,0.10429676057912028,0.10429676057912028,0.20859352115824056,0.20859352115824056,0.31289028173736083,0.4171870423164811,0.4693354226060412,0.4693354226060412,0.365038662026921,0.4693354226060412,0.6257805634747217,0.6257805634747217,0.8865224649225224,1.1994127466598834,1.6687481692659245,1.2515611269494433,1.0951159860807629,0.8343740846329623,1.2515611269494433,1.2515611269494433,1.460154648107684,1.3558578875285636,1.3037095072390037,1.1994127466598834,1.4080062678181238,1.460154648107684,1.9816384510032852,1.8251933101346047,1.7730449298450448,0.9386708452120824,1.6165997889763646,2.346677113030206,3.233199577952729,3.0246060567944877,1.9294900707137252,1.3558578875285636,0.4693354226060412,1.4080062678181238,1.5123030283972438,2.346677113030206,1.9294900707137252,2.294528732740646,2.1902319721615258,1.6687481692659245,2.4509738736093265,3.337496338531849,4.589057465481292,6.362102395326336,5.527728310693376,4.484760704902172,1.3037095072390037,1.564451408686804,3.0246060567944877,4.276167183743931,4.641205845770853,4.432612324612611,2.920309296215368,1.8251933101346047,1.3037095072390037,3.493941479400529,4.015425282296131,3.70253500055877,2.7117157750571272,1.9294900707137252,1.6165997889763646,0.4171870423164811,1.6165997889763646,2.659567394767567,4.067573662585691,3.7546833808483298,2.5552706341884464,1.6687481692659245,1.9816384510032852,3.91112852171701,4.119722042875251,3.70253500055877,3.181051197663168,2.5031222538988867,1.8251933101346047,1.460154648107684,2.659567394767567,4.171870423164811,2.972457676504928,2.5552706341884464,2.920309296215368,3.0767544370840483,2.6074190144780074,1.8773416904241649,2.763864155346688]]},\"selected\":{\"id\":\"1265\"},\"selection_policy\":{\"id\":\"1266\"}},\"id\":\"1243\",\"type\":\"ColumnDataSource\"},{\"attributes\":{},\"id\":\"1227\",\"type\":\"BasicTicker\"},{\"attributes\":{\"bottom_units\":\"screen\",\"fill_alpha\":0.5,\"fill_color\":\"lightgrey\",\"left_units\":\"screen\",\"level\":\"overlay\",\"line_alpha\":1.0,\"line_color\":\"black\",\"line_dash\":[4,4],\"line_width\":2,\"render_mode\":\"css\",\"right_units\":\"screen\",\"top_units\":\"screen\"},\"id\":\"1254\",\"type\":\"BoxAnnotation\"},{\"attributes\":{},\"id\":\"1230\",\"type\":\"PanTool\"},{\"attributes\":{\"line_alpha\":{\"value\":0.1},\"line_color\":{\"field\":\"color\"},\"line_width\":{\"value\":5},\"xs\":{\"field\":\"x\"},\"ys\":{\"field\":\"y\"}},\"id\":\"1246\",\"type\":\"MultiLine\"},{\"attributes\":{\"axis_label\":\"Days Since March 01, 2020\",\"axis_label_text_font_size\":\"11pt\",\"formatter\":{\"id\":\"1252\"},\"major_tick_line_color\":null,\"ticker\":{\"id\":\"1223\"}},\"id\":\"1222\",\"type\":\"LinearAxis\"},{\"attributes\":{\"index\":0,\"label\":{\"value\":\"Alabama\"},\"renderers\":[{\"id\":\"1247\"}]},\"id\":\"1256\",\"type\":\"LegendItem\"},{\"attributes\":{},\"id\":\"1223\",\"type\":\"BasicTicker\"},{\"attributes\":{\"text\":\"Comparing New Fatalities as of Jun 17\"},\"id\":\"1213\",\"type\":\"Title\"},{\"attributes\":{\"source\":{\"id\":\"1243\"}},\"id\":\"1248\",\"type\":\"CDSView\"},{\"attributes\":{\"index\":2,\"label\":{\"value\":\"Arizona\"},\"renderers\":[{\"id\":\"1247\"}]},\"id\":\"1257\",\"type\":\"LegendItem\"},{\"attributes\":{\"line_color\":{\"field\":\"color\"},\"line_width\":{\"value\":5},\"xs\":{\"field\":\"x\"},\"ys\":{\"field\":\"y\"}},\"id\":\"1245\",\"type\":\"MultiLine\"},{\"attributes\":{\"active_drag\":\"auto\",\"active_inspect\":\"auto\",\"active_multi\":null,\"active_scroll\":\"auto\",\"active_tap\":\"auto\",\"tools\":[{\"id\":\"1230\"},{\"id\":\"1231\"},{\"id\":\"1232\"},{\"id\":\"1233\"},{\"id\":\"1234\"},{\"id\":\"1235\"}]},\"id\":\"1236\",\"type\":\"Toolbar\"},{\"attributes\":{\"index\":1,\"label\":{\"value\":\"Texas\"},\"renderers\":[{\"id\":\"1247\"}]},\"id\":\"1258\",\"type\":\"LegendItem\"},{\"attributes\":{},\"id\":\"1220\",\"type\":\"LinearScale\"},{\"attributes\":{},\"id\":\"1266\",\"type\":\"UnionRenderers\"},{\"attributes\":{\"end\":6.99831263485897},\"id\":\"1211\",\"type\":\"Range1d\"},{\"attributes\":{},\"id\":\"1218\",\"type\":\"LinearScale\"},{\"attributes\":{\"background_fill_alpha\":0.0,\"border_line_alpha\":0.0,\"border_line_color\":\"black\",\"items\":[{\"id\":\"1256\"},{\"id\":\"1257\"},{\"id\":\"1258\"}],\"location\":\"top_left\"},\"id\":\"1255\",\"type\":\"Legend\"},{\"attributes\":{},\"id\":\"1231\",\"type\":\"WheelZoomTool\"},{\"attributes\":{},\"id\":\"1215\",\"type\":\"DataRange1d\"},{\"attributes\":{},\"id\":\"1265\",\"type\":\"Selection\"},{\"attributes\":{\"axis\":{\"id\":\"1222\"},\"grid_line_color\":null,\"ticker\":null},\"id\":\"1225\",\"type\":\"Grid\"},{\"attributes\":{\"overlay\":{\"id\":\"1254\"}},\"id\":\"1232\",\"type\":\"BoxZoomTool\"},{\"attributes\":{},\"id\":\"1234\",\"type\":\"ResetTool\"}],\"root_ids\":[\"1212\"]},\"title\":\"Bokeh Application\",\"version\":\"2.0.0\"}};\n",
       "  var render_items = [{\"docid\":\"f2ff0b0e-da26-4175-9648-ef0bd80d8aac\",\"root_ids\":[\"1212\"],\"roots\":{\"1212\":\"7b4ccf43-84f8-4850-a163-ececa2e07d5d\"}}];\n",
       "  root.Bokeh.embed.embed_items_notebook(docs_json, render_items);\n",
       "\n",
       "  }\n",
       "  if (root.Bokeh !== undefined) {\n",
       "    embed_document(root);\n",
       "  } else {\n",
       "    var attempts = 0;\n",
       "    var timer = setInterval(function(root) {\n",
       "      if (root.Bokeh !== undefined) {\n",
       "        clearInterval(timer);\n",
       "        embed_document(root);\n",
       "      } else {\n",
       "        attempts++;\n",
       "        if (attempts > 100) {\n",
       "          clearInterval(timer);\n",
       "          console.log(\"Bokeh: ERROR: Unable to run BokehJS code because BokehJS library is missing\");\n",
       "        }\n",
       "      }\n",
       "    }, 10, root)\n",
       "  }\n",
       "})(window);"
      ],
      "application/vnd.bokehjs_exec.v0+json": ""
     },
     "metadata": {
      "application/vnd.bokehjs_exec.v0+json": {
       "id": "1212"
      }
     },
     "output_type": "display_data"
    },
    {
     "data": {
      "text/html": [
       "\n",
       "\n",
       "\n",
       "\n",
       "\n",
       "\n",
       "  <div class=\"bk-root\" id=\"7a1b8ffd-a497-44bd-bb6b-3235c5b9be09\" data-root-id=\"1429\"></div>\n"
      ]
     },
     "metadata": {},
     "output_type": "display_data"
    },
    {
     "data": {
      "application/javascript": [
       "(function(root) {\n",
       "  function embed_document(root) {\n",
       "    \n",
       "  var docs_json = {\"5298161b-b49e-4443-a95b-99df1b95d3b7\":{\"roots\":{\"references\":[{\"attributes\":{\"background_fill_alpha\":0.02,\"background_fill_color\":\"#6883BA\",\"below\":[{\"id\":\"1439\"}],\"border_fill_alpha\":0.05,\"border_fill_color\":\"#6883BA\",\"center\":[{\"id\":\"1442\"},{\"id\":\"1446\"},{\"id\":\"1472\"}],\"left\":[{\"id\":\"1443\"}],\"min_border\":20,\"outline_line_color\":\"#6883BA\",\"plot_height\":325,\"plot_width\":500,\"renderers\":[{\"id\":\"1464\"}],\"title\":{\"id\":\"1430\"},\"toolbar\":{\"id\":\"1453\"},\"toolbar_location\":null,\"x_range\":{\"id\":\"1432\"},\"x_scale\":{\"id\":\"1435\"},\"y_range\":{\"id\":\"1428\"},\"y_scale\":{\"id\":\"1437\"}},\"id\":\"1429\",\"subtype\":\"Figure\",\"type\":\"Plot\"},{\"attributes\":{\"data_source\":{\"id\":\"1460\"},\"glyph\":{\"id\":\"1462\"},\"hover_glyph\":null,\"muted_glyph\":null,\"nonselection_glyph\":{\"id\":\"1463\"},\"selection_glyph\":null,\"view\":{\"id\":\"1465\"}},\"id\":\"1464\",\"type\":\"GlyphRenderer\"},{\"attributes\":{\"index\":0,\"label\":{\"value\":\"Alabama\"},\"renderers\":[{\"id\":\"1464\"}]},\"id\":\"1473\",\"type\":\"LegendItem\"},{\"attributes\":{},\"id\":\"1467\",\"type\":\"BasicTickFormatter\"},{\"attributes\":{},\"id\":\"1448\",\"type\":\"WheelZoomTool\"},{\"attributes\":{},\"id\":\"1440\",\"type\":\"BasicTicker\"},{\"attributes\":{},\"id\":\"1435\",\"type\":\"LinearScale\"},{\"attributes\":{},\"id\":\"1447\",\"type\":\"PanTool\"},{\"attributes\":{\"axis_label\":\"Change in Driving Mobility - Apple\",\"axis_label_text_font_size\":\"11pt\",\"formatter\":{\"id\":\"1467\"},\"ticker\":{\"id\":\"1444\"}},\"id\":\"1443\",\"type\":\"LinearAxis\"},{\"attributes\":{\"data\":{\"color\":[\"#440154\",\"#30678D\",\"#35B778\"],\"regions\":[\"Alabama\",\"Texas\",\"Arizona\"],\"x\":[[0,1,2,3,4,5,6,7,8,9,10,11,12,13,14,15,16,17,18,19,20,21,22,23,24,25,26,27,28,29,30,31,32,33,34,35,36,37,38,39,40,41,42,43,44,45,46,47,48,49,50,51,52,53,54,55,56,57,58,59,60,61,62,63,64,65,66,67,68,69,70,71,72,73,74,75,76,77,78,79,80,81,82,83,84,85,86,87,88,89,90,91,92,93,94,95,96,97,98,99,100,101,102,103,104,105,106,107,108],[0,1,2,3,4,5,6,7,8,9,10,11,12,13,14,15,16,17,18,19,20,21,22,23,24,25,26,27,28,29,30,31,32,33,34,35,36,37,38,39,40,41,42,43,44,45,46,47,48,49,50,51,52,53,54,55,56,57,58,59,60,61,62,63,64,65,66,67,68,69,70,71,72,73,74,75,76,77,78,79,80,81,82,83,84,85,86,87,88,89,90,91,92,93,94,95,96,97,98,99,100,101,102,103,104,105,106,107,108],[0,1,2,3,4,5,6,7,8,9,10,11,12,13,14,15,16,17,18,19,20,21,22,23,24,25,26,27,28,29,30,31,32,33,34,35,36,37,38,39,40,41,42,43,44,45,46,47,48,49,50,51,52,53,54,55,56,57,58,59,60,61,62,63,64,65,66,67,68,69,70,71,72,73,74,75,76,77,78,79,80,81,82,83,84,85,86,87,88,89,90,91,92,93,94,95,96,97,98,99,100,101,102,103,104,105,106,107,108]],\"y\":[[1.045,1.107,1.1540000000000001,1.109,1.2409999999999999,1.578,1.587,1.0979999999999999,1.195,1.192,1.198,1.2990000000000002,1.431,1.399,0.946,1.014,0.941,0.92,0.91,0.96,0.809,0.563,0.68,0.7040000000000001,0.7490000000000001,0.7759999999999999,0.8390000000000001,0.731,0.5539999999999999,0.6990000000000001,0.657,0.722,0.74,0.812,0.639,0.474,0.662,0.648,0.672,0.741,0.81,0.703,0.38,0.736,0.763,0.805,0.843,0.938,0.8370000000000001,0.53,0.858,0.868,0.866,0.78,1.04,0.917,0.72,0.8959999999999999,0.92,0.853,1.022,1.199,1.104,0.883,1.046,1.068,1.11,1.177,1.245,1.246,0.9079999999999999,1.023,1.139,1.254,1.347,1.5290000000000001,1.463,1.0979999999999999,1.2819999999999998,1.331,1.371,1.5019999999999998,1.746,1.62,1.247,1.328,1.345,1.34,1.494,1.693,1.685,1.294,1.3630000000000002,1.3359999999999999,1.3780000000000001,1.4709999999999999,1.673,1.739,1.196,1.35,1.38,1.466,1.6,1.6,1.845,1.953,1.429,1.52,1.506],[0.988,1.088,1.137,1.103,1.23,1.475,1.4080000000000001,1.0,1.126,1.193,1.194,1.1740000000000002,1.218,1.075,0.7709999999999999,0.8740000000000001,0.8029999999999999,0.774,0.7440000000000001,0.753,0.62,0.47,0.623,0.619,0.556,0.574,0.634,0.537,0.43700000000000006,0.524,0.5710000000000001,0.5820000000000001,0.561,0.607,0.488,0.41700000000000004,0.5429999999999999,0.5770000000000001,0.589,0.598,0.667,0.557,0.40399999999999997,0.5920000000000001,0.609,0.6609999999999999,0.6809999999999999,0.732,0.6659999999999999,0.516,0.679,0.6759999999999999,0.66,0.741,0.83,0.764,0.61,0.713,0.718,0.748,0.8029999999999999,0.946,0.884,0.7,0.8220000000000001,0.851,0.861,0.887,1.021,0.996,0.728,0.7979999999999999,0.867,0.9359999999999999,0.985,1.1079999999999999,0.98,0.8640000000000001,1.008,1.041,1.063,1.111,1.3159999999999998,1.224,0.9079999999999999,0.887,1.062,1.09,1.145,1.3519999999999999,1.31,0.97,1.089,1.129,1.145,1.214,1.413,1.383,1.057,1.159,1.18,1.209,1.268,1.268,1.469,1.4269999999999998,1.101,1.189,1.206],[1.035,1.1320000000000001,1.16,1.193,1.2590000000000001,1.445,1.3659999999999999,1.024,1.1640000000000001,1.148,1.1320000000000001,1.1059999999999999,1.206,1.138,0.8540000000000001,0.9470000000000001,0.883,0.757,0.764,0.804,0.7040000000000001,0.518,0.6409999999999999,0.635,0.629,0.628,0.6829999999999999,0.628,0.489,0.595,0.586,0.557,0.5710000000000001,0.645,0.5660000000000001,0.445,0.557,0.573,0.57,0.598,0.6729999999999999,0.589,0.391,0.581,0.602,0.652,0.6609999999999999,0.7490000000000001,0.6920000000000001,0.546,0.664,0.654,0.6709999999999999,0.7020000000000001,0.7859999999999999,0.737,0.5720000000000001,0.6859999999999999,0.6970000000000001,0.7140000000000001,0.7490000000000001,0.865,0.8240000000000001,0.633,0.748,0.773,0.768,0.7979999999999999,0.9229999999999999,0.882,0.647,0.72,0.7929999999999999,0.866,0.904,1.056,1.022,0.8270000000000001,0.941,0.968,0.988,1.043,1.226,1.136,0.9440000000000001,0.912,1.013,1.0290000000000001,1.055,1.188,1.127,0.89,0.966,0.972,1.01,1.044,1.1840000000000002,1.149,0.917,1.053,1.056,1.0659999999999998,1.113,1.113,1.25,1.227,1.001,1.072,1.077]]},\"selected\":{\"id\":\"1482\"},\"selection_policy\":{\"id\":\"1483\"}},\"id\":\"1460\",\"type\":\"ColumnDataSource\"},{\"attributes\":{\"index\":1,\"label\":{\"value\":\"Texas\"},\"renderers\":[{\"id\":\"1464\"}]},\"id\":\"1475\",\"type\":\"LegendItem\"},{\"attributes\":{\"axis_label\":\"Days Since March 01, 2020\",\"axis_label_text_font_size\":\"11pt\",\"formatter\":{\"id\":\"1469\"},\"major_tick_line_color\":null,\"ticker\":{\"id\":\"1440\"}},\"id\":\"1439\",\"type\":\"LinearAxis\"},{\"attributes\":{},\"id\":\"1437\",\"type\":\"LinearScale\"},{\"attributes\":{},\"id\":\"1469\",\"type\":\"BasicTickFormatter\"},{\"attributes\":{},\"id\":\"1450\",\"type\":\"SaveTool\"},{\"attributes\":{\"end\":2.1483,\"start\":0.38380000000000003},\"id\":\"1428\",\"type\":\"Range1d\"},{\"attributes\":{\"index\":2,\"label\":{\"value\":\"Arizona\"},\"renderers\":[{\"id\":\"1464\"}]},\"id\":\"1474\",\"type\":\"LegendItem\"},{\"attributes\":{\"overlay\":{\"id\":\"1471\"}},\"id\":\"1449\",\"type\":\"BoxZoomTool\"},{\"attributes\":{\"axis\":{\"id\":\"1443\"},\"dimension\":1,\"grid_line_color\":null,\"ticker\":null},\"id\":\"1446\",\"type\":\"Grid\"},{\"attributes\":{},\"id\":\"1432\",\"type\":\"DataRange1d\"},{\"attributes\":{\"active_drag\":\"auto\",\"active_inspect\":\"auto\",\"active_multi\":null,\"active_scroll\":\"auto\",\"active_tap\":\"auto\",\"tools\":[{\"id\":\"1447\"},{\"id\":\"1448\"},{\"id\":\"1449\"},{\"id\":\"1450\"},{\"id\":\"1451\"},{\"id\":\"1452\"}]},\"id\":\"1453\",\"type\":\"Toolbar\"},{\"attributes\":{\"axis\":{\"id\":\"1439\"},\"grid_line_color\":null,\"ticker\":null},\"id\":\"1442\",\"type\":\"Grid\"},{\"attributes\":{\"background_fill_alpha\":0.0,\"border_line_alpha\":0.0,\"border_line_color\":\"black\",\"items\":[{\"id\":\"1473\"},{\"id\":\"1474\"},{\"id\":\"1475\"}],\"location\":\"top_center\"},\"id\":\"1472\",\"type\":\"Legend\"},{\"attributes\":{},\"id\":\"1483\",\"type\":\"UnionRenderers\"},{\"attributes\":{\"line_alpha\":{\"value\":0.1},\"line_color\":{\"field\":\"color\"},\"line_width\":{\"value\":5},\"xs\":{\"field\":\"x\"},\"ys\":{\"field\":\"y\"}},\"id\":\"1463\",\"type\":\"MultiLine\"},{\"attributes\":{},\"id\":\"1444\",\"type\":\"BasicTicker\"},{\"attributes\":{\"text\":\"Apple Driving Queries as of Jun 17\"},\"id\":\"1430\",\"type\":\"Title\"},{\"attributes\":{},\"id\":\"1451\",\"type\":\"ResetTool\"},{\"attributes\":{\"line_color\":{\"field\":\"color\"},\"line_width\":{\"value\":5},\"xs\":{\"field\":\"x\"},\"ys\":{\"field\":\"y\"}},\"id\":\"1462\",\"type\":\"MultiLine\"},{\"attributes\":{},\"id\":\"1452\",\"type\":\"HelpTool\"},{\"attributes\":{\"bottom_units\":\"screen\",\"fill_alpha\":0.5,\"fill_color\":\"lightgrey\",\"left_units\":\"screen\",\"level\":\"overlay\",\"line_alpha\":1.0,\"line_color\":\"black\",\"line_dash\":[4,4],\"line_width\":2,\"render_mode\":\"css\",\"right_units\":\"screen\",\"top_units\":\"screen\"},\"id\":\"1471\",\"type\":\"BoxAnnotation\"},{\"attributes\":{\"source\":{\"id\":\"1460\"}},\"id\":\"1465\",\"type\":\"CDSView\"},{\"attributes\":{},\"id\":\"1482\",\"type\":\"Selection\"}],\"root_ids\":[\"1429\"]},\"title\":\"Bokeh Application\",\"version\":\"2.0.0\"}};\n",
       "  var render_items = [{\"docid\":\"5298161b-b49e-4443-a95b-99df1b95d3b7\",\"root_ids\":[\"1429\"],\"roots\":{\"1429\":\"7a1b8ffd-a497-44bd-bb6b-3235c5b9be09\"}}];\n",
       "  root.Bokeh.embed.embed_items_notebook(docs_json, render_items);\n",
       "\n",
       "  }\n",
       "  if (root.Bokeh !== undefined) {\n",
       "    embed_document(root);\n",
       "  } else {\n",
       "    var attempts = 0;\n",
       "    var timer = setInterval(function(root) {\n",
       "      if (root.Bokeh !== undefined) {\n",
       "        clearInterval(timer);\n",
       "        embed_document(root);\n",
       "      } else {\n",
       "        attempts++;\n",
       "        if (attempts > 100) {\n",
       "          clearInterval(timer);\n",
       "          console.log(\"Bokeh: ERROR: Unable to run BokehJS code because BokehJS library is missing\");\n",
       "        }\n",
       "      }\n",
       "    }, 10, root)\n",
       "  }\n",
       "})(window);"
      ],
      "application/vnd.bokehjs_exec.v0+json": ""
     },
     "metadata": {
      "application/vnd.bokehjs_exec.v0+json": {
       "id": "1429"
      }
     },
     "output_type": "display_data"
    },
    {
     "name": "stdout",
     "output_type": "stream",
     "text": [
      "\tGeorgia Tennessee Florida\n"
     ]
    },
    {
     "data": {
      "text/html": [
       "\n",
       "\n",
       "\n",
       "\n",
       "\n",
       "\n",
       "  <div class=\"bk-root\" id=\"76be85e4-710b-4e02-b582-69a36907603b\" data-root-id=\"1654\"></div>\n"
      ]
     },
     "metadata": {},
     "output_type": "display_data"
    },
    {
     "data": {
      "application/javascript": [
       "(function(root) {\n",
       "  function embed_document(root) {\n",
       "    \n",
       "  var docs_json = {\"fd8d15e5-328c-4c5e-80e3-5a25127e557a\":{\"roots\":{\"references\":[{\"attributes\":{\"background_fill_alpha\":0.02,\"background_fill_color\":\"#6883BA\",\"below\":[{\"id\":\"1664\"}],\"border_fill_alpha\":0.05,\"border_fill_color\":\"#6883BA\",\"center\":[{\"id\":\"1667\"},{\"id\":\"1671\"},{\"id\":\"1697\"}],\"left\":[{\"id\":\"1668\"}],\"min_border\":20,\"outline_line_color\":\"#6883BA\",\"plot_height\":325,\"plot_width\":525,\"renderers\":[{\"id\":\"1689\"}],\"title\":{\"id\":\"1655\"},\"toolbar\":{\"id\":\"1678\"},\"toolbar_location\":null,\"x_range\":{\"id\":\"1657\"},\"x_scale\":{\"id\":\"1660\"},\"y_range\":{\"id\":\"1653\"},\"y_scale\":{\"id\":\"1662\"}},\"id\":\"1654\",\"subtype\":\"Figure\",\"type\":\"Plot\"},{\"attributes\":{\"data\":{\"color\":[\"#440154\",\"#30678D\",\"#35B778\"],\"regions\":[\"Georgia\",\"Florida\",\"Tennessee\"],\"x\":[[0,1,2,3,4,5,6,7,8,9,10,11,12,13,14,15,16,17,18,19,20,21,22,23,24,25,26,27,28,29,30,31,32,33,34,35,36,37,38,39,40,41,42,43,44,45,46,47,48,49,50,51,52,53,54,55,56,57,58,59,60,61,62,63,64,65,66,67,68,69,70,71,72,73,74,75,76,77,78,79,80,81,82,83,84,85,86,87,88,89,90,91,92,93,94,95,96,97,98,99,100,101,102,103],[0,1,2,3,4,5,6,7,8,9,10,11,12,13,14,15,16,17,18,19,20,21,22,23,24,25,26,27,28,29,30,31,32,33,34,35,36,37,38,39,40,41,42,43,44,45,46,47,48,49,50,51,52,53,54,55,56,57,58,59,60,61,62,63,64,65,66,67,68,69,70,71,72,73,74,75,76,77,78,79,80,81,82,83,84,85,86,87,88,89,90,91,92,93,94,95,96,97,98,99,100,101,102,103],[0,1,2,3,4,5,6,7,8,9,10,11,12,13,14,15,16,17,18,19,20,21,22,23,24,25,26,27,28,29,30,31,32,33,34,35,36,37,38,39,40,41,42,43,44,45,46,47,48,49,50,51,52,53,54,55,56,57,58,59,60,61,62,63,64,65,66,67,68,69,70,71,72,73,74,75,76,77,78,79,80,81,82,83,84,85,86,87,88,89,90,91,92,93,94,95,96,97,98,99,100,101,102]],\"y\":[[0.137632234900789,0.17204029362598625,0.3440805872519725,0.37848864597716975,0.5161208808779588,0.6537531157787477,0.8602014681299314,1.513954583908679,2.3397479933134133,2.718236639290583,2.75264469801578,3.3719897550693303,5.711737748382744,9.427808090704048,10.666498204811147,10.769722380986739,12.111636671269432,17.857782478377374,22.262013995202622,25.909268220073532,33.54785725706732,38.502617713495724,38.74347412457211,27.801711449959377,53.7797957874833,68.36881268696693,87.36206110327582,65.44412769532518,52.36906537975022,44.69606828403123,51.02715108946752,91.4566200915743,111.96382309179187,111.89500697434146,91.69747650265067,77.6933966014954,64.89359875572201,63.035563584561366,71.01823320880713,87.22442886837503,80.99657023911433,102.22634247256104,92.28241350097903,90.56201056471917,60.317326945270786,76.11062590013633,83.9212552307561,88.25667063013096,77.96866107129698,67.26775480776062,64.99682293189761,60.76463170869834,66.06347275237873,74.69989549240324,77.14286766189224,91.3533959153987,94.07163255468929,84.19651970055767,72.18810720546384,48.34332250890214,72.05047497056304,71.25908961988351,82.40730064684742,63.17319581946215,68.8849335678449,62.657074938584195,72.36014749908982,65.06563904934801,66.44196139835589,70.39888815175357,62.450626586233014,63.41405223053854,48.17128221527616,54.15828443346047,66.95808227923385,79.9643284773584,85.91692263681755,85.50402593211518,83.71480687840491,73.15153284976935,54.984077842865204,54.46795696198725,59.38830935969046,66.75163392688266,64.17102952249287,65.92584051747792,67.02689839668426,66.09788081110392,65.65057604767635,76.69556289846469,83.06105376262616,83.09546182135136,70.57092844537956,64.54951816847006,66.75163392688266,71.63757826586068,85.1943534035884,59.31949324224006,62.03772988153065,62.89793134966058,93.17702302783415,90.52760250599397,78.34714971727414,80.82452994548834],[3.2976425578855943,0.14183408851120835,0.1595633495751094,-2.9962451197992763,0.19502187170291146,0.24820965489461463,0.5496070929809325,0.8687337921311511,1.4892579293676877,1.6133627568149949,1.9324894559652142,3.510393690652407,4.41458600491136,5.9215731953429485,6.098865805981959,7.800874868116459,11.54174895259958,13.367862842181387,15.105330426443688,20.991445099658836,23.987690219458113,36.89459227397807,33.52603267183688,48.01083896104402,45.652847239545196,48.02856822210792,44.97913531911695,57.566910674486685,73.68280898157273,73.41687006561422,66.289707117926,64.4635932283442,58.57747855512904,53.89695363425917,49.35826280190051,53.87922437319527,53.028219842128024,54.428831466176206,50.9361670365877,55.95354791767169,40.7063834027168,48.790926447855675,48.89730201423908,54.942980037029336,45.05005236337255,39.46533512824372,41.007780840803115,38.50795503079306,47.4966903901909,44.855030491669645,47.79808782827722,34.82026872950165,35.582626955249395,29.519219671395238,27.515813171174422,33.366469322261764,40.24542261505537,42.337475420595695,38.45476724760137,35.03301986226846,34.11109828694561,34.23520311439291,31.203499472465836,35.440792866738185,31.34533356097705,31.611272476935564,34.07563976481781,32.019045481405286,39.50079365037152,22.81755898924064,42.709789902937615,42.16018280995668,57.30097175852817,37.816513849300925,33.38419858332566,39.589439955691034,44.44725748719991,47.088917385721174,38.862540252071085,40.6886541416529,37.727867543981425,31.327604299913144,27.285332777343708,39.74900330526614,49.464638368283914,51.02481334190721,41.362366062081136,35.866295132271816,46.113808027206616,59.44621234726021,71.64394395922412,70.81066868922078,66.57337529494842,60.56315579428597,57.47826436916719,60.86455323237228,73.84237233114784,54.41110220511231,63.82533983004377,79.48027734946838,115.2224676542929,112.66945406109113,116.25076479599913,126.78194586795635],[0.10505131362728266,0.10505131362728266,0.315153940881848,0.21010262725456533,0.78788485220462,0.9979874794591853,1.3131414203410334,1.103038793086468,1.3656670771546746,2.1535519293592946,3.099013752004839,5.3576169949914165,8.141476806114406,14.339504310124084,18.436505541588108,20.327429186879197,15.547594416837835,14.654658251005932,17.963774630265334,28.153752052111756,30.937611863234746,30.464880951911976,33.14368944940769,45.4872188006134,60.19440270843297,53.10343903859139,43.491243841695024,33.51136904710317,41.39021756914937,38.60635775802638,42.91346161674497,38.291203817144535,43.70134646894959,38.02857553307633,39.49929392385828,35.402292692394255,39.28919129660372,37.2406906808717,40.497281403317466,34.24672824249415,40.234653119249266,35.875023603717025,42.4407307054222,34.08915127205322,33.19621510622132,40.54980706013111,53.996375204423295,69.96417487577025,70.75205972797488,73.5884451959115,62.61058292186046,45.32964183017247,36.715434112735295,42.91346161674497,96.59468288028641,120.54638238730686,128.26765393891213,88.24310344691744,54.04890086123694,39.97202483518105,27.5759698271617,39.44676826704464,43.59629515532231,46.69530890732714,57.935799465446394,70.54195710072031,72.74803468689325,60.667133619755745,45.119539202917906,48.21855295492275,36.19017754459888,54.67920874300063,57.252965926869045,60.08935139480568,49.89937397295927,53.366067322659596,66.02475061474716,62.19037766735134,63.71362171494693,61.77017241284221,60.98228756063759,56.30750410422351,58.82873563127829,66.18232758518809,69.70154659170205,77.16018985923911,95.01891317587717,95.38659277357267,82.25517857016233,60.14187705161933,65.60454536023802,66.23485324200172,74.79653530262526,78.99858784771656,88.24310344691744,83.7258969609443,50.5822075115366,55.93982450652802,52.683233784082255,99.4835940050367,106.83718595894648,120.231228446425,89.87139880814033]]},\"selected\":{\"id\":\"1707\"},\"selection_policy\":{\"id\":\"1708\"}},\"id\":\"1685\",\"type\":\"ColumnDataSource\"},{\"attributes\":{},\"id\":\"1708\",\"type\":\"UnionRenderers\"},{\"attributes\":{},\"id\":\"1707\",\"type\":\"Selection\"},{\"attributes\":{\"line_color\":{\"field\":\"color\"},\"line_width\":{\"value\":5},\"xs\":{\"field\":\"x\"},\"ys\":{\"field\":\"y\"}},\"id\":\"1687\",\"type\":\"MultiLine\"},{\"attributes\":{\"text\":\"Comparing New Cases as of Jun 17\"},\"id\":\"1655\",\"type\":\"Title\"},{\"attributes\":{},\"id\":\"1677\",\"type\":\"HelpTool\"},{\"attributes\":{},\"id\":\"1676\",\"type\":\"ResetTool\"},{\"attributes\":{},\"id\":\"1692\",\"type\":\"BasicTickFormatter\"},{\"attributes\":{},\"id\":\"1675\",\"type\":\"SaveTool\"},{\"attributes\":{\"index\":2,\"label\":{\"value\":\"Tennessee\"},\"renderers\":[{\"id\":\"1689\"}]},\"id\":\"1700\",\"type\":\"LegendItem\"},{\"attributes\":{\"axis\":{\"id\":\"1668\"},\"dimension\":1,\"grid_line_color\":null,\"ticker\":null},\"id\":\"1671\",\"type\":\"Grid\"},{\"attributes\":{},\"id\":\"1657\",\"type\":\"DataRange1d\"},{\"attributes\":{\"end\":141.09441933280334,\"start\":-3.026207570997269},\"id\":\"1653\",\"type\":\"Range1d\"},{\"attributes\":{\"data_source\":{\"id\":\"1685\"},\"glyph\":{\"id\":\"1687\"},\"hover_glyph\":null,\"muted_glyph\":null,\"nonselection_glyph\":{\"id\":\"1688\"},\"selection_glyph\":null,\"view\":{\"id\":\"1690\"}},\"id\":\"1689\",\"type\":\"GlyphRenderer\"},{\"attributes\":{\"overlay\":{\"id\":\"1696\"}},\"id\":\"1674\",\"type\":\"BoxZoomTool\"},{\"attributes\":{\"index\":1,\"label\":{\"value\":\"Florida\"},\"renderers\":[{\"id\":\"1689\"}]},\"id\":\"1698\",\"type\":\"LegendItem\"},{\"attributes\":{\"axis_label\":\"Daily Cases per 1M (3DMA)\",\"axis_label_text_font_size\":\"11pt\",\"formatter\":{\"id\":\"1692\"},\"ticker\":{\"id\":\"1669\"}},\"id\":\"1668\",\"type\":\"LinearAxis\"},{\"attributes\":{\"bottom_units\":\"screen\",\"fill_alpha\":0.5,\"fill_color\":\"lightgrey\",\"left_units\":\"screen\",\"level\":\"overlay\",\"line_alpha\":1.0,\"line_color\":\"black\",\"line_dash\":[4,4],\"line_width\":2,\"render_mode\":\"css\",\"right_units\":\"screen\",\"top_units\":\"screen\"},\"id\":\"1696\",\"type\":\"BoxAnnotation\"},{\"attributes\":{},\"id\":\"1669\",\"type\":\"BasicTicker\"},{\"attributes\":{},\"id\":\"1662\",\"type\":\"LinearScale\"},{\"attributes\":{},\"id\":\"1673\",\"type\":\"WheelZoomTool\"},{\"attributes\":{\"line_alpha\":{\"value\":0.1},\"line_color\":{\"field\":\"color\"},\"line_width\":{\"value\":5},\"xs\":{\"field\":\"x\"},\"ys\":{\"field\":\"y\"}},\"id\":\"1688\",\"type\":\"MultiLine\"},{\"attributes\":{\"axis_label\":\"Days Since March 01, 2020\",\"axis_label_text_font_size\":\"11pt\",\"formatter\":{\"id\":\"1694\"},\"major_tick_line_color\":null,\"ticker\":{\"id\":\"1665\"}},\"id\":\"1664\",\"type\":\"LinearAxis\"},{\"attributes\":{\"index\":0,\"label\":{\"value\":\"Georgia\"},\"renderers\":[{\"id\":\"1689\"}]},\"id\":\"1699\",\"type\":\"LegendItem\"},{\"attributes\":{\"background_fill_alpha\":0.0,\"border_line_alpha\":0.0,\"border_line_color\":\"black\",\"items\":[{\"id\":\"1698\"},{\"id\":\"1699\"},{\"id\":\"1700\"}],\"location\":\"top_left\"},\"id\":\"1697\",\"type\":\"Legend\"},{\"attributes\":{},\"id\":\"1694\",\"type\":\"BasicTickFormatter\"},{\"attributes\":{},\"id\":\"1660\",\"type\":\"LinearScale\"},{\"attributes\":{\"axis\":{\"id\":\"1664\"},\"grid_line_color\":null,\"ticker\":null},\"id\":\"1667\",\"type\":\"Grid\"},{\"attributes\":{\"source\":{\"id\":\"1685\"}},\"id\":\"1690\",\"type\":\"CDSView\"},{\"attributes\":{\"active_drag\":\"auto\",\"active_inspect\":\"auto\",\"active_multi\":null,\"active_scroll\":\"auto\",\"active_tap\":\"auto\",\"tools\":[{\"id\":\"1672\"},{\"id\":\"1673\"},{\"id\":\"1674\"},{\"id\":\"1675\"},{\"id\":\"1676\"},{\"id\":\"1677\"}]},\"id\":\"1678\",\"type\":\"Toolbar\"},{\"attributes\":{},\"id\":\"1665\",\"type\":\"BasicTicker\"},{\"attributes\":{},\"id\":\"1672\",\"type\":\"PanTool\"}],\"root_ids\":[\"1654\"]},\"title\":\"Bokeh Application\",\"version\":\"2.0.0\"}};\n",
       "  var render_items = [{\"docid\":\"fd8d15e5-328c-4c5e-80e3-5a25127e557a\",\"root_ids\":[\"1654\"],\"roots\":{\"1654\":\"76be85e4-710b-4e02-b582-69a36907603b\"}}];\n",
       "  root.Bokeh.embed.embed_items_notebook(docs_json, render_items);\n",
       "\n",
       "  }\n",
       "  if (root.Bokeh !== undefined) {\n",
       "    embed_document(root);\n",
       "  } else {\n",
       "    var attempts = 0;\n",
       "    var timer = setInterval(function(root) {\n",
       "      if (root.Bokeh !== undefined) {\n",
       "        clearInterval(timer);\n",
       "        embed_document(root);\n",
       "      } else {\n",
       "        attempts++;\n",
       "        if (attempts > 100) {\n",
       "          clearInterval(timer);\n",
       "          console.log(\"Bokeh: ERROR: Unable to run BokehJS code because BokehJS library is missing\");\n",
       "        }\n",
       "      }\n",
       "    }, 10, root)\n",
       "  }\n",
       "})(window);"
      ],
      "application/vnd.bokehjs_exec.v0+json": ""
     },
     "metadata": {
      "application/vnd.bokehjs_exec.v0+json": {
       "id": "1654"
      }
     },
     "output_type": "display_data"
    },
    {
     "data": {
      "text/html": [
       "\n",
       "\n",
       "\n",
       "\n",
       "\n",
       "\n",
       "  <div class=\"bk-root\" id=\"7023ade2-da94-4dda-abb7-3c37549b2df4\" data-root-id=\"1887\"></div>\n"
      ]
     },
     "metadata": {},
     "output_type": "display_data"
    },
    {
     "data": {
      "application/javascript": [
       "(function(root) {\n",
       "  function embed_document(root) {\n",
       "    \n",
       "  var docs_json = {\"94b8d3d1-b65d-4e41-854c-7859ff56053d\":{\"roots\":{\"references\":[{\"attributes\":{\"background_fill_alpha\":0.02,\"background_fill_color\":\"#6883BA\",\"below\":[{\"id\":\"1897\"}],\"border_fill_alpha\":0.05,\"border_fill_color\":\"#6883BA\",\"center\":[{\"id\":\"1900\"},{\"id\":\"1904\"},{\"id\":\"1930\"}],\"left\":[{\"id\":\"1901\"}],\"min_border\":20,\"outline_line_color\":\"#6883BA\",\"plot_height\":325,\"plot_width\":525,\"renderers\":[{\"id\":\"1922\"}],\"title\":{\"id\":\"1888\"},\"toolbar\":{\"id\":\"1911\"},\"toolbar_location\":null,\"x_range\":{\"id\":\"1890\"},\"x_scale\":{\"id\":\"1893\"},\"y_range\":{\"id\":\"1886\"},\"y_scale\":{\"id\":\"1895\"}},\"id\":\"1887\",\"subtype\":\"Figure\",\"type\":\"Plot\"},{\"attributes\":{},\"id\":\"1909\",\"type\":\"ResetTool\"},{\"attributes\":{\"data_source\":{\"id\":\"1918\"},\"glyph\":{\"id\":\"1920\"},\"hover_glyph\":null,\"muted_glyph\":null,\"nonselection_glyph\":{\"id\":\"1921\"},\"selection_glyph\":null,\"view\":{\"id\":\"1923\"}},\"id\":\"1922\",\"type\":\"GlyphRenderer\"},{\"attributes\":{\"bottom_units\":\"screen\",\"fill_alpha\":0.5,\"fill_color\":\"lightgrey\",\"left_units\":\"screen\",\"level\":\"overlay\",\"line_alpha\":1.0,\"line_color\":\"black\",\"line_dash\":[4,4],\"line_width\":2,\"render_mode\":\"css\",\"right_units\":\"screen\",\"top_units\":\"screen\"},\"id\":\"1929\",\"type\":\"BoxAnnotation\"},{\"attributes\":{\"index\":0,\"label\":{\"value\":\"Georgia\"},\"renderers\":[{\"id\":\"1922\"}]},\"id\":\"1932\",\"type\":\"LegendItem\"},{\"attributes\":{},\"id\":\"1925\",\"type\":\"BasicTickFormatter\"},{\"attributes\":{\"axis_label\":\"Daily Deaths per 1M (3DMA)\",\"axis_label_text_font_size\":\"11pt\",\"formatter\":{\"id\":\"1925\"},\"ticker\":{\"id\":\"1902\"}},\"id\":\"1901\",\"type\":\"LinearAxis\"},{\"attributes\":{\"source\":{\"id\":\"1918\"}},\"id\":\"1923\",\"type\":\"CDSView\"},{\"attributes\":{\"index\":2,\"label\":{\"value\":\"Tennessee\"},\"renderers\":[{\"id\":\"1922\"}]},\"id\":\"1933\",\"type\":\"LegendItem\"},{\"attributes\":{},\"id\":\"1895\",\"type\":\"LinearScale\"},{\"attributes\":{},\"id\":\"1905\",\"type\":\"PanTool\"},{\"attributes\":{},\"id\":\"1906\",\"type\":\"WheelZoomTool\"},{\"attributes\":{\"end\":6.850644492186774},\"id\":\"1886\",\"type\":\"Range1d\"},{\"attributes\":{\"axis\":{\"id\":\"1901\"},\"dimension\":1,\"grid_line_color\":null,\"ticker\":null},\"id\":\"1904\",\"type\":\"Grid\"},{\"attributes\":{\"axis\":{\"id\":\"1897\"},\"grid_line_color\":null,\"ticker\":null},\"id\":\"1900\",\"type\":\"Grid\"},{\"attributes\":{\"active_drag\":\"auto\",\"active_inspect\":\"auto\",\"active_multi\":null,\"active_scroll\":\"auto\",\"active_tap\":\"auto\",\"tools\":[{\"id\":\"1905\"},{\"id\":\"1906\"},{\"id\":\"1907\"},{\"id\":\"1908\"},{\"id\":\"1909\"},{\"id\":\"1910\"}]},\"id\":\"1911\",\"type\":\"Toolbar\"},{\"attributes\":{},\"id\":\"1908\",\"type\":\"SaveTool\"},{\"attributes\":{},\"id\":\"1898\",\"type\":\"BasicTicker\"},{\"attributes\":{},\"id\":\"1902\",\"type\":\"BasicTicker\"},{\"attributes\":{},\"id\":\"1941\",\"type\":\"UnionRenderers\"},{\"attributes\":{},\"id\":\"1893\",\"type\":\"LinearScale\"},{\"attributes\":{},\"id\":\"1910\",\"type\":\"HelpTool\"},{\"attributes\":{\"axis_label\":\"Days Since March 01, 2020\",\"axis_label_text_font_size\":\"11pt\",\"formatter\":{\"id\":\"1927\"},\"major_tick_line_color\":null,\"ticker\":{\"id\":\"1898\"}},\"id\":\"1897\",\"type\":\"LinearAxis\"},{\"attributes\":{\"line_color\":{\"field\":\"color\"},\"line_width\":{\"value\":5},\"xs\":{\"field\":\"x\"},\"ys\":{\"field\":\"y\"}},\"id\":\"1920\",\"type\":\"MultiLine\"},{\"attributes\":{\"background_fill_alpha\":0.0,\"border_line_alpha\":0.0,\"border_line_color\":\"black\",\"items\":[{\"id\":\"1931\"},{\"id\":\"1932\"},{\"id\":\"1933\"}],\"location\":\"top_left\"},\"id\":\"1930\",\"type\":\"Legend\"},{\"attributes\":{},\"id\":\"1890\",\"type\":\"DataRange1d\"},{\"attributes\":{\"data\":{\"color\":[\"#440154\",\"#30678D\",\"#35B778\"],\"regions\":[\"Georgia\",\"Florida\",\"Tennessee\"],\"x\":[[0,1,2,3,4,5,6,7,8,9,10,11,12,13,14,15,16,17,18,19,20,21,22,23,24,25,26,27,28,29,30,31,32,33,34,35,36,37,38,39,40,41,42,43,44,45,46,47,48,49,50,51,52,53,54,55,56,57,58,59,60,61,62,63,64,65,66,67,68,69,70,71,72,73,74,75,76,77,78,79,80,81,82,83,84,85,86,87,88,89,90,91,92,93,94,95,96,97,98,99,100,101,102,103],[0,1,2,3,4,5,6,7,8,9,10,11,12,13,14,15,16,17,18,19,20,21,22,23,24,25,26,27,28,29,30,31,32,33,34,35,36,37,38,39,40,41,42,43,44,45,46,47,48,49,50,51,52,53,54,55,56,57,58,59,60,61,62,63,64,65,66,67,68,69,70,71,72,73,74,75,76,77,78,79,80,81,82,83,84,85,86,87,88,89,90,91,92,93,94,95,96,97,98,99,100,101,102,103],[0,1,2,3,4,5,6,7,8,9,10,11,12,13,14,15,16,17,18,19,20,21,22,23,24,25,26,27,28,29,30,31,32,33,34,35,36,37,38,39,40,41,42,43,44,45,46,47,48,49,50,51,52,53,54,55,56,57,58,59,60,61,62,63,64,65,66,67,68,69,70,71,72,73,74,75,76,77,78,79,80,81,82,83,84,85,86,87,88,89,90,91,92,93,94,95,96,97,98,99,100,101,102]],\"y\":[[0.0,0.0,0.0,0.0,0.0,0.0,0.03440805872519725,0.03440805872519725,0.03440805872519725,0.0,0.0,0.0,0.30967252852677524,0.41289670470236706,0.44730476342756426,0.44730476342756426,0.41289670470236706,0.6193450570535505,0.5849369983283533,0.7913853506795367,1.101057879206312,0.9978337030307202,1.101057879206312,0.7913853506795367,1.4451384664582845,2.030075464786638,2.615012463114991,2.511788286939399,2.1332996409622296,1.6515868188094682,1.5483626426338764,4.404231516825248,5.195616867504786,5.1612088087795875,2.993501109092161,2.270931875863019,1.8580351711606518,1.6515868188094682,2.511788286939399,4.0945589882984725,4.232191223199262,5.12680075005439,4.163375105748868,3.4408058725197255,2.855868874191372,4.335415399374854,5.12680075005439,4.782720162802418,3.1999494614433446,2.3397479933134133,1.37632234900789,2.718236639290583,4.197783164474064,6.227858629260703,5.12680075005439,4.404231516825248,2.7870527567409775,1.9612593473362434,2.3397479933134133,3.922518694672487,4.6106798691764315,3.922518694672487,3.0623172265425556,3.0623172265425556,2.37415605203861,2.202115758412624,2.098891582237032,3.4408058725197255,2.9590930503669637,3.3031736376189365,2.993501109092161,2.718236639290583,2.9246849916417665,2.477380228214202,2.7870527567409775,3.8537025772220925,4.163375105748868,4.266599281924459,2.4085641107638076,1.5483626426338764,2.0644835235118353,2.855868874191372,4.541863751726038,3.544030048695317,3.3031736376189365,2.75264469801578,3.4408058725197255,3.406397813794528,2.7870527567409775,2.511788286939399,2.477380228214202,1.7548109949850599,1.1354659379315095,1.1698739966567067,3.819294518496895,5.12680075005439,5.746145807107941,3.0967252852677527,3.0623172265425556,2.442972169489005,2.615012463114991,2.615012463114991,2.855868874191372,4.266599281924459],[0.0,0.0,0.0,0.0,0.03545852212780209,0.03545852212780209,0.03545852212780209,0.017729261063901044,0.03545852212780209,0.03545852212780209,0.05318778319170313,0.05318778319170313,0.07091704425560418,0.07091704425560418,0.08864630531950522,0.08864630531950522,0.07091704425560418,0.10637556638340626,0.1595633495751094,0.24820965489461463,0.2836681770224167,0.5673363540448334,0.49641930978922927,0.5141485708531301,0.40777300446972403,0.5496070929809325,1.1524019691535679,1.5247164514954898,1.8438431506457085,1.5956334957510938,1.294236057664776,1.8615724117096095,1.6133627568149949,2.092052805540323,1.6665505400066982,2.287074677243235,1.9679479780930156,1.6488212789427972,1.7551968453262035,2.5530135932017504,2.8898695534158705,2.8721402923519688,2.5707428542656516,2.393450243626641,1.8970309338374116,1.8083846285179066,2.287074677243235,3.0671621640548805,3.1026206861826826,2.9253280755436726,2.03886502234862,1.241048274473073,1.4006116240481825,2.588472115329552,3.3508303410772973,2.836681770224167,2.6239306374573546,2.0034065002208177,1.9324894559652142,2.6239306374573546,3.5813107349080107,4.325939699591855,3.5813107349080107,3.1912669915021876,2.19842837192373,1.1878604912813697,1.1346727080896668,1.8970309338374116,2.535284332137849,2.5175550710739487,2.5175550710739487,1.7906553674540053,1.4537994072398854,1.577904234687193,2.19842837192373,2.6416598985212554,2.464367287882245,2.464367287882245,1.6665505400066982,1.1169434470257658,0.4609607876614271,1.4892579293676877,2.03886502234862,2.7834939870324638,2.3048039383071357,1.5601749736232917,0.85100453106725,1.4715286683037867,2.0565942834125206,2.6239306374573546,2.340262460434938,2.180699110859828,1.684279801070599,0.9396508363867554,1.3828823629842815,1.8261138895818076,2.482096548946146,1.542445712559391,1.3828823629842815,1.3828823629842815,1.4892579293676877,1.1169434470257658,1.223319013409172,1.5601749736232917],[0.0,0.0,0.0,0.0,0.0,0.0,0.0,0.0,0.0,0.0,0.0,0.0,0.0,0.0,0.0,0.10505131362728266,0.10505131362728266,0.157576970440924,0.05252565681364133,0.21010262725456533,0.157576970440924,0.21010262725456533,0.36767959769548936,0.8929361658319027,0.8929361658319027,0.9979874794591853,0.7353591953909787,0.9979874794591853,0.630307881763696,1.4707183907819574,1.5232440475955986,1.8383979884774466,1.5232440475955986,1.3656670771546746,1.1555644499001092,0.36767959769548936,0.5777822249500546,1.2080901067137506,1.7858723316638054,1.6808210180365226,0.945461822645544,0.5252565681364133,0.36767959769548936,0.5252565681364133,0.630307881763696,0.945461822645544,0.945461822645544,0.5777822249500546,0.630307881763696,0.5777822249500546,0.8404105090182613,0.5252565681364133,0.7353591953909787,0.78788485220462,0.8404105090182613,0.7353591953909787,0.5777822249500546,0.78788485220462,0.8929361658319027,1.5232440475955986,0.945461822645544,0.78788485220462,0.157576970440924,0.315153940881848,0.5252565681364133,1.2080901067137506,1.57576970440924,1.890923645291088,1.3131414203410334,1.1555644499001092,0.5777822249500546,0.5777822249500546,0.5252565681364133,0.5777822249500546,0.630307881763696,0.5252565681364133,1.0505131362728266,1.2080901067137506,1.2080901067137506,0.7353591953909787,0.8929361658319027,0.945461822645544,0.8929361658319027,0.5777822249500546,0.42020525450913065,0.36767959769548936,0.8929361658319027,1.260615763527392,1.7858723316638054,1.418192733968316,1.5232440475955986,0.8929361658319027,0.6828335385773373,0.945461822645544,0.945461822645544,1.0505131362728266,0.315153940881848,1.6808210180365226,1.6282953612228814,1.7858723316638054,0.78788485220462,1.103038793086468,1.1555644499001092]]},\"selected\":{\"id\":\"1940\"},\"selection_policy\":{\"id\":\"1941\"}},\"id\":\"1918\",\"type\":\"ColumnDataSource\"},{\"attributes\":{},\"id\":\"1940\",\"type\":\"Selection\"},{\"attributes\":{\"index\":1,\"label\":{\"value\":\"Florida\"},\"renderers\":[{\"id\":\"1922\"}]},\"id\":\"1931\",\"type\":\"LegendItem\"},{\"attributes\":{\"text\":\"Comparing New Fatalities as of Jun 17\"},\"id\":\"1888\",\"type\":\"Title\"},{\"attributes\":{\"line_alpha\":{\"value\":0.1},\"line_color\":{\"field\":\"color\"},\"line_width\":{\"value\":5},\"xs\":{\"field\":\"x\"},\"ys\":{\"field\":\"y\"}},\"id\":\"1921\",\"type\":\"MultiLine\"},{\"attributes\":{\"overlay\":{\"id\":\"1929\"}},\"id\":\"1907\",\"type\":\"BoxZoomTool\"},{\"attributes\":{},\"id\":\"1927\",\"type\":\"BasicTickFormatter\"}],\"root_ids\":[\"1887\"]},\"title\":\"Bokeh Application\",\"version\":\"2.0.0\"}};\n",
       "  var render_items = [{\"docid\":\"94b8d3d1-b65d-4e41-854c-7859ff56053d\",\"root_ids\":[\"1887\"],\"roots\":{\"1887\":\"7023ade2-da94-4dda-abb7-3c37549b2df4\"}}];\n",
       "  root.Bokeh.embed.embed_items_notebook(docs_json, render_items);\n",
       "\n",
       "  }\n",
       "  if (root.Bokeh !== undefined) {\n",
       "    embed_document(root);\n",
       "  } else {\n",
       "    var attempts = 0;\n",
       "    var timer = setInterval(function(root) {\n",
       "      if (root.Bokeh !== undefined) {\n",
       "        clearInterval(timer);\n",
       "        embed_document(root);\n",
       "      } else {\n",
       "        attempts++;\n",
       "        if (attempts > 100) {\n",
       "          clearInterval(timer);\n",
       "          console.log(\"Bokeh: ERROR: Unable to run BokehJS code because BokehJS library is missing\");\n",
       "        }\n",
       "      }\n",
       "    }, 10, root)\n",
       "  }\n",
       "})(window);"
      ],
      "application/vnd.bokehjs_exec.v0+json": ""
     },
     "metadata": {
      "application/vnd.bokehjs_exec.v0+json": {
       "id": "1887"
      }
     },
     "output_type": "display_data"
    },
    {
     "data": {
      "text/html": [
       "\n",
       "\n",
       "\n",
       "\n",
       "\n",
       "\n",
       "  <div class=\"bk-root\" id=\"3ed6e4fb-12aa-4b60-a41e-af4bc368215a\" data-root-id=\"2128\"></div>\n"
      ]
     },
     "metadata": {},
     "output_type": "display_data"
    },
    {
     "data": {
      "application/javascript": [
       "(function(root) {\n",
       "  function embed_document(root) {\n",
       "    \n",
       "  var docs_json = {\"6e3a08cc-3ada-46bb-b185-4ce9433bbaa5\":{\"roots\":{\"references\":[{\"attributes\":{\"background_fill_alpha\":0.02,\"background_fill_color\":\"#6883BA\",\"below\":[{\"id\":\"2138\"}],\"border_fill_alpha\":0.05,\"border_fill_color\":\"#6883BA\",\"center\":[{\"id\":\"2141\"},{\"id\":\"2145\"},{\"id\":\"2171\"}],\"left\":[{\"id\":\"2142\"}],\"min_border\":20,\"outline_line_color\":\"#6883BA\",\"plot_height\":325,\"plot_width\":500,\"renderers\":[{\"id\":\"2163\"}],\"title\":{\"id\":\"2129\"},\"toolbar\":{\"id\":\"2152\"},\"toolbar_location\":null,\"x_range\":{\"id\":\"2131\"},\"x_scale\":{\"id\":\"2134\"},\"y_range\":{\"id\":\"2127\"},\"y_scale\":{\"id\":\"2136\"}},\"id\":\"2128\",\"subtype\":\"Figure\",\"type\":\"Plot\"},{\"attributes\":{\"line_color\":{\"field\":\"color\"},\"line_width\":{\"value\":5},\"xs\":{\"field\":\"x\"},\"ys\":{\"field\":\"y\"}},\"id\":\"2161\",\"type\":\"MultiLine\"},{\"attributes\":{},\"id\":\"2181\",\"type\":\"Selection\"},{\"attributes\":{\"end\":1.8634,\"start\":0.32017},\"id\":\"2127\",\"type\":\"Range1d\"},{\"attributes\":{\"data_source\":{\"id\":\"2159\"},\"glyph\":{\"id\":\"2161\"},\"hover_glyph\":null,\"muted_glyph\":null,\"nonselection_glyph\":{\"id\":\"2162\"},\"selection_glyph\":null,\"view\":{\"id\":\"2164\"}},\"id\":\"2163\",\"type\":\"GlyphRenderer\"},{\"attributes\":{\"axis_label\":\"Change in Driving Mobility - Apple\",\"axis_label_text_font_size\":\"11pt\",\"formatter\":{\"id\":\"2166\"},\"ticker\":{\"id\":\"2143\"}},\"id\":\"2142\",\"type\":\"LinearAxis\"},{\"attributes\":{},\"id\":\"2150\",\"type\":\"ResetTool\"},{\"attributes\":{\"index\":0,\"label\":{\"value\":\"Georgia\"},\"renderers\":[{\"id\":\"2163\"}]},\"id\":\"2173\",\"type\":\"LegendItem\"},{\"attributes\":{},\"id\":\"2166\",\"type\":\"BasicTickFormatter\"},{\"attributes\":{},\"id\":\"2151\",\"type\":\"HelpTool\"},{\"attributes\":{\"axis\":{\"id\":\"2142\"},\"dimension\":1,\"grid_line_color\":null,\"ticker\":null},\"id\":\"2145\",\"type\":\"Grid\"},{\"attributes\":{},\"id\":\"2168\",\"type\":\"BasicTickFormatter\"},{\"attributes\":{},\"id\":\"2136\",\"type\":\"LinearScale\"},{\"attributes\":{\"text\":\"Apple Driving Queries as of Jun 17\"},\"id\":\"2129\",\"type\":\"Title\"},{\"attributes\":{},\"id\":\"2182\",\"type\":\"UnionRenderers\"},{\"attributes\":{\"bottom_units\":\"screen\",\"fill_alpha\":0.5,\"fill_color\":\"lightgrey\",\"left_units\":\"screen\",\"level\":\"overlay\",\"line_alpha\":1.0,\"line_color\":\"black\",\"line_dash\":[4,4],\"line_width\":2,\"render_mode\":\"css\",\"right_units\":\"screen\",\"top_units\":\"screen\"},\"id\":\"2170\",\"type\":\"BoxAnnotation\"},{\"attributes\":{\"index\":1,\"label\":{\"value\":\"Florida\"},\"renderers\":[{\"id\":\"2163\"}]},\"id\":\"2172\",\"type\":\"LegendItem\"},{\"attributes\":{},\"id\":\"2143\",\"type\":\"BasicTicker\"},{\"attributes\":{},\"id\":\"2149\",\"type\":\"SaveTool\"},{\"attributes\":{},\"id\":\"2131\",\"type\":\"DataRange1d\"},{\"attributes\":{\"active_drag\":\"auto\",\"active_inspect\":\"auto\",\"active_multi\":null,\"active_scroll\":\"auto\",\"active_tap\":\"auto\",\"tools\":[{\"id\":\"2146\"},{\"id\":\"2147\"},{\"id\":\"2148\"},{\"id\":\"2149\"},{\"id\":\"2150\"},{\"id\":\"2151\"}]},\"id\":\"2152\",\"type\":\"Toolbar\"},{\"attributes\":{},\"id\":\"2147\",\"type\":\"WheelZoomTool\"},{\"attributes\":{},\"id\":\"2139\",\"type\":\"BasicTicker\"},{\"attributes\":{\"axis\":{\"id\":\"2138\"},\"grid_line_color\":null,\"ticker\":null},\"id\":\"2141\",\"type\":\"Grid\"},{\"attributes\":{\"source\":{\"id\":\"2159\"}},\"id\":\"2164\",\"type\":\"CDSView\"},{\"attributes\":{\"axis_label\":\"Days Since March 01, 2020\",\"axis_label_text_font_size\":\"11pt\",\"formatter\":{\"id\":\"2168\"},\"major_tick_line_color\":null,\"ticker\":{\"id\":\"2139\"}},\"id\":\"2138\",\"type\":\"LinearAxis\"},{\"attributes\":{\"overlay\":{\"id\":\"2170\"}},\"id\":\"2148\",\"type\":\"BoxZoomTool\"},{\"attributes\":{},\"id\":\"2146\",\"type\":\"PanTool\"},{\"attributes\":{},\"id\":\"2134\",\"type\":\"LinearScale\"},{\"attributes\":{\"background_fill_alpha\":0.0,\"border_line_alpha\":0.0,\"border_line_color\":\"black\",\"items\":[{\"id\":\"2172\"},{\"id\":\"2173\"},{\"id\":\"2174\"}],\"location\":\"top_center\"},\"id\":\"2171\",\"type\":\"Legend\"},{\"attributes\":{\"data\":{\"color\":[\"#440154\",\"#30678D\",\"#35B778\"],\"regions\":[\"Georgia\",\"Florida\",\"Tennessee\"],\"x\":[[0,1,2,3,4,5,6,7,8,9,10,11,12,13,14,15,16,17,18,19,20,21,22,23,24,25,26,27,28,29,30,31,32,33,34,35,36,37,38,39,40,41,42,43,44,45,46,47,48,49,50,51,52,53,54,55,56,57,58,59,60,61,62,63,64,65,66,67,68,69,70,71,72,73,74,75,76,77,78,79,80,81,82,83,84,85,86,87,88,89,90,91,92,93,94,95,96,97,98,99,100,101,102,103,104,105,106,107,108],[0,1,2,3,4,5,6,7,8,9,10,11,12,13,14,15,16,17,18,19,20,21,22,23,24,25,26,27,28,29,30,31,32,33,34,35,36,37,38,39,40,41,42,43,44,45,46,47,48,49,50,51,52,53,54,55,56,57,58,59,60,61,62,63,64,65,66,67,68,69,70,71,72,73,74,75,76,77,78,79,80,81,82,83,84,85,86,87,88,89,90,91,92,93,94,95,96,97,98,99,100,101,102,103,104,105,106,107,108],[0,1,2,3,4,5,6,7,8,9,10,11,12,13,14,15,16,17,18,19,20,21,22,23,24,25,26,27,28,29,30,31,32,33,34,35,36,37,38,39,40,41,42,43,44,45,46,47,48,49,50,51,52,53,54,55,56,57,58,59,60,61,62,63,64,65,66,67,68,69,70,71,72,73,74,75,76,77,78,79,80,81,82,83,84,85,86,87,88,89,90,91,92,93,94,95,96,97,98,99,100,101,102,103,104,105,106,107,108]],\"y\":[[1.044,1.089,1.097,1.112,1.1740000000000002,1.547,1.51,1.0490000000000002,1.15,1.127,1.168,1.16,1.275,1.178,0.821,0.88,0.821,0.8009999999999999,0.8190000000000001,0.87,0.778,0.521,0.611,0.612,0.674,0.6759999999999999,0.75,0.664,0.505,0.636,0.5870000000000001,0.64,0.654,0.653,0.521,0.433,0.583,0.586,0.599,0.637,0.7040000000000001,0.634,0.379,0.6409999999999999,0.6659999999999999,0.7020000000000001,0.7290000000000001,0.8190000000000001,0.758,0.488,0.73,0.7340000000000001,0.743,0.6679999999999999,0.884,0.8320000000000001,0.648,0.785,0.813,0.777,0.858,1.013,0.986,0.787,0.887,0.922,0.9329999999999999,0.981,1.043,1.095,0.8059999999999999,0.8859999999999999,0.966,1.046,1.093,1.268,1.255,0.977,1.046,1.133,1.102,1.209,1.4180000000000001,1.3559999999999999,1.062,1.024,1.131,1.133,1.2209999999999999,1.423,1.376,1.062,1.183,1.186,1.214,1.2790000000000001,1.432,1.456,1.135,1.227,1.2670000000000001,1.275,1.374,1.374,1.577,1.624,1.207,1.278,1.3030000000000002],[1.002,1.1,1.135,1.173,1.219,1.3730000000000002,1.3530000000000002,0.9940000000000001,1.1420000000000001,1.155,1.161,1.158,1.24,1.111,0.8390000000000001,0.917,0.845,0.7759999999999999,0.74,0.753,0.598,0.446,0.552,0.546,0.544,0.541,0.564,0.47,0.373,0.49200000000000005,0.496,0.504,0.505,0.502,0.42,0.317,0.45299999999999996,0.47200000000000003,0.479,0.496,0.544,0.469,0.318,0.49200000000000005,0.502,0.532,0.531,0.606,0.52,0.434,0.544,0.564,0.574,0.584,0.61,0.5920000000000001,0.456,0.597,0.612,0.627,0.626,0.759,0.693,0.561,0.69,0.7290000000000001,0.7340000000000001,0.76,0.87,0.8270000000000001,0.57,0.649,0.728,0.807,0.828,0.932,0.904,0.7340000000000001,0.8109999999999999,0.877,0.894,0.929,1.1,1.05,0.81,0.7509999999999999,0.9129999999999999,0.966,0.9740000000000001,1.111,1.1059999999999999,0.8390000000000001,0.941,0.95,0.9420000000000001,0.97,1.13,1.044,0.8190000000000001,0.985,1.02,1.044,1.083,1.083,1.261,1.217,0.946,1.0590000000000002,1.085],[1.053,1.097,1.276,1.2590000000000001,1.308,1.489,1.4880000000000002,1.09,1.173,1.171,1.1640000000000001,1.135,1.286,1.1340000000000001,0.8290000000000001,0.9059999999999999,0.863,0.8140000000000001,0.8220000000000001,0.8320000000000001,0.758,0.534,0.628,0.579,0.64,0.7020000000000001,0.764,0.67,0.55,0.645,0.59,0.645,0.665,0.698,0.604,0.486,0.626,0.626,0.643,0.6809999999999999,0.737,0.653,0.37,0.662,0.679,0.7440000000000001,0.77,0.86,0.792,0.561,0.785,0.789,0.779,0.762,0.912,0.762,0.626,0.831,0.8440000000000001,0.816,0.9059999999999999,1.062,1.0190000000000001,0.784,0.9420000000000001,0.955,0.9690000000000001,1.036,1.078,1.137,0.818,0.904,0.9890000000000001,1.075,1.205,1.337,1.294,0.9740000000000001,1.13,1.16,1.19,1.276,1.449,1.3980000000000001,1.124,1.099,1.228,1.228,1.311,1.518,1.5090000000000001,1.1540000000000001,1.2770000000000001,1.2770000000000001,1.296,1.3559999999999999,1.5530000000000002,1.564,1.217,1.301,1.3130000000000002,1.3840000000000001,1.4780000000000002,1.4780000000000002,1.694,1.692,1.278,1.399,1.412]]},\"selected\":{\"id\":\"2181\"},\"selection_policy\":{\"id\":\"2182\"}},\"id\":\"2159\",\"type\":\"ColumnDataSource\"},{\"attributes\":{\"line_alpha\":{\"value\":0.1},\"line_color\":{\"field\":\"color\"},\"line_width\":{\"value\":5},\"xs\":{\"field\":\"x\"},\"ys\":{\"field\":\"y\"}},\"id\":\"2162\",\"type\":\"MultiLine\"},{\"attributes\":{\"index\":2,\"label\":{\"value\":\"Tennessee\"},\"renderers\":[{\"id\":\"2163\"}]},\"id\":\"2174\",\"type\":\"LegendItem\"}],\"root_ids\":[\"2128\"]},\"title\":\"Bokeh Application\",\"version\":\"2.0.0\"}};\n",
       "  var render_items = [{\"docid\":\"6e3a08cc-3ada-46bb-b185-4ce9433bbaa5\",\"root_ids\":[\"2128\"],\"roots\":{\"2128\":\"3ed6e4fb-12aa-4b60-a41e-af4bc368215a\"}}];\n",
       "  root.Bokeh.embed.embed_items_notebook(docs_json, render_items);\n",
       "\n",
       "  }\n",
       "  if (root.Bokeh !== undefined) {\n",
       "    embed_document(root);\n",
       "  } else {\n",
       "    var attempts = 0;\n",
       "    var timer = setInterval(function(root) {\n",
       "      if (root.Bokeh !== undefined) {\n",
       "        clearInterval(timer);\n",
       "        embed_document(root);\n",
       "      } else {\n",
       "        attempts++;\n",
       "        if (attempts > 100) {\n",
       "          clearInterval(timer);\n",
       "          console.log(\"Bokeh: ERROR: Unable to run BokehJS code because BokehJS library is missing\");\n",
       "        }\n",
       "      }\n",
       "    }, 10, root)\n",
       "  }\n",
       "})(window);"
      ],
      "application/vnd.bokehjs_exec.v0+json": ""
     },
     "metadata": {
      "application/vnd.bokehjs_exec.v0+json": {
       "id": "2128"
      }
     },
     "output_type": "display_data"
    },
    {
     "name": "stdout",
     "output_type": "stream",
     "text": [
      "\tCalifornia Florida Washington\n"
     ]
    },
    {
     "data": {
      "text/html": [
       "\n",
       "\n",
       "\n",
       "\n",
       "\n",
       "\n",
       "  <div class=\"bk-root\" id=\"dea3ebda-9bb2-4180-bafd-4a2309deedf2\" data-root-id=\"2377\"></div>\n"
      ]
     },
     "metadata": {},
     "output_type": "display_data"
    },
    {
     "data": {
      "application/javascript": [
       "(function(root) {\n",
       "  function embed_document(root) {\n",
       "    \n",
       "  var docs_json = {\"1550a8b8-7ac8-4914-9175-5ec0a8a81018\":{\"roots\":{\"references\":[{\"attributes\":{\"background_fill_alpha\":0.02,\"background_fill_color\":\"#6883BA\",\"below\":[{\"id\":\"2387\"}],\"border_fill_alpha\":0.05,\"border_fill_color\":\"#6883BA\",\"center\":[{\"id\":\"2390\"},{\"id\":\"2394\"},{\"id\":\"2420\"}],\"left\":[{\"id\":\"2391\"}],\"min_border\":20,\"outline_line_color\":\"#6883BA\",\"plot_height\":325,\"plot_width\":525,\"renderers\":[{\"id\":\"2412\"}],\"title\":{\"id\":\"2378\"},\"toolbar\":{\"id\":\"2401\"},\"toolbar_location\":null,\"x_range\":{\"id\":\"2380\"},\"x_scale\":{\"id\":\"2383\"},\"y_range\":{\"id\":\"2376\"},\"y_scale\":{\"id\":\"2385\"}},\"id\":\"2377\",\"subtype\":\"Figure\",\"type\":\"Plot\"},{\"attributes\":{\"index\":2,\"label\":{\"value\":\"California\"},\"renderers\":[{\"id\":\"2412\"}]},\"id\":\"2421\",\"type\":\"LegendItem\"},{\"attributes\":{},\"id\":\"2415\",\"type\":\"BasicTickFormatter\"},{\"attributes\":{\"bottom_units\":\"screen\",\"fill_alpha\":0.5,\"fill_color\":\"lightgrey\",\"left_units\":\"screen\",\"level\":\"overlay\",\"line_alpha\":1.0,\"line_color\":\"black\",\"line_dash\":[4,4],\"line_width\":2,\"render_mode\":\"css\",\"right_units\":\"screen\",\"top_units\":\"screen\"},\"id\":\"2419\",\"type\":\"BoxAnnotation\"},{\"attributes\":{\"data_source\":{\"id\":\"2408\"},\"glyph\":{\"id\":\"2410\"},\"hover_glyph\":null,\"muted_glyph\":null,\"nonselection_glyph\":{\"id\":\"2411\"},\"selection_glyph\":null,\"view\":{\"id\":\"2413\"}},\"id\":\"2412\",\"type\":\"GlyphRenderer\"},{\"attributes\":{\"axis_label\":\"Days Since March 01, 2020\",\"axis_label_text_font_size\":\"11pt\",\"formatter\":{\"id\":\"2417\"},\"major_tick_line_color\":null,\"ticker\":{\"id\":\"2388\"}},\"id\":\"2387\",\"type\":\"LinearAxis\"},{\"attributes\":{},\"id\":\"2380\",\"type\":\"DataRange1d\"},{\"attributes\":{},\"id\":\"2395\",\"type\":\"PanTool\"},{\"attributes\":{\"axis\":{\"id\":\"2391\"},\"dimension\":1,\"grid_line_color\":null,\"ticker\":null},\"id\":\"2394\",\"type\":\"Grid\"},{\"attributes\":{},\"id\":\"2385\",\"type\":\"LinearScale\"},{\"attributes\":{\"source\":{\"id\":\"2408\"}},\"id\":\"2413\",\"type\":\"CDSView\"},{\"attributes\":{},\"id\":\"2400\",\"type\":\"HelpTool\"},{\"attributes\":{\"active_drag\":\"auto\",\"active_inspect\":\"auto\",\"active_multi\":null,\"active_scroll\":\"auto\",\"active_tap\":\"auto\",\"tools\":[{\"id\":\"2395\"},{\"id\":\"2396\"},{\"id\":\"2397\"},{\"id\":\"2398\"},{\"id\":\"2399\"},{\"id\":\"2400\"}]},\"id\":\"2401\",\"type\":\"Toolbar\"},{\"attributes\":{\"line_color\":{\"field\":\"color\"},\"line_width\":{\"value\":5},\"xs\":{\"field\":\"x\"},\"ys\":{\"field\":\"y\"}},\"id\":\"2410\",\"type\":\"MultiLine\"},{\"attributes\":{\"background_fill_alpha\":0.0,\"border_line_alpha\":0.0,\"border_line_color\":\"black\",\"items\":[{\"id\":\"2421\"},{\"id\":\"2422\"},{\"id\":\"2423\"}],\"location\":\"top_left\"},\"id\":\"2420\",\"type\":\"Legend\"},{\"attributes\":{\"axis\":{\"id\":\"2387\"},\"grid_line_color\":null,\"ticker\":null},\"id\":\"2390\",\"type\":\"Grid\"},{\"attributes\":{\"end\":139.46014045475198,\"start\":-3.026207570997269},\"id\":\"2376\",\"type\":\"Range1d\"},{\"attributes\":{},\"id\":\"2398\",\"type\":\"SaveTool\"},{\"attributes\":{},\"id\":\"2396\",\"type\":\"WheelZoomTool\"},{\"attributes\":{},\"id\":\"2388\",\"type\":\"BasicTicker\"},{\"attributes\":{},\"id\":\"2392\",\"type\":\"BasicTicker\"},{\"attributes\":{\"line_alpha\":{\"value\":0.1},\"line_color\":{\"field\":\"color\"},\"line_width\":{\"value\":5},\"xs\":{\"field\":\"x\"},\"ys\":{\"field\":\"y\"}},\"id\":\"2411\",\"type\":\"MultiLine\"},{\"attributes\":{},\"id\":\"2431\",\"type\":\"UnionRenderers\"},{\"attributes\":{\"index\":0,\"label\":{\"value\":\"Florida\"},\"renderers\":[{\"id\":\"2412\"}]},\"id\":\"2422\",\"type\":\"LegendItem\"},{\"attributes\":{},\"id\":\"2399\",\"type\":\"ResetTool\"},{\"attributes\":{\"axis_label\":\"Daily Cases per 1M (3DMA)\",\"axis_label_text_font_size\":\"11pt\",\"formatter\":{\"id\":\"2415\"},\"ticker\":{\"id\":\"2392\"}},\"id\":\"2391\",\"type\":\"LinearAxis\"},{\"attributes\":{\"text\":\"Comparing New Cases as of Jun 17\"},\"id\":\"2378\",\"type\":\"Title\"},{\"attributes\":{\"index\":1,\"label\":{\"value\":\"Washington\"},\"renderers\":[{\"id\":\"2412\"}]},\"id\":\"2423\",\"type\":\"LegendItem\"},{\"attributes\":{\"overlay\":{\"id\":\"2419\"}},\"id\":\"2397\",\"type\":\"BoxZoomTool\"},{\"attributes\":{},\"id\":\"2383\",\"type\":\"LinearScale\"},{\"attributes\":{\"data\":{\"color\":[\"#440154\",\"#30678D\",\"#35B778\"],\"regions\":[\"Florida\",\"Washington\",\"California\"],\"x\":[[0,1,2,3,4,5,6,7,8,9,10,11,12,13,14,15,16,17,18,19,20,21,22,23,24,25,26,27,28,29,30,31,32,33,34,35,36,37,38,39,40,41,42,43,44,45,46,47,48,49,50,51,52,53,54,55,56,57,58,59,60,61,62,63,64,65,66,67,68,69,70,71,72,73,74,75,76,77,78,79,80,81,82,83,84,85,86,87,88,89,90,91,92,93,94,95,96,97,98,99,100,101,102,103],[0,1,2,3,4,5,6,7,8,9,10,11,12,13,14,15,16,17,18,19,20,21,22,23,24,25,26,27,28,29,30,31,32,33,34,35,36,37,38,39,40,41,42,43,44,45,46,47,48,49,50,51,52,53,54,55,56,57,58,59,60,61,62,63,64,65,66,67,68,69,70,71,72,73,74,75,76,77,78,79,80,81,82,83,84,85,86,87,88,89,90,91,92,93,94,95,96,97,98,99,100,101,102,103,104,105,106,107,108,109],[0,1,2,3,4,5,6,7,8,9,10,11,12,13,14,15,16,17,18,19,20,21,22,23,24,25,26,27,28,29,30,31,32,33,34,35,36,37,38,39,40,41,42,43,44,45,46,47,48,49,50,51,52,53,54,55,56,57,58,59,60,61,62,63,64,65,66,67,68,69,70,71,72,73,74,75,76,77,78,79,80,81,82,83,84,85,86,87,88,89,90,91,92,93,94,95,96,97,98,99,100,101,102,103]],\"y\":[[3.2976425578855943,0.14183408851120835,0.1595633495751094,-2.9962451197992763,0.19502187170291146,0.24820965489461463,0.5496070929809325,0.8687337921311511,1.4892579293676877,1.6133627568149949,1.9324894559652142,3.510393690652407,4.41458600491136,5.9215731953429485,6.098865805981959,7.800874868116459,11.54174895259958,13.367862842181387,15.105330426443688,20.991445099658836,23.987690219458113,36.89459227397807,33.52603267183688,48.01083896104402,45.652847239545196,48.02856822210792,44.97913531911695,57.566910674486685,73.68280898157273,73.41687006561422,66.289707117926,64.4635932283442,58.57747855512904,53.89695363425917,49.35826280190051,53.87922437319527,53.028219842128024,54.428831466176206,50.9361670365877,55.95354791767169,40.7063834027168,48.790926447855675,48.89730201423908,54.942980037029336,45.05005236337255,39.46533512824372,41.007780840803115,38.50795503079306,47.4966903901909,44.855030491669645,47.79808782827722,34.82026872950165,35.582626955249395,29.519219671395238,27.515813171174422,33.366469322261764,40.24542261505537,42.337475420595695,38.45476724760137,35.03301986226846,34.11109828694561,34.23520311439291,31.203499472465836,35.440792866738185,31.34533356097705,31.611272476935564,34.07563976481781,32.019045481405286,39.50079365037152,22.81755898924064,42.709789902937615,42.16018280995668,57.30097175852817,37.816513849300925,33.38419858332566,39.589439955691034,44.44725748719991,47.088917385721174,38.862540252071085,40.6886541416529,37.727867543981425,31.327604299913144,27.285332777343708,39.74900330526614,49.464638368283914,51.02481334190721,41.362366062081136,35.866295132271816,46.113808027206616,59.44621234726021,71.64394395922412,70.81066868922078,66.57337529494842,60.56315579428597,57.47826436916719,60.86455323237228,73.84237233114784,54.41110220511231,63.82533983004377,79.48027734946838,115.2224676542929,112.66945406109113,116.25076479599913,126.78194586795635],[4.956968555965662,8.178998117343342,11.59930642095965,12.342851704354498,13.978651327823167,13.829942271144198,14.127360384502136,16.506705291365655,21.067116362854062,26.866769573333887,29.791381021353633,33.90566492280513,37.920809453137316,40.54800278779912,40.44886341667981,43.96831109141543,46.89292253943516,53.03956354883258,51.40376392536392,55.31976908457679,50.70978832752872,48.132164678426584,50.36280052861113,53.783108832227434,59.83061047050554,55.91460531129267,57.054708079164776,52.89085449215362,50.313230843051464,51.552472982042886,50.858497384207695,56.757289965806834,53.18827260551156,51.89946078096048,42.38208115350641,36.92941574194418,39.06091222100942,40.00273624664289,43.07605675134161,41.241978385634305,41.83681461235019,38.267797252054905,32.31943498489612,33.558677123887534,34.252652721722725,41.44025712787294,39.20962127768839,43.02648706578194,39.11048190656908,35.095337376236884,35.29361611847551,35.69017360295277,38.86263347877079,36.334579515228306,38.614785050972515,36.334579515228306,32.61685309825406,31.922877500418863,34.00480429392444,37.127694484182804,36.53285825746693,42.03509335458882,37.37554291198109,31.328041273702983,27.065048315572515,32.61685309825406,37.77210039645834,34.698779891759635,31.97244718597852,27.263327057811143,25.776236491021443,29.543532593555348,32.51771372713474,35.04576769067723,32.76556215493302,32.81513184049268,31.080192845904698,26.668490831095262,29.9400900780326,32.66642278381371,36.83027637082487,32.418574356015434,33.75695586612616,31.575889701501268,29.14697510907809,26.371072717737324,29.19654479463775,34.10394366504376,33.36039838164891,31.575889701501268,25.528388063223158,20.075722651660932,22.008940388487538,30.08879913471157,35.69017360295277,26.9659089444532,14.325639126740763,4.560411071488409,14.623057240098701,27.759023913407706,43.22476580802058,45.207553230406845,45.25712291596649,29.791381021353633,21.067116362854062,26.222363661058353,44.41443826145233,52.29601826543774,48.92527964738109,49.222697760739024],[0.1431615298341291,0.3131658465121574,0.48317016319018574,0.5726461193365164,0.6173840974096818,0.7873884140877101,0.6173840974096818,0.8500215833901417,0.8142312009316093,1.1900302167461982,2.066894586980239,2.845335405453316,5.270133817018879,5.189605456487181,5.976993870574891,5.475928516155438,5.994889061804157,7.363871190843017,7.328080808384485,11.390289217427897,15.899877407202965,20.472098766280464,24.176403350738553,22.977425538377723,25.402223949943284,21.89476646900712,24.552202366553143,28.80231028350385,34.63614262424461,38.00043857534665,32.52451005919121,34.34981956457636,31.486588967893773,35.54879737693718,32.27397738198148,32.73030475832777,31.182370716996253,25.73328498768471,24.36430285864585,23.532176466484973,34.30508158650319,37.49042562531256,40.6131364948195,37.141469396341876,30.869204870484086,38.45676595169293,45.30167659688723,57.184083573119956,53.62294051849599,51.36814642360845,42.903720972165566,37.66937753760522,34.841937323381174,38.796774585048986,48.79123888659413,48.415439870779544,50.9744522165646,42.04475179316079,40.21944228777565,35.92459639275177,46.51854960047733,50.79550030427193,56.36985237218833,51.412884401681616,54.2761149983642,48.55860140061367,43.13635845814603,39.91522403687813,46.75118708645779,49.69494604367207,50.57181041390611,50.777605113042675,49.15809030679409,44.755873264394616,46.68855391715535,51.600783909588905,59.49256324169529,58.8214935705978,58.275690238105184,54.70559958786659,54.59822844049099,56.10142450374935,63.87688509286548,64.00215143147035,70.66811016437198,79.50833463162945,81.60207200545359,75.44612622258603,63.56371924635333,60.852597775119506,67.92119831067963,74.52452387427884,80.57309850977079,75.32085988398117,66.86538202815294,66.02430804037742,71.24075628370849,51.82447379995474,51.82447379995474,56.92460330029559,85.66428041449701,84.72478287496054,70.83811448105001,73.01238021540584]]},\"selected\":{\"id\":\"2430\"},\"selection_policy\":{\"id\":\"2431\"}},\"id\":\"2408\",\"type\":\"ColumnDataSource\"},{\"attributes\":{},\"id\":\"2430\",\"type\":\"Selection\"},{\"attributes\":{},\"id\":\"2417\",\"type\":\"BasicTickFormatter\"}],\"root_ids\":[\"2377\"]},\"title\":\"Bokeh Application\",\"version\":\"2.0.0\"}};\n",
       "  var render_items = [{\"docid\":\"1550a8b8-7ac8-4914-9175-5ec0a8a81018\",\"root_ids\":[\"2377\"],\"roots\":{\"2377\":\"dea3ebda-9bb2-4180-bafd-4a2309deedf2\"}}];\n",
       "  root.Bokeh.embed.embed_items_notebook(docs_json, render_items);\n",
       "\n",
       "  }\n",
       "  if (root.Bokeh !== undefined) {\n",
       "    embed_document(root);\n",
       "  } else {\n",
       "    var attempts = 0;\n",
       "    var timer = setInterval(function(root) {\n",
       "      if (root.Bokeh !== undefined) {\n",
       "        clearInterval(timer);\n",
       "        embed_document(root);\n",
       "      } else {\n",
       "        attempts++;\n",
       "        if (attempts > 100) {\n",
       "          clearInterval(timer);\n",
       "          console.log(\"Bokeh: ERROR: Unable to run BokehJS code because BokehJS library is missing\");\n",
       "        }\n",
       "      }\n",
       "    }, 10, root)\n",
       "  }\n",
       "})(window);"
      ],
      "application/vnd.bokehjs_exec.v0+json": ""
     },
     "metadata": {
      "application/vnd.bokehjs_exec.v0+json": {
       "id": "2377"
      }
     },
     "output_type": "display_data"
    },
    {
     "data": {
      "text/html": [
       "\n",
       "\n",
       "\n",
       "\n",
       "\n",
       "\n",
       "  <div class=\"bk-root\" id=\"f64448e6-9eb6-4c2a-a538-39bd6d84c50a\" data-root-id=\"2634\"></div>\n"
      ]
     },
     "metadata": {},
     "output_type": "display_data"
    },
    {
     "data": {
      "application/javascript": [
       "(function(root) {\n",
       "  function embed_document(root) {\n",
       "    \n",
       "  var docs_json = {\"cad11bdb-9438-4d3c-bf9a-2e6dc94bf711\":{\"roots\":{\"references\":[{\"attributes\":{\"background_fill_alpha\":0.02,\"background_fill_color\":\"#6883BA\",\"below\":[{\"id\":\"2644\"}],\"border_fill_alpha\":0.05,\"border_fill_color\":\"#6883BA\",\"center\":[{\"id\":\"2647\"},{\"id\":\"2651\"},{\"id\":\"2677\"}],\"left\":[{\"id\":\"2648\"}],\"min_border\":20,\"outline_line_color\":\"#6883BA\",\"plot_height\":325,\"plot_width\":525,\"renderers\":[{\"id\":\"2669\"}],\"title\":{\"id\":\"2635\"},\"toolbar\":{\"id\":\"2658\"},\"toolbar_location\":null,\"x_range\":{\"id\":\"2637\"},\"x_scale\":{\"id\":\"2640\"},\"y_range\":{\"id\":\"2633\"},\"y_scale\":{\"id\":\"2642\"}},\"id\":\"2634\",\"subtype\":\"Figure\",\"type\":\"Plot\"},{\"attributes\":{},\"id\":\"2642\",\"type\":\"LinearScale\"},{\"attributes\":{\"data\":{\"color\":[\"#440154\",\"#30678D\",\"#35B778\"],\"regions\":[\"Florida\",\"Washington\",\"California\"],\"x\":[[0,1,2,3,4,5,6,7,8,9,10,11,12,13,14,15,16,17,18,19,20,21,22,23,24,25,26,27,28,29,30,31,32,33,34,35,36,37,38,39,40,41,42,43,44,45,46,47,48,49,50,51,52,53,54,55,56,57,58,59,60,61,62,63,64,65,66,67,68,69,70,71,72,73,74,75,76,77,78,79,80,81,82,83,84,85,86,87,88,89,90,91,92,93,94,95,96,97,98,99,100,101,102,103],[0,1,2,3,4,5,6,7,8,9,10,11,12,13,14,15,16,17,18,19,20,21,22,23,24,25,26,27,28,29,30,31,32,33,34,35,36,37,38,39,40,41,42,43,44,45,46,47,48,49,50,51,52,53,54,55,56,57,58,59,60,61,62,63,64,65,66,67,68,69,70,71,72,73,74,75,76,77,78,79,80,81,82,83,84,85,86,87,88,89,90,91,92,93,94,95,96,97,98,99,100,101,102,103,104,105,106,107,108,109],[0,1,2,3,4,5,6,7,8,9,10,11,12,13,14,15,16,17,18,19,20,21,22,23,24,25,26,27,28,29,30,31,32,33,34,35,36,37,38,39,40,41,42,43,44,45,46,47,48,49,50,51,52,53,54,55,56,57,58,59,60,61,62,63,64,65,66,67,68,69,70,71,72,73,74,75,76,77,78,79,80,81,82,83,84,85,86,87,88,89,90,91,92,93,94,95,96,97,98,99,100,101,102,103]],\"y\":[[0.0,0.0,0.0,0.0,0.03545852212780209,0.03545852212780209,0.03545852212780209,0.017729261063901044,0.03545852212780209,0.03545852212780209,0.05318778319170313,0.05318778319170313,0.07091704425560418,0.07091704425560418,0.08864630531950522,0.08864630531950522,0.07091704425560418,0.10637556638340626,0.1595633495751094,0.24820965489461463,0.2836681770224167,0.5673363540448334,0.49641930978922927,0.5141485708531301,0.40777300446972403,0.5496070929809325,1.1524019691535679,1.5247164514954898,1.8438431506457085,1.5956334957510938,1.294236057664776,1.8615724117096095,1.6133627568149949,2.092052805540323,1.6665505400066982,2.287074677243235,1.9679479780930156,1.6488212789427972,1.7551968453262035,2.5530135932017504,2.8898695534158705,2.8721402923519688,2.5707428542656516,2.393450243626641,1.8970309338374116,1.8083846285179066,2.287074677243235,3.0671621640548805,3.1026206861826826,2.9253280755436726,2.03886502234862,1.241048274473073,1.4006116240481825,2.588472115329552,3.3508303410772973,2.836681770224167,2.6239306374573546,2.0034065002208177,1.9324894559652142,2.6239306374573546,3.5813107349080107,4.325939699591855,3.5813107349080107,3.1912669915021876,2.19842837192373,1.1878604912813697,1.1346727080896668,1.8970309338374116,2.535284332137849,2.5175550710739487,2.5175550710739487,1.7906553674540053,1.4537994072398854,1.577904234687193,2.19842837192373,2.6416598985212554,2.464367287882245,2.464367287882245,1.6665505400066982,1.1169434470257658,0.4609607876614271,1.4892579293676877,2.03886502234862,2.7834939870324638,2.3048039383071357,1.5601749736232917,0.85100453106725,1.4715286683037867,2.0565942834125206,2.6239306374573546,2.340262460434938,2.180699110859828,1.684279801070599,0.9396508363867554,1.3828823629842815,1.8261138895818076,2.482096548946146,1.542445712559391,1.3828823629842815,1.3828823629842815,1.4892579293676877,1.1169434470257658,1.223319013409172,1.5601749736232917],[0.2974181133579397,0.34698779891759635,0.4461271700369096,0.396557484477253,0.4461271700369096,0.5948362267158794,0.5452665411562228,0.5452665411562228,0.4461271700369096,0.49569685559656623,0.4461271700369096,0.4461271700369096,0.49569685559656623,0.5452665411562228,0.644405912275536,1.0905330823124455,1.3383815101107288,1.2392421389914154,1.1401027678721023,1.288811824551072,1.437520881230042,1.685369309028325,1.6357996234686685,1.7349389945879816,1.6357996234686685,2.2802055357442046,2.627193334661801,3.0237508191390536,2.6767630202214576,2.4289145924231743,2.081926793505578,2.230635850184548,3.0733205046987107,3.767296102533903,4.1142839014515,3.767296102533903,3.420308303616307,3.172459875818024,2.825472076900428,2.577623649102144,2.329775221303861,2.528053963542488,2.478484277982831,2.478484277982831,2.3793449068635177,2.081926793505578,2.230635850184548,2.131496479065235,2.329775221303861,2.181066164624891,2.181066164624891,2.081926793505578,1.586229937909012,1.2392421389914154,0.9418240256334758,0.8922543400738192,4.163853587011156,4.461271700369096,4.956968555965662,2.3793449068635177,2.577623649102144,2.4289145924231743,1.8836480512669516,1.437520881230042,0.9913937111931325,0.8426846545141625,1.586229937909012,1.7845086801476384,2.478484277982831,2.131496479065235,2.528053963542488,1.982787422386265,1.982787422386265,2.0323571079459213,2.181066164624891,1.8836480512669516,1.4870905667896985,1.2392421389914154,0.8922543400738192,0.49569685559656623,1.5366602523493553,1.7845086801476384,2.081926793505578,0.9418240256334758,0.8922543400738192,0.8426846545141625,0.9913937111931325,1.1401027678721023,1.685369309028325,1.7845086801476384,1.6357996234686685,1.1401027678721023,0.5948362267158794,0.644405912275536,0.5452665411562228,0.8426846545141625,0.6939755978351927,0.9913937111931325,0.8922543400738192,1.040963396752789,0.5948362267158794,1.1401027678721023,1.5366602523493553,1.437520881230042,0.8922543400738192,0.6939755978351927,1.1401027678721023,1.1401027678721023,0.8426846545141625,0.8922543400738192],[0.0,0.0,0.0,0.0,0.0,0.03579038245853228,0.03579038245853228,0.044737978073165346,0.00894759561463307,0.01789519122926614,0.053685573687798416,0.07158076491706455,0.10737114737559683,0.08052836053169762,0.09842355176096376,0.08052836053169762,0.0626331693024315,0.1431615298341291,0.2326374859804598,0.34000863335605663,0.34000863335605663,0.4294845895023873,0.5189605456487181,0.4921177588048188,0.4652749719609196,0.4294845895023873,0.6263316930243148,0.7515980316291778,0.9394975395364723,1.0379210912974361,0.9484451351511054,0.8768643702340407,1.1005542605998677,1.3331917465803274,1.4942484676437227,1.4942484676437227,1.422667702726658,1.3063489597364282,1.3331917465803274,1.5210912544876218,1.8163619097705133,2.031104204521707,2.2458464992729006,2.4695363896387272,1.9953138220631743,1.7537287404680815,1.682147975551017,2.335322455419231,2.6305931107021228,2.657435897546022,2.15637054312657,1.7268859536241823,1.413720107112025,1.5837244237900534,2.031104204521707,2.36216524226313,2.541117154555792,2.0847897782095055,1.6195148062485856,1.3063489597364282,1.762676336082715,2.2368989036582674,2.3979556247216625,2.3800604334923965,2.15637054312657,1.6553051887071177,1.5121436588729888,1.6910955711656501,2.344270051033864,2.335322455419231,2.415850815950929,2.0489993957509727,1.7358335492388157,1.163187429902299,1.5658292325607874,2.147422947511937,2.6484883019313887,2.433746007180195,2.0758421825948723,1.4763532764144565,0.9484451351511054,0.9842355176096376,1.5926720194046866,2.2726892861167998,2.433746007180195,2.147422947511937,1.6374099974778518,1.163187429902299,1.3242441509656944,1.530038850102255,1.7805715273119807,1.7716239316973479,1.8253095053851462,1.5031960632583556,1.2347681948193636,1.3421393421949606,2.04005180013634,1.6463575930924848,1.4942484676437227,0.9663403263803715,1.6284624018632186,1.3063489597364282,1.181082621131565,1.2974013641217952]]},\"selected\":{\"id\":\"2687\"},\"selection_policy\":{\"id\":\"2688\"}},\"id\":\"2665\",\"type\":\"ColumnDataSource\"},{\"attributes\":{},\"id\":\"2649\",\"type\":\"BasicTicker\"},{\"attributes\":{},\"id\":\"2640\",\"type\":\"LinearScale\"},{\"attributes\":{},\"id\":\"2672\",\"type\":\"BasicTickFormatter\"},{\"attributes\":{},\"id\":\"2656\",\"type\":\"ResetTool\"},{\"attributes\":{\"text\":\"Comparing New Fatalities as of Jun 17\"},\"id\":\"2635\",\"type\":\"Title\"},{\"attributes\":{},\"id\":\"2637\",\"type\":\"DataRange1d\"},{\"attributes\":{\"index\":1,\"label\":{\"value\":\"Washington\"},\"renderers\":[{\"id\":\"2669\"}]},\"id\":\"2680\",\"type\":\"LegendItem\"},{\"attributes\":{\"background_fill_alpha\":0.0,\"border_line_alpha\":0.0,\"border_line_color\":\"black\",\"items\":[{\"id\":\"2678\"},{\"id\":\"2679\"},{\"id\":\"2680\"}],\"location\":\"top_left\"},\"id\":\"2677\",\"type\":\"Legend\"},{\"attributes\":{\"axis_label\":\"Daily Deaths per 1M (3DMA)\",\"axis_label_text_font_size\":\"11pt\",\"formatter\":{\"id\":\"2672\"},\"ticker\":{\"id\":\"2649\"}},\"id\":\"2648\",\"type\":\"LinearAxis\"},{\"attributes\":{\"axis\":{\"id\":\"2644\"},\"grid_line_color\":null,\"ticker\":null},\"id\":\"2647\",\"type\":\"Grid\"},{\"attributes\":{\"end\":5.4526654115622275},\"id\":\"2633\",\"type\":\"Range1d\"},{\"attributes\":{\"active_drag\":\"auto\",\"active_inspect\":\"auto\",\"active_multi\":null,\"active_scroll\":\"auto\",\"active_tap\":\"auto\",\"tools\":[{\"id\":\"2652\"},{\"id\":\"2653\"},{\"id\":\"2654\"},{\"id\":\"2655\"},{\"id\":\"2656\"},{\"id\":\"2657\"}]},\"id\":\"2658\",\"type\":\"Toolbar\"},{\"attributes\":{\"index\":2,\"label\":{\"value\":\"California\"},\"renderers\":[{\"id\":\"2669\"}]},\"id\":\"2678\",\"type\":\"LegendItem\"},{\"attributes\":{\"overlay\":{\"id\":\"2676\"}},\"id\":\"2654\",\"type\":\"BoxZoomTool\"},{\"attributes\":{\"line_color\":{\"field\":\"color\"},\"line_width\":{\"value\":5},\"xs\":{\"field\":\"x\"},\"ys\":{\"field\":\"y\"}},\"id\":\"2667\",\"type\":\"MultiLine\"},{\"attributes\":{},\"id\":\"2657\",\"type\":\"HelpTool\"},{\"attributes\":{},\"id\":\"2655\",\"type\":\"SaveTool\"},{\"attributes\":{},\"id\":\"2687\",\"type\":\"Selection\"},{\"attributes\":{\"axis_label\":\"Days Since March 01, 2020\",\"axis_label_text_font_size\":\"11pt\",\"formatter\":{\"id\":\"2674\"},\"major_tick_line_color\":null,\"ticker\":{\"id\":\"2645\"}},\"id\":\"2644\",\"type\":\"LinearAxis\"},{\"attributes\":{},\"id\":\"2652\",\"type\":\"PanTool\"},{\"attributes\":{},\"id\":\"2688\",\"type\":\"UnionRenderers\"},{\"attributes\":{},\"id\":\"2653\",\"type\":\"WheelZoomTool\"},{\"attributes\":{\"data_source\":{\"id\":\"2665\"},\"glyph\":{\"id\":\"2667\"},\"hover_glyph\":null,\"muted_glyph\":null,\"nonselection_glyph\":{\"id\":\"2668\"},\"selection_glyph\":null,\"view\":{\"id\":\"2670\"}},\"id\":\"2669\",\"type\":\"GlyphRenderer\"},{\"attributes\":{\"source\":{\"id\":\"2665\"}},\"id\":\"2670\",\"type\":\"CDSView\"},{\"attributes\":{},\"id\":\"2674\",\"type\":\"BasicTickFormatter\"},{\"attributes\":{},\"id\":\"2645\",\"type\":\"BasicTicker\"},{\"attributes\":{\"line_alpha\":{\"value\":0.1},\"line_color\":{\"field\":\"color\"},\"line_width\":{\"value\":5},\"xs\":{\"field\":\"x\"},\"ys\":{\"field\":\"y\"}},\"id\":\"2668\",\"type\":\"MultiLine\"},{\"attributes\":{\"axis\":{\"id\":\"2648\"},\"dimension\":1,\"grid_line_color\":null,\"ticker\":null},\"id\":\"2651\",\"type\":\"Grid\"},{\"attributes\":{\"bottom_units\":\"screen\",\"fill_alpha\":0.5,\"fill_color\":\"lightgrey\",\"left_units\":\"screen\",\"level\":\"overlay\",\"line_alpha\":1.0,\"line_color\":\"black\",\"line_dash\":[4,4],\"line_width\":2,\"render_mode\":\"css\",\"right_units\":\"screen\",\"top_units\":\"screen\"},\"id\":\"2676\",\"type\":\"BoxAnnotation\"},{\"attributes\":{\"index\":0,\"label\":{\"value\":\"Florida\"},\"renderers\":[{\"id\":\"2669\"}]},\"id\":\"2679\",\"type\":\"LegendItem\"}],\"root_ids\":[\"2634\"]},\"title\":\"Bokeh Application\",\"version\":\"2.0.0\"}};\n",
       "  var render_items = [{\"docid\":\"cad11bdb-9438-4d3c-bf9a-2e6dc94bf711\",\"root_ids\":[\"2634\"],\"roots\":{\"2634\":\"f64448e6-9eb6-4c2a-a538-39bd6d84c50a\"}}];\n",
       "  root.Bokeh.embed.embed_items_notebook(docs_json, render_items);\n",
       "\n",
       "  }\n",
       "  if (root.Bokeh !== undefined) {\n",
       "    embed_document(root);\n",
       "  } else {\n",
       "    var attempts = 0;\n",
       "    var timer = setInterval(function(root) {\n",
       "      if (root.Bokeh !== undefined) {\n",
       "        clearInterval(timer);\n",
       "        embed_document(root);\n",
       "      } else {\n",
       "        attempts++;\n",
       "        if (attempts > 100) {\n",
       "          clearInterval(timer);\n",
       "          console.log(\"Bokeh: ERROR: Unable to run BokehJS code because BokehJS library is missing\");\n",
       "        }\n",
       "      }\n",
       "    }, 10, root)\n",
       "  }\n",
       "})(window);"
      ],
      "application/vnd.bokehjs_exec.v0+json": ""
     },
     "metadata": {
      "application/vnd.bokehjs_exec.v0+json": {
       "id": "2634"
      }
     },
     "output_type": "display_data"
    },
    {
     "data": {
      "text/html": [
       "\n",
       "\n",
       "\n",
       "\n",
       "\n",
       "\n",
       "  <div class=\"bk-root\" id=\"22cb9bb2-812b-401c-a7ff-b40c5b20520a\" data-root-id=\"2899\"></div>\n"
      ]
     },
     "metadata": {},
     "output_type": "display_data"
    },
    {
     "data": {
      "application/javascript": [
       "(function(root) {\n",
       "  function embed_document(root) {\n",
       "    \n",
       "  var docs_json = {\"6d7767b2-dcde-4986-b06f-d3234499772a\":{\"roots\":{\"references\":[{\"attributes\":{\"background_fill_alpha\":0.02,\"background_fill_color\":\"#6883BA\",\"below\":[{\"id\":\"2909\"}],\"border_fill_alpha\":0.05,\"border_fill_color\":\"#6883BA\",\"center\":[{\"id\":\"2912\"},{\"id\":\"2916\"},{\"id\":\"2942\"}],\"left\":[{\"id\":\"2913\"}],\"min_border\":20,\"outline_line_color\":\"#6883BA\",\"plot_height\":325,\"plot_width\":500,\"renderers\":[{\"id\":\"2934\"}],\"title\":{\"id\":\"2900\"},\"toolbar\":{\"id\":\"2923\"},\"toolbar_location\":null,\"x_range\":{\"id\":\"2902\"},\"x_scale\":{\"id\":\"2905\"},\"y_range\":{\"id\":\"2898\"},\"y_scale\":{\"id\":\"2907\"}},\"id\":\"2899\",\"subtype\":\"Figure\",\"type\":\"Plot\"},{\"attributes\":{\"axis\":{\"id\":\"2909\"},\"grid_line_color\":null,\"ticker\":null},\"id\":\"2912\",\"type\":\"Grid\"},{\"attributes\":{},\"id\":\"2939\",\"type\":\"BasicTickFormatter\"},{\"attributes\":{\"line_color\":{\"field\":\"color\"},\"line_width\":{\"value\":5},\"xs\":{\"field\":\"x\"},\"ys\":{\"field\":\"y\"}},\"id\":\"2932\",\"type\":\"MultiLine\"},{\"attributes\":{\"source\":{\"id\":\"2930\"}},\"id\":\"2935\",\"type\":\"CDSView\"},{\"attributes\":{},\"id\":\"2905\",\"type\":\"LinearScale\"},{\"attributes\":{\"index\":1,\"label\":{\"value\":\"Washington\"},\"renderers\":[{\"id\":\"2934\"}]},\"id\":\"2945\",\"type\":\"LegendItem\"},{\"attributes\":{\"axis_label\":\"Change in Driving Mobility - Apple\",\"axis_label_text_font_size\":\"11pt\",\"formatter\":{\"id\":\"2937\"},\"ticker\":{\"id\":\"2914\"}},\"id\":\"2913\",\"type\":\"LinearAxis\"},{\"attributes\":{\"end\":1.6984000000000001,\"start\":0.32017},\"id\":\"2898\",\"type\":\"Range1d\"},{\"attributes\":{},\"id\":\"2921\",\"type\":\"ResetTool\"},{\"attributes\":{\"index\":0,\"label\":{\"value\":\"Florida\"},\"renderers\":[{\"id\":\"2934\"}]},\"id\":\"2944\",\"type\":\"LegendItem\"},{\"attributes\":{},\"id\":\"2918\",\"type\":\"WheelZoomTool\"},{\"attributes\":{},\"id\":\"2922\",\"type\":\"HelpTool\"},{\"attributes\":{\"bottom_units\":\"screen\",\"fill_alpha\":0.5,\"fill_color\":\"lightgrey\",\"left_units\":\"screen\",\"level\":\"overlay\",\"line_alpha\":1.0,\"line_color\":\"black\",\"line_dash\":[4,4],\"line_width\":2,\"render_mode\":\"css\",\"right_units\":\"screen\",\"top_units\":\"screen\"},\"id\":\"2941\",\"type\":\"BoxAnnotation\"},{\"attributes\":{\"axis_label\":\"Days Since March 01, 2020\",\"axis_label_text_font_size\":\"11pt\",\"formatter\":{\"id\":\"2939\"},\"major_tick_line_color\":null,\"ticker\":{\"id\":\"2910\"}},\"id\":\"2909\",\"type\":\"LinearAxis\"},{\"attributes\":{},\"id\":\"2914\",\"type\":\"BasicTicker\"},{\"attributes\":{},\"id\":\"2902\",\"type\":\"DataRange1d\"},{\"attributes\":{},\"id\":\"2917\",\"type\":\"PanTool\"},{\"attributes\":{\"background_fill_alpha\":0.0,\"border_line_alpha\":0.0,\"border_line_color\":\"black\",\"items\":[{\"id\":\"2943\"},{\"id\":\"2944\"},{\"id\":\"2945\"}],\"location\":\"top_center\"},\"id\":\"2942\",\"type\":\"Legend\"},{\"attributes\":{},\"id\":\"2907\",\"type\":\"LinearScale\"},{\"attributes\":{\"overlay\":{\"id\":\"2941\"}},\"id\":\"2919\",\"type\":\"BoxZoomTool\"},{\"attributes\":{},\"id\":\"2952\",\"type\":\"Selection\"},{\"attributes\":{},\"id\":\"2910\",\"type\":\"BasicTicker\"},{\"attributes\":{\"index\":2,\"label\":{\"value\":\"California\"},\"renderers\":[{\"id\":\"2934\"}]},\"id\":\"2943\",\"type\":\"LegendItem\"},{\"attributes\":{},\"id\":\"2937\",\"type\":\"BasicTickFormatter\"},{\"attributes\":{\"data\":{\"color\":[\"#440154\",\"#30678D\",\"#35B778\"],\"regions\":[\"Florida\",\"Washington\",\"California\"],\"x\":[[0,1,2,3,4,5,6,7,8,9,10,11,12,13,14,15,16,17,18,19,20,21,22,23,24,25,26,27,28,29,30,31,32,33,34,35,36,37,38,39,40,41,42,43,44,45,46,47,48,49,50,51,52,53,54,55,56,57,58,59,60,61,62,63,64,65,66,67,68,69,70,71,72,73,74,75,76,77,78,79,80,81,82,83,84,85,86,87,88,89,90,91,92,93,94,95,96,97,98,99,100,101,102,103,104,105,106,107,108],[0,1,2,3,4,5,6,7,8,9,10,11,12,13,14,15,16,17,18,19,20,21,22,23,24,25,26,27,28,29,30,31,32,33,34,35,36,37,38,39,40,41,42,43,44,45,46,47,48,49,50,51,52,53,54,55,56,57,58,59,60,61,62,63,64,65,66,67,68,69,70,71,72,73,74,75,76,77,78,79,80,81,82,83,84,85,86,87,88,89,90,91,92,93,94,95,96,97,98,99,100,101,102,103,104,105,106,107,108],[0,1,2,3,4,5,6,7,8,9,10,11,12,13,14,15,16,17,18,19,20,21,22,23,24,25,26,27,28,29,30,31,32,33,34,35,36,37,38,39,40,41,42,43,44,45,46,47,48,49,50,51,52,53,54,55,56,57,58,59,60,61,62,63,64,65,66,67,68,69,70,71,72,73,74,75,76,77,78,79,80,81,82,83,84,85,86,87,88,89,90,91,92,93,94,95,96,97,98,99,100,101,102,103,104,105,106,107,108]],\"y\":[[1.002,1.1,1.135,1.173,1.219,1.3730000000000002,1.3530000000000002,0.9940000000000001,1.1420000000000001,1.155,1.161,1.158,1.24,1.111,0.8390000000000001,0.917,0.845,0.7759999999999999,0.74,0.753,0.598,0.446,0.552,0.546,0.544,0.541,0.564,0.47,0.373,0.49200000000000005,0.496,0.504,0.505,0.502,0.42,0.317,0.45299999999999996,0.47200000000000003,0.479,0.496,0.544,0.469,0.318,0.49200000000000005,0.502,0.532,0.531,0.606,0.52,0.434,0.544,0.564,0.574,0.584,0.61,0.5920000000000001,0.456,0.597,0.612,0.627,0.626,0.759,0.693,0.561,0.69,0.7290000000000001,0.7340000000000001,0.76,0.87,0.8270000000000001,0.57,0.649,0.728,0.807,0.828,0.932,0.904,0.7340000000000001,0.8109999999999999,0.877,0.894,0.929,1.1,1.05,0.81,0.7509999999999999,0.9129999999999999,0.966,0.9740000000000001,1.111,1.1059999999999999,0.8390000000000001,0.941,0.95,0.9420000000000001,0.97,1.13,1.044,0.8190000000000001,0.985,1.02,1.044,1.083,1.083,1.261,1.217,0.946,1.0590000000000002,1.085],[1.151,1.203,1.229,1.266,1.263,1.4140000000000001,1.35,1.02,1.137,1.145,1.109,1.08,1.129,0.963,0.79,0.89,0.826,0.8220000000000001,0.8320000000000001,0.905,0.778,0.593,0.669,0.638,0.607,0.5539999999999999,0.595,0.525,0.466,0.547,0.574,0.59,0.586,0.65,0.598,0.49,0.604,0.619,0.6459999999999999,0.674,0.746,0.6679999999999999,0.48700000000000004,0.645,0.6679999999999999,0.716,0.746,0.8190000000000001,0.725,0.639,0.74,0.7,0.693,0.742,0.8420000000000001,0.7809999999999999,0.6629999999999999,0.745,0.767,0.785,0.82,0.956,0.82,0.713,0.833,0.9009999999999999,0.866,0.96,1.13,1.123,0.868,0.904,0.94,0.976,1.02,1.216,1.054,0.9209999999999999,1.04,1.0759999999999998,1.063,1.1079999999999999,1.325,1.251,1.085,0.9740000000000001,1.135,1.206,1.24,1.416,1.137,1.006,1.19,1.173,1.238,1.261,1.43,1.337,1.111,1.23,1.217,1.3230000000000002,1.3619999999999999,1.3619999999999999,1.544,1.403,1.2409999999999999,1.2819999999999998,1.368],[0.982,1.074,1.158,1.127,1.1840000000000002,1.335,1.246,0.972,1.036,1.048,1.056,1.034,1.068,0.862,0.662,0.7759999999999999,0.6809999999999999,0.631,0.605,0.591,0.495,0.387,0.479,0.48,0.48,0.488,0.539,0.452,0.374,0.48,0.48700000000000004,0.496,0.491,0.555,0.46399999999999997,0.355,0.43799999999999994,0.45399999999999996,0.46,0.45799999999999996,0.5329999999999999,0.501,0.33799999999999997,0.484,0.51,0.542,0.544,0.601,0.5479999999999999,0.456,0.546,0.5489999999999999,0.57,0.59,0.665,0.62,0.51,0.585,0.607,0.612,0.644,0.735,0.685,0.5710000000000001,0.652,0.679,0.68,0.706,0.825,0.797,0.63,0.6659999999999999,0.701,0.736,0.767,0.902,0.866,0.6990000000000001,0.7559999999999999,0.81,0.838,0.878,1.025,0.956,0.83,0.7979999999999999,0.8859999999999999,0.904,0.92,1.035,0.978,0.787,0.8370000000000001,0.8490000000000001,0.9079999999999999,0.938,1.06,1.028,0.873,0.953,0.988,1.014,1.041,1.041,1.19,1.15,0.978,1.022,1.0390000000000001]]},\"selected\":{\"id\":\"2952\"},\"selection_policy\":{\"id\":\"2953\"}},\"id\":\"2930\",\"type\":\"ColumnDataSource\"},{\"attributes\":{\"line_alpha\":{\"value\":0.1},\"line_color\":{\"field\":\"color\"},\"line_width\":{\"value\":5},\"xs\":{\"field\":\"x\"},\"ys\":{\"field\":\"y\"}},\"id\":\"2933\",\"type\":\"MultiLine\"},{\"attributes\":{},\"id\":\"2920\",\"type\":\"SaveTool\"},{\"attributes\":{},\"id\":\"2953\",\"type\":\"UnionRenderers\"},{\"attributes\":{\"active_drag\":\"auto\",\"active_inspect\":\"auto\",\"active_multi\":null,\"active_scroll\":\"auto\",\"active_tap\":\"auto\",\"tools\":[{\"id\":\"2917\"},{\"id\":\"2918\"},{\"id\":\"2919\"},{\"id\":\"2920\"},{\"id\":\"2921\"},{\"id\":\"2922\"}]},\"id\":\"2923\",\"type\":\"Toolbar\"},{\"attributes\":{\"text\":\"Apple Driving Queries as of Jun 17\"},\"id\":\"2900\",\"type\":\"Title\"},{\"attributes\":{\"data_source\":{\"id\":\"2930\"},\"glyph\":{\"id\":\"2932\"},\"hover_glyph\":null,\"muted_glyph\":null,\"nonselection_glyph\":{\"id\":\"2933\"},\"selection_glyph\":null,\"view\":{\"id\":\"2935\"}},\"id\":\"2934\",\"type\":\"GlyphRenderer\"},{\"attributes\":{\"axis\":{\"id\":\"2913\"},\"dimension\":1,\"grid_line_color\":null,\"ticker\":null},\"id\":\"2916\",\"type\":\"Grid\"}],\"root_ids\":[\"2899\"]},\"title\":\"Bokeh Application\",\"version\":\"2.0.0\"}};\n",
       "  var render_items = [{\"docid\":\"6d7767b2-dcde-4986-b06f-d3234499772a\",\"root_ids\":[\"2899\"],\"roots\":{\"2899\":\"22cb9bb2-812b-401c-a7ff-b40c5b20520a\"}}];\n",
       "  root.Bokeh.embed.embed_items_notebook(docs_json, render_items);\n",
       "\n",
       "  }\n",
       "  if (root.Bokeh !== undefined) {\n",
       "    embed_document(root);\n",
       "  } else {\n",
       "    var attempts = 0;\n",
       "    var timer = setInterval(function(root) {\n",
       "      if (root.Bokeh !== undefined) {\n",
       "        clearInterval(timer);\n",
       "        embed_document(root);\n",
       "      } else {\n",
       "        attempts++;\n",
       "        if (attempts > 100) {\n",
       "          clearInterval(timer);\n",
       "          console.log(\"Bokeh: ERROR: Unable to run BokehJS code because BokehJS library is missing\");\n",
       "        }\n",
       "      }\n",
       "    }, 10, root)\n",
       "  }\n",
       "})(window);"
      ],
      "application/vnd.bokehjs_exec.v0+json": ""
     },
     "metadata": {
      "application/vnd.bokehjs_exec.v0+json": {
       "id": "2899"
      }
     },
     "output_type": "display_data"
    },
    {
     "name": "stdout",
     "output_type": "stream",
     "text": [
      "\tIllinois Ohio Massachusetts\n"
     ]
    },
    {
     "data": {
      "text/html": [
       "\n",
       "\n",
       "\n",
       "\n",
       "\n",
       "\n",
       "  <div class=\"bk-root\" id=\"fee4f4ea-47a9-4f0d-a49a-a64ca38e09aa\" data-root-id=\"3172\"></div>\n"
      ]
     },
     "metadata": {},
     "output_type": "display_data"
    },
    {
     "data": {
      "application/javascript": [
       "(function(root) {\n",
       "  function embed_document(root) {\n",
       "    \n",
       "  var docs_json = {\"99062a07-3d3b-430d-a3d7-fabe5935bd1d\":{\"roots\":{\"references\":[{\"attributes\":{\"background_fill_alpha\":0.02,\"background_fill_color\":\"#6883BA\",\"below\":[{\"id\":\"3182\"}],\"border_fill_alpha\":0.05,\"border_fill_color\":\"#6883BA\",\"center\":[{\"id\":\"3185\"},{\"id\":\"3189\"},{\"id\":\"3215\"}],\"left\":[{\"id\":\"3186\"}],\"min_border\":20,\"outline_line_color\":\"#6883BA\",\"plot_height\":325,\"plot_width\":525,\"renderers\":[{\"id\":\"3207\"}],\"title\":{\"id\":\"3173\"},\"toolbar\":{\"id\":\"3196\"},\"toolbar_location\":null,\"x_range\":{\"id\":\"3175\"},\"x_scale\":{\"id\":\"3178\"},\"y_range\":{\"id\":\"3171\"},\"y_scale\":{\"id\":\"3180\"}},\"id\":\"3172\",\"subtype\":\"Figure\",\"type\":\"Plot\"},{\"attributes\":{\"line_color\":{\"field\":\"color\"},\"line_width\":{\"value\":5},\"xs\":{\"field\":\"x\"},\"ys\":{\"field\":\"y\"}},\"id\":\"3205\",\"type\":\"MultiLine\"},{\"attributes\":{},\"id\":\"3193\",\"type\":\"SaveTool\"},{\"attributes\":{\"bottom_units\":\"screen\",\"fill_alpha\":0.5,\"fill_color\":\"lightgrey\",\"left_units\":\"screen\",\"level\":\"overlay\",\"line_alpha\":1.0,\"line_color\":\"black\",\"line_dash\":[4,4],\"line_width\":2,\"render_mode\":\"css\",\"right_units\":\"screen\",\"top_units\":\"screen\"},\"id\":\"3214\",\"type\":\"BoxAnnotation\"},{\"attributes\":{\"text\":\"Comparing New Cases as of Jun 17\"},\"id\":\"3173\",\"type\":\"Title\"},{\"attributes\":{},\"id\":\"3178\",\"type\":\"LinearScale\"},{\"attributes\":{},\"id\":\"3210\",\"type\":\"BasicTickFormatter\"},{\"attributes\":{\"end\":472.3592820138913},\"id\":\"3171\",\"type\":\"Range1d\"},{\"attributes\":{\"axis\":{\"id\":\"3182\"},\"grid_line_color\":null,\"ticker\":null},\"id\":\"3185\",\"type\":\"Grid\"},{\"attributes\":{},\"id\":\"3226\",\"type\":\"UnionRenderers\"},{\"attributes\":{\"index\":1,\"label\":{\"value\":\"Massachusetts\"},\"renderers\":[{\"id\":\"3207\"}]},\"id\":\"3217\",\"type\":\"LegendItem\"},{\"attributes\":{},\"id\":\"3187\",\"type\":\"BasicTicker\"},{\"attributes\":{\"axis_label\":\"Days Since March 01, 2020\",\"axis_label_text_font_size\":\"11pt\",\"formatter\":{\"id\":\"3212\"},\"major_tick_line_color\":null,\"ticker\":{\"id\":\"3183\"}},\"id\":\"3182\",\"type\":\"LinearAxis\"},{\"attributes\":{},\"id\":\"3183\",\"type\":\"BasicTicker\"},{\"attributes\":{\"data_source\":{\"id\":\"3203\"},\"glyph\":{\"id\":\"3205\"},\"hover_glyph\":null,\"muted_glyph\":null,\"nonselection_glyph\":{\"id\":\"3206\"},\"selection_glyph\":null,\"view\":{\"id\":\"3208\"}},\"id\":\"3207\",\"type\":\"GlyphRenderer\"},{\"attributes\":{},\"id\":\"3194\",\"type\":\"ResetTool\"},{\"attributes\":{},\"id\":\"3190\",\"type\":\"PanTool\"},{\"attributes\":{},\"id\":\"3191\",\"type\":\"WheelZoomTool\"},{\"attributes\":{},\"id\":\"3175\",\"type\":\"DataRange1d\"},{\"attributes\":{},\"id\":\"3212\",\"type\":\"BasicTickFormatter\"},{\"attributes\":{\"data\":{\"color\":[\"#440154\",\"#30678D\",\"#35B778\"],\"regions\":[\"Illinois\",\"Massachusetts\",\"Ohio\"],\"x\":[[0,1,2,3,4,5,6,7,8,9,10,11,12,13,14,15,16,17,18,19,20,21,22,23,24,25,26,27,28,29,30,31,32,33,34,35,36,37,38,39,40,41,42,43,44,45,46,47,48,49,50,51,52,53,54,55,56,57,58,59,60,61,62,63,64,65,66,67,68,69,70,71,72,73,74,75,76,77,78,79,80,81,82,83,84,85,86,87,88,89,90,91,92,93,94,95,96,97,98,99,100,101,102,103],[0,1,2,3,4,5,6,7,8,9,10,11,12,13,14,15,16,17,18,19,20,21,22,23,24,25,26,27,28,29,30,31,32,33,34,35,36,37,38,39,40,41,42,43,44,45,46,47,48,49,50,51,52,53,54,55,56,57,58,59,60,61,62,63,64,65,66,67,68,69,70,71,72,73,74,75,76,77,78,79,80,81,82,83,84,85,86,87,88,89,90,91,92,93,94,95],[0,1,2,3,4,5,6,7,8,9,10,11,12,13,14,15,16,17,18,19,20,21,22,23,24,25,26,27,28,29,30,31,32,33,34,35,36,37,38,39,40,41,42,43,44,45,46,47,48,49,50,51,52,53,54,55,56,57,58,59,60,61,62,63,64,65,66,67,68,69,70,71,72,73,74,75,76,77,78,79,80,81,82,83,84,85,86,87,88,89,90,91,92,93,94,95,96,97,98,99,100,101,102]],\"y\":[[0.05195898897783575,0.025979494488917874,0.05195898897783575,0.33773342835593234,0.33773342835593234,0.4676309008005217,0.33773342835593234,0.7014463512007827,1.013200285067797,1.5847491638239903,2.9356828772477197,5.819406765517605,8.547253686853981,11.067264652279015,12.080464937346813,16.28914304455151,17.873892208375498,20.315964690333782,21.199267502956985,32.86406052848111,38.73542628297655,42.242658038980466,53.465799658192985,52.7643533069922,65.02667470576145,61.93511486158022,68.53390646176535,75.60032896275102,87.73275288907567,92.51297987503655,87.23914249378622,82.92654640862587,99.29362793664411,108.07469707389836,112.69904709292574,106.56788639354112,115.0891605859062,107.50314819514216,105.65860408642901,97.18928888304178,96.33196556490749,112.43925214803657,118.64835133088793,120.12918251675626,102.177351824914,101.2940490122908,123.42857831684883,140.9647370968684,171.43868413236905,173.25724874659332,181.05109709326868,161.72235319351375,164.32030264240558,167.61969844249813,182.76574372953726,206.61491967036386,211.7328800846807,222.9300422094043,202.25036459622567,193.72909040386057,174.91993639388406,182.71378474055945,202.5880980245816,204.01697022147206,178.42716814988796,136.31440758335208,180.1937737751344,180.73934315940167,231.99688578603661,190.89732550456856,201.5748977395138,162.47575853369239,158.89058829422174,144.7837227867393,161.7743121824916,161.09884532577973,192.61197214083714,191.6767103392361,197.9117890165764,170.7632172756572,140.26329074566763,103.96993694464935,99.13775096971061,110.67264652279015,119.79144908840031,115.01122210243945,98.17650967362066,102.12539283593615,92.7467953254368,91.5777180734355,79.67910959751113,79.4972531360887,77.8865244777758,83.75789023227124,79.13354021324385,72.84650254692572,56.84313394175231,36.137476834084765,38.917282744398975,36.50118975692961,53.95941005348243,47.230720980852695,45.931746256406804,42.65832995080316],[2.85090475753386,3.767267001026886,4.072721082191228,4.683629244519913,6.7199897856155255,9.978166651368507,13.745433652395393,16.18906630171013,18.530880923970084,32.27631457636548,60.68354412464929,83.49078218492016,106.45074728577322,123.14890372275725,129.2070763325167,127.37435184553065,120.29799896522339,141.67978464672734,163.62156947703255,192.53788916059028,203.53423608250662,179.96336281932489,174.92337048011322,176.50154989946233,218.3996680325046,259.8396050438003,293.9486441071519,309.22134816536897,332.8431304420781,301.1777240280413,272.0068592768466,233.6214630771943,290.0795590790702,357.17763890817065,384.7194152264889,373.06125112871644,320.2686041008127,287.1777453080089,259.27960589499907,334.7776729561189,397.1412145271721,429.41752910353756,353.6140079612534,279.6432113059552,252.20325301469177,271.19231506040836,292.3704646878027,305.9122622860886,305.3522631372873,299.44681756811,243.14144860681628,204.0433262177805,200.4796952708632,235.91236868592688,257.70142647564995,240.18872582222767,207.30150308353348,159.2943033272044,131.80343602241362,137.65797257806352,189.3815303218921,208.16695631349913,225.83238400750358,194.87970378285024,131.80343602241362,152.3197684739519,150.69068004107544,207.40332111058828,150.894316095185,137.0470644157348,131.9052540494684,121.2652702222438,103.3962064741298,78.65442589981808,82.67623796848193,92.60349560632305,105.94165715049931,105.38165800169803,269.4614086004771,247.51962377017188,235.55600559123513,64.04353901745705,70.96716485718214,78.39988083218114,69.89807557310695,54.421735460780276,38.5381232402345,36.65448973972105,52.996283082013356,39.60721252430969,45.97083921523348,37.06176184794017,47.65083666163736,32.12358753578331,24.945416628421274,27.89813941300991],[0.0,0.08668137245044079,0.08668137245044079,0.1155751632672544,0.0577875816336272,0.28893790816813597,0.2600441173513224,0.8957075153212216,1.0690702602221032,1.5602647041079343,1.502477122474307,1.993671566360138,2.9471666633149867,4.594112739873362,6.703359469500755,7.888004892990112,9.15933168892991,10.1995081583352,12.279861097145778,16.55614213803419,20.283441153403142,22.71051958201549,22.999457490183623,22.91277611773318,25.831048990231356,27.998083301492375,32.15878917911353,34.441398653641805,32.96781532198432,32.88113394953387,30.136223821936586,31.92763885257902,30.68520584745604,31.6675947352277,31.840957480128584,31.552019571960447,31.69648852604452,29.760604541318003,34.296929699557744,41.578164985394764,52.78895582231844,70.24080547567387,92.11340512400176,110.14313059369344,101.21494923129804,72.6678839042862,51.28647869984413,41.72263393947883,42.47387250071599,36.66622054653646,15.313709132911207,15.631540831896157,38.71767969453022,67.26474502154205,75.55726298596755,58.712182939765235,54.52258327132726,50.01515190390434,47.21245419467341,48.021480337544205,47.877011383460136,59.14558980201744,61.283730322461636,56.342892092786514,50.88196562840874,44.872057138511515,47.3858169395743,45.65218949056548,49.23501955185037,50.65081530187424,45.247676419130094,43.340686225220395,42.705022827250495,43.71630550583897,49.49506366920169,53.22236268457065,56.97855549075641,50.39077118452291,48.62824994469729,46.17227772526813,44.14971236809117,41.54927119457795,45.07431367422921,46.08559635281768,46.17227772526813,40.97139537824168,38.0242287149267,36.955158454704595,37.50414048022405,40.682457470073544,38.110910087377135,34.49918623527543,31.176400291341878,30.36737414847109,31.754276107678145,33.71905388322146,24.328571867757052,24.530828403474743,24.386359449390675,33.054496694434754,33.285647020969265,33.5745849291374,36.810689500620526]]},\"selected\":{\"id\":\"3225\"},\"selection_policy\":{\"id\":\"3226\"}},\"id\":\"3203\",\"type\":\"ColumnDataSource\"},{\"attributes\":{\"line_alpha\":{\"value\":0.1},\"line_color\":{\"field\":\"color\"},\"line_width\":{\"value\":5},\"xs\":{\"field\":\"x\"},\"ys\":{\"field\":\"y\"}},\"id\":\"3206\",\"type\":\"MultiLine\"},{\"attributes\":{\"index\":2,\"label\":{\"value\":\"Ohio\"},\"renderers\":[{\"id\":\"3207\"}]},\"id\":\"3218\",\"type\":\"LegendItem\"},{\"attributes\":{},\"id\":\"3225\",\"type\":\"Selection\"},{\"attributes\":{\"axis\":{\"id\":\"3186\"},\"dimension\":1,\"grid_line_color\":null,\"ticker\":null},\"id\":\"3189\",\"type\":\"Grid\"},{\"attributes\":{},\"id\":\"3195\",\"type\":\"HelpTool\"},{\"attributes\":{\"source\":{\"id\":\"3203\"}},\"id\":\"3208\",\"type\":\"CDSView\"},{\"attributes\":{\"index\":0,\"label\":{\"value\":\"Illinois\"},\"renderers\":[{\"id\":\"3207\"}]},\"id\":\"3216\",\"type\":\"LegendItem\"},{\"attributes\":{},\"id\":\"3180\",\"type\":\"LinearScale\"},{\"attributes\":{\"axis_label\":\"Daily Cases per 1M (3DMA)\",\"axis_label_text_font_size\":\"11pt\",\"formatter\":{\"id\":\"3210\"},\"ticker\":{\"id\":\"3187\"}},\"id\":\"3186\",\"type\":\"LinearAxis\"},{\"attributes\":{\"background_fill_alpha\":0.0,\"border_line_alpha\":0.0,\"border_line_color\":\"black\",\"items\":[{\"id\":\"3216\"},{\"id\":\"3217\"},{\"id\":\"3218\"}],\"location\":\"top_left\"},\"id\":\"3215\",\"type\":\"Legend\"},{\"attributes\":{\"active_drag\":\"auto\",\"active_inspect\":\"auto\",\"active_multi\":null,\"active_scroll\":\"auto\",\"active_tap\":\"auto\",\"tools\":[{\"id\":\"3190\"},{\"id\":\"3191\"},{\"id\":\"3192\"},{\"id\":\"3193\"},{\"id\":\"3194\"},{\"id\":\"3195\"}]},\"id\":\"3196\",\"type\":\"Toolbar\"},{\"attributes\":{\"overlay\":{\"id\":\"3214\"}},\"id\":\"3192\",\"type\":\"BoxZoomTool\"}],\"root_ids\":[\"3172\"]},\"title\":\"Bokeh Application\",\"version\":\"2.0.0\"}};\n",
       "  var render_items = [{\"docid\":\"99062a07-3d3b-430d-a3d7-fabe5935bd1d\",\"root_ids\":[\"3172\"],\"roots\":{\"3172\":\"fee4f4ea-47a9-4f0d-a49a-a64ca38e09aa\"}}];\n",
       "  root.Bokeh.embed.embed_items_notebook(docs_json, render_items);\n",
       "\n",
       "  }\n",
       "  if (root.Bokeh !== undefined) {\n",
       "    embed_document(root);\n",
       "  } else {\n",
       "    var attempts = 0;\n",
       "    var timer = setInterval(function(root) {\n",
       "      if (root.Bokeh !== undefined) {\n",
       "        clearInterval(timer);\n",
       "        embed_document(root);\n",
       "      } else {\n",
       "        attempts++;\n",
       "        if (attempts > 100) {\n",
       "          clearInterval(timer);\n",
       "          console.log(\"Bokeh: ERROR: Unable to run BokehJS code because BokehJS library is missing\");\n",
       "        }\n",
       "      }\n",
       "    }, 10, root)\n",
       "  }\n",
       "})(window);"
      ],
      "application/vnd.bokehjs_exec.v0+json": ""
     },
     "metadata": {
      "application/vnd.bokehjs_exec.v0+json": {
       "id": "3172"
      }
     },
     "output_type": "display_data"
    },
    {
     "data": {
      "text/html": [
       "\n",
       "\n",
       "\n",
       "\n",
       "\n",
       "\n",
       "  <div class=\"bk-root\" id=\"9863144f-0c18-4b5a-a739-cb7d5dd60d8b\" data-root-id=\"3453\"></div>\n"
      ]
     },
     "metadata": {},
     "output_type": "display_data"
    },
    {
     "data": {
      "application/javascript": [
       "(function(root) {\n",
       "  function embed_document(root) {\n",
       "    \n",
       "  var docs_json = {\"a77a636e-3fab-47cb-a80f-f22f8157a8e1\":{\"roots\":{\"references\":[{\"attributes\":{\"background_fill_alpha\":0.02,\"background_fill_color\":\"#6883BA\",\"below\":[{\"id\":\"3463\"}],\"border_fill_alpha\":0.05,\"border_fill_color\":\"#6883BA\",\"center\":[{\"id\":\"3466\"},{\"id\":\"3470\"},{\"id\":\"3496\"}],\"left\":[{\"id\":\"3467\"}],\"min_border\":20,\"outline_line_color\":\"#6883BA\",\"plot_height\":325,\"plot_width\":525,\"renderers\":[{\"id\":\"3488\"}],\"title\":{\"id\":\"3454\"},\"toolbar\":{\"id\":\"3477\"},\"toolbar_location\":null,\"x_range\":{\"id\":\"3456\"},\"x_scale\":{\"id\":\"3459\"},\"y_range\":{\"id\":\"3452\"},\"y_scale\":{\"id\":\"3461\"}},\"id\":\"3453\",\"subtype\":\"Figure\",\"type\":\"Plot\"},{\"attributes\":{\"axis_label\":\"Days Since March 01, 2020\",\"axis_label_text_font_size\":\"11pt\",\"formatter\":{\"id\":\"3493\"},\"major_tick_line_color\":null,\"ticker\":{\"id\":\"3464\"}},\"id\":\"3463\",\"type\":\"LinearAxis\"},{\"attributes\":{},\"id\":\"3459\",\"type\":\"LinearScale\"},{\"attributes\":{\"axis\":{\"id\":\"3467\"},\"dimension\":1,\"grid_line_color\":null,\"ticker\":null},\"id\":\"3470\",\"type\":\"Grid\"},{\"attributes\":{\"source\":{\"id\":\"3484\"}},\"id\":\"3489\",\"type\":\"CDSView\"},{\"attributes\":{\"index\":1,\"label\":{\"value\":\"Massachusetts\"},\"renderers\":[{\"id\":\"3488\"}]},\"id\":\"3498\",\"type\":\"LegendItem\"},{\"attributes\":{},\"id\":\"3461\",\"type\":\"LinearScale\"},{\"attributes\":{\"index\":0,\"label\":{\"value\":\"Illinois\"},\"renderers\":[{\"id\":\"3488\"}]},\"id\":\"3497\",\"type\":\"LegendItem\"},{\"attributes\":{},\"id\":\"3491\",\"type\":\"BasicTickFormatter\"},{\"attributes\":{\"line_color\":{\"field\":\"color\"},\"line_width\":{\"value\":5},\"xs\":{\"field\":\"x\"},\"ys\":{\"field\":\"y\"}},\"id\":\"3486\",\"type\":\"MultiLine\"},{\"attributes\":{},\"id\":\"3456\",\"type\":\"DataRange1d\"},{\"attributes\":{},\"id\":\"3475\",\"type\":\"ResetTool\"},{\"attributes\":{},\"id\":\"3476\",\"type\":\"HelpTool\"},{\"attributes\":{\"index\":2,\"label\":{\"value\":\"Ohio\"},\"renderers\":[{\"id\":\"3488\"}]},\"id\":\"3499\",\"type\":\"LegendItem\"},{\"attributes\":{},\"id\":\"3472\",\"type\":\"WheelZoomTool\"},{\"attributes\":{\"overlay\":{\"id\":\"3495\"}},\"id\":\"3473\",\"type\":\"BoxZoomTool\"},{\"attributes\":{},\"id\":\"3474\",\"type\":\"SaveTool\"},{\"attributes\":{},\"id\":\"3493\",\"type\":\"BasicTickFormatter\"},{\"attributes\":{\"data_source\":{\"id\":\"3484\"},\"glyph\":{\"id\":\"3486\"},\"hover_glyph\":null,\"muted_glyph\":null,\"nonselection_glyph\":{\"id\":\"3487\"},\"selection_glyph\":null,\"view\":{\"id\":\"3489\"}},\"id\":\"3488\",\"type\":\"GlyphRenderer\"},{\"attributes\":{\"axis_label\":\"Daily Deaths per 1M (3DMA)\",\"axis_label_text_font_size\":\"11pt\",\"formatter\":{\"id\":\"3491\"},\"ticker\":{\"id\":\"3468\"}},\"id\":\"3467\",\"type\":\"LinearAxis\"},{\"attributes\":{},\"id\":\"3464\",\"type\":\"BasicTicker\"},{\"attributes\":{},\"id\":\"3507\",\"type\":\"UnionRenderers\"},{\"attributes\":{\"text\":\"Comparing New Fatalities as of Jun 17\"},\"id\":\"3454\",\"type\":\"Title\"},{\"attributes\":{},\"id\":\"3468\",\"type\":\"BasicTicker\"},{\"attributes\":{\"line_alpha\":{\"value\":0.1},\"line_color\":{\"field\":\"color\"},\"line_width\":{\"value\":5},\"xs\":{\"field\":\"x\"},\"ys\":{\"field\":\"y\"}},\"id\":\"3487\",\"type\":\"MultiLine\"},{\"attributes\":{\"active_drag\":\"auto\",\"active_inspect\":\"auto\",\"active_multi\":null,\"active_scroll\":\"auto\",\"active_tap\":\"auto\",\"tools\":[{\"id\":\"3471\"},{\"id\":\"3472\"},{\"id\":\"3473\"},{\"id\":\"3474\"},{\"id\":\"3475\"},{\"id\":\"3476\"}]},\"id\":\"3477\",\"type\":\"Toolbar\"},{\"attributes\":{},\"id\":\"3471\",\"type\":\"PanTool\"},{\"attributes\":{\"data\":{\"color\":[\"#440154\",\"#30678D\",\"#35B778\"],\"regions\":[\"Illinois\",\"Massachusetts\",\"Ohio\"],\"x\":[[0,1,2,3,4,5,6,7,8,9,10,11,12,13,14,15,16,17,18,19,20,21,22,23,24,25,26,27,28,29,30,31,32,33,34,35,36,37,38,39,40,41,42,43,44,45,46,47,48,49,50,51,52,53,54,55,56,57,58,59,60,61,62,63,64,65,66,67,68,69,70,71,72,73,74,75,76,77,78,79,80,81,82,83,84,85,86,87,88,89,90,91,92,93,94,95,96,97,98,99,100,101,102,103],[0,1,2,3,4,5,6,7,8,9,10,11,12,13,14,15,16,17,18,19,20,21,22,23,24,25,26,27,28,29,30,31,32,33,34,35,36,37,38,39,40,41,42,43,44,45,46,47,48,49,50,51,52,53,54,55,56,57,58,59,60,61,62,63,64,65,66,67,68,69,70,71,72,73,74,75,76,77,78,79,80,81,82,83,84,85,86,87,88,89,90,91,92,93,94,95],[0,1,2,3,4,5,6,7,8,9,10,11,12,13,14,15,16,17,18,19,20,21,22,23,24,25,26,27,28,29,30,31,32,33,34,35,36,37,38,39,40,41,42,43,44,45,46,47,48,49,50,51,52,53,54,55,56,57,58,59,60,61,62,63,64,65,66,67,68,69,70,71,72,73,74,75,76,77,78,79,80,81,82,83,84,85,86,87,88,89,90,91,92,93,94,95,96,97,98,99,100,101,102]],\"y\":[[0.0,0.0,0.0,0.0,0.0,0.0,0.0,0.0,0.0,0.0,0.025979494488917874,0.025979494488917874,0.1039179779556715,0.1039179779556715,0.12989747244458938,0.12989747244458938,0.18185646142242515,0.25979494488917876,0.25979494488917876,0.3637129228448503,0.4676309008005217,0.7274258456897006,1.013200285067797,1.013200285067797,1.3509337134237294,1.9744415811577583,2.182277537069101,2.883723888269884,2.649908437869623,3.0396008552033917,2.520010965425034,3.5591907449817484,4.88414496391656,5.7414682820508505,5.6115708096062615,5.585591315117343,4.988062941872232,5.14393990880574,4.962083447383314,5.923324743473276,7.22229946791917,6.910545534052154,8.07962278605346,5.663529798584097,5.585591315117343,5.429714348183836,7.144360984452416,8.807048631743159,8.495294697876146,8.027663797075624,6.36497614978488,4.88414496391656,6.520853116718387,7.326217445874841,9.664371949877449,8.625192170320734,8.936946104187749,6.832607050585402,5.325796370228163,7.2482789624080874,9.248700038054764,11.664793025524125,10.469736279033905,9.742310433344203,7.663950874230774,5.663529798584097,6.5468326112073045,10.0280848727223,12.184382915302484,11.87262898143547,8.755089642765324,6.468894127740551,4.572391030049546,6.494873622229469,9.04086408214342,9.690351444366366,8.729110148276405,6.884566039563237,6.468894127740551,4.390534568627121,3.455272767026077,5.897345248984358,7.845807335653198,9.014884587654503,6.416935138762715,5.299816875739246,3.689088217426338,5.066001425338986,6.001263226940029,8.417356214409391,7.014463512007826,6.313017160807044,4.364555074138202,7.975704808097786,8.625192170320734,9.586433466410694,6.7806480616075655,4.3385755796492855,4.364555074138202,2.7798059103142125,3.2734163056036523,1.7146466362685797,2.8317648992920486,4.598370524538464],[0.0,0.0,0.0,0.10181802705478069,0.15272704058217104,0.2545450676369517,0.2545450676369517,0.40727210821912274,0.6109081623286842,0.9672712570204165,1.1199982976025877,1.2727253381847587,1.5781794193491008,1.9854515275682234,2.9018137710612497,3.410903906335153,4.123630095718618,4.479993190410351,5.345446420375987,5.70180951506772,5.95635458270467,7.1781709073620386,9.316349475512434,10.741801854279363,12.472708314210637,14.101796747087125,16.13815728818274,16.850883477566203,16.850883477566203,19.294516126880943,19.498152180990505,22.705420033216093,23.214510168489998,25.098143669003445,24.487235506674757,24.385417479619974,24.487235506674757,23.723600303763902,22.959965100853047,23.723600303763902,21.789057789723067,14.254523787669298,6.618171758560746,6.414535704451184,14.050887733559735,25.759960844859513,28.458138561811207,28.661774615920763,22.450874965579143,22.501783979106534,19.03997105924399,18.632698951024867,21.178149627394383,23.519964249654343,24.945416628421274,21.38178568150395,21.73814877619568,20.669059492120482,15.323613071744493,17.105428545203154,19.03997105924399,22.959965100853047,19.854515275682235,16.03633926112796,10.43634777311502,11.861800151881951,13.694524638868003,17.869063748114012,14.7636139229432,12.116345219518903,11.40361903013544,9.570894543149384,8.60362328612897,8.90907736729331,11.40361903013544,12.472708314210637,11.250891989553267,10.487256786642412,16.13815728818274,16.13815728818274,15.578158139381447,8.450896245546797,7.6363520291085525,6.974534853252478,5.85453655564989,6.007263596232061,6.058172609759452,7.0254438667798675,7.076352880307258,4.276357136300788,4.276357136300788,4.276357136300788,6.7199897856155255,5.549082474485549,4.530902203937742,5.599991488012938],[0.0,0.0,0.0,0.0,0.0,0.0,0.0,0.0,0.0,0.0,0.0,0.0,0.0288937908168136,0.08668137245044079,0.08668137245044079,0.14446895408406799,0.14446895408406799,0.2022565357176952,0.2600441173513224,0.31783169898494956,0.433406862252204,0.4045130714353904,0.5778758163362719,0.866813724504408,1.0401764694052895,1.2135392143061712,1.0401764694052895,1.0690702602221032,1.0979640510389166,1.4735833316574933,1.878096403092884,2.1381405204442063,2.0514591479937656,1.8492026122760703,1.5602647041079343,1.1557516326725439,1.2424330051229846,2.2248218928946475,3.1205294082158685,3.322785943933564,2.716016336780478,2.600441173513224,2.3692908469787146,2.629334964330037,3.0627418265822413,4.01623692353709,4.247387250071599,3.842874178636208,2.9182728724981732,2.080352938810579,1.8203088214592567,2.5426535918795965,6.038802280714043,6.4144215613326185,5.86543953581316,2.4270784286123424,1.8203088214592567,1.5602647041079343,3.29389215311675,5.403138882744143,6.212165025614924,4.9408382296751245,3.0627418265822413,2.0225653571769517,1.4735833316574933,3.033848035765428,4.102918295987531,5.114200974576007,4.189599668437972,3.669511433735327,2.629334964330037,2.195928102077833,3.1783169898494954,4.507431367422921,5.171988556209634,4.391856204155666,5.05641339294238,3.842874178636208,3.322785943933564,1.3291143775734255,2.1670343112610198,3.2072107806663093,3.727299015368954,3.033848035765428,1.646946076558375,2.1670343112610198,3.149423199032682,4.160705877621158,3.842874178636208,2.802697709230919,2.0514591479937656,1.0979640510389166,1.415795750023866,1.4735833316574933,2.3115032653450878,2.484866010245969,1.993671566360138,1.4735833316574933,1.8492026122760703,1.935883984726511,1.878096403092884,1.2424330051229846,1.5602647041079343]]},\"selected\":{\"id\":\"3506\"},\"selection_policy\":{\"id\":\"3507\"}},\"id\":\"3484\",\"type\":\"ColumnDataSource\"},{\"attributes\":{\"end\":31.52795207751284},\"id\":\"3452\",\"type\":\"Range1d\"},{\"attributes\":{},\"id\":\"3506\",\"type\":\"Selection\"},{\"attributes\":{\"axis\":{\"id\":\"3463\"},\"grid_line_color\":null,\"ticker\":null},\"id\":\"3466\",\"type\":\"Grid\"},{\"attributes\":{\"background_fill_alpha\":0.0,\"border_line_alpha\":0.0,\"border_line_color\":\"black\",\"items\":[{\"id\":\"3497\"},{\"id\":\"3498\"},{\"id\":\"3499\"}],\"location\":\"top_left\"},\"id\":\"3496\",\"type\":\"Legend\"},{\"attributes\":{\"bottom_units\":\"screen\",\"fill_alpha\":0.5,\"fill_color\":\"lightgrey\",\"left_units\":\"screen\",\"level\":\"overlay\",\"line_alpha\":1.0,\"line_color\":\"black\",\"line_dash\":[4,4],\"line_width\":2,\"render_mode\":\"css\",\"right_units\":\"screen\",\"top_units\":\"screen\"},\"id\":\"3495\",\"type\":\"BoxAnnotation\"}],\"root_ids\":[\"3453\"]},\"title\":\"Bokeh Application\",\"version\":\"2.0.0\"}};\n",
       "  var render_items = [{\"docid\":\"a77a636e-3fab-47cb-a80f-f22f8157a8e1\",\"root_ids\":[\"3453\"],\"roots\":{\"3453\":\"9863144f-0c18-4b5a-a739-cb7d5dd60d8b\"}}];\n",
       "  root.Bokeh.embed.embed_items_notebook(docs_json, render_items);\n",
       "\n",
       "  }\n",
       "  if (root.Bokeh !== undefined) {\n",
       "    embed_document(root);\n",
       "  } else {\n",
       "    var attempts = 0;\n",
       "    var timer = setInterval(function(root) {\n",
       "      if (root.Bokeh !== undefined) {\n",
       "        clearInterval(timer);\n",
       "        embed_document(root);\n",
       "      } else {\n",
       "        attempts++;\n",
       "        if (attempts > 100) {\n",
       "          clearInterval(timer);\n",
       "          console.log(\"Bokeh: ERROR: Unable to run BokehJS code because BokehJS library is missing\");\n",
       "        }\n",
       "      }\n",
       "    }, 10, root)\n",
       "  }\n",
       "})(window);"
      ],
      "application/vnd.bokehjs_exec.v0+json": ""
     },
     "metadata": {
      "application/vnd.bokehjs_exec.v0+json": {
       "id": "3453"
      }
     },
     "output_type": "display_data"
    },
    {
     "data": {
      "text/html": [
       "\n",
       "\n",
       "\n",
       "\n",
       "\n",
       "\n",
       "  <div class=\"bk-root\" id=\"43f5d465-4090-4e19-9702-6bc92922c0ba\" data-root-id=\"3742\"></div>\n"
      ]
     },
     "metadata": {},
     "output_type": "display_data"
    },
    {
     "data": {
      "application/javascript": [
       "(function(root) {\n",
       "  function embed_document(root) {\n",
       "    \n",
       "  var docs_json = {\"d3bff962-61d4-4a66-aeb4-8cbc750cf80d\":{\"roots\":{\"references\":[{\"attributes\":{\"background_fill_alpha\":0.02,\"background_fill_color\":\"#6883BA\",\"below\":[{\"id\":\"3752\"}],\"border_fill_alpha\":0.05,\"border_fill_color\":\"#6883BA\",\"center\":[{\"id\":\"3755\"},{\"id\":\"3759\"},{\"id\":\"3785\"}],\"left\":[{\"id\":\"3756\"}],\"min_border\":20,\"outline_line_color\":\"#6883BA\",\"plot_height\":325,\"plot_width\":500,\"renderers\":[{\"id\":\"3777\"}],\"title\":{\"id\":\"3743\"},\"toolbar\":{\"id\":\"3766\"},\"toolbar_location\":null,\"x_range\":{\"id\":\"3745\"},\"x_scale\":{\"id\":\"3748\"},\"y_range\":{\"id\":\"3741\"},\"y_scale\":{\"id\":\"3750\"}},\"id\":\"3742\",\"subtype\":\"Figure\",\"type\":\"Plot\"},{\"attributes\":{},\"id\":\"3750\",\"type\":\"LinearScale\"},{\"attributes\":{\"bottom_units\":\"screen\",\"fill_alpha\":0.5,\"fill_color\":\"lightgrey\",\"left_units\":\"screen\",\"level\":\"overlay\",\"line_alpha\":1.0,\"line_color\":\"black\",\"line_dash\":[4,4],\"line_width\":2,\"render_mode\":\"css\",\"right_units\":\"screen\",\"top_units\":\"screen\"},\"id\":\"3784\",\"type\":\"BoxAnnotation\"},{\"attributes\":{\"active_drag\":\"auto\",\"active_inspect\":\"auto\",\"active_multi\":null,\"active_scroll\":\"auto\",\"active_tap\":\"auto\",\"tools\":[{\"id\":\"3760\"},{\"id\":\"3761\"},{\"id\":\"3762\"},{\"id\":\"3763\"},{\"id\":\"3764\"},{\"id\":\"3765\"}]},\"id\":\"3766\",\"type\":\"Toolbar\"},{\"attributes\":{},\"id\":\"3757\",\"type\":\"BasicTicker\"},{\"attributes\":{},\"id\":\"3745\",\"type\":\"DataRange1d\"},{\"attributes\":{\"index\":0,\"label\":{\"value\":\"Illinois\"},\"renderers\":[{\"id\":\"3777\"}]},\"id\":\"3786\",\"type\":\"LegendItem\"},{\"attributes\":{\"end\":1.9370999999999998,\"start\":0.33632999999999996},\"id\":\"3741\",\"type\":\"Range1d\"},{\"attributes\":{\"index\":1,\"label\":{\"value\":\"Massachusetts\"},\"renderers\":[{\"id\":\"3777\"}]},\"id\":\"3787\",\"type\":\"LegendItem\"},{\"attributes\":{\"index\":2,\"label\":{\"value\":\"Ohio\"},\"renderers\":[{\"id\":\"3777\"}]},\"id\":\"3788\",\"type\":\"LegendItem\"},{\"attributes\":{},\"id\":\"3764\",\"type\":\"ResetTool\"},{\"attributes\":{\"line_color\":{\"field\":\"color\"},\"line_width\":{\"value\":5},\"xs\":{\"field\":\"x\"},\"ys\":{\"field\":\"y\"}},\"id\":\"3775\",\"type\":\"MultiLine\"},{\"attributes\":{\"background_fill_alpha\":0.0,\"border_line_alpha\":0.0,\"border_line_color\":\"black\",\"items\":[{\"id\":\"3786\"},{\"id\":\"3787\"},{\"id\":\"3788\"}],\"location\":\"top_center\"},\"id\":\"3785\",\"type\":\"Legend\"},{\"attributes\":{\"text\":\"Apple Driving Queries as of Jun 17\"},\"id\":\"3743\",\"type\":\"Title\"},{\"attributes\":{\"data_source\":{\"id\":\"3773\"},\"glyph\":{\"id\":\"3775\"},\"hover_glyph\":null,\"muted_glyph\":null,\"nonselection_glyph\":{\"id\":\"3776\"},\"selection_glyph\":null,\"view\":{\"id\":\"3778\"}},\"id\":\"3777\",\"type\":\"GlyphRenderer\"},{\"attributes\":{},\"id\":\"3761\",\"type\":\"WheelZoomTool\"},{\"attributes\":{},\"id\":\"3780\",\"type\":\"BasicTickFormatter\"},{\"attributes\":{},\"id\":\"3753\",\"type\":\"BasicTicker\"},{\"attributes\":{},\"id\":\"3748\",\"type\":\"LinearScale\"},{\"attributes\":{},\"id\":\"3795\",\"type\":\"Selection\"},{\"attributes\":{\"axis\":{\"id\":\"3752\"},\"grid_line_color\":null,\"ticker\":null},\"id\":\"3755\",\"type\":\"Grid\"},{\"attributes\":{\"axis_label\":\"Days Since March 01, 2020\",\"axis_label_text_font_size\":\"11pt\",\"formatter\":{\"id\":\"3782\"},\"major_tick_line_color\":null,\"ticker\":{\"id\":\"3753\"}},\"id\":\"3752\",\"type\":\"LinearAxis\"},{\"attributes\":{\"overlay\":{\"id\":\"3784\"}},\"id\":\"3762\",\"type\":\"BoxZoomTool\"},{\"attributes\":{},\"id\":\"3765\",\"type\":\"HelpTool\"},{\"attributes\":{},\"id\":\"3763\",\"type\":\"SaveTool\"},{\"attributes\":{\"axis_label\":\"Change in Driving Mobility - Apple\",\"axis_label_text_font_size\":\"11pt\",\"formatter\":{\"id\":\"3780\"},\"ticker\":{\"id\":\"3757\"}},\"id\":\"3756\",\"type\":\"LinearAxis\"},{\"attributes\":{},\"id\":\"3782\",\"type\":\"BasicTickFormatter\"},{\"attributes\":{},\"id\":\"3796\",\"type\":\"UnionRenderers\"},{\"attributes\":{},\"id\":\"3760\",\"type\":\"PanTool\"},{\"attributes\":{\"axis\":{\"id\":\"3756\"},\"dimension\":1,\"grid_line_color\":null,\"ticker\":null},\"id\":\"3759\",\"type\":\"Grid\"},{\"attributes\":{\"data\":{\"color\":[\"#440154\",\"#30678D\",\"#35B778\"],\"regions\":[\"Illinois\",\"Massachusetts\",\"Ohio\"],\"x\":[[0,1,2,3,4,5,6,7,8,9,10,11,12,13,14,15,16,17,18,19,20,21,22,23,24,25,26,27,28,29,30,31,32,33,34,35,36,37,38,39,40,41,42,43,44,45,46,47,48,49,50,51,52,53,54,55,56,57,58,59,60,61,62,63,64,65,66,67,68,69,70,71,72,73,74,75,76,77,78,79,80,81,82,83,84,85,86,87,88,89,90,91,92,93,94,95,96,97,98,99,100,101,102,103,104,105,106,107,108],[0,1,2,3,4,5,6,7,8,9,10,11,12,13,14,15,16,17,18,19,20,21,22,23,24,25,26,27,28,29,30,31,32,33,34,35,36,37,38,39,40,41,42,43,44,45,46,47,48,49,50,51,52,53,54,55,56,57,58,59,60,61,62,63,64,65,66,67,68,69,70,71,72,73,74,75,76,77,78,79,80,81,82,83,84,85,86,87,88,89,90,91,92,93,94,95,96,97,98,99,100,101,102,103,104,105,106,107,108],[0,1,2,3,4,5,6,7,8,9,10,11,12,13,14,15,16,17,18,19,20,21,22,23,24,25,26,27,28,29,30,31,32,33,34,35,36,37,38,39,40,41,42,43,44,45,46,47,48,49,50,51,52,53,54,55,56,57,58,59,60,61,62,63,64,65,66,67,68,69,70,71,72,73,74,75,76,77,78,79,80,81,82,83,84,85,86,87,88,89,90,91,92,93,94,95,96,97,98,99,100,101,102,103,104,105,106,107,108]],\"y\":[[1.077,1.068,1.1,1.124,1.181,1.4180000000000001,1.4780000000000002,1.091,1.062,1.109,1.091,1.074,1.22,1.064,0.772,0.821,0.7829999999999999,0.693,0.679,0.755,0.568,0.374,0.495,0.529,0.57,0.544,0.605,0.522,0.429,0.5489999999999999,0.552,0.574,0.59,0.6659999999999999,0.562,0.46399999999999997,0.561,0.608,0.591,0.605,0.691,0.622,0.409,0.584,0.607,0.653,0.672,0.703,0.7290000000000001,0.58,0.706,0.6940000000000001,0.69,0.71,0.795,0.7,0.634,0.6990000000000001,0.7240000000000001,0.6970000000000001,0.7759999999999999,0.9209999999999999,0.91,0.7020000000000001,0.765,0.7609999999999999,0.8340000000000001,0.878,0.975,0.992,0.693,0.7659999999999999,0.8390000000000001,0.912,0.862,1.0979999999999999,1.0270000000000001,0.741,0.9470000000000001,0.966,1.0290000000000001,1.064,1.226,1.058,0.946,0.87,1.047,1.0590000000000002,1.077,1.301,1.265,1.002,1.0590000000000002,1.124,1.119,1.2229999999999999,1.376,1.38,1.077,1.225,1.16,1.2309999999999999,1.349,1.349,1.506,1.4240000000000002,1.148,1.272,1.321],[0.9570000000000001,0.9940000000000001,1.1,1.053,1.115,1.238,1.187,0.951,1.0270000000000001,1.014,0.9990000000000001,0.95,0.98,0.87,0.65,0.6940000000000001,0.594,0.629,0.5479999999999999,0.64,0.5670000000000001,0.429,0.46799999999999997,0.45399999999999996,0.43200000000000005,0.486,0.561,0.5,0.33299999999999996,0.429,0.46799999999999997,0.46799999999999997,0.442,0.473,0.48200000000000004,0.401,0.49200000000000005,0.504,0.46,0.45,0.555,0.542,0.355,0.409,0.545,0.5429999999999999,0.5379999999999999,0.612,0.47200000000000003,0.53,0.531,0.512,0.555,0.603,0.5870000000000001,0.682,0.436,0.49700000000000005,0.5920000000000001,0.631,0.584,0.66,0.7290000000000001,0.642,0.635,0.688,0.6759999999999999,0.698,0.769,0.708,0.605,0.6609999999999999,0.7170000000000001,0.774,0.8240000000000001,0.862,0.9,0.713,0.765,0.8420000000000001,0.8909999999999999,0.9420000000000001,1.079,0.878,0.81,0.77,0.9440000000000001,1.002,0.973,1.065,1.036,0.924,0.92,0.97,0.977,1.061,1.119,1.048,0.888,1.032,1.063,1.093,1.046,1.046,1.29,1.199,0.998,1.082,1.1540000000000001],[1.01,1.061,1.124,1.1540000000000001,1.215,1.392,1.4180000000000001,1.032,1.102,1.094,1.0859999999999999,1.046,1.139,0.972,0.718,0.8190000000000001,0.782,0.74,0.73,0.831,0.6659999999999999,0.526,0.629,0.542,0.602,0.637,0.6659999999999999,0.569,0.514,0.602,0.616,0.634,0.6759999999999999,0.764,0.6920000000000001,0.5,0.675,0.66,0.721,0.695,0.772,0.728,0.44299999999999995,0.647,0.71,0.754,0.784,0.797,0.8220000000000001,0.648,0.823,0.787,0.82,0.828,0.963,0.883,0.626,0.877,0.88,0.847,0.889,1.0590000000000002,1.038,0.795,0.9540000000000001,0.9470000000000001,0.986,1.053,1.094,1.0759999999999998,0.7859999999999999,0.904,1.022,1.139,1.115,1.2830000000000001,1.295,0.986,1.111,1.195,1.242,1.286,1.456,1.3869999999999998,1.13,1.063,1.3519999999999999,1.374,1.395,1.5,1.507,1.166,1.3419999999999999,1.3840000000000001,1.3719999999999999,1.409,1.653,1.614,1.278,1.421,1.46,1.43,1.5619999999999998,1.5619999999999998,1.761,1.6669999999999998,1.324,1.4580000000000002,1.535]]},\"selected\":{\"id\":\"3795\"},\"selection_policy\":{\"id\":\"3796\"}},\"id\":\"3773\",\"type\":\"ColumnDataSource\"},{\"attributes\":{\"line_alpha\":{\"value\":0.1},\"line_color\":{\"field\":\"color\"},\"line_width\":{\"value\":5},\"xs\":{\"field\":\"x\"},\"ys\":{\"field\":\"y\"}},\"id\":\"3776\",\"type\":\"MultiLine\"},{\"attributes\":{\"source\":{\"id\":\"3773\"}},\"id\":\"3778\",\"type\":\"CDSView\"}],\"root_ids\":[\"3742\"]},\"title\":\"Bokeh Application\",\"version\":\"2.0.0\"}};\n",
       "  var render_items = [{\"docid\":\"d3bff962-61d4-4a66-aeb4-8cbc750cf80d\",\"root_ids\":[\"3742\"],\"roots\":{\"3742\":\"43f5d465-4090-4e19-9702-6bc92922c0ba\"}}];\n",
       "  root.Bokeh.embed.embed_items_notebook(docs_json, render_items);\n",
       "\n",
       "  }\n",
       "  if (root.Bokeh !== undefined) {\n",
       "    embed_document(root);\n",
       "  } else {\n",
       "    var attempts = 0;\n",
       "    var timer = setInterval(function(root) {\n",
       "      if (root.Bokeh !== undefined) {\n",
       "        clearInterval(timer);\n",
       "        embed_document(root);\n",
       "      } else {\n",
       "        attempts++;\n",
       "        if (attempts > 100) {\n",
       "          clearInterval(timer);\n",
       "          console.log(\"Bokeh: ERROR: Unable to run BokehJS code because BokehJS library is missing\");\n",
       "        }\n",
       "      }\n",
       "    }, 10, root)\n",
       "  }\n",
       "})(window);"
      ],
      "application/vnd.bokehjs_exec.v0+json": ""
     },
     "metadata": {
      "application/vnd.bokehjs_exec.v0+json": {
       "id": "3742"
      }
     },
     "output_type": "display_data"
    },
    {
     "name": "stdout",
     "output_type": "stream",
     "text": [
      "\tBritish Columbia Ontario New South Wales\n"
     ]
    },
    {
     "data": {
      "text/html": [
       "\n",
       "\n",
       "\n",
       "\n",
       "\n",
       "\n",
       "  <div class=\"bk-root\" id=\"74423f84-5b1e-4a8d-95b0-7297da972e4f\" data-root-id=\"4039\"></div>\n"
      ]
     },
     "metadata": {},
     "output_type": "display_data"
    },
    {
     "data": {
      "application/javascript": [
       "(function(root) {\n",
       "  function embed_document(root) {\n",
       "    \n",
       "  var docs_json = {\"13007bdb-4cf6-46be-af72-00720b500748\":{\"roots\":{\"references\":[{\"attributes\":{\"background_fill_alpha\":0.02,\"background_fill_color\":\"#6883BA\",\"below\":[{\"id\":\"4049\"}],\"border_fill_alpha\":0.05,\"border_fill_color\":\"#6883BA\",\"center\":[{\"id\":\"4052\"},{\"id\":\"4056\"},{\"id\":\"4082\"}],\"left\":[{\"id\":\"4053\"}],\"min_border\":20,\"outline_line_color\":\"#6883BA\",\"plot_height\":325,\"plot_width\":525,\"renderers\":[{\"id\":\"4074\"}],\"title\":{\"id\":\"4040\"},\"toolbar\":{\"id\":\"4063\"},\"toolbar_location\":null,\"x_range\":{\"id\":\"4042\"},\"x_scale\":{\"id\":\"4045\"},\"y_range\":{\"id\":\"4038\"},\"y_scale\":{\"id\":\"4047\"}},\"id\":\"4039\",\"subtype\":\"Figure\",\"type\":\"Plot\"},{\"attributes\":{\"source\":{\"id\":\"4070\"}},\"id\":\"4075\",\"type\":\"CDSView\"},{\"attributes\":{\"axis\":{\"id\":\"4049\"},\"grid_line_color\":null,\"ticker\":null},\"id\":\"4052\",\"type\":\"Grid\"},{\"attributes\":{\"active_drag\":\"auto\",\"active_inspect\":\"auto\",\"active_multi\":null,\"active_scroll\":\"auto\",\"active_tap\":\"auto\",\"tools\":[{\"id\":\"4057\"},{\"id\":\"4058\"},{\"id\":\"4059\"},{\"id\":\"4060\"},{\"id\":\"4061\"},{\"id\":\"4062\"}]},\"id\":\"4063\",\"type\":\"Toolbar\"},{\"attributes\":{\"index\":1,\"label\":{\"value\":\"British Columbia\"},\"renderers\":[{\"id\":\"4074\"}]},\"id\":\"4083\",\"type\":\"LegendItem\"},{\"attributes\":{},\"id\":\"4047\",\"type\":\"LinearScale\"},{\"attributes\":{\"axis_label\":\"Daily Cases per 1M (3DMA)\",\"axis_label_text_font_size\":\"11pt\",\"formatter\":{\"id\":\"4077\"},\"ticker\":{\"id\":\"4054\"}},\"id\":\"4053\",\"type\":\"LinearAxis\"},{\"attributes\":{\"line_alpha\":{\"value\":0.1},\"line_color\":{\"field\":\"color\"},\"line_width\":{\"value\":5},\"xs\":{\"field\":\"x\"},\"ys\":{\"field\":\"y\"}},\"id\":\"4073\",\"type\":\"MultiLine\"},{\"attributes\":{\"line_color\":{\"field\":\"color\"},\"line_width\":{\"value\":5},\"xs\":{\"field\":\"x\"},\"ys\":{\"field\":\"y\"}},\"id\":\"4072\",\"type\":\"MultiLine\"},{\"attributes\":{},\"id\":\"4092\",\"type\":\"Selection\"},{\"attributes\":{\"bottom_units\":\"screen\",\"fill_alpha\":0.5,\"fill_color\":\"lightgrey\",\"left_units\":\"screen\",\"level\":\"overlay\",\"line_alpha\":1.0,\"line_color\":\"black\",\"line_dash\":[4,4],\"line_width\":2,\"render_mode\":\"css\",\"right_units\":\"screen\",\"top_units\":\"screen\"},\"id\":\"4081\",\"type\":\"BoxAnnotation\"},{\"attributes\":{\"background_fill_alpha\":0.0,\"border_line_alpha\":0.0,\"border_line_color\":\"black\",\"items\":[{\"id\":\"4083\"},{\"id\":\"4084\"},{\"id\":\"4085\"}],\"location\":\"top_left\"},\"id\":\"4082\",\"type\":\"Legend\"},{\"attributes\":{},\"id\":\"4079\",\"type\":\"BasicTickFormatter\"},{\"attributes\":{\"data_source\":{\"id\":\"4070\"},\"glyph\":{\"id\":\"4072\"},\"hover_glyph\":null,\"muted_glyph\":null,\"nonselection_glyph\":{\"id\":\"4073\"},\"selection_glyph\":null,\"view\":{\"id\":\"4075\"}},\"id\":\"4074\",\"type\":\"GlyphRenderer\"},{\"attributes\":{},\"id\":\"4050\",\"type\":\"BasicTicker\"},{\"attributes\":{},\"id\":\"4093\",\"type\":\"UnionRenderers\"},{\"attributes\":{\"end\":74.1274270061769,\"start\":-0.09751981052190478},\"id\":\"4038\",\"type\":\"Range1d\"},{\"attributes\":{\"index\":0,\"label\":{\"value\":\"New South Wales\"},\"renderers\":[{\"id\":\"4074\"}]},\"id\":\"4084\",\"type\":\"LegendItem\"},{\"attributes\":{\"text\":\"Comparing New Cases as of Jun 17\"},\"id\":\"4040\",\"type\":\"Title\"},{\"attributes\":{},\"id\":\"4060\",\"type\":\"SaveTool\"},{\"attributes\":{},\"id\":\"4042\",\"type\":\"DataRange1d\"},{\"attributes\":{},\"id\":\"4061\",\"type\":\"ResetTool\"},{\"attributes\":{\"axis_label\":\"Days Since March 01, 2020\",\"axis_label_text_font_size\":\"11pt\",\"formatter\":{\"id\":\"4079\"},\"major_tick_line_color\":null,\"ticker\":{\"id\":\"4050\"}},\"id\":\"4049\",\"type\":\"LinearAxis\"},{\"attributes\":{},\"id\":\"4054\",\"type\":\"BasicTicker\"},{\"attributes\":{},\"id\":\"4077\",\"type\":\"BasicTickFormatter\"},{\"attributes\":{},\"id\":\"4057\",\"type\":\"PanTool\"},{\"attributes\":{},\"id\":\"4045\",\"type\":\"LinearScale\"},{\"attributes\":{\"data\":{\"color\":[\"#440154\",\"#30678D\",\"#35B778\"],\"regions\":[\"New South Wales\",\"British Columbia\",\"Ontario\"],\"x\":[[0,1,2,3,4,5,6,7,8,9,10,11,12,13,14,15,16,17,18,19,20,21,22,23,24,25,26,27,28,29,30,31,32,33,34,35,36,37,38,39,40,41,42,43,44,45,46,47,48,49,50,51,52,53,54,55,56,57,58,59,60,61,62,63,64,65,66,67,68,69,70,71,72,73,74,75,76,77,78,79,80,81,82,83,84,85,86,87,88,89,90,91,92,93,94,95,96,97,98,99,100,101,102,103,104,105,106,107,108,109],[0,1,2,3,4,5,6,7,8,9,10,11,12,13,14,15,16,17,18,19,20,21,22,23,24,25,26,27,28,29,30,31,32,33,34,35,36,37,38,39,40,41,42,43,44,45,46,47,48,49,50,51,52,53,54,55,56,57,58,59,60,61,62,63,64,65,66,67,68,69,70,71,72,73,74,75,76,77,78,79,80,81,82,83,84,85,86,87,88,89,90,91,92,93,94,95,96,97,98,99,100,101,102,103,104,105,106,107,108,109],[0,1,2,3,4,5,6,7,8,9,10,11,12,13,14,15,16,17,18,19,20,21,22,23,24,25,26,27,28,29,30,31,32,33,34,35,36,37,38,39,40,41,42,43,44,45,46,47,48,49,50,51,52,53,54,55,56,57,58,59,60,61,62,63,64,65,66,67,68,69,70,71,72,73,74,75,76,77,78,79,80,81,82,83,84,85,86,87,88,89,90,91,92,93,94,95,96,97,98,99,100,101,102,103,104,105,106,107,108,109]],\"y\":[[0.09655426784347008,0.09655426784347008,0.4344942052956154,0.7724341427477607,0.7724341427477607,0.6276027409825555,0.28966280353041024,0.7724341427477607,1.0620969462781709,1.303482615886846,1.303482615886846,0.8207112766694957,1.7862539551041965,2.2690252943215468,3.331122240599718,3.813893579817068,4.731159124330034,6.420858811590761,6.565690213355966,6.903630150808111,8.158835632773222,17.476322479668084,15.255574319268272,18.441865158102782,17.379768211824615,26.552423656954275,28.338677612058465,28.386954745980205,27.614520603232442,30.26976296892787,20.035010577520044,18.876359363398404,12.841717623181522,17.23493681005941,15.014188649659598,13.614151765929282,11.972729212590291,9.317486846894862,7.434678623947197,6.565690213355966,6.565690213355966,5.93808747237341,4.055279249425744,1.9793624907911365,0.6276027409825555,1.400036883730316,1.6414225533389915,2.7035194996171623,2.4138566960867522,2.8966280353041025,1.7862539551041965,1.5931454194172565,0.6758798749042906,0.6276027409825555,0.6276027409825555,1.1103740801999058,1.255205481965111,1.0620969462781709,1.0620969462781709,0.6758798749042906,1.013819812356436,0.6758798749042906,0.9172655445129657,0.38621707137388034,0.24138566960867522,0.3379399374521453,0.5310484731390854,0.5793256070608205,0.4344942052956154,0.4344942052956154,0.28966280353041024,0.09655426784347008,0.28966280353041024,0.48277133921735044,0.8689884105912308,0.7241570088260256,0.5793256070608205,0.24138566960867522,0.19310853568694017,0.28966280353041024,0.28966280353041024,0.28966280353041024,0.24138566960867522,0.24138566960867522,0.28966280353041024,0.28966280353041024,0.09655426784347008,0.0,0.0,0.14483140176520512,0.24138566960867522,0.28966280353041024,0.5793256070608205,0.4344942052956154,0.38621707137388034,0.28966280353041024,0.28966280353041024,0.14483140176520512,0.09655426784347008,0.19310853568694017,0.38621707137388034,0.24138566960867522,0.04827713392173504,-0.09655426784347008,0.09655426784347008,0.6276027409825555,0.7724341427477607,0.7241570088260256,0.3379399374521453,0.28966280353041024],[0.0768718861601163,0.0768718861601163,0.0768718861601163,0.3074875446404652,0.3843594308005815,0.9224626339213956,0.6918469754410467,1.0762064062416283,0.8455907477612792,0.8455907477612792,0.9224626339213956,1.0762064062416283,2.4599003571237215,1.9217971540029075,2.07554092632314,2.9980035602445354,2.9980035602445354,8.686523136093141,9.839601428494886,12.914476874899538,18.295508906107678,14.836274028902444,15.451249118183377,14.836274028902444,14.836274028902444,19.448587198509422,8.30216370529256,20.524793604751054,12.222629899458491,18.833612109228493,9.916473314655002,9.916473314655002,11.60765481017756,12.376373671778724,14.605658370422097,6.303494665129536,7.0722135267307,4.842928828087326,6.7647259820902335,5.38103203120814,7.994676160652095,11.83827046865791,8.379035591452677,9.224626339213955,3.4592348772052337,5.534775803528373,5.457903917368258,6.534110323609885,7.764060502171746,6.610982209770002,5.534775803528373,8.148419932972327,11.377039151697213,13.606323850340585,9.916473314655002,11.761398582497794,9.532113883854421,11.146423493216863,8.071548046812211,10.685192176256166,8.763395022253258,7.0722135267307,6.457238437449769,4.535441283446862,6.072879006649187,4.689185055767094,6.457238437449769,4.919800714247443,6.3803665512896535,5.765391462008722,3.2286192187248846,2.9211316740844193,2.306156584803489,3.53610676336535,2.9980035602445354,3.612978649525466,3.9973380803260476,2.7673879017641867,2.8442597879243032,1.3836939508820933,2.9980035602445354,2.69051601560407,4.689185055767094,3.843594308005815,2.9211316740844193,1.768053381682675,1.8449252678427912,2.536772243283838,2.1524128124832567,1.6143096093624423,1.768053381682675,1.1530782924017444,2.69051601560407,2.1524128124832567,3.843594308005815,2.69051601560407,2.3830284709636054,0.6918469754410467,0.0,2.07554092632314,2.8442597879243032,3.6898505356855824,2.69051601560407,1.9217971540029075,2.2292846986433723,1.1530782924017444,1.1530782924017444,2.7673879017641867,3.612978649525466,5.073544486567676],[0.2363589750781521,0.3151453001042028,0.2363589750781521,0.1313105417100845,0.10504843336806759,0.1313105417100845,0.21009686673613517,0.1838347583941183,0.2363589750781521,0.21009686673613517,0.3151453001042028,0.21009686673613517,0.9979601169966422,0.9979601169966422,1.6282507172050478,2.704997159227741,2.7837834842537914,3.0726666760159773,2.100968667361352,3.230239326068079,4.096888901354637,4.412034201458839,5.121111126693296,5.541304860165566,6.906934493950445,9.323048461415999,10.662415986858862,11.975521403959705,13.052267845982398,18.69862113951603,21.587453057137893,27.233806350671525,28.546911767772368,33.851857652859785,32.51249012741692,40.995151121888384,28.678222309482454,28.783270742850522,24.213663891339582,37.08209697892786,39.682045704787534,36.031612645247186,33.8781197612018,32.38117958570683,34.27205138633205,36.714427462139625,62.24119677058005,65.7340571800683,67.38857000561536,45.197088456611084,42.20320810562116,44.698108398112765,56.64736769373045,52.65552722574389,48.19096880760101,33.98316819456987,39.39316251302535,37.292193845663995,39.07801721292115,37.02957276224383,37.42350438737408,36.241709511983316,35.270011503328696,30.963025735237924,31.96098585223457,30.122638268293382,35.086176744934576,33.90438186954382,35.66394312845895,32.51249012741692,28.389339117720265,26.025749366938747,26.52472942543707,27.496427434091693,27.52268954243371,28.88831917621859,29.649920318137077,29.12467815129674,26.997447375593374,29.15094025963876,32.11855850228667,34.37709981970012,34.92860409488247,35.79525367016903,34.193265061306,31.96098585223457,27.942883275905984,27.47016532574968,26.734826292173203,28.258028576010187,28.36307700937825,28.100455925958084,30.07011405160935,32.45996591073289,31.855937418866496,28.914581284560608,28.88831917621859,26.708564183831186,30.20142459331943,27.207544242329504,27.78531062585388,22.060171007294198,20.431920290089145,12.999743629298365,11.60785188717147,11.870472970591639,16.623914580496695,15.967361871946276,14.417897479767278,15.126974405001734]]},\"selected\":{\"id\":\"4092\"},\"selection_policy\":{\"id\":\"4093\"}},\"id\":\"4070\",\"type\":\"ColumnDataSource\"},{\"attributes\":{\"axis\":{\"id\":\"4053\"},\"dimension\":1,\"grid_line_color\":null,\"ticker\":null},\"id\":\"4056\",\"type\":\"Grid\"},{\"attributes\":{\"index\":2,\"label\":{\"value\":\"Ontario\"},\"renderers\":[{\"id\":\"4074\"}]},\"id\":\"4085\",\"type\":\"LegendItem\"},{\"attributes\":{},\"id\":\"4058\",\"type\":\"WheelZoomTool\"},{\"attributes\":{},\"id\":\"4062\",\"type\":\"HelpTool\"},{\"attributes\":{\"overlay\":{\"id\":\"4081\"}},\"id\":\"4059\",\"type\":\"BoxZoomTool\"}],\"root_ids\":[\"4039\"]},\"title\":\"Bokeh Application\",\"version\":\"2.0.0\"}};\n",
       "  var render_items = [{\"docid\":\"13007bdb-4cf6-46be-af72-00720b500748\",\"root_ids\":[\"4039\"],\"roots\":{\"4039\":\"74423f84-5b1e-4a8d-95b0-7297da972e4f\"}}];\n",
       "  root.Bokeh.embed.embed_items_notebook(docs_json, render_items);\n",
       "\n",
       "  }\n",
       "  if (root.Bokeh !== undefined) {\n",
       "    embed_document(root);\n",
       "  } else {\n",
       "    var attempts = 0;\n",
       "    var timer = setInterval(function(root) {\n",
       "      if (root.Bokeh !== undefined) {\n",
       "        clearInterval(timer);\n",
       "        embed_document(root);\n",
       "      } else {\n",
       "        attempts++;\n",
       "        if (attempts > 100) {\n",
       "          clearInterval(timer);\n",
       "          console.log(\"Bokeh: ERROR: Unable to run BokehJS code because BokehJS library is missing\");\n",
       "        }\n",
       "      }\n",
       "    }, 10, root)\n",
       "  }\n",
       "})(window);"
      ],
      "application/vnd.bokehjs_exec.v0+json": ""
     },
     "metadata": {
      "application/vnd.bokehjs_exec.v0+json": {
       "id": "4039"
      }
     },
     "output_type": "display_data"
    },
    {
     "data": {
      "text/html": [
       "\n",
       "\n",
       "\n",
       "\n",
       "\n",
       "\n",
       "  <div class=\"bk-root\" id=\"f0949d25-5811-449c-8707-2539d11d2e04\" data-root-id=\"4344\"></div>\n"
      ]
     },
     "metadata": {},
     "output_type": "display_data"
    },
    {
     "data": {
      "application/javascript": [
       "(function(root) {\n",
       "  function embed_document(root) {\n",
       "    \n",
       "  var docs_json = {\"9dfda865-4279-4b13-81d1-a209ee646044\":{\"roots\":{\"references\":[{\"attributes\":{\"background_fill_alpha\":0.02,\"background_fill_color\":\"#6883BA\",\"below\":[{\"id\":\"4354\"}],\"border_fill_alpha\":0.05,\"border_fill_color\":\"#6883BA\",\"center\":[{\"id\":\"4357\"},{\"id\":\"4361\"},{\"id\":\"4387\"}],\"left\":[{\"id\":\"4358\"}],\"min_border\":20,\"outline_line_color\":\"#6883BA\",\"plot_height\":325,\"plot_width\":525,\"renderers\":[{\"id\":\"4379\"}],\"title\":{\"id\":\"4345\"},\"toolbar\":{\"id\":\"4368\"},\"toolbar_location\":null,\"x_range\":{\"id\":\"4347\"},\"x_scale\":{\"id\":\"4350\"},\"y_range\":{\"id\":\"4343\"},\"y_scale\":{\"id\":\"4352\"}},\"id\":\"4344\",\"subtype\":\"Figure\",\"type\":\"Plot\"},{\"attributes\":{\"background_fill_alpha\":0.0,\"border_line_alpha\":0.0,\"border_line_color\":\"black\",\"items\":[{\"id\":\"4388\"},{\"id\":\"4389\"},{\"id\":\"4390\"}],\"location\":\"top_left\"},\"id\":\"4387\",\"type\":\"Legend\"},{\"attributes\":{\"axis\":{\"id\":\"4354\"},\"grid_line_color\":null,\"ticker\":null},\"id\":\"4357\",\"type\":\"Grid\"},{\"attributes\":{\"text\":\"Comparing New Fatalities as of Jun 17\"},\"id\":\"4345\",\"type\":\"Title\"},{\"attributes\":{\"index\":2,\"label\":{\"value\":\"Ontario\"},\"renderers\":[{\"id\":\"4379\"}]},\"id\":\"4390\",\"type\":\"LegendItem\"},{\"attributes\":{\"axis_label\":\"Days Since March 01, 2020\",\"axis_label_text_font_size\":\"11pt\",\"formatter\":{\"id\":\"4384\"},\"major_tick_line_color\":null,\"ticker\":{\"id\":\"4355\"}},\"id\":\"4354\",\"type\":\"LinearAxis\"},{\"attributes\":{},\"id\":\"4365\",\"type\":\"SaveTool\"},{\"attributes\":{},\"id\":\"4350\",\"type\":\"LinearScale\"},{\"attributes\":{\"overlay\":{\"id\":\"4386\"}},\"id\":\"4364\",\"type\":\"BoxZoomTool\"},{\"attributes\":{\"active_drag\":\"auto\",\"active_inspect\":\"auto\",\"active_multi\":null,\"active_scroll\":\"auto\",\"active_tap\":\"auto\",\"tools\":[{\"id\":\"4362\"},{\"id\":\"4363\"},{\"id\":\"4364\"},{\"id\":\"4365\"},{\"id\":\"4366\"},{\"id\":\"4367\"}]},\"id\":\"4368\",\"type\":\"Toolbar\"},{\"attributes\":{},\"id\":\"4366\",\"type\":\"ResetTool\"},{\"attributes\":{},\"id\":\"4359\",\"type\":\"BasicTicker\"},{\"attributes\":{},\"id\":\"4363\",\"type\":\"WheelZoomTool\"},{\"attributes\":{},\"id\":\"4352\",\"type\":\"LinearScale\"},{\"attributes\":{\"data\":{\"color\":[\"#440154\",\"#30678D\",\"#35B778\"],\"regions\":[\"New South Wales\",\"British Columbia\",\"Ontario\"],\"x\":[[0,1,2,3,4,5,6,7,8,9,10,11,12,13,14,15,16,17,18,19,20,21,22,23,24,25,26,27,28,29,30,31,32,33,34,35,36,37,38,39,40,41,42,43,44,45,46,47,48,49,50,51,52,53,54,55,56,57,58,59,60,61,62,63,64,65,66,67,68,69,70,71,72,73,74,75,76,77,78,79,80,81,82,83,84,85,86,87,88,89,90,91,92,93,94,95,96,97,98,99,100,101,102,103,104,105,106,107,108,109],[0,1,2,3,4,5,6,7,8,9,10,11,12,13,14,15,16,17,18,19,20,21,22,23,24,25,26,27,28,29,30,31,32,33,34,35,36,37,38,39,40,41,42,43,44,45,46,47,48,49,50,51,52,53,54,55,56,57,58,59,60,61,62,63,64,65,66,67,68,69,70,71,72,73,74,75,76,77,78,79,80,81,82,83,84,85,86,87,88,89,90,91,92,93,94,95,96,97,98,99,100,101,102,103,104,105,106,107,108,109],[0,1,2,3,4,5,6,7,8,9,10,11,12,13,14,15,16,17,18,19,20,21,22,23,24,25,26,27,28,29,30,31,32,33,34,35,36,37,38,39,40,41,42,43,44,45,46,47,48,49,50,51,52,53,54,55,56,57,58,59,60,61,62,63,64,65,66,67,68,69,70,71,72,73,74,75,76,77,78,79,80,81,82,83,84,85,86,87,88,89,90,91,92,93,94,95,96,97,98,99,100,101,102,103,104,105,106,107,108,109]],\"y\":[[0.0,0.0,0.0,0.04827713392173504,0.04827713392173504,0.04827713392173504,0.0,0.04827713392173504,0.04827713392173504,0.04827713392173504,0.0,0.0,0.0,0.0,0.0,0.0,0.09655426784347008,0.14483140176520512,0.14483140176520512,0.09655426784347008,0.04827713392173504,0.04827713392173504,0.0,0.04827713392173504,0.04827713392173504,0.04827713392173504,0.0,0.04827713392173504,0.04827713392173504,0.04827713392173504,0.0,0.04827713392173504,0.09655426784347008,0.19310853568694017,0.14483140176520512,0.28966280353041024,0.28966280353041024,0.4344942052956154,0.24138566960867522,0.14483140176520512,0.04827713392173504,0.09655426784347008,0.14483140176520512,0.14483140176520512,0.09655426784347008,0.04827713392173504,0.0,0.04827713392173504,0.04827713392173504,0.04827713392173504,0.0,0.0,0.0,0.24138566960867522,0.3379399374521453,0.3379399374521453,0.14483140176520512,0.04827713392173504,0.28966280353041024,0.28966280353041024,0.3379399374521453,0.09655426784347008,0.09655426784347008,0.04827713392173504,0.09655426784347008,0.09655426784347008,0.09655426784347008,0.04827713392173504,0.0,0.0,0.0,0.0,0.04827713392173504,0.04827713392173504,0.04827713392173504,0.0,0.0,0.04827713392173504,0.04827713392173504,0.09655426784347008,0.04827713392173504,0.09655426784347008,0.04827713392173504,0.04827713392173504,0.0,0.0,0.0,0.0,0.0,0.0,0.0,0.0,0.0,0.0,0.0,0.0,0.0,0.0,0.0,0.0,0.0,0.0,0.0,0.0,0.0,0.0,0.0,0.0,0.0,0.0],[0.0,0.0,0.0,0.0,0.0,0.0,0.0,0.0,0.0768718861601163,0.0768718861601163,0.0768718861601163,0.0,0.0,0.0,0.0,0.2306156584803489,0.2306156584803489,0.4612313169606978,0.2306156584803489,0.3074875446404652,0.2306156584803489,0.2306156584803489,0.3843594308005815,0.2306156584803489,0.2306156584803489,0.0768718861601163,0.0768718861601163,0.3074875446404652,0.2306156584803489,0.3843594308005815,0.5381032031208142,0.5381032031208142,0.9224626339213956,0.5381032031208142,1.0762064062416283,0.5381032031208142,0.5381032031208142,0.0768718861601163,0.3843594308005815,0.768718861601163,0.8455907477612792,1.1530782924017444,0.768718861601163,1.4605658370422097,0.8455907477612792,1.0762064062416283,0.4612313169606978,0.6149750892809304,0.4612313169606978,0.4612313169606978,0.3843594308005815,0.6918469754410467,0.6918469754410467,0.9224626339213956,0.8455907477612792,0.768718861601163,0.4612313169606978,0.4612313169606978,0.4612313169606978,0.6918469754410467,0.5381032031208142,0.4612313169606978,0.3843594308005815,0.2306156584803489,0.3843594308005815,0.5381032031208142,0.768718861601163,0.6918469754410467,0.4612313169606978,0.3843594308005815,0.2306156584803489,0.2306156584803489,0.2306156584803489,0.2306156584803489,0.3843594308005815,0.6149750892809304,0.6918469754410467,0.4612313169606978,0.2306156584803489,0.3843594308005815,0.6149750892809304,0.6918469754410467,0.6918469754410467,0.6149750892809304,0.3843594308005815,0.4612313169606978,0.3074875446404652,0.3843594308005815,0.2306156584803489,0.2306156584803489,0.1537437723202326,0.0,0.0768718861601163,0.0768718861601163,0.1537437723202326,0.0768718861601163,0.1537437723202326,0.0768718861601163,0.0768718861601163,0.0,0.0,0.0,0.0,0.0,0.0768718861601163,0.0768718861601163,0.0768718861601163,0.0,0.0,0.0],[0.0,0.0,0.0,0.0,0.0,0.0,0.0,0.0,0.0,0.0,0.0,0.0,0.0,0.0,0.0,0.0,0.026262108342016897,0.026262108342016897,0.026262108342016897,0.026262108342016897,0.05252421668403379,0.10504843336806759,0.10504843336806759,0.10504843336806759,0.0787863250260507,0.1838347583941183,0.28888319176218585,0.262621083420169,0.21009686673613517,0.34140740844621964,0.3939316251302535,0.42019373347227035,0.5777663835243717,0.8929116836285746,1.4969401754949632,1.7332991505731152,2.179754992387403,1.549464392178997,0.8929116836285746,1.313105417100845,1.812085475599166,2.62621083420169,1.9433960173092506,1.812085475599166,2.127230775703369,2.915094025963876,5.226159560061363,4.989800584983211,4.700917393221025,2.6524729425437066,2.62621083420169,3.414074084462197,4.49082052648489,4.779703718247076,4.412034201458839,4.044364684670603,4.044364684670603,4.22819944306472,4.096888901354637,5.068586910009261,4.779703718247076,5.068586910009261,3.6504330595403496,3.177715109384045,4.7534416099050585,5.593829076849599,6.145333352031955,4.22819944306472,4.201937334722704,4.359509984774806,3.7817436012504335,3.230239326068079,3.3090256510941294,3.4665983011462305,3.3352877594361465,2.28480342575547,2.4423760758075717,2.2060171007294196,2.100968667361352,1.4706780671529465,2.100968667361352,2.28480342575547,2.5474245091756393,2.0484444506773185,1.9696581256512675,2.127230775703369,2.0484444506773185,2.179754992387403,2.1534928840453857,2.0484444506773185,1.7858233672571493,1.3656296337848786,1.050484333680676,1.1292706587067267,1.260581200416811,2.179754992387403,1.8646096922831998,2.389851859123538,1.7332991505731152,2.0484444506773185,1.3918917421268957,1.313105417100845,1.0242222253386593,0.7090769252344562,0.5515042751823549,0.4989800584983211,0.7090769252344562,0.1575726500521014,0.34140740844621964,0.4464558418142873]]},\"selected\":{\"id\":\"4397\"},\"selection_policy\":{\"id\":\"4398\"}},\"id\":\"4375\",\"type\":\"ColumnDataSource\"},{\"attributes\":{\"index\":0,\"label\":{\"value\":\"New South Wales\"},\"renderers\":[{\"id\":\"4379\"}]},\"id\":\"4389\",\"type\":\"LegendItem\"},{\"attributes\":{\"source\":{\"id\":\"4375\"}},\"id\":\"4380\",\"type\":\"CDSView\"},{\"attributes\":{\"axis_label\":\"Daily Deaths per 1M (3DMA)\",\"axis_label_text_font_size\":\"11pt\",\"formatter\":{\"id\":\"4382\"},\"ticker\":{\"id\":\"4359\"}},\"id\":\"4358\",\"type\":\"LinearAxis\"},{\"attributes\":{},\"id\":\"4384\",\"type\":\"BasicTickFormatter\"},{\"attributes\":{},\"id\":\"4355\",\"type\":\"BasicTicker\"},{\"attributes\":{},\"id\":\"4397\",\"type\":\"Selection\"},{\"attributes\":{},\"id\":\"4347\",\"type\":\"DataRange1d\"},{\"attributes\":{},\"id\":\"4367\",\"type\":\"HelpTool\"},{\"attributes\":{\"line_alpha\":{\"value\":0.1},\"line_color\":{\"field\":\"color\"},\"line_width\":{\"value\":5},\"xs\":{\"field\":\"x\"},\"ys\":{\"field\":\"y\"}},\"id\":\"4378\",\"type\":\"MultiLine\"},{\"attributes\":{\"end\":6.75986668723515},\"id\":\"4343\",\"type\":\"Range1d\"},{\"attributes\":{},\"id\":\"4382\",\"type\":\"BasicTickFormatter\"},{\"attributes\":{\"line_color\":{\"field\":\"color\"},\"line_width\":{\"value\":5},\"xs\":{\"field\":\"x\"},\"ys\":{\"field\":\"y\"}},\"id\":\"4377\",\"type\":\"MultiLine\"},{\"attributes\":{\"axis\":{\"id\":\"4358\"},\"dimension\":1,\"grid_line_color\":null,\"ticker\":null},\"id\":\"4361\",\"type\":\"Grid\"},{\"attributes\":{},\"id\":\"4362\",\"type\":\"PanTool\"},{\"attributes\":{\"bottom_units\":\"screen\",\"fill_alpha\":0.5,\"fill_color\":\"lightgrey\",\"left_units\":\"screen\",\"level\":\"overlay\",\"line_alpha\":1.0,\"line_color\":\"black\",\"line_dash\":[4,4],\"line_width\":2,\"render_mode\":\"css\",\"right_units\":\"screen\",\"top_units\":\"screen\"},\"id\":\"4386\",\"type\":\"BoxAnnotation\"},{\"attributes\":{\"data_source\":{\"id\":\"4375\"},\"glyph\":{\"id\":\"4377\"},\"hover_glyph\":null,\"muted_glyph\":null,\"nonselection_glyph\":{\"id\":\"4378\"},\"selection_glyph\":null,\"view\":{\"id\":\"4380\"}},\"id\":\"4379\",\"type\":\"GlyphRenderer\"},{\"attributes\":{\"index\":1,\"label\":{\"value\":\"British Columbia\"},\"renderers\":[{\"id\":\"4379\"}]},\"id\":\"4388\",\"type\":\"LegendItem\"},{\"attributes\":{},\"id\":\"4398\",\"type\":\"UnionRenderers\"}],\"root_ids\":[\"4344\"]},\"title\":\"Bokeh Application\",\"version\":\"2.0.0\"}};\n",
       "  var render_items = [{\"docid\":\"9dfda865-4279-4b13-81d1-a209ee646044\",\"root_ids\":[\"4344\"],\"roots\":{\"4344\":\"f0949d25-5811-449c-8707-2539d11d2e04\"}}];\n",
       "  root.Bokeh.embed.embed_items_notebook(docs_json, render_items);\n",
       "\n",
       "  }\n",
       "  if (root.Bokeh !== undefined) {\n",
       "    embed_document(root);\n",
       "  } else {\n",
       "    var attempts = 0;\n",
       "    var timer = setInterval(function(root) {\n",
       "      if (root.Bokeh !== undefined) {\n",
       "        clearInterval(timer);\n",
       "        embed_document(root);\n",
       "      } else {\n",
       "        attempts++;\n",
       "        if (attempts > 100) {\n",
       "          clearInterval(timer);\n",
       "          console.log(\"Bokeh: ERROR: Unable to run BokehJS code because BokehJS library is missing\");\n",
       "        }\n",
       "      }\n",
       "    }, 10, root)\n",
       "  }\n",
       "})(window);"
      ],
      "application/vnd.bokehjs_exec.v0+json": ""
     },
     "metadata": {
      "application/vnd.bokehjs_exec.v0+json": {
       "id": "4344"
      }
     },
     "output_type": "display_data"
    },
    {
     "data": {
      "text/html": [
       "\n",
       "\n",
       "\n",
       "\n",
       "\n",
       "\n",
       "  <div class=\"bk-root\" id=\"b8c93cb3-d46e-4c4c-9dba-cbf528ca7a84\" data-root-id=\"4657\"></div>\n"
      ]
     },
     "metadata": {},
     "output_type": "display_data"
    },
    {
     "data": {
      "application/javascript": [
       "(function(root) {\n",
       "  function embed_document(root) {\n",
       "    \n",
       "  var docs_json = {\"8063d5b9-eb57-43fd-986b-708c5dfde7ba\":{\"roots\":{\"references\":[{\"attributes\":{\"background_fill_alpha\":0.02,\"background_fill_color\":\"#6883BA\",\"below\":[{\"id\":\"4667\"}],\"border_fill_alpha\":0.05,\"border_fill_color\":\"#6883BA\",\"center\":[{\"id\":\"4670\"},{\"id\":\"4674\"},{\"id\":\"4700\"}],\"left\":[{\"id\":\"4671\"}],\"min_border\":20,\"outline_line_color\":\"#6883BA\",\"plot_height\":325,\"plot_width\":500,\"renderers\":[{\"id\":\"4692\"}],\"title\":{\"id\":\"4658\"},\"toolbar\":{\"id\":\"4681\"},\"toolbar_location\":null,\"x_range\":{\"id\":\"4660\"},\"x_scale\":{\"id\":\"4663\"},\"y_range\":{\"id\":\"4656\"},\"y_scale\":{\"id\":\"4665\"}},\"id\":\"4657\",\"subtype\":\"Figure\",\"type\":\"Plot\"},{\"attributes\":{\"data\":{\"color\":[\"#440154\",\"#30678D\",\"#35B778\"],\"regions\":[\"New South Wales\",\"British Columbia\",\"Ontario\"],\"x\":[[0,1,2,3,4,5,6,7,8,9,10,11,12,13,14,15,16,17,18,19,20,21,22,23,24,25,26,27,28,29,30,31,32,33,34,35,36,37,38,39,40,41,42,43,44,45,46,47,48,49,50,51,52,53,54,55,56,57,58,59,60,61,62,63,64,65,66,67,68,69,70,71,72,73,74,75,76,77,78,79,80,81,82,83,84,85,86,87,88,89,90,91,92,93,94,95,96,97,98,99,100,101,102,103,104,105,106,107,108],[0,1,2,3,4,5,6,7,8,9,10,11,12,13,14,15,16,17,18,19,20,21,22,23,24,25,26,27,28,29,30,31,32,33,34,35,36,37,38,39,40,41,42,43,44,45,46,47,48,49,50,51,52,53,54,55,56,57,58,59,60,61,62,63,64,65,66,67,68,69,70,71,72,73,74,75,76,77,78,79,80,81,82,83,84,85,86,87,88,89,90,91,92,93,94,95,96,97,98,99,100,101,102,103,104,105,106,107,108],[0,1,2,3,4,5,6,7,8,9,10,11,12,13,14,15,16,17,18,19,20,21,22,23,24,25,26,27,28,29,30,31,32,33,34,35,36,37,38,39,40,41,42,43,44,45,46,47,48,49,50,51,52,53,54,55,56,57,58,59,60,61,62,63,64,65,66,67,68,69,70,71,72,73,74,75,76,77,78,79,80,81,82,83,84,85,86,87,88,89,90,91,92,93,94,95,96,97,98,99,100,101,102,103,104,105,106,107,108]],\"y\":[[1.018,1.0390000000000001,1.026,1.047,1.1340000000000001,1.202,0.951,0.9840000000000001,0.987,1.008,1.023,1.084,1.044,0.8059999999999999,0.807,0.823,0.8140000000000001,0.8190000000000001,0.882,0.84,0.665,0.691,0.645,0.626,0.583,0.617,0.506,0.395,0.526,0.545,0.5379999999999999,0.542,0.563,0.455,0.376,0.547,0.555,0.5760000000000001,0.614,0.33799999999999997,0.385,0.281,0.336,0.564,0.605,0.606,0.636,0.532,0.40399999999999997,0.575,0.604,0.627,0.64,0.68,0.528,0.45399999999999996,0.5920000000000001,0.616,0.638,0.611,0.6779999999999999,0.6409999999999999,0.527,0.6459999999999999,0.657,0.691,0.71,0.777,0.792,0.575,0.685,0.703,0.72,0.738,0.8059999999999999,0.838,0.6940000000000001,0.755,0.7859999999999999,0.823,0.82,0.846,0.894,0.7040000000000001,0.784,0.7979999999999999,0.852,0.887,0.935,1.0070000000000001,0.812,0.861,0.868,0.9079999999999999,0.951,1.114,1.22,0.9590000000000001,0.961,0.9229999999999999,0.915,0.9490000000000001,1.0390000000000001,1.0390000000000001,1.0959999999999999,0.9009999999999999,0.93,0.9540000000000001,0.978],[1.003,1.048,1.067,1.135,1.137,1.319,1.186,0.975,1.033,1.037,1.05,1.01,1.046,0.9329999999999999,0.7709999999999999,0.812,0.738,0.701,0.672,0.703,0.598,0.431,0.507,0.49700000000000005,0.528,0.488,0.537,0.452,0.431,0.486,0.523,0.528,0.511,0.5710000000000001,0.504,0.442,0.535,0.55,0.5760000000000001,0.648,0.565,0.5529999999999999,0.444,0.526,0.589,0.634,0.634,0.6859999999999999,0.647,0.537,0.637,0.632,0.63,0.665,0.7509999999999999,0.652,0.5589999999999999,0.655,0.6709999999999999,0.6859999999999999,0.743,0.831,0.6940000000000001,0.626,0.713,0.764,0.754,0.8240000000000001,0.94,0.893,0.742,0.767,0.792,0.818,0.873,1.065,0.845,0.7759999999999999,0.867,0.9329999999999999,0.924,0.9279999999999999,1.052,0.986,0.8490000000000001,0.922,0.99,1.033,1.038,1.177,0.972,0.856,1.008,0.96,1.028,1.056,1.2109999999999999,1.095,0.995,1.022,0.996,1.063,1.089,1.089,1.226,1.162,0.988,1.058,1.151],[0.932,1.031,1.11,1.1079999999999999,1.1740000000000002,1.228,1.202,0.955,1.018,1.033,1.013,0.986,1.014,0.8640000000000001,0.6659999999999999,0.7170000000000001,0.64,0.6,0.583,0.591,0.503,0.396,0.446,0.467,0.439,0.436,0.494,0.391,0.336,0.42200000000000004,0.447,0.462,0.46299999999999997,0.491,0.41700000000000004,0.337,0.44,0.444,0.475,0.519,0.386,0.45399999999999996,0.31,0.409,0.48700000000000004,0.49700000000000005,0.504,0.552,0.503,0.391,0.526,0.51,0.5429999999999999,0.552,0.619,0.574,0.429,0.573,0.584,0.581,0.607,0.716,0.614,0.564,0.642,0.672,0.695,0.6829999999999999,0.75,0.6679999999999999,0.552,0.622,0.6920000000000001,0.762,0.73,0.828,0.828,0.619,0.583,0.8340000000000001,0.92,0.9329999999999999,1.031,0.9420000000000001,0.758,0.929,0.946,0.958,0.9129999999999999,1.012,0.986,0.8240000000000001,0.956,0.943,0.97,1.06,1.146,1.06,0.898,1.024,1.0659999999999998,1.04,1.115,1.115,1.249,1.1520000000000001,0.988,1.0979999999999999,1.153]]},\"selected\":{\"id\":\"4710\"},\"selection_policy\":{\"id\":\"4711\"}},\"id\":\"4688\",\"type\":\"ColumnDataSource\"},{\"attributes\":{},\"id\":\"4660\",\"type\":\"DataRange1d\"},{\"attributes\":{},\"id\":\"4665\",\"type\":\"LinearScale\"},{\"attributes\":{},\"id\":\"4711\",\"type\":\"UnionRenderers\"},{\"attributes\":{\"background_fill_alpha\":0.0,\"border_line_alpha\":0.0,\"border_line_color\":\"black\",\"items\":[{\"id\":\"4701\"},{\"id\":\"4702\"},{\"id\":\"4703\"}],\"location\":\"top_center\"},\"id\":\"4700\",\"type\":\"Legend\"},{\"attributes\":{},\"id\":\"4710\",\"type\":\"Selection\"},{\"attributes\":{},\"id\":\"4663\",\"type\":\"LinearScale\"},{\"attributes\":{\"line_color\":{\"field\":\"color\"},\"line_width\":{\"value\":5},\"xs\":{\"field\":\"x\"},\"ys\":{\"field\":\"y\"}},\"id\":\"4690\",\"type\":\"MultiLine\"},{\"attributes\":{\"active_drag\":\"auto\",\"active_inspect\":\"auto\",\"active_multi\":null,\"active_scroll\":\"auto\",\"active_tap\":\"auto\",\"tools\":[{\"id\":\"4675\"},{\"id\":\"4676\"},{\"id\":\"4677\"},{\"id\":\"4678\"},{\"id\":\"4679\"},{\"id\":\"4680\"}]},\"id\":\"4681\",\"type\":\"Toolbar\"},{\"attributes\":{\"axis\":{\"id\":\"4671\"},\"dimension\":1,\"grid_line_color\":null,\"ticker\":null},\"id\":\"4674\",\"type\":\"Grid\"},{\"attributes\":{},\"id\":\"4678\",\"type\":\"SaveTool\"},{\"attributes\":{},\"id\":\"4697\",\"type\":\"BasicTickFormatter\"},{\"attributes\":{\"axis\":{\"id\":\"4667\"},\"grid_line_color\":null,\"ticker\":null},\"id\":\"4670\",\"type\":\"Grid\"},{\"attributes\":{},\"id\":\"4680\",\"type\":\"HelpTool\"},{\"attributes\":{},\"id\":\"4675\",\"type\":\"PanTool\"},{\"attributes\":{\"end\":1.4508999999999999,\"start\":0.28381},\"id\":\"4656\",\"type\":\"Range1d\"},{\"attributes\":{},\"id\":\"4668\",\"type\":\"BasicTicker\"},{\"attributes\":{\"axis_label\":\"Days Since March 01, 2020\",\"axis_label_text_font_size\":\"11pt\",\"formatter\":{\"id\":\"4697\"},\"major_tick_line_color\":null,\"ticker\":{\"id\":\"4668\"}},\"id\":\"4667\",\"type\":\"LinearAxis\"},{\"attributes\":{\"overlay\":{\"id\":\"4699\"}},\"id\":\"4677\",\"type\":\"BoxZoomTool\"},{\"attributes\":{},\"id\":\"4679\",\"type\":\"ResetTool\"},{\"attributes\":{},\"id\":\"4672\",\"type\":\"BasicTicker\"},{\"attributes\":{\"line_alpha\":{\"value\":0.1},\"line_color\":{\"field\":\"color\"},\"line_width\":{\"value\":5},\"xs\":{\"field\":\"x\"},\"ys\":{\"field\":\"y\"}},\"id\":\"4691\",\"type\":\"MultiLine\"},{\"attributes\":{\"data_source\":{\"id\":\"4688\"},\"glyph\":{\"id\":\"4690\"},\"hover_glyph\":null,\"muted_glyph\":null,\"nonselection_glyph\":{\"id\":\"4691\"},\"selection_glyph\":null,\"view\":{\"id\":\"4693\"}},\"id\":\"4692\",\"type\":\"GlyphRenderer\"},{\"attributes\":{\"text\":\"Apple Driving Queries as of Jun 17\"},\"id\":\"4658\",\"type\":\"Title\"},{\"attributes\":{\"index\":1,\"label\":{\"value\":\"British Columbia\"},\"renderers\":[{\"id\":\"4692\"}]},\"id\":\"4701\",\"type\":\"LegendItem\"},{\"attributes\":{\"bottom_units\":\"screen\",\"fill_alpha\":0.5,\"fill_color\":\"lightgrey\",\"left_units\":\"screen\",\"level\":\"overlay\",\"line_alpha\":1.0,\"line_color\":\"black\",\"line_dash\":[4,4],\"line_width\":2,\"render_mode\":\"css\",\"right_units\":\"screen\",\"top_units\":\"screen\"},\"id\":\"4699\",\"type\":\"BoxAnnotation\"},{\"attributes\":{\"index\":2,\"label\":{\"value\":\"Ontario\"},\"renderers\":[{\"id\":\"4692\"}]},\"id\":\"4703\",\"type\":\"LegendItem\"},{\"attributes\":{\"index\":0,\"label\":{\"value\":\"New South Wales\"},\"renderers\":[{\"id\":\"4692\"}]},\"id\":\"4702\",\"type\":\"LegendItem\"},{\"attributes\":{},\"id\":\"4695\",\"type\":\"BasicTickFormatter\"},{\"attributes\":{},\"id\":\"4676\",\"type\":\"WheelZoomTool\"},{\"attributes\":{\"axis_label\":\"Change in Driving Mobility - Apple\",\"axis_label_text_font_size\":\"11pt\",\"formatter\":{\"id\":\"4695\"},\"ticker\":{\"id\":\"4672\"}},\"id\":\"4671\",\"type\":\"LinearAxis\"},{\"attributes\":{\"source\":{\"id\":\"4688\"}},\"id\":\"4693\",\"type\":\"CDSView\"}],\"root_ids\":[\"4657\"]},\"title\":\"Bokeh Application\",\"version\":\"2.0.0\"}};\n",
       "  var render_items = [{\"docid\":\"8063d5b9-eb57-43fd-986b-708c5dfde7ba\",\"root_ids\":[\"4657\"],\"roots\":{\"4657\":\"b8c93cb3-d46e-4c4c-9dba-cbf528ca7a84\"}}];\n",
       "  root.Bokeh.embed.embed_items_notebook(docs_json, render_items);\n",
       "\n",
       "  }\n",
       "  if (root.Bokeh !== undefined) {\n",
       "    embed_document(root);\n",
       "  } else {\n",
       "    var attempts = 0;\n",
       "    var timer = setInterval(function(root) {\n",
       "      if (root.Bokeh !== undefined) {\n",
       "        clearInterval(timer);\n",
       "        embed_document(root);\n",
       "      } else {\n",
       "        attempts++;\n",
       "        if (attempts > 100) {\n",
       "          clearInterval(timer);\n",
       "          console.log(\"Bokeh: ERROR: Unable to run BokehJS code because BokehJS library is missing\");\n",
       "        }\n",
       "      }\n",
       "    }, 10, root)\n",
       "  }\n",
       "})(window);"
      ],
      "application/vnd.bokehjs_exec.v0+json": ""
     },
     "metadata": {
      "application/vnd.bokehjs_exec.v0+json": {
       "id": "4657"
      }
     },
     "output_type": "display_data"
    },
    {
     "name": "stdout",
     "output_type": "stream",
     "text": [
      "\tSweden Norway Finland Denmark\n"
     ]
    },
    {
     "data": {
      "text/html": [
       "\n",
       "\n",
       "\n",
       "\n",
       "\n",
       "\n",
       "  <div class=\"bk-root\" id=\"4d694969-510e-462c-85c3-50d46181869f\" data-root-id=\"4978\"></div>\n"
      ]
     },
     "metadata": {},
     "output_type": "display_data"
    },
    {
     "data": {
      "application/javascript": [
       "(function(root) {\n",
       "  function embed_document(root) {\n",
       "    \n",
       "  var docs_json = {\"47cd4130-b8a6-471f-8441-c5131ae3b122\":{\"roots\":{\"references\":[{\"attributes\":{\"background_fill_alpha\":0.02,\"background_fill_color\":\"#6883BA\",\"below\":[{\"id\":\"4988\"}],\"border_fill_alpha\":0.05,\"border_fill_color\":\"#6883BA\",\"center\":[{\"id\":\"4991\"},{\"id\":\"4995\"},{\"id\":\"5021\"}],\"left\":[{\"id\":\"4992\"}],\"min_border\":20,\"outline_line_color\":\"#6883BA\",\"plot_height\":325,\"plot_width\":525,\"renderers\":[{\"id\":\"5013\"}],\"title\":{\"id\":\"4979\"},\"toolbar\":{\"id\":\"5002\"},\"toolbar_location\":null,\"x_range\":{\"id\":\"4981\"},\"x_scale\":{\"id\":\"4984\"},\"y_range\":{\"id\":\"4977\"},\"y_scale\":{\"id\":\"4986\"}},\"id\":\"4978\",\"subtype\":\"Figure\",\"type\":\"Plot\"},{\"attributes\":{},\"id\":\"5001\",\"type\":\"HelpTool\"},{\"attributes\":{\"axis\":{\"id\":\"4992\"},\"dimension\":1,\"grid_line_color\":null,\"ticker\":null},\"id\":\"4995\",\"type\":\"Grid\"},{\"attributes\":{\"active_drag\":\"auto\",\"active_inspect\":\"auto\",\"active_multi\":null,\"active_scroll\":\"auto\",\"active_tap\":\"auto\",\"tools\":[{\"id\":\"4996\"},{\"id\":\"4997\"},{\"id\":\"4998\"},{\"id\":\"4999\"},{\"id\":\"5000\"},{\"id\":\"5001\"}]},\"id\":\"5002\",\"type\":\"Toolbar\"},{\"attributes\":{},\"id\":\"4996\",\"type\":\"PanTool\"},{\"attributes\":{\"data\":{\"color\":[\"#440154\",\"#3A528B\",\"#20908C\",\"#5BC862\"],\"regions\":[\"Denmark\",\"Finland\",\"Norway\",\"Sweden\"],\"x\":[[0,1,2,3,4,5,6,7,8,9,10,11,12,13,14,15,16,17,18,19,20,21,22,23,24,25,26,27,28,29,30,31,32,33,34,35,36,37,38,39,40,41,42,43,44,45,46,47,48,49,50,51,52,53,54,55,56,57,58,59,60,61,62,63,64,65,66,67,68,69,70,71,72,73,74,75,76,77,78,79,80,81,82,83,84,85,86,87,88,89,90,91,92,93,94,95,96,97,98,99,100,101,102,103,104,105,106,107,108,109],[0,1,2,3,4,5,6,7,8,9,10,11,12,13,14,15,16,17,18,19,20,21,22,23,24,25,26,27,28,29,30,31,32,33,34,35,36,37,38,39,40,41,42,43,44,45,46,47,48,49,50,51,52,53,54,55,56,57,58,59,60,61,62,63,64,65,66,67,68,69,70,71,72,73,74,75,76,77,78,79,80,81,82,83,84,85,86,87,88,89,90,91,92,93,94,95,96,97,98,99,100,101,102,103,104,105,106,107,108,109],[0,1,2,3,4,5,6,7,8,9,10,11,12,13,14,15,16,17,18,19,20,21,22,23,24,25,26,27,28,29,30,31,32,33,34,35,36,37,38,39,40,41,42,43,44,45,46,47,48,49,50,51,52,53,54,55,56,57,58,59,60,61,62,63,64,65,66,67,68,69,70,71,72,73,74,75,76,77,78,79,80,81,82,83,84,85,86,87,88,89,90,91,92,93,94,95,96,97,98,99,100,101,102,103,104,105,106,107,108,109],[0,1,2,3,4,5,6,7,8,9,10,11,12,13,14,15,16,17,18,19,20,21,22,23,24,25,26,27,28,29,30,31,32,33,34,35,36,37,38,39,40,41,42,43,44,45,46,47,48,49,50,51,52,53,54,55,56,57,58,59,60,61,62,63,64,65,66,67,68,69,70,71,72,73,74,75,76,77,78,79,80,81,82,83,84,85,86,87,88,89,90,91,92,93,94,95,96,97,98,99,100,101,102,103,104,105,106,107,108,109]],\"y\":[[0.18110453118103878,0.18110453118103878,0.18110453118103878,0.36220906236207756,0.36220906236207756,1.0262590100258866,0.7847863017845014,1.5092044265086566,4.044667863043199,14.427994317422758,24.569848063560926,31.69329295668179,32.538447435526635,23.24174816823331,15.03167608802622,6.821604007819127,9.055226559051938,11.65105817264683,14.307257963302066,16.782353222776262,16.239039629233144,14.729835202724487,11.771794526767522,15.997566920991758,19.861130252853922,25.777211604767857,27.467520562457548,28.795620457785166,31.27071571725936,32.055502019043864,39.782628682768184,42.982142066966546,48.83785524182013,54.150254823130595,58.55713174853587,59.34191805032038,55.78019560375995,60.005967997984186,62.360326903337686,57.59124091557033,45.15539644113901,35.85869717384568,32.538447435526635,30.123720353112788,31.089611186078322,30.60666576959555,33.86654733085425,33.9269155079146,33.86654733085425,30.485929415474864,26.682734260673048,27.346784208336857,31.87439748786283,33.68544279967322,31.089611186078322,32.17623837316456,30.304824884293826,29.459670405448975,24.509479886500586,26.139420667129933,27.769361447759284,27.769361447759284,24.08690264707816,22.034384627026387,21.67217556466431,24.992425302983353,25.0527934800437,24.932057125923006,23.96616629295747,23.000275459991926,20.887389262879804,17.808612232802147,16.420144160414186,14.36762614036241,12.073635412069253,12.073635412069253,11.530321818526136,12.9187898909141,10.685167339681287,11.228480933224406,11.469953641465791,12.9187898909141,11.228480933224406,10.383326454379558,10.745535516741636,9.477803798474364,8.391176611388131,7.244181247241551,7.546022132543282,9.960749214957133,9.236331090232978,9.477803798474364,6.399026768396705,6.097185883094972,6.157554060155318,6.761235830758782,8.511912965508824,9.236331090232978,8.270440257267438,5.2520314042501255,4.648349633646662,4.105036040103546,4.406876925405276,2.052518020051773,5.01055869600874,6.278290414276011,9.53817197553471,7.123444893120859,6.7008676536984355,6.097185883094972],[0.24929914220527902,0.24929914220527902,0.18697435665395926,0.0,0.3739487133079185,0.5609230699618778,0.5609230699618778,0.6855726410645172,0.9348717832697964,1.5581196387829939,2.243692279847511,1.8074187809882727,7.167350338401772,10.34591440151908,11.530085326994154,7.6036238372610105,5.983179412926696,5.733880270721418,7.66594862281233,8.039897336120248,11.654734898096795,14.085401534598263,15.581196387829937,16.765367313305017,15.830495530035217,16.079794672240496,15.518871602278619,17.88721345322877,17.57558952547217,19.383008306460447,15.64352117338126,12.838905823571869,10.34591440151908,12.277982753609994,27.173606500375417,25.490837290489782,34.96420469429038,26.550358644862218,34.90187990873906,26.737333001516173,28.731726139158404,26.05176036045166,22.99784586843699,18.385811737639326,15.955145101137857,16.391418599997095,19.009059593152525,20.44252966083288,27.67220478478597,25.80246121824638,23.62109372395019,20.75415358858948,21.564375800756636,25.927110789349015,23.745743295052826,21.564375800756636,18.198837380985367,18.69743566539593,16.516068171099736,20.56717923193552,18.69743566539593,19.383008306460447,16.827692098856335,16.142119457791814,17.201640812164253,14.708649390111464,19.881606590870998,21.564375800756636,20.31788008973024,19.133709164255162,18.011863024331408,15.33189724562466,7.66594862281233,5.733880270721418,10.03429047376248,14.023076749046945,14.459350247906182,12.58960668136659,9.473367403800601,7.042700767299132,5.983179412926696,7.042700767299132,8.600820406082127,7.790598193914969,5.359931557413499,3.864136704181825,3.7394871330791855,7.042700767299132,8.974769119390045,9.224068261595324,8.351521263876847,7.229675123953091,6.793401625093854,3.8018119186305053,3.240888848668627,1.6204444243343135,3.3655384197712666,3.3032136342199476,4.362734988592383,3.7394871330791855,3.8018119186305053,3.677162347527866,3.9264614897331445,2.4306666365014706,2.0567179231935517,1.4334700676803545,2.49299142205279,2.1813674942961914,1.5581196387829939,0.8102222121671567],[1.2308702252492512,1.299251904429765,1.1624885460687373,2.5301221296790164,4.239664109191866,5.19700761771906,6.22273280542677,6.085969447065742,6.633022880509855,17.30056483267003,28.85706861417689,33.98569455271543,40.755480791586315,33.64378615681287,35.490091494686745,23.044625883833202,25.506366334331705,22.497572450389093,28.24163350155226,30.840137310411794,38.84079377453193,43.69589299634842,48.345847180623366,50.9443509894829,47.79879374717925,51.14949602702444,60.996457829018446,63.66334331705849,62.569236450170266,47.18335863455463,42.806931167001736,39.59299224551758,48.0039387847208,49.850244122594674,46.97821359701309,36.92610675747754,33.84893119435441,36.65258004075548,27.28428999302507,23.660060996457826,15.591022853157183,22.08728237530601,21.471847262681383,19.76230528316853,14.633679344629986,14.702061023810503,20.03583199989059,21.471847262681383,20.24097703743213,12.44546561085354,14.975587740532555,10.599160272979663,17.77923658693363,16.75351139922592,18.599816737099797,11.009450348062746,8.616091576744758,9.299908368549898,11.009450348062746,12.513847290034054,9.50505340609144,8.410946539203218,6.769786238870881,7.453603030676022,8.27418318084219,9.983725160355037,10.188870197896579,8.889618293466816,7.8638931057591055,7.043312955592938,4.8550992218164915,4.239664109191866,3.9661373924698093,4.7867175426359765,4.376427467552893,4.239664109191866,4.239664109191866,3.62422899656724,2.59850380885953,2.0514503754154187,2.1882137337764465,3.5558473173867253,4.444809146733408,4.444809146733408,2.9404122047621,2.1882137337764465,2.5301221296790164,3.3507022798451835,3.213938921484156,2.6668854880400445,2.4617404504985023,1.9830686962349047,1.641160300332335,1.2308702252492512,2.5301221296790164,3.9661373924698093,4.581572505094435,3.692610675747754,2.9404122047621,2.6668854880400445,3.077175563123128,3.213938921484156,3.213938921484156,2.1882137337764465,1.7779236586933627,1.367633583610279,1.5727786211518209,1.846305337873877,2.1882137337764465,4.171282430011352],[0.24781647136958607,0.28321882442238405,0.31862117747518204,0.7434494141087581,2.7967858911710426,2.8321882442238406,4.460696484652549,3.8588564827549834,5.204145898761308,6.868056492242814,10.514498856681008,12.426225921532101,16.249680051234286,16.32048475733988,14.975195341333558,10.231280032258622,8.107138849090743,9.098404734569089,11.89519062574013,15.895656520706305,17.134738877554234,17.52416476113501,14.408757692488788,18.51543064661336,20.958193007256423,28.109468323921618,27.72004244034084,32.605567161626965,30.446023625406287,33.95085657763329,34.97752481616443,44.14673425683912,54.51962370130893,60.04239077754543,52.96192016698582,44.677769552631084,38.05752953175786,44.25294131599751,56.254339000896024,68.50355315716415,70.52148728117363,61.31687548744615,47.50995779685493,44.713171905683886,45.81064485032062,51.12099780824032,56.360546060054425,62.69756725650528,67.08745903505222,65.31734138241232,55.2630731154177,53.103529579197016,57.316409592479964,70.02585433843447,79.47828260353154,76.92931318373007,66.73343550452425,48.11179779875249,51.12099780824032,58.83871077375029,76.68149671236048,67.22906844726342,63.01618843398046,43.36788248967756,42.5182260164104,40.146268361872934,56.679167237529605,67.33527550642181,72.53942140518312,70.9109131647544,60.14859783670382,49.7403060391812,47.82857897433011,56.18353429479044,67.68929903694979,68.50355315716415,62.59136019734688,55.2630731154177,41.42075307177367,39.72144012523936,48.85524721286125,63.547223729772426,71.158729636124,58.944917832908686,45.56282837895103,36.60603305659314,44.3237460221031,57.67043312300795,66.69803315147144,72.07919081549674,71.68976493191597,64.25527079082839,47.36834838464374,52.253873105929856,115.4470733051743,144.05217457183508,154.00023577967136,109.18085681482906,100.79049914131593,77.67276259783884,72.11459316854953,73.77850376203104,111.69442388157772,83.69116261681448,101.60475326153028,93.56841911854514,117.74822625360618,95.55095088950182,84.68242850229284,104.36613679964853]]},\"selected\":{\"id\":\"5032\"},\"selection_policy\":{\"id\":\"5033\"}},\"id\":\"5009\",\"type\":\"ColumnDataSource\"},{\"attributes\":{\"line_color\":{\"field\":\"color\"},\"line_width\":{\"value\":5},\"xs\":{\"field\":\"x\"},\"ys\":{\"field\":\"y\"}},\"id\":\"5011\",\"type\":\"MultiLine\"},{\"attributes\":{\"index\":1,\"label\":{\"value\":\"Finland\"},\"renderers\":[{\"id\":\"5013\"}]},\"id\":\"5023\",\"type\":\"LegendItem\"},{\"attributes\":{},\"id\":\"5018\",\"type\":\"BasicTickFormatter\"},{\"attributes\":{},\"id\":\"4981\",\"type\":\"DataRange1d\"},{\"attributes\":{\"overlay\":{\"id\":\"5020\"}},\"id\":\"4998\",\"type\":\"BoxZoomTool\"},{\"attributes\":{\"text\":\"Comparing New Cases as of Jun 17\"},\"id\":\"4979\",\"type\":\"Title\"},{\"attributes\":{},\"id\":\"4997\",\"type\":\"WheelZoomTool\"},{\"attributes\":{},\"id\":\"4993\",\"type\":\"BasicTicker\"},{\"attributes\":{\"source\":{\"id\":\"5009\"}},\"id\":\"5014\",\"type\":\"CDSView\"},{\"attributes\":{\"axis_label\":\"Daily Cases per 1M (3DMA)\",\"axis_label_text_font_size\":\"11pt\",\"formatter\":{\"id\":\"5016\"},\"ticker\":{\"id\":\"4993\"}},\"id\":\"4992\",\"type\":\"LinearAxis\"},{\"attributes\":{},\"id\":\"4999\",\"type\":\"SaveTool\"},{\"attributes\":{\"index\":0,\"label\":{\"value\":\"Denmark\"},\"renderers\":[{\"id\":\"5013\"}]},\"id\":\"5022\",\"type\":\"LegendItem\"},{\"attributes\":{},\"id\":\"4989\",\"type\":\"BasicTicker\"},{\"attributes\":{\"index\":3,\"label\":{\"value\":\"Sweden\"},\"renderers\":[{\"id\":\"5013\"}]},\"id\":\"5025\",\"type\":\"LegendItem\"},{\"attributes\":{},\"id\":\"5016\",\"type\":\"BasicTickFormatter\"},{\"attributes\":{},\"id\":\"5033\",\"type\":\"UnionRenderers\"},{\"attributes\":{},\"id\":\"4984\",\"type\":\"LinearScale\"},{\"attributes\":{},\"id\":\"5032\",\"type\":\"Selection\"},{\"attributes\":{\"index\":2,\"label\":{\"value\":\"Norway\"},\"renderers\":[{\"id\":\"5013\"}]},\"id\":\"5024\",\"type\":\"LegendItem\"},{\"attributes\":{\"bottom_units\":\"screen\",\"fill_alpha\":0.5,\"fill_color\":\"lightgrey\",\"left_units\":\"screen\",\"level\":\"overlay\",\"line_alpha\":1.0,\"line_color\":\"black\",\"line_dash\":[4,4],\"line_width\":2,\"render_mode\":\"css\",\"right_units\":\"screen\",\"top_units\":\"screen\"},\"id\":\"5020\",\"type\":\"BoxAnnotation\"},{\"attributes\":{\"axis_label\":\"Days Since March 01, 2020\",\"axis_label_text_font_size\":\"11pt\",\"formatter\":{\"id\":\"5018\"},\"major_tick_line_color\":null,\"ticker\":{\"id\":\"4989\"}},\"id\":\"4988\",\"type\":\"LinearAxis\"},{\"attributes\":{},\"id\":\"5000\",\"type\":\"ResetTool\"},{\"attributes\":{\"background_fill_alpha\":0.0,\"border_line_alpha\":0.0,\"border_line_color\":\"black\",\"items\":[{\"id\":\"5022\"},{\"id\":\"5023\"},{\"id\":\"5024\"},{\"id\":\"5025\"}],\"location\":\"top_left\"},\"id\":\"5021\",\"type\":\"Legend\"},{\"attributes\":{\"axis\":{\"id\":\"4988\"},\"grid_line_color\":null,\"ticker\":null},\"id\":\"4991\",\"type\":\"Grid\"},{\"attributes\":{},\"id\":\"4986\",\"type\":\"LinearScale\"},{\"attributes\":{\"line_alpha\":{\"value\":0.1},\"line_color\":{\"field\":\"color\"},\"line_width\":{\"value\":5},\"xs\":{\"field\":\"x\"},\"ys\":{\"field\":\"y\"}},\"id\":\"5012\",\"type\":\"MultiLine\"},{\"attributes\":{\"end\":169.4002593576385},\"id\":\"4977\",\"type\":\"Range1d\"},{\"attributes\":{\"data_source\":{\"id\":\"5009\"},\"glyph\":{\"id\":\"5011\"},\"hover_glyph\":null,\"muted_glyph\":null,\"nonselection_glyph\":{\"id\":\"5012\"},\"selection_glyph\":null,\"view\":{\"id\":\"5014\"}},\"id\":\"5013\",\"type\":\"GlyphRenderer\"}],\"root_ids\":[\"4978\"]},\"title\":\"Bokeh Application\",\"version\":\"2.0.0\"}};\n",
       "  var render_items = [{\"docid\":\"47cd4130-b8a6-471f-8441-c5131ae3b122\",\"root_ids\":[\"4978\"],\"roots\":{\"4978\":\"4d694969-510e-462c-85c3-50d46181869f\"}}];\n",
       "  root.Bokeh.embed.embed_items_notebook(docs_json, render_items);\n",
       "\n",
       "  }\n",
       "  if (root.Bokeh !== undefined) {\n",
       "    embed_document(root);\n",
       "  } else {\n",
       "    var attempts = 0;\n",
       "    var timer = setInterval(function(root) {\n",
       "      if (root.Bokeh !== undefined) {\n",
       "        clearInterval(timer);\n",
       "        embed_document(root);\n",
       "      } else {\n",
       "        attempts++;\n",
       "        if (attempts > 100) {\n",
       "          clearInterval(timer);\n",
       "          console.log(\"Bokeh: ERROR: Unable to run BokehJS code because BokehJS library is missing\");\n",
       "        }\n",
       "      }\n",
       "    }, 10, root)\n",
       "  }\n",
       "})(window);"
      ],
      "application/vnd.bokehjs_exec.v0+json": ""
     },
     "metadata": {
      "application/vnd.bokehjs_exec.v0+json": {
       "id": "4978"
      }
     },
     "output_type": "display_data"
    },
    {
     "data": {
      "text/html": [
       "\n",
       "\n",
       "\n",
       "\n",
       "\n",
       "\n",
       "  <div class=\"bk-root\" id=\"e2786897-a01a-464d-9412-2b3116f1efb1\" data-root-id=\"5308\"></div>\n"
      ]
     },
     "metadata": {},
     "output_type": "display_data"
    },
    {
     "data": {
      "application/javascript": [
       "(function(root) {\n",
       "  function embed_document(root) {\n",
       "    \n",
       "  var docs_json = {\"9fbd3753-fb28-4f5e-ab81-188fe19df2c7\":{\"roots\":{\"references\":[{\"attributes\":{\"background_fill_alpha\":0.02,\"background_fill_color\":\"#6883BA\",\"below\":[{\"id\":\"5318\"}],\"border_fill_alpha\":0.05,\"border_fill_color\":\"#6883BA\",\"center\":[{\"id\":\"5321\"},{\"id\":\"5325\"},{\"id\":\"5351\"}],\"left\":[{\"id\":\"5322\"}],\"min_border\":20,\"outline_line_color\":\"#6883BA\",\"plot_height\":325,\"plot_width\":525,\"renderers\":[{\"id\":\"5343\"}],\"title\":{\"id\":\"5309\"},\"toolbar\":{\"id\":\"5332\"},\"toolbar_location\":null,\"x_range\":{\"id\":\"5311\"},\"x_scale\":{\"id\":\"5314\"},\"y_range\":{\"id\":\"5307\"},\"y_scale\":{\"id\":\"5316\"}},\"id\":\"5308\",\"subtype\":\"Figure\",\"type\":\"Plot\"},{\"attributes\":{},\"id\":\"5314\",\"type\":\"LinearScale\"},{\"attributes\":{},\"id\":\"5346\",\"type\":\"BasicTickFormatter\"},{\"attributes\":{\"data\":{\"color\":[\"#440154\",\"#3A528B\",\"#20908C\",\"#5BC862\"],\"regions\":[\"Denmark\",\"Finland\",\"Norway\",\"Sweden\"],\"x\":[[0,1,2,3,4,5,6,7,8,9,10,11,12,13,14,15,16,17,18,19,20,21,22,23,24,25,26,27,28,29,30,31,32,33,34,35,36,37,38,39,40,41,42,43,44,45,46,47,48,49,50,51,52,53,54,55,56,57,58,59,60,61,62,63,64,65,66,67,68,69,70,71,72,73,74,75,76,77,78,79,80,81,82,83,84,85,86,87,88,89,90,91,92,93,94,95,96,97,98,99,100,101,102,103,104,105,106,107,108,109],[0,1,2,3,4,5,6,7,8,9,10,11,12,13,14,15,16,17,18,19,20,21,22,23,24,25,26,27,28,29,30,31,32,33,34,35,36,37,38,39,40,41,42,43,44,45,46,47,48,49,50,51,52,53,54,55,56,57,58,59,60,61,62,63,64,65,66,67,68,69,70,71,72,73,74,75,76,77,78,79,80,81,82,83,84,85,86,87,88,89,90,91,92,93,94,95,96,97,98,99,100,101,102,103,104,105,106,107,108,109],[0,1,2,3,4,5,6,7,8,9,10,11,12,13,14,15,16,17,18,19,20,21,22,23,24,25,26,27,28,29,30,31,32,33,34,35,36,37,38,39,40,41,42,43,44,45,46,47,48,49,50,51,52,53,54,55,56,57,58,59,60,61,62,63,64,65,66,67,68,69,70,71,72,73,74,75,76,77,78,79,80,81,82,83,84,85,86,87,88,89,90,91,92,93,94,95,96,97,98,99,100,101,102,103,104,105,106,107,108,109],[0,1,2,3,4,5,6,7,8,9,10,11,12,13,14,15,16,17,18,19,20,21,22,23,24,25,26,27,28,29,30,31,32,33,34,35,36,37,38,39,40,41,42,43,44,45,46,47,48,49,50,51,52,53,54,55,56,57,58,59,60,61,62,63,64,65,66,67,68,69,70,71,72,73,74,75,76,77,78,79,80,81,82,83,84,85,86,87,88,89,90,91,92,93,94,95,96,97,98,99,100,101,102,103,104,105,106,107,108,109]],\"y\":[[0.0,0.0,0.0,0.0,0.0,0.0,0.0,0.0,0.0,0.0,0.0,0.0,0.0,0.060368177060346265,0.12073635412069253,0.18110453118103878,0.18110453118103878,0.12073635412069253,0.18110453118103878,0.3018408853017313,0.5433135935431164,0.42257723942242387,0.9055226559051939,1.1469953641465789,1.2677317182672716,1.0262590100258866,1.2073635412069252,1.871413488870734,1.871413488870734,1.5092044265086566,1.5092044265086566,1.9317816659310805,2.776936144775928,2.9580406759569664,3.440986092439737,3.380617915379391,2.8976724988966205,2.535463436534543,2.354358905353504,3.018408853017313,2.6561997906552355,2.535463436534543,2.1732543741724655,2.2939907282931578,2.354358905353504,2.1732543741724655,2.1732543741724655,2.233622551232812,2.233622551232812,2.052518020051773,1.6903089576896955,1.4488362494483102,1.7506771347500416,1.8110453118103877,1.9921498429914268,2.052518020051773,1.6903089576896955,1.4488362494483102,0.9658908329655402,1.2677317182672716,1.5092044265086566,1.5695726035690027,1.9317816659310805,1.9317816659310805,1.9921498429914268,1.6903089576896955,1.3280998953276177,1.2677317182672716,1.1469953641465789,1.2073635412069252,0.9055226559051939,0.6640499476638089,0.060368177060346265,0.24147270824138506,0.24147270824138506,0.6036817706034626,0.6036817706034626,0.6036817706034626,0.6640499476638089,0.4829454164827701,0.42257723942242387,0.7847863017845014,0.6036817706034626,0.42257723942242387,0.060368177060346265,0.12073635412069253,0.12073635412069253,0.18110453118103878,0.3018408853017313,0.3018408853017313,0.36220906236207756,0.36220906236207756,0.4829454164827701,0.5433135935431164,0.36220906236207756,0.36220906236207756,0.36220906236207756,0.42257723942242387,0.42257723942242387,0.42257723942242387,0.36220906236207756,0.24147270824138506,0.0,0.0,0.060368177060346265,0.24147270824138506,0.24147270824138506,0.24147270824138506,0.060368177060346265,0.060368177060346265],[0.0,0.0,0.0,0.0,0.0,0.0,0.0,0.0,0.0,0.0,0.0,0.0,0.0,0.0,0.0,0.0,0.0,0.0,0.0,0.0,0.062324785551319754,0.062324785551319754,0.062324785551319754,0.0,0.12464957110263951,0.24929914220527902,0.3739487133079185,0.3739487133079185,0.3739487133079185,0.3739487133079185,0.49859828441055803,0.3739487133079185,0.3739487133079185,0.18697435665395926,0.49859828441055803,0.5609230699618778,0.43627349885923833,0.5609230699618778,0.747897426615837,0.9348717832697964,0.8725469977184767,0.5609230699618778,0.8725469977184767,0.6855726410645172,0.9348717832697964,0.9971965688211161,0.9971965688211161,1.1218461399237556,1.1218461399237556,1.1841709254750752,0.9971965688211161,3.1785640631173075,3.4278632053225864,4.612034130797662,2.243692279847511,2.306017065398831,1.1218461399237556,0.9971965688211161,0.8102222121671567,0.9971965688211161,1.1218461399237556,1.1841709254750752,0.8725469977184767,1.1841709254750752,1.3711452821290344,1.6204444243343135,1.3711452821290344,0.9348717832697964,0.8725469977184767,0.8102222121671567,0.747897426615837,0.6855726410645172,0.6232478555131975,1.0595213543724358,0.9971965688211161,1.1218461399237556,0.8102222121671567,0.6855726410645172,0.43627349885923833,0.24929914220527902,0.3739487133079185,0.3739487133079185,0.31162392775659875,0.12464957110263951,0.062324785551319754,0.12464957110263951,0.3739487133079185,0.3739487133079185,0.31162392775659875,0.12464957110263951,0.18697435665395926,0.43627349885923833,0.24929914220527902,0.24929914220527902,0.062324785551319754,0.24929914220527902,0.12464957110263951,0.062324785551319754,0.062324785551319754,0.062324785551319754,0.12464957110263951,0.062324785551319754,0.12464957110263951,0.062324785551319754,0.062324785551319754,0.0,0.062324785551319754,0.062324785551319754,0.062324785551319754,0.0],[0.0,0.0,0.0,0.0,0.0,0.0,0.0,0.0,0.0,0.0,0.0,0.0,0.0,0.20514503754154187,0.20514503754154187,0.20514503754154187,0.0,0.20514503754154187,0.2735267167220558,0.2735267167220558,0.06838167918051395,0.0,0.20514503754154187,0.3419083959025698,0.4786717542635977,0.2735267167220558,0.4786717542635977,0.6154351126246256,0.7521984709856535,0.8889618293466813,1.0941068668882232,1.299251904429765,1.2308702252492512,1.367633583610279,1.2308702252492512,1.4360152627907932,1.1624885460687373,1.846305337873877,2.0514503754154187,2.1882137337764465,1.641160300332335,1.2308702252492512,1.367633583610279,1.4360152627907932,1.367633583610279,1.504396941971307,1.2308702252492512,1.504396941971307,0.9573435085271954,0.8889618293466813,1.367633583610279,1.2308702252492512,1.504396941971307,0.8889618293466813,1.1624885460687373,0.9573435085271954,0.4786717542635977,0.41029007508308374,0.3419083959025698,0.41029007508308374,0.3419083959025698,0.2735267167220558,0.2735267167220558,0.06838167918051395,0.2735267167220558,0.2735267167220558,0.3419083959025698,0.20514503754154187,0.20514503754154187,0.20514503754154187,0.1367633583610279,0.41029007508308374,0.6154351126246256,0.6838167918051395,0.5470534334441116,0.2735267167220558,0.20514503754154187,0.0,0.06838167918051395,0.06838167918051395,0.1367633583610279,0.1367633583610279,0.1367633583610279,0.06838167918051395,0.0,0.0,0.0,0.0,0.06838167918051395,0.06838167918051395,0.06838167918051395,0.0,0.0,0.06838167918051395,0.06838167918051395,0.1367633583610279,0.06838167918051395,0.06838167918051395,0.0,0.06838167918051395,0.06838167918051395,0.06838167918051395,0.20514503754154187,0.20514503754154187,0.20514503754154187,0.0,0.0,0.0,0.0,0.06838167918051395],[0.0,0.0,0.0,0.0,0.0,0.0,0.0,0.0,0.0,0.0,0.03540235305279801,0.03540235305279801,0.03540235305279801,0.03540235305279801,0.07080470610559601,0.17701176526399004,0.17701176526399004,0.24781647136958607,0.17701176526399004,0.31862117747518204,0.3540235305279801,0.3540235305279801,0.31862117747518204,0.5664376488447681,1.4514964751647184,1.8409223587454961,2.442762360643062,1.5223011812703144,1.1682776507423343,1.4514964751647184,2.6551764789598504,4.566903543810943,5.7351811945532765,6.301618843398045,4.743915309074933,3.2924188339102147,4.2128800132829625,7.717712965509967,10.12507297310023,11.18714356468417,9.877256501730646,7.080470610559602,3.7526494235965893,1.7347152995871022,5.16874354570851,10.762315328050594,14.656574163858375,12.992663570376868,10.903924740261786,7.328287081929187,6.372423549503641,8.992197675410694,14.054734161960809,15.61243769628392,13.700710631432829,9.02760002846349,6.124607078134055,4.319087072441357,5.770583547606075,9.487830618149866,11.045534152472978,10.549901209733806,7.328287081929187,3.2924188339102147,4.106672954124569,6.5494353147676305,9.275416499833078,9.59403767730826,11.36415532994816,9.877256501730646,6.5494353147676305,2.8675905972766382,3.2924188339102147,8.319552967407532,9.664842383413855,11.788983566581736,7.576103553298773,5.310352957919701,1.8409223587454961,2.442762360643062,5.381157664025297,6.124607078134055,6.443228255609237,5.699778841500478,4.496098837705347,3.6818447174909923,4.708512956022135,7.859322377721157,8.390357673513128,7.965529436879551,6.195411784239651,4.566903543810943,1.8763247117982946,2.584371772854255,5.204145898761308,5.628974135394883,6.05380237202846,4.035868248018972,3.434028246121407,1.9471294179038903,2.1595435362206783,4.814720015180529,4.2482823663357605,3.434028246121407,2.0887388301150827,2.1241411831678803,2.1241411831678803,1.3098870629535264,2.3011529484318705,5.912192959817267]]},\"selected\":{\"id\":\"5362\"},\"selection_policy\":{\"id\":\"5363\"}},\"id\":\"5339\",\"type\":\"ColumnDataSource\"},{\"attributes\":{\"source\":{\"id\":\"5339\"}},\"id\":\"5344\",\"type\":\"CDSView\"},{\"attributes\":{\"index\":3,\"label\":{\"value\":\"Sweden\"},\"renderers\":[{\"id\":\"5343\"}]},\"id\":\"5355\",\"type\":\"LegendItem\"},{\"attributes\":{\"axis\":{\"id\":\"5318\"},\"grid_line_color\":null,\"ticker\":null},\"id\":\"5321\",\"type\":\"Grid\"},{\"attributes\":{\"data_source\":{\"id\":\"5339\"},\"glyph\":{\"id\":\"5341\"},\"hover_glyph\":null,\"muted_glyph\":null,\"nonselection_glyph\":{\"id\":\"5342\"},\"selection_glyph\":null,\"view\":{\"id\":\"5344\"}},\"id\":\"5343\",\"type\":\"GlyphRenderer\"},{\"attributes\":{},\"id\":\"5327\",\"type\":\"WheelZoomTool\"},{\"attributes\":{},\"id\":\"5348\",\"type\":\"BasicTickFormatter\"},{\"attributes\":{\"line_color\":{\"field\":\"color\"},\"line_width\":{\"value\":5},\"xs\":{\"field\":\"x\"},\"ys\":{\"field\":\"y\"}},\"id\":\"5341\",\"type\":\"MultiLine\"},{\"attributes\":{\"active_drag\":\"auto\",\"active_inspect\":\"auto\",\"active_multi\":null,\"active_scroll\":\"auto\",\"active_tap\":\"auto\",\"tools\":[{\"id\":\"5326\"},{\"id\":\"5327\"},{\"id\":\"5328\"},{\"id\":\"5329\"},{\"id\":\"5330\"},{\"id\":\"5331\"}]},\"id\":\"5332\",\"type\":\"Toolbar\"},{\"attributes\":{\"end\":17.17368146591231},\"id\":\"5307\",\"type\":\"Range1d\"},{\"attributes\":{},\"id\":\"5316\",\"type\":\"LinearScale\"},{\"attributes\":{},\"id\":\"5323\",\"type\":\"BasicTicker\"},{\"attributes\":{\"axis_label\":\"Daily Deaths per 1M (3DMA)\",\"axis_label_text_font_size\":\"11pt\",\"formatter\":{\"id\":\"5346\"},\"ticker\":{\"id\":\"5323\"}},\"id\":\"5322\",\"type\":\"LinearAxis\"},{\"attributes\":{\"overlay\":{\"id\":\"5350\"}},\"id\":\"5328\",\"type\":\"BoxZoomTool\"},{\"attributes\":{\"axis_label\":\"Days Since March 01, 2020\",\"axis_label_text_font_size\":\"11pt\",\"formatter\":{\"id\":\"5348\"},\"major_tick_line_color\":null,\"ticker\":{\"id\":\"5319\"}},\"id\":\"5318\",\"type\":\"LinearAxis\"},{\"attributes\":{},\"id\":\"5326\",\"type\":\"PanTool\"},{\"attributes\":{\"index\":2,\"label\":{\"value\":\"Norway\"},\"renderers\":[{\"id\":\"5343\"}]},\"id\":\"5354\",\"type\":\"LegendItem\"},{\"attributes\":{\"text\":\"Comparing New Fatalities as of Jun 17\"},\"id\":\"5309\",\"type\":\"Title\"},{\"attributes\":{},\"id\":\"5330\",\"type\":\"ResetTool\"},{\"attributes\":{},\"id\":\"5319\",\"type\":\"BasicTicker\"},{\"attributes\":{\"line_alpha\":{\"value\":0.1},\"line_color\":{\"field\":\"color\"},\"line_width\":{\"value\":5},\"xs\":{\"field\":\"x\"},\"ys\":{\"field\":\"y\"}},\"id\":\"5342\",\"type\":\"MultiLine\"},{\"attributes\":{},\"id\":\"5362\",\"type\":\"Selection\"},{\"attributes\":{},\"id\":\"5363\",\"type\":\"UnionRenderers\"},{\"attributes\":{},\"id\":\"5311\",\"type\":\"DataRange1d\"},{\"attributes\":{\"index\":1,\"label\":{\"value\":\"Finland\"},\"renderers\":[{\"id\":\"5343\"}]},\"id\":\"5353\",\"type\":\"LegendItem\"},{\"attributes\":{\"axis\":{\"id\":\"5322\"},\"dimension\":1,\"grid_line_color\":null,\"ticker\":null},\"id\":\"5325\",\"type\":\"Grid\"},{\"attributes\":{},\"id\":\"5329\",\"type\":\"SaveTool\"},{\"attributes\":{},\"id\":\"5331\",\"type\":\"HelpTool\"},{\"attributes\":{\"index\":0,\"label\":{\"value\":\"Denmark\"},\"renderers\":[{\"id\":\"5343\"}]},\"id\":\"5352\",\"type\":\"LegendItem\"},{\"attributes\":{\"background_fill_alpha\":0.0,\"border_line_alpha\":0.0,\"border_line_color\":\"black\",\"items\":[{\"id\":\"5352\"},{\"id\":\"5353\"},{\"id\":\"5354\"},{\"id\":\"5355\"}],\"location\":\"top_left\"},\"id\":\"5351\",\"type\":\"Legend\"},{\"attributes\":{\"bottom_units\":\"screen\",\"fill_alpha\":0.5,\"fill_color\":\"lightgrey\",\"left_units\":\"screen\",\"level\":\"overlay\",\"line_alpha\":1.0,\"line_color\":\"black\",\"line_dash\":[4,4],\"line_width\":2,\"render_mode\":\"css\",\"right_units\":\"screen\",\"top_units\":\"screen\"},\"id\":\"5350\",\"type\":\"BoxAnnotation\"}],\"root_ids\":[\"5308\"]},\"title\":\"Bokeh Application\",\"version\":\"2.0.0\"}};\n",
       "  var render_items = [{\"docid\":\"9fbd3753-fb28-4f5e-ab81-188fe19df2c7\",\"root_ids\":[\"5308\"],\"roots\":{\"5308\":\"e2786897-a01a-464d-9412-2b3116f1efb1\"}}];\n",
       "  root.Bokeh.embed.embed_items_notebook(docs_json, render_items);\n",
       "\n",
       "  }\n",
       "  if (root.Bokeh !== undefined) {\n",
       "    embed_document(root);\n",
       "  } else {\n",
       "    var attempts = 0;\n",
       "    var timer = setInterval(function(root) {\n",
       "      if (root.Bokeh !== undefined) {\n",
       "        clearInterval(timer);\n",
       "        embed_document(root);\n",
       "      } else {\n",
       "        attempts++;\n",
       "        if (attempts > 100) {\n",
       "          clearInterval(timer);\n",
       "          console.log(\"Bokeh: ERROR: Unable to run BokehJS code because BokehJS library is missing\");\n",
       "        }\n",
       "      }\n",
       "    }, 10, root)\n",
       "  }\n",
       "})(window);"
      ],
      "application/vnd.bokehjs_exec.v0+json": ""
     },
     "metadata": {
      "application/vnd.bokehjs_exec.v0+json": {
       "id": "5308"
      }
     },
     "output_type": "display_data"
    },
    {
     "data": {
      "text/html": [
       "\n",
       "\n",
       "\n",
       "\n",
       "\n",
       "\n",
       "  <div class=\"bk-root\" id=\"030140c4-674c-421b-bb22-b0a1e546960a\" data-root-id=\"5646\"></div>\n"
      ]
     },
     "metadata": {},
     "output_type": "display_data"
    },
    {
     "data": {
      "application/javascript": [
       "(function(root) {\n",
       "  function embed_document(root) {\n",
       "    \n",
       "  var docs_json = {\"b376ee08-bfa8-451b-b9f4-87c6714a6582\":{\"roots\":{\"references\":[{\"attributes\":{\"background_fill_alpha\":0.02,\"background_fill_color\":\"#6883BA\",\"below\":[{\"id\":\"5656\"}],\"border_fill_alpha\":0.05,\"border_fill_color\":\"#6883BA\",\"center\":[{\"id\":\"5659\"},{\"id\":\"5663\"},{\"id\":\"5689\"}],\"left\":[{\"id\":\"5660\"}],\"min_border\":20,\"outline_line_color\":\"#6883BA\",\"plot_height\":325,\"plot_width\":500,\"renderers\":[{\"id\":\"5681\"}],\"title\":{\"id\":\"5647\"},\"toolbar\":{\"id\":\"5670\"},\"toolbar_location\":null,\"x_range\":{\"id\":\"5649\"},\"x_scale\":{\"id\":\"5652\"},\"y_range\":{\"id\":\"5645\"},\"y_scale\":{\"id\":\"5654\"}},\"id\":\"5646\",\"subtype\":\"Figure\",\"type\":\"Plot\"},{\"attributes\":{\"index\":0,\"label\":{\"value\":\"Denmark\"},\"renderers\":[{\"id\":\"5681\"}]},\"id\":\"5690\",\"type\":\"LegendItem\"},{\"attributes\":{},\"id\":\"5700\",\"type\":\"Selection\"},{\"attributes\":{\"axis\":{\"id\":\"5656\"},\"grid_line_color\":null,\"ticker\":null},\"id\":\"5659\",\"type\":\"Grid\"},{\"attributes\":{},\"id\":\"5668\",\"type\":\"ResetTool\"},{\"attributes\":{},\"id\":\"5686\",\"type\":\"BasicTickFormatter\"},{\"attributes\":{},\"id\":\"5649\",\"type\":\"DataRange1d\"},{\"attributes\":{\"line_alpha\":{\"value\":0.1},\"line_color\":{\"field\":\"color\"},\"line_width\":{\"value\":5},\"xs\":{\"field\":\"x\"},\"ys\":{\"field\":\"y\"}},\"id\":\"5680\",\"type\":\"MultiLine\"},{\"attributes\":{\"text\":\"Apple Driving Queries as of Jun 17\"},\"id\":\"5647\",\"type\":\"Title\"},{\"attributes\":{\"index\":3,\"label\":{\"value\":\"Sweden\"},\"renderers\":[{\"id\":\"5681\"}]},\"id\":\"5693\",\"type\":\"LegendItem\"},{\"attributes\":{},\"id\":\"5669\",\"type\":\"HelpTool\"},{\"attributes\":{\"data_source\":{\"id\":\"5677\"},\"glyph\":{\"id\":\"5679\"},\"hover_glyph\":null,\"muted_glyph\":null,\"nonselection_glyph\":{\"id\":\"5680\"},\"selection_glyph\":null,\"view\":{\"id\":\"5682\"}},\"id\":\"5681\",\"type\":\"GlyphRenderer\"},{\"attributes\":{\"background_fill_alpha\":0.0,\"border_line_alpha\":0.0,\"border_line_color\":\"black\",\"items\":[{\"id\":\"5690\"},{\"id\":\"5691\"},{\"id\":\"5692\"},{\"id\":\"5693\"}],\"location\":\"top_center\"},\"id\":\"5689\",\"type\":\"Legend\"},{\"attributes\":{},\"id\":\"5664\",\"type\":\"PanTool\"},{\"attributes\":{\"axis\":{\"id\":\"5660\"},\"dimension\":1,\"grid_line_color\":null,\"ticker\":null},\"id\":\"5663\",\"type\":\"Grid\"},{\"attributes\":{},\"id\":\"5684\",\"type\":\"BasicTickFormatter\"},{\"attributes\":{\"overlay\":{\"id\":\"5688\"}},\"id\":\"5666\",\"type\":\"BoxZoomTool\"},{\"attributes\":{},\"id\":\"5665\",\"type\":\"WheelZoomTool\"},{\"attributes\":{\"bottom_units\":\"screen\",\"fill_alpha\":0.5,\"fill_color\":\"lightgrey\",\"left_units\":\"screen\",\"level\":\"overlay\",\"line_alpha\":1.0,\"line_color\":\"black\",\"line_dash\":[4,4],\"line_width\":2,\"render_mode\":\"css\",\"right_units\":\"screen\",\"top_units\":\"screen\"},\"id\":\"5688\",\"type\":\"BoxAnnotation\"},{\"attributes\":{},\"id\":\"5657\",\"type\":\"BasicTicker\"},{\"attributes\":{\"axis_label\":\"Change in Driving Mobility - Apple\",\"axis_label_text_font_size\":\"11pt\",\"formatter\":{\"id\":\"5684\"},\"ticker\":{\"id\":\"5661\"}},\"id\":\"5660\",\"type\":\"LinearAxis\"},{\"attributes\":{},\"id\":\"5661\",\"type\":\"BasicTicker\"},{\"attributes\":{},\"id\":\"5652\",\"type\":\"LinearScale\"},{\"attributes\":{\"data\":{\"color\":[\"#440154\",\"#3A528B\",\"#20908C\",\"#5BC862\"],\"regions\":[\"Denmark\",\"Finland\",\"Norway\",\"Sweden\"],\"x\":[[0,1,2,3,4,5,6,7,8,9,10,11,12,13,14,15,16,17,18,19,20,21,22,23,24,25,26,27,28,29,30,31,32,33,34,35,36,37,38,39,40,41,42,43,44,45,46,47,48,49,50,51,52,53,54,55,56,57,58,59,60,61,62,63,64,65,66,67,68,69,70,71,72,73,74,75,76,77,78,79,80,81,82,83,84,85,86,87,88,89,90,91,92,93,94,95,96,97,98,99,100,101,102,103,104,105,106,107,108],[0,1,2,3,4,5,6,7,8,9,10,11,12,13,14,15,16,17,18,19,20,21,22,23,24,25,26,27,28,29,30,31,32,33,34,35,36,37,38,39,40,41,42,43,44,45,46,47,48,49,50,51,52,53,54,55,56,57,58,59,60,61,62,63,64,65,66,67,68,69,70,71,72,73,74,75,76,77,78,79,80,81,82,83,84,85,86,87,88,89,90,91,92,93,94,95,96,97,98,99,100,101,102,103,104,105,106,107,108],[0,1,2,3,4,5,6,7,8,9,10,11,12,13,14,15,16,17,18,19,20,21,22,23,24,25,26,27,28,29,30,31,32,33,34,35,36,37,38,39,40,41,42,43,44,45,46,47,48,49,50,51,52,53,54,55,56,57,58,59,60,61,62,63,64,65,66,67,68,69,70,71,72,73,74,75,76,77,78,79,80,81,82,83,84,85,86,87,88,89,90,91,92,93,94,95,96,97,98,99,100,101,102,103,104,105,106,107,108],[0,1,2,3,4,5,6,7,8,9,10,11,12,13,14,15,16,17,18,19,20,21,22,23,24,25,26,27,28,29,30,31,32,33,34,35,36,37,38,39,40,41,42,43,44,45,46,47,48,49,50,51,52,53,54,55,56,57,58,59,60,61,62,63,64,65,66,67,68,69,70,71,72,73,74,75,76,77,78,79,80,81,82,83,84,85,86,87,88,89,90,91,92,93,94,95,96,97,98,99,100,101,102,103,104,105,106,107,108]],\"y\":[[1.08,1.035,1.081,1.094,1.1079999999999999,1.188,1.138,1.045,1.016,1.01,0.904,0.6759999999999999,0.67,0.62,0.565,0.626,0.588,0.555,0.598,0.602,0.5660000000000001,0.5579999999999999,0.5920000000000001,0.605,0.629,0.643,0.665,0.626,0.594,0.6459999999999999,0.708,0.695,0.691,0.723,0.6779999999999999,0.755,0.847,0.8690000000000001,0.898,0.743,0.747,0.713,0.715,0.736,0.779,0.8029999999999999,0.8240000000000001,0.852,0.8079999999999999,0.84,0.857,0.889,0.9109999999999999,0.932,0.9229999999999999,0.858,0.858,0.862,0.894,0.8809999999999999,0.9059999999999999,0.9440000000000001,0.877,0.955,0.9470000000000001,0.983,1.003,1.072,1.006,1.005,1.003,1.0190000000000001,1.035,1.052,1.064,1.09,0.98,1.011,1.091,1.143,1.254,1.179,1.187,1.078,1.0759999999999998,1.136,1.166,1.186,1.234,1.4,1.268,1.21,1.308,1.2919999999999998,1.29,1.304,1.236,1.2,1.224,1.2690000000000001,1.305,1.3359999999999999,1.357,1.357,1.442,1.3359999999999999,1.335,1.39,1.446],[1.145,1.061,1.072,1.0759999999999998,1.097,1.275,1.2770000000000001,1.1440000000000001,0.993,0.998,0.985,0.8690000000000001,0.915,0.9179999999999999,0.799,0.6920000000000001,0.667,0.677,0.718,0.81,0.757,0.7290000000000001,0.66,0.665,0.688,0.732,0.759,0.722,0.685,0.677,0.6829999999999999,0.715,0.708,0.7190000000000001,0.731,0.737,0.731,0.755,0.802,0.8340000000000001,0.768,0.7609999999999999,0.5489999999999999,0.747,0.725,0.758,0.768,0.888,0.872,0.866,0.845,0.93,0.909,0.903,0.98,0.845,0.902,0.8809999999999999,0.897,0.9390000000000001,1.035,0.862,0.912,1.022,0.972,1.02,1.0170000000000001,1.04,1.156,1.1079999999999999,0.9890000000000001,0.998,1.006,1.015,1.043,1.166,1.046,1.087,1.087,1.101,1.21,1.235,1.344,1.208,1.229,1.177,1.226,1.225,1.248,1.368,1.3769999999999998,1.413,1.392,1.416,1.4169999999999998,1.392,1.536,1.435,1.518,1.425,1.5230000000000001,1.5730000000000002,1.645,1.645,1.801,1.673,1.746,1.663,1.67],[1.1640000000000001,1.01,1.025,1.063,1.121,1.248,1.115,1.183,0.9640000000000001,0.9390000000000001,0.868,0.8059999999999999,0.737,0.591,0.512,0.5670000000000001,0.546,0.541,0.5579999999999999,0.589,0.5589999999999999,0.5379999999999999,0.593,0.5760000000000001,0.593,0.628,0.6409999999999999,0.615,0.586,0.675,0.691,0.706,0.716,0.767,0.644,0.636,0.818,0.8290000000000001,0.8,0.7170000000000001,0.688,0.5710000000000001,0.6559999999999999,0.762,0.768,0.805,0.812,0.87,0.8440000000000001,0.863,0.909,0.914,0.9279999999999999,0.95,0.96,0.862,0.9359999999999999,0.8909999999999999,0.922,0.971,1.1059999999999999,0.917,0.9470000000000001,1.053,0.997,0.997,1.018,1.036,1.1079999999999999,1.001,1.002,1.0190000000000001,1.037,1.055,1.078,1.126,0.993,0.914,1.0859999999999999,1.171,1.436,1.273,1.307,1.202,1.431,1.2409999999999999,1.228,1.252,1.358,1.7209999999999999,1.3869999999999998,1.3019999999999998,1.57,1.3659999999999999,1.357,1.382,1.449,1.3730000000000002,1.47,1.4380000000000002,1.456,1.4869999999999999,1.57,1.57,1.844,1.548,1.6840000000000002,1.6540000000000001,1.629],[1.31,1.067,1.079,1.103,1.1320000000000001,1.209,1.285,1.242,1.038,1.031,1.012,0.927,0.9440000000000001,0.96,0.9209999999999999,0.7929999999999999,0.78,0.7879999999999999,0.835,0.8440000000000001,0.8909999999999999,0.8740000000000001,0.767,0.7859999999999999,0.841,0.873,0.907,0.9179999999999999,0.8859999999999999,0.8059999999999999,0.8340000000000001,0.8490000000000001,0.846,0.875,0.8690000000000001,0.9,0.9540000000000001,0.963,1.0290000000000001,1.045,0.9059999999999999,0.792,0.846,0.9470000000000001,0.9179999999999999,0.94,0.9490000000000001,1.008,0.9990000000000001,0.997,0.943,0.98,1.011,1.018,1.053,1.058,1.0390000000000001,0.966,0.986,1.024,1.091,0.965,1.079,1.115,1.01,1.011,1.04,1.075,1.162,1.18,1.087,1.0859999999999999,1.085,1.085,1.12,1.171,1.1640000000000001,1.155,1.11,1.158,1.338,1.38,1.369,1.2209999999999999,1.295,1.224,1.2570000000000001,1.265,1.307,1.426,1.4240000000000002,1.4,1.361,1.347,1.3619999999999999,1.416,1.4880000000000002,1.381,1.492,1.399,1.446,1.5019999999999998,1.534,1.534,1.6340000000000001,1.595,1.68,1.5719999999999998,1.5490000000000002]]},\"selected\":{\"id\":\"5700\"},\"selection_policy\":{\"id\":\"5701\"}},\"id\":\"5677\",\"type\":\"ColumnDataSource\"},{\"attributes\":{},\"id\":\"5667\",\"type\":\"SaveTool\"},{\"attributes\":{\"line_color\":{\"field\":\"color\"},\"line_width\":{\"value\":5},\"xs\":{\"field\":\"x\"},\"ys\":{\"field\":\"y\"}},\"id\":\"5679\",\"type\":\"MultiLine\"},{\"attributes\":{\"index\":1,\"label\":{\"value\":\"Finland\"},\"renderers\":[{\"id\":\"5681\"}]},\"id\":\"5691\",\"type\":\"LegendItem\"},{\"attributes\":{\"axis_label\":\"Days Since March 01, 2020\",\"axis_label_text_font_size\":\"11pt\",\"formatter\":{\"id\":\"5686\"},\"major_tick_line_color\":null,\"ticker\":{\"id\":\"5657\"}},\"id\":\"5656\",\"type\":\"LinearAxis\"},{\"attributes\":{\"active_drag\":\"auto\",\"active_inspect\":\"auto\",\"active_multi\":null,\"active_scroll\":\"auto\",\"active_tap\":\"auto\",\"tools\":[{\"id\":\"5664\"},{\"id\":\"5665\"},{\"id\":\"5666\"},{\"id\":\"5667\"},{\"id\":\"5668\"},{\"id\":\"5669\"}]},\"id\":\"5670\",\"type\":\"Toolbar\"},{\"attributes\":{},\"id\":\"5654\",\"type\":\"LinearScale\"},{\"attributes\":{\"end\":2.0284,\"start\":0.51712},\"id\":\"5645\",\"type\":\"Range1d\"},{\"attributes\":{\"source\":{\"id\":\"5677\"}},\"id\":\"5682\",\"type\":\"CDSView\"},{\"attributes\":{},\"id\":\"5701\",\"type\":\"UnionRenderers\"},{\"attributes\":{\"index\":2,\"label\":{\"value\":\"Norway\"},\"renderers\":[{\"id\":\"5681\"}]},\"id\":\"5692\",\"type\":\"LegendItem\"}],\"root_ids\":[\"5646\"]},\"title\":\"Bokeh Application\",\"version\":\"2.0.0\"}};\n",
       "  var render_items = [{\"docid\":\"b376ee08-bfa8-451b-b9f4-87c6714a6582\",\"root_ids\":[\"5646\"],\"roots\":{\"5646\":\"030140c4-674c-421b-bb22-b0a1e546960a\"}}];\n",
       "  root.Bokeh.embed.embed_items_notebook(docs_json, render_items);\n",
       "\n",
       "  }\n",
       "  if (root.Bokeh !== undefined) {\n",
       "    embed_document(root);\n",
       "  } else {\n",
       "    var attempts = 0;\n",
       "    var timer = setInterval(function(root) {\n",
       "      if (root.Bokeh !== undefined) {\n",
       "        clearInterval(timer);\n",
       "        embed_document(root);\n",
       "      } else {\n",
       "        attempts++;\n",
       "        if (attempts > 100) {\n",
       "          clearInterval(timer);\n",
       "          console.log(\"Bokeh: ERROR: Unable to run BokehJS code because BokehJS library is missing\");\n",
       "        }\n",
       "      }\n",
       "    }, 10, root)\n",
       "  }\n",
       "})(window);"
      ],
      "application/vnd.bokehjs_exec.v0+json": ""
     },
     "metadata": {
      "application/vnd.bokehjs_exec.v0+json": {
       "id": "5646"
      }
     },
     "output_type": "display_data"
    },
    {
     "name": "stdout",
     "output_type": "stream",
     "text": [
      "\tSpain Germany France\n"
     ]
    },
    {
     "data": {
      "text/html": [
       "\n",
       "\n",
       "\n",
       "\n",
       "\n",
       "\n",
       "  <div class=\"bk-root\" id=\"7a17f47b-2df1-49ab-a54b-ffe02ad771f2\" data-root-id=\"5992\"></div>\n"
      ]
     },
     "metadata": {},
     "output_type": "display_data"
    },
    {
     "data": {
      "application/javascript": [
       "(function(root) {\n",
       "  function embed_document(root) {\n",
       "    \n",
       "  var docs_json = {\"5d771e17-fd22-4c54-9dff-af78e45f0bff\":{\"roots\":{\"references\":[{\"attributes\":{\"background_fill_alpha\":0.02,\"background_fill_color\":\"#6883BA\",\"below\":[{\"id\":\"6002\"}],\"border_fill_alpha\":0.05,\"border_fill_color\":\"#6883BA\",\"center\":[{\"id\":\"6005\"},{\"id\":\"6009\"},{\"id\":\"6035\"}],\"left\":[{\"id\":\"6006\"}],\"min_border\":20,\"outline_line_color\":\"#6883BA\",\"plot_height\":325,\"plot_width\":525,\"renderers\":[{\"id\":\"6027\"}],\"title\":{\"id\":\"5993\"},\"toolbar\":{\"id\":\"6016\"},\"toolbar_location\":null,\"x_range\":{\"id\":\"5995\"},\"x_scale\":{\"id\":\"5998\"},\"y_range\":{\"id\":\"5991\"},\"y_scale\":{\"id\":\"6000\"}},\"id\":\"5992\",\"subtype\":\"Figure\",\"type\":\"Plot\"},{\"attributes\":{},\"id\":\"6046\",\"type\":\"UnionRenderers\"},{\"attributes\":{},\"id\":\"6010\",\"type\":\"PanTool\"},{\"attributes\":{\"line_color\":{\"field\":\"color\"},\"line_width\":{\"value\":5},\"xs\":{\"field\":\"x\"},\"ys\":{\"field\":\"y\"}},\"id\":\"6025\",\"type\":\"MultiLine\"},{\"attributes\":{\"axis_label\":\"Daily Cases per 1M (3DMA)\",\"axis_label_text_font_size\":\"11pt\",\"formatter\":{\"id\":\"6030\"},\"ticker\":{\"id\":\"6007\"}},\"id\":\"6006\",\"type\":\"LinearAxis\"},{\"attributes\":{},\"id\":\"6000\",\"type\":\"LinearScale\"},{\"attributes\":{},\"id\":\"6045\",\"type\":\"Selection\"},{\"attributes\":{\"axis\":{\"id\":\"6006\"},\"dimension\":1,\"grid_line_color\":null,\"ticker\":null},\"id\":\"6009\",\"type\":\"Grid\"},{\"attributes\":{},\"id\":\"5995\",\"type\":\"DataRange1d\"},{\"attributes\":{\"end\":206.7094260805933,\"start\":-39.30333345173644},\"id\":\"5991\",\"type\":\"Range1d\"},{\"attributes\":{\"index\":0,\"label\":{\"value\":\"France\"},\"renderers\":[{\"id\":\"6027\"}]},\"id\":\"6036\",\"type\":\"LegendItem\"},{\"attributes\":{},\"id\":\"6014\",\"type\":\"ResetTool\"},{\"attributes\":{},\"id\":\"5998\",\"type\":\"LinearScale\"},{\"attributes\":{\"axis\":{\"id\":\"6002\"},\"grid_line_color\":null,\"ticker\":null},\"id\":\"6005\",\"type\":\"Grid\"},{\"attributes\":{\"axis_label\":\"Days Since March 01, 2020\",\"axis_label_text_font_size\":\"11pt\",\"formatter\":{\"id\":\"6032\"},\"major_tick_line_color\":null,\"ticker\":{\"id\":\"6003\"}},\"id\":\"6002\",\"type\":\"LinearAxis\"},{\"attributes\":{},\"id\":\"6030\",\"type\":\"BasicTickFormatter\"},{\"attributes\":{\"text\":\"Comparing New Cases as of Jun 17\"},\"id\":\"5993\",\"type\":\"Title\"},{\"attributes\":{},\"id\":\"6007\",\"type\":\"BasicTicker\"},{\"attributes\":{},\"id\":\"6003\",\"type\":\"BasicTicker\"},{\"attributes\":{\"source\":{\"id\":\"6023\"}},\"id\":\"6028\",\"type\":\"CDSView\"},{\"attributes\":{\"line_alpha\":{\"value\":0.1},\"line_color\":{\"field\":\"color\"},\"line_width\":{\"value\":5},\"xs\":{\"field\":\"x\"},\"ys\":{\"field\":\"y\"}},\"id\":\"6026\",\"type\":\"MultiLine\"},{\"attributes\":{\"background_fill_alpha\":0.0,\"border_line_alpha\":0.0,\"border_line_color\":\"black\",\"items\":[{\"id\":\"6036\"},{\"id\":\"6037\"},{\"id\":\"6038\"}],\"location\":\"top_left\"},\"id\":\"6035\",\"type\":\"Legend\"},{\"attributes\":{\"index\":1,\"label\":{\"value\":\"Germany\"},\"renderers\":[{\"id\":\"6027\"}]},\"id\":\"6037\",\"type\":\"LegendItem\"},{\"attributes\":{},\"id\":\"6015\",\"type\":\"HelpTool\"},{\"attributes\":{\"data\":{\"color\":[\"#440154\",\"#30678D\",\"#35B778\"],\"regions\":[\"France\",\"Germany\",\"Spain\"],\"x\":[[0,1,2,3,4,5,6,7,8,9,10,11,12,13,14,15,16,17,18,19,20,21,22,23,24,25,26,27,28,29,30,31,32,33,34,35,36,37,38,39,40,41,42,43,44,45,46,47,48,49,50,51,52,53,54,55,56,57,58,59,60,61,62,63,64,65,66,67,68,69,70,71,72,73,74,75,76,77,78,79,80,81,82,83,84,85,86,87,88,89,90,91,92,93,94,95,96,97,98,99,100,101,102,103,104,105,106,107,108,109],[0,1,2,3,4,5,6,7,8,9,10,11,12,13,14,15,16,17,18,19,20,21,22,23,24,25,26,27,28,29,30,31,32,33,34,35,36,37,38,39,40,41,42,43,44,45,46,47,48,49,50,51,52,53,54,55,56,57,58,59,60,61,62,63,64,65,66,67,68,69,70,71,72,73,74,75,76,77,78,79,80,81,82,83,84,85,86,87,88,89,90,91,92,93,94,95,96,97,98,99,100,101,102,103,104,105,106,107,108,109],[0,1,2,3,4,5,6,7,8,9,10,11,12,13,14,15,16,17,18,19,20,21,22,23,24,25,26,27,28,29,30,31,32,33,34,35,36,37,38,39,40,41,42,43,44,45,46,47,48,49,50,51,52,53,54,55,56,57,58,59,60,61,62,63,64,65,66,67,68,69,70,71,72,73,74,75,76,77,78,79,80,81,82,83,84,85,86,87,88,89,90,91,92,93,94,95,96,97,98,99,100,101,102,103,104,105,106,107,108,109]],\"y\":[[0.48745100309415884,0.7099829827675791,0.551031568715136,0.8212489726042892,0.9854987671251472,2.3789728303182316,3.5181246310274075,3.968486970842662,2.9458995404386124,4.424147691126333,6.119629441019059,5.679863862140633,9.945060139214522,11.592856464891517,11.75180787894396,15.746786752128694,16.86474503096421,24.075840848476716,22.454536425141796,26.279967123337254,27.758215274024977,27.270764270930822,38.38146811319659,42.50360811762329,48.8245760164421,49.26963997578894,56.48073579330145,65.39261174117509,58.382854381462344,61.38703610705352,77.10733095684014,89.09226757639436,77.11792771777698,64.69322551934434,61.545987521105964,60.258481067281174,53.25932046850526,50.66311403898203,61.30226201955889,63.28385631474601,66.27744127940036,62.21358346012622,181.7291516861582,178.1421481090414,187.91766007326663,62.73282474603088,109.39036315089133,93.60118935501532,76.47152530063036,36.368083535198984,38.4927341030333,53.06328039117392,15.402392021681734,15.036803769361116,9.08672250333133,29.54906787234917,20.245111769812837,31.541258928473127,38.74705636551721,22.49692346888911,6.225597050387355,-9.754318442351591,9.976850422025011,7.989957746369473,11.243163353976142,10.379527337624534,27.514489772477898,27.307852934209723,28.521182061476704,12.149186414075068,10.527881990740148,6.151419723829547,7.677353298733001,5.054654966867691,6.532903117555411,5.891799080877225,6.495814454276508,2.7975448873229984,1.2451194100774707,6.469322551934434,9.690737876730614,9.282762580662675,6.448129030060775,4.742050519231219,2.930004399033368,2.760456224044095,-0.4079752960679373,0.9802003866567325,16.652809812227623,20.817336860401632,29.522575970007097,13.468483150710345,11.317340680533947,-3.3697699779117936,15.815665698218087,0.18014493592610217,8.254876769790213,-9.372835048625728,7.279974763601894,4.874510030941589,2.818738409196658,3.3697699779117936,4.747348899699634,4.0002772536531515,4.8851067918784175,5.0705501082729345,6.612378824581633,3.984382112247907,1.5047400530297947,1.61070766239809],[0.34755743153816815,0.45927232024686504,0.48409785107102,0.5461616781314071,1.3364410760336707,1.9612169351082347,2.221885008761861,2.3087743666464027,2.0936197661703937,2.722533213715651,3.591426792561071,3.7321048005646156,9.177171227995917,11.076324336043765,15.379416345563941,14.882905729080845,19.330813335075256,27.02672789056327,33.299312012133065,43.82119949310403,40.90419962126584,39.52638266052524,38.09891463813634,44.57424059477007,51.51297646012136,61.57559162084546,74.00076979833497,84.29095232494717,75.12619386236332,66.25934176966935,58.39378608688294,65.27873330211523,74.1000719216316,80.06647449637013,75.38686193601694,63.42509366724501,50.54064316950862,47.876036194382664,54.504452924432016,61.265272485543534,60.02813353280647,48.045677321681055,40.02289327700834,32.69108650694127,26.691583224437178,28.545222859307405,31.553249677500837,41.5331130688111,35.537747374777695,30.973987291603894,23.451851451884966,20.476925341457076,22.6077834038637,25.090336486279188,27.754943461405144,24.266956380611386,19.202548092483788,15.553195061333025,14.063663211883732,15.594570946039948,17.588888588913726,17.233055980434173,14.183653277533816,10.98529738968853,8.585496076686892,8.440680480212656,10.33569599978981,13.563015006929945,14.816704313549765,13.083054744329615,10.132954164725879,8.225525879736647,7.6421259053690065,9.181308816466608,7.869693271257093,8.531707426567891,6.84357133052536,7.824179798079477,5.453341604372686,8.382754241622962,8.705486142336975,10.219843522610422,7.993820925377868,6.260171356157719,5.407828131195069,3.6824537389163057,5.023032403420669,4.948555810948204,6.603591199225195,7.124927346532448,6.889084803702977,5.023032403420669,2.780459452305345,2.85493604477781,2.9418254026623516,3.632802677267996,4.3237799518736395,5.498855077550303,5.287838065544987,4.903042337770587,4.369293425051257,3.194218299374593,2.408076489943022,0.7654538670781085,2.9128622833675046,2.3832509591188673,3.42178566526268,1.88674034263577,4.07552464363209,4.493421079172031],[0.49815940927824065,0.6353337393693503,0.8663641900491141,0.9963188185564813,1.003538520140224,1.6966298721795152,2.007077040280448,2.988956455669444,4.8588591658587825,8.627543392572429,11.580401340323158,8.692520706826112,25.53608450169764,29.70185231551713,39.85997244384299,34.00479445942773,38.67594138410921,44.12681607983488,57.90922640319954,62.53705511837856,82.76665895602538,78.00887561233898,106.3173255221938,104.76508968168913,149.7871487579081,163.5262408717703,186.5137707144068,171.2513215663749,161.17261815547022,160.5445041176846,163.8005895319525,173.33059562249278,174.05978548245076,168.04577406319316,159.1944199215247,141.3689767112642,126.17150487748599,113.88357278195606,119.65933404895016,119.4644021061891,117.9049465641007,106.90212135047695,98.25291885315328,85.3801909293402,68.68824086772727,78.06663322500893,107.20534881699415,132.10609957932243,101.66783770226355,99.09762393845118,67.65582354125206,89.8997241207631,70.13940088605953,92.5132560940779,-8.57700548148623,-17.933738734016664,-38.91419153637271,46.74756775473346,35.14550730965907,38.14168346691225,28.662215287458192,32.07713413656845,26.460206304416698,29.102617084066498,20.179065926560614,19.83252025054097,20.641126827920147,24.806894641739632,25.471107187443955,23.485689251914735,20.95879369760482,33.05901355195744,32.142111450822135,31.34072457502671,15.19025213219447,15.544017509797857,14.489941078571434,8.36041443397395,10.273635353665746,9.667180420631366,13.406985841010043,10.331392966335686,20.121308313890676,19.74588383153606,19.74588383153606,4.158548112235748,6.9958908346465964,3.5159946712826553,18.092572168859004,16.641412150526737,21.43529400213183,11.356590591227139,7.753959500939571,5.082669914954803,6.115087241429997,7.378535018584956,7.551807856594779,7.104186358402736,6.425534409530931,5.335359470385795,4.736124238935158,5.270382156132111,7.147504567905192,5.34979887355328,6.707102771296892,6.483292022200871,8.815255633749736,6.4977314253683565,5.2198442450459135,5.450874695725677]]},\"selected\":{\"id\":\"6045\"},\"selection_policy\":{\"id\":\"6046\"}},\"id\":\"6023\",\"type\":\"ColumnDataSource\"},{\"attributes\":{\"overlay\":{\"id\":\"6034\"}},\"id\":\"6012\",\"type\":\"BoxZoomTool\"},{\"attributes\":{},\"id\":\"6032\",\"type\":\"BasicTickFormatter\"},{\"attributes\":{\"bottom_units\":\"screen\",\"fill_alpha\":0.5,\"fill_color\":\"lightgrey\",\"left_units\":\"screen\",\"level\":\"overlay\",\"line_alpha\":1.0,\"line_color\":\"black\",\"line_dash\":[4,4],\"line_width\":2,\"render_mode\":\"css\",\"right_units\":\"screen\",\"top_units\":\"screen\"},\"id\":\"6034\",\"type\":\"BoxAnnotation\"},{\"attributes\":{\"data_source\":{\"id\":\"6023\"},\"glyph\":{\"id\":\"6025\"},\"hover_glyph\":null,\"muted_glyph\":null,\"nonselection_glyph\":{\"id\":\"6026\"},\"selection_glyph\":null,\"view\":{\"id\":\"6028\"}},\"id\":\"6027\",\"type\":\"GlyphRenderer\"},{\"attributes\":{\"index\":2,\"label\":{\"value\":\"Spain\"},\"renderers\":[{\"id\":\"6027\"}]},\"id\":\"6038\",\"type\":\"LegendItem\"},{\"attributes\":{},\"id\":\"6013\",\"type\":\"SaveTool\"},{\"attributes\":{},\"id\":\"6011\",\"type\":\"WheelZoomTool\"},{\"attributes\":{\"active_drag\":\"auto\",\"active_inspect\":\"auto\",\"active_multi\":null,\"active_scroll\":\"auto\",\"active_tap\":\"auto\",\"tools\":[{\"id\":\"6010\"},{\"id\":\"6011\"},{\"id\":\"6012\"},{\"id\":\"6013\"},{\"id\":\"6014\"},{\"id\":\"6015\"}]},\"id\":\"6016\",\"type\":\"Toolbar\"}],\"root_ids\":[\"5992\"]},\"title\":\"Bokeh Application\",\"version\":\"2.0.0\"}};\n",
       "  var render_items = [{\"docid\":\"5d771e17-fd22-4c54-9dff-af78e45f0bff\",\"root_ids\":[\"5992\"],\"roots\":{\"5992\":\"7a17f47b-2df1-49ab-a54b-ffe02ad771f2\"}}];\n",
       "  root.Bokeh.embed.embed_items_notebook(docs_json, render_items);\n",
       "\n",
       "  }\n",
       "  if (root.Bokeh !== undefined) {\n",
       "    embed_document(root);\n",
       "  } else {\n",
       "    var attempts = 0;\n",
       "    var timer = setInterval(function(root) {\n",
       "      if (root.Bokeh !== undefined) {\n",
       "        clearInterval(timer);\n",
       "        embed_document(root);\n",
       "      } else {\n",
       "        attempts++;\n",
       "        if (attempts > 100) {\n",
       "          clearInterval(timer);\n",
       "          console.log(\"Bokeh: ERROR: Unable to run BokehJS code because BokehJS library is missing\");\n",
       "        }\n",
       "      }\n",
       "    }, 10, root)\n",
       "  }\n",
       "})(window);"
      ],
      "application/vnd.bokehjs_exec.v0+json": ""
     },
     "metadata": {
      "application/vnd.bokehjs_exec.v0+json": {
       "id": "5992"
      }
     },
     "output_type": "display_data"
    },
    {
     "data": {
      "text/html": [
       "\n",
       "\n",
       "\n",
       "\n",
       "\n",
       "\n",
       "  <div class=\"bk-root\" id=\"f5078733-2815-4b19-85ce-25ee85e94da8\" data-root-id=\"6345\"></div>\n"
      ]
     },
     "metadata": {},
     "output_type": "display_data"
    },
    {
     "data": {
      "application/javascript": [
       "(function(root) {\n",
       "  function embed_document(root) {\n",
       "    \n",
       "  var docs_json = {\"c1cdbee3-a3b7-4ea5-9a56-450e115c1fed\":{\"roots\":{\"references\":[{\"attributes\":{\"background_fill_alpha\":0.02,\"background_fill_color\":\"#6883BA\",\"below\":[{\"id\":\"6355\"}],\"border_fill_alpha\":0.05,\"border_fill_color\":\"#6883BA\",\"center\":[{\"id\":\"6358\"},{\"id\":\"6362\"},{\"id\":\"6388\"}],\"left\":[{\"id\":\"6359\"}],\"min_border\":20,\"outline_line_color\":\"#6883BA\",\"plot_height\":325,\"plot_width\":525,\"renderers\":[{\"id\":\"6380\"}],\"title\":{\"id\":\"6346\"},\"toolbar\":{\"id\":\"6369\"},\"toolbar_location\":null,\"x_range\":{\"id\":\"6348\"},\"x_scale\":{\"id\":\"6351\"},\"y_range\":{\"id\":\"6344\"},\"y_scale\":{\"id\":\"6353\"}},\"id\":\"6345\",\"subtype\":\"Figure\",\"type\":\"Plot\"},{\"attributes\":{\"axis\":{\"id\":\"6355\"},\"grid_line_color\":null,\"ticker\":null},\"id\":\"6358\",\"type\":\"Grid\"},{\"attributes\":{\"source\":{\"id\":\"6376\"}},\"id\":\"6381\",\"type\":\"CDSView\"},{\"attributes\":{\"text\":\"Comparing New Fatalities as of Jun 17\"},\"id\":\"6346\",\"type\":\"Title\"},{\"attributes\":{},\"id\":\"6399\",\"type\":\"UnionRenderers\"},{\"attributes\":{\"index\":0,\"label\":{\"value\":\"France\"},\"renderers\":[{\"id\":\"6380\"}]},\"id\":\"6389\",\"type\":\"LegendItem\"},{\"attributes\":{\"axis_label\":\"Days Since March 01, 2020\",\"axis_label_text_font_size\":\"11pt\",\"formatter\":{\"id\":\"6385\"},\"major_tick_line_color\":null,\"ticker\":{\"id\":\"6356\"}},\"id\":\"6355\",\"type\":\"LinearAxis\"},{\"attributes\":{\"axis_label\":\"Daily Deaths per 1M (3DMA)\",\"axis_label_text_font_size\":\"11pt\",\"formatter\":{\"id\":\"6383\"},\"ticker\":{\"id\":\"6360\"}},\"id\":\"6359\",\"type\":\"LinearAxis\"},{\"attributes\":{\"overlay\":{\"id\":\"6387\"}},\"id\":\"6365\",\"type\":\"BoxZoomTool\"},{\"attributes\":{\"active_drag\":\"auto\",\"active_inspect\":\"auto\",\"active_multi\":null,\"active_scroll\":\"auto\",\"active_tap\":\"auto\",\"tools\":[{\"id\":\"6363\"},{\"id\":\"6364\"},{\"id\":\"6365\"},{\"id\":\"6366\"},{\"id\":\"6367\"},{\"id\":\"6368\"}]},\"id\":\"6369\",\"type\":\"Toolbar\"},{\"attributes\":{\"end\":21.71253054294755,\"start\":-13.0816660876466},\"id\":\"6344\",\"type\":\"Range1d\"},{\"attributes\":{},\"id\":\"6368\",\"type\":\"HelpTool\"},{\"attributes\":{\"data\":{\"color\":[\"#440154\",\"#30678D\",\"#35B778\"],\"regions\":[\"France\",\"Germany\",\"Spain\"],\"x\":[[0,1,2,3,4,5,6,7,8,9,10,11,12,13,14,15,16,17,18,19,20,21,22,23,24,25,26,27,28,29,30,31,32,33,34,35,36,37,38,39,40,41,42,43,44,45,46,47,48,49,50,51,52,53,54,55,56,57,58,59,60,61,62,63,64,65,66,67,68,69,70,71,72,73,74,75,76,77,78,79,80,81,82,83,84,85,86,87,88,89,90,91,92,93,94,95,96,97,98,99,100,101,102,103,104,105,106,107,108,109],[0,1,2,3,4,5,6,7,8,9,10,11,12,13,14,15,16,17,18,19,20,21,22,23,24,25,26,27,28,29,30,31,32,33,34,35,36,37,38,39,40,41,42,43,44,45,46,47,48,49,50,51,52,53,54,55,56,57,58,59,60,61,62,63,64,65,66,67,68,69,70,71,72,73,74,75,76,77,78,79,80,81,82,83,84,85,86,87,88,89,90,91,92,93,94,95,96,97,98,99,100,101,102,103,104,105,106,107,108,109],[0,1,2,3,4,5,6,7,8,9,10,11,12,13,14,15,16,17,18,19,20,21,22,23,24,25,26,27,28,29,30,31,32,33,34,35,36,37,38,39,40,41,42,43,44,45,46,47,48,49,50,51,52,53,54,55,56,57,58,59,60,61,62,63,64,65,66,67,68,69,70,71,72,73,74,75,76,77,78,79,80,81,82,83,84,85,86,87,88,89,90,91,92,93,94,95,96,97,98,99,100,101,102,103,104,105,106,107,108,109]],\"y\":[[0.0,0.00529838046841477,0.01059676093682954,0.01059676093682954,0.01589514140524431,0.02649190234207385,0.03708866327890339,0.068878946089392,0.0529838046841477,0.11656437030512494,0.15365303358402832,0.15365303358402832,0.24372550154707942,0.2278303601418351,0.2278303601418351,0.3655882523206191,0.30200768669964184,0.30200768669964184,0.5033461444994031,1.6001109014612604,2.193529513923715,2.2836019818867657,2.1723359920500553,2.8505286920071464,3.481035967748504,4.4294460715947475,4.742050519231219,5.208308000451719,4.82152622625744,5.452033501998798,6.405741986313457,9.521189701741342,12.5200730468641,15.810367317749671,16.726987138785425,14.257941840504145,12.737306646069108,14.665917136572082,14.787779887345623,17.479357165300325,15.201053563881976,15.699101327912961,11.566364562549442,9.378133429094143,9.960955280619766,14.597038190482692,15.545448294328937,15.624924001355158,11.41800990943383,9.499996179867681,8.366142759626921,7.746232244822393,8.556884456489854,8.397933042437412,7.677353298733001,6.750136716760417,5.29838046841477,5.5527027308986785,5.54210596996185,6.522306356618581,5.7381460472931956,4.948687357499395,3.56581005524314,2.7498594631072653,3.2055201833909353,4.074454580210958,4.810929465320611,4.138035145831934,3.6770760450798505,2.64389185373897,2.0769651436185894,2.1829327529868854,3.6028987185220434,3.6611809036746057,4.116841623958276,2.829335170133487,2.389569591255061,3.6081970989904586,3.751253371637657,2.612101570928482,0.11656437030512494,-0.137757892178784,1.404070824129914,1.059676093682954,0.7947570702622154,0.8795311577568519,1.0384825718092947,1.2133291272669822,1.0808696155566129,0.969603625719903,0.9219182015041699,0.7417732655780678,0.6146121343361133,0.8795311577568519,1.1444501811775902,1.2239258882038118,0.9007246796305108,0.6358056562097724,0.47685424215732924,0.5139429054362328,0.7947570702622154,0.8477408749463632,0.7099829827675791,0.2649190234207385,0.2914109257628123,0.275515784357568,0.31260444763647144,0.3179028281048862,0.7682651679201418,0.8795311577568519],[0.0,0.0,0.0,0.0,0.0,0.0,0.0,0.0,0.008275176941384957,0.008275176941384957,0.012412765412077434,0.004137588470692478,0.020687942353462392,0.024825530824154868,0.033100707765539826,0.041375884706924784,0.062063827060387176,0.07033900400177213,0.1117148887086969,0.17791630423977656,0.2317049543587788,0.2068794235346239,0.2317049543587788,0.30204395836055087,0.4634099087175576,0.5958127397797168,0.7654538670781085,0.9392325828471926,1.1005985332041992,1.253689306619821,1.4150552569768275,1.6012467381579891,1.9115658734599248,2.068794235346239,2.1680963586428583,1.9736297005203123,2.213609831820476,2.3667006052360975,3.1652551800797455,3.2976580111419054,3.107328941490051,1.6012467381579891,1.7170992153373785,1.7667502769856882,2.3087743666464027,3.235594184081518,3.5500509078541462,4.3775686019926425,2.7101204483035732,2.2094722433497833,2.110170120053164,2.374975782177483,2.8673488101898874,2.9501005796037365,3.0080268181934318,2.474277905474102,1.6591729767476835,1.5143573802734471,1.808126161692613,2.0315559391100066,2.056381469934162,1.7460623346322257,1.427468022388905,1.0054339983782723,1.063360236967967,0.7489035131953385,1.6922736845132238,1.6508977998062988,2.1391332393480114,1.133699240969739,0.7323531593125686,0.6247758590745642,0.7820042209608784,1.2081758334422035,0.9226822289644226,0.657876566840104,0.3185943122433208,0.3227319007140133,0.4385843778934027,0.5916751513090244,0.753041101666031,0.8275176941384956,0.6082255051917943,0.48409785107102,0.3310070776553983,0.33514466612609073,0.45927232024686504,0.5999503282504094,0.6661517437814889,0.5461616781314071,0.4220340240106328,0.28963119294847345,0.2110170120053164,0.1365404195328518,0.25653048518293364,0.3310070776553983,0.3930709047157855,0.29376878141916596,0.2068794235346239,0.15309077341562172,0.2606680736536261,0.27721842753639603,0.3185943122433208,0.1489531849449292,0.12826524259146682,0.08688935788454204,0.11999006565008186,0.09930212329661947,0.1117148887086969,0.2068794235346239],[0.0,0.0,0.007219701583742618,0.014439403167485236,0.021659104751227856,0.02887880633497047,0.05775761266994094,0.10107582217239666,0.16605313642608024,0.18049253959356548,0.26712895859847685,0.1949319427610507,0.7075307552067764,1.017977923307709,1.6894101705957727,1.5089176310022074,2.440259135305005,2.4113803289700346,3.5232143728663976,3.6820478077087353,5.429215590974448,6.800958891885546,9.154581608185639,10.345832369503173,13.536940469517408,14.829267053007337,16.8219046901203,16.858003198039015,17.601632461164503,18.61239068288847,17.919299330849178,18.655708892390926,19.002254568410574,19.73866412995232,18.482436054381104,16.554775731521826,15.471820493960431,15.146933922692012,15.529578106630373,15.204691535361954,14.69931242449997,13.096538672909109,12.721114190554495,12.093000152768886,10.468567296426796,10.822332674030186,11.255514769054741,14.049539281963135,9.638301614296395,8.2160204022991,6.1367463461812255,8.945210262257104,9.125702801850668,9.421710566784116,8.966869367008332,8.555346376735002,7.457951736006124,7.19804247899139,6.64212545704321,7.833376218360741,7.378535018584956,5.205404841878428,5.95625380658766,5.205404841878428,6.3894359016122175,3.7037069124599635,4.281283039159373,4.635048416762761,4.952715286447436,4.483434683504166,3.9780555726421825,3.2127672047654654,3.191108100014237,3.4871158649476848,4.165767813819491,3.8914191536372713,3.313843026937862,1.7471677832657138,1.8049253959356544,1.552235840504663,2.346403014716351,1.6677510658445447,6.1367463461812255,5.703564251156668,5.862397685999007,-12.952144641234257,-11.269954172222228,-11.80421208941918,2.0576149513666464,0.02887880633497047,0.05775761266994094,0.05775761266994094,0.04331820950245571,0.014439403167485236,0.007219701583742618,0.04331820950245571,0.05053791108619833,0.05053791108619833,0.021659104751227856,0.014439403167485236,0.007219701583742618,0.0,0.0,0.0,0.0,0.0,0.0,0.0,0.0,0.0]]},\"selected\":{\"id\":\"6398\"},\"selection_policy\":{\"id\":\"6399\"}},\"id\":\"6376\",\"type\":\"ColumnDataSource\"},{\"attributes\":{\"line_color\":{\"field\":\"color\"},\"line_width\":{\"value\":5},\"xs\":{\"field\":\"x\"},\"ys\":{\"field\":\"y\"}},\"id\":\"6378\",\"type\":\"MultiLine\"},{\"attributes\":{},\"id\":\"6356\",\"type\":\"BasicTicker\"},{\"attributes\":{\"background_fill_alpha\":0.0,\"border_line_alpha\":0.0,\"border_line_color\":\"black\",\"items\":[{\"id\":\"6389\"},{\"id\":\"6390\"},{\"id\":\"6391\"}],\"location\":\"top_left\"},\"id\":\"6388\",\"type\":\"Legend\"},{\"attributes\":{},\"id\":\"6366\",\"type\":\"SaveTool\"},{\"attributes\":{\"bottom_units\":\"screen\",\"fill_alpha\":0.5,\"fill_color\":\"lightgrey\",\"left_units\":\"screen\",\"level\":\"overlay\",\"line_alpha\":1.0,\"line_color\":\"black\",\"line_dash\":[4,4],\"line_width\":2,\"render_mode\":\"css\",\"right_units\":\"screen\",\"top_units\":\"screen\"},\"id\":\"6387\",\"type\":\"BoxAnnotation\"},{\"attributes\":{\"data_source\":{\"id\":\"6376\"},\"glyph\":{\"id\":\"6378\"},\"hover_glyph\":null,\"muted_glyph\":null,\"nonselection_glyph\":{\"id\":\"6379\"},\"selection_glyph\":null,\"view\":{\"id\":\"6381\"}},\"id\":\"6380\",\"type\":\"GlyphRenderer\"},{\"attributes\":{\"index\":2,\"label\":{\"value\":\"Spain\"},\"renderers\":[{\"id\":\"6380\"}]},\"id\":\"6391\",\"type\":\"LegendItem\"},{\"attributes\":{\"line_alpha\":{\"value\":0.1},\"line_color\":{\"field\":\"color\"},\"line_width\":{\"value\":5},\"xs\":{\"field\":\"x\"},\"ys\":{\"field\":\"y\"}},\"id\":\"6379\",\"type\":\"MultiLine\"},{\"attributes\":{},\"id\":\"6353\",\"type\":\"LinearScale\"},{\"attributes\":{},\"id\":\"6385\",\"type\":\"BasicTickFormatter\"},{\"attributes\":{\"axis\":{\"id\":\"6359\"},\"dimension\":1,\"grid_line_color\":null,\"ticker\":null},\"id\":\"6362\",\"type\":\"Grid\"},{\"attributes\":{\"index\":1,\"label\":{\"value\":\"Germany\"},\"renderers\":[{\"id\":\"6380\"}]},\"id\":\"6390\",\"type\":\"LegendItem\"},{\"attributes\":{},\"id\":\"6398\",\"type\":\"Selection\"},{\"attributes\":{},\"id\":\"6364\",\"type\":\"WheelZoomTool\"},{\"attributes\":{},\"id\":\"6351\",\"type\":\"LinearScale\"},{\"attributes\":{},\"id\":\"6383\",\"type\":\"BasicTickFormatter\"},{\"attributes\":{},\"id\":\"6360\",\"type\":\"BasicTicker\"},{\"attributes\":{},\"id\":\"6367\",\"type\":\"ResetTool\"},{\"attributes\":{},\"id\":\"6348\",\"type\":\"DataRange1d\"},{\"attributes\":{},\"id\":\"6363\",\"type\":\"PanTool\"}],\"root_ids\":[\"6345\"]},\"title\":\"Bokeh Application\",\"version\":\"2.0.0\"}};\n",
       "  var render_items = [{\"docid\":\"c1cdbee3-a3b7-4ea5-9a56-450e115c1fed\",\"root_ids\":[\"6345\"],\"roots\":{\"6345\":\"f5078733-2815-4b19-85ce-25ee85e94da8\"}}];\n",
       "  root.Bokeh.embed.embed_items_notebook(docs_json, render_items);\n",
       "\n",
       "  }\n",
       "  if (root.Bokeh !== undefined) {\n",
       "    embed_document(root);\n",
       "  } else {\n",
       "    var attempts = 0;\n",
       "    var timer = setInterval(function(root) {\n",
       "      if (root.Bokeh !== undefined) {\n",
       "        clearInterval(timer);\n",
       "        embed_document(root);\n",
       "      } else {\n",
       "        attempts++;\n",
       "        if (attempts > 100) {\n",
       "          clearInterval(timer);\n",
       "          console.log(\"Bokeh: ERROR: Unable to run BokehJS code because BokehJS library is missing\");\n",
       "        }\n",
       "      }\n",
       "    }, 10, root)\n",
       "  }\n",
       "})(window);"
      ],
      "application/vnd.bokehjs_exec.v0+json": ""
     },
     "metadata": {
      "application/vnd.bokehjs_exec.v0+json": {
       "id": "6345"
      }
     },
     "output_type": "display_data"
    },
    {
     "data": {
      "text/html": [
       "\n",
       "\n",
       "\n",
       "\n",
       "\n",
       "\n",
       "  <div class=\"bk-root\" id=\"8a7bd79b-81e8-45c8-ae33-d2189cb6832e\" data-root-id=\"6706\"></div>\n"
      ]
     },
     "metadata": {},
     "output_type": "display_data"
    },
    {
     "data": {
      "application/javascript": [
       "(function(root) {\n",
       "  function embed_document(root) {\n",
       "    \n",
       "  var docs_json = {\"6afee299-b361-4c7d-9a2f-41e7fa458000\":{\"roots\":{\"references\":[{\"attributes\":{\"background_fill_alpha\":0.02,\"background_fill_color\":\"#6883BA\",\"below\":[{\"id\":\"6716\"}],\"border_fill_alpha\":0.05,\"border_fill_color\":\"#6883BA\",\"center\":[{\"id\":\"6719\"},{\"id\":\"6723\"},{\"id\":\"6749\"}],\"left\":[{\"id\":\"6720\"}],\"min_border\":20,\"outline_line_color\":\"#6883BA\",\"plot_height\":325,\"plot_width\":500,\"renderers\":[{\"id\":\"6741\"}],\"title\":{\"id\":\"6707\"},\"toolbar\":{\"id\":\"6730\"},\"toolbar_location\":null,\"x_range\":{\"id\":\"6709\"},\"x_scale\":{\"id\":\"6712\"},\"y_range\":{\"id\":\"6705\"},\"y_scale\":{\"id\":\"6714\"}},\"id\":\"6706\",\"subtype\":\"Figure\",\"type\":\"Plot\"},{\"attributes\":{\"axis\":{\"id\":\"6716\"},\"grid_line_color\":null,\"ticker\":null},\"id\":\"6719\",\"type\":\"Grid\"},{\"attributes\":{\"axis\":{\"id\":\"6720\"},\"dimension\":1,\"grid_line_color\":null,\"ticker\":null},\"id\":\"6723\",\"type\":\"Grid\"},{\"attributes\":{\"background_fill_alpha\":0.0,\"border_line_alpha\":0.0,\"border_line_color\":\"black\",\"items\":[{\"id\":\"6750\"},{\"id\":\"6751\"},{\"id\":\"6752\"}],\"location\":\"top_center\"},\"id\":\"6749\",\"type\":\"Legend\"},{\"attributes\":{},\"id\":\"6727\",\"type\":\"SaveTool\"},{\"attributes\":{\"index\":1,\"label\":{\"value\":\"Germany\"},\"renderers\":[{\"id\":\"6741\"}]},\"id\":\"6751\",\"type\":\"LegendItem\"},{\"attributes\":{},\"id\":\"6725\",\"type\":\"WheelZoomTool\"},{\"attributes\":{\"overlay\":{\"id\":\"6748\"}},\"id\":\"6726\",\"type\":\"BoxZoomTool\"},{\"attributes\":{},\"id\":\"6709\",\"type\":\"DataRange1d\"},{\"attributes\":{\"end\":1.5708000000000002,\"start\":0.11009},\"id\":\"6705\",\"type\":\"Range1d\"},{\"attributes\":{\"text\":\"Apple Driving Queries as of Jun 17\"},\"id\":\"6707\",\"type\":\"Title\"},{\"attributes\":{},\"id\":\"6714\",\"type\":\"LinearScale\"},{\"attributes\":{\"index\":0,\"label\":{\"value\":\"France\"},\"renderers\":[{\"id\":\"6741\"}]},\"id\":\"6750\",\"type\":\"LegendItem\"},{\"attributes\":{},\"id\":\"6744\",\"type\":\"BasicTickFormatter\"},{\"attributes\":{\"data\":{\"color\":[\"#440154\",\"#30678D\",\"#35B778\"],\"regions\":[\"France\",\"Germany\",\"Spain\"],\"x\":[[0,1,2,3,4,5,6,7,8,9,10,11,12,13,14,15,16,17,18,19,20,21,22,23,24,25,26,27,28,29,30,31,32,33,34,35,36,37,38,39,40,41,42,43,44,45,46,47,48,49,50,51,52,53,54,55,56,57,58,59,60,61,62,63,64,65,66,67,68,69,70,71,72,73,74,75,76,77,78,79,80,81,82,83,84,85,86,87,88,89,90,91,92,93,94,95,96,97,98,99,100,101,102,103,104,105,106,107,108],[0,1,2,3,4,5,6,7,8,9,10,11,12,13,14,15,16,17,18,19,20,21,22,23,24,25,26,27,28,29,30,31,32,33,34,35,36,37,38,39,40,41,42,43,44,45,46,47,48,49,50,51,52,53,54,55,56,57,58,59,60,61,62,63,64,65,66,67,68,69,70,71,72,73,74,75,76,77,78,79,80,81,82,83,84,85,86,87,88,89,90,91,92,93,94,95,96,97,98,99,100,101,102,103,104,105,106,107,108],[0,1,2,3,4,5,6,7,8,9,10,11,12,13,14,15,16,17,18,19,20,21,22,23,24,25,26,27,28,29,30,31,32,33,34,35,36,37,38,39,40,41,42,43,44,45,46,47,48,49,50,51,52,53,54,55,56,57,58,59,60,61,62,63,64,65,66,67,68,69,70,71,72,73,74,75,76,77,78,79,80,81,82,83,84,85,86,87,88,89,90,91,92,93,94,95,96,97,98,99,100,101,102,103,104,105,106,107,108]],\"y\":[[0.87,0.9009999999999999,0.9279999999999999,0.951,0.956,1.042,1.074,0.838,0.867,0.882,0.904,0.8240000000000001,0.831,0.775,0.528,0.565,0.317,0.23,0.22399999999999998,0.212,0.162,0.153,0.22399999999999998,0.225,0.222,0.22,0.218,0.184,0.172,0.22899999999999998,0.237,0.239,0.242,0.235,0.19699999999999998,0.196,0.257,0.263,0.265,0.26899999999999996,0.266,0.217,0.179,0.218,0.302,0.308,0.311,0.304,0.245,0.23600000000000002,0.32299999999999995,0.33299999999999996,0.33899999999999997,0.34299999999999997,0.324,0.262,0.263,0.34700000000000003,0.457,0.423,0.395,0.306,0.324,0.325,0.419,0.44299999999999995,0.461,0.47,0.38299999999999995,0.387,0.446,0.547,0.649,0.75,0.753,0.799,0.753,0.706,0.8190000000000001,0.877,0.9209999999999999,0.87,0.9109999999999999,0.818,0.8109999999999999,0.9159999999999999,0.95,0.9790000000000001,0.988,1.036,1.0170000000000001,0.9079999999999999,1.011,1.09,1.0659999999999998,1.037,1.1,1.081,0.9620000000000001,1.072,1.1,1.1340000000000001,1.111,1.111,1.18,1.158,1.08,1.175,1.204],[1.061,1.015,1.041,1.0290000000000001,1.053,1.157,1.128,1.05,0.991,1.002,0.97,0.879,0.865,0.7829999999999999,0.723,0.69,0.637,0.595,0.5489999999999999,0.509,0.379,0.39799999999999996,0.451,0.455,0.465,0.48100000000000004,0.496,0.46,0.42200000000000004,0.5,0.527,0.5329999999999999,0.532,0.515,0.474,0.55,0.59,0.603,0.619,0.589,0.514,0.51,0.461,0.537,0.612,0.63,0.655,0.647,0.5760000000000001,0.638,0.67,0.68,0.6970000000000001,0.703,0.679,0.628,0.6859999999999999,0.701,0.69,0.706,0.703,0.625,0.659,0.735,0.759,0.774,0.7929999999999999,0.8170000000000001,0.848,0.792,0.7859999999999999,0.8059999999999999,0.826,0.846,0.872,0.92,0.8759999999999999,0.934,0.9540000000000001,0.976,1.056,1.025,1.02,0.9179999999999999,1.003,1.008,1.023,1.047,1.099,1.264,1.14,1.102,1.344,1.212,1.15,1.117,1.17,1.126,1.129,1.138,1.1540000000000001,1.217,1.246,1.246,1.341,1.161,1.2309999999999999,1.171,1.181],[1.247,1.112,1.104,1.14,1.2009999999999998,1.401,1.4280000000000002,1.188,1.022,0.99,0.945,0.804,0.7140000000000001,0.40299999999999997,0.237,0.226,0.2,0.19,0.16899999999999998,0.17600000000000002,0.121,0.109,0.16899999999999998,0.166,0.163,0.166,0.166,0.11900000000000001,0.115,0.15,0.151,0.152,0.154,0.155,0.11800000000000001,0.113,0.166,0.175,0.18,0.14,0.125,0.136,0.127,0.182,0.20800000000000002,0.20800000000000002,0.21100000000000002,0.209,0.152,0.146,0.214,0.218,0.235,0.251,0.244,0.201,0.201,0.26,0.26899999999999996,0.278,0.317,0.258,0.305,0.306,0.348,0.358,0.36,0.358,0.35600000000000004,0.26899999999999996,0.263,0.313,0.363,0.413,0.396,0.39399999999999996,0.33399999999999996,0.332,0.479,0.496,0.5,0.509,0.5379999999999999,0.461,0.434,0.609,0.629,0.642,0.652,0.7090000000000001,0.6579999999999999,0.5529999999999999,0.6609999999999999,0.69,0.703,0.6940000000000001,0.79,0.745,0.604,0.72,0.757,0.792,0.789,0.789,0.8640000000000001,0.861,0.7609999999999999,0.8109999999999999,0.838]]},\"selected\":{\"id\":\"6759\"},\"selection_policy\":{\"id\":\"6760\"}},\"id\":\"6737\",\"type\":\"ColumnDataSource\"},{\"attributes\":{},\"id\":\"6717\",\"type\":\"BasicTicker\"},{\"attributes\":{\"data_source\":{\"id\":\"6737\"},\"glyph\":{\"id\":\"6739\"},\"hover_glyph\":null,\"muted_glyph\":null,\"nonselection_glyph\":{\"id\":\"6740\"},\"selection_glyph\":null,\"view\":{\"id\":\"6742\"}},\"id\":\"6741\",\"type\":\"GlyphRenderer\"},{\"attributes\":{\"axis_label\":\"Change in Driving Mobility - Apple\",\"axis_label_text_font_size\":\"11pt\",\"formatter\":{\"id\":\"6744\"},\"ticker\":{\"id\":\"6721\"}},\"id\":\"6720\",\"type\":\"LinearAxis\"},{\"attributes\":{\"index\":2,\"label\":{\"value\":\"Spain\"},\"renderers\":[{\"id\":\"6741\"}]},\"id\":\"6752\",\"type\":\"LegendItem\"},{\"attributes\":{},\"id\":\"6746\",\"type\":\"BasicTickFormatter\"},{\"attributes\":{},\"id\":\"6759\",\"type\":\"Selection\"},{\"attributes\":{},\"id\":\"6728\",\"type\":\"ResetTool\"},{\"attributes\":{},\"id\":\"6724\",\"type\":\"PanTool\"},{\"attributes\":{\"line_alpha\":{\"value\":0.1},\"line_color\":{\"field\":\"color\"},\"line_width\":{\"value\":5},\"xs\":{\"field\":\"x\"},\"ys\":{\"field\":\"y\"}},\"id\":\"6740\",\"type\":\"MultiLine\"},{\"attributes\":{},\"id\":\"6729\",\"type\":\"HelpTool\"},{\"attributes\":{\"bottom_units\":\"screen\",\"fill_alpha\":0.5,\"fill_color\":\"lightgrey\",\"left_units\":\"screen\",\"level\":\"overlay\",\"line_alpha\":1.0,\"line_color\":\"black\",\"line_dash\":[4,4],\"line_width\":2,\"render_mode\":\"css\",\"right_units\":\"screen\",\"top_units\":\"screen\"},\"id\":\"6748\",\"type\":\"BoxAnnotation\"},{\"attributes\":{\"line_color\":{\"field\":\"color\"},\"line_width\":{\"value\":5},\"xs\":{\"field\":\"x\"},\"ys\":{\"field\":\"y\"}},\"id\":\"6739\",\"type\":\"MultiLine\"},{\"attributes\":{\"source\":{\"id\":\"6737\"}},\"id\":\"6742\",\"type\":\"CDSView\"},{\"attributes\":{\"axis_label\":\"Days Since March 01, 2020\",\"axis_label_text_font_size\":\"11pt\",\"formatter\":{\"id\":\"6746\"},\"major_tick_line_color\":null,\"ticker\":{\"id\":\"6717\"}},\"id\":\"6716\",\"type\":\"LinearAxis\"},{\"attributes\":{\"active_drag\":\"auto\",\"active_inspect\":\"auto\",\"active_multi\":null,\"active_scroll\":\"auto\",\"active_tap\":\"auto\",\"tools\":[{\"id\":\"6724\"},{\"id\":\"6725\"},{\"id\":\"6726\"},{\"id\":\"6727\"},{\"id\":\"6728\"},{\"id\":\"6729\"}]},\"id\":\"6730\",\"type\":\"Toolbar\"},{\"attributes\":{},\"id\":\"6721\",\"type\":\"BasicTicker\"},{\"attributes\":{},\"id\":\"6760\",\"type\":\"UnionRenderers\"},{\"attributes\":{},\"id\":\"6712\",\"type\":\"LinearScale\"}],\"root_ids\":[\"6706\"]},\"title\":\"Bokeh Application\",\"version\":\"2.0.0\"}};\n",
       "  var render_items = [{\"docid\":\"6afee299-b361-4c7d-9a2f-41e7fa458000\",\"root_ids\":[\"6706\"],\"roots\":{\"6706\":\"8a7bd79b-81e8-45c8-ae33-d2189cb6832e\"}}];\n",
       "  root.Bokeh.embed.embed_items_notebook(docs_json, render_items);\n",
       "\n",
       "  }\n",
       "  if (root.Bokeh !== undefined) {\n",
       "    embed_document(root);\n",
       "  } else {\n",
       "    var attempts = 0;\n",
       "    var timer = setInterval(function(root) {\n",
       "      if (root.Bokeh !== undefined) {\n",
       "        clearInterval(timer);\n",
       "        embed_document(root);\n",
       "      } else {\n",
       "        attempts++;\n",
       "        if (attempts > 100) {\n",
       "          clearInterval(timer);\n",
       "          console.log(\"Bokeh: ERROR: Unable to run BokehJS code because BokehJS library is missing\");\n",
       "        }\n",
       "      }\n",
       "    }, 10, root)\n",
       "  }\n",
       "})(window);"
      ],
      "application/vnd.bokehjs_exec.v0+json": ""
     },
     "metadata": {
      "application/vnd.bokehjs_exec.v0+json": {
       "id": "6706"
      }
     },
     "output_type": "display_data"
    },
    {
     "name": "stdout",
     "output_type": "stream",
     "text": [
      "\tLombardia New York New Jersey\n"
     ]
    },
    {
     "data": {
      "text/html": [
       "\n",
       "\n",
       "\n",
       "\n",
       "\n",
       "\n",
       "  <div class=\"bk-root\" id=\"4d376f62-cc5f-4bf9-bc7b-4f992d24370e\" data-root-id=\"7075\"></div>\n"
      ]
     },
     "metadata": {},
     "output_type": "display_data"
    },
    {
     "data": {
      "application/javascript": [
       "(function(root) {\n",
       "  function embed_document(root) {\n",
       "    \n",
       "  var docs_json = {\"0ce8a41a-c0df-4bfc-89f2-19528827d7e2\":{\"roots\":{\"references\":[{\"attributes\":{\"background_fill_alpha\":0.02,\"background_fill_color\":\"#6883BA\",\"below\":[{\"id\":\"7085\"}],\"border_fill_alpha\":0.05,\"border_fill_color\":\"#6883BA\",\"center\":[{\"id\":\"7088\"},{\"id\":\"7092\"},{\"id\":\"7118\"}],\"left\":[{\"id\":\"7089\"}],\"min_border\":20,\"outline_line_color\":\"#6883BA\",\"plot_height\":325,\"plot_width\":525,\"renderers\":[{\"id\":\"7110\"}],\"title\":{\"id\":\"7076\"},\"toolbar\":{\"id\":\"7099\"},\"toolbar_location\":null,\"x_range\":{\"id\":\"7078\"},\"x_scale\":{\"id\":\"7081\"},\"y_range\":{\"id\":\"7074\"},\"y_scale\":{\"id\":\"7083\"}},\"id\":\"7075\",\"subtype\":\"Figure\",\"type\":\"Plot\"},{\"attributes\":{\"axis\":{\"id\":\"7089\"},\"dimension\":1,\"grid_line_color\":null,\"ticker\":null},\"id\":\"7092\",\"type\":\"Grid\"},{\"attributes\":{},\"id\":\"7115\",\"type\":\"BasicTickFormatter\"},{\"attributes\":{\"index\":1,\"label\":{\"value\":\"New Jersey\"},\"renderers\":[{\"id\":\"7110\"}]},\"id\":\"7120\",\"type\":\"LegendItem\"},{\"attributes\":{},\"id\":\"7078\",\"type\":\"DataRange1d\"},{\"attributes\":{\"axis_label\":\"Daily Cases per 1M (3DMA)\",\"axis_label_text_font_size\":\"11pt\",\"formatter\":{\"id\":\"7113\"},\"ticker\":{\"id\":\"7090\"}},\"id\":\"7089\",\"type\":\"LinearAxis\"},{\"attributes\":{},\"id\":\"7113\",\"type\":\"BasicTickFormatter\"},{\"attributes\":{},\"id\":\"7098\",\"type\":\"HelpTool\"},{\"attributes\":{\"axis_label\":\"Days Since March 01, 2020\",\"axis_label_text_font_size\":\"11pt\",\"formatter\":{\"id\":\"7115\"},\"major_tick_line_color\":null,\"ticker\":{\"id\":\"7086\"}},\"id\":\"7085\",\"type\":\"LinearAxis\"},{\"attributes\":{\"source\":{\"id\":\"7106\"}},\"id\":\"7111\",\"type\":\"CDSView\"},{\"attributes\":{\"data\":{\"color\":[\"#440154\",\"#30678D\",\"#35B778\"],\"regions\":[\"Lombardia\",\"New Jersey\",\"New York\"],\"x\":[[0,1,2,3,4,5,6,7,8,9,10,11,12,13,14,15,16,17,18,19,20,21,22,23,24,25,26,27,28,29,30,31,32,33,34,35,36,37,38,39,40,41,42,43,44,45,46,47,48,49,50,51,52,53,54,55,56,57,58,59,60,61,62,63,64,65,66,67,68,69,70,71,72,73,74,75,76,77,78,79,80,81,82,83,84,85,86,87,88,89,90,91,92,93,94,95,96,97,98,99,100,101,102,103,104,105,106,107,108,109],[0,1,2,3,4,5,6,7,8,9,10,11,12,13,14,15,16,17,18,19,20,21,22,23,24,25,26,27,28,29,30,31,32,33,34,35,36,37,38,39,40,41,42,43,44,45,46,47,48,49,50,51,52,53,54,55,56,57,58,59,60,61,62,63,64,65,66,67,68,69,70,71,72,73,74,75,76,77,78,79,80,81,82,83,84,85,86,87,88,89,90,91,92,93,94,95,96,97,98,99,100,101,102],[0,1,2,3,4,5,6,7,8,9,10,11,12,13,14,15,16,17,18,19,20,21,22,23,24,25,26,27,28,29,30,31,32,33,34,35,36,37,38,39,40,41,42,43,44,45,46,47,48,49,50,51,52,53,54,55,56,57,58,59,60,61,62,63,64,65,66,67,68,69,70,71,72,73,74,75,76,77,78,79,80,81,82,83,84,85,86,87,88,89,90,91,92,93,94,95,96,97,98,99,100,101,102,103]],\"y\":[[20.108309376411217,25.022904783382632,31.32189326274036,28.93381521287397,34.50599732922888,37.79393087614638,55.375722895452576,67.07384435711693,98.88027519519251,82.05989936569878,106.97897466865243,112.68959609224598,139.4429922161115,152.45628709654287,157.3708825035143,167.13085366383783,156.9555645817984,153.70224086169054,181.18244334855888,209.1817932375721,270.02586876895055,253.41315190031483,224.86004478234707,179.55578148850495,177.8945098016414,212.08901868958336,228.2518078096936,244.6568657174714,211.7429204214868,168.30758777536616,131.27507308903225,130.3406077651715,135.11676386490427,149.23757320324466,150.37969748796337,151.93713969439798,138.92384481396664,110.99371457857275,102.41047752977761,113.10491401396187,128.8523852123562,144.59985641075053,147.0917639410459,147.64552117000042,129.23309330726244,107.32507293674902,96.21531853084885,97.21900350832892,111.72052094157557,108.74407583594498,98.15346883218969,88.25505836462754,98.84566536838285,110.54378683004721,115.07767414211237,99.57247173138566,94.277168229508,76.93764499786941,82.33677798017604,77.69906118768189,77.97593980215916,73.40744266328431,64.65115648044087,62.1592489501455,56.62167666060026,55.479552375881546,63.71669115658011,68.6658963903612,73.30361318285534,64.23583855872498,49.076734416094844,39.732081177487224,58.109899213415545,61.98619981609722,67.45455245202315,42.0509395737343,42.22398870778259,35.44046265308965,31.14884412869207,33.329263217700515,32.22174875979146,37.10173433995322,31.252673609121043,36.340318150140746,35.26741351904136,30.248988631640966,20.489017471317453,23.91539032547358,32.01408979893352,38.7630060268168,33.12160425684257,27.16871404558142,16.647326695445432,15.470592583917062,16.405057907777827,17.581792019306196,25.022904783382632,21.734971236465135,23.153974135661105,15.955130159252272,17.685621499735166,16.78576600268406,18.793135957644214,12.148049210189908,18.135549248260716,16.681936522255086,25.126734263811603,24.676806515286053,22.357948119038976,22.28872846541966],[0.18956855788601032,0.37913711577202064,0.41705082734922266,0.682446808389637,0.7203605199668391,1.326979905202072,0.9857565010072535,2.5781323872497404,4.852955081881864,8.227275412252846,12.47361110889948,21.383333329541962,23.620242312596883,34.12234041948185,44.43486996848082,74.08339242185282,89.02139478327044,94.32931440407874,152.8680850792787,195.25561462259063,254.85596922195222,246.8182623675854,296.1440011295253,287.082624062574,336.2567079782051,339.47937346226723,424.5956559530859,449.99784270981127,451.74187344236253,424.4440011067771,390.2079195525636,376.55898338477084,376.7485519426569,385.6582741632994,406.20750583814294,410.34010040005785,378.9854609257118,404.65304366347755,348.0478722787149,406.9278663581097,365.6019207389595,393.92346328712944,378.5304963867854,391.9898639966921,415.79967486717493,400.5204491015626,423.98903656785063,371.895596860775,366.1706264126175,343.08117606210146,340.920094502201,315.93495857282477,273.96447985686206,282.9879432122362,278.05916070719985,282.570892384887,306.7977540827191,268.3911642550134,260.69468080484137,195.1039597762818,203.44497632326627,184.2985519767792,196.96173164356472,185.66344559355846,170.27047869321444,138.68835694940512,114.80271865576785,104.60393024150048,119.88315600711292,133.79748815594607,137.62677302524347,156.7352836601533,148.7734042289409,154.11923756132637,130.15777184453466,140.50821510511082,102.55658981633157,101.68457445005592,89.9692375727005,100.85047279535748,93.79852244199789,103.23903662472121,116.77423165778235,112.98286050006215,99.71306144804142,78.63303781111708,73.43885932504038,61.533953889798944,61.11690306244973,67.90345743476888,69.19252362839376,61.95100471714816,44.017819141131596,34.236081554213456,44.814007084252836,50.00818557032952,38.6719858087461,31.01341607015129,29.913918434412427,40.37810282972019,35.60097517099273,31.127157204882895,31.165070916460092],[1.204108293646784,1.427728405324044,1.8749686286785638,1.6685500640534008,1.9093717227827576,1.2729144818551716,4.265983668920035,5.29807649204585,8.824393637725718,9.099618390559268,20.22901933326597,28.4341572771162,55.07935366081432,92.92275717542755,137.16513619342078,189.4922423258996,236.91690754853082,263.3384838205517,269.08380053595204,281.81294535450377,326.31334757827847,369.95367244944833,382.8204296444168,376.06022165294274,403.8407201420793,416.2602371136932,445.24484389647654,465.6114756061593,515.9087991864907,510.0258700946736,478.6502482716488,432.7737222837063,469.34421131646434,503.1108481797306,544.4117626518153,535.6905782964021,494.66488857715103,421.76473217036425,374.1336483831079,431.5008078018511,468.7937618107972,471.90724182722676,394.8271094867805,352.666117662091,307.3916458209719,257.30074080526566,248.2183239617585,274.33027238684156,342.3107863367286,428.7829633676198,422.9000342758027,351.01476914508964,222.9836544363323,200.32921696872066,212.8863463167514,227.19803346409606,228.5397541341596,207.15823114840316,183.0072590872591,141.31070903297618,130.095300355009,149.58465316503478,158.51225608507306,157.2909462443742,133.2431834655427,114.3558848023403,92.25189684039576,90.58334677634235,103.1404761243731,126.05293679776618,130.23291273142573,121.61493765832518,95.60619851555465,79.35073655132307,73.08937342435978,87.50426985401701,91.32301329958253,95.57179542145046,86.9882234424541,79.29913191016678,67.25804897369893,59.345337329734356,68.27294024977266,76.51248128772708,80.76126340959502,69.44264544931525,58.949701747536125,58.14122903608758,57.02312847770128,58.86369401227565,54.49450106104303,55.578198525325135,50.98538546241526,44.569208411983105,37.25855091484192,35.41798538026755,36.00283798003884,24.25418134345665,26.800010307166996,29.89628877654444,41.83416243069969,38.35944992617612,33.457009016328506,31.272412540712192]]},\"selected\":{\"id\":\"7128\"},\"selection_policy\":{\"id\":\"7129\"}},\"id\":\"7106\",\"type\":\"ColumnDataSource\"},{\"attributes\":{\"line_alpha\":{\"value\":0.1},\"line_color\":{\"field\":\"color\"},\"line_width\":{\"value\":5},\"xs\":{\"field\":\"x\"},\"ys\":{\"field\":\"y\"}},\"id\":\"7109\",\"type\":\"MultiLine\"},{\"attributes\":{},\"id\":\"7129\",\"type\":\"UnionRenderers\"},{\"attributes\":{},\"id\":\"7096\",\"type\":\"SaveTool\"},{\"attributes\":{},\"id\":\"7128\",\"type\":\"Selection\"},{\"attributes\":{\"line_color\":{\"field\":\"color\"},\"line_width\":{\"value\":5},\"xs\":{\"field\":\"x\"},\"ys\":{\"field\":\"y\"}},\"id\":\"7108\",\"type\":\"MultiLine\"},{\"attributes\":{\"bottom_units\":\"screen\",\"fill_alpha\":0.5,\"fill_color\":\"lightgrey\",\"left_units\":\"screen\",\"level\":\"overlay\",\"line_alpha\":1.0,\"line_color\":\"black\",\"line_dash\":[4,4],\"line_width\":2,\"render_mode\":\"css\",\"right_units\":\"screen\",\"top_units\":\"screen\"},\"id\":\"7117\",\"type\":\"BoxAnnotation\"},{\"attributes\":{\"data_source\":{\"id\":\"7106\"},\"glyph\":{\"id\":\"7108\"},\"hover_glyph\":null,\"muted_glyph\":null,\"nonselection_glyph\":{\"id\":\"7109\"},\"selection_glyph\":null,\"view\":{\"id\":\"7111\"}},\"id\":\"7110\",\"type\":\"GlyphRenderer\"},{\"attributes\":{},\"id\":\"7097\",\"type\":\"ResetTool\"},{\"attributes\":{},\"id\":\"7093\",\"type\":\"PanTool\"},{\"attributes\":{\"index\":2,\"label\":{\"value\":\"New York\"},\"renderers\":[{\"id\":\"7110\"}]},\"id\":\"7121\",\"type\":\"LegendItem\"},{\"attributes\":{},\"id\":\"7090\",\"type\":\"BasicTicker\"},{\"attributes\":{},\"id\":\"7081\",\"type\":\"LinearScale\"},{\"attributes\":{\"active_drag\":\"auto\",\"active_inspect\":\"auto\",\"active_multi\":null,\"active_scroll\":\"auto\",\"active_tap\":\"auto\",\"tools\":[{\"id\":\"7093\"},{\"id\":\"7094\"},{\"id\":\"7095\"},{\"id\":\"7096\"},{\"id\":\"7097\"},{\"id\":\"7098\"}]},\"id\":\"7099\",\"type\":\"Toolbar\"},{\"attributes\":{},\"id\":\"7086\",\"type\":\"BasicTicker\"},{\"attributes\":{\"text\":\"Comparing New Cases as of Jun 17\"},\"id\":\"7076\",\"type\":\"Title\"},{\"attributes\":{\"axis\":{\"id\":\"7085\"},\"grid_line_color\":null,\"ticker\":null},\"id\":\"7088\",\"type\":\"Grid\"},{\"attributes\":{\"end\":598.8529389169968,\"start\":0.19146424346487043},\"id\":\"7074\",\"type\":\"Range1d\"},{\"attributes\":{\"background_fill_alpha\":0.0,\"border_line_alpha\":0.0,\"border_line_color\":\"black\",\"items\":[{\"id\":\"7119\"},{\"id\":\"7120\"},{\"id\":\"7121\"}],\"location\":\"top_left\"},\"id\":\"7118\",\"type\":\"Legend\"},{\"attributes\":{},\"id\":\"7094\",\"type\":\"WheelZoomTool\"},{\"attributes\":{},\"id\":\"7083\",\"type\":\"LinearScale\"},{\"attributes\":{\"overlay\":{\"id\":\"7117\"}},\"id\":\"7095\",\"type\":\"BoxZoomTool\"},{\"attributes\":{\"index\":0,\"label\":{\"value\":\"Lombardia\"},\"renderers\":[{\"id\":\"7110\"}]},\"id\":\"7119\",\"type\":\"LegendItem\"}],\"root_ids\":[\"7075\"]},\"title\":\"Bokeh Application\",\"version\":\"2.0.0\"}};\n",
       "  var render_items = [{\"docid\":\"0ce8a41a-c0df-4bfc-89f2-19528827d7e2\",\"root_ids\":[\"7075\"],\"roots\":{\"7075\":\"4d376f62-cc5f-4bf9-bc7b-4f992d24370e\"}}];\n",
       "  root.Bokeh.embed.embed_items_notebook(docs_json, render_items);\n",
       "\n",
       "  }\n",
       "  if (root.Bokeh !== undefined) {\n",
       "    embed_document(root);\n",
       "  } else {\n",
       "    var attempts = 0;\n",
       "    var timer = setInterval(function(root) {\n",
       "      if (root.Bokeh !== undefined) {\n",
       "        clearInterval(timer);\n",
       "        embed_document(root);\n",
       "      } else {\n",
       "        attempts++;\n",
       "        if (attempts > 100) {\n",
       "          clearInterval(timer);\n",
       "          console.log(\"Bokeh: ERROR: Unable to run BokehJS code because BokehJS library is missing\");\n",
       "        }\n",
       "      }\n",
       "    }, 10, root)\n",
       "  }\n",
       "})(window);"
      ],
      "application/vnd.bokehjs_exec.v0+json": ""
     },
     "metadata": {
      "application/vnd.bokehjs_exec.v0+json": {
       "id": "7075"
      }
     },
     "output_type": "display_data"
    },
    {
     "data": {
      "text/html": [
       "\n",
       "\n",
       "\n",
       "\n",
       "\n",
       "\n",
       "  <div class=\"bk-root\" id=\"9e7b1c39-3e85-4100-83c7-bf26f10f76db\" data-root-id=\"7452\"></div>\n"
      ]
     },
     "metadata": {},
     "output_type": "display_data"
    },
    {
     "data": {
      "application/javascript": [
       "(function(root) {\n",
       "  function embed_document(root) {\n",
       "    \n",
       "  var docs_json = {\"175ba84d-e0f4-4fc0-b30d-593c89d300e9\":{\"roots\":{\"references\":[{\"attributes\":{\"background_fill_alpha\":0.02,\"background_fill_color\":\"#6883BA\",\"below\":[{\"id\":\"7462\"}],\"border_fill_alpha\":0.05,\"border_fill_color\":\"#6883BA\",\"center\":[{\"id\":\"7465\"},{\"id\":\"7469\"},{\"id\":\"7495\"}],\"left\":[{\"id\":\"7466\"}],\"min_border\":20,\"outline_line_color\":\"#6883BA\",\"plot_height\":325,\"plot_width\":525,\"renderers\":[{\"id\":\"7487\"}],\"title\":{\"id\":\"7453\"},\"toolbar\":{\"id\":\"7476\"},\"toolbar_location\":null,\"x_range\":{\"id\":\"7455\"},\"x_scale\":{\"id\":\"7458\"},\"y_range\":{\"id\":\"7451\"},\"y_scale\":{\"id\":\"7460\"}},\"id\":\"7452\",\"subtype\":\"Figure\",\"type\":\"Plot\"},{\"attributes\":{\"axis\":{\"id\":\"7462\"},\"grid_line_color\":null,\"ticker\":null},\"id\":\"7465\",\"type\":\"Grid\"},{\"attributes\":{},\"id\":\"7505\",\"type\":\"Selection\"},{\"attributes\":{},\"id\":\"7458\",\"type\":\"LinearScale\"},{\"attributes\":{},\"id\":\"7475\",\"type\":\"HelpTool\"},{\"attributes\":{\"line_color\":{\"field\":\"color\"},\"line_width\":{\"value\":5},\"xs\":{\"field\":\"x\"},\"ys\":{\"field\":\"y\"}},\"id\":\"7485\",\"type\":\"MultiLine\"},{\"attributes\":{},\"id\":\"7490\",\"type\":\"BasicTickFormatter\"},{\"attributes\":{\"text\":\"Comparing New Fatalities as of Jun 17\"},\"id\":\"7453\",\"type\":\"Title\"},{\"attributes\":{\"axis_label\":\"Daily Deaths per 1M (3DMA)\",\"axis_label_text_font_size\":\"11pt\",\"formatter\":{\"id\":\"7490\"},\"ticker\":{\"id\":\"7467\"}},\"id\":\"7466\",\"type\":\"LinearAxis\"},{\"attributes\":{\"overlay\":{\"id\":\"7494\"}},\"id\":\"7472\",\"type\":\"BoxZoomTool\"},{\"attributes\":{},\"id\":\"7463\",\"type\":\"BasicTicker\"},{\"attributes\":{\"data\":{\"color\":[\"#440154\",\"#30678D\",\"#35B778\"],\"regions\":[\"Lombardia\",\"New Jersey\",\"New York\"],\"x\":[[0,1,2,3,4,5,6,7,8,9,10,11,12,13,14,15,16,17,18,19,20,21,22,23,24,25,26,27,28,29,30,31,32,33,34,35,36,37,38,39,40,41,42,43,44,45,46,47,48,49,50,51,52,53,54,55,56,57,58,59,60,61,62,63,64,65,66,67,68,69,70,71,72,73,74,75,76,77,78,79,80,81,82,83,84,85,86,87,88,89,90,91,92,93,94,95,96,97,98,99,100,101,102,103,104,105,106,107,108,109],[0,1,2,3,4,5,6,7,8,9,10,11,12,13,14,15,16,17,18,19,20,21,22,23,24,25,26,27,28,29,30,31,32,33,34,35,36,37,38,39,40,41,42,43,44,45,46,47,48,49,50,51,52,53,54,55,56,57,58,59,60,61,62,63,64,65,66,67,68,69,70,71,72,73,74,75,76,77,78,79,80,81,82,83,84,85,86,87,88,89,90,91,92,93,94,95,96,97,98,99,100,101,102],[0,1,2,3,4,5,6,7,8,9,10,11,12,13,14,15,16,17,18,19,20,21,22,23,24,25,26,27,28,29,30,31,32,33,34,35,36,37,38,39,40,41,42,43,44,45,46,47,48,49,50,51,52,53,54,55,56,57,58,59,60,61,62,63,64,65,66,67,68,69,70,71,72,73,74,75,76,77,78,79,80,81,82,83,84,85,86,87,88,89,90,91,92,93,94,95,96,97,98,99,100,101,102,103]],\"y\":[[0.3460982680965786,0.726806363002815,1.1075144579090515,1.695881513673235,2.0765896085794715,2.768786144772629,2.8033959715822863,5.8490607308321785,6.852745708312256,10.867485618232568,12.113439383380252,14.22463881876938,14.605346913675616,12.078829556570593,16.405057907777827,18.343208209118664,23.327023269709397,25.645881665956473,25.888150453624082,31.460332569978995,39.31676325577133,44.57745693083932,42.46625749545019,37.48244243485946,35.2328036922317,37.55166208847878,42.362428015021216,50.87644541019705,51.880130387677134,49.00751476247552,43.43533264612061,42.673916456308135,39.524422216629276,38.48612741233954,36.7902458986663,32.70628633512668,30.83735568740515,28.656936598396708,28.27622850349047,28.380057983919443,26.095809414482027,27.307153352820052,20.731286258985058,22.94631517480316,21.83880071689411,26.16502906810134,24.469147554428105,24.538367208047422,23.29241344289974,20.938945219843003,18.170159075070373,18.308598382309007,18.23937872868969,19.519942320647033,18.23937872868969,18.308598382309007,13.324783321718277,11.871170595712645,10.590607003755304,12.25187869061888,11.178974059519488,9.86380064075249,17.65101167292551,15.885910505632957,15.020664835391509,6.921965361931572,13.151734187669986,15.609031891155693,15.574422064346034,10.832875791422909,8.340968261127543,7.441112764076441,6.645086747454309,6.887355535121913,8.375578087937201,10.209898908849068,9.171604104559332,7.717991378553702,4.568497138874838,5.0876445410197055,4.949205233781074,6.368208132977046,6.4720376134060205,6.160549172119099,3.910910429491338,3.1148844128692073,1.93815030134084,3.945520256300996,3.460982680965786,4.014739909920311,4.326228351207232,4.776156099732784,4.118569390349285,2.215028915818103,2.0765896085794715,2.42268787667605,2.7341763179629703,2.664956664343655,2.388078049866392,2.768786144772629,2.3534682230567343,2.7341763179629703,2.4919075302953657,1.972760128150498,1.93815030134084,1.8689306477215244,2.5957370107243394,1.7997109941022085,1.3151734187669986,1.0729046310993937],[0.0,0.0,0.0,0.03791371157720206,0.03791371157720206,0.03791371157720206,0.0,0.03791371157720206,0.03791371157720206,0.07582742315440412,0.11374113473160619,0.26539598104041445,0.3033096926176165,0.41705082734922266,0.41705082734922266,0.606619385235233,1.0615839241616578,1.5923758862424864,2.0473404251689113,2.426477540940932,2.957269503021761,3.033096926176165,3.4122340419481856,4.815041370304662,7.3552600459772,12.8527482246715,14.369296687759581,18.61563238440621,14.407210399336783,13.535195033061136,14.634692668799994,22.25534869581761,26.425856969309837,26.539598104041442,25.7434101609202,24.64391252518134,19.373906615950254,23.582328601019686,30.558451531224865,40.757239945492216,39.24069148240414,34.653132381562685,25.93297871880621,20.359663116957506,25.895065007229007,32.64370566797098,37.57248817300724,32.75744680270258,30.330969261761652,21.610815599005175,16.18915484346528,21.952039003199992,31.544208032232113,44.889834507407244,41.553427888613456,36.852127653040405,24.378516544140926,14.103900706719166,19.032683211755437,25.705496449343,33.78111701528704,26.84290779665906,21.497074464273567,17.212825056049738,13.573108744638336,14.862174938263207,16.94742907500932,24.11312056310051,23.8856382936373,20.738800232729528,15.544621746652842,11.260372338429011,12.776920801517095,14.824261226686007,15.468794323498441,15.127570919303622,12.663179666785489,10.994976357388598,6.028280140775127,4.170508273492226,7.810224584903625,9.74382387534093,12.8906619362487,11.184544915274607,11.260372338429011,7.203605199668392,5.156264774499481,6.900295507050775,9.440514182723314,10.577925530039375,8.568498816447665,7.810224584903625,6.25576241023834,7.469001180708806,7.620656027017614,8.682239951179271,5.307919620808288,4.246335696646631,5.5354018902715,6.900295507050775,7.089864064936786,5.232092197653885,5.459574467117096],[0.0,0.0,0.0,0.0,0.0,0.0,0.0,0.0,0.051604641156290744,0.12041082936467841,0.12041082936467841,0.15481392346887224,0.08600773526048458,0.48164331745871364,0.5504495056671013,1.7545577993138852,1.3589222171156563,2.855456810648088,2.9414645459085724,4.661619251118264,5.315278039097947,7.620285344078933,9.976897290216211,12.023881389415743,14.139671676823664,16.78870992284659,19.867786845171935,23.824142667154227,27.93531241260539,30.721963035045093,31.358420275972673,33.09577652823447,36.27806273287239,39.718372143291774,40.509643307688236,40.57844949589662,39.873186066760645,38.049822079238375,37.96381434397789,37.86060506166531,36.742504503279015,34.196675539568666,30.54994756452412,28.846994406366527,26.232359254447793,25.217467978374078,24.649816925654882,23.961755043571,22.946863767497288,22.3104065265697,21.089096685870818,19.62696518644258,17.872407387128696,18.044422857649664,17.51117489903466,16.7199037346382,15.378183064574642,14.930942841220121,13.847245376938014,12.66033863034333,11.834664371842678,24.30578598461294,24.082165872935683,23.9789565906231,11.181005583862994,10.234920495997665,9.87368800790363,9.20282767287185,9.116819937611364,7.895510096912483,7.998719379225065,7.723494626391515,7.310657497141188,6.278564674015374,6.140952297598599,6.089347656442309,6.054944562338114,5.263673397941656,5.29807649204585,5.0400532862643965,4.85083626869133,4.334789857128422,4.025162010190678,3.7155341632529337,3.5263171456798674,3.1478831105337353,3.079076922325348,3.0102707341169603,2.9930691870648634,2.9930691870648634,2.6146351519187307,2.28780575792889,2.167394928564211,2.1329918344600176,2.339410399085181,2.494224322554053,2.459821228449859,1.6169454228971099,1.5653407817408191,1.4621314994282377,1.8749686286785638,1.4449299523761407,1.39332531121985,1.3417206700635596]]},\"selected\":{\"id\":\"7505\"},\"selection_policy\":{\"id\":\"7506\"}},\"id\":\"7483\",\"type\":\"ColumnDataSource\"},{\"attributes\":{\"source\":{\"id\":\"7483\"}},\"id\":\"7488\",\"type\":\"CDSView\"},{\"attributes\":{\"index\":0,\"label\":{\"value\":\"Lombardia\"},\"renderers\":[{\"id\":\"7487\"}]},\"id\":\"7496\",\"type\":\"LegendItem\"},{\"attributes\":{},\"id\":\"7470\",\"type\":\"PanTool\"},{\"attributes\":{},\"id\":\"7492\",\"type\":\"BasicTickFormatter\"},{\"attributes\":{\"active_drag\":\"auto\",\"active_inspect\":\"auto\",\"active_multi\":null,\"active_scroll\":\"auto\",\"active_tap\":\"auto\",\"tools\":[{\"id\":\"7470\"},{\"id\":\"7471\"},{\"id\":\"7472\"},{\"id\":\"7473\"},{\"id\":\"7474\"},{\"id\":\"7475\"}]},\"id\":\"7476\",\"type\":\"Toolbar\"},{\"attributes\":{},\"id\":\"7460\",\"type\":\"LinearScale\"},{\"attributes\":{},\"id\":\"7467\",\"type\":\"BasicTicker\"},{\"attributes\":{\"axis_label\":\"Days Since March 01, 2020\",\"axis_label_text_font_size\":\"11pt\",\"formatter\":{\"id\":\"7492\"},\"major_tick_line_color\":null,\"ticker\":{\"id\":\"7463\"}},\"id\":\"7462\",\"type\":\"LinearAxis\"},{\"attributes\":{\"axis\":{\"id\":\"7466\"},\"dimension\":1,\"grid_line_color\":null,\"ticker\":null},\"id\":\"7469\",\"type\":\"Grid\"},{\"attributes\":{},\"id\":\"7455\",\"type\":\"DataRange1d\"},{\"attributes\":{\"end\":57.06814342644485},\"id\":\"7451\",\"type\":\"Range1d\"},{\"attributes\":{\"index\":2,\"label\":{\"value\":\"New York\"},\"renderers\":[{\"id\":\"7487\"}]},\"id\":\"7498\",\"type\":\"LegendItem\"},{\"attributes\":{\"data_source\":{\"id\":\"7483\"},\"glyph\":{\"id\":\"7485\"},\"hover_glyph\":null,\"muted_glyph\":null,\"nonselection_glyph\":{\"id\":\"7486\"},\"selection_glyph\":null,\"view\":{\"id\":\"7488\"}},\"id\":\"7487\",\"type\":\"GlyphRenderer\"},{\"attributes\":{\"index\":1,\"label\":{\"value\":\"New Jersey\"},\"renderers\":[{\"id\":\"7487\"}]},\"id\":\"7497\",\"type\":\"LegendItem\"},{\"attributes\":{},\"id\":\"7471\",\"type\":\"WheelZoomTool\"},{\"attributes\":{},\"id\":\"7473\",\"type\":\"SaveTool\"},{\"attributes\":{},\"id\":\"7474\",\"type\":\"ResetTool\"},{\"attributes\":{\"bottom_units\":\"screen\",\"fill_alpha\":0.5,\"fill_color\":\"lightgrey\",\"left_units\":\"screen\",\"level\":\"overlay\",\"line_alpha\":1.0,\"line_color\":\"black\",\"line_dash\":[4,4],\"line_width\":2,\"render_mode\":\"css\",\"right_units\":\"screen\",\"top_units\":\"screen\"},\"id\":\"7494\",\"type\":\"BoxAnnotation\"},{\"attributes\":{\"line_alpha\":{\"value\":0.1},\"line_color\":{\"field\":\"color\"},\"line_width\":{\"value\":5},\"xs\":{\"field\":\"x\"},\"ys\":{\"field\":\"y\"}},\"id\":\"7486\",\"type\":\"MultiLine\"},{\"attributes\":{},\"id\":\"7506\",\"type\":\"UnionRenderers\"},{\"attributes\":{\"background_fill_alpha\":0.0,\"border_line_alpha\":0.0,\"border_line_color\":\"black\",\"items\":[{\"id\":\"7496\"},{\"id\":\"7497\"},{\"id\":\"7498\"}],\"location\":\"top_left\"},\"id\":\"7495\",\"type\":\"Legend\"}],\"root_ids\":[\"7452\"]},\"title\":\"Bokeh Application\",\"version\":\"2.0.0\"}};\n",
       "  var render_items = [{\"docid\":\"175ba84d-e0f4-4fc0-b30d-593c89d300e9\",\"root_ids\":[\"7452\"],\"roots\":{\"7452\":\"9e7b1c39-3e85-4100-83c7-bf26f10f76db\"}}];\n",
       "  root.Bokeh.embed.embed_items_notebook(docs_json, render_items);\n",
       "\n",
       "  }\n",
       "  if (root.Bokeh !== undefined) {\n",
       "    embed_document(root);\n",
       "  } else {\n",
       "    var attempts = 0;\n",
       "    var timer = setInterval(function(root) {\n",
       "      if (root.Bokeh !== undefined) {\n",
       "        clearInterval(timer);\n",
       "        embed_document(root);\n",
       "      } else {\n",
       "        attempts++;\n",
       "        if (attempts > 100) {\n",
       "          clearInterval(timer);\n",
       "          console.log(\"Bokeh: ERROR: Unable to run BokehJS code because BokehJS library is missing\");\n",
       "        }\n",
       "      }\n",
       "    }, 10, root)\n",
       "  }\n",
       "})(window);"
      ],
      "application/vnd.bokehjs_exec.v0+json": ""
     },
     "metadata": {
      "application/vnd.bokehjs_exec.v0+json": {
       "id": "7452"
      }
     },
     "output_type": "display_data"
    },
    {
     "data": {
      "text/html": [
       "\n",
       "\n",
       "\n",
       "\n",
       "\n",
       "\n",
       "  <div class=\"bk-root\" id=\"cb00edef-7113-4b94-8696-75205d5d0ee3\" data-root-id=\"7837\"></div>\n"
      ]
     },
     "metadata": {},
     "output_type": "display_data"
    },
    {
     "data": {
      "application/javascript": [
       "(function(root) {\n",
       "  function embed_document(root) {\n",
       "    \n",
       "  var docs_json = {\"d088037f-ba3d-46ca-aa78-546b35e7d4aa\":{\"roots\":{\"references\":[{\"attributes\":{\"background_fill_alpha\":0.02,\"background_fill_color\":\"#6883BA\",\"below\":[{\"id\":\"7847\"}],\"border_fill_alpha\":0.05,\"border_fill_color\":\"#6883BA\",\"center\":[{\"id\":\"7850\"},{\"id\":\"7854\"},{\"id\":\"7880\"}],\"left\":[{\"id\":\"7851\"}],\"min_border\":20,\"outline_line_color\":\"#6883BA\",\"plot_height\":325,\"plot_width\":500,\"renderers\":[{\"id\":\"7872\"}],\"title\":{\"id\":\"7838\"},\"toolbar\":{\"id\":\"7861\"},\"toolbar_location\":null,\"x_range\":{\"id\":\"7840\"},\"x_scale\":{\"id\":\"7843\"},\"y_range\":{\"id\":\"7836\"},\"y_scale\":{\"id\":\"7845\"}},\"id\":\"7837\",\"subtype\":\"Figure\",\"type\":\"Plot\"},{\"attributes\":{},\"id\":\"7845\",\"type\":\"LinearScale\"},{\"attributes\":{\"index\":1,\"label\":{\"value\":\"New Jersey\"},\"renderers\":[{\"id\":\"7872\"}]},\"id\":\"7882\",\"type\":\"LegendItem\"},{\"attributes\":{\"data\":{\"color\":[\"#440154\",\"#30678D\",\"#35B778\"],\"regions\":[\"Lombardia\",\"New Jersey\",\"New York\"],\"x\":[[0,1,2,3,4,5,6,7,8,9,10,11,12,13,14,15,16,17,18,19,20,21,22,23,24,25,26,27,28,29,30,31,32,33,34,35,36,37,38,39,40,41,42,43,44,45,46,47,48,49,50,51,52,53,54,55,56,57,58,59,60,61,62,63,64,65,66,67,68,69,70,71,72,73,74,75,76,77,78,79,80,81,82,83,84,85,86,87,88,89,90,91,92,93,94,95,96,97,98,99,100,101,102,103,104,105,106,107,108],[0,1,2,3,4,5,6,7,8,9,10,11,12,13,14,15,16,17,18,19,20,21,22,23,24,25,26,27,28,29,30,31,32,33,34,35,36,37,38,39,40,41,42,43,44,45,46,47,48,49,50,51,52,53,54,55,56,57,58,59,60,61,62,63,64,65,66,67,68,69,70,71,72,73,74,75,76,77,78,79,80,81,82,83,84,85,86,87,88,89,90,91,92,93,94,95,96,97,98,99,100,101,102,103,104,105,106,107,108],[0,1,2,3,4,5,6,7,8,9,10,11,12,13,14,15,16,17,18,19,20,21,22,23,24,25,26,27,28,29,30,31,32,33,34,35,36,37,38,39,40,41,42,43,44,45,46,47,48,49,50,51,52,53,54,55,56,57,58,59,60,61,62,63,64,65,66,67,68,69,70,71,72,73,74,75,76,77,78,79,80,81,82,83,84,85,86,87,88,89,90,91,92,93,94,95,96,97,98,99,100,101,102,103,104,105,106,107,108]],\"y\":[[0.677,0.711,0.792,0.794,0.737,0.764,0.75,0.507,0.425,0.32899999999999996,0.29,0.217,0.19699999999999998,0.146,0.14400000000000002,0.184,0.18,0.18,0.182,0.185,0.166,0.122,0.157,0.16,0.159,0.156,0.16,0.147,0.124,0.161,0.171,0.172,0.18,0.179,0.16,0.14300000000000002,0.18100000000000002,0.19699999999999998,0.21100000000000002,0.222,0.22899999999999998,0.2,0.121,0.142,0.20600000000000002,0.222,0.22899999999999998,0.226,0.204,0.179,0.214,0.23,0.23800000000000002,0.247,0.25,0.207,0.213,0.245,0.256,0.273,0.265,0.21,0.242,0.27399999999999997,0.418,0.433,0.442,0.447,0.467,0.42700000000000005,0.387,0.406,0.425,0.444,0.48100000000000004,0.474,0.445,0.46299999999999997,0.588,0.589,0.644,0.672,0.7090000000000001,0.7240000000000001,0.746,0.665,0.6970000000000001,0.726,0.732,0.8029999999999999,0.852,0.858,0.905,1.028,0.799,0.7829999999999999,0.934,0.8809999999999999,0.71,0.7809999999999999,0.8390000000000001,0.857,0.8909999999999999,0.8909999999999999,0.9590000000000001,0.953,0.9570000000000001,0.877,0.907],[0.977,1.046,1.0659999999999998,1.097,1.139,1.296,1.291,0.996,1.072,1.042,1.042,0.985,1.075,0.981,0.7120000000000001,0.728,0.649,0.644,0.5920000000000001,0.6759999999999999,0.556,0.373,0.41100000000000003,0.49,0.451,0.514,0.57,0.431,0.359,0.465,0.46399999999999997,0.49,0.49200000000000005,0.536,0.49,0.405,0.507,0.508,0.503,0.488,0.556,0.526,0.342,0.419,0.546,0.557,0.568,0.627,0.5489999999999999,0.496,0.561,0.539,0.6,0.591,0.62,0.677,0.449,0.574,0.6659999999999999,0.625,0.608,0.7390000000000001,0.7979999999999999,0.6559999999999999,0.6990000000000001,0.736,0.682,0.7709999999999999,0.7829999999999999,0.8059999999999999,0.677,0.731,0.785,0.8390000000000001,0.8690000000000001,1.05,1.0290000000000001,0.802,0.855,0.907,0.929,1.0,1.08,0.9259999999999999,0.9279999999999999,0.862,1.013,1.024,0.986,1.124,1.196,0.9940000000000001,1.02,1.004,0.996,1.143,1.2009999999999998,1.3359999999999999,1.148,1.136,1.256,1.212,1.111,1.111,1.4609999999999999,1.4409999999999998,1.163,1.207,1.256],[0.993,1.0290000000000001,1.0590000000000002,1.084,1.133,1.274,1.2819999999999998,0.993,1.05,1.021,1.011,0.9640000000000001,1.032,0.9079999999999999,0.6679999999999999,0.715,0.637,0.63,0.5820000000000001,0.622,0.523,0.384,0.385,0.444,0.429,0.47100000000000003,0.52,0.408,0.33899999999999997,0.42,0.43200000000000005,0.45299999999999996,0.451,0.48100000000000004,0.462,0.38,0.466,0.47100000000000003,0.45299999999999996,0.439,0.499,0.494,0.342,0.41,0.502,0.512,0.515,0.5660000000000001,0.508,0.47600000000000003,0.529,0.49200000000000005,0.544,0.5429999999999999,0.5870000000000001,0.655,0.42700000000000005,0.53,0.613,0.574,0.569,0.6759999999999999,0.73,0.624,0.624,0.674,0.636,0.69,0.711,0.7,0.603,0.652,0.7,0.7490000000000001,0.7609999999999999,0.878,0.897,0.71,0.757,0.8140000000000001,0.857,0.902,1.002,0.8390000000000001,0.8340000000000001,0.77,0.902,0.937,0.899,0.9840000000000001,1.006,0.8270000000000001,0.892,0.8690000000000001,0.878,0.985,1.04,1.053,0.919,0.997,1.057,1.051,1.015,1.015,1.251,1.186,0.9790000000000001,1.061,1.114]]},\"selected\":{\"id\":\"7890\"},\"selection_policy\":{\"id\":\"7891\"}},\"id\":\"7868\",\"type\":\"ColumnDataSource\"},{\"attributes\":{},\"id\":\"7852\",\"type\":\"BasicTicker\"},{\"attributes\":{},\"id\":\"7891\",\"type\":\"UnionRenderers\"},{\"attributes\":{\"end\":1.6070999999999998,\"start\":0.12221},\"id\":\"7836\",\"type\":\"Range1d\"},{\"attributes\":{\"text\":\"Apple Driving Queries as of Jun 17\"},\"id\":\"7838\",\"type\":\"Title\"},{\"attributes\":{},\"id\":\"7856\",\"type\":\"WheelZoomTool\"},{\"attributes\":{\"line_alpha\":{\"value\":0.1},\"line_color\":{\"field\":\"color\"},\"line_width\":{\"value\":5},\"xs\":{\"field\":\"x\"},\"ys\":{\"field\":\"y\"}},\"id\":\"7871\",\"type\":\"MultiLine\"},{\"attributes\":{\"bottom_units\":\"screen\",\"fill_alpha\":0.5,\"fill_color\":\"lightgrey\",\"left_units\":\"screen\",\"level\":\"overlay\",\"line_alpha\":1.0,\"line_color\":\"black\",\"line_dash\":[4,4],\"line_width\":2,\"render_mode\":\"css\",\"right_units\":\"screen\",\"top_units\":\"screen\"},\"id\":\"7879\",\"type\":\"BoxAnnotation\"},{\"attributes\":{},\"id\":\"7877\",\"type\":\"BasicTickFormatter\"},{\"attributes\":{},\"id\":\"7858\",\"type\":\"SaveTool\"},{\"attributes\":{\"active_drag\":\"auto\",\"active_inspect\":\"auto\",\"active_multi\":null,\"active_scroll\":\"auto\",\"active_tap\":\"auto\",\"tools\":[{\"id\":\"7855\"},{\"id\":\"7856\"},{\"id\":\"7857\"},{\"id\":\"7858\"},{\"id\":\"7859\"},{\"id\":\"7860\"}]},\"id\":\"7861\",\"type\":\"Toolbar\"},{\"attributes\":{},\"id\":\"7840\",\"type\":\"DataRange1d\"},{\"attributes\":{\"axis_label\":\"Days Since March 01, 2020\",\"axis_label_text_font_size\":\"11pt\",\"formatter\":{\"id\":\"7877\"},\"major_tick_line_color\":null,\"ticker\":{\"id\":\"7848\"}},\"id\":\"7847\",\"type\":\"LinearAxis\"},{\"attributes\":{\"axis_label\":\"Change in Driving Mobility - Apple\",\"axis_label_text_font_size\":\"11pt\",\"formatter\":{\"id\":\"7875\"},\"ticker\":{\"id\":\"7852\"}},\"id\":\"7851\",\"type\":\"LinearAxis\"},{\"attributes\":{\"data_source\":{\"id\":\"7868\"},\"glyph\":{\"id\":\"7870\"},\"hover_glyph\":null,\"muted_glyph\":null,\"nonselection_glyph\":{\"id\":\"7871\"},\"selection_glyph\":null,\"view\":{\"id\":\"7873\"}},\"id\":\"7872\",\"type\":\"GlyphRenderer\"},{\"attributes\":{\"axis\":{\"id\":\"7851\"},\"dimension\":1,\"grid_line_color\":null,\"ticker\":null},\"id\":\"7854\",\"type\":\"Grid\"},{\"attributes\":{\"background_fill_alpha\":0.0,\"border_line_alpha\":0.0,\"border_line_color\":\"black\",\"items\":[{\"id\":\"7881\"},{\"id\":\"7882\"},{\"id\":\"7883\"}],\"location\":\"top_center\"},\"id\":\"7880\",\"type\":\"Legend\"},{\"attributes\":{\"index\":0,\"label\":{\"value\":\"Lombardia\"},\"renderers\":[{\"id\":\"7872\"}]},\"id\":\"7881\",\"type\":\"LegendItem\"},{\"attributes\":{},\"id\":\"7843\",\"type\":\"LinearScale\"},{\"attributes\":{\"line_color\":{\"field\":\"color\"},\"line_width\":{\"value\":5},\"xs\":{\"field\":\"x\"},\"ys\":{\"field\":\"y\"}},\"id\":\"7870\",\"type\":\"MultiLine\"},{\"attributes\":{},\"id\":\"7859\",\"type\":\"ResetTool\"},{\"attributes\":{\"axis\":{\"id\":\"7847\"},\"grid_line_color\":null,\"ticker\":null},\"id\":\"7850\",\"type\":\"Grid\"},{\"attributes\":{},\"id\":\"7848\",\"type\":\"BasicTicker\"},{\"attributes\":{},\"id\":\"7890\",\"type\":\"Selection\"},{\"attributes\":{\"index\":2,\"label\":{\"value\":\"New York\"},\"renderers\":[{\"id\":\"7872\"}]},\"id\":\"7883\",\"type\":\"LegendItem\"},{\"attributes\":{\"overlay\":{\"id\":\"7879\"}},\"id\":\"7857\",\"type\":\"BoxZoomTool\"},{\"attributes\":{},\"id\":\"7855\",\"type\":\"PanTool\"},{\"attributes\":{},\"id\":\"7860\",\"type\":\"HelpTool\"},{\"attributes\":{\"source\":{\"id\":\"7868\"}},\"id\":\"7873\",\"type\":\"CDSView\"},{\"attributes\":{},\"id\":\"7875\",\"type\":\"BasicTickFormatter\"}],\"root_ids\":[\"7837\"]},\"title\":\"Bokeh Application\",\"version\":\"2.0.0\"}};\n",
       "  var render_items = [{\"docid\":\"d088037f-ba3d-46ca-aa78-546b35e7d4aa\",\"root_ids\":[\"7837\"],\"roots\":{\"7837\":\"cb00edef-7113-4b94-8696-75205d5d0ee3\"}}];\n",
       "  root.Bokeh.embed.embed_items_notebook(docs_json, render_items);\n",
       "\n",
       "  }\n",
       "  if (root.Bokeh !== undefined) {\n",
       "    embed_document(root);\n",
       "  } else {\n",
       "    var attempts = 0;\n",
       "    var timer = setInterval(function(root) {\n",
       "      if (root.Bokeh !== undefined) {\n",
       "        clearInterval(timer);\n",
       "        embed_document(root);\n",
       "      } else {\n",
       "        attempts++;\n",
       "        if (attempts > 100) {\n",
       "          clearInterval(timer);\n",
       "          console.log(\"Bokeh: ERROR: Unable to run BokehJS code because BokehJS library is missing\");\n",
       "        }\n",
       "      }\n",
       "    }, 10, root)\n",
       "  }\n",
       "})(window);"
      ],
      "application/vnd.bokehjs_exec.v0+json": ""
     },
     "metadata": {
      "application/vnd.bokehjs_exec.v0+json": {
       "id": "7837"
      }
     },
     "output_type": "display_data"
    },
    {
     "name": "stdout",
     "output_type": "stream",
     "text": [
      "\tSao Paulo Rio De Janeiro\n"
     ]
    },
    {
     "data": {
      "text/html": [
       "\n",
       "\n",
       "\n",
       "\n",
       "\n",
       "\n",
       "  <div class=\"bk-root\" id=\"e01c3071-4029-4035-bf91-36d0b755bf3b\" data-root-id=\"8230\"></div>\n"
      ]
     },
     "metadata": {},
     "output_type": "display_data"
    },
    {
     "data": {
      "application/javascript": [
       "(function(root) {\n",
       "  function embed_document(root) {\n",
       "    \n",
       "  var docs_json = {\"83ea2b45-13de-4756-a558-ae0b4827c789\":{\"roots\":{\"references\":[{\"attributes\":{\"background_fill_alpha\":0.02,\"background_fill_color\":\"#6883BA\",\"below\":[{\"id\":\"8240\"}],\"border_fill_alpha\":0.05,\"border_fill_color\":\"#6883BA\",\"center\":[{\"id\":\"8243\"},{\"id\":\"8247\"},{\"id\":\"8273\"}],\"left\":[{\"id\":\"8244\"}],\"min_border\":20,\"outline_line_color\":\"#6883BA\",\"plot_height\":325,\"plot_width\":525,\"renderers\":[{\"id\":\"8265\"}],\"title\":{\"id\":\"8231\"},\"toolbar\":{\"id\":\"8254\"},\"toolbar_location\":null,\"x_range\":{\"id\":\"8233\"},\"x_scale\":{\"id\":\"8236\"},\"y_range\":{\"id\":\"8229\"},\"y_scale\":{\"id\":\"8238\"}},\"id\":\"8230\",\"subtype\":\"Figure\",\"type\":\"Plot\"},{\"attributes\":{},\"id\":\"8241\",\"type\":\"BasicTicker\"},{\"attributes\":{\"index\":0,\"label\":{\"value\":\"Sao Paulo\"},\"renderers\":[{\"id\":\"8265\"}]},\"id\":\"8275\",\"type\":\"LegendItem\"},{\"attributes\":{\"text\":\"Comparing New Cases as of Jun 17\"},\"id\":\"8231\",\"type\":\"Title\"},{\"attributes\":{},\"id\":\"8252\",\"type\":\"ResetTool\"},{\"attributes\":{},\"id\":\"8283\",\"type\":\"UnionRenderers\"},{\"attributes\":{\"line_color\":{\"field\":\"color\"},\"line_width\":{\"value\":5},\"xs\":{\"field\":\"x\"},\"ys\":{\"field\":\"y\"}},\"id\":\"8263\",\"type\":\"MultiLine\"},{\"attributes\":{},\"id\":\"8249\",\"type\":\"WheelZoomTool\"},{\"attributes\":{},\"id\":\"8248\",\"type\":\"PanTool\"},{\"attributes\":{\"axis\":{\"id\":\"8244\"},\"dimension\":1,\"grid_line_color\":null,\"ticker\":null},\"id\":\"8247\",\"type\":\"Grid\"},{\"attributes\":{\"axis_label\":\"Daily Cases per 1M (3DMA)\",\"axis_label_text_font_size\":\"11pt\",\"formatter\":{\"id\":\"8268\"},\"ticker\":{\"id\":\"8245\"}},\"id\":\"8244\",\"type\":\"LinearAxis\"},{\"attributes\":{\"index\":1,\"label\":{\"value\":\"Rio De Janeiro\"},\"renderers\":[{\"id\":\"8265\"}]},\"id\":\"8274\",\"type\":\"LegendItem\"},{\"attributes\":{},\"id\":\"8236\",\"type\":\"LinearScale\"},{\"attributes\":{},\"id\":\"8282\",\"type\":\"Selection\"},{\"attributes\":{\"source\":{\"id\":\"8261\"}},\"id\":\"8266\",\"type\":\"CDSView\"},{\"attributes\":{},\"id\":\"8251\",\"type\":\"SaveTool\"},{\"attributes\":{\"axis\":{\"id\":\"8240\"},\"grid_line_color\":null,\"ticker\":null},\"id\":\"8243\",\"type\":\"Grid\"},{\"attributes\":{},\"id\":\"8253\",\"type\":\"HelpTool\"},{\"attributes\":{\"end\":230.20796607016655},\"id\":\"8229\",\"type\":\"Range1d\"},{\"attributes\":{\"background_fill_alpha\":0.0,\"border_line_alpha\":0.0,\"border_line_color\":\"black\",\"items\":[{\"id\":\"8274\"},{\"id\":\"8275\"}],\"location\":\"top_left\"},\"id\":\"8273\",\"type\":\"Legend\"},{\"attributes\":{},\"id\":\"8270\",\"type\":\"BasicTickFormatter\"},{\"attributes\":{\"overlay\":{\"id\":\"8272\"}},\"id\":\"8250\",\"type\":\"BoxZoomTool\"},{\"attributes\":{\"active_drag\":\"auto\",\"active_inspect\":\"auto\",\"active_multi\":null,\"active_scroll\":\"auto\",\"active_tap\":\"auto\",\"tools\":[{\"id\":\"8248\"},{\"id\":\"8249\"},{\"id\":\"8250\"},{\"id\":\"8251\"},{\"id\":\"8252\"},{\"id\":\"8253\"}]},\"id\":\"8254\",\"type\":\"Toolbar\"},{\"attributes\":{\"data\":{\"color\":[\"#440154\",\"#20908C\"],\"regions\":[\"Sao Paulo\",\"Rio De Janeiro\"],\"x\":[[0,1,2,3,4,5,6,7,8,9,10,11,12,13,14,15,16,17,18,19,20,21,22,23,24,25,26,27,28,29,30,31,32,33,34,35,36,37,38,39,40,41,42,43,44,45,46,47,48,49,50,51,52,53,54,55,56,57,58,59,60,61,62,63,64,65,66,67,68,69,70,71,72,73,74,75,76,77,78,79,80,81,82,83,84,85,86,87,88,89,90,91,92,93,94,95,96,97,98,99,100,101,102,103,104,105,106,107,108,109],[0,1,2,3,4,5,6,7,8,9,10,11,12,13,14,15,16,17,18,19,20,21,22,23,24,25,26,27,28,29,30,31,32,33,34,35,36,37,38,39,40,41,42,43,44,45,46,47,48,49,50,51,52,53,54,55,56,57,58,59,60,61,62,63,64,65,66,67,68,69,70,71,72,73,74,75,76,77,78,79,80,81,82,83,84,85,86,87,88,89,90,91,92,93,94,95,96,97,98,99,100,101,102]],\"y\":[[0.008102029702656645,0.0,0.0,0.008102029702656645,0.03240811881062658,0.06481623762125316,0.08102029702656645,0.08102029702656645,0.04861217821593986,0.04861217821593986,0.11342841583719303,0.24306089107969936,0.29977509899829585,0.2835710395929825,0.729182673239098,0.7777948514550378,0.8021009405630078,0.8507131187789476,1.0856719801559902,1.8796708910163413,1.7662424751791486,2.7952002474165423,2.8276083662271687,2.8438124256324824,1.871568861313685,2.4954251484182466,3.346138267197194,4.407504158245215,3.224607821657344,2.3819967325810536,7.559193712578649,12.396105445064665,16.114937078584067,13.846368761840203,12.031514108445117,9.0256610887595,6.627460296773136,9.852068118430479,16.91703801914707,21.178705642744468,20.530543266531936,13.86257282124552,10.330087870887223,5.501278168103862,7.713132276929125,18.5374439596784,21.65672539520121,28.114043068218557,23.098886682274095,21.86737816747028,14.089429652919902,12.080126286661056,13.344042920275493,17.50038415773835,19.777054504184868,33.13730148386568,32.20556806806016,31.354854949281215,32.70789390962487,44.09934767156011,56.730411978001825,51.31015410692453,40.63978098852573,24.905639305966528,14.688979850916498,23.325743513948478,49.26844262185505,62.717811928265085,63.009484997560726,53.13311079002227,44.690795839854054,34.84682975112623,26.80151425638818,45.80077390911801,66.07205222516494,86.35953460061717,81.71707158099493,65.2942573737099,37.98231524605435,38.98696692918377,60.87865118576202,86.47296301645436,88.11767504609367,86.68361578872343,68.23529415577426,54.72110861174298,44.22898014680263,59.32306148285195,99.16884356051732,125.8974395495816,143.07374251921365,112.07537687684936,78.91376930387571,90.36193727372955,111.68647945112184,145.05873979636456,131.8200232622236,138.26923890553832,112.39945806495561,81.24715385824082,77.69036281877456,107.29517935228193,145.24508647952567,100.31933177829457,93.85391207557457,83.89651757100955,127.05602979706147,109.86352276802408,141.05633712325218,107.87852549087322],[0.04176411278281717,0.020882056391408586,0.12529233834845152,0.2088205639140859,0.27146673308831165,0.16705645113126869,0.1879385075226773,0.16705645113126869,0.3132308458711288,0.22970262030549446,0.8144001992649349,0.7308719736993005,1.5870362857470526,1.1693951579188808,2.5058467669690305,2.589374992534665,3.8840624888019972,3.84229837601918,3.9258266015848142,3.9258266015848142,3.9258266015848142,3.737888094062137,3.424657248191008,3.1323084587112877,4.844637082806792,6.995488891121877,7.642832639255543,8.645171346043155,8.394586669346253,8.081355823475123,9.229868925002597,11.359838676926271,15.765952575513483,16.204475759733064,13.970095725852344,13.343634034110089,16.016537252210384,16.7682912823011,18.543266075570827,14.888906207074323,19.60825095153266,16.705645113126874,17.14416829734645,11.485131015274725,15.933009026644752,16.434178380038556,26.58285778626313,20.38088703801478,26.64550395543736,19.60825095153266,34.70597772252107,34.998326512000794,36.7106551360963,31.511023094635554,34.70597772252107,35.0192085683922,35.20714707591488,32.47159768864036,38.52739404214884,45.02171357987691,50.84780731307991,69.95488891121877,75.88539292637881,60.68325587343335,45.898759948316076,32.51336180142317,34.78950594808671,31.90778216607232,31.34396664350429,59.99414801251687,57.86417826059319,139.45037258182657,129.5522778522989,169.85464668771746,113.26427386700018,120.78181416790727,86.89023664465113,121.5962143671722,119.21565993855162,114.66337164522454,93.67690497185892,116.6889311151912,165.57382512747867,209.27996915469686,177.5392434397558,137.3412848862943,90.04342715975382,122.20179400252304,133.6869250177978,132.266945183182,110.52872447972565,142.49915281497218,134.33426876593145,176.36984828183694,138.1765671419506,131.05578591248027,58.38622967037841,71.22869435109469,63.91997461410168,79.28916811817841,66.02906230963394,94.1154281560785,154.33927878890086]]},\"selected\":{\"id\":\"8282\"},\"selection_policy\":{\"id\":\"8283\"}},\"id\":\"8261\",\"type\":\"ColumnDataSource\"},{\"attributes\":{\"axis_label\":\"Days Since March 01, 2020\",\"axis_label_text_font_size\":\"11pt\",\"formatter\":{\"id\":\"8270\"},\"major_tick_line_color\":null,\"ticker\":{\"id\":\"8241\"}},\"id\":\"8240\",\"type\":\"LinearAxis\"},{\"attributes\":{},\"id\":\"8245\",\"type\":\"BasicTicker\"},{\"attributes\":{},\"id\":\"8233\",\"type\":\"DataRange1d\"},{\"attributes\":{\"data_source\":{\"id\":\"8261\"},\"glyph\":{\"id\":\"8263\"},\"hover_glyph\":null,\"muted_glyph\":null,\"nonselection_glyph\":{\"id\":\"8264\"},\"selection_glyph\":null,\"view\":{\"id\":\"8266\"}},\"id\":\"8265\",\"type\":\"GlyphRenderer\"},{\"attributes\":{\"bottom_units\":\"screen\",\"fill_alpha\":0.5,\"fill_color\":\"lightgrey\",\"left_units\":\"screen\",\"level\":\"overlay\",\"line_alpha\":1.0,\"line_color\":\"black\",\"line_dash\":[4,4],\"line_width\":2,\"render_mode\":\"css\",\"right_units\":\"screen\",\"top_units\":\"screen\"},\"id\":\"8272\",\"type\":\"BoxAnnotation\"},{\"attributes\":{},\"id\":\"8268\",\"type\":\"BasicTickFormatter\"},{\"attributes\":{\"line_alpha\":{\"value\":0.1},\"line_color\":{\"field\":\"color\"},\"line_width\":{\"value\":5},\"xs\":{\"field\":\"x\"},\"ys\":{\"field\":\"y\"}},\"id\":\"8264\",\"type\":\"MultiLine\"},{\"attributes\":{},\"id\":\"8238\",\"type\":\"LinearScale\"}],\"root_ids\":[\"8230\"]},\"title\":\"Bokeh Application\",\"version\":\"2.0.0\"}};\n",
       "  var render_items = [{\"docid\":\"83ea2b45-13de-4756-a558-ae0b4827c789\",\"root_ids\":[\"8230\"],\"roots\":{\"8230\":\"e01c3071-4029-4035-bf91-36d0b755bf3b\"}}];\n",
       "  root.Bokeh.embed.embed_items_notebook(docs_json, render_items);\n",
       "\n",
       "  }\n",
       "  if (root.Bokeh !== undefined) {\n",
       "    embed_document(root);\n",
       "  } else {\n",
       "    var attempts = 0;\n",
       "    var timer = setInterval(function(root) {\n",
       "      if (root.Bokeh !== undefined) {\n",
       "        clearInterval(timer);\n",
       "        embed_document(root);\n",
       "      } else {\n",
       "        attempts++;\n",
       "        if (attempts > 100) {\n",
       "          clearInterval(timer);\n",
       "          console.log(\"Bokeh: ERROR: Unable to run BokehJS code because BokehJS library is missing\");\n",
       "        }\n",
       "      }\n",
       "    }, 10, root)\n",
       "  }\n",
       "})(window);"
      ],
      "application/vnd.bokehjs_exec.v0+json": ""
     },
     "metadata": {
      "application/vnd.bokehjs_exec.v0+json": {
       "id": "8230"
      }
     },
     "output_type": "display_data"
    },
    {
     "data": {
      "text/html": [
       "\n",
       "\n",
       "\n",
       "\n",
       "\n",
       "\n",
       "  <div class=\"bk-root\" id=\"37c89dea-4121-4201-a1a8-60a173d8733d\" data-root-id=\"8630\"></div>\n"
      ]
     },
     "metadata": {},
     "output_type": "display_data"
    },
    {
     "data": {
      "application/javascript": [
       "(function(root) {\n",
       "  function embed_document(root) {\n",
       "    \n",
       "  var docs_json = {\"d1a560a1-426d-4198-8519-bf7b60628013\":{\"roots\":{\"references\":[{\"attributes\":{\"background_fill_alpha\":0.02,\"background_fill_color\":\"#6883BA\",\"below\":[{\"id\":\"8640\"}],\"border_fill_alpha\":0.05,\"border_fill_color\":\"#6883BA\",\"center\":[{\"id\":\"8643\"},{\"id\":\"8647\"},{\"id\":\"8673\"}],\"left\":[{\"id\":\"8644\"}],\"min_border\":20,\"outline_line_color\":\"#6883BA\",\"plot_height\":325,\"plot_width\":525,\"renderers\":[{\"id\":\"8665\"}],\"title\":{\"id\":\"8631\"},\"toolbar\":{\"id\":\"8654\"},\"toolbar_location\":null,\"x_range\":{\"id\":\"8633\"},\"x_scale\":{\"id\":\"8636\"},\"y_range\":{\"id\":\"8629\"},\"y_scale\":{\"id\":\"8638\"}},\"id\":\"8630\",\"subtype\":\"Figure\",\"type\":\"Plot\"},{\"attributes\":{},\"id\":\"8651\",\"type\":\"SaveTool\"},{\"attributes\":{\"data\":{\"color\":[\"#440154\",\"#20908C\"],\"regions\":[\"Sao Paulo\",\"Rio De Janeiro\"],\"x\":[[0,1,2,3,4,5,6,7,8,9,10,11,12,13,14,15,16,17,18,19,20,21,22,23,24,25,26,27,28,29,30,31,32,33,34,35,36,37,38,39,40,41,42,43,44,45,46,47,48,49,50,51,52,53,54,55,56,57,58,59,60,61,62,63,64,65,66,67,68,69,70,71,72,73,74,75,76,77,78,79,80,81,82,83,84,85,86,87,88,89,90,91,92,93,94,95,96,97,98,99,100,101,102,103,104,105,106,107,108,109],[0,1,2,3,4,5,6,7,8,9,10,11,12,13,14,15,16,17,18,19,20,21,22,23,24,25,26,27,28,29,30,31,32,33,34,35,36,37,38,39,40,41,42,43,44,45,46,47,48,49,50,51,52,53,54,55,56,57,58,59,60,61,62,63,64,65,66,67,68,69,70,71,72,73,74,75,76,77,78,79,80,81,82,83,84,85,86,87,88,89,90,91,92,93,94,95,96,97,98,99,100,101,102]],\"y\":[[0.0,0.0,0.0,0.0,0.0,0.0,0.0,0.0,0.0,0.0,0.0,0.0,0.0,0.0,0.0,0.0,0.008102029702656645,0.03240811881062658,0.040510148513283224,0.06481623762125316,0.08912232672922307,0.13773450494516296,0.17014262375578953,0.20255074256641611,0.21065277226907275,0.22685683167438606,0.22685683167438606,0.2916730692956392,0.3240811881062658,0.364591336619549,0.4213055445381455,0.5347339603753385,0.6076522276992483,0.6724684653205014,0.7777948514550378,0.704876584131128,0.6886725247258147,0.8993252969948875,1.2396105445064665,1.5555897029100756,1.369243019748973,1.069467920750677,0.7453867326444112,0.5509380197806518,1.0937740098586468,1.5393856435047626,1.984997277150878,1.8877729207189982,1.7257323266658653,1.3125288118303764,0.8831212375895743,0.8264070296709777,0.9641415346161406,2.4954251484182466,3.3947504454131336,4.318381831515991,2.8762205444431084,2.5359352969315294,3.094975346414838,4.431810247353185,4.456116336461155,3.74313772262737,2.746588069200602,2.041711485069474,1.1585902474799,2.147037871204011,3.3866484157104777,4.4723203958664675,4.577646782001004,4.56144272259569,4.075320940436292,2.649363712768723,2.762792128605916,3.313730148386568,4.6343609899196,4.4723203958664675,4.618156930514288,3.7836478711406527,2.608853564255439,3.7188316335193994,4.707279257243511,5.9549918314526336,5.071870593863059,5.525584257211832,4.901727970107269,3.62160727708752,3.0625672276042115,4.448014306758497,6.15754257401905,6.902929306663461,6.643664356178448,5.144788861186969,3.175995643441404,3.74313772262737,5.355441633456042,7.24321455417504,6.870521187852835,6.335787227477496,4.73158534635148,2.8033022771191987,3.7593417820326827,5.809155296804814,7.753642425442408,5.047564504755089,4.099627029544262,3.532484950358297,4.448014306758497,3.232709851360001,4.46421836616381,6.700378564097045],[0.0,0.0,0.0,0.0,0.0,0.0,0.0,0.0,0.0,0.0,0.0,0.04176411278281717,0.04176411278281717,0.06264616917422576,0.020882056391408586,0.04176411278281717,0.06264616917422576,0.10441028195704295,0.10441028195704295,0.08352822556563434,0.10441028195704295,0.16705645113126869,0.16705645113126869,0.2088205639140859,0.22970262030549446,0.4802872970023975,0.5011693533938061,0.6264616917422576,0.4802872970023975,0.5011693533938061,0.6473437481336662,0.8770463684391606,1.0649848759618379,1.211159270701698,1.0232207631790207,1.0023387067876122,0.856164312047752,1.4408618910071926,1.9837953571838158,2.35967237222917,2.443200597794805,2.5476108797518475,2.109087695532267,1.6914465677040955,1.5452721729642356,1.8376209624439557,2.255262090272127,2.2761441466635364,2.6102570489260732,2.401436485011988,2.2343800338807185,2.5684929361432562,3.1114264023198794,3.6961239812793196,3.8214163196277715,3.6961239812793196,3.445539304582417,3.0070161203628367,3.174072571494105,3.8840624888019972,6.870196552773426,7.935181428735263,9.355161263351047,6.682258045250749,5.5755090565060925,5.742565507637362,7.016370947513285,9.960740898701896,10.649848759618381,11.777479804754444,9.77280239117922,8.645171346043155,9.710156222004994,10.900433436315282,11.693951579188807,12.069828594234162,13.949213669460935,12.132474763408387,9.355161263351047,9.522217714482316,12.779818511542056,15.68242434994785,14.993316489031367,14.03274189502657,10.19044351900739,7.997827597909489,8.540761064086112,13.907449556678118,18.062978778568425,16.434178380038556,13.134813470196,7.935181428735263,6.431673368553845,6.034914297117081,9.0001663046971,12.153356819799798,9.083694530262736,5.826093733202995,4.7819909136325665,6.4525554249452535,6.494319537728071,7.83077114677822,9.731038278396403]]},\"selected\":{\"id\":\"8682\"},\"selection_policy\":{\"id\":\"8683\"}},\"id\":\"8661\",\"type\":\"ColumnDataSource\"},{\"attributes\":{\"axis_label\":\"Daily Deaths per 1M (3DMA)\",\"axis_label_text_font_size\":\"11pt\",\"formatter\":{\"id\":\"8668\"},\"ticker\":{\"id\":\"8645\"}},\"id\":\"8644\",\"type\":\"LinearAxis\"},{\"attributes\":{},\"id\":\"8648\",\"type\":\"PanTool\"},{\"attributes\":{},\"id\":\"8683\",\"type\":\"UnionRenderers\"},{\"attributes\":{},\"id\":\"8668\",\"type\":\"BasicTickFormatter\"},{\"attributes\":{},\"id\":\"8670\",\"type\":\"BasicTickFormatter\"},{\"attributes\":{\"line_alpha\":{\"value\":0.1},\"line_color\":{\"field\":\"color\"},\"line_width\":{\"value\":5},\"xs\":{\"field\":\"x\"},\"ys\":{\"field\":\"y\"}},\"id\":\"8664\",\"type\":\"MultiLine\"},{\"attributes\":{\"background_fill_alpha\":0.0,\"border_line_alpha\":0.0,\"border_line_color\":\"black\",\"items\":[{\"id\":\"8674\"},{\"id\":\"8675\"}],\"location\":\"top_left\"},\"id\":\"8673\",\"type\":\"Legend\"},{\"attributes\":{\"active_drag\":\"auto\",\"active_inspect\":\"auto\",\"active_multi\":null,\"active_scroll\":\"auto\",\"active_tap\":\"auto\",\"tools\":[{\"id\":\"8648\"},{\"id\":\"8649\"},{\"id\":\"8650\"},{\"id\":\"8651\"},{\"id\":\"8652\"},{\"id\":\"8653\"}]},\"id\":\"8654\",\"type\":\"Toolbar\"},{\"attributes\":{\"bottom_units\":\"screen\",\"fill_alpha\":0.5,\"fill_color\":\"lightgrey\",\"left_units\":\"screen\",\"level\":\"overlay\",\"line_alpha\":1.0,\"line_color\":\"black\",\"line_dash\":[4,4],\"line_width\":2,\"render_mode\":\"css\",\"right_units\":\"screen\",\"top_units\":\"screen\"},\"id\":\"8672\",\"type\":\"BoxAnnotation\"},{\"attributes\":{\"end\":19.869276656425267},\"id\":\"8629\",\"type\":\"Range1d\"},{\"attributes\":{\"index\":0,\"label\":{\"value\":\"Sao Paulo\"},\"renderers\":[{\"id\":\"8665\"}]},\"id\":\"8675\",\"type\":\"LegendItem\"},{\"attributes\":{},\"id\":\"8652\",\"type\":\"ResetTool\"},{\"attributes\":{\"line_color\":{\"field\":\"color\"},\"line_width\":{\"value\":5},\"xs\":{\"field\":\"x\"},\"ys\":{\"field\":\"y\"}},\"id\":\"8663\",\"type\":\"MultiLine\"},{\"attributes\":{},\"id\":\"8636\",\"type\":\"LinearScale\"},{\"attributes\":{\"overlay\":{\"id\":\"8672\"}},\"id\":\"8650\",\"type\":\"BoxZoomTool\"},{\"attributes\":{\"axis\":{\"id\":\"8644\"},\"dimension\":1,\"grid_line_color\":null,\"ticker\":null},\"id\":\"8647\",\"type\":\"Grid\"},{\"attributes\":{\"data_source\":{\"id\":\"8661\"},\"glyph\":{\"id\":\"8663\"},\"hover_glyph\":null,\"muted_glyph\":null,\"nonselection_glyph\":{\"id\":\"8664\"},\"selection_glyph\":null,\"view\":{\"id\":\"8666\"}},\"id\":\"8665\",\"type\":\"GlyphRenderer\"},{\"attributes\":{\"source\":{\"id\":\"8661\"}},\"id\":\"8666\",\"type\":\"CDSView\"},{\"attributes\":{\"axis_label\":\"Days Since March 01, 2020\",\"axis_label_text_font_size\":\"11pt\",\"formatter\":{\"id\":\"8670\"},\"major_tick_line_color\":null,\"ticker\":{\"id\":\"8641\"}},\"id\":\"8640\",\"type\":\"LinearAxis\"},{\"attributes\":{},\"id\":\"8638\",\"type\":\"LinearScale\"},{\"attributes\":{\"text\":\"Comparing New Fatalities as of Jun 17\"},\"id\":\"8631\",\"type\":\"Title\"},{\"attributes\":{\"axis\":{\"id\":\"8640\"},\"grid_line_color\":null,\"ticker\":null},\"id\":\"8643\",\"type\":\"Grid\"},{\"attributes\":{},\"id\":\"8649\",\"type\":\"WheelZoomTool\"},{\"attributes\":{},\"id\":\"8645\",\"type\":\"BasicTicker\"},{\"attributes\":{},\"id\":\"8682\",\"type\":\"Selection\"},{\"attributes\":{},\"id\":\"8653\",\"type\":\"HelpTool\"},{\"attributes\":{},\"id\":\"8641\",\"type\":\"BasicTicker\"},{\"attributes\":{\"index\":1,\"label\":{\"value\":\"Rio De Janeiro\"},\"renderers\":[{\"id\":\"8665\"}]},\"id\":\"8674\",\"type\":\"LegendItem\"},{\"attributes\":{},\"id\":\"8633\",\"type\":\"DataRange1d\"}],\"root_ids\":[\"8630\"]},\"title\":\"Bokeh Application\",\"version\":\"2.0.0\"}};\n",
       "  var render_items = [{\"docid\":\"d1a560a1-426d-4198-8519-bf7b60628013\",\"root_ids\":[\"8630\"],\"roots\":{\"8630\":\"37c89dea-4121-4201-a1a8-60a173d8733d\"}}];\n",
       "  root.Bokeh.embed.embed_items_notebook(docs_json, render_items);\n",
       "\n",
       "  }\n",
       "  if (root.Bokeh !== undefined) {\n",
       "    embed_document(root);\n",
       "  } else {\n",
       "    var attempts = 0;\n",
       "    var timer = setInterval(function(root) {\n",
       "      if (root.Bokeh !== undefined) {\n",
       "        clearInterval(timer);\n",
       "        embed_document(root);\n",
       "      } else {\n",
       "        attempts++;\n",
       "        if (attempts > 100) {\n",
       "          clearInterval(timer);\n",
       "          console.log(\"Bokeh: ERROR: Unable to run BokehJS code because BokehJS library is missing\");\n",
       "        }\n",
       "      }\n",
       "    }, 10, root)\n",
       "  }\n",
       "})(window);"
      ],
      "application/vnd.bokehjs_exec.v0+json": ""
     },
     "metadata": {
      "application/vnd.bokehjs_exec.v0+json": {
       "id": "8630"
      }
     },
     "output_type": "display_data"
    },
    {
     "data": {
      "text/html": [
       "\n",
       "\n",
       "\n",
       "\n",
       "\n",
       "\n",
       "  <div class=\"bk-root\" id=\"ebfca335-9ed3-4da6-b911-2b5a409854b7\" data-root-id=\"9038\"></div>\n"
      ]
     },
     "metadata": {},
     "output_type": "display_data"
    },
    {
     "data": {
      "application/javascript": [
       "(function(root) {\n",
       "  function embed_document(root) {\n",
       "    \n",
       "  var docs_json = {\"cbad16ee-0bc8-4688-8627-1c39006a7a55\":{\"roots\":{\"references\":[{\"attributes\":{\"background_fill_alpha\":0.02,\"background_fill_color\":\"#6883BA\",\"below\":[{\"id\":\"9048\"}],\"border_fill_alpha\":0.05,\"border_fill_color\":\"#6883BA\",\"center\":[{\"id\":\"9051\"},{\"id\":\"9055\"},{\"id\":\"9081\"}],\"left\":[{\"id\":\"9052\"}],\"min_border\":20,\"outline_line_color\":\"#6883BA\",\"plot_height\":325,\"plot_width\":500,\"renderers\":[{\"id\":\"9073\"}],\"title\":{\"id\":\"9039\"},\"toolbar\":{\"id\":\"9062\"},\"toolbar_location\":null,\"x_range\":{\"id\":\"9041\"},\"x_scale\":{\"id\":\"9044\"},\"y_range\":{\"id\":\"9037\"},\"y_scale\":{\"id\":\"9046\"}},\"id\":\"9038\",\"subtype\":\"Figure\",\"type\":\"Plot\"},{\"attributes\":{},\"id\":\"9057\",\"type\":\"WheelZoomTool\"},{\"attributes\":{},\"id\":\"9053\",\"type\":\"BasicTicker\"},{\"attributes\":{},\"id\":\"9078\",\"type\":\"BasicTickFormatter\"},{\"attributes\":{\"axis\":{\"id\":\"9052\"},\"dimension\":1,\"grid_line_color\":null,\"ticker\":null},\"id\":\"9055\",\"type\":\"Grid\"},{\"attributes\":{\"axis\":{\"id\":\"9048\"},\"grid_line_color\":null,\"ticker\":null},\"id\":\"9051\",\"type\":\"Grid\"},{\"attributes\":{\"line_color\":{\"field\":\"color\"},\"line_width\":{\"value\":5},\"xs\":{\"field\":\"x\"},\"ys\":{\"field\":\"y\"}},\"id\":\"9071\",\"type\":\"MultiLine\"},{\"attributes\":{},\"id\":\"9044\",\"type\":\"LinearScale\"},{\"attributes\":{},\"id\":\"9041\",\"type\":\"DataRange1d\"},{\"attributes\":{\"end\":1.3882,\"start\":0.24442},\"id\":\"9037\",\"type\":\"Range1d\"},{\"attributes\":{\"bottom_units\":\"screen\",\"fill_alpha\":0.5,\"fill_color\":\"lightgrey\",\"left_units\":\"screen\",\"level\":\"overlay\",\"line_alpha\":1.0,\"line_color\":\"black\",\"line_dash\":[4,4],\"line_width\":2,\"render_mode\":\"css\",\"right_units\":\"screen\",\"top_units\":\"screen\"},\"id\":\"9080\",\"type\":\"BoxAnnotation\"},{\"attributes\":{\"axis_label\":\"Change in Driving Mobility - Apple\",\"axis_label_text_font_size\":\"11pt\",\"formatter\":{\"id\":\"9076\"},\"ticker\":{\"id\":\"9053\"}},\"id\":\"9052\",\"type\":\"LinearAxis\"},{\"attributes\":{},\"id\":\"9061\",\"type\":\"HelpTool\"},{\"attributes\":{\"active_drag\":\"auto\",\"active_inspect\":\"auto\",\"active_multi\":null,\"active_scroll\":\"auto\",\"active_tap\":\"auto\",\"tools\":[{\"id\":\"9056\"},{\"id\":\"9057\"},{\"id\":\"9058\"},{\"id\":\"9059\"},{\"id\":\"9060\"},{\"id\":\"9061\"}]},\"id\":\"9062\",\"type\":\"Toolbar\"},{\"attributes\":{},\"id\":\"9056\",\"type\":\"PanTool\"},{\"attributes\":{},\"id\":\"9090\",\"type\":\"Selection\"},{\"attributes\":{\"axis_label\":\"Days Since March 01, 2020\",\"axis_label_text_font_size\":\"11pt\",\"formatter\":{\"id\":\"9078\"},\"major_tick_line_color\":null,\"ticker\":{\"id\":\"9049\"}},\"id\":\"9048\",\"type\":\"LinearAxis\"},{\"attributes\":{\"index\":0,\"label\":{\"value\":\"Sao Paulo\"},\"renderers\":[{\"id\":\"9073\"}]},\"id\":\"9083\",\"type\":\"LegendItem\"},{\"attributes\":{},\"id\":\"9059\",\"type\":\"SaveTool\"},{\"attributes\":{\"background_fill_alpha\":0.0,\"border_line_alpha\":0.0,\"border_line_color\":\"black\",\"items\":[{\"id\":\"9082\"},{\"id\":\"9083\"}],\"location\":\"top_center\"},\"id\":\"9081\",\"type\":\"Legend\"},{\"attributes\":{\"overlay\":{\"id\":\"9080\"}},\"id\":\"9058\",\"type\":\"BoxZoomTool\"},{\"attributes\":{},\"id\":\"9091\",\"type\":\"UnionRenderers\"},{\"attributes\":{},\"id\":\"9076\",\"type\":\"BasicTickFormatter\"},{\"attributes\":{\"data\":{\"color\":[\"#440154\",\"#20908C\"],\"regions\":[\"Sao Paulo\",\"Rio De Janeiro\"],\"x\":[[0,1,2,3,4,5,6,7,8,9,10,11,12,13,14,15,16,17,18,19,20,21,22,23,24,25,26,27,28,29,30,31,32,33,34,35,36,37,38,39,40,41,42,43,44,45,46,47,48,49,50,51,52,53,54,55,56,57,58,59,60,61,62,63,64,65,66,67,68,69,70,71,72,73,74,75,76,77,78,79,80,81,82,83,84,85,86,87,88,89,90,91,92,93,94,95,96,97,98,99,100,101,102,103,104,105,106,107,108],[0,1,2,3,4,5,6,7,8,9,10,11,12,13,14,15,16,17,18,19,20,21,22,23,24,25,26,27,28,29,30,31,32,33,34,35,36,37,38,39,40,41,42,43,44,45,46,47,48,49,50,51,52,53,54,55,56,57,58,59,60,61,62,63,64,65,66,67,68,69,70,71,72,73,74,75,76,77,78,79,80,81,82,83,84,85,86,87,88,89,90,91,92,93,94,95,96,97,98,99,100,101,102,103,104,105,106,107,108]],\"y\":[[0.861,1.046,1.081,1.084,1.128,1.262,1.2409999999999999,0.862,1.102,1.133,1.126,1.054,1.097,1.001,0.682,0.731,0.631,0.5579999999999999,0.505,0.46399999999999997,0.32899999999999996,0.24600000000000002,0.316,0.3,0.306,0.318,0.366,0.33799999999999997,0.26,0.335,0.354,0.35700000000000004,0.36700000000000005,0.389,0.377,0.295,0.373,0.37200000000000005,0.386,0.42200000000000004,0.345,0.392,0.28300000000000003,0.366,0.37,0.38299999999999995,0.386,0.418,0.408,0.302,0.382,0.35100000000000003,0.415,0.426,0.449,0.424,0.32899999999999996,0.4,0.42,0.434,0.473,0.409,0.39899999999999997,0.331,0.425,0.449,0.486,0.43200000000000005,0.498,0.495,0.348,0.384,0.419,0.455,0.44799999999999995,0.495,0.483,0.35200000000000004,0.45299999999999996,0.49700000000000005,0.483,0.48200000000000004,0.535,0.498,0.37,0.43,0.509,0.513,0.527,0.597,0.59,0.415,0.524,0.552,0.5589999999999999,0.5720000000000001,0.648,0.627,0.462,0.586,0.606,0.626,0.648,0.648,0.711,0.634,0.436,0.568,0.601],[0.743,0.847,0.86,0.888,0.935,1.075,1.125,0.8540000000000001,0.883,0.9279999999999999,0.925,0.887,0.9890000000000001,0.9059999999999999,0.6940000000000001,0.616,0.5,0.45299999999999996,0.406,0.41,0.3,0.242,0.29100000000000004,0.271,0.287,0.306,0.34600000000000003,0.33299999999999996,0.273,0.315,0.317,0.34600000000000003,0.36,0.384,0.389,0.293,0.34700000000000003,0.348,0.365,0.413,0.33399999999999996,0.4,0.294,0.331,0.345,0.37,0.35200000000000004,0.40700000000000003,0.39299999999999996,0.305,0.371,0.32899999999999996,0.41700000000000004,0.35600000000000004,0.40299999999999997,0.39,0.316,0.36200000000000004,0.371,0.38299999999999995,0.428,0.375,0.39,0.303,0.385,0.414,0.435,0.381,0.486,0.504,0.33899999999999997,0.36,0.382,0.40299999999999997,0.409,0.433,0.445,0.345,0.40700000000000003,0.425,0.44799999999999995,0.45899999999999996,0.534,0.51,0.341,0.441,0.45,0.473,0.48100000000000004,0.565,0.564,0.42700000000000005,0.483,0.521,0.547,0.546,0.636,0.625,0.469,0.54,0.58,0.649,0.632,0.632,0.7859999999999999,0.634,0.469,0.504,0.535]]},\"selected\":{\"id\":\"9090\"},\"selection_policy\":{\"id\":\"9091\"}},\"id\":\"9069\",\"type\":\"ColumnDataSource\"},{\"attributes\":{\"source\":{\"id\":\"9069\"}},\"id\":\"9074\",\"type\":\"CDSView\"},{\"attributes\":{},\"id\":\"9046\",\"type\":\"LinearScale\"},{\"attributes\":{\"index\":1,\"label\":{\"value\":\"Rio De Janeiro\"},\"renderers\":[{\"id\":\"9073\"}]},\"id\":\"9082\",\"type\":\"LegendItem\"},{\"attributes\":{},\"id\":\"9049\",\"type\":\"BasicTicker\"},{\"attributes\":{},\"id\":\"9060\",\"type\":\"ResetTool\"},{\"attributes\":{\"data_source\":{\"id\":\"9069\"},\"glyph\":{\"id\":\"9071\"},\"hover_glyph\":null,\"muted_glyph\":null,\"nonselection_glyph\":{\"id\":\"9072\"},\"selection_glyph\":null,\"view\":{\"id\":\"9074\"}},\"id\":\"9073\",\"type\":\"GlyphRenderer\"},{\"attributes\":{\"line_alpha\":{\"value\":0.1},\"line_color\":{\"field\":\"color\"},\"line_width\":{\"value\":5},\"xs\":{\"field\":\"x\"},\"ys\":{\"field\":\"y\"}},\"id\":\"9072\",\"type\":\"MultiLine\"},{\"attributes\":{\"text\":\"Apple Driving Queries as of Jun 17\"},\"id\":\"9039\",\"type\":\"Title\"}],\"root_ids\":[\"9038\"]},\"title\":\"Bokeh Application\",\"version\":\"2.0.0\"}};\n",
       "  var render_items = [{\"docid\":\"cbad16ee-0bc8-4688-8627-1c39006a7a55\",\"root_ids\":[\"9038\"],\"roots\":{\"9038\":\"ebfca335-9ed3-4da6-b911-2b5a409854b7\"}}];\n",
       "  root.Bokeh.embed.embed_items_notebook(docs_json, render_items);\n",
       "\n",
       "  }\n",
       "  if (root.Bokeh !== undefined) {\n",
       "    embed_document(root);\n",
       "  } else {\n",
       "    var attempts = 0;\n",
       "    var timer = setInterval(function(root) {\n",
       "      if (root.Bokeh !== undefined) {\n",
       "        clearInterval(timer);\n",
       "        embed_document(root);\n",
       "      } else {\n",
       "        attempts++;\n",
       "        if (attempts > 100) {\n",
       "          clearInterval(timer);\n",
       "          console.log(\"Bokeh: ERROR: Unable to run BokehJS code because BokehJS library is missing\");\n",
       "        }\n",
       "      }\n",
       "    }, 10, root)\n",
       "  }\n",
       "})(window);"
      ],
      "application/vnd.bokehjs_exec.v0+json": ""
     },
     "metadata": {
      "application/vnd.bokehjs_exec.v0+json": {
       "id": "9038"
      }
     },
     "output_type": "display_data"
    },
    {
     "name": "stdout",
     "output_type": "stream",
     "text": [
      "\tHong Kong Singapore\n"
     ]
    },
    {
     "data": {
      "text/html": [
       "\n",
       "\n",
       "\n",
       "\n",
       "\n",
       "\n",
       "  <div class=\"bk-root\" id=\"ccb771fb-9a53-4739-afbf-d0feece46d16\" data-root-id=\"9454\"></div>\n"
      ]
     },
     "metadata": {},
     "output_type": "display_data"
    },
    {
     "data": {
      "application/javascript": [
       "(function(root) {\n",
       "  function embed_document(root) {\n",
       "    \n",
       "  var docs_json = {\"1739e59c-07ed-493f-bcfb-639bffe24c98\":{\"roots\":{\"references\":[{\"attributes\":{\"background_fill_alpha\":0.02,\"background_fill_color\":\"#6883BA\",\"below\":[{\"id\":\"9464\"}],\"border_fill_alpha\":0.05,\"border_fill_color\":\"#6883BA\",\"center\":[{\"id\":\"9467\"},{\"id\":\"9471\"},{\"id\":\"9497\"}],\"left\":[{\"id\":\"9468\"}],\"min_border\":20,\"outline_line_color\":\"#6883BA\",\"plot_height\":325,\"plot_width\":525,\"renderers\":[{\"id\":\"9489\"}],\"title\":{\"id\":\"9455\"},\"toolbar\":{\"id\":\"9478\"},\"toolbar_location\":null,\"x_range\":{\"id\":\"9457\"},\"x_scale\":{\"id\":\"9460\"},\"y_range\":{\"id\":\"9453\"},\"y_scale\":{\"id\":\"9462\"}},\"id\":\"9454\",\"subtype\":\"Figure\",\"type\":\"Plot\"},{\"attributes\":{\"background_fill_alpha\":0.0,\"border_line_alpha\":0.0,\"border_line_color\":\"black\",\"items\":[{\"id\":\"9498\"},{\"id\":\"9499\"}],\"location\":\"top_left\"},\"id\":\"9497\",\"type\":\"Legend\"},{\"attributes\":{\"end\":379.8842433428647},\"id\":\"9453\",\"type\":\"Range1d\"},{\"attributes\":{},\"id\":\"9494\",\"type\":\"BasicTickFormatter\"},{\"attributes\":{},\"id\":\"9476\",\"type\":\"ResetTool\"},{\"attributes\":{\"data\":{\"color\":[\"#440154\",\"#20908C\"],\"regions\":[\"Hong Kong\",\"Singapore\"],\"x\":[[0,1,2,3,4,5,6,7,8,9,10,11,12,13,14,15,16,17,18,19,20,21,22,23,24,25,26,27,28,29,30,31,32,33,34,35,36,37,38,39,40,41,42,43,44,45,46,47,48,49,50,51,52,53,54,55,56,57,58,59,60,61,62,63,64,65,66,67,68,69,70,71,72,73,74,75,76,77,78,79,80,81,82,83,84,85,86,87,88,89,90,91,92,93,94,95,96,97,98,99,100,101,102,103,104,105,106,107,108,109],[0,1,2,3,4,5,6,7,8,9,10,11,12,13,14,15,16,17,18,19,20,21,22,23,24,25,26,27,28,29,30,31,32,33,34,35,36,37,38,39,40,41,42,43,44,45,46,47,48,49,50,51,52,53,54,55,56,57,58,59,60,61,62,63,64,65,66,67,68,69,70,71,72,73,74,75,76,77,78,79,80,81,82,83,84,85,86,87,88,89,90,91,92,93,94,95,96,97,98,99,100,101,102,103,104,105,106,107,108,109]],\"y\":[[0.18973686722043268,0.28460530083064906,0.23717108402554085,0.4269079512459735,0.23717108402554085,0.33203951763575723,0.14230265041532453,0.4269079512459735,0.37947373444086535,0.5692106016612981,0.5692106016612981,0.6640790352715145,0.6640790352715145,0.6640790352715145,0.7589474688817307,0.9961185529072717,1.0435527697123799,1.707631804983894,2.514013490670733,4.458816379680168,4.363947946069952,5.170329631756791,4.743421680510818,5.360066498977223,4.41138216287506,4.601119030095493,6.308750835079388,7.162566737571335,8.917632759360336,7.731777339232633,7.257435171181551,5.881842883833413,5.692106016612981,6.21388240146917,4.601119030095493,4.1742110788495195,3.272960959552464,3.4626978267728963,3.320395176357572,2.7986187915013825,2.5614477074758413,1.8973686722043268,1.4704607209583533,0.9486843361021634,0.5692106016612981,0.6166448184664062,0.37947373444086535,0.4269079512459735,0.33203951763575723,0.37947373444086535,0.18973686722043268,0.23717108402554085,0.37947373444086535,0.4743421680510817,0.28460530083064906,0.18973686722043268,0.09486843361021634,0.09486843361021634,0.0,0.0,0.0,0.09486843361021634,0.09486843361021634,0.09486843361021634,0.04743421680510817,0.04743421680510817,0.04743421680510817,0.18973686722043268,0.18973686722043268,0.18973686722043268,0.14230265041532453,0.14230265041532453,0.14230265041532453,0.14230265041532453,0.18973686722043268,0.23717108402554085,0.09486843361021634,0.18973686722043268,0.14230265041532453,0.14230265041532453,0.0,0.0,0.4743421680510817,0.4743421680510817,0.4743421680510817,0.0,0.0,0.04743421680510817,0.04743421680510817,0.6640790352715145,0.7589474688817307,0.853815902491947,0.37947373444086535,0.5217763848561899,0.4269079512459735,0.5692106016612981,0.4269079512459735,0.5692106016612981,0.33203951763575723,0.23717108402554085,0.09486843361021634,0.04743421680510817,0.0,0.0,0.04743421680510817,0.09486843361021634,0.09486843361021634,0.18973686722043268,0.14230265041532453,0.5217763848561899],[1.2635916289581763,1.4579903411055883,0.777594848589647,0.3887974242948235,0.8747942046633529,1.943987121474118,2.721581970063765,3.207578750432294,1.943987121474118,2.1383858336215296,2.721581970063765,2.721581970063765,3.887974242948236,3.3047781065060002,4.665569091537883,4.179572311169353,5.248765227980118,8.456343978412413,9.914334319518,11.566723372771,11.566723372771,10.691929168107647,12.05272015313953,12.247118865286941,17.107086668972237,16.912687956824826,16.912687956824826,16.621089888603706,15.649096327866644,14.288305342834764,12.05272015313953,15.163099547498117,16.52389053253,18.273478941856705,18.37067829793041,25.27183257916353,25.369031935237235,28.382211973522118,30.520597807143652,52.00165549943265,60.94399625821359,65.70676470582518,60.45799947784506,78.73147841970176,92.63098633824171,113.43164853801476,146.67382831522218,174.7644422205232,222.8781234770076,210.0478084752784,288.09889140246423,304.52558257892053,345.349312129877,307.53876261720546,286.73810041743235,248.0527567000974,237.7496249562846,228.22408806106142,219.47614601442785,196.0511012006648,169.71007570469047,208.97861555846762,185.3591720325571,197.89788896606518,163.00332013560475,180.98520100924037,193.71831665489583,210.0478084752784,223.2669209013024,219.86494343872272,232.98685650867301,205.57663809588794,214.90777627896372,195.37070570814882,221.22573442375457,215.78257048362707,195.37070570814882,188.5667507829894,141.13346501902095,139.77267403398906,128.886346153734,142.78585407227396,158.629349112288,165.62770274959482,175.34763835696543,149.10381221706484,123.929178993975,122.47118865286943,125.2899699790069,147.45142316381182,144.82704054982176,158.92094718050913,139.18947789754682,142.88305342834764,147.84022058810663,158.4349504001406,130.92753263128182,109.057677514698,96.0329638008214,108.18288331003464,95.9357644447477,102.54532065775972,106.04449747641313,84.85503785234523,86.02143012522971,78.73147841970176,118.29161634170006,94.0889766793473,75.03790288890094,59.486005917108]]},\"selected\":{\"id\":\"9506\"},\"selection_policy\":{\"id\":\"9507\"}},\"id\":\"9485\",\"type\":\"ColumnDataSource\"},{\"attributes\":{\"text\":\"Comparing New Cases as of Jun 17\"},\"id\":\"9455\",\"type\":\"Title\"},{\"attributes\":{\"data_source\":{\"id\":\"9485\"},\"glyph\":{\"id\":\"9487\"},\"hover_glyph\":null,\"muted_glyph\":null,\"nonselection_glyph\":{\"id\":\"9488\"},\"selection_glyph\":null,\"view\":{\"id\":\"9490\"}},\"id\":\"9489\",\"type\":\"GlyphRenderer\"},{\"attributes\":{\"axis\":{\"id\":\"9468\"},\"dimension\":1,\"grid_line_color\":null,\"ticker\":null},\"id\":\"9471\",\"type\":\"Grid\"},{\"attributes\":{\"active_drag\":\"auto\",\"active_inspect\":\"auto\",\"active_multi\":null,\"active_scroll\":\"auto\",\"active_tap\":\"auto\",\"tools\":[{\"id\":\"9472\"},{\"id\":\"9473\"},{\"id\":\"9474\"},{\"id\":\"9475\"},{\"id\":\"9476\"},{\"id\":\"9477\"}]},\"id\":\"9478\",\"type\":\"Toolbar\"},{\"attributes\":{},\"id\":\"9469\",\"type\":\"BasicTicker\"},{\"attributes\":{},\"id\":\"9457\",\"type\":\"DataRange1d\"},{\"attributes\":{\"index\":1,\"label\":{\"value\":\"Singapore\"},\"renderers\":[{\"id\":\"9489\"}]},\"id\":\"9499\",\"type\":\"LegendItem\"},{\"attributes\":{},\"id\":\"9492\",\"type\":\"BasicTickFormatter\"},{\"attributes\":{},\"id\":\"9473\",\"type\":\"WheelZoomTool\"},{\"attributes\":{\"line_color\":{\"field\":\"color\"},\"line_width\":{\"value\":5},\"xs\":{\"field\":\"x\"},\"ys\":{\"field\":\"y\"}},\"id\":\"9487\",\"type\":\"MultiLine\"},{\"attributes\":{\"axis_label\":\"Daily Cases per 1M (3DMA)\",\"axis_label_text_font_size\":\"11pt\",\"formatter\":{\"id\":\"9492\"},\"ticker\":{\"id\":\"9469\"}},\"id\":\"9468\",\"type\":\"LinearAxis\"},{\"attributes\":{\"index\":0,\"label\":{\"value\":\"Hong Kong\"},\"renderers\":[{\"id\":\"9489\"}]},\"id\":\"9498\",\"type\":\"LegendItem\"},{\"attributes\":{\"axis_label\":\"Days Since March 01, 2020\",\"axis_label_text_font_size\":\"11pt\",\"formatter\":{\"id\":\"9494\"},\"major_tick_line_color\":null,\"ticker\":{\"id\":\"9465\"}},\"id\":\"9464\",\"type\":\"LinearAxis\"},{\"attributes\":{},\"id\":\"9506\",\"type\":\"Selection\"},{\"attributes\":{},\"id\":\"9472\",\"type\":\"PanTool\"},{\"attributes\":{},\"id\":\"9460\",\"type\":\"LinearScale\"},{\"attributes\":{\"axis\":{\"id\":\"9464\"},\"grid_line_color\":null,\"ticker\":null},\"id\":\"9467\",\"type\":\"Grid\"},{\"attributes\":{},\"id\":\"9465\",\"type\":\"BasicTicker\"},{\"attributes\":{\"line_alpha\":{\"value\":0.1},\"line_color\":{\"field\":\"color\"},\"line_width\":{\"value\":5},\"xs\":{\"field\":\"x\"},\"ys\":{\"field\":\"y\"}},\"id\":\"9488\",\"type\":\"MultiLine\"},{\"attributes\":{},\"id\":\"9462\",\"type\":\"LinearScale\"},{\"attributes\":{\"source\":{\"id\":\"9485\"}},\"id\":\"9490\",\"type\":\"CDSView\"},{\"attributes\":{\"overlay\":{\"id\":\"9496\"}},\"id\":\"9474\",\"type\":\"BoxZoomTool\"},{\"attributes\":{\"bottom_units\":\"screen\",\"fill_alpha\":0.5,\"fill_color\":\"lightgrey\",\"left_units\":\"screen\",\"level\":\"overlay\",\"line_alpha\":1.0,\"line_color\":\"black\",\"line_dash\":[4,4],\"line_width\":2,\"render_mode\":\"css\",\"right_units\":\"screen\",\"top_units\":\"screen\"},\"id\":\"9496\",\"type\":\"BoxAnnotation\"},{\"attributes\":{},\"id\":\"9477\",\"type\":\"HelpTool\"},{\"attributes\":{},\"id\":\"9475\",\"type\":\"SaveTool\"},{\"attributes\":{},\"id\":\"9507\",\"type\":\"UnionRenderers\"}],\"root_ids\":[\"9454\"]},\"title\":\"Bokeh Application\",\"version\":\"2.0.0\"}};\n",
       "  var render_items = [{\"docid\":\"1739e59c-07ed-493f-bcfb-639bffe24c98\",\"root_ids\":[\"9454\"],\"roots\":{\"9454\":\"ccb771fb-9a53-4739-afbf-d0feece46d16\"}}];\n",
       "  root.Bokeh.embed.embed_items_notebook(docs_json, render_items);\n",
       "\n",
       "  }\n",
       "  if (root.Bokeh !== undefined) {\n",
       "    embed_document(root);\n",
       "  } else {\n",
       "    var attempts = 0;\n",
       "    var timer = setInterval(function(root) {\n",
       "      if (root.Bokeh !== undefined) {\n",
       "        clearInterval(timer);\n",
       "        embed_document(root);\n",
       "      } else {\n",
       "        attempts++;\n",
       "        if (attempts > 100) {\n",
       "          clearInterval(timer);\n",
       "          console.log(\"Bokeh: ERROR: Unable to run BokehJS code because BokehJS library is missing\");\n",
       "        }\n",
       "      }\n",
       "    }, 10, root)\n",
       "  }\n",
       "})(window);"
      ],
      "application/vnd.bokehjs_exec.v0+json": ""
     },
     "metadata": {
      "application/vnd.bokehjs_exec.v0+json": {
       "id": "9454"
      }
     },
     "output_type": "display_data"
    },
    {
     "data": {
      "text/html": [
       "\n",
       "\n",
       "\n",
       "\n",
       "\n",
       "\n",
       "  <div class=\"bk-root\" id=\"a9d6ba53-f992-42a2-963b-fc1b6ae6640a\" data-root-id=\"9878\"></div>\n"
      ]
     },
     "metadata": {},
     "output_type": "display_data"
    },
    {
     "data": {
      "application/javascript": [
       "(function(root) {\n",
       "  function embed_document(root) {\n",
       "    \n",
       "  var docs_json = {\"ca60230e-ac09-48c6-a91c-3ac54a53b924\":{\"roots\":{\"references\":[{\"attributes\":{\"background_fill_alpha\":0.02,\"background_fill_color\":\"#6883BA\",\"below\":[{\"id\":\"9888\"}],\"border_fill_alpha\":0.05,\"border_fill_color\":\"#6883BA\",\"center\":[{\"id\":\"9891\"},{\"id\":\"9895\"},{\"id\":\"9921\"}],\"left\":[{\"id\":\"9892\"}],\"min_border\":20,\"outline_line_color\":\"#6883BA\",\"plot_height\":325,\"plot_width\":525,\"renderers\":[{\"id\":\"9913\"}],\"title\":{\"id\":\"9879\"},\"toolbar\":{\"id\":\"9902\"},\"toolbar_location\":null,\"x_range\":{\"id\":\"9881\"},\"x_scale\":{\"id\":\"9884\"},\"y_range\":{\"id\":\"9877\"},\"y_scale\":{\"id\":\"9886\"}},\"id\":\"9878\",\"subtype\":\"Figure\",\"type\":\"Plot\"},{\"attributes\":{},\"id\":\"9893\",\"type\":\"BasicTicker\"},{\"attributes\":{\"data\":{\"color\":[\"#440154\",\"#20908C\"],\"regions\":[\"Hong Kong\",\"Singapore\"],\"x\":[[0,1,2,3,4,5,6,7,8,9,10,11,12,13,14,15,16,17,18,19,20,21,22,23,24,25,26,27,28,29,30,31,32,33,34,35,36,37,38,39,40,41,42,43,44,45,46,47,48,49,50,51,52,53,54,55,56,57,58,59,60,61,62,63,64,65,66,67,68,69,70,71,72,73,74,75,76,77,78,79,80,81,82,83,84,85,86,87,88,89,90,91,92,93,94,95,96,97,98,99,100,101,102,103,104,105,106,107,108,109],[0,1,2,3,4,5,6,7,8,9,10,11,12,13,14,15,16,17,18,19,20,21,22,23,24,25,26,27,28,29,30,31,32,33,34,35,36,37,38,39,40,41,42,43,44,45,46,47,48,49,50,51,52,53,54,55,56,57,58,59,60,61,62,63,64,65,66,67,68,69,70,71,72,73,74,75,76,77,78,79,80,81,82,83,84,85,86,87,88,89,90,91,92,93,94,95,96,97,98,99,100,101,102,103,104,105,106,107,108,109]],\"y\":[[0.0,0.0,0.0,0.0,0.0,0.0,0.0,0.04743421680510817,0.04743421680510817,0.04743421680510817,0.0,0.0,0.04743421680510817,0.04743421680510817,0.04743421680510817,0.0,0.0,0.0,0.0,0.0,0.0,0.0,0.0,0.0,0.0,0.0,0.0,0.0,0.0,0.0,0.0,0.0,0.0,0.0,0.0,0.0,0.0,0.0,0.0,0.0,0.0,0.0,0.0,0.0,0.0,0.0,0.0,0.0,0.0,0.0,0.0,0.0,0.0,0.0,0.0,0.0,0.0,0.0,0.0,0.0,0.0,0.0,0.0,0.0,0.0,0.0,0.0,0.0,0.0,0.0,0.0,0.0,0.0,0.0,0.0,0.0,0.0,0.0,0.0,0.0,0.0,0.0,0.0,0.0,0.0,0.0,0.0,0.0,0.0,0.0,0.0,0.0,0.0,0.0,0.0,0.0,0.0,0.0,0.0,0.0,0.0,0.0,0.0,0.0,0.0,0.0,0.0,0.0,0.0,0.0],[0.0,0.0,0.0,0.0,0.0,0.0,0.0,0.0,0.0,0.0,0.0,0.0,0.0,0.0,0.0,0.0,0.0,0.0,0.0,0.0,0.19439871214741175,0.19439871214741175,0.19439871214741175,0.0,0.0,0.0,0.0,0.0,0.09719935607370588,0.09719935607370588,0.09719935607370588,0.0,0.09719935607370588,0.19439871214741175,0.29159806822111767,0.19439871214741175,0.09719935607370588,0.0,0.0,0.0,0.09719935607370588,0.19439871214741175,0.19439871214741175,0.19439871214741175,0.19439871214741175,0.19439871214741175,0.09719935607370588,0.09719935607370588,0.09719935607370588,0.09719935607370588,0.0,0.0,0.09719935607370588,0.09719935607370588,0.09719935607370588,0.0,0.0,0.19439871214741175,0.19439871214741175,0.19439871214741175,0.09719935607370588,0.19439871214741175,0.29159806822111767,0.29159806822111767,0.19439871214741175,0.09719935607370588,0.19439871214741175,0.19439871214741175,0.19439871214741175,0.0,0.0,0.09719935607370588,0.09719935607370588,0.09719935607370588,0.0,0.0,0.09719935607370588,0.09719935607370588,0.09719935607370588,0.0,0.0,0.09719935607370588,0.09719935607370588,0.09719935607370588,0.0,0.0,0.0,0.0,0.0,0.0,0.0,0.0,0.09719935607370588,0.09719935607370588,0.09719935607370588,0.0,0.0,0.09719935607370588,0.09719935607370588,0.09719935607370588,0.0,0.0,0.0,0.0,0.0,0.09719935607370588,0.09719935607370588,0.09719935607370588,0.0,0.0]]},\"selected\":{\"id\":\"9930\"},\"selection_policy\":{\"id\":\"9931\"}},\"id\":\"9909\",\"type\":\"ColumnDataSource\"},{\"attributes\":{\"source\":{\"id\":\"9909\"}},\"id\":\"9914\",\"type\":\"CDSView\"},{\"attributes\":{},\"id\":\"9889\",\"type\":\"BasicTicker\"},{\"attributes\":{\"axis\":{\"id\":\"9888\"},\"grid_line_color\":null,\"ticker\":null},\"id\":\"9891\",\"type\":\"Grid\"},{\"attributes\":{},\"id\":\"9930\",\"type\":\"Selection\"},{\"attributes\":{\"background_fill_alpha\":0.0,\"border_line_alpha\":0.0,\"border_line_color\":\"black\",\"items\":[{\"id\":\"9922\"},{\"id\":\"9923\"}],\"location\":\"top_left\"},\"id\":\"9921\",\"type\":\"Legend\"},{\"attributes\":{},\"id\":\"9881\",\"type\":\"DataRange1d\"},{\"attributes\":{},\"id\":\"9900\",\"type\":\"ResetTool\"},{\"attributes\":{\"text\":\"Comparing New Fatalities as of Jun 17\"},\"id\":\"9879\",\"type\":\"Title\"},{\"attributes\":{},\"id\":\"9899\",\"type\":\"SaveTool\"},{\"attributes\":{},\"id\":\"9901\",\"type\":\"HelpTool\"},{\"attributes\":{},\"id\":\"9918\",\"type\":\"BasicTickFormatter\"},{\"attributes\":{},\"id\":\"9916\",\"type\":\"BasicTickFormatter\"},{\"attributes\":{},\"id\":\"9897\",\"type\":\"WheelZoomTool\"},{\"attributes\":{},\"id\":\"9884\",\"type\":\"LinearScale\"},{\"attributes\":{},\"id\":\"9896\",\"type\":\"PanTool\"},{\"attributes\":{\"end\":0.32075787504322945},\"id\":\"9877\",\"type\":\"Range1d\"},{\"attributes\":{\"axis_label\":\"Days Since March 01, 2020\",\"axis_label_text_font_size\":\"11pt\",\"formatter\":{\"id\":\"9918\"},\"major_tick_line_color\":null,\"ticker\":{\"id\":\"9889\"}},\"id\":\"9888\",\"type\":\"LinearAxis\"},{\"attributes\":{\"line_alpha\":{\"value\":0.1},\"line_color\":{\"field\":\"color\"},\"line_width\":{\"value\":5},\"xs\":{\"field\":\"x\"},\"ys\":{\"field\":\"y\"}},\"id\":\"9912\",\"type\":\"MultiLine\"},{\"attributes\":{\"data_source\":{\"id\":\"9909\"},\"glyph\":{\"id\":\"9911\"},\"hover_glyph\":null,\"muted_glyph\":null,\"nonselection_glyph\":{\"id\":\"9912\"},\"selection_glyph\":null,\"view\":{\"id\":\"9914\"}},\"id\":\"9913\",\"type\":\"GlyphRenderer\"},{\"attributes\":{\"overlay\":{\"id\":\"9920\"}},\"id\":\"9898\",\"type\":\"BoxZoomTool\"},{\"attributes\":{},\"id\":\"9931\",\"type\":\"UnionRenderers\"},{\"attributes\":{\"bottom_units\":\"screen\",\"fill_alpha\":0.5,\"fill_color\":\"lightgrey\",\"left_units\":\"screen\",\"level\":\"overlay\",\"line_alpha\":1.0,\"line_color\":\"black\",\"line_dash\":[4,4],\"line_width\":2,\"render_mode\":\"css\",\"right_units\":\"screen\",\"top_units\":\"screen\"},\"id\":\"9920\",\"type\":\"BoxAnnotation\"},{\"attributes\":{\"index\":1,\"label\":{\"value\":\"Singapore\"},\"renderers\":[{\"id\":\"9913\"}]},\"id\":\"9923\",\"type\":\"LegendItem\"},{\"attributes\":{\"active_drag\":\"auto\",\"active_inspect\":\"auto\",\"active_multi\":null,\"active_scroll\":\"auto\",\"active_tap\":\"auto\",\"tools\":[{\"id\":\"9896\"},{\"id\":\"9897\"},{\"id\":\"9898\"},{\"id\":\"9899\"},{\"id\":\"9900\"},{\"id\":\"9901\"}]},\"id\":\"9902\",\"type\":\"Toolbar\"},{\"attributes\":{\"index\":0,\"label\":{\"value\":\"Hong Kong\"},\"renderers\":[{\"id\":\"9913\"}]},\"id\":\"9922\",\"type\":\"LegendItem\"},{\"attributes\":{\"axis_label\":\"Daily Deaths per 1M (3DMA)\",\"axis_label_text_font_size\":\"11pt\",\"formatter\":{\"id\":\"9916\"},\"ticker\":{\"id\":\"9893\"}},\"id\":\"9892\",\"type\":\"LinearAxis\"},{\"attributes\":{\"line_color\":{\"field\":\"color\"},\"line_width\":{\"value\":5},\"xs\":{\"field\":\"x\"},\"ys\":{\"field\":\"y\"}},\"id\":\"9911\",\"type\":\"MultiLine\"},{\"attributes\":{\"axis\":{\"id\":\"9892\"},\"dimension\":1,\"grid_line_color\":null,\"ticker\":null},\"id\":\"9895\",\"type\":\"Grid\"},{\"attributes\":{},\"id\":\"9886\",\"type\":\"LinearScale\"}],\"root_ids\":[\"9878\"]},\"title\":\"Bokeh Application\",\"version\":\"2.0.0\"}};\n",
       "  var render_items = [{\"docid\":\"ca60230e-ac09-48c6-a91c-3ac54a53b924\",\"root_ids\":[\"9878\"],\"roots\":{\"9878\":\"a9d6ba53-f992-42a2-963b-fc1b6ae6640a\"}}];\n",
       "  root.Bokeh.embed.embed_items_notebook(docs_json, render_items);\n",
       "\n",
       "  }\n",
       "  if (root.Bokeh !== undefined) {\n",
       "    embed_document(root);\n",
       "  } else {\n",
       "    var attempts = 0;\n",
       "    var timer = setInterval(function(root) {\n",
       "      if (root.Bokeh !== undefined) {\n",
       "        clearInterval(timer);\n",
       "        embed_document(root);\n",
       "      } else {\n",
       "        attempts++;\n",
       "        if (attempts > 100) {\n",
       "          clearInterval(timer);\n",
       "          console.log(\"Bokeh: ERROR: Unable to run BokehJS code because BokehJS library is missing\");\n",
       "        }\n",
       "      }\n",
       "    }, 10, root)\n",
       "  }\n",
       "})(window);"
      ],
      "application/vnd.bokehjs_exec.v0+json": ""
     },
     "metadata": {
      "application/vnd.bokehjs_exec.v0+json": {
       "id": "9878"
      }
     },
     "output_type": "display_data"
    },
    {
     "data": {
      "text/html": [
       "\n",
       "\n",
       "\n",
       "\n",
       "\n",
       "\n",
       "  <div class=\"bk-root\" id=\"819b5b59-0259-4757-b48b-f5eab88de019\" data-root-id=\"10310\"></div>\n"
      ]
     },
     "metadata": {},
     "output_type": "display_data"
    },
    {
     "data": {
      "application/javascript": [
       "(function(root) {\n",
       "  function embed_document(root) {\n",
       "    \n",
       "  var docs_json = {\"482d1a1f-d98f-4dc6-bf65-4fb6c2e320f0\":{\"roots\":{\"references\":[{\"attributes\":{\"background_fill_alpha\":0.02,\"background_fill_color\":\"#6883BA\",\"below\":[{\"id\":\"10320\"}],\"border_fill_alpha\":0.05,\"border_fill_color\":\"#6883BA\",\"center\":[{\"id\":\"10323\"},{\"id\":\"10327\"},{\"id\":\"10353\"}],\"left\":[{\"id\":\"10324\"}],\"min_border\":20,\"outline_line_color\":\"#6883BA\",\"plot_height\":325,\"plot_width\":500,\"renderers\":[{\"id\":\"10345\"}],\"title\":{\"id\":\"10311\"},\"toolbar\":{\"id\":\"10334\"},\"toolbar_location\":null,\"x_range\":{\"id\":\"10313\"},\"x_scale\":{\"id\":\"10316\"},\"y_range\":{\"id\":\"10309\"},\"y_scale\":{\"id\":\"10318\"}},\"id\":\"10310\",\"subtype\":\"Figure\",\"type\":\"Plot\"},{\"attributes\":{\"axis\":{\"id\":\"10324\"},\"dimension\":1,\"grid_line_color\":null,\"ticker\":null},\"id\":\"10327\",\"type\":\"Grid\"},{\"attributes\":{\"axis_label\":\"Days Since March 01, 2020\",\"axis_label_text_font_size\":\"11pt\",\"formatter\":{\"id\":\"10350\"},\"major_tick_line_color\":null,\"ticker\":{\"id\":\"10321\"}},\"id\":\"10320\",\"type\":\"LinearAxis\"},{\"attributes\":{},\"id\":\"10350\",\"type\":\"BasicTickFormatter\"},{\"attributes\":{\"source\":{\"id\":\"10341\"}},\"id\":\"10346\",\"type\":\"CDSView\"},{\"attributes\":{\"index\":1,\"label\":{\"value\":\"Singapore\"},\"renderers\":[{\"id\":\"10345\"}]},\"id\":\"10355\",\"type\":\"LegendItem\"},{\"attributes\":{},\"id\":\"10363\",\"type\":\"UnionRenderers\"},{\"attributes\":{},\"id\":\"10313\",\"type\":\"DataRange1d\"},{\"attributes\":{\"text\":\"Apple Driving Queries as of Jun 17\"},\"id\":\"10311\",\"type\":\"Title\"},{\"attributes\":{},\"id\":\"10348\",\"type\":\"BasicTickFormatter\"},{\"attributes\":{},\"id\":\"10329\",\"type\":\"WheelZoomTool\"},{\"attributes\":{},\"id\":\"10325\",\"type\":\"BasicTicker\"},{\"attributes\":{},\"id\":\"10321\",\"type\":\"BasicTicker\"},{\"attributes\":{\"index\":0,\"label\":{\"value\":\"Hong Kong\"},\"renderers\":[{\"id\":\"10345\"}]},\"id\":\"10354\",\"type\":\"LegendItem\"},{\"attributes\":{\"axis_label\":\"Change in Driving Mobility - Apple\",\"axis_label_text_font_size\":\"11pt\",\"formatter\":{\"id\":\"10348\"},\"ticker\":{\"id\":\"10325\"}},\"id\":\"10324\",\"type\":\"LinearAxis\"},{\"attributes\":{},\"id\":\"10316\",\"type\":\"LinearScale\"},{\"attributes\":{},\"id\":\"10328\",\"type\":\"PanTool\"},{\"attributes\":{},\"id\":\"10318\",\"type\":\"LinearScale\"},{\"attributes\":{\"line_color\":{\"field\":\"color\"},\"line_width\":{\"value\":5},\"xs\":{\"field\":\"x\"},\"ys\":{\"field\":\"y\"}},\"id\":\"10343\",\"type\":\"MultiLine\"},{\"attributes\":{},\"id\":\"10332\",\"type\":\"ResetTool\"},{\"attributes\":{\"active_drag\":\"auto\",\"active_inspect\":\"auto\",\"active_multi\":null,\"active_scroll\":\"auto\",\"active_tap\":\"auto\",\"tools\":[{\"id\":\"10328\"},{\"id\":\"10329\"},{\"id\":\"10330\"},{\"id\":\"10331\"},{\"id\":\"10332\"},{\"id\":\"10333\"}]},\"id\":\"10334\",\"type\":\"Toolbar\"},{\"attributes\":{\"axis\":{\"id\":\"10320\"},\"grid_line_color\":null,\"ticker\":null},\"id\":\"10323\",\"type\":\"Grid\"},{\"attributes\":{\"end\":1.045,\"start\":0.34845},\"id\":\"10309\",\"type\":\"Range1d\"},{\"attributes\":{},\"id\":\"10333\",\"type\":\"HelpTool\"},{\"attributes\":{\"overlay\":{\"id\":\"10352\"}},\"id\":\"10330\",\"type\":\"BoxZoomTool\"},{\"attributes\":{\"data\":{\"color\":[\"#440154\",\"#20908C\"],\"regions\":[\"Hong Kong\",\"Singapore\"],\"x\":[[0,1,2,3,4,5,6,7,8,9,10,11,12,13,14,15,16,17,18,19,20,21,22,23,24,25,26,27,28,29,30,31,32,33,34,35,36,37,38,39,40,41,42,43,44,45,46,47,48,49,50,51,52,53,54,55,56,57,58,59,60,61,62,63,64,65,66,67,68,69,70,71,72,73,74,75,76,77,78,79,80,81,82,83,84,85,86,87,88,89,90,91,92,93,94,95,96,97,98,99,100,101,102,103,104,105,106,107,108],[0,1,2,3,4,5,6,7,8,9,10,11,12,13,14,15,16,17,18,19,20,21,22,23,24,25,26,27,28,29,30,31,32,33,34,35,36,37,38,39,40,41,42,43,44,45,46,47,48,49,50,51,52,53,54,55,56,57,58,59,60,61,62,63,64,65,66,67,68,69,70,71,72,73,74,75,76,77,78,79,80,81,82,83,84,85,86,87,88,89,90,91,92,93,94,95,96,97,98,99,100,101,102,103,104,105,106,107,108]],\"y\":[[0.71,0.674,0.6829999999999999,0.674,0.6729999999999999,0.77,0.7559999999999999,0.679,0.687,0.7,0.667,0.64,0.7490000000000001,0.759,0.6609999999999999,0.617,0.591,0.594,0.5920000000000001,0.662,0.606,0.609,0.5660000000000001,0.564,0.54,0.5589999999999999,0.588,0.478,0.488,0.49700000000000005,0.505,0.498,0.498,0.546,0.47,0.48700000000000004,0.52,0.56,0.5589999999999999,0.565,0.535,0.52,0.539,0.519,0.522,0.522,0.536,0.605,0.563,0.532,0.529,0.5,0.491,0.508,0.586,0.5660000000000001,0.573,0.574,0.593,0.67,0.66,0.6970000000000001,0.642,0.608,0.594,0.585,0.59,0.601,0.7040000000000001,0.654,0.58,0.58,0.581,0.5820000000000001,0.624,0.735,0.6920000000000001,0.628,0.5920000000000001,0.623,0.625,0.625,0.728,0.7020000000000001,0.626,0.632,0.6579999999999999,0.631,0.662,0.748,0.6779999999999999,0.6559999999999999,0.765,0.763,0.715,0.748,0.82,0.6709999999999999,0.677,0.696,0.73,0.7440000000000001,0.7709999999999999,0.7709999999999999,0.9079999999999999,0.7040000000000001,0.667,0.7020000000000001,0.732],[0.7759999999999999,0.792,0.792,0.813,0.851,0.95,0.8109999999999999,0.7709999999999999,0.774,0.797,0.789,0.799,0.9009999999999999,0.782,0.755,0.732,0.7829999999999999,0.76,0.76,0.8240000000000001,0.6859999999999999,0.636,0.655,0.649,0.653,0.662,0.6920000000000001,0.59,0.606,0.625,0.631,0.624,0.638,0.675,0.604,0.6779999999999999,0.579,0.415,0.381,0.359,0.377,0.345,0.373,0.366,0.38,0.368,0.39,0.408,0.366,0.382,0.368,0.375,0.374,0.384,0.379,0.345,0.359,0.37,0.37200000000000005,0.384,0.375,0.39899999999999997,0.364,0.384,0.396,0.401,0.38799999999999996,0.43200000000000005,0.446,0.456,0.429,0.42700000000000005,0.426,0.425,0.441,0.48,0.425,0.428,0.43200000000000005,0.434,0.439,0.45799999999999996,0.489,0.444,0.38799999999999996,0.428,0.442,0.452,0.456,0.495,0.452,0.45299999999999996,0.519,0.541,0.537,0.55,0.5760000000000001,0.519,0.5489999999999999,0.5379999999999999,0.552,0.532,0.568,0.568,0.573,0.54,0.551,0.5429999999999999,0.546]]},\"selected\":{\"id\":\"10362\"},\"selection_policy\":{\"id\":\"10363\"}},\"id\":\"10341\",\"type\":\"ColumnDataSource\"},{\"attributes\":{},\"id\":\"10331\",\"type\":\"SaveTool\"},{\"attributes\":{\"bottom_units\":\"screen\",\"fill_alpha\":0.5,\"fill_color\":\"lightgrey\",\"left_units\":\"screen\",\"level\":\"overlay\",\"line_alpha\":1.0,\"line_color\":\"black\",\"line_dash\":[4,4],\"line_width\":2,\"render_mode\":\"css\",\"right_units\":\"screen\",\"top_units\":\"screen\"},\"id\":\"10352\",\"type\":\"BoxAnnotation\"},{\"attributes\":{\"line_alpha\":{\"value\":0.1},\"line_color\":{\"field\":\"color\"},\"line_width\":{\"value\":5},\"xs\":{\"field\":\"x\"},\"ys\":{\"field\":\"y\"}},\"id\":\"10344\",\"type\":\"MultiLine\"},{\"attributes\":{},\"id\":\"10362\",\"type\":\"Selection\"},{\"attributes\":{\"data_source\":{\"id\":\"10341\"},\"glyph\":{\"id\":\"10343\"},\"hover_glyph\":null,\"muted_glyph\":null,\"nonselection_glyph\":{\"id\":\"10344\"},\"selection_glyph\":null,\"view\":{\"id\":\"10346\"}},\"id\":\"10345\",\"type\":\"GlyphRenderer\"},{\"attributes\":{\"background_fill_alpha\":0.0,\"border_line_alpha\":0.0,\"border_line_color\":\"black\",\"items\":[{\"id\":\"10354\"},{\"id\":\"10355\"}],\"location\":\"top_center\"},\"id\":\"10353\",\"type\":\"Legend\"}],\"root_ids\":[\"10310\"]},\"title\":\"Bokeh Application\",\"version\":\"2.0.0\"}};\n",
       "  var render_items = [{\"docid\":\"482d1a1f-d98f-4dc6-bf65-4fb6c2e320f0\",\"root_ids\":[\"10310\"],\"roots\":{\"10310\":\"819b5b59-0259-4757-b48b-f5eab88de019\"}}];\n",
       "  root.Bokeh.embed.embed_items_notebook(docs_json, render_items);\n",
       "\n",
       "  }\n",
       "  if (root.Bokeh !== undefined) {\n",
       "    embed_document(root);\n",
       "  } else {\n",
       "    var attempts = 0;\n",
       "    var timer = setInterval(function(root) {\n",
       "      if (root.Bokeh !== undefined) {\n",
       "        clearInterval(timer);\n",
       "        embed_document(root);\n",
       "      } else {\n",
       "        attempts++;\n",
       "        if (attempts > 100) {\n",
       "          clearInterval(timer);\n",
       "          console.log(\"Bokeh: ERROR: Unable to run BokehJS code because BokehJS library is missing\");\n",
       "        }\n",
       "      }\n",
       "    }, 10, root)\n",
       "  }\n",
       "})(window);"
      ],
      "application/vnd.bokehjs_exec.v0+json": ""
     },
     "metadata": {
      "application/vnd.bokehjs_exec.v0+json": {
       "id": "10310"
      }
     },
     "output_type": "display_data"
    },
    {
     "name": "stdout",
     "output_type": "stream",
     "text": [
      "\tJapan Malaysia Korea, South\n"
     ]
    },
    {
     "data": {
      "text/html": [
       "\n",
       "\n",
       "\n",
       "\n",
       "\n",
       "\n",
       "  <div class=\"bk-root\" id=\"917b832a-799b-46e6-8030-d4d71590508e\" data-root-id=\"10750\"></div>\n"
      ]
     },
     "metadata": {},
     "output_type": "display_data"
    },
    {
     "data": {
      "application/javascript": [
       "(function(root) {\n",
       "  function embed_document(root) {\n",
       "    \n",
       "  var docs_json = {\"3d128851-e99d-48c3-849a-9f52ea8ba341\":{\"roots\":{\"references\":[{\"attributes\":{\"background_fill_alpha\":0.02,\"background_fill_color\":\"#6883BA\",\"below\":[{\"id\":\"10760\"}],\"border_fill_alpha\":0.05,\"border_fill_color\":\"#6883BA\",\"center\":[{\"id\":\"10763\"},{\"id\":\"10767\"},{\"id\":\"10793\"}],\"left\":[{\"id\":\"10764\"}],\"min_border\":20,\"outline_line_color\":\"#6883BA\",\"plot_height\":325,\"plot_width\":525,\"renderers\":[{\"id\":\"10785\"}],\"title\":{\"id\":\"10751\"},\"toolbar\":{\"id\":\"10774\"},\"toolbar_location\":null,\"x_range\":{\"id\":\"10753\"},\"x_scale\":{\"id\":\"10756\"},\"y_range\":{\"id\":\"10749\"},\"y_scale\":{\"id\":\"10758\"}},\"id\":\"10750\",\"subtype\":\"Figure\",\"type\":\"Plot\"},{\"attributes\":{},\"id\":\"10773\",\"type\":\"HelpTool\"},{\"attributes\":{\"active_drag\":\"auto\",\"active_inspect\":\"auto\",\"active_multi\":null,\"active_scroll\":\"auto\",\"active_tap\":\"auto\",\"tools\":[{\"id\":\"10768\"},{\"id\":\"10769\"},{\"id\":\"10770\"},{\"id\":\"10771\"},{\"id\":\"10772\"},{\"id\":\"10773\"}]},\"id\":\"10774\",\"type\":\"Toolbar\"},{\"attributes\":{},\"id\":\"10788\",\"type\":\"BasicTickFormatter\"},{\"attributes\":{\"source\":{\"id\":\"10781\"}},\"id\":\"10786\",\"type\":\"CDSView\"},{\"attributes\":{},\"id\":\"10753\",\"type\":\"DataRange1d\"},{\"attributes\":{},\"id\":\"10758\",\"type\":\"LinearScale\"},{\"attributes\":{},\"id\":\"10772\",\"type\":\"ResetTool\"},{\"attributes\":{},\"id\":\"10771\",\"type\":\"SaveTool\"},{\"attributes\":{},\"id\":\"10804\",\"type\":\"UnionRenderers\"},{\"attributes\":{},\"id\":\"10769\",\"type\":\"WheelZoomTool\"},{\"attributes\":{\"line_alpha\":{\"value\":0.1},\"line_color\":{\"field\":\"color\"},\"line_width\":{\"value\":5},\"xs\":{\"field\":\"x\"},\"ys\":{\"field\":\"y\"}},\"id\":\"10784\",\"type\":\"MultiLine\"},{\"attributes\":{\"background_fill_alpha\":0.0,\"border_line_alpha\":0.0,\"border_line_color\":\"black\",\"items\":[{\"id\":\"10794\"},{\"id\":\"10795\"},{\"id\":\"10796\"}],\"location\":\"top_center\"},\"id\":\"10793\",\"type\":\"Legend\"},{\"attributes\":{\"index\":1,\"label\":{\"value\":\"Korea, South\"},\"renderers\":[{\"id\":\"10785\"}]},\"id\":\"10795\",\"type\":\"LegendItem\"},{\"attributes\":{},\"id\":\"10756\",\"type\":\"LinearScale\"},{\"attributes\":{\"index\":0,\"label\":{\"value\":\"Japan\"},\"renderers\":[{\"id\":\"10785\"}]},\"id\":\"10794\",\"type\":\"LegendItem\"},{\"attributes\":{\"axis_label\":\"Days Since March 01, 2020\",\"axis_label_text_font_size\":\"11pt\",\"formatter\":{\"id\":\"10790\"},\"major_tick_line_color\":null,\"ticker\":{\"id\":\"10761\"}},\"id\":\"10760\",\"type\":\"LinearAxis\"},{\"attributes\":{\"data_source\":{\"id\":\"10781\"},\"glyph\":{\"id\":\"10783\"},\"hover_glyph\":null,\"muted_glyph\":null,\"nonselection_glyph\":{\"id\":\"10784\"},\"selection_glyph\":null,\"view\":{\"id\":\"10786\"}},\"id\":\"10785\",\"type\":\"GlyphRenderer\"},{\"attributes\":{\"line_color\":{\"field\":\"color\"},\"line_width\":{\"value\":5},\"xs\":{\"field\":\"x\"},\"ys\":{\"field\":\"y\"}},\"id\":\"10783\",\"type\":\"MultiLine\"},{\"attributes\":{\"end\":15.555771939797605,\"start\":-0.1708869749565047},\"id\":\"10749\",\"type\":\"Range1d\"},{\"attributes\":{},\"id\":\"10765\",\"type\":\"BasicTicker\"},{\"attributes\":{},\"id\":\"10803\",\"type\":\"Selection\"},{\"attributes\":{},\"id\":\"10761\",\"type\":\"BasicTicker\"},{\"attributes\":{\"data\":{\"color\":[\"#440154\",\"#30678D\",\"#35B778\"],\"regions\":[\"Japan\",\"Korea, South\",\"Malaysia\"],\"x\":[[0,1,2,3,4,5,6,7,8,9,10,11,12,13,14,15,16,17,18,19,20,21,22,23,24,25,26,27,28,29,30,31,32,33,34,35,36,37,38,39,40,41,42,43,44,45,46,47,48,49,50,51,52,53,54,55,56,57,58,59,60,61,62,63,64,65,66,67,68,69,70,71,72,73,74,75,76,77,78,79,80,81,82,83,84,85,86,87,88,89,90,91,92,93,94,95,96,97,98,99,100,101,102,103,104,105,106,107,108,109],[0,1,2,3,4,5,6,7,8,9,10,11,12,13,14,15,16,17,18,19,20,21,22,23,24,25,26,27,28,29,30,31,32,33,34,35,36,37,38,39,40,41,42,43,44,45,46,47,48,49,50,51,52,53,54,55,56,57,58,59,60,61,62,63,64,65,66,67,68,69,70,71,72,73,74,75,76,77,78,79,80,81,82,83,84,85,86,87,88,89,90,91,92,93,94,95,96,97,98,99,100,101,102,103,104,105,106,107,108,109],[0,1,2,3,4,5,6,7,8,9,10,11,12,13,14,15,16,17,18,19,20,21,22,23,24,25,26,27,28,29,30,31,32,33,34,35,36,37,38,39,40,41,42,43,44,45,46,47,48,49,50,51,52,53,54,55,56,57,58,59,60,61,62,63,64,65,66,67,68,69,70,71,72,73,74,75,76,77,78,79,80,81,82,83,84,85,86,87,88,89,90,91,92,93,94,95,96,97,98,99,100,101,102,103,104,105,106,107,108,109]],\"y\":[[0.1093260159660807,0.11973801748665981,0.13535601976752848,0.19522502851085838,0.22385803269245097,0.33058104827838686,0.3383900494188212,0.3696260539805586,0.23687303459317485,0.31236004561737346,0.3566110520798346,0.33318404865853163,0.31236004561737346,0.3488020509394003,0.5206000760289557,0.35921405245997945,0.27331503991520173,0.13015001900723894,0.22125503231230617,0.22125503231230617,0.3071540448570839,0.4607310672856258,0.42949506272388843,0.48415807070692884,0.5362180783098244,0.6741770984574976,0.7158251045398141,1.0047581467358844,1.246837182089349,1.0359941512976216,0.6767800988376425,0.8121361186051709,1.6372872391110658,1.728392252416133,2.501483365319132,1.6763322448132372,2.6993113942101354,1.996501291571045,2.9101544250018625,2.636839385086661,4.227272617355121,4.550044664493072,5.416843791081283,4.789520699466393,4.268920623437436,3.5192565139557406,3.269368477461842,5.575626814270116,5.716188834797934,5.651113825294314,2.6290303839462266,2.1839173189414693,1.8611452718035166,4.089313597207447,4.409482643965255,4.4745576534688745,2.793019407895348,3.4463725033116868,1.3145151919731133,1.1817621725857295,-0.1691950247094106,1.4811072163023788,1.7596282569778703,2.05376729993423,2.0121192938519137,1.775246259258739,0.9787281429344367,1.0385971516777666,0.8381661224066186,1.067230155859359,0.7809001140434335,0.7080161033993797,0.7939151159441574,0.7080161033993797,0.7106191037795245,0.6117050893340229,0.48936407146721833,0.42949506272388843,0.2655060387747674,0.3383900494188212,0.21344603117187183,0.30975704523722863,0.3800380555011377,0.43990706424446757,0.3279780478982421,0.17700402584984493,0.2264610330725957,0.2629030383946226,0.04425100646246123,0.13015001900723894,0.1691950247094106,0.3982590581621511,0.2967420433365047,0.31496304599751823,0.30194804409679427,0.32277204713795254,0.31496304599751823,0.3461990505592556,0.33318404865853163,0.2655060387747674,0.2889330421960704,0.2785210406754913,0.33058104827838686,0.19782802889100315,0.27071203953505696,0.27591804029534656,0.4737460691863497,0.49196707184736316,0.4971730726076527,0.4190830612033093],[13.683189284426364,13.877671162580647,14.14161085436146,13.092797868600861,12.175954728730668,9.77271437725274,9.863009534967228,8.51552795061255,6.147016505947885,3.2784088031722054,3.063089580929963,2.715800512797314,3.2367341149962874,2.2990536310381353,2.0351139392573225,1.785065810201815,1.6253128388607965,1.7433911220258973,2.2851620683128293,2.3059994124007885,2.681071605984049,2.750529419610579,2.1462464410597697,1.6530959643114083,1.2224575198269239,1.9448187815428335,2.049005501982628,2.3685114446646653,2.375457226027318,2.2851620683128293,2.139300659697117,2.111517534246505,2.1879211292356873,1.9170356560922217,1.868415186553651,1.8128489356524269,1.5419634625089607,1.2155117384642709,1.0210298603099874,0.9654636094087639,0.8265479821557041,0.6667950108146857,0.618174541276115,0.6042829785508089,0.58344563446285,0.5487167276495851,0.5278793835616262,0.4931504767483614,0.4306384444844846,0.33339750540734286,0.2708854731434661,0.2083734408795893,0.22921078496754824,0.2361565663302012,0.2431023476928542,0.2361565663302012,0.2083734408795893,0.2361565663302012,0.22921078496754824,0.18753609679163039,0.15280718997836548,0.13196984589040656,0.19448187815428336,0.18753609679163039,0.16669875270367143,0.09029515771448869,0.06251203226387679,0.12502406452775358,0.2361565663302012,0.44453000720979047,0.6042829785508089,0.6667950108146857,0.6112287599134619,0.569554071737544,0.569554071737544,0.5209336021989732,0.4098011003965257,0.3264517240446899,0.284777035868772,0.4167468817591786,0.39590953767121967,0.44453000720979047,0.3820179749459137,0.4723131326604024,0.44453000720979047,0.4167468817591786,0.5209336021989732,0.9585178280461109,1.2294033011895769,1.2224575198269239,0.8612768889689691,0.7015239176279506,0.6945781362652976,0.8473853262436631,0.8751684516942752,0.882114233056928,0.896005795782234,1.0210298603099874,1.0140840789473347,0.923788921232846,0.8751684516942752,0.923788921232846,1.0488129857605997,0.7015239176279506,0.7223612617159095,0.569554071737544,0.8196022007930513,0.7223612617159095,0.7848732939797863,0.9446262653208048],[0.07402176262027564,0.07402176262027564,0.1357065648038387,0.25907616917096477,0.25907616917096477,0.5798371405254925,0.5304892987786423,0.6045110613989177,0.4194566548482287,0.4441305757216539,0.6168480218356305,0.3947827339748034,0.8389133096964574,1.0979894788674223,3.4420119618428178,4.552338401146952,5.366577789969984,4.4659796780899645,4.120544785862011,4.404294875906401,4.848425451628055,5.008805937305319,6.0204366931157525,5.44059955259026,6.045110613989178,6.328860704033568,6.624947754514671,6.464567268837406,5.415925631716835,5.736686603071363,5.502284354773822,5.403588671280122,6.045110613989178,6.995056567616048,7.093752251109749,6.735980398445085,5.6750018008878005,5.921741009622052,5.637990919577662,5.366577789969984,4.725055847260929,5.070490739488881,5.613316998704236,5.810708365691639,5.637990919577662,4.799077609881204,4.502990559400102,3.2569575552921286,2.874511781754038,2.55375081039951,2.146631115987994,2.183641997298132,1.7641853424499028,2.1959789577348445,2.5784247312729356,2.590761691709648,2.183641997298132,1.5914678963359263,1.3447286876016744,2.0355984720575804,2.2453267994816946,2.714131296076774,2.8498378608806125,3.6517402892669324,3.4790228431529555,2.55375081039951,1.603804856772639,1.4064134897852374,1.8752179863803164,1.98625063031073,2.331685522538683,2.3563594434121082,1.8875549468170292,1.5174461337156508,1.1473373206142725,1.3940765293485247,1.1473373206142725,0.9252720327534456,1.0609785975572845,1.3077178062915364,1.4187504502219501,1.4557613315320879,1.9615767094373047,2.171305036861419,2.294674641228545,3.45434892227953,5.169186422982582,4.6140232033305155,2.615435612583073,1.5791309358992136,1.7641853424499028,2.3440224829753955,1.542120054589076,1.4187504502219501,1.862881025943604,4.811414570317917,4.799077609881204,4.108207825425298,0.9252720327534456,0.7772285075128943,0.4071196944115161,0.1973913669874017,0.49347841746850435,0.4071196944115161,0.7895654679496068,0.9376089931901582,1.036304676683859,1.13500036017756,0.7402176262027566,0.7648915470761818]]},\"selected\":{\"id\":\"10803\"},\"selection_policy\":{\"id\":\"10804\"}},\"id\":\"10781\",\"type\":\"ColumnDataSource\"},{\"attributes\":{\"bottom_units\":\"screen\",\"fill_alpha\":0.5,\"fill_color\":\"lightgrey\",\"left_units\":\"screen\",\"level\":\"overlay\",\"line_alpha\":1.0,\"line_color\":\"black\",\"line_dash\":[4,4],\"line_width\":2,\"render_mode\":\"css\",\"right_units\":\"screen\",\"top_units\":\"screen\"},\"id\":\"10792\",\"type\":\"BoxAnnotation\"},{\"attributes\":{\"axis\":{\"id\":\"10764\"},\"dimension\":1,\"grid_line_color\":null,\"ticker\":null},\"id\":\"10767\",\"type\":\"Grid\"},{\"attributes\":{\"axis\":{\"id\":\"10760\"},\"grid_line_color\":null,\"ticker\":null},\"id\":\"10763\",\"type\":\"Grid\"},{\"attributes\":{\"axis_label\":\"Daily Cases per 1M (3DMA)\",\"axis_label_text_font_size\":\"11pt\",\"formatter\":{\"id\":\"10788\"},\"ticker\":{\"id\":\"10765\"}},\"id\":\"10764\",\"type\":\"LinearAxis\"},{\"attributes\":{\"text\":\"Comparing New Cases as of Jun 17\"},\"id\":\"10751\",\"type\":\"Title\"},{\"attributes\":{\"index\":2,\"label\":{\"value\":\"Malaysia\"},\"renderers\":[{\"id\":\"10785\"}]},\"id\":\"10796\",\"type\":\"LegendItem\"},{\"attributes\":{\"overlay\":{\"id\":\"10792\"}},\"id\":\"10770\",\"type\":\"BoxZoomTool\"},{\"attributes\":{},\"id\":\"10790\",\"type\":\"BasicTickFormatter\"},{\"attributes\":{},\"id\":\"10768\",\"type\":\"PanTool\"}],\"root_ids\":[\"10750\"]},\"title\":\"Bokeh Application\",\"version\":\"2.0.0\"}};\n",
       "  var render_items = [{\"docid\":\"3d128851-e99d-48c3-849a-9f52ea8ba341\",\"root_ids\":[\"10750\"],\"roots\":{\"10750\":\"917b832a-799b-46e6-8030-d4d71590508e\"}}];\n",
       "  root.Bokeh.embed.embed_items_notebook(docs_json, render_items);\n",
       "\n",
       "  }\n",
       "  if (root.Bokeh !== undefined) {\n",
       "    embed_document(root);\n",
       "  } else {\n",
       "    var attempts = 0;\n",
       "    var timer = setInterval(function(root) {\n",
       "      if (root.Bokeh !== undefined) {\n",
       "        clearInterval(timer);\n",
       "        embed_document(root);\n",
       "      } else {\n",
       "        attempts++;\n",
       "        if (attempts > 100) {\n",
       "          clearInterval(timer);\n",
       "          console.log(\"Bokeh: ERROR: Unable to run BokehJS code because BokehJS library is missing\");\n",
       "        }\n",
       "      }\n",
       "    }, 10, root)\n",
       "  }\n",
       "})(window);"
      ],
      "application/vnd.bokehjs_exec.v0+json": ""
     },
     "metadata": {
      "application/vnd.bokehjs_exec.v0+json": {
       "id": "10750"
      }
     },
     "output_type": "display_data"
    },
    {
     "data": {
      "text/html": [
       "\n",
       "\n",
       "\n",
       "\n",
       "\n",
       "\n",
       "  <div class=\"bk-root\" id=\"d21ed6ca-f8a6-4c1b-a979-b58c02db77e6\" data-root-id=\"11199\"></div>\n"
      ]
     },
     "metadata": {},
     "output_type": "display_data"
    },
    {
     "data": {
      "application/javascript": [
       "(function(root) {\n",
       "  function embed_document(root) {\n",
       "    \n",
       "  var docs_json = {\"76b3845c-eba5-4707-a5b3-18cf664e7075\":{\"roots\":{\"references\":[{\"attributes\":{\"background_fill_alpha\":0.02,\"background_fill_color\":\"#6883BA\",\"below\":[{\"id\":\"11209\"}],\"border_fill_alpha\":0.05,\"border_fill_color\":\"#6883BA\",\"center\":[{\"id\":\"11212\"},{\"id\":\"11216\"},{\"id\":\"11242\"}],\"left\":[{\"id\":\"11213\"}],\"min_border\":20,\"outline_line_color\":\"#6883BA\",\"plot_height\":325,\"plot_width\":525,\"renderers\":[{\"id\":\"11234\"}],\"title\":{\"id\":\"11200\"},\"toolbar\":{\"id\":\"11223\"},\"toolbar_location\":null,\"x_range\":{\"id\":\"11202\"},\"x_scale\":{\"id\":\"11205\"},\"y_range\":{\"id\":\"11198\"},\"y_scale\":{\"id\":\"11207\"}},\"id\":\"11199\",\"subtype\":\"Figure\",\"type\":\"Plot\"},{\"attributes\":{},\"id\":\"11218\",\"type\":\"WheelZoomTool\"},{\"attributes\":{\"end\":0.2634236384706516},\"id\":\"11198\",\"type\":\"Range1d\"},{\"attributes\":{\"text\":\"Comparing New Fatalities as of Jun 17\"},\"id\":\"11200\",\"type\":\"Title\"},{\"attributes\":{\"active_drag\":\"auto\",\"active_inspect\":\"auto\",\"active_multi\":null,\"active_scroll\":\"auto\",\"active_tap\":\"auto\",\"tools\":[{\"id\":\"11217\"},{\"id\":\"11218\"},{\"id\":\"11219\"},{\"id\":\"11220\"},{\"id\":\"11221\"},{\"id\":\"11222\"}]},\"id\":\"11223\",\"type\":\"Toolbar\"},{\"attributes\":{},\"id\":\"11252\",\"type\":\"Selection\"},{\"attributes\":{},\"id\":\"11207\",\"type\":\"LinearScale\"},{\"attributes\":{\"line_color\":{\"field\":\"color\"},\"line_width\":{\"value\":5},\"xs\":{\"field\":\"x\"},\"ys\":{\"field\":\"y\"}},\"id\":\"11232\",\"type\":\"MultiLine\"},{\"attributes\":{},\"id\":\"11253\",\"type\":\"UnionRenderers\"},{\"attributes\":{},\"id\":\"11237\",\"type\":\"BasicTickFormatter\"},{\"attributes\":{},\"id\":\"11217\",\"type\":\"PanTool\"},{\"attributes\":{},\"id\":\"11222\",\"type\":\"HelpTool\"},{\"attributes\":{\"axis\":{\"id\":\"11213\"},\"dimension\":1,\"grid_line_color\":null,\"ticker\":null},\"id\":\"11216\",\"type\":\"Grid\"},{\"attributes\":{\"bottom_units\":\"screen\",\"fill_alpha\":0.5,\"fill_color\":\"lightgrey\",\"left_units\":\"screen\",\"level\":\"overlay\",\"line_alpha\":1.0,\"line_color\":\"black\",\"line_dash\":[4,4],\"line_width\":2,\"render_mode\":\"css\",\"right_units\":\"screen\",\"top_units\":\"screen\"},\"id\":\"11241\",\"type\":\"BoxAnnotation\"},{\"attributes\":{\"overlay\":{\"id\":\"11241\"}},\"id\":\"11219\",\"type\":\"BoxZoomTool\"},{\"attributes\":{},\"id\":\"11205\",\"type\":\"LinearScale\"},{\"attributes\":{\"index\":2,\"label\":{\"value\":\"Malaysia\"},\"renderers\":[{\"id\":\"11234\"}]},\"id\":\"11245\",\"type\":\"LegendItem\"},{\"attributes\":{\"background_fill_alpha\":0.0,\"border_line_alpha\":0.0,\"border_line_color\":\"black\",\"items\":[{\"id\":\"11243\"},{\"id\":\"11244\"},{\"id\":\"11245\"}],\"location\":\"top_left\"},\"id\":\"11242\",\"type\":\"Legend\"},{\"attributes\":{},\"id\":\"11202\",\"type\":\"DataRange1d\"},{\"attributes\":{},\"id\":\"11220\",\"type\":\"SaveTool\"},{\"attributes\":{},\"id\":\"11239\",\"type\":\"BasicTickFormatter\"},{\"attributes\":{\"index\":1,\"label\":{\"value\":\"Korea, South\"},\"renderers\":[{\"id\":\"11234\"}]},\"id\":\"11244\",\"type\":\"LegendItem\"},{\"attributes\":{\"line_alpha\":{\"value\":0.1},\"line_color\":{\"field\":\"color\"},\"line_width\":{\"value\":5},\"xs\":{\"field\":\"x\"},\"ys\":{\"field\":\"y\"}},\"id\":\"11233\",\"type\":\"MultiLine\"},{\"attributes\":{\"data_source\":{\"id\":\"11230\"},\"glyph\":{\"id\":\"11232\"},\"hover_glyph\":null,\"muted_glyph\":null,\"nonselection_glyph\":{\"id\":\"11233\"},\"selection_glyph\":null,\"view\":{\"id\":\"11235\"}},\"id\":\"11234\",\"type\":\"GlyphRenderer\"},{\"attributes\":{},\"id\":\"11221\",\"type\":\"ResetTool\"},{\"attributes\":{\"axis\":{\"id\":\"11209\"},\"grid_line_color\":null,\"ticker\":null},\"id\":\"11212\",\"type\":\"Grid\"},{\"attributes\":{\"index\":0,\"label\":{\"value\":\"Japan\"},\"renderers\":[{\"id\":\"11234\"}]},\"id\":\"11243\",\"type\":\"LegendItem\"},{\"attributes\":{},\"id\":\"11214\",\"type\":\"BasicTicker\"},{\"attributes\":{},\"id\":\"11210\",\"type\":\"BasicTicker\"},{\"attributes\":{\"source\":{\"id\":\"11230\"}},\"id\":\"11235\",\"type\":\"CDSView\"},{\"attributes\":{\"axis_label\":\"Days Since March 01, 2020\",\"axis_label_text_font_size\":\"11pt\",\"formatter\":{\"id\":\"11239\"},\"major_tick_line_color\":null,\"ticker\":{\"id\":\"11210\"}},\"id\":\"11209\",\"type\":\"LinearAxis\"},{\"attributes\":{\"data\":{\"color\":[\"#440154\",\"#30678D\",\"#35B778\"],\"regions\":[\"Japan\",\"Korea, South\",\"Malaysia\"],\"x\":[[0,1,2,3,4,5,6,7,8,9,10,11,12,13,14,15,16,17,18,19,20,21,22,23,24,25,26,27,28,29,30,31,32,33,34,35,36,37,38,39,40,41,42,43,44,45,46,47,48,49,50,51,52,53,54,55,56,57,58,59,60,61,62,63,64,65,66,67,68,69,70,71,72,73,74,75,76,77,78,79,80,81,82,83,84,85,86,87,88,89,90,91,92,93,94,95,96,97,98,99,100,101,102,103,104,105,106,107,108,109],[0,1,2,3,4,5,6,7,8,9,10,11,12,13,14,15,16,17,18,19,20,21,22,23,24,25,26,27,28,29,30,31,32,33,34,35,36,37,38,39,40,41,42,43,44,45,46,47,48,49,50,51,52,53,54,55,56,57,58,59,60,61,62,63,64,65,66,67,68,69,70,71,72,73,74,75,76,77,78,79,80,81,82,83,84,85,86,87,88,89,90,91,92,93,94,95,96,97,98,99,100,101,102,103,104,105,106,107,108,109],[0,1,2,3,4,5,6,7,8,9,10,11,12,13,14,15,16,17,18,19,20,21,22,23,24,25,26,27,28,29,30,31,32,33,34,35,36,37,38,39,40,41,42,43,44,45,46,47,48,49,50,51,52,53,54,55,56,57,58,59,60,61,62,63,64,65,66,67,68,69,70,71,72,73,74,75,76,77,78,79,80,81,82,83,84,85,86,87,88,89,90,91,92,93,94,95,96,97,98,99,100,101,102,103,104,105,106,107,108,109]],\"y\":[[0.005206000760289557,0.005206000760289557,0.0026030003801447783,0.0,0.0,0.0,0.0,0.0,0.010412001520579113,0.010412001520579113,0.023427003421303008,0.015618002280868673,0.023427003421303008,0.01822100266101345,0.015618002280868673,0.020824003041158227,0.01822100266101345,0.01822100266101345,0.005206000760289557,0.010412001520579113,0.015618002280868673,0.031236004561737345,0.023427003421303008,0.020824003041158227,0.010412001520579113,0.013015001900723893,0.015618002280868673,0.01822100266101345,0.01822100266101345,0.013015001900723893,0.010412001520579113,0.007809001140434336,0.020824003041158227,0.01822100266101345,0.05206000760289557,0.03904500570217168,0.05726600836318512,0.03904500570217168,0.041648006082316454,0.023427003421303008,0.01822100266101345,0.015618002280868673,0.0364420053220269,0.06247200912347469,0.11453201672637024,0.09891401444550157,0.1431650209079628,0.12234101786680458,0.19782802889100315,0.15097402204839713,0.11973801748665981,0.10672301558593592,0.11713501710651503,0.23947603497331962,0.21344603117187183,0.2056370300314375,0.11453201672637024,0.10412001520579114,0.08850201292492246,0.10672301558593592,0.11713501710651503,0.15878302318883147,0.15878302318883147,0.14837102166825236,0.21084303079172706,0.21344603117187183,0.17960702622998972,0.10672301558593592,0.08850201292492246,0.1327530193873837,0.12234101786680458,0.11192901634622549,0.13015001900723894,0.14056202052781805,0.16659202432926581,0.1457680212881076,0.12234101786680458,0.12234101786680458,0.09370801368521203,0.11192901634622549,0.06247200912347469,0.0728840106440538,0.0728840106440538,0.10412001520579114,0.11192901634622549,0.08850201292492246,0.09891401444550157,0.09891401444550157,0.1327530193873837,0.10672301558593592,0.09370801368521203,0.04425100646246123,0.031236004561737345,0.020824003041158227,0.01822100266101345,0.031236004561737345,0.0364420053220269,0.026030003801447786,0.015618002280868673,0.010412001520579113,0.013015001900723893,0.013015001900723893,0.005206000760289557,0.005206000760289557,0.005206000760289557,0.013015001900723893,0.013015001900723893,0.013015001900723893,0.01822100266101345,0.020824003041158227],[0.027783125450611904,0.10418672043979466,0.08334937635183572,0.12502406452775358,0.04862046953857084,0.09724093907714168,0.06251203226387679,0.10418672043979466,0.07640359498918274,0.06945781362652977,0.06945781362652977,0.09029515771448869,0.08334937635183572,0.08334937635183572,0.06251203226387679,0.06251203226387679,0.06251203226387679,0.06251203226387679,0.11113250180244762,0.09029515771448869,0.12502406452775358,0.13891562725305953,0.1180782831651006,0.12502406452775358,0.10418672043979466,0.13891562725305953,0.13196984589040656,0.12502406452775358,0.1458614086157125,0.13196984589040656,0.12502406452775358,0.09029515771448869,0.07640359498918274,0.08334937635183572,0.08334937635183572,0.09724093907714168,0.08334937635183572,0.10418672043979466,0.1180782831651006,0.12502406452775358,0.11113250180244762,0.07640359498918274,0.06945781362652977,0.06251203226387679,0.07640359498918274,0.07640359498918274,0.08334937635183572,0.05556625090122381,0.04862046953857084,0.03472890681326488,0.04167468817591786,0.03472890681326488,0.027783125450611904,0.027783125450611904,0.02083734408795893,0.027783125450611904,0.02083734408795893,0.027783125450611904,0.027783125450611904,0.027783125450611904,0.027783125450611904,0.027783125450611904,0.02083734408795893,0.027783125450611904,0.027783125450611904,0.03472890681326488,0.027783125450611904,0.013891562725305952,0.006945781362652976,0.0,0.0,0.013891562725305952,0.02083734408795893,0.027783125450611904,0.013891562725305952,0.02083734408795893,0.013891562725305952,0.02083734408795893,0.006945781362652976,0.006945781362652976,0.006945781362652976,0.006945781362652976,0.02083734408795893,0.013891562725305952,0.02083734408795893,0.02083734408795893,0.02083734408795893,0.013891562725305952,0.0,0.0,0.006945781362652976,0.013891562725305952,0.02083734408795893,0.02083734408795893,0.013891562725305952,0.006945781362652976,0.0,0.0,0.0,0.006945781362652976,0.02083734408795893,0.02083734408795893,0.02083734408795893,0.006945781362652976,0.006945781362652976,0.0,0.0,0.006945781362652976,0.013891562725305952,0.02083734408795893],[0.0,0.0,0.0,0.0,0.0,0.0,0.0,0.0,0.0,0.0,0.0,0.0,0.0,0.0,0.0,0.0,0.024673920873425213,0.024673920873425213,0.024673920873425213,0.012336960436712606,0.024673920873425213,0.09869568349370085,0.1357065648038387,0.14804352524055128,0.12336960436712609,0.11103264393041347,0.12336960436712609,0.08635872305698826,0.14804352524055128,0.1357065648038387,0.1973913669874017,0.12336960436712609,0.1603804856772639,0.12336960436712609,0.14804352524055128,0.1357065648038387,0.11103264393041347,0.07402176262027564,0.049347841746850425,0.061684802183563044,0.08635872305698826,0.09869568349370085,0.11103264393041347,0.08635872305698826,0.11103264393041347,0.08635872305698826,0.08635872305698826,0.049347841746850425,0.061684802183563044,0.061684802183563044,0.03701088131013782,0.049347841746850425,0.049347841746850425,0.07402176262027564,0.049347841746850425,0.061684802183563044,0.03701088131013782,0.03701088131013782,0.024673920873425213,0.024673920873425213,0.03701088131013782,0.03701088131013782,0.03701088131013782,0.03701088131013782,0.024673920873425213,0.03701088131013782,0.024673920873425213,0.024673920873425213,0.012336960436712606,0.012336960436712606,0.012336960436712606,0.024673920873425213,0.012336960436712606,0.03701088131013782,0.03701088131013782,0.03701088131013782,0.024673920873425213,0.012336960436712606,0.012336960436712606,0.012336960436712606,0.012336960436712606,0.012336960436712606,0.012336960436712606,0.012336960436712606,0.012336960436712606,0.0,0.0,0.0,0.0,0.0,0.0,0.0,0.0,0.0,0.0,0.0,0.012336960436712606,0.024673920873425213,0.024673920873425213,0.012336960436712606,0.0,0.012336960436712606,0.012336960436712606,0.012336960436712606,0.012336960436712606,0.024673920873425213,0.03701088131013782,0.024673920873425213,0.012336960436712606,0.0]]},\"selected\":{\"id\":\"11252\"},\"selection_policy\":{\"id\":\"11253\"}},\"id\":\"11230\",\"type\":\"ColumnDataSource\"},{\"attributes\":{\"axis_label\":\"Daily Deaths per 1M (3DMA)\",\"axis_label_text_font_size\":\"11pt\",\"formatter\":{\"id\":\"11237\"},\"ticker\":{\"id\":\"11214\"}},\"id\":\"11213\",\"type\":\"LinearAxis\"}],\"root_ids\":[\"11199\"]},\"title\":\"Bokeh Application\",\"version\":\"2.0.0\"}};\n",
       "  var render_items = [{\"docid\":\"76b3845c-eba5-4707-a5b3-18cf664e7075\",\"root_ids\":[\"11199\"],\"roots\":{\"11199\":\"d21ed6ca-f8a6-4c1b-a979-b58c02db77e6\"}}];\n",
       "  root.Bokeh.embed.embed_items_notebook(docs_json, render_items);\n",
       "\n",
       "  }\n",
       "  if (root.Bokeh !== undefined) {\n",
       "    embed_document(root);\n",
       "  } else {\n",
       "    var attempts = 0;\n",
       "    var timer = setInterval(function(root) {\n",
       "      if (root.Bokeh !== undefined) {\n",
       "        clearInterval(timer);\n",
       "        embed_document(root);\n",
       "      } else {\n",
       "        attempts++;\n",
       "        if (attempts > 100) {\n",
       "          clearInterval(timer);\n",
       "          console.log(\"Bokeh: ERROR: Unable to run BokehJS code because BokehJS library is missing\");\n",
       "        }\n",
       "      }\n",
       "    }, 10, root)\n",
       "  }\n",
       "})(window);"
      ],
      "application/vnd.bokehjs_exec.v0+json": ""
     },
     "metadata": {
      "application/vnd.bokehjs_exec.v0+json": {
       "id": "11199"
      }
     },
     "output_type": "display_data"
    },
    {
     "data": {
      "text/html": [
       "\n",
       "\n",
       "\n",
       "\n",
       "\n",
       "\n",
       "  <div class=\"bk-root\" id=\"beb5c80c-e12f-44c4-9dca-50451b92c433\" data-root-id=\"11656\"></div>\n"
      ]
     },
     "metadata": {},
     "output_type": "display_data"
    },
    {
     "data": {
      "application/javascript": [
       "(function(root) {\n",
       "  function embed_document(root) {\n",
       "    \n",
       "  var docs_json = {\"5b8383a8-8b52-4c0e-91df-aaa55a17f657\":{\"roots\":{\"references\":[{\"attributes\":{\"background_fill_alpha\":0.02,\"background_fill_color\":\"#6883BA\",\"below\":[{\"id\":\"11666\"}],\"border_fill_alpha\":0.05,\"border_fill_color\":\"#6883BA\",\"center\":[{\"id\":\"11669\"},{\"id\":\"11673\"},{\"id\":\"11699\"}],\"left\":[{\"id\":\"11670\"}],\"min_border\":20,\"outline_line_color\":\"#6883BA\",\"plot_height\":325,\"plot_width\":500,\"renderers\":[{\"id\":\"11691\"}],\"title\":{\"id\":\"11657\"},\"toolbar\":{\"id\":\"11680\"},\"toolbar_location\":null,\"x_range\":{\"id\":\"11659\"},\"x_scale\":{\"id\":\"11662\"},\"y_range\":{\"id\":\"11655\"},\"y_scale\":{\"id\":\"11664\"}},\"id\":\"11656\",\"subtype\":\"Figure\",\"type\":\"Plot\"},{\"attributes\":{\"index\":0,\"label\":{\"value\":\"Japan\"},\"renderers\":[{\"id\":\"11691\"}]},\"id\":\"11700\",\"type\":\"LegendItem\"},{\"attributes\":{},\"id\":\"11678\",\"type\":\"ResetTool\"},{\"attributes\":{\"axis\":{\"id\":\"11670\"},\"dimension\":1,\"grid_line_color\":null,\"ticker\":null},\"id\":\"11673\",\"type\":\"Grid\"},{\"attributes\":{\"axis_label\":\"Change in Driving Mobility - Apple\",\"axis_label_text_font_size\":\"11pt\",\"formatter\":{\"id\":\"11694\"},\"ticker\":{\"id\":\"11671\"}},\"id\":\"11670\",\"type\":\"LinearAxis\"},{\"attributes\":{},\"id\":\"11710\",\"type\":\"UnionRenderers\"},{\"attributes\":{},\"id\":\"11664\",\"type\":\"LinearScale\"},{\"attributes\":{},\"id\":\"11709\",\"type\":\"Selection\"},{\"attributes\":{},\"id\":\"11694\",\"type\":\"BasicTickFormatter\"},{\"attributes\":{\"overlay\":{\"id\":\"11698\"}},\"id\":\"11676\",\"type\":\"BoxZoomTool\"},{\"attributes\":{},\"id\":\"11679\",\"type\":\"HelpTool\"},{\"attributes\":{},\"id\":\"11671\",\"type\":\"BasicTicker\"},{\"attributes\":{\"end\":1.7775999999999998,\"start\":0.30097999999999997},\"id\":\"11655\",\"type\":\"Range1d\"},{\"attributes\":{},\"id\":\"11696\",\"type\":\"BasicTickFormatter\"},{\"attributes\":{\"data\":{\"color\":[\"#440154\",\"#30678D\",\"#35B778\"],\"regions\":[\"Japan\",\"Korea, South\",\"Malaysia\"],\"x\":[[0,1,2,3,4,5,6,7,8,9,10,11,12,13,14,15,16,17,18,19,20,21,22,23,24,25,26,27,28,29,30,31,32,33,34,35,36,37,38,39,40,41,42,43,44,45,46,47,48,49,50,51,52,53,54,55,56,57,58,59,60,61,62,63,64,65,66,67,68,69,70,71,72,73,74,75,76,77,78,79,80,81,82,83,84,85,86,87,88,89,90,91,92,93,94,95,96,97,98,99,100,101,102,103,104,105,106,107,108],[0,1,2,3,4,5,6,7,8,9,10,11,12,13,14,15,16,17,18,19,20,21,22,23,24,25,26,27,28,29,30,31,32,33,34,35,36,37,38,39,40,41,42,43,44,45,46,47,48,49,50,51,52,53,54,55,56,57,58,59,60,61,62,63,64,65,66,67,68,69,70,71,72,73,74,75,76,77,78,79,80,81,82,83,84,85,86,87,88,89,90,91,92,93,94,95,96,97,98,99,100,101,102,103,104,105,106,107,108],[0,1,2,3,4,5,6,7,8,9,10,11,12,13,14,15,16,17,18,19,20,21,22,23,24,25,26,27,28,29,30,31,32,33,34,35,36,37,38,39,40,41,42,43,44,45,46,47,48,49,50,51,52,53,54,55,56,57,58,59,60,61,62,63,64,65,66,67,68,69,70,71,72,73,74,75,76,77,78,79,80,81,82,83,84,85,86,87,88,89,90,91,92,93,94,95,96,97,98,99,100,101,102,103,104,105,106,107,108]],\"y\":[[1.0390000000000001,1.0590000000000002,1.032,1.06,1.1079999999999999,1.229,1.157,1.136,1.088,1.161,1.178,1.155,1.234,1.331,1.202,1.2,1.232,1.276,1.528,1.6159999999999999,1.4880000000000002,1.2770000000000001,1.248,1.2819999999999998,1.288,1.214,1.226,1.11,1.115,1.053,0.978,0.9840000000000001,0.996,1.073,0.978,0.919,0.8740000000000001,0.8370000000000001,0.812,0.7979999999999999,0.8540000000000001,0.691,0.6779999999999999,0.741,0.784,0.775,0.737,0.6709999999999999,0.7290000000000001,0.68,0.7070000000000001,0.7040000000000001,0.696,0.7040000000000001,0.7490000000000001,0.6779999999999999,0.688,0.7,0.691,0.731,0.753,0.784,0.721,0.7,0.764,0.647,0.7140000000000001,0.77,0.778,0.6890000000000001,0.73,0.73,0.731,0.731,0.7440000000000001,0.735,0.813,0.736,0.6990000000000001,0.7340000000000001,0.742,0.774,0.9109999999999999,0.9520000000000001,0.816,0.795,0.8029999999999999,0.838,0.862,1.058,0.991,0.8320000000000001,0.8320000000000001,0.852,0.86,0.914,1.127,1.1640000000000001,0.946,0.905,0.902,0.875,0.9259999999999999,0.9259999999999999,1.1,1.085,0.9520000000000001,0.9470000000000001,0.9640000000000001],[0.527,0.525,0.534,0.528,0.536,0.579,0.5529999999999999,0.57,0.534,0.56,0.55,0.552,0.607,0.544,0.534,0.525,0.544,0.532,0.5489999999999999,0.6579999999999999,0.597,0.5579999999999999,0.562,0.564,0.552,0.5429999999999999,0.624,0.601,0.5660000000000001,0.562,0.584,0.591,0.591,0.72,0.6509999999999999,0.581,0.603,0.597,0.591,0.588,0.695,0.608,0.574,0.596,0.682,0.589,0.588,0.6890000000000001,0.644,0.55,0.594,0.5760000000000001,0.603,0.635,0.72,0.721,0.632,0.636,0.6779999999999999,0.93,0.898,0.894,0.81,0.818,0.805,0.695,0.73,0.746,0.8079999999999999,0.72,0.691,0.698,0.705,0.7120000000000001,0.6940000000000001,0.7959999999999999,0.81,0.748,0.655,0.727,0.753,0.7759999999999999,0.937,0.8490000000000001,0.768,0.754,0.736,0.757,0.797,0.9490000000000001,0.866,0.757,0.7040000000000001,0.6940000000000001,0.682,0.705,0.8440000000000001,0.799,0.728,0.695,0.6809999999999999,0.669,0.7290000000000001,0.7290000000000001,0.831,0.7490000000000001,0.7120000000000001,0.7120000000000001,0.682],[1.1,0.946,0.9570000000000001,0.956,1.06,1.3630000000000002,1.297,1.064,0.907,0.912,0.895,0.991,1.3419999999999999,1.297,1.047,0.865,0.909,0.536,0.429,0.39,0.306,0.298,0.312,0.337,0.369,0.381,0.373,0.37,0.389,0.39799999999999996,0.401,0.434,0.418,0.408,0.396,0.428,0.439,0.44799999999999995,0.44299999999999995,0.45299999999999996,0.475,0.47200000000000003,0.488,0.499,0.512,0.511,0.513,0.496,0.456,0.46799999999999997,0.478,0.49700000000000005,0.49700000000000005,0.42200000000000004,0.48700000000000004,0.517,0.551,0.552,0.561,0.5710000000000001,0.556,0.568,0.544,0.594,0.613,0.631,0.6679999999999999,0.688,0.715,0.7509999999999999,0.708,0.721,0.7340000000000001,0.748,0.774,0.8340000000000001,0.8170000000000001,0.8109999999999999,0.826,0.868,0.905,0.9540000000000001,0.941,0.857,0.688,0.738,0.753,0.757,0.742,0.843,0.851,0.83,0.846,0.8640000000000001,0.866,0.92,0.985,0.982,0.9790000000000001,0.956,0.995,1.058,1.1,1.1,1.242,1.242,1.166,1.0959999999999999,1.119]]},\"selected\":{\"id\":\"11709\"},\"selection_policy\":{\"id\":\"11710\"}},\"id\":\"11687\",\"type\":\"ColumnDataSource\"},{\"attributes\":{},\"id\":\"11675\",\"type\":\"WheelZoomTool\"},{\"attributes\":{},\"id\":\"11667\",\"type\":\"BasicTicker\"},{\"attributes\":{},\"id\":\"11659\",\"type\":\"DataRange1d\"},{\"attributes\":{},\"id\":\"11674\",\"type\":\"PanTool\"},{\"attributes\":{\"active_drag\":\"auto\",\"active_inspect\":\"auto\",\"active_multi\":null,\"active_scroll\":\"auto\",\"active_tap\":\"auto\",\"tools\":[{\"id\":\"11674\"},{\"id\":\"11675\"},{\"id\":\"11676\"},{\"id\":\"11677\"},{\"id\":\"11678\"},{\"id\":\"11679\"}]},\"id\":\"11680\",\"type\":\"Toolbar\"},{\"attributes\":{\"axis\":{\"id\":\"11666\"},\"grid_line_color\":null,\"ticker\":null},\"id\":\"11669\",\"type\":\"Grid\"},{\"attributes\":{\"index\":2,\"label\":{\"value\":\"Malaysia\"},\"renderers\":[{\"id\":\"11691\"}]},\"id\":\"11702\",\"type\":\"LegendItem\"},{\"attributes\":{\"axis_label\":\"Days Since March 01, 2020\",\"axis_label_text_font_size\":\"11pt\",\"formatter\":{\"id\":\"11696\"},\"major_tick_line_color\":null,\"ticker\":{\"id\":\"11667\"}},\"id\":\"11666\",\"type\":\"LinearAxis\"},{\"attributes\":{\"data_source\":{\"id\":\"11687\"},\"glyph\":{\"id\":\"11689\"},\"hover_glyph\":null,\"muted_glyph\":null,\"nonselection_glyph\":{\"id\":\"11690\"},\"selection_glyph\":null,\"view\":{\"id\":\"11692\"}},\"id\":\"11691\",\"type\":\"GlyphRenderer\"},{\"attributes\":{\"background_fill_alpha\":0.0,\"border_line_alpha\":0.0,\"border_line_color\":\"black\",\"items\":[{\"id\":\"11700\"},{\"id\":\"11701\"},{\"id\":\"11702\"}],\"location\":\"top_center\"},\"id\":\"11699\",\"type\":\"Legend\"},{\"attributes\":{\"text\":\"Apple Driving Queries as of Jun 17\"},\"id\":\"11657\",\"type\":\"Title\"},{\"attributes\":{},\"id\":\"11662\",\"type\":\"LinearScale\"},{\"attributes\":{\"line_color\":{\"field\":\"color\"},\"line_width\":{\"value\":5},\"xs\":{\"field\":\"x\"},\"ys\":{\"field\":\"y\"}},\"id\":\"11689\",\"type\":\"MultiLine\"},{\"attributes\":{\"line_alpha\":{\"value\":0.1},\"line_color\":{\"field\":\"color\"},\"line_width\":{\"value\":5},\"xs\":{\"field\":\"x\"},\"ys\":{\"field\":\"y\"}},\"id\":\"11690\",\"type\":\"MultiLine\"},{\"attributes\":{\"bottom_units\":\"screen\",\"fill_alpha\":0.5,\"fill_color\":\"lightgrey\",\"left_units\":\"screen\",\"level\":\"overlay\",\"line_alpha\":1.0,\"line_color\":\"black\",\"line_dash\":[4,4],\"line_width\":2,\"render_mode\":\"css\",\"right_units\":\"screen\",\"top_units\":\"screen\"},\"id\":\"11698\",\"type\":\"BoxAnnotation\"},{\"attributes\":{\"index\":1,\"label\":{\"value\":\"Korea, South\"},\"renderers\":[{\"id\":\"11691\"}]},\"id\":\"11701\",\"type\":\"LegendItem\"},{\"attributes\":{},\"id\":\"11677\",\"type\":\"SaveTool\"},{\"attributes\":{\"source\":{\"id\":\"11687\"}},\"id\":\"11692\",\"type\":\"CDSView\"}],\"root_ids\":[\"11656\"]},\"title\":\"Bokeh Application\",\"version\":\"2.0.0\"}};\n",
       "  var render_items = [{\"docid\":\"5b8383a8-8b52-4c0e-91df-aaa55a17f657\",\"root_ids\":[\"11656\"],\"roots\":{\"11656\":\"beb5c80c-e12f-44c4-9dca-50451b92c433\"}}];\n",
       "  root.Bokeh.embed.embed_items_notebook(docs_json, render_items);\n",
       "\n",
       "  }\n",
       "  if (root.Bokeh !== undefined) {\n",
       "    embed_document(root);\n",
       "  } else {\n",
       "    var attempts = 0;\n",
       "    var timer = setInterval(function(root) {\n",
       "      if (root.Bokeh !== undefined) {\n",
       "        clearInterval(timer);\n",
       "        embed_document(root);\n",
       "      } else {\n",
       "        attempts++;\n",
       "        if (attempts > 100) {\n",
       "          clearInterval(timer);\n",
       "          console.log(\"Bokeh: ERROR: Unable to run BokehJS code because BokehJS library is missing\");\n",
       "        }\n",
       "      }\n",
       "    }, 10, root)\n",
       "  }\n",
       "})(window);"
      ],
      "application/vnd.bokehjs_exec.v0+json": ""
     },
     "metadata": {
      "application/vnd.bokehjs_exec.v0+json": {
       "id": "11656"
      }
     },
     "output_type": "display_data"
    }
   ],
   "source": [
    "### CASE AND FATALITY COMPARISONS ###\n",
    "region_groups = [\n",
    "    ['Texas', 'Alabama', 'Arizona'],\n",
    "    ['Georgia', 'Tennessee', 'Florida'],\n",
    "    ['California', 'Florida', 'Washington'],\n",
    "    ['Illinois', 'Ohio', 'Massachusetts'], \n",
    "    ['British Columbia', 'Ontario', 'New South Wales'],\n",
    "    ['Sweden', 'Norway', 'Finland', 'Denmark'],\n",
    "    ['Spain', 'Germany', 'France'],\n",
    "    ['Lombardia', 'New York', 'New Jersey'],\n",
    "    ['Sao Paulo', 'Rio De Janeiro'],\n",
    "    ['Hong Kong', 'Singapore'],\n",
    "    ['Japan', 'Malaysia', 'Korea, South']\n",
    "\n",
    "]\n",
    "print ('Creating Case and Fatality comparisons for ...')\n",
    "for regions in region_groups:\n",
    "    print ('\\t' + ' '.join(regions))\n",
    "    for count_type in ['cases', 'deaths']:\n",
    "        wrapped_chart = exc_logger.wrap()(tweetbot.count_comparison)\n",
    "        wrapped_chart(casestudy, count_type, regions)\n",
    "\n",
    "    wrapped_chart = exc_logger.wrap()(tweetbot.amobi_comparison)\n",
    "    wrapped_chart(casestudy, regions)\n",
    "\n",
    "    status = \"\"\"\n",
    "        Change in Apple Mobility Index (driving) along with New Case and Fatality updates for {}\n",
    "    \"\"\".format(' & '.join(regions))\n",
    "\n",
    "    wrapped_tweet = exc_logger.wrap(tweetbot.new_tweet)\n",
    "    wrapped_tweet(status)"
   ]
  },
  {
   "cell_type": "code",
   "execution_count": null,
   "metadata": {},
   "outputs": [],
   "source": [
    "### WAVE ANALYSIS ###\n",
    "print ('Creating Wave Analysis for ..')\n",
    "df_ex = casestudy.df[casestudy.df.country_code != 'BRA']\n",
    "df_braz = casestudy.df[casestudy.df.country_code == 'BRA']\n",
    "dfs = {'ex_BRA': df_ex, 'BRA': df_braz}\n",
    "\n",
    "for key, df in dfs.items():\n",
    "    for count_type in ['cases', 'deaths']:\n",
    "        comp_category = count_type + '_new_dma_per_1M'\n",
    "        wrappedfinder = exc_logger.wrap()(tweetbot.wavefinder)\n",
    "        wave_types, regions_str, end_date = wrappedfinder(df, comp_category, key)\n",
    "\n",
    "        for wave_type, regions in wave_types.items():\n",
    "            print ('\\t' + key + ': ' + wave_type)\n",
    "            title = ' '.join(wave_type.split('_')).title() + 's' + ' for {} - {}'.format(regions_str, end_date.strftime('%b %d'))\n",
    "\n",
    "            if len(regions) == 0:\n",
    "                pass\n",
    "            if len(regions) <= 4 and len(regions) > 0:\n",
    "                wrapped_chart = exc_logger.wrap()(tweetbot.multiline_comparison)\n",
    "                wrapped_chart(casestudy, comp_category, regions, title)\n",
    "\n",
    "            elif len(regions) > 4 and len(regions) <= 20:\n",
    "                wrapped_chart = exc_logger.wrap(tweetbot.scatterflow)\n",
    "                wrapped_chart(casestudy, comp_category, regions, title)\n",
    "\n",
    "        num_regions = df.region_name.unique().shape[0]\n",
    "        status = \"\"\"\n",
    "        Wave Update for New {}. Out of {} regions in {}, {} regions are experiencing a weak wave, {} are experiencing a sustained wave, and {} peaking. \n",
    "        \"\"\".format(\n",
    "            count_type.capitalize(), num_regions, regions_str,\n",
    "            len(wave_types['weak_wave']), \n",
    "            len(wave_types['sustained_wave']), \n",
    "                   str(len(wave_types['peak_wave'])) + ' is' if len(wave_types['peak_wave']) == 1 else str(len(wave_types['peak_wave'])) + ' are'\n",
    "        )\n",
    "        print (status)\n",
    "        wrapped_tweet = exc_logger.wrap(tweetbot.new_tweet)\n",
    "        wrapped_tweet(status)"
   ]
  },
  {
   "cell_type": "code",
   "execution_count": 46,
   "metadata": {},
   "outputs": [
    {
     "name": "stdout",
     "output_type": "stream",
     "text": [
      "Instantiate TweetBot\n"
     ]
    }
   ],
   "source": [
    "# instantiate TweetBot instance\n",
    "print ('Instantiate TweetBot')\n",
    "tweetbot = TweetBot(live=True, wait=False, wait_time=1)"
   ]
  },
  {
   "cell_type": "code",
   "execution_count": 47,
   "metadata": {},
   "outputs": [
    {
     "name": "stdout",
     "output_type": "stream",
     "text": [
      "Instantiating US CaseStudy\n",
      "Printing Positivity Bar ...\n"
     ]
    },
    {
     "data": {
      "image/png": "[encoded data removed]",
      "text/plain": [
       "<Figure size 864x288 with 1 Axes>"
      ]
     },
     "metadata": {
      "needs_background": "light"
     },
     "output_type": "display_data"
    }
   ],
   "source": [
    "### US POSITIVITY RATIO ###\n",
    "print ('Instantiating US CaseStudy')\n",
    "cs_usa = CaseStudy(\n",
    "    baseframe, countries='United States of America (the)',\n",
    "    start_hurdle=dt(2020,4,26), start_factor='date', count_dma=7,\n",
    "    min_deaths=1,\n",
    ")\n",
    "\n",
    "print ('Printing Positivity Bar ...')\n",
    "wrapped_chart = exc_logger.wrap(tweetbot.positivity_bar)\n",
    "wrapped_chart(cs_usa)"
   ]
  },
  {
   "cell_type": "code",
   "execution_count": 48,
   "metadata": {},
   "outputs": [],
   "source": [
    "status = \"\"\"Testing efficiency across the US #COVID19 #COVID #Covid19usa #coronavirus #c19\n",
    "\"\"\"\n",
    "wrapped_tweet = exc_logger.wrap(tweetbot.new_tweet)\n",
    "wrapped_tweet(status)"
   ]
  },
  {
   "cell_type": "code",
   "execution_count": 49,
   "metadata": {},
   "outputs": [
    {
     "name": "stdout",
     "output_type": "stream",
     "text": [
      "Making Positivity Race ...\n"
     ]
    },
    {
     "data": {
      "image/png": "[encoded data removed]",
      "text/plain": [
       "<Figure size 288x288 with 2 Axes>"
      ]
     },
     "metadata": {
      "needs_background": "light"
     },
     "output_type": "display_data"
    }
   ],
   "source": [
    "print ('Making Positivity Race ...')\n",
    "wrapped_chart = exc_logger.wrap(tweetbot.positivity_race)\n",
    "wrapped_chart(cs_usa)"
   ]
  },
  {
   "cell_type": "code",
   "execution_count": 50,
   "metadata": {},
   "outputs": [],
   "source": [
    "status = \"\"\"Positivity ratio in the most impacted US states in the past month  #covid19 #covid #c19 #coronavirus\n",
    "    \"\"\"\n",
    "wrapped_tweet = exc_logger.wrap(tweetbot.new_tweet)\n",
    "wrapped_tweet(status)"
   ]
  },
  {
   "cell_type": "code",
   "execution_count": 51,
   "metadata": {},
   "outputs": [
    {
     "name": "stdout",
     "output_type": "stream",
     "text": [
      "Instantiate country level CaseStudy for Strindex\n",
      "Printing Global strindex race\n"
     ]
    },
    {
     "data": {
      "image/png": "[encoded data removed]",
      "text/plain": [
       "<Figure size 432x288 with 2 Axes>"
      ]
     },
     "metadata": {
      "needs_background": "light"
     },
     "output_type": "display_data"
    }
   ],
   "source": [
    "### Country Level CaseStudy for Strindex ###\n",
    "print ('Instantiate country level CaseStudy for Strindex')\n",
    "factors_with_dmas = CaseStudy.STRINDEX_CATS\n",
    "factor_dmas = {factor: 5 for factor in factors_with_dmas}\n",
    "factors = factors_with_dmas + ['A65PLUSB']\n",
    "countries = [\n",
    "    'United States of America (the)', 'Japan', 'Korea (the Republic of)', \n",
    "    'Hong Kong', 'Australia', 'Taiwan (Province of China)',\n",
    "    'Canada', 'Mexico', 'Brazil', 'Spain', 'Germany', 'Italy', 'France',\n",
    "    'Malaysia', 'Singapore', 'Denmark', 'Sweden', 'Finland', \n",
    "]\n",
    "excluded_regions = ['Saint Pierre and Miquelon', 'Saint Barthelemy', 'Reunion', 'New Caledonia', 'Greenland',\n",
    "    'French Polynesia', 'French Guiana', 'Faroe Islands',\n",
    "]\n",
    "\n",
    "casestudy = CaseStudy(\n",
    "    baseframe, countries=countries, excluded_regions=excluded_regions, count_dma=3, factors=factors, \n",
    "    factor_dmas=factor_dmas, start_hurdle=dt(2020,1,15), start_factor='date', lognat=True,\n",
    "    min_deaths=1, country_level=True,\n",
    ")\n",
    "\n",
    "print ('Printing Global strindex race')\n",
    "wrapped_chart = exc_logger.wrap(tweetbot.strindex_race)\n",
    "wrapped_chart(casestudy)"
   ]
  },
  {
   "cell_type": "code",
   "execution_count": 52,
   "metadata": {},
   "outputs": [
    {
     "name": "stdout",
     "output_type": "stream",
     "text": [
      "All Tweets Complete!!!\n"
     ]
    }
   ],
   "source": [
    "status = \"\"\"Lighter shading towards the right of the graph shows the relaxing of quarantine in some countries #covid19 #covid #c19 #coronavirus\n",
    "\"\"\"\n",
    "wrapped_tweet = exc_logger.wrap(tweetbot.new_tweet)\n",
    "wrapped_tweet(status)\n",
    "\n",
    "print ('All Tweets Complete!!!')\n"
   ]
  },
  {
   "cell_type": "code",
   "execution_count": null,
   "metadata": {},
   "outputs": [],
   "source": []
  }
 ],
 "metadata": {
  "kernelspec": {
   "display_name": "Django Shell-Plus",
   "language": "python",
   "name": "django_extensions"
  },
  "language_info": {
   "codemirror_mode": {
    "name": "ipython",
    "version": 3
   },
   "file_extension": ".py",
   "mimetype": "text/x-python",
   "name": "python",
   "nbconvert_exporter": "python",
   "pygments_lexer": "ipython3",
   "version": "3.7.7"
  }
 },
 "nbformat": 4,
 "nbformat_minor": 4
}
