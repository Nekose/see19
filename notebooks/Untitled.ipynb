{
 "cells": [
  {
   "cell_type": "code",
   "execution_count": 1,
   "metadata": {},
   "outputs": [],
   "source": [
    "%load_ext autoreload\n",
    "%autoreload 2"
   ]
  },
  {
   "cell_type": "code",
   "execution_count": 2,
   "metadata": {},
   "outputs": [],
   "source": [
    "import os\n",
    "os.environ[\"DJANGO_ALLOW_ASYNC_UNSAFE\"] = \"true\""
   ]
  },
  {
   "cell_type": "code",
   "execution_count": 3,
   "metadata": {},
   "outputs": [],
   "source": [
    "from datetime import datetime as dt, timedelta\n",
    "import numpy as np\n",
    "import pandas as pd\n",
    "from bokeh.io import show, output_notebook\n",
    "from zooscraper.globals import max_bulk_create\n",
    "from casestudy.models import Deaths, Cases, Tests, Measurements, Pollutant, Hospitalizations"
   ]
  },
  {
   "cell_type": "code",
   "execution_count": 4,
   "metadata": {},
   "outputs": [],
   "source": [
    "from datetime import datetime as dt, timedelta\n",
    "import pandas as pd\n",
    "from decouple import config"
   ]
  },
  {
   "cell_type": "code",
   "execution_count": 5,
   "metadata": {},
   "outputs": [],
   "source": [
    "from django.db import IntegrityError"
   ]
  },
  {
   "cell_type": "code",
   "execution_count": 6,
   "metadata": {},
   "outputs": [],
   "source": [
    "# from casestudy.see19.see19 import CaseStudy, get_baseframe\n",
    "from see19.constants import COUNT_TYPES"
   ]
  },
  {
   "cell_type": "code",
   "execution_count": 7,
   "metadata": {},
   "outputs": [],
   "source": [
    "from casestudy.update import pull"
   ]
  },
  {
   "cell_type": "code",
   "execution_count": 8,
   "metadata": {},
   "outputs": [],
   "source": [
    "from casestudy.update import auto, test, push"
   ]
  },
  {
   "cell_type": "code",
   "execution_count": 9,
   "metadata": {},
   "outputs": [],
   "source": [
    "from casestudy.update.funcs import gmobi"
   ]
  },
  {
   "cell_type": "code",
   "execution_count": 10,
   "metadata": {},
   "outputs": [],
   "source": [
    "from casestudy.update.baseframe import BaseMaker, Tester\n",
    "from casestudy.update.helpers import test_duplicate_dates, test_region_consistency, test_region_nan"
   ]
  },
  {
   "cell_type": "code",
   "execution_count": 47,
   "metadata": {},
   "outputs": [],
   "source": [
    "tester = Tester()"
   ]
  },
  {
   "cell_type": "code",
   "execution_count": 48,
   "metadata": {
    "scrolled": true
   },
   "outputs": [
    {
     "name": "stdout",
     "output_type": "stream",
     "text": [
      "adding cases\n",
      "adding tests\n",
      "adding pollutants\n",
      "backfill time-static data\n",
      "adding measurements\n",
      "adding strindex\n",
      "adding Google Mobility\n",
      "adding Apple Mobility\n",
      "adding Causes of Death\n",
      "adding Travel popularity\n",
      "adding GDP\n"
     ]
    }
   ],
   "source": [
    "tester.make(test_duplicate_dates)"
   ]
  },
  {
   "cell_type": "code",
   "execution_count": 19,
   "metadata": {},
   "outputs": [
    {
     "name": "stdout",
     "output_type": "stream",
     "text": [
      "Merge logs...\n",
      "Reading merged log file...\n",
      "No critical errors. Saving baseframe to disk.\n",
      "adding cases\n",
      "adding tests\n",
      "adding pollutants\n",
      "backfill time-static data\n",
      "adding measurements\n",
      "adding strindex\n",
      "adding Google Mobility\n",
      "adding Apple Mobility\n",
      "adding Causes of Death\n",
      "adding Travel popularity\n",
      "adding GDP\n",
      "saving testset\n",
      "COMPLETE\n",
      "Updating readme\n",
      "push to git\n"
     ]
    },
    {
     "name": "stderr",
     "output_type": "stream",
     "text": [
      "/Users/spindicate/Documents/programming/envs/zooenv/lib/python3.7/site-packages/nbconvert/filters/datatypefilter.py:41: UserWarning: Your element with mimetype(s) dict_keys(['application/javascript', 'application/vnd.bokehjs_load.v0+json']) is not able to be represented.\n",
      "  mimetypes=output.keys())\n",
      "/Users/spindicate/Documents/programming/envs/zooenv/lib/python3.7/site-packages/nbconvert/filters/datatypefilter.py:41: UserWarning: Your element with mimetype(s) dict_keys(['application/javascript', 'application/vnd.bokehjs_exec.v0+json']) is not able to be represented.\n",
      "  mimetypes=output.keys())\n"
     ]
    },
    {
     "ename": "GitCommandError",
     "evalue": "Cmd('git') failed due to: exit code(1)\n  cmdline: git subtree --prefix=casestudy/see19/ push see19 master\n  stdout: 'git push using:  see19 master'\n  stderr: '1/     213 (0) [0]\r2/     213 (0) [0]\r3/     213 (0) [0]\r3/     213 (1) [1]\r3/     213 (1) [2]\r4/     213 (1) [2]\r5/     213 (2) [2]\r6/     213 (3) [2]\r7/     213 (4) [2]\r8/     213 (5) [2]\r9/     213 (6) [2]\r10/     213 (7) [2]\r11/     213 (8) [2]\r12/     213 (9) [2]\r13/     213 (10) [2]\r14/     213 (11) [2]\r15/     213 (12) [2]\r16/     213 (13) [2]\r17/     213 (14) [2]\r18/     213 (15) [2]\r19/     213 (16) [2]\r20/     213 (17) [2]\r21/     213 (18) [2]\r22/     213 (19) [2]\r23/     213 (20) [2]\r24/     213 (21) [2]\r25/     213 (22) [2]\r26/     213 (23) [2]\r27/     213 (24) [2]\r28/     213 (25) [2]\r29/     213 (26) [2]\r30/     213 (27) [2]\r31/     213 (28) [2]\r32/     213 (29) [2]\r33/     213 (30) [2]\r34/     213 (31) [2]\r35/     213 (32) [2]\r36/     213 (33) [2]\r37/     213 (34) [2]\r38/     213 (35) [2]\r39/     213 (36) [2]\r40/     213 (37) [2]\r41/     213 (38) [2]\r42/     213 (39) [2]\r43/     213 (40) [2]\r44/     213 (41) [2]\r45/     213 (42) [2]\r46/     213 (43) [2]\r47/     213 (44) [2]\r48/     213 (45) [2]\r49/     213 (46) [2]\r50/     213 (47) [2]\r51/     213 (48) [2]\r52/     213 (49) [2]\r53/     213 (50) [2]\r54/     213 (51) [2]\r55/     213 (52) [2]\r56/     213 (53) [2]\r57/     213 (54) [2]\r58/     213 (55) [2]\r59/     213 (56) [2]\r60/     213 (57) [2]\r61/     213 (58) [2]\r62/     213 (59) [2]\r63/     213 (60) [2]\r64/     213 (61) [2]\r65/     213 (62) [2]\r66/     213 (63) [2]\r67/     213 (64) [2]\r68/     213 (65) [2]\r69/     213 (66) [2]\r70/     213 (67) [2]\r71/     213 (68) [2]\r72/     213 (69) [2]\r73/     213 (70) [2]\r74/     213 (71) [2]\r75/     213 (72) [2]\r76/     213 (73) [2]\r77/     213 (74) [2]\r78/     213 (75) [2]\r79/     213 (76) [2]\r80/     213 (77) [2]\r81/     213 (78) [2]\r82/     213 (79) [2]\r83/     213 (80) [2]\r84/     213 (81) [2]\r85/     213 (82) [2]\r86/     213 (83) [2]\r87/     213 (84) [2]\r88/     213 (85) [2]\r89/     213 (86) [2]\r90/     213 (87) [2]\r91/     213 (88) [2]\r92/     213 (89) [2]\r93/     213 (90) [2]\r94/     213 (91) [2]\r95/     213 (92) [2]\r96/     213 (93) [2]\r97/     213 (94) [2]\r98/     213 (95) [2]\r99/     213 (96) [2]\r100/     213 (97) [2]\r101/     213 (98) [2]\r102/     213 (99) [2]\r103/     213 (100) [2]\r104/     213 (101) [2]\r104/     213 (102) [3]\r105/     213 (102) [3]\r106/     213 (103) [3]\r107/     213 (104) [3]\r108/     213 (105) [3]\r109/     213 (106) [3]\r110/     213 (107) [3]\r111/     213 (108) [3]\r112/     213 (109) [3]\r113/     213 (110) [3]\r114/     213 (111) [3]\r115/     213 (112) [3]\r116/     213 (113) [3]\r117/     213 (114) [3]\r118/     213 (115) [3]\r119/     213 (116) [3]\r120/     213 (117) [3]\r121/     213 (118) [3]\r122/     213 (119) [3]\r123/     213 (120) [3]\r124/     213 (121) [3]\r125/     213 (122) [3]\r126/     213 (123) [3]\r127/     213 (124) [3]\r128/     213 (125) [3]\r129/     213 (126) [3]\r130/     213 (127) [3]\r130/     213 (128) [4]\r131/     213 (128) [4]\r132/     213 (129) [4]\r133/     213 (130) [4]\r134/     213 (131) [4]\r135/     213 (132) [4]\r136/     213 (133) [4]\r137/     213 (134) [4]\r138/     213 (135) [4]\r139/     213 (136) [4]\r140/     213 (137) [4]\r141/     213 (138) [4]\r142/     213 (139) [4]\r143/     213 (140) [4]\r144/     213 (141) [4]\r145/     213 (142) [4]\r146/     213 (143) [4]\r147/     213 (144) [4]\r148/     213 (145) [4]\r149/     213 (146) [4]\r150/     213 (147) [4]\r151/     213 (148) [4]\r152/     213 (149) [4]\r153/     213 (150) [4]\r154/     213 (151) [4]\r155/     213 (152) [4]\r156/     213 (153) [4]\r157/     213 (154) [4]\r158/     213 (155) [4]\r159/     213 (156) [4]\r160/     213 (157) [4]\r161/     213 (158) [4]\r162/     213 (159) [4]\r162/     213 (160) [5]\r163/     213 (160) [5]\r164/     213 (161) [5]\r165/     213 (162) [5]\r166/     213 (163) [5]\r167/     213 (164) [5]\r168/     213 (165) [5]\r169/     213 (166) [5]\r170/     213 (167) [5]\r171/     213 (168) [5]\r172/     213 (169) [5]\r173/     213 (170) [5]\r174/     213 (171) [5]\r175/     213 (172) [5]\r176/     213 (173) [5]\r177/     213 (174) [5]\r178/     213 (175) [5]\r178/     213 (176) [6]\r179/     213 (176) [6]\r180/     213 (177) [6]\r181/     213 (178) [6]\r182/     213 (179) [6]\r183/     213 (180) [6]\r184/     213 (181) [6]\r185/     213 (182) [6]\r186/     213 (183) [6]\r187/     213 (184) [6]\r188/     213 (185) [6]\r189/     213 (186) [6]\r190/     213 (187) [6]\r190/     213 (188) [7]\r191/     213 (188) [7]\r192/     213 (189) [7]\r193/     213 (190) [7]\r194/     213 (191) [7]\r195/     213 (192) [7]\r196/     213 (193) [7]\r197/     213 (194) [7]\r198/     213 (195) [7]\r199/     213 (196) [7]\r200/     213 (197) [7]\r201/     213 (198) [7]\r202/     213 (199) [7]\r203/     213 (200) [7]\r204/     213 (201) [7]\r205/     213 (202) [7]\r206/     213 (203) [7]\r207/     213 (204) [7]\r208/     213 (205) [7]\r209/     213 (206) [7]\r210/     213 (207) [7]\r211/     213 (208) [7]\r212/     213 (209) [7]\r213/     213 (210) [7]\rTo github.com:ryanskene/see19.git\n ! [rejected]        2ef60ded8dfb762759269ff7a43ffd10f645960c -> master (non-fast-forward)\nerror: failed to push some refs to 'github.com:ryanskene/see19.git'\nhint: Updates were rejected because the tip of your current branch is behind\nhint: its remote counterpart. Integrate the remote changes (e.g.\nhint: 'git pull ...') before pushing again.\nhint: See the 'Note about fast-forwards' in 'git push --help' for details.'",
     "output_type": "error",
     "traceback": [
      "\u001b[0;31m---------------------------------------------------------------------------\u001b[0m",
      "\u001b[0;31mGitCommandError\u001b[0m                           Traceback (most recent call last)",
      "\u001b[0;32m<ipython-input-19-f0e355a7429e>\u001b[0m in \u001b[0;36m<module>\u001b[0;34m\u001b[0m\n\u001b[0;32m----> 1\u001b[0;31m \u001b[0mpush\u001b[0m\u001b[0;34m(\u001b[0m\u001b[0;34m)\u001b[0m\u001b[0;34m\u001b[0m\u001b[0;34m\u001b[0m\u001b[0m\n\u001b[0m",
      "\u001b[0;32m~/Documents/programming/zooscraper/casestudy/update/auto.py\u001b[0m in \u001b[0;36mpush\u001b[0;34m(test)\u001b[0m\n\u001b[1;32m    126\u001b[0m         \u001b[0;32mif\u001b[0m \u001b[0;32mnot\u001b[0m \u001b[0mtest\u001b[0m\u001b[0;34m:\u001b[0m\u001b[0;34m\u001b[0m\u001b[0;34m\u001b[0m\u001b[0m\n\u001b[1;32m    127\u001b[0m             \u001b[0mprint\u001b[0m \u001b[0;34m(\u001b[0m\u001b[0;34m'push to git'\u001b[0m\u001b[0;34m)\u001b[0m\u001b[0;34m\u001b[0m\u001b[0;34m\u001b[0m\u001b[0m\n\u001b[0;32m--> 128\u001b[0;31m             \u001b[0mgit_push\u001b[0m\u001b[0;34m(\u001b[0m\u001b[0;34m)\u001b[0m\u001b[0;34m\u001b[0m\u001b[0;34m\u001b[0m\u001b[0m\n\u001b[0m\u001b[1;32m    129\u001b[0m             \u001b[0mprint\u001b[0m \u001b[0;34m(\u001b[0m\u001b[0;34m'send log email'\u001b[0m\u001b[0;34m)\u001b[0m\u001b[0;34m\u001b[0m\u001b[0;34m\u001b[0m\u001b[0m\n\u001b[1;32m    130\u001b[0m             \u001b[0mlog_email\u001b[0m\u001b[0;34m(\u001b[0m\u001b[0mLOGS_PATH\u001b[0m \u001b[0;34m+\u001b[0m \u001b[0mfilename\u001b[0m\u001b[0;34m)\u001b[0m\u001b[0;34m\u001b[0m\u001b[0;34m\u001b[0m\u001b[0m\n",
      "\u001b[0;32m~/Documents/programming/zooscraper/casestudy/update/helpers.py\u001b[0m in \u001b[0;36mgit_push\u001b[0;34m(style)\u001b[0m\n\u001b[1;32m    107\u001b[0m \u001b[0;34m\u001b[0m\u001b[0m\n\u001b[1;32m    108\u001b[0m         \u001b[0;32mif\u001b[0m \u001b[0;32mnot\u001b[0m \u001b[0mconfig\u001b[0m\u001b[0;34m(\u001b[0m\u001b[0;34m'HEROKU'\u001b[0m\u001b[0;34m,\u001b[0m \u001b[0mcast\u001b[0m\u001b[0;34m=\u001b[0m\u001b[0mbool\u001b[0m\u001b[0;34m)\u001b[0m\u001b[0;34m:\u001b[0m\u001b[0;34m\u001b[0m\u001b[0;34m\u001b[0m\u001b[0m\n\u001b[0;32m--> 109\u001b[0;31m             \u001b[0mrepo\u001b[0m\u001b[0;34m.\u001b[0m\u001b[0mgit\u001b[0m\u001b[0;34m.\u001b[0m\u001b[0msubtree\u001b[0m\u001b[0;34m(\u001b[0m\u001b[0;34m'push'\u001b[0m\u001b[0;34m,\u001b[0m \u001b[0;34m'see19'\u001b[0m\u001b[0;34m,\u001b[0m \u001b[0;34m'master'\u001b[0m\u001b[0;34m,\u001b[0m \u001b[0mprefix\u001b[0m\u001b[0;34m=\u001b[0m\u001b[0;34m'casestudy/see19/'\u001b[0m\u001b[0;34m)\u001b[0m\u001b[0;34m\u001b[0m\u001b[0;34m\u001b[0m\u001b[0m\n\u001b[0m\u001b[1;32m    110\u001b[0m \u001b[0;34m\u001b[0m\u001b[0m\n\u001b[1;32m    111\u001b[0m \u001b[0;32mdef\u001b[0m \u001b[0mlog_email\u001b[0m\u001b[0;34m(\u001b[0m\u001b[0mfilename\u001b[0m\u001b[0;34m=\u001b[0m\u001b[0;32mNone\u001b[0m\u001b[0;34m,\u001b[0m \u001b[0mcritical\u001b[0m\u001b[0;34m=\u001b[0m\u001b[0;32mFalse\u001b[0m\u001b[0;34m)\u001b[0m\u001b[0;34m:\u001b[0m\u001b[0;34m\u001b[0m\u001b[0;34m\u001b[0m\u001b[0m\n",
      "\u001b[0;32m~/Documents/programming/envs/zooenv/lib/python3.7/site-packages/git/cmd.py\u001b[0m in \u001b[0;36m<lambda>\u001b[0;34m(*args, **kwargs)\u001b[0m\n\u001b[1;32m    540\u001b[0m         \u001b[0;32mif\u001b[0m \u001b[0mname\u001b[0m\u001b[0;34m[\u001b[0m\u001b[0;36m0\u001b[0m\u001b[0;34m]\u001b[0m \u001b[0;34m==\u001b[0m \u001b[0;34m'_'\u001b[0m\u001b[0;34m:\u001b[0m\u001b[0;34m\u001b[0m\u001b[0;34m\u001b[0m\u001b[0m\n\u001b[1;32m    541\u001b[0m             \u001b[0;32mreturn\u001b[0m \u001b[0mLazyMixin\u001b[0m\u001b[0;34m.\u001b[0m\u001b[0m__getattr__\u001b[0m\u001b[0;34m(\u001b[0m\u001b[0mself\u001b[0m\u001b[0;34m,\u001b[0m \u001b[0mname\u001b[0m\u001b[0;34m)\u001b[0m\u001b[0;34m\u001b[0m\u001b[0;34m\u001b[0m\u001b[0m\n\u001b[0;32m--> 542\u001b[0;31m         \u001b[0;32mreturn\u001b[0m \u001b[0;32mlambda\u001b[0m \u001b[0;34m*\u001b[0m\u001b[0margs\u001b[0m\u001b[0;34m,\u001b[0m \u001b[0;34m**\u001b[0m\u001b[0mkwargs\u001b[0m\u001b[0;34m:\u001b[0m \u001b[0mself\u001b[0m\u001b[0;34m.\u001b[0m\u001b[0m_call_process\u001b[0m\u001b[0;34m(\u001b[0m\u001b[0mname\u001b[0m\u001b[0;34m,\u001b[0m \u001b[0;34m*\u001b[0m\u001b[0margs\u001b[0m\u001b[0;34m,\u001b[0m \u001b[0;34m**\u001b[0m\u001b[0mkwargs\u001b[0m\u001b[0;34m)\u001b[0m\u001b[0;34m\u001b[0m\u001b[0;34m\u001b[0m\u001b[0m\n\u001b[0m\u001b[1;32m    543\u001b[0m \u001b[0;34m\u001b[0m\u001b[0m\n\u001b[1;32m    544\u001b[0m     \u001b[0;32mdef\u001b[0m \u001b[0mset_persistent_git_options\u001b[0m\u001b[0;34m(\u001b[0m\u001b[0mself\u001b[0m\u001b[0;34m,\u001b[0m \u001b[0;34m**\u001b[0m\u001b[0mkwargs\u001b[0m\u001b[0;34m)\u001b[0m\u001b[0;34m:\u001b[0m\u001b[0;34m\u001b[0m\u001b[0;34m\u001b[0m\u001b[0m\n",
      "\u001b[0;32m~/Documents/programming/envs/zooenv/lib/python3.7/site-packages/git/cmd.py\u001b[0m in \u001b[0;36m_call_process\u001b[0;34m(self, method, *args, **kwargs)\u001b[0m\n\u001b[1;32m   1003\u001b[0m         \u001b[0mcall\u001b[0m\u001b[0;34m.\u001b[0m\u001b[0mextend\u001b[0m\u001b[0;34m(\u001b[0m\u001b[0margs\u001b[0m\u001b[0;34m)\u001b[0m\u001b[0;34m\u001b[0m\u001b[0;34m\u001b[0m\u001b[0m\n\u001b[1;32m   1004\u001b[0m \u001b[0;34m\u001b[0m\u001b[0m\n\u001b[0;32m-> 1005\u001b[0;31m         \u001b[0;32mreturn\u001b[0m \u001b[0mself\u001b[0m\u001b[0;34m.\u001b[0m\u001b[0mexecute\u001b[0m\u001b[0;34m(\u001b[0m\u001b[0mcall\u001b[0m\u001b[0;34m,\u001b[0m \u001b[0;34m**\u001b[0m\u001b[0mexec_kwargs\u001b[0m\u001b[0;34m)\u001b[0m\u001b[0;34m\u001b[0m\u001b[0;34m\u001b[0m\u001b[0m\n\u001b[0m\u001b[1;32m   1006\u001b[0m \u001b[0;34m\u001b[0m\u001b[0m\n\u001b[1;32m   1007\u001b[0m     \u001b[0;32mdef\u001b[0m \u001b[0m_parse_object_header\u001b[0m\u001b[0;34m(\u001b[0m\u001b[0mself\u001b[0m\u001b[0;34m,\u001b[0m \u001b[0mheader_line\u001b[0m\u001b[0;34m)\u001b[0m\u001b[0;34m:\u001b[0m\u001b[0;34m\u001b[0m\u001b[0;34m\u001b[0m\u001b[0m\n",
      "\u001b[0;32m~/Documents/programming/envs/zooenv/lib/python3.7/site-packages/git/cmd.py\u001b[0m in \u001b[0;36mexecute\u001b[0;34m(self, command, istream, with_extended_output, with_exceptions, as_process, output_stream, stdout_as_string, kill_after_timeout, with_stdout, universal_newlines, shell, env, max_chunk_size, **subprocess_kwargs)\u001b[0m\n\u001b[1;32m    820\u001b[0m \u001b[0;34m\u001b[0m\u001b[0m\n\u001b[1;32m    821\u001b[0m         \u001b[0;32mif\u001b[0m \u001b[0mwith_exceptions\u001b[0m \u001b[0;32mand\u001b[0m \u001b[0mstatus\u001b[0m \u001b[0;34m!=\u001b[0m \u001b[0;36m0\u001b[0m\u001b[0;34m:\u001b[0m\u001b[0;34m\u001b[0m\u001b[0;34m\u001b[0m\u001b[0m\n\u001b[0;32m--> 822\u001b[0;31m             \u001b[0;32mraise\u001b[0m \u001b[0mGitCommandError\u001b[0m\u001b[0;34m(\u001b[0m\u001b[0mcommand\u001b[0m\u001b[0;34m,\u001b[0m \u001b[0mstatus\u001b[0m\u001b[0;34m,\u001b[0m \u001b[0mstderr_value\u001b[0m\u001b[0;34m,\u001b[0m \u001b[0mstdout_value\u001b[0m\u001b[0;34m)\u001b[0m\u001b[0;34m\u001b[0m\u001b[0;34m\u001b[0m\u001b[0m\n\u001b[0m\u001b[1;32m    823\u001b[0m \u001b[0;34m\u001b[0m\u001b[0m\n\u001b[1;32m    824\u001b[0m         \u001b[0;32mif\u001b[0m \u001b[0misinstance\u001b[0m\u001b[0;34m(\u001b[0m\u001b[0mstdout_value\u001b[0m\u001b[0;34m,\u001b[0m \u001b[0mbytes\u001b[0m\u001b[0;34m)\u001b[0m \u001b[0;32mand\u001b[0m \u001b[0mstdout_as_string\u001b[0m\u001b[0;34m:\u001b[0m  \u001b[0;31m# could also be output_stream\u001b[0m\u001b[0;34m\u001b[0m\u001b[0;34m\u001b[0m\u001b[0m\n",
      "\u001b[0;31mGitCommandError\u001b[0m: Cmd('git') failed due to: exit code(1)\n  cmdline: git subtree --prefix=casestudy/see19/ push see19 master\n  stdout: 'git push using:  see19 master'\n  stderr: '1/     213 (0) [0]\r2/     213 (0) [0]\r3/     213 (0) [0]\r3/     213 (1) [1]\r3/     213 (1) [2]\r4/     213 (1) [2]\r5/     213 (2) [2]\r6/     213 (3) [2]\r7/     213 (4) [2]\r8/     213 (5) [2]\r9/     213 (6) [2]\r10/     213 (7) [2]\r11/     213 (8) [2]\r12/     213 (9) [2]\r13/     213 (10) [2]\r14/     213 (11) [2]\r15/     213 (12) [2]\r16/     213 (13) [2]\r17/     213 (14) [2]\r18/     213 (15) [2]\r19/     213 (16) [2]\r20/     213 (17) [2]\r21/     213 (18) [2]\r22/     213 (19) [2]\r23/     213 (20) [2]\r24/     213 (21) [2]\r25/     213 (22) [2]\r26/     213 (23) [2]\r27/     213 (24) [2]\r28/     213 (25) [2]\r29/     213 (26) [2]\r30/     213 (27) [2]\r31/     213 (28) [2]\r32/     213 (29) [2]\r33/     213 (30) [2]\r34/     213 (31) [2]\r35/     213 (32) [2]\r36/     213 (33) [2]\r37/     213 (34) [2]\r38/     213 (35) [2]\r39/     213 (36) [2]\r40/     213 (37) [2]\r41/     213 (38) [2]\r42/     213 (39) [2]\r43/     213 (40) [2]\r44/     213 (41) [2]\r45/     213 (42) [2]\r46/     213 (43) [2]\r47/     213 (44) [2]\r48/     213 (45) [2]\r49/     213 (46) [2]\r50/     213 (47) [2]\r51/     213 (48) [2]\r52/     213 (49) [2]\r53/     213 (50) [2]\r54/     213 (51) [2]\r55/     213 (52) [2]\r56/     213 (53) [2]\r57/     213 (54) [2]\r58/     213 (55) [2]\r59/     213 (56) [2]\r60/     213 (57) [2]\r61/     213 (58) [2]\r62/     213 (59) [2]\r63/     213 (60) [2]\r64/     213 (61) [2]\r65/     213 (62) [2]\r66/     213 (63) [2]\r67/     213 (64) [2]\r68/     213 (65) [2]\r69/     213 (66) [2]\r70/     213 (67) [2]\r71/     213 (68) [2]\r72/     213 (69) [2]\r73/     213 (70) [2]\r74/     213 (71) [2]\r75/     213 (72) [2]\r76/     213 (73) [2]\r77/     213 (74) [2]\r78/     213 (75) [2]\r79/     213 (76) [2]\r80/     213 (77) [2]\r81/     213 (78) [2]\r82/     213 (79) [2]\r83/     213 (80) [2]\r84/     213 (81) [2]\r85/     213 (82) [2]\r86/     213 (83) [2]\r87/     213 (84) [2]\r88/     213 (85) [2]\r89/     213 (86) [2]\r90/     213 (87) [2]\r91/     213 (88) [2]\r92/     213 (89) [2]\r93/     213 (90) [2]\r94/     213 (91) [2]\r95/     213 (92) [2]\r96/     213 (93) [2]\r97/     213 (94) [2]\r98/     213 (95) [2]\r99/     213 (96) [2]\r100/     213 (97) [2]\r101/     213 (98) [2]\r102/     213 (99) [2]\r103/     213 (100) [2]\r104/     213 (101) [2]\r104/     213 (102) [3]\r105/     213 (102) [3]\r106/     213 (103) [3]\r107/     213 (104) [3]\r108/     213 (105) [3]\r109/     213 (106) [3]\r110/     213 (107) [3]\r111/     213 (108) [3]\r112/     213 (109) [3]\r113/     213 (110) [3]\r114/     213 (111) [3]\r115/     213 (112) [3]\r116/     213 (113) [3]\r117/     213 (114) [3]\r118/     213 (115) [3]\r119/     213 (116) [3]\r120/     213 (117) [3]\r121/     213 (118) [3]\r122/     213 (119) [3]\r123/     213 (120) [3]\r124/     213 (121) [3]\r125/     213 (122) [3]\r126/     213 (123) [3]\r127/     213 (124) [3]\r128/     213 (125) [3]\r129/     213 (126) [3]\r130/     213 (127) [3]\r130/     213 (128) [4]\r131/     213 (128) [4]\r132/     213 (129) [4]\r133/     213 (130) [4]\r134/     213 (131) [4]\r135/     213 (132) [4]\r136/     213 (133) [4]\r137/     213 (134) [4]\r138/     213 (135) [4]\r139/     213 (136) [4]\r140/     213 (137) [4]\r141/     213 (138) [4]\r142/     213 (139) [4]\r143/     213 (140) [4]\r144/     213 (141) [4]\r145/     213 (142) [4]\r146/     213 (143) [4]\r147/     213 (144) [4]\r148/     213 (145) [4]\r149/     213 (146) [4]\r150/     213 (147) [4]\r151/     213 (148) [4]\r152/     213 (149) [4]\r153/     213 (150) [4]\r154/     213 (151) [4]\r155/     213 (152) [4]\r156/     213 (153) [4]\r157/     213 (154) [4]\r158/     213 (155) [4]\r159/     213 (156) [4]\r160/     213 (157) [4]\r161/     213 (158) [4]\r162/     213 (159) [4]\r162/     213 (160) [5]\r163/     213 (160) [5]\r164/     213 (161) [5]\r165/     213 (162) [5]\r166/     213 (163) [5]\r167/     213 (164) [5]\r168/     213 (165) [5]\r169/     213 (166) [5]\r170/     213 (167) [5]\r171/     213 (168) [5]\r172/     213 (169) [5]\r173/     213 (170) [5]\r174/     213 (171) [5]\r175/     213 (172) [5]\r176/     213 (173) [5]\r177/     213 (174) [5]\r178/     213 (175) [5]\r178/     213 (176) [6]\r179/     213 (176) [6]\r180/     213 (177) [6]\r181/     213 (178) [6]\r182/     213 (179) [6]\r183/     213 (180) [6]\r184/     213 (181) [6]\r185/     213 (182) [6]\r186/     213 (183) [6]\r187/     213 (184) [6]\r188/     213 (185) [6]\r189/     213 (186) [6]\r190/     213 (187) [6]\r190/     213 (188) [7]\r191/     213 (188) [7]\r192/     213 (189) [7]\r193/     213 (190) [7]\r194/     213 (191) [7]\r195/     213 (192) [7]\r196/     213 (193) [7]\r197/     213 (194) [7]\r198/     213 (195) [7]\r199/     213 (196) [7]\r200/     213 (197) [7]\r201/     213 (198) [7]\r202/     213 (199) [7]\r203/     213 (200) [7]\r204/     213 (201) [7]\r205/     213 (202) [7]\r206/     213 (203) [7]\r207/     213 (204) [7]\r208/     213 (205) [7]\r209/     213 (206) [7]\r210/     213 (207) [7]\r211/     213 (208) [7]\r212/     213 (209) [7]\r213/     213 (210) [7]\rTo github.com:ryanskene/see19.git\n ! [rejected]        2ef60ded8dfb762759269ff7a43ffd10f645960c -> master (non-fast-forward)\nerror: failed to push some refs to 'github.com:ryanskene/see19.git'\nhint: Updates were rejected because the tip of your current branch is behind\nhint: its remote counterpart. Integrate the remote changes (e.g.\nhint: 'git pull ...') before pushing again.\nhint: See the 'Note about fast-forwards' in 'git push --help' for details.'"
     ]
    }
   ],
   "source": [
    "push()"
   ]
  },
  {
   "cell_type": "code",
   "execution_count": null,
   "metadata": {},
   "outputs": [],
   "source": []
  }
 ],
 "metadata": {
  "kernelspec": {
   "display_name": "Django Shell-Plus",
   "language": "python",
   "name": "django_extensions"
  },
  "language_info": {
   "codemirror_mode": {
    "name": "ipython",
    "version": 3
   },
   "file_extension": ".py",
   "mimetype": "text/x-python",
   "name": "python",
   "nbconvert_exporter": "python",
   "pygments_lexer": "ipython3",
   "version": "3.7.7"
  }
 },
 "nbformat": 4,
 "nbformat_minor": 4
}
