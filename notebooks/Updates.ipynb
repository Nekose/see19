{
 "cells": [
  {
   "cell_type": "code",
   "execution_count": 1,
   "metadata": {},
   "outputs": [],
   "source": [
    "import os\n",
    "os.environ[\"DJANGO_ALLOW_ASYNC_UNSAFE\"] = \"true\""
   ]
  },
  {
   "cell_type": "code",
   "execution_count": 2,
   "metadata": {},
   "outputs": [],
   "source": [
    "%load_ext autoreload\n",
    "%autoreload 2"
   ]
  },
  {
   "cell_type": "code",
   "execution_count": 13,
   "metadata": {},
   "outputs": [],
   "source": [
    "from datetime import datetime as dt"
   ]
  },
  {
   "cell_type": "code",
   "execution_count": 3,
   "metadata": {},
   "outputs": [],
   "source": [
    "from decouple import config"
   ]
  },
  {
   "cell_type": "code",
   "execution_count": 4,
   "metadata": {},
   "outputs": [],
   "source": [
    "from casestudy.update import pull, test, push"
   ]
  },
  {
   "cell_type": "code",
   "execution_count": 48,
   "metadata": {},
   "outputs": [
    {
     "name": "stdout",
     "output_type": "stream",
     "text": [
      "Instantiate new exception logger\n",
      "Running italy\n",
      "Running braz\n",
      "Running US\n",
      "Running rest\n",
      "Running austests\n",
      "Running cadtests\n",
      "Running ustests\n",
      "Running resttests\n",
      "Running strindex\n",
      "Running gmobi\n"
     ]
    },
    {
     "name": "stderr",
     "output_type": "stream",
     "text": [
      "/Users/spindicate/Documents/programming/envs/zooenv/lib/python3.7/site-packages/ipykernel_launcher.py:1: DtypeWarning: Columns (3) have mixed types.Specify dtype option on import or set low_memory=False.\n",
      "  \"\"\"Entry point for launching an IPython kernel.\n"
     ]
    },
    {
     "name": "stdout",
     "output_type": "stream",
     "text": [
      "Aruba AW\n",
      "Cote d'Ivoire \n",
      "Cape Verde CV\n",
      "Laos LA\n",
      "North Macedonia MK\n",
      "Réunion RE\n",
      "Tajikistan TJ\n",
      "Running amobi\n",
      "Instantiating Chrome WebDriver...\n",
      "Running msmts\n",
      "Exception('no data is available within your requested subset. Request returned no data.')\n",
      "Running pollutants\n"
     ]
    }
   ],
   "source": [
    "pull()"
   ]
  },
  {
   "cell_type": "code",
   "execution_count": 49,
   "metadata": {},
   "outputs": [
    {
     "name": "stdout",
     "output_type": "stream",
     "text": [
      "Instantiate new exception logger\n",
      "making baseframe\n",
      "initializing\n",
      "adding fatalities\n",
      "adding cases\n",
      "adding tests\n",
      "adding pollutants\n",
      "here????????\n",
      "here?\n",
      "adding measurements\n",
      "backfill time-static data\n",
      "adding strindex\n",
      "adding Google Mobility\n",
      "adding Apple Mobility\n",
      "adding Causes of Death\n",
      "adding Travel popularity\n",
      "adding GDP\n",
      "COMPLETE\n",
      "Region Consistency test\n",
      "Not Na test for cases\n",
      "Not Na test for deaths\n",
      "Not Na test for tests\n",
      "Exception(' ...Failing Regions: [407]')\n",
      "Casestudy tests...\n",
      "Test duplicate dates\n",
      "Test duplicate days\n",
      "Test negative days\n"
     ]
    }
   ],
   "source": [
    "test()"
   ]
  },
  {
   "cell_type": "code",
   "execution_count": 51,
   "metadata": {},
   "outputs": [
    {
     "name": "stdout",
     "output_type": "stream",
     "text": [
      "Merge logs...\n",
      "Reading merge log file...\n",
      "No critical errors. Saving baseframe to disk.\n",
      "initializing\n",
      "adding fatalities\n",
      "adding cases\n",
      "adding tests\n",
      "adding pollutants\n",
      "here????????\n",
      "here?\n",
      "adding measurements\n",
      "backfill time-static data\n",
      "adding strindex\n",
      "adding Google Mobility\n",
      "adding Apple Mobility\n",
      "adding Causes of Death\n",
      "adding Travel popularity\n",
      "adding GDP\n",
      "saving...\n",
      "COMPLETE\n",
      "Updating readme\n",
      "push to git\n",
      "send log email\n"
     ]
    },
    {
     "ename": "NameError",
     "evalue": "name 'logfile' is not defined",
     "output_type": "error",
     "traceback": [
      "\u001b[0;31m---------------------------------------------------------------------------\u001b[0m",
      "\u001b[0;31mNameError\u001b[0m                                 Traceback (most recent call last)",
      "\u001b[0;32m<ipython-input-51-f0e355a7429e>\u001b[0m in \u001b[0;36m<module>\u001b[0;34m\u001b[0m\n\u001b[0;32m----> 1\u001b[0;31m \u001b[0mpush\u001b[0m\u001b[0;34m(\u001b[0m\u001b[0;34m)\u001b[0m\u001b[0;34m\u001b[0m\u001b[0;34m\u001b[0m\u001b[0m\n\u001b[0m",
      "\u001b[0;32m~/Documents/programming/zooscraper/casestudy/update/auto.py\u001b[0m in \u001b[0;36mpush\u001b[0;34m(test)\u001b[0m\n\u001b[1;32m    122\u001b[0m             \u001b[0mgit_push\u001b[0m\u001b[0;34m(\u001b[0m\u001b[0;34m)\u001b[0m\u001b[0;34m\u001b[0m\u001b[0;34m\u001b[0m\u001b[0m\n\u001b[1;32m    123\u001b[0m             \u001b[0mprint\u001b[0m \u001b[0;34m(\u001b[0m\u001b[0;34m'send log email'\u001b[0m\u001b[0;34m)\u001b[0m\u001b[0;34m\u001b[0m\u001b[0;34m\u001b[0m\u001b[0m\n\u001b[0;32m--> 124\u001b[0;31m             \u001b[0mlog_email\u001b[0m\u001b[0;34m(\u001b[0m\u001b[0mlogfile\u001b[0m\u001b[0;34m)\u001b[0m\u001b[0;34m\u001b[0m\u001b[0;34m\u001b[0m\u001b[0m\n\u001b[0m\u001b[1;32m    125\u001b[0m \u001b[0;34m\u001b[0m\u001b[0m\n\u001b[1;32m    126\u001b[0m     \u001b[0mprint\u001b[0m \u001b[0;34m(\u001b[0m\u001b[0;34m'UPDATE COMPLETE'\u001b[0m\u001b[0;34m)\u001b[0m\u001b[0;34m\u001b[0m\u001b[0;34m\u001b[0m\u001b[0m\n",
      "\u001b[0;31mNameError\u001b[0m: name 'logfile' is not defined"
     ]
    }
   ],
   "source": [
    "push()"
   ]
  },
  {
   "cell_type": "code",
   "execution_count": null,
   "metadata": {},
   "outputs": [],
   "source": []
  }
 ],
 "metadata": {
  "kernelspec": {
   "display_name": "Django Shell-Plus",
   "language": "python",
   "name": "django_extensions"
  },
  "language_info": {
   "codemirror_mode": {
    "name": "ipython",
    "version": 3
   },
   "file_extension": ".py",
   "mimetype": "text/x-python",
   "name": "python",
   "nbconvert_exporter": "python",
   "pygments_lexer": "ipython3",
   "version": "3.7.7"
  }
 },
 "nbformat": 4,
 "nbformat_minor": 4
}
