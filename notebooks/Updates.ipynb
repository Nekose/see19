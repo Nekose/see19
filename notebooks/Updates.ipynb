{
 "cells": [
  {
   "cell_type": "code",
   "execution_count": 1,
   "metadata": {},
   "outputs": [],
   "source": [
    "import os\n",
    "os.environ[\"DJANGO_ALLOW_ASYNC_UNSAFE\"] = \"true\""
   ]
  },
  {
   "cell_type": "code",
   "execution_count": 2,
   "metadata": {},
   "outputs": [],
   "source": [
    "%load_ext autoreload\n",
    "%autoreload 2"
   ]
  },
  {
   "cell_type": "code",
   "execution_count": 3,
   "metadata": {},
   "outputs": [],
   "source": [
    "from casestudy.update import auto_update"
   ]
  },
  {
   "cell_type": "code",
   "execution_count": 4,
   "metadata": {},
   "outputs": [],
   "source": [
    "from decouple import config"
   ]
  },
  {
   "cell_type": "code",
   "execution_count": 5,
   "metadata": {},
   "outputs": [],
   "source": [
    "import django\n",
    "django.setup()"
   ]
  },
  {
   "cell_type": "code",
   "execution_count": 10,
   "metadata": {},
   "outputs": [],
   "source": [
    "from casestudy.update import make_baseframe, auto_update"
   ]
  },
  {
   "cell_type": "code",
   "execution_count": 7,
   "metadata": {},
   "outputs": [
    {
     "name": "stdout",
     "output_type": "stream",
     "text": [
      "initializing\n",
      "adding fatalities\n",
      "adding cases\n",
      "adding tests\n",
      "adding pollutants\n",
      "adding measurements\n",
      "backfill time-static data\n",
      "adding strindex\n",
      "adding Google Mobility\n",
      "adding Apple Mobility\n",
      "adding Causes of Death\n",
      "adding Travel popularity\n",
      "adding GDP\n",
      "COMPLETE\n"
     ]
    }
   ],
   "source": [
    "baseframe = make_baseframe()"
   ]
  },
  {
   "cell_type": "code",
   "execution_count": 11,
   "metadata": {},
   "outputs": [
    {
     "name": "stdout",
     "output_type": "stream",
     "text": [
      "Running get_italy...\n",
      "Running get_braz...\n",
      "Running get_US...\n",
      "Running create_rest...\n",
      "Running update_austests...\n",
      "Running update_cadtests...\n",
      "Running update_ustests...\n",
      "Running update_resttests...\n",
      "Running update_strindex...\n",
      "Running update_gmobi...\n"
     ]
    },
    {
     "name": "stderr",
     "output_type": "stream",
     "text": [
      "/Users/spindicate/Documents/programming/envs/zooenv/lib/python3.7/site-packages/ipykernel_launcher.py:1: DtypeWarning: Columns (3) have mixed types.Specify dtype option on import or set low_memory=False.\n",
      "  \"\"\"Entry point for launching an IPython kernel.\n"
     ]
    },
    {
     "name": "stdout",
     "output_type": "stream",
     "text": [
      "Aruba AW\n",
      "Cote d'Ivoire \n",
      "Cape Verde CV\n",
      "Laos LA\n",
      "North Macedonia MK\n",
      "Réunion RE\n",
      "Tajikistan TJ\n",
      "Running update_amobi...\n",
      "Instantiating Chrome WebDriver...\n",
      "Running update_msmts...\n",
      "Exception('no data is available within your requested subset. Request returned no data.')\n",
      "Running update_pollutants...\n",
      "TimeoutError('update_pollutants Timed Out')\n",
      "Running make_baseframe...\n",
      "initializing\n",
      "adding fatalities\n",
      "adding cases\n",
      "adding tests\n",
      "adding pollutants\n",
      "adding measurements\n",
      "backfill time-static data\n",
      "adding strindex\n",
      "adding Google Mobility\n",
      "adding Apple Mobility\n",
      "adding Causes of Death\n",
      "adding Travel popularity\n",
      "adding GDP\n",
      "COMPLETE\n",
      "Running test_region_consistency...\n",
      "Running test_notnas...\n",
      "Running test_notnas...\n",
      "Running test_notnas...\n",
      "Running test_notnas...\n",
      "Running test_notnas...\n",
      "Running test_notnas...\n",
      "Exception(' ...Failing Regions: [407]')\n",
      "Running test_duplicate_dates...\n",
      "Running test_duplicate_days...\n",
      "Running test_negative_days...\n",
      "Running make_baseframe...\n",
      "initializing\n",
      "adding fatalities\n",
      "adding cases\n",
      "adding tests\n",
      "adding pollutants\n",
      "adding measurements\n",
      "backfill time-static data\n",
      "adding strindex\n",
      "adding Google Mobility\n",
      "adding Apple Mobility\n",
      "adding Causes of Death\n",
      "adding Travel popularity\n",
      "adding GDP\n",
      "saving...\n",
      "COMPLETE\n"
     ]
    },
    {
     "name": "stderr",
     "output_type": "stream",
     "text": [
      "/Users/spindicate/Documents/programming/envs/zooenv/lib/python3.7/site-packages/nbconvert/filters/datatypefilter.py:41: UserWarning: Your element with mimetype(s) dict_keys(['application/javascript', 'application/vnd.bokehjs_load.v0+json']) is not able to be represented.\n",
      "  mimetypes=output.keys())\n",
      "/Users/spindicate/Documents/programming/envs/zooenv/lib/python3.7/site-packages/nbconvert/filters/datatypefilter.py:41: UserWarning: Your element with mimetype(s) dict_keys(['application/javascript', 'application/vnd.bokehjs_exec.v0+json']) is not able to be represented.\n",
      "  mimetypes=output.keys())\n"
     ]
    }
   ],
   "source": [
    "auto_update()"
   ]
  },
  {
   "cell_type": "code",
   "execution_count": null,
   "metadata": {},
   "outputs": [],
   "source": []
  }
 ],
 "metadata": {
  "kernelspec": {
   "display_name": "Django Shell-Plus",
   "language": "python",
   "name": "django_extensions"
  },
  "language_info": {
   "codemirror_mode": {
    "name": "ipython",
    "version": 3
   },
   "file_extension": ".py",
   "mimetype": "text/x-python",
   "name": "python",
   "nbconvert_exporter": "python",
   "pygments_lexer": "ipython3",
   "version": "3.7.7"
  }
 },
 "nbformat": 4,
 "nbformat_minor": 4
}
