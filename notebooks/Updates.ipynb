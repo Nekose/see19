{
 "cells": [
  {
   "cell_type": "code",
   "execution_count": 1,
   "metadata": {},
   "outputs": [],
   "source": [
    "import os\n",
    "os.environ[\"DJANGO_ALLOW_ASYNC_UNSAFE\"] = \"true\""
   ]
  },
  {
   "cell_type": "code",
   "execution_count": 2,
   "metadata": {},
   "outputs": [],
   "source": [
    "%load_ext autoreload\n",
    "%autoreload 2"
   ]
  },
  {
   "cell_type": "code",
   "execution_count": 3,
   "metadata": {},
   "outputs": [],
   "source": [
    "from casestudy.update import auto_update"
   ]
  },
  {
   "cell_type": "code",
   "execution_count": 36,
   "metadata": {},
   "outputs": [],
   "source": [
    "ROOTPATH='/Users/spindicate/Documents/programming/zooscraper/'"
   ]
  },
  {
   "cell_type": "code",
   "execution_count": 42,
   "metadata": {},
   "outputs": [
    {
     "name": "stderr",
     "output_type": "stream",
     "text": [
      "/Users/spindicate/Documents/programming/envs/zooenv/lib/python3.7/site-packages/nbconvert/filters/datatypefilter.py:41: UserWarning: Your element with mimetype(s) dict_keys(['application/javascript', 'application/vnd.bokehjs_load.v0+json']) is not able to be represented.\n",
      "  mimetypes=output.keys())\n",
      "/Users/spindicate/Documents/programming/envs/zooenv/lib/python3.7/site-packages/nbconvert/filters/datatypefilter.py:41: UserWarning: Your element with mimetype(s) dict_keys(['application/javascript', 'application/vnd.bokehjs_exec.v0+json']) is not able to be represented.\n",
      "  mimetypes=output.keys())\n"
     ]
    },
    {
     "data": {
      "text/plain": [
       "'/Users/spindicate/Documents/programming/zooscraper/casestudy/see19//README.md'"
      ]
     },
     "execution_count": 42,
     "metadata": {},
     "output_type": "execute_result"
    }
   ],
   "source": [
    "from datetime import datetime as dt\n",
    "note = '\\Note: All testset and many of the historical datasets have been removed to reduce the repo size.'\n",
    "from decouple import config\n",
    "import nbformat as nbf\n",
    "from nbconvert import MarkdownExporter\n",
    "from nbconvert.writers import FilesWriter\n",
    "\n",
    "README_FILE = config('SEE19PATH') + 'README.ipynb'\n",
    "README_NAME = config('SEE19PATH') + 'README'\n",
    "\n",
    "nb = nbf.read(README_FILE, as_version=4)\n",
    "update_date = dt.now().strftime('%B %d, %Y')\n",
    "leadcell = {\n",
    "    'cell_type': 'markdown',\n",
    "   'metadata': {},\n",
    "   'source': \"\"\"# see19\\n\\n**An aggregation dataset and interface for visualizing \n",
    "       and analyzing Coronavirus Disease 2019 aka COVID19 \n",
    "       aka C19**\\n\\n*Dataset Last Updated {}*{}\n",
    "   \"\"\".format(update_date, note)\n",
    "}\n",
    "nb.cells.insert(0, leadcell)\n",
    "del nb.cells[1]\n",
    "\n",
    "# For some reason Node object is held as JSON \"in memory\"\n",
    "# so must convert back to NotebookNode\n",
    "# https://github.com/jupyter/nbconvert/issues/85\n",
    "nb = nbf.v4.to_notebook(nb)\n",
    "nbf.write(nb, README_FILE)\n",
    "\n",
    "readme = nbf.read(README_FILE, as_version=4)\n",
    "exporter = MarkdownExporter()\n",
    "(body, resources) = exporter.from_notebook_node(readme)\n",
    "\n",
    "write_file = FilesWriter()\n",
    "write_file.write(\n",
    "    output=body,\n",
    "    resources=resources,\n",
    "    notebook_name=README_NAME\n",
    ")"
   ]
  },
  {
   "cell_type": "code",
   "execution_count": 4,
   "metadata": {},
   "outputs": [
    {
     "name": "stdout",
     "output_type": "stream",
     "text": [
      "Running get_italy...\n",
      "Running get_braz...\n",
      "Running get_US...\n",
      "Running create_rest...\n",
      "Running update_austests...\n",
      "Running update_cadtests...\n",
      "Running update_ustests...\n",
      "Running update_resttests...\n",
      "Running update_strindex...\n",
      "Running update_gmobi...\n"
     ]
    },
    {
     "name": "stderr",
     "output_type": "stream",
     "text": [
      "/Users/spindicate/Documents/programming/envs/zooenv/lib/python3.7/site-packages/ipykernel_launcher.py:1: DtypeWarning: Columns (3) have mixed types.Specify dtype option on import or set low_memory=False.\n",
      "  \"\"\"Entry point for launching an IPython kernel.\n"
     ]
    },
    {
     "name": "stdout",
     "output_type": "stream",
     "text": [
      "Aruba AW\n",
      "Cote d'Ivoire \n",
      "Cape Verde CV\n",
      "Laos LA\n",
      "North Macedonia MK\n",
      "Réunion RE\n",
      "Tajikistan TJ\n",
      "Running update_amobi...\n",
      "Instantiating Chrome WebDriver...\n",
      "Running update_msmts...\n",
      "Exception('no data is available within your requested subset. Request returned no data.')\n",
      "Running update_pollutants...\n",
      "Running make_baseframe...\n",
      "initializing\n",
      "adding fatalities\n",
      "adding cases\n",
      "adding tests\n",
      "adding pollutants\n",
      "adding measurements\n",
      "backfill time-static data\n",
      "adding strindex\n",
      "adding Google Mobility\n",
      "adding Apple Mobility\n",
      "adding Causes of Death\n",
      "adding Travel popularity\n",
      "adding GDP\n",
      "COMPLETE\n",
      "Running test_region_consistency...\n",
      "Running test_notnas...\n",
      "Running test_notnas...\n",
      "Running test_notnas...\n",
      "Running test_notnas...\n",
      "Running test_notnas...\n",
      "Running test_notnas...\n",
      "Exception(' ...Failing Regions: [407]')\n",
      "Running test_duplicate_dates...\n",
      "Running test_duplicate_days...\n",
      "Running test_negative_days...\n",
      "Running make_baseframe...\n",
      "initializing\n",
      "adding fatalities\n",
      "adding cases\n",
      "adding tests\n",
      "adding pollutants\n",
      "adding measurements\n",
      "backfill time-static data\n",
      "adding strindex\n",
      "adding Google Mobility\n",
      "adding Apple Mobility\n",
      "adding Causes of Death\n",
      "adding Travel popularity\n",
      "adding GDP\n",
      "saving...\n",
      "COMPLETE\n"
     ]
    },
    {
     "name": "stderr",
     "output_type": "stream",
     "text": [
      "/Users/spindicate/Documents/programming/envs/zooenv/lib/python3.7/site-packages/nbconvert/filters/datatypefilter.py:41: UserWarning: Your element with mimetype(s) dict_keys(['application/javascript', 'application/vnd.bokehjs_load.v0+json']) is not able to be represented.\n",
      "  mimetypes=output.keys())\n",
      "/Users/spindicate/Documents/programming/envs/zooenv/lib/python3.7/site-packages/nbconvert/filters/datatypefilter.py:41: UserWarning: Your element with mimetype(s) dict_keys(['application/javascript', 'application/vnd.bokehjs_exec.v0+json']) is not able to be represented.\n",
      "  mimetypes=output.keys())\n"
     ]
    }
   ],
   "source": [
    "auto_update()"
   ]
  }
 ],
 "metadata": {
  "kernelspec": {
   "display_name": "Django Shell-Plus",
   "language": "python",
   "name": "django_extensions"
  },
  "language_info": {
   "codemirror_mode": {
    "name": "ipython",
    "version": 3
   },
   "file_extension": ".py",
   "mimetype": "text/x-python",
   "name": "python",
   "nbconvert_exporter": "python",
   "pygments_lexer": "ipython3",
   "version": "3.7.7"
  }
 },
 "nbformat": 4,
 "nbformat_minor": 4
}
