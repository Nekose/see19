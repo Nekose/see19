{
 "cells": [
  {
   "cell_type": "code",
   "execution_count": 1,
   "metadata": {},
   "outputs": [],
   "source": [
    "import os\n",
    "os.environ[\"DJANGO_ALLOW_ASYNC_UNSAFE\"] = \"true\"\n",
    "\n",
    "from datetime import datetime as dt\n",
    "from casestudy.update import *"
   ]
  },
  {
   "cell_type": "code",
   "execution_count": 2,
   "metadata": {},
   "outputs": [],
   "source": [
    "from see19 import CaseStudy\n",
    "\n",
    "%load_ext autoreload\n",
    "%autoreload 2"
   ]
  },
  {
   "cell_type": "code",
   "execution_count": 3,
   "metadata": {},
   "outputs": [
    {
     "name": "stdout",
     "output_type": "stream",
     "text": [
      "Running get_italy...\n",
      "Running get_braz...\n",
      "Running get_US...\n",
      "Running create_rest...\n",
      "Running update_austests...\n",
      "Running update_cadtests...\n",
      "Running update_ustests...\n",
      "Running update_resttests...\n",
      "Running update_strindex...\n",
      "Running update_gmobi...\n"
     ]
    },
    {
     "name": "stderr",
     "output_type": "stream",
     "text": [
      "/Users/spindicate/Documents/programming/envs/zooenv/lib/python3.7/site-packages/IPython/core/interactiveshell.py:3331: DtypeWarning: Columns (3) have mixed types.Specify dtype option on import or set low_memory=False.\n",
      "  exec(code_obj, self.user_global_ns, self.user_ns)\n"
     ]
    },
    {
     "name": "stdout",
     "output_type": "stream",
     "text": [
      "Aruba AW\n",
      "Cote d'Ivoire \n",
      "Cape Verde CV\n",
      "Laos LA\n",
      "North Macedonia MK\n",
      "Réunion RE\n",
      "Tajikistan TJ\n",
      "Running update_amobi...\n",
      "Instantiating Chrome WebDriver...\n",
      "Running update_msmts...\n"
     ]
    },
    {
     "name": "stderr",
     "output_type": "stream",
     "text": [
      "                                                    \r"
     ]
    },
    {
     "name": "stdout",
     "output_type": "stream",
     "text": [
      "Running update_pollutants...\n",
      "TimeoutError('update_pollutants Timed Out')\n"
     ]
    }
   ],
   "source": [
    "### Setup Exception Logger\n",
    "\n",
    "# Setup logger    \n",
    "LOG_PATH = '/Users/spindicate/Documents/programming/zooscraper/casestudy/update/update_logs/'\n",
    "filename = 'update-{}.log'.format(dt.now().strftime('%Y-%m-%d'))\n",
    "logfile = LOG_PATH + filename\n",
    "exc_logger = ExceptionLogger(logfile)\n",
    "\n",
    "### Run Updates\n",
    "\n",
    "# Loop through update functions and log any errors \n",
    "for func in update_funcs:\n",
    "    timeout = 10*60 if func.__name__ == 'update_msmts' else 60\n",
    "    wrapfunc = exc_logger.wrap('exception', timeout=timeout)(func)\n",
    "    wrapfunc(create=True)"
   ]
  },
  {
   "cell_type": "code",
   "execution_count": 4,
   "metadata": {},
   "outputs": [
    {
     "name": "stdout",
     "output_type": "stream",
     "text": [
      "Running make_baseframe...\n",
      "initializing\n",
      "adding fatalities\n",
      "adding cases\n",
      "adding tests\n",
      "adding pollutants\n",
      "adding measurements\n",
      "backfill time-static data\n",
      "adding strindex\n",
      "adding Google Mobility\n",
      "adding Apple Mobility\n",
      "adding Causes of Death\n",
      "adding Travel popularity\n",
      "adding GDP\n",
      "COMPLETE\n",
      "Running test_region_consistency...\n",
      "Running test_notnas...\n",
      "Running test_notnas...\n",
      "Running test_notnas...\n",
      "Running test_notnas...\n",
      "Running test_notnas...\n",
      "Running test_notnas...\n",
      "Exception(' ...Failing Regions: [407]')\n",
      "Running test_duplicate_dates...\n",
      "Running test_duplicate_days...\n",
      "Running test_negative_days...\n"
     ]
    }
   ],
   "source": [
    "### Test\n",
    "\n",
    "make_baseframe = exc_logger.wrap('critical')(make_baseframe)\n",
    "baseframe = make_baseframe()\n",
    "\n",
    "test_region_consistency = exc_logger.wrap('critical')(test_region_consistency)\n",
    "test_region_consistency(baseframe)\n",
    "\n",
    "for count_type in CaseStudy.COUNT_TYPES:\n",
    "    test_notnas = exc_logger.wrap('exception')(test_notnas)\n",
    "    test_notnas(baseframe, count_type)\n",
    "\n",
    "factors_with_dmas = ['strindex']\n",
    "kwargs = {'factors': CaseStudy.ALL_FACTORS, 'interpolate_method': {'method': 'linear'}}\n",
    "casestudy = CaseStudy(baseframe, **kwargs)\n",
    "\n",
    "test_duplicate_dates = exc_logger.wrap('exception')(test_duplicate_dates)\n",
    "test_duplicate_dates(casestudy)\n",
    "test_duplicate_days = exc_logger.wrap('exception')(test_duplicate_days)\n",
    "test_duplicate_days(casestudy)\n",
    "test_negative_days = exc_logger.wrap('exception')(test_negative_days)\n",
    "test_negative_days(casestudy)"
   ]
  },
  {
   "cell_type": "code",
   "execution_count": 5,
   "metadata": {},
   "outputs": [
    {
     "name": "stdout",
     "output_type": "stream",
     "text": [
      "Running make_baseframe...\n",
      "initializing\n",
      "adding fatalities\n",
      "adding cases\n",
      "adding tests\n",
      "adding pollutants\n",
      "adding measurements\n",
      "backfill time-static data\n",
      "adding strindex\n",
      "adding Google Mobility\n",
      "adding Apple Mobility\n",
      "adding Causes of Death\n",
      "adding Travel popularity\n",
      "adding GDP\n",
      "saving...\n",
      "COMPLETE\n"
     ]
    },
    {
     "name": "stderr",
     "output_type": "stream",
     "text": [
      "/Users/spindicate/Documents/programming/envs/zooenv/lib/python3.7/site-packages/nbconvert/filters/datatypefilter.py:41: UserWarning: Your element with mimetype(s) dict_keys(['application/javascript', 'application/vnd.bokehjs_load.v0+json']) is not able to be represented.\n",
      "  mimetypes=output.keys())\n",
      "/Users/spindicate/Documents/programming/envs/zooenv/lib/python3.7/site-packages/nbconvert/filters/datatypefilter.py:41: UserWarning: Your element with mimetype(s) dict_keys(['application/javascript', 'application/vnd.bokehjs_exec.v0+json']) is not able to be represented.\n",
      "  mimetypes=output.keys())\n"
     ]
    }
   ],
   "source": [
    "### Send email and, If no critical errors, push to git \n",
    "\n",
    "with open(logfile, 'r') as f:\n",
    "    log_text = f.read()\n",
    "\n",
    "if 'CRITICAL' in log_text:\n",
    "    log_email(logfile, critical=True)\n",
    "else:\n",
    "    \n",
    "    baseframe = make_baseframe(save=True)\n",
    "\n",
    "    note = ''\n",
    "    update_readme(note)    \n",
    "\n",
    "    git_push()\n",
    "    log_email(logfile)    "
   ]
  },
  {
   "cell_type": "code",
   "execution_count": null,
   "metadata": {},
   "outputs": [],
   "source": []
  }
 ],
 "metadata": {
  "kernelspec": {
   "display_name": "Django Shell-Plus",
   "language": "python",
   "name": "django_extensions"
  },
  "language_info": {
   "codemirror_mode": {
    "name": "ipython",
    "version": 3
   },
   "file_extension": ".py",
   "mimetype": "text/x-python",
   "name": "python",
   "nbconvert_exporter": "python",
   "pygments_lexer": "ipython3",
   "version": "3.7.7"
  }
 },
 "nbformat": 4,
 "nbformat_minor": 4
}
