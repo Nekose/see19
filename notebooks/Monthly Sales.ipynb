{
 "cells": [
  {
   "cell_type": "code",
   "execution_count": 1,
   "metadata": {},
   "outputs": [],
   "source": [
    "import sys\n",
    "sys.path.append('/Users/spindicate/Documents/programming/zooscraper/')"
   ]
  },
  {
   "cell_type": "code",
   "execution_count": 2,
   "metadata": {},
   "outputs": [],
   "source": [
    "import django\n",
    "django.setup()"
   ]
  },
  {
   "cell_type": "code",
   "execution_count": 3,
   "metadata": {},
   "outputs": [],
   "source": [
    "import os\n",
    "os.environ[\"DJANGO_ALLOW_ASYNC_UNSAFE\"] = \"true\""
   ]
  },
  {
   "cell_type": "code",
   "execution_count": 4,
   "metadata": {},
   "outputs": [],
   "source": [
    "from datetime import datetime as dt\n",
    "from scraper.models import MonthlySales"
   ]
  },
  {
   "cell_type": "code",
   "execution_count": 5,
   "metadata": {},
   "outputs": [],
   "source": [
    "import pdfplumber"
   ]
  },
  {
   "cell_type": "code",
   "execution_count": 6,
   "metadata": {},
   "outputs": [],
   "source": [
    "root_path = '/Users/spindicate/Documents/docs/covid19/treb/'"
   ]
  },
  {
   "cell_type": "code",
   "execution_count": 7,
   "metadata": {},
   "outputs": [],
   "source": [
    "path = root_path + 'mw2002.pdf'\n",
    "pdf = pdfplumber.open(path)\n",
    "page = pdf.pages[-1]\n",
    "tables = page.find_tables()\n",
    "_2019 = tables[1].extract()\n",
    "_2020 = tables[2].extract()"
   ]
  },
  {
   "cell_type": "code",
   "execution_count": 8,
   "metadata": {},
   "outputs": [],
   "source": [
    "path = root_path + 'mw1812.pdf'\n",
    "pdf = pdfplumber.open(path)\n",
    "page = pdf.pages[-1]\n",
    "tables = page.find_tables()\n",
    "_2017 = tables[1].extract()\n",
    "_2018 = tables[2].extract()"
   ]
  },
  {
   "cell_type": "code",
   "execution_count": 9,
   "metadata": {},
   "outputs": [],
   "source": [
    "path = root_path + 'mw1612.pdf'\n",
    "pdf = pdfplumber.open(path)\n",
    "page = pdf.pages[-1]\n",
    "tables = page.find_tables()\n",
    "_2015 = tables[1].extract()\n",
    "_2016 = tables[2].extract()"
   ]
  },
  {
   "cell_type": "code",
   "execution_count": 10,
   "metadata": {},
   "outputs": [],
   "source": [
    "tables = {2020: _2020, 2019: _2019, 2018: _2018, 2017: _2017, 2016: _2016, 2015: _2015}"
   ]
  },
  {
   "cell_type": "code",
   "execution_count": 11,
   "metadata": {},
   "outputs": [],
   "source": [
    "monthly_sales = []\n",
    "for year, month in tables.items():\n",
    "    for values in month:\n",
    "        if values[1] == '-' or values[0] in ['Year to Date', 'Annual']:\n",
    "            pass\n",
    "        else:\n",
    "            monthly_sales.append(\n",
    "                MonthlySales( \n",
    "                    month=dt.strptime(values[0], '%B').month,\n",
    "                    year=year,\n",
    "                    number=float(values[1].replace(',', '')), \n",
    "                    avg_price=float(values[2].replace('$', '').replace(',', ''))\n",
    "                )\n",
    "            )"
   ]
  },
  {
   "cell_type": "code",
   "execution_count": 56,
   "metadata": {},
   "outputs": [],
   "source": [
    "# MonthlySales.objects.bulk_create(monthly_sales)"
   ]
  },
  {
   "cell_type": "code",
   "execution_count": null,
   "metadata": {},
   "outputs": [],
   "source": []
  },
  {
   "cell_type": "code",
   "execution_count": 29,
   "metadata": {},
   "outputs": [],
   "source": [
    "from bokeh.plotting import figure, show\n",
    "from bokeh.io import output_notebook\n",
    "from bokeh.models import ColumnDataSource, Range1d, LinearAxis, HoverTool"
   ]
  },
  {
   "cell_type": "code",
   "execution_count": 50,
   "metadata": {},
   "outputs": [
    {
     "data": {
      "text/html": [
       "\n",
       "    <div class=\"bk-root\">\n",
       "        <a href=\"https://bokeh.org\" target=\"_blank\" class=\"bk-logo bk-logo-small bk-logo-notebook\"></a>\n",
       "        <span id=\"2658\">Loading BokehJS ...</span>\n",
       "    </div>"
      ]
     },
     "metadata": {},
     "output_type": "display_data"
    },
    {
     "data": {
      "application/javascript": [
       "\n",
       "(function(root) {\n",
       "  function now() {\n",
       "    return new Date();\n",
       "  }\n",
       "\n",
       "  var force = true;\n",
       "\n",
       "  if (typeof root._bokeh_onload_callbacks === \"undefined\" || force === true) {\n",
       "    root._bokeh_onload_callbacks = [];\n",
       "    root._bokeh_is_loading = undefined;\n",
       "  }\n",
       "\n",
       "  var JS_MIME_TYPE = 'application/javascript';\n",
       "  var HTML_MIME_TYPE = 'text/html';\n",
       "  var EXEC_MIME_TYPE = 'application/vnd.bokehjs_exec.v0+json';\n",
       "  var CLASS_NAME = 'output_bokeh rendered_html';\n",
       "\n",
       "  /**\n",
       "   * Render data to the DOM node\n",
       "   */\n",
       "  function render(props, node) {\n",
       "    var script = document.createElement(\"script\");\n",
       "    node.appendChild(script);\n",
       "  }\n",
       "\n",
       "  /**\n",
       "   * Handle when an output is cleared or removed\n",
       "   */\n",
       "  function handleClearOutput(event, handle) {\n",
       "    var cell = handle.cell;\n",
       "\n",
       "    var id = cell.output_area._bokeh_element_id;\n",
       "    var server_id = cell.output_area._bokeh_server_id;\n",
       "    // Clean up Bokeh references\n",
       "    if (id != null && id in Bokeh.index) {\n",
       "      Bokeh.index[id].model.document.clear();\n",
       "      delete Bokeh.index[id];\n",
       "    }\n",
       "\n",
       "    if (server_id !== undefined) {\n",
       "      // Clean up Bokeh references\n",
       "      var cmd = \"from bokeh.io.state import curstate; print(curstate().uuid_to_server['\" + server_id + \"'].get_sessions()[0].document.roots[0]._id)\";\n",
       "      cell.notebook.kernel.execute(cmd, {\n",
       "        iopub: {\n",
       "          output: function(msg) {\n",
       "            var id = msg.content.text.trim();\n",
       "            if (id in Bokeh.index) {\n",
       "              Bokeh.index[id].model.document.clear();\n",
       "              delete Bokeh.index[id];\n",
       "            }\n",
       "          }\n",
       "        }\n",
       "      });\n",
       "      // Destroy server and session\n",
       "      var cmd = \"import bokeh.io.notebook as ion; ion.destroy_server('\" + server_id + \"')\";\n",
       "      cell.notebook.kernel.execute(cmd);\n",
       "    }\n",
       "  }\n",
       "\n",
       "  /**\n",
       "   * Handle when a new output is added\n",
       "   */\n",
       "  function handleAddOutput(event, handle) {\n",
       "    var output_area = handle.output_area;\n",
       "    var output = handle.output;\n",
       "\n",
       "    // limit handleAddOutput to display_data with EXEC_MIME_TYPE content only\n",
       "    if ((output.output_type != \"display_data\") || (!output.data.hasOwnProperty(EXEC_MIME_TYPE))) {\n",
       "      return\n",
       "    }\n",
       "\n",
       "    var toinsert = output_area.element.find(\".\" + CLASS_NAME.split(' ')[0]);\n",
       "\n",
       "    if (output.metadata[EXEC_MIME_TYPE][\"id\"] !== undefined) {\n",
       "      toinsert[toinsert.length - 1].firstChild.textContent = output.data[JS_MIME_TYPE];\n",
       "      // store reference to embed id on output_area\n",
       "      output_area._bokeh_element_id = output.metadata[EXEC_MIME_TYPE][\"id\"];\n",
       "    }\n",
       "    if (output.metadata[EXEC_MIME_TYPE][\"server_id\"] !== undefined) {\n",
       "      var bk_div = document.createElement(\"div\");\n",
       "      bk_div.innerHTML = output.data[HTML_MIME_TYPE];\n",
       "      var script_attrs = bk_div.children[0].attributes;\n",
       "      for (var i = 0; i < script_attrs.length; i++) {\n",
       "        toinsert[toinsert.length - 1].firstChild.setAttribute(script_attrs[i].name, script_attrs[i].value);\n",
       "        toinsert[toinsert.length - 1].firstChild.textContent = bk_div.children[0].textContent\n",
       "      }\n",
       "      // store reference to server id on output_area\n",
       "      output_area._bokeh_server_id = output.metadata[EXEC_MIME_TYPE][\"server_id\"];\n",
       "    }\n",
       "  }\n",
       "\n",
       "  function register_renderer(events, OutputArea) {\n",
       "\n",
       "    function append_mime(data, metadata, element) {\n",
       "      // create a DOM node to render to\n",
       "      var toinsert = this.create_output_subarea(\n",
       "        metadata,\n",
       "        CLASS_NAME,\n",
       "        EXEC_MIME_TYPE\n",
       "      );\n",
       "      this.keyboard_manager.register_events(toinsert);\n",
       "      // Render to node\n",
       "      var props = {data: data, metadata: metadata[EXEC_MIME_TYPE]};\n",
       "      render(props, toinsert[toinsert.length - 1]);\n",
       "      element.append(toinsert);\n",
       "      return toinsert\n",
       "    }\n",
       "\n",
       "    /* Handle when an output is cleared or removed */\n",
       "    events.on('clear_output.CodeCell', handleClearOutput);\n",
       "    events.on('delete.Cell', handleClearOutput);\n",
       "\n",
       "    /* Handle when a new output is added */\n",
       "    events.on('output_added.OutputArea', handleAddOutput);\n",
       "\n",
       "    /**\n",
       "     * Register the mime type and append_mime function with output_area\n",
       "     */\n",
       "    OutputArea.prototype.register_mime_type(EXEC_MIME_TYPE, append_mime, {\n",
       "      /* Is output safe? */\n",
       "      safe: true,\n",
       "      /* Index of renderer in `output_area.display_order` */\n",
       "      index: 0\n",
       "    });\n",
       "  }\n",
       "\n",
       "  // register the mime type if in Jupyter Notebook environment and previously unregistered\n",
       "  if (root.Jupyter !== undefined) {\n",
       "    var events = require('base/js/events');\n",
       "    var OutputArea = require('notebook/js/outputarea').OutputArea;\n",
       "\n",
       "    if (OutputArea.prototype.mime_types().indexOf(EXEC_MIME_TYPE) == -1) {\n",
       "      register_renderer(events, OutputArea);\n",
       "    }\n",
       "  }\n",
       "\n",
       "  \n",
       "  if (typeof (root._bokeh_timeout) === \"undefined\" || force === true) {\n",
       "    root._bokeh_timeout = Date.now() + 5000;\n",
       "    root._bokeh_failed_load = false;\n",
       "  }\n",
       "\n",
       "  var NB_LOAD_WARNING = {'data': {'text/html':\n",
       "     \"<div style='background-color: #fdd'>\\n\"+\n",
       "     \"<p>\\n\"+\n",
       "     \"BokehJS does not appear to have successfully loaded. If loading BokehJS from CDN, this \\n\"+\n",
       "     \"may be due to a slow or bad network connection. Possible fixes:\\n\"+\n",
       "     \"</p>\\n\"+\n",
       "     \"<ul>\\n\"+\n",
       "     \"<li>re-rerun `output_notebook()` to attempt to load from CDN again, or</li>\\n\"+\n",
       "     \"<li>use INLINE resources instead, as so:</li>\\n\"+\n",
       "     \"</ul>\\n\"+\n",
       "     \"<code>\\n\"+\n",
       "     \"from bokeh.resources import INLINE\\n\"+\n",
       "     \"output_notebook(resources=INLINE)\\n\"+\n",
       "     \"</code>\\n\"+\n",
       "     \"</div>\"}};\n",
       "\n",
       "  function display_loaded() {\n",
       "    var el = document.getElementById(\"2658\");\n",
       "    if (el != null) {\n",
       "      el.textContent = \"BokehJS is loading...\";\n",
       "    }\n",
       "    if (root.Bokeh !== undefined) {\n",
       "      if (el != null) {\n",
       "        el.textContent = \"BokehJS \" + root.Bokeh.version + \" successfully loaded.\";\n",
       "      }\n",
       "    } else if (Date.now() < root._bokeh_timeout) {\n",
       "      setTimeout(display_loaded, 100)\n",
       "    }\n",
       "  }\n",
       "\n",
       "\n",
       "  function run_callbacks() {\n",
       "    try {\n",
       "      root._bokeh_onload_callbacks.forEach(function(callback) {\n",
       "        if (callback != null)\n",
       "          callback();\n",
       "      });\n",
       "    } finally {\n",
       "      delete root._bokeh_onload_callbacks\n",
       "    }\n",
       "    console.debug(\"Bokeh: all callbacks have finished\");\n",
       "  }\n",
       "\n",
       "  function load_libs(css_urls, js_urls, callback) {\n",
       "    if (css_urls == null) css_urls = [];\n",
       "    if (js_urls == null) js_urls = [];\n",
       "\n",
       "    root._bokeh_onload_callbacks.push(callback);\n",
       "    if (root._bokeh_is_loading > 0) {\n",
       "      console.debug(\"Bokeh: BokehJS is being loaded, scheduling callback at\", now());\n",
       "      return null;\n",
       "    }\n",
       "    if (js_urls == null || js_urls.length === 0) {\n",
       "      run_callbacks();\n",
       "      return null;\n",
       "    }\n",
       "    console.debug(\"Bokeh: BokehJS not loaded, scheduling load and callback at\", now());\n",
       "    root._bokeh_is_loading = css_urls.length + js_urls.length;\n",
       "\n",
       "    function on_load() {\n",
       "      root._bokeh_is_loading--;\n",
       "      if (root._bokeh_is_loading === 0) {\n",
       "        console.debug(\"Bokeh: all BokehJS libraries/stylesheets loaded\");\n",
       "        run_callbacks()\n",
       "      }\n",
       "    }\n",
       "\n",
       "    function on_error() {\n",
       "      console.error(\"failed to load \" + url);\n",
       "    }\n",
       "\n",
       "    for (var i = 0; i < css_urls.length; i++) {\n",
       "      var url = css_urls[i];\n",
       "      const element = document.createElement(\"link\");\n",
       "      element.onload = on_load;\n",
       "      element.onerror = on_error;\n",
       "      element.rel = \"stylesheet\";\n",
       "      element.type = \"text/css\";\n",
       "      element.href = url;\n",
       "      console.debug(\"Bokeh: injecting link tag for BokehJS stylesheet: \", url);\n",
       "      document.body.appendChild(element);\n",
       "    }\n",
       "\n",
       "    for (var i = 0; i < js_urls.length; i++) {\n",
       "      var url = js_urls[i];\n",
       "      var element = document.createElement('script');\n",
       "      element.onload = on_load;\n",
       "      element.onerror = on_error;\n",
       "      element.async = false;\n",
       "      element.src = url;\n",
       "      \n",
       "      console.debug(\"Bokeh: injecting script tag for BokehJS library: \", url);\n",
       "      document.head.appendChild(element);\n",
       "    }\n",
       "  };var element = document.getElementById(\"2658\");\n",
       "  if (element == null) {\n",
       "    console.error(\"Bokeh: ERROR: autoload.js configured with elementid '2658' but no matching script tag was found. \")\n",
       "    return false;\n",
       "  }\n",
       "\n",
       "  function inject_raw_css(css) {\n",
       "    const element = document.createElement(\"style\");\n",
       "    element.appendChild(document.createTextNode(css));\n",
       "    document.body.appendChild(element);\n",
       "  }\n",
       "\n",
       "  \n",
       "  var js_urls = [\"https://cdn.bokeh.org/bokeh/release/bokeh-2.0.0.min.js\", \"https://cdn.bokeh.org/bokeh/release/bokeh-widgets-2.0.0.min.js\", \"https://cdn.bokeh.org/bokeh/release/bokeh-tables-2.0.0.min.js\", \"https://cdn.bokeh.org/bokeh/release/bokeh-gl-2.0.0.min.js\"];\n",
       "  var css_urls = [];\n",
       "  \n",
       "\n",
       "  var inline_js = [\n",
       "    function(Bokeh) {\n",
       "      Bokeh.set_log_level(\"info\");\n",
       "    },\n",
       "    function(Bokeh) {\n",
       "    \n",
       "    \n",
       "    }\n",
       "  ];\n",
       "\n",
       "  function run_inline_js() {\n",
       "    \n",
       "    if (root.Bokeh !== undefined || force === true) {\n",
       "      \n",
       "    for (var i = 0; i < inline_js.length; i++) {\n",
       "      inline_js[i].call(root, root.Bokeh);\n",
       "    }\n",
       "    if (force === true) {\n",
       "        display_loaded();\n",
       "      }} else if (Date.now() < root._bokeh_timeout) {\n",
       "      setTimeout(run_inline_js, 100);\n",
       "    } else if (!root._bokeh_failed_load) {\n",
       "      console.log(\"Bokeh: BokehJS failed to load within specified timeout.\");\n",
       "      root._bokeh_failed_load = true;\n",
       "    } else if (force !== true) {\n",
       "      var cell = $(document.getElementById(\"2658\")).parents('.cell').data().cell;\n",
       "      cell.output_area.append_execute_result(NB_LOAD_WARNING)\n",
       "    }\n",
       "\n",
       "  }\n",
       "\n",
       "  if (root._bokeh_is_loading === 0) {\n",
       "    console.debug(\"Bokeh: BokehJS loaded, going straight to plotting\");\n",
       "    run_inline_js();\n",
       "  } else {\n",
       "    load_libs(css_urls, js_urls, function() {\n",
       "      console.debug(\"Bokeh: BokehJS plotting callback run at\", now());\n",
       "      run_inline_js();\n",
       "    });\n",
       "  }\n",
       "}(window));"
      ],
      "application/vnd.bokehjs_load.v0+json": "\n(function(root) {\n  function now() {\n    return new Date();\n  }\n\n  var force = true;\n\n  if (typeof root._bokeh_onload_callbacks === \"undefined\" || force === true) {\n    root._bokeh_onload_callbacks = [];\n    root._bokeh_is_loading = undefined;\n  }\n\n  \n\n  \n  if (typeof (root._bokeh_timeout) === \"undefined\" || force === true) {\n    root._bokeh_timeout = Date.now() + 5000;\n    root._bokeh_failed_load = false;\n  }\n\n  var NB_LOAD_WARNING = {'data': {'text/html':\n     \"<div style='background-color: #fdd'>\\n\"+\n     \"<p>\\n\"+\n     \"BokehJS does not appear to have successfully loaded. If loading BokehJS from CDN, this \\n\"+\n     \"may be due to a slow or bad network connection. Possible fixes:\\n\"+\n     \"</p>\\n\"+\n     \"<ul>\\n\"+\n     \"<li>re-rerun `output_notebook()` to attempt to load from CDN again, or</li>\\n\"+\n     \"<li>use INLINE resources instead, as so:</li>\\n\"+\n     \"</ul>\\n\"+\n     \"<code>\\n\"+\n     \"from bokeh.resources import INLINE\\n\"+\n     \"output_notebook(resources=INLINE)\\n\"+\n     \"</code>\\n\"+\n     \"</div>\"}};\n\n  function display_loaded() {\n    var el = document.getElementById(\"2658\");\n    if (el != null) {\n      el.textContent = \"BokehJS is loading...\";\n    }\n    if (root.Bokeh !== undefined) {\n      if (el != null) {\n        el.textContent = \"BokehJS \" + root.Bokeh.version + \" successfully loaded.\";\n      }\n    } else if (Date.now() < root._bokeh_timeout) {\n      setTimeout(display_loaded, 100)\n    }\n  }\n\n\n  function run_callbacks() {\n    try {\n      root._bokeh_onload_callbacks.forEach(function(callback) {\n        if (callback != null)\n          callback();\n      });\n    } finally {\n      delete root._bokeh_onload_callbacks\n    }\n    console.debug(\"Bokeh: all callbacks have finished\");\n  }\n\n  function load_libs(css_urls, js_urls, callback) {\n    if (css_urls == null) css_urls = [];\n    if (js_urls == null) js_urls = [];\n\n    root._bokeh_onload_callbacks.push(callback);\n    if (root._bokeh_is_loading > 0) {\n      console.debug(\"Bokeh: BokehJS is being loaded, scheduling callback at\", now());\n      return null;\n    }\n    if (js_urls == null || js_urls.length === 0) {\n      run_callbacks();\n      return null;\n    }\n    console.debug(\"Bokeh: BokehJS not loaded, scheduling load and callback at\", now());\n    root._bokeh_is_loading = css_urls.length + js_urls.length;\n\n    function on_load() {\n      root._bokeh_is_loading--;\n      if (root._bokeh_is_loading === 0) {\n        console.debug(\"Bokeh: all BokehJS libraries/stylesheets loaded\");\n        run_callbacks()\n      }\n    }\n\n    function on_error() {\n      console.error(\"failed to load \" + url);\n    }\n\n    for (var i = 0; i < css_urls.length; i++) {\n      var url = css_urls[i];\n      const element = document.createElement(\"link\");\n      element.onload = on_load;\n      element.onerror = on_error;\n      element.rel = \"stylesheet\";\n      element.type = \"text/css\";\n      element.href = url;\n      console.debug(\"Bokeh: injecting link tag for BokehJS stylesheet: \", url);\n      document.body.appendChild(element);\n    }\n\n    for (var i = 0; i < js_urls.length; i++) {\n      var url = js_urls[i];\n      var element = document.createElement('script');\n      element.onload = on_load;\n      element.onerror = on_error;\n      element.async = false;\n      element.src = url;\n      \n      console.debug(\"Bokeh: injecting script tag for BokehJS library: \", url);\n      document.head.appendChild(element);\n    }\n  };var element = document.getElementById(\"2658\");\n  if (element == null) {\n    console.error(\"Bokeh: ERROR: autoload.js configured with elementid '2658' but no matching script tag was found. \")\n    return false;\n  }\n\n  function inject_raw_css(css) {\n    const element = document.createElement(\"style\");\n    element.appendChild(document.createTextNode(css));\n    document.body.appendChild(element);\n  }\n\n  \n  var js_urls = [\"https://cdn.bokeh.org/bokeh/release/bokeh-2.0.0.min.js\", \"https://cdn.bokeh.org/bokeh/release/bokeh-widgets-2.0.0.min.js\", \"https://cdn.bokeh.org/bokeh/release/bokeh-tables-2.0.0.min.js\", \"https://cdn.bokeh.org/bokeh/release/bokeh-gl-2.0.0.min.js\"];\n  var css_urls = [];\n  \n\n  var inline_js = [\n    function(Bokeh) {\n      Bokeh.set_log_level(\"info\");\n    },\n    function(Bokeh) {\n    \n    \n    }\n  ];\n\n  function run_inline_js() {\n    \n    if (root.Bokeh !== undefined || force === true) {\n      \n    for (var i = 0; i < inline_js.length; i++) {\n      inline_js[i].call(root, root.Bokeh);\n    }\n    if (force === true) {\n        display_loaded();\n      }} else if (Date.now() < root._bokeh_timeout) {\n      setTimeout(run_inline_js, 100);\n    } else if (!root._bokeh_failed_load) {\n      console.log(\"Bokeh: BokehJS failed to load within specified timeout.\");\n      root._bokeh_failed_load = true;\n    } else if (force !== true) {\n      var cell = $(document.getElementById(\"2658\")).parents('.cell').data().cell;\n      cell.output_area.append_execute_result(NB_LOAD_WARNING)\n    }\n\n  }\n\n  if (root._bokeh_is_loading === 0) {\n    console.debug(\"Bokeh: BokehJS loaded, going straight to plotting\");\n    run_inline_js();\n  } else {\n    load_libs(css_urls, js_urls, function() {\n      console.debug(\"Bokeh: BokehJS plotting callback run at\", now());\n      run_inline_js();\n    });\n  }\n}(window));"
     },
     "metadata": {},
     "output_type": "display_data"
    }
   ],
   "source": [
    "output_notebook()"
   ]
  },
  {
   "cell_type": "code",
   "execution_count": 52,
   "metadata": {},
   "outputs": [],
   "source": [
    "def monthly_chart(month):\n",
    "    month_str = dt(1900, month, 1).strftime('%B')\n",
    "    years = list(reversed(list(str(yr) for yr in tables.keys())))\n",
    "    counts = list(reversed(MonthlySales.objects.filter(month=month).values_list('number', flat=True)))\n",
    "    growths = [count / counts[i - 1] - 1 for i, count in enumerate(counts) if i > 0]\n",
    "    growths.insert(0, 0)\n",
    "\n",
    "    p = figure(x_range=years, plot_height=250, title=month_str,\n",
    "               toolbar_location=None, tools=\"\")\n",
    "\n",
    "    p.vbar(x=years, top=counts, width=0.9)\n",
    "\n",
    "    p.extra_y_ranges['growth'] = Range1d(start=-.5, end=.5)\n",
    "\n",
    "    p.add_layout(LinearAxis(y_range_name='growth', axis_label=\"Growth\",), 'right')\n",
    "    p.line(x=years, y=growths, color=\"red\", line_width=2, y_range_name='growth')\n",
    "\n",
    "    p.xgrid.grid_line_color = None\n",
    "    p.y_range.start = 0\n",
    "    \n",
    "    return p"
   ]
  },
  {
   "cell_type": "code",
   "execution_count": 53,
   "metadata": {},
   "outputs": [
    {
     "name": "stderr",
     "output_type": "stream",
     "text": [
      "BokehUserWarning: ColumnDataSource's columns must be of the same length. Current lengths: ('top', 5), ('x', 6)\n",
      "BokehUserWarning: ColumnDataSource's columns must be of the same length. Current lengths: ('x', 6), ('y', 5)\n"
     ]
    },
    {
     "data": {
      "text/html": [
       "\n",
       "\n",
       "\n",
       "\n",
       "\n",
       "\n",
       "  <div class=\"bk-root\" id=\"9514d2a9-c9a1-486c-8318-0112764fb242\" data-root-id=\"2659\"></div>\n"
      ]
     },
     "metadata": {},
     "output_type": "display_data"
    },
    {
     "data": {
      "application/javascript": [
       "(function(root) {\n",
       "  function embed_document(root) {\n",
       "    \n",
       "  var docs_json = {\"3f5a14cd-4ca7-4dd7-9856-9649bdcd237a\":{\"roots\":{\"references\":[{\"attributes\":{\"below\":[{\"id\":\"2670\"}],\"center\":[{\"id\":\"2672\"},{\"id\":\"2676\"}],\"extra_y_ranges\":{\"growth\":{\"id\":\"2683\"}},\"left\":[{\"id\":\"2673\"}],\"plot_height\":250,\"renderers\":[{\"id\":\"2681\"},{\"id\":\"2688\"}],\"right\":[{\"id\":\"2684\"}],\"title\":{\"id\":\"2660\"},\"toolbar\":{\"id\":\"2677\"},\"toolbar_location\":null,\"x_range\":{\"id\":\"2662\"},\"x_scale\":{\"id\":\"2666\"},\"y_range\":{\"id\":\"2664\"},\"y_scale\":{\"id\":\"2668\"}},\"id\":\"2659\",\"subtype\":\"Figure\",\"type\":\"Plot\"},{\"attributes\":{\"factors\":[\"2015\",\"2016\",\"2017\",\"2018\",\"2019\",\"2020\"]},\"id\":\"2662\",\"type\":\"FactorRange\"},{\"attributes\":{},\"id\":\"2674\",\"type\":\"BasicTicker\"},{\"attributes\":{},\"id\":\"2863\",\"type\":\"BasicTickFormatter\"},{\"attributes\":{\"source\":{\"id\":\"2685\"}},\"id\":\"2689\",\"type\":\"CDSView\"},{\"attributes\":{\"line_color\":\"red\",\"line_width\":2,\"x\":{\"field\":\"x\"},\"y\":{\"field\":\"y\"}},\"id\":\"2686\",\"type\":\"Line\"},{\"attributes\":{},\"id\":\"2668\",\"type\":\"LinearScale\"},{\"attributes\":{},\"id\":\"2868\",\"type\":\"Selection\"},{\"attributes\":{\"data_source\":{\"id\":\"2685\"},\"glyph\":{\"id\":\"2686\"},\"hover_glyph\":null,\"muted_glyph\":null,\"nonselection_glyph\":{\"id\":\"2687\"},\"selection_glyph\":null,\"view\":{\"id\":\"2689\"},\"y_range_name\":\"growth\"},\"id\":\"2688\",\"type\":\"GlyphRenderer\"},{\"attributes\":{\"formatter\":{\"id\":\"2867\"},\"ticker\":{\"id\":\"2671\"}},\"id\":\"2670\",\"type\":\"CategoricalAxis\"},{\"attributes\":{},\"id\":\"2867\",\"type\":\"CategoricalTickFormatter\"},{\"attributes\":{},\"id\":\"2865\",\"type\":\"BasicTickFormatter\"},{\"attributes\":{},\"id\":\"2671\",\"type\":\"CategoricalTicker\"},{\"attributes\":{},\"id\":\"2869\",\"type\":\"UnionRenderers\"},{\"attributes\":{},\"id\":\"2870\",\"type\":\"Selection\"},{\"attributes\":{},\"id\":\"2871\",\"type\":\"UnionRenderers\"},{\"attributes\":{\"end\":0.5,\"start\":-0.5},\"id\":\"2683\",\"type\":\"Range1d\"},{\"attributes\":{\"start\":0},\"id\":\"2664\",\"type\":\"DataRange1d\"},{\"attributes\":{\"fill_color\":{\"value\":\"#1f77b4\"},\"line_color\":{\"value\":\"#1f77b4\"},\"top\":{\"field\":\"top\"},\"width\":{\"value\":0.9},\"x\":{\"field\":\"x\"}},\"id\":\"2679\",\"type\":\"VBar\"},{\"attributes\":{\"data\":{\"x\":[\"2015\",\"2016\",\"2017\",\"2018\",\"2019\",\"2020\"],\"y\":[0,0.07457156090782768,0.11077586206896561,-0.22642607683352733,-0.004765487835465265,0.151461693548387]},\"selected\":{\"id\":\"2870\"},\"selection_policy\":{\"id\":\"2871\"}},\"id\":\"2685\",\"type\":\"ColumnDataSource\"},{\"attributes\":{},\"id\":\"2666\",\"type\":\"CategoricalScale\"},{\"attributes\":{\"source\":{\"id\":\"2678\"}},\"id\":\"2682\",\"type\":\"CDSView\"},{\"attributes\":{\"fill_alpha\":{\"value\":0.1},\"fill_color\":{\"value\":\"#1f77b4\"},\"line_alpha\":{\"value\":0.1},\"line_color\":{\"value\":\"#1f77b4\"},\"top\":{\"field\":\"top\"},\"width\":{\"value\":0.9},\"x\":{\"field\":\"x\"}},\"id\":\"2680\",\"type\":\"VBar\"},{\"attributes\":{\"line_alpha\":0.1,\"line_color\":\"red\",\"line_width\":2,\"x\":{\"field\":\"x\"},\"y\":{\"field\":\"y\"}},\"id\":\"2687\",\"type\":\"Line\"},{\"attributes\":{\"text\":\"January\"},\"id\":\"2660\",\"type\":\"Title\"},{\"attributes\":{\"active_drag\":\"auto\",\"active_inspect\":\"auto\",\"active_multi\":null,\"active_scroll\":\"auto\",\"active_tap\":\"auto\"},\"id\":\"2677\",\"type\":\"Toolbar\"},{\"attributes\":{\"axis_label\":\"Growth\",\"formatter\":{\"id\":\"2863\"},\"ticker\":{\"id\":\"2862\"},\"y_range_name\":\"growth\"},\"id\":\"2684\",\"type\":\"LinearAxis\"},{\"attributes\":{\"axis\":{\"id\":\"2670\"},\"grid_line_color\":null,\"ticker\":null},\"id\":\"2672\",\"type\":\"Grid\"},{\"attributes\":{\"formatter\":{\"id\":\"2865\"},\"ticker\":{\"id\":\"2674\"}},\"id\":\"2673\",\"type\":\"LinearAxis\"},{\"attributes\":{},\"id\":\"2862\",\"type\":\"BasicTicker\"},{\"attributes\":{\"data\":{\"top\":[4318.0,4640.0,5154.0,3987.0,3968.0,4569.0],\"x\":[\"2015\",\"2016\",\"2017\",\"2018\",\"2019\",\"2020\"]},\"selected\":{\"id\":\"2868\"},\"selection_policy\":{\"id\":\"2869\"}},\"id\":\"2678\",\"type\":\"ColumnDataSource\"},{\"attributes\":{\"axis\":{\"id\":\"2673\"},\"dimension\":1,\"ticker\":null},\"id\":\"2676\",\"type\":\"Grid\"},{\"attributes\":{\"data_source\":{\"id\":\"2678\"},\"glyph\":{\"id\":\"2679\"},\"hover_glyph\":null,\"muted_glyph\":null,\"nonselection_glyph\":{\"id\":\"2680\"},\"selection_glyph\":null,\"view\":{\"id\":\"2682\"}},\"id\":\"2681\",\"type\":\"GlyphRenderer\"}],\"root_ids\":[\"2659\"]},\"title\":\"Bokeh Application\",\"version\":\"2.0.0\"}};\n",
       "  var render_items = [{\"docid\":\"3f5a14cd-4ca7-4dd7-9856-9649bdcd237a\",\"root_ids\":[\"2659\"],\"roots\":{\"2659\":\"9514d2a9-c9a1-486c-8318-0112764fb242\"}}];\n",
       "  root.Bokeh.embed.embed_items_notebook(docs_json, render_items);\n",
       "\n",
       "  }\n",
       "  if (root.Bokeh !== undefined) {\n",
       "    embed_document(root);\n",
       "  } else {\n",
       "    var attempts = 0;\n",
       "    var timer = setInterval(function(root) {\n",
       "      if (root.Bokeh !== undefined) {\n",
       "        clearInterval(timer);\n",
       "        embed_document(root);\n",
       "      } else {\n",
       "        attempts++;\n",
       "        if (attempts > 100) {\n",
       "          clearInterval(timer);\n",
       "          console.log(\"Bokeh: ERROR: Unable to run BokehJS code because BokehJS library is missing\");\n",
       "        }\n",
       "      }\n",
       "    }, 10, root)\n",
       "  }\n",
       "})(window);"
      ],
      "application/vnd.bokehjs_exec.v0+json": ""
     },
     "metadata": {
      "application/vnd.bokehjs_exec.v0+json": {
       "id": "2659"
      }
     },
     "output_type": "display_data"
    },
    {
     "data": {
      "text/html": [
       "\n",
       "\n",
       "\n",
       "\n",
       "\n",
       "\n",
       "  <div class=\"bk-root\" id=\"cfd932e4-c881-4613-8eb7-619d195a907b\" data-root-id=\"2690\"></div>\n"
      ]
     },
     "metadata": {},
     "output_type": "display_data"
    },
    {
     "data": {
      "application/javascript": [
       "(function(root) {\n",
       "  function embed_document(root) {\n",
       "    \n",
       "  var docs_json = {\"2f0b24b8-477f-4482-9950-090854c5cf0e\":{\"roots\":{\"references\":[{\"attributes\":{\"below\":[{\"id\":\"2701\"}],\"center\":[{\"id\":\"2703\"},{\"id\":\"2707\"}],\"extra_y_ranges\":{\"growth\":{\"id\":\"2714\"}},\"left\":[{\"id\":\"2704\"}],\"plot_height\":250,\"renderers\":[{\"id\":\"2712\"},{\"id\":\"2719\"}],\"right\":[{\"id\":\"2715\"}],\"title\":{\"id\":\"2691\"},\"toolbar\":{\"id\":\"2708\"},\"toolbar_location\":null,\"x_range\":{\"id\":\"2693\"},\"x_scale\":{\"id\":\"2697\"},\"y_range\":{\"id\":\"2695\"},\"y_scale\":{\"id\":\"2699\"}},\"id\":\"2690\",\"subtype\":\"Figure\",\"type\":\"Plot\"},{\"attributes\":{\"fill_alpha\":{\"value\":0.1},\"fill_color\":{\"value\":\"#1f77b4\"},\"line_alpha\":{\"value\":0.1},\"line_color\":{\"value\":\"#1f77b4\"},\"top\":{\"field\":\"top\"},\"width\":{\"value\":0.9},\"x\":{\"field\":\"x\"}},\"id\":\"2711\",\"type\":\"VBar\"},{\"attributes\":{},\"id\":\"3064\",\"type\":\"CategoricalTickFormatter\"},{\"attributes\":{\"axis\":{\"id\":\"2701\"},\"grid_line_color\":null,\"ticker\":null},\"id\":\"2703\",\"type\":\"Grid\"},{\"attributes\":{\"axis_label\":\"Growth\",\"formatter\":{\"id\":\"3060\"},\"ticker\":{\"id\":\"3059\"},\"y_range_name\":\"growth\"},\"id\":\"2715\",\"type\":\"LinearAxis\"},{\"attributes\":{},\"id\":\"2705\",\"type\":\"BasicTicker\"},{\"attributes\":{\"source\":{\"id\":\"2709\"}},\"id\":\"2713\",\"type\":\"CDSView\"},{\"attributes\":{},\"id\":\"2702\",\"type\":\"CategoricalTicker\"},{\"attributes\":{},\"id\":\"3067\",\"type\":\"Selection\"},{\"attributes\":{\"formatter\":{\"id\":\"3064\"},\"ticker\":{\"id\":\"2702\"}},\"id\":\"2701\",\"type\":\"CategoricalAxis\"},{\"attributes\":{\"data\":{\"top\":[6294.0,7583.0,7955.0,5149.0,4982.0,7256.0],\"x\":[\"2015\",\"2016\",\"2017\",\"2018\",\"2019\",\"2020\"]},\"selected\":{\"id\":\"3065\"},\"selection_policy\":{\"id\":\"3066\"}},\"id\":\"2709\",\"type\":\"ColumnDataSource\"},{\"attributes\":{},\"id\":\"3068\",\"type\":\"UnionRenderers\"},{\"attributes\":{},\"id\":\"2699\",\"type\":\"LinearScale\"},{\"attributes\":{\"end\":0.5,\"start\":-0.5},\"id\":\"2714\",\"type\":\"Range1d\"},{\"attributes\":{\"line_color\":\"red\",\"line_width\":2,\"x\":{\"field\":\"x\"},\"y\":{\"field\":\"y\"}},\"id\":\"2717\",\"type\":\"Line\"},{\"attributes\":{},\"id\":\"3066\",\"type\":\"UnionRenderers\"},{\"attributes\":{\"factors\":[\"2015\",\"2016\",\"2017\",\"2018\",\"2019\",\"2020\"]},\"id\":\"2693\",\"type\":\"FactorRange\"},{\"attributes\":{\"start\":0},\"id\":\"2695\",\"type\":\"DataRange1d\"},{\"attributes\":{\"data_source\":{\"id\":\"2709\"},\"glyph\":{\"id\":\"2710\"},\"hover_glyph\":null,\"muted_glyph\":null,\"nonselection_glyph\":{\"id\":\"2711\"},\"selection_glyph\":null,\"view\":{\"id\":\"2713\"}},\"id\":\"2712\",\"type\":\"GlyphRenderer\"},{\"attributes\":{\"formatter\":{\"id\":\"3062\"},\"ticker\":{\"id\":\"2705\"}},\"id\":\"2704\",\"type\":\"LinearAxis\"},{\"attributes\":{},\"id\":\"3065\",\"type\":\"Selection\"},{\"attributes\":{\"data\":{\"x\":[\"2015\",\"2016\",\"2017\",\"2018\",\"2019\",\"2020\"],\"y\":[0,0.20479822052748653,0.04905710141105102,-0.3527341294783155,-0.03243348222955911,0.45644319550381374]},\"selected\":{\"id\":\"3067\"},\"selection_policy\":{\"id\":\"3068\"}},\"id\":\"2716\",\"type\":\"ColumnDataSource\"},{\"attributes\":{\"source\":{\"id\":\"2716\"}},\"id\":\"2720\",\"type\":\"CDSView\"},{\"attributes\":{\"fill_color\":{\"value\":\"#1f77b4\"},\"line_color\":{\"value\":\"#1f77b4\"},\"top\":{\"field\":\"top\"},\"width\":{\"value\":0.9},\"x\":{\"field\":\"x\"}},\"id\":\"2710\",\"type\":\"VBar\"},{\"attributes\":{\"data_source\":{\"id\":\"2716\"},\"glyph\":{\"id\":\"2717\"},\"hover_glyph\":null,\"muted_glyph\":null,\"nonselection_glyph\":{\"id\":\"2718\"},\"selection_glyph\":null,\"view\":{\"id\":\"2720\"},\"y_range_name\":\"growth\"},\"id\":\"2719\",\"type\":\"GlyphRenderer\"},{\"attributes\":{},\"id\":\"3062\",\"type\":\"BasicTickFormatter\"},{\"attributes\":{\"text\":\"February\"},\"id\":\"2691\",\"type\":\"Title\"},{\"attributes\":{},\"id\":\"3060\",\"type\":\"BasicTickFormatter\"},{\"attributes\":{\"axis\":{\"id\":\"2704\"},\"dimension\":1,\"ticker\":null},\"id\":\"2707\",\"type\":\"Grid\"},{\"attributes\":{\"active_drag\":\"auto\",\"active_inspect\":\"auto\",\"active_multi\":null,\"active_scroll\":\"auto\",\"active_tap\":\"auto\"},\"id\":\"2708\",\"type\":\"Toolbar\"},{\"attributes\":{},\"id\":\"3059\",\"type\":\"BasicTicker\"},{\"attributes\":{\"line_alpha\":0.1,\"line_color\":\"red\",\"line_width\":2,\"x\":{\"field\":\"x\"},\"y\":{\"field\":\"y\"}},\"id\":\"2718\",\"type\":\"Line\"},{\"attributes\":{},\"id\":\"2697\",\"type\":\"CategoricalScale\"}],\"root_ids\":[\"2690\"]},\"title\":\"Bokeh Application\",\"version\":\"2.0.0\"}};\n",
       "  var render_items = [{\"docid\":\"2f0b24b8-477f-4482-9950-090854c5cf0e\",\"root_ids\":[\"2690\"],\"roots\":{\"2690\":\"cfd932e4-c881-4613-8eb7-619d195a907b\"}}];\n",
       "  root.Bokeh.embed.embed_items_notebook(docs_json, render_items);\n",
       "\n",
       "  }\n",
       "  if (root.Bokeh !== undefined) {\n",
       "    embed_document(root);\n",
       "  } else {\n",
       "    var attempts = 0;\n",
       "    var timer = setInterval(function(root) {\n",
       "      if (root.Bokeh !== undefined) {\n",
       "        clearInterval(timer);\n",
       "        embed_document(root);\n",
       "      } else {\n",
       "        attempts++;\n",
       "        if (attempts > 100) {\n",
       "          clearInterval(timer);\n",
       "          console.log(\"Bokeh: ERROR: Unable to run BokehJS code because BokehJS library is missing\");\n",
       "        }\n",
       "      }\n",
       "    }, 10, root)\n",
       "  }\n",
       "})(window);"
      ],
      "application/vnd.bokehjs_exec.v0+json": ""
     },
     "metadata": {
      "application/vnd.bokehjs_exec.v0+json": {
       "id": "2690"
      }
     },
     "output_type": "display_data"
    },
    {
     "data": {
      "text/html": [
       "\n",
       "\n",
       "\n",
       "\n",
       "\n",
       "\n",
       "  <div class=\"bk-root\" id=\"7daf048e-c036-4238-a1f7-9d988c9e2128\" data-root-id=\"2721\"></div>\n"
      ]
     },
     "metadata": {},
     "output_type": "display_data"
    },
    {
     "data": {
      "application/javascript": [
       "(function(root) {\n",
       "  function embed_document(root) {\n",
       "    \n",
       "  var docs_json = {\"09b17a89-fc53-4f27-ad39-133736b8b55a\":{\"roots\":{\"references\":[{\"attributes\":{\"below\":[{\"id\":\"2732\"}],\"center\":[{\"id\":\"2734\"},{\"id\":\"2738\"}],\"extra_y_ranges\":{\"growth\":{\"id\":\"2745\"}},\"left\":[{\"id\":\"2735\"}],\"plot_height\":250,\"renderers\":[{\"id\":\"2743\"},{\"id\":\"2750\"}],\"right\":[{\"id\":\"2746\"}],\"title\":{\"id\":\"2722\"},\"toolbar\":{\"id\":\"2739\"},\"toolbar_location\":null,\"x_range\":{\"id\":\"2724\"},\"x_scale\":{\"id\":\"2728\"},\"y_range\":{\"id\":\"2726\"},\"y_scale\":{\"id\":\"2730\"}},\"id\":\"2721\",\"subtype\":\"Figure\",\"type\":\"Plot\"},{\"attributes\":{\"source\":{\"id\":\"2740\"}},\"id\":\"2744\",\"type\":\"CDSView\"},{\"attributes\":{\"axis\":{\"id\":\"2735\"},\"dimension\":1,\"ticker\":null},\"id\":\"2738\",\"type\":\"Grid\"},{\"attributes\":{\"formatter\":{\"id\":\"3270\"},\"ticker\":{\"id\":\"2736\"}},\"id\":\"2735\",\"type\":\"LinearAxis\"},{\"attributes\":{},\"id\":\"3270\",\"type\":\"BasicTickFormatter\"},{\"attributes\":{\"data\":{\"top\":[8886.0,10260.0,11953.0,7188.0,7132.0],\"x\":[\"2015\",\"2016\",\"2017\",\"2018\",\"2019\",\"2020\"]},\"selected\":{\"id\":\"3273\"},\"selection_policy\":{\"id\":\"3274\"}},\"id\":\"2740\",\"type\":\"ColumnDataSource\"},{\"attributes\":{\"source\":{\"id\":\"2747\"}},\"id\":\"2751\",\"type\":\"CDSView\"},{\"attributes\":{\"fill_alpha\":{\"value\":0.1},\"fill_color\":{\"value\":\"#1f77b4\"},\"line_alpha\":{\"value\":0.1},\"line_color\":{\"value\":\"#1f77b4\"},\"top\":{\"field\":\"top\"},\"width\":{\"value\":0.9},\"x\":{\"field\":\"x\"}},\"id\":\"2742\",\"type\":\"VBar\"},{\"attributes\":{},\"id\":\"2728\",\"type\":\"CategoricalScale\"},{\"attributes\":{\"start\":0},\"id\":\"2726\",\"type\":\"DataRange1d\"},{\"attributes\":{\"text\":\"March\"},\"id\":\"2722\",\"type\":\"Title\"},{\"attributes\":{\"fill_color\":{\"value\":\"#1f77b4\"},\"line_color\":{\"value\":\"#1f77b4\"},\"top\":{\"field\":\"top\"},\"width\":{\"value\":0.9},\"x\":{\"field\":\"x\"}},\"id\":\"2741\",\"type\":\"VBar\"},{\"attributes\":{},\"id\":\"3273\",\"type\":\"Selection\"},{\"attributes\":{\"data_source\":{\"id\":\"2740\"},\"glyph\":{\"id\":\"2741\"},\"hover_glyph\":null,\"muted_glyph\":null,\"nonselection_glyph\":{\"id\":\"2742\"},\"selection_glyph\":null,\"view\":{\"id\":\"2744\"}},\"id\":\"2743\",\"type\":\"GlyphRenderer\"},{\"attributes\":{\"line_alpha\":0.1,\"line_color\":\"red\",\"line_width\":2,\"x\":{\"field\":\"x\"},\"y\":{\"field\":\"y\"}},\"id\":\"2749\",\"type\":\"Line\"},{\"attributes\":{},\"id\":\"3272\",\"type\":\"CategoricalTickFormatter\"},{\"attributes\":{\"axis_label\":\"Growth\",\"formatter\":{\"id\":\"3268\"},\"ticker\":{\"id\":\"3267\"},\"y_range_name\":\"growth\"},\"id\":\"2746\",\"type\":\"LinearAxis\"},{\"attributes\":{\"factors\":[\"2015\",\"2016\",\"2017\",\"2018\",\"2019\",\"2020\"]},\"id\":\"2724\",\"type\":\"FactorRange\"},{\"attributes\":{\"end\":0.5,\"start\":-0.5},\"id\":\"2745\",\"type\":\"Range1d\"},{\"attributes\":{},\"id\":\"2733\",\"type\":\"CategoricalTicker\"},{\"attributes\":{},\"id\":\"3267\",\"type\":\"BasicTicker\"},{\"attributes\":{\"line_color\":\"red\",\"line_width\":2,\"x\":{\"field\":\"x\"},\"y\":{\"field\":\"y\"}},\"id\":\"2748\",\"type\":\"Line\"},{\"attributes\":{\"formatter\":{\"id\":\"3272\"},\"ticker\":{\"id\":\"2733\"}},\"id\":\"2732\",\"type\":\"CategoricalAxis\"},{\"attributes\":{\"data\":{\"x\":[\"2015\",\"2016\",\"2017\",\"2018\",\"2019\",\"2020\"],\"y\":[0,0.15462525320729248,0.16500974658869394,-0.39864469170919437,-0.007790762381747363]},\"selected\":{\"id\":\"3275\"},\"selection_policy\":{\"id\":\"3276\"}},\"id\":\"2747\",\"type\":\"ColumnDataSource\"},{\"attributes\":{},\"id\":\"3276\",\"type\":\"UnionRenderers\"},{\"attributes\":{},\"id\":\"2730\",\"type\":\"LinearScale\"},{\"attributes\":{},\"id\":\"3274\",\"type\":\"UnionRenderers\"},{\"attributes\":{},\"id\":\"3268\",\"type\":\"BasicTickFormatter\"},{\"attributes\":{\"data_source\":{\"id\":\"2747\"},\"glyph\":{\"id\":\"2748\"},\"hover_glyph\":null,\"muted_glyph\":null,\"nonselection_glyph\":{\"id\":\"2749\"},\"selection_glyph\":null,\"view\":{\"id\":\"2751\"},\"y_range_name\":\"growth\"},\"id\":\"2750\",\"type\":\"GlyphRenderer\"},{\"attributes\":{},\"id\":\"2736\",\"type\":\"BasicTicker\"},{\"attributes\":{},\"id\":\"3275\",\"type\":\"Selection\"},{\"attributes\":{\"axis\":{\"id\":\"2732\"},\"grid_line_color\":null,\"ticker\":null},\"id\":\"2734\",\"type\":\"Grid\"},{\"attributes\":{\"active_drag\":\"auto\",\"active_inspect\":\"auto\",\"active_multi\":null,\"active_scroll\":\"auto\",\"active_tap\":\"auto\"},\"id\":\"2739\",\"type\":\"Toolbar\"}],\"root_ids\":[\"2721\"]},\"title\":\"Bokeh Application\",\"version\":\"2.0.0\"}};\n",
       "  var render_items = [{\"docid\":\"09b17a89-fc53-4f27-ad39-133736b8b55a\",\"root_ids\":[\"2721\"],\"roots\":{\"2721\":\"7daf048e-c036-4238-a1f7-9d988c9e2128\"}}];\n",
       "  root.Bokeh.embed.embed_items_notebook(docs_json, render_items);\n",
       "\n",
       "  }\n",
       "  if (root.Bokeh !== undefined) {\n",
       "    embed_document(root);\n",
       "  } else {\n",
       "    var attempts = 0;\n",
       "    var timer = setInterval(function(root) {\n",
       "      if (root.Bokeh !== undefined) {\n",
       "        clearInterval(timer);\n",
       "        embed_document(root);\n",
       "      } else {\n",
       "        attempts++;\n",
       "        if (attempts > 100) {\n",
       "          clearInterval(timer);\n",
       "          console.log(\"Bokeh: ERROR: Unable to run BokehJS code because BokehJS library is missing\");\n",
       "        }\n",
       "      }\n",
       "    }, 10, root)\n",
       "  }\n",
       "})(window);"
      ],
      "application/vnd.bokehjs_exec.v0+json": ""
     },
     "metadata": {
      "application/vnd.bokehjs_exec.v0+json": {
       "id": "2721"
      }
     },
     "output_type": "display_data"
    }
   ],
   "source": [
    "ps= [monthly_chart(month) for month in [1,2,3]]\n",
    "\n",
    "for p in ps:\n",
    "    show(p)"
   ]
  },
  {
   "cell_type": "code",
   "execution_count": 55,
   "metadata": {},
   "outputs": [],
   "source": []
  },
  {
   "cell_type": "code",
   "execution_count": null,
   "metadata": {},
   "outputs": [],
   "source": []
  }
 ],
 "metadata": {
  "kernelspec": {
   "display_name": "Django Shell-Plus",
   "language": "python",
   "name": "django_extensions"
  },
  "language_info": {
   "codemirror_mode": {
    "name": "ipython",
    "version": 3
   },
   "file_extension": ".py",
   "mimetype": "text/x-python",
   "name": "python",
   "nbconvert_exporter": "python",
   "pygments_lexer": "ipython3",
   "version": "3.7.7"
  }
 },
 "nbformat": 4,
 "nbformat_minor": 4
}
