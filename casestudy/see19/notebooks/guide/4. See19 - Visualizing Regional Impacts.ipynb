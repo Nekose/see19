{
 "cells": [
  {
   "cell_type": "markdown",
   "metadata": {},
   "source": [
    "# see19 Guide\n",
    "\n",
    "**A dataset and interface for visualizing and analyzing the epidemiology of Coronavirus Disease 2019 aka SARS-CoV-2 aka COVID19 aka C19**\n",
    "\n",
    "Find it on [GitHub](https://github.com/ryanskene/see19)\n",
    "\n",
    "Current with version 0.3.0."
   ]
  },
  {
   "cell_type": "markdown",
   "metadata": {},
   "source": [
    "# 4. Visualizating Regional Impacts\n",
    "\n",
    "4.1 [Daily Fatalities Comparison - Italy](#section4.1)  \n",
    "4.2 [Daily Fatalities Comparison - 10 Most Impacted Regions](#section4.2)  \n",
    "4.3 [Factor Comparison: Oxford Government Tracker](#section4.3)  \n",
    "4.4 [4.4 MultiBar Comparison](#section4.4)"
   ]
  },
  {
   "cell_type": "markdown",
   "metadata": {},
   "source": [
    "`CaseStudy` has a `comp_chart` attribute, which is an instance of the `CompChart2D` class and provides categorical time-series charts comparing various regions on a single `comp_category`.\n",
    "\n",
    "`CompChart2D` object utilizes `Bokeh` for chart creation.\n",
    "\n",
    "Charts are available in **multi-line** and **bar** format with optional overlay of a second factor on a separate y-axis."
   ]
  },
  {
   "cell_type": "markdown",
   "metadata": {},
   "source": [
    "<h2><a id='section4.1'>4.1 Daily Fatalities Comparison - Italy</a></h2>"
   ]
  },
  {
   "cell_type": "markdown",
   "metadata": {},
   "source": [
    "We will illustrate with an example, focusing on only the top 5 most impacted regions in Italy."
   ]
  },
  {
   "cell_type": "code",
   "execution_count": 1,
   "metadata": {
    "scrolled": true
   },
   "outputs": [
    {
     "data": {
      "text/html": [
       "\n",
       "    <div class=\"bk-root\">\n",
       "        <a href=\"https://bokeh.org\" target=\"_blank\" class=\"bk-logo bk-logo-small bk-logo-notebook\"></a>\n",
       "        <span id=\"1001\">Loading BokehJS ...</span>\n",
       "    </div>"
      ]
     },
     "metadata": {},
     "output_type": "display_data"
    },
    {
     "data": {
      "application/javascript": [
       "\n",
       "(function(root) {\n",
       "  function now() {\n",
       "    return new Date();\n",
       "  }\n",
       "\n",
       "  var force = true;\n",
       "\n",
       "  if (typeof root._bokeh_onload_callbacks === \"undefined\" || force === true) {\n",
       "    root._bokeh_onload_callbacks = [];\n",
       "    root._bokeh_is_loading = undefined;\n",
       "  }\n",
       "\n",
       "  var JS_MIME_TYPE = 'application/javascript';\n",
       "  var HTML_MIME_TYPE = 'text/html';\n",
       "  var EXEC_MIME_TYPE = 'application/vnd.bokehjs_exec.v0+json';\n",
       "  var CLASS_NAME = 'output_bokeh rendered_html';\n",
       "\n",
       "  /**\n",
       "   * Render data to the DOM node\n",
       "   */\n",
       "  function render(props, node) {\n",
       "    var script = document.createElement(\"script\");\n",
       "    node.appendChild(script);\n",
       "  }\n",
       "\n",
       "  /**\n",
       "   * Handle when an output is cleared or removed\n",
       "   */\n",
       "  function handleClearOutput(event, handle) {\n",
       "    var cell = handle.cell;\n",
       "\n",
       "    var id = cell.output_area._bokeh_element_id;\n",
       "    var server_id = cell.output_area._bokeh_server_id;\n",
       "    // Clean up Bokeh references\n",
       "    if (id != null && id in Bokeh.index) {\n",
       "      Bokeh.index[id].model.document.clear();\n",
       "      delete Bokeh.index[id];\n",
       "    }\n",
       "\n",
       "    if (server_id !== undefined) {\n",
       "      // Clean up Bokeh references\n",
       "      var cmd = \"from bokeh.io.state import curstate; print(curstate().uuid_to_server['\" + server_id + \"'].get_sessions()[0].document.roots[0]._id)\";\n",
       "      cell.notebook.kernel.execute(cmd, {\n",
       "        iopub: {\n",
       "          output: function(msg) {\n",
       "            var id = msg.content.text.trim();\n",
       "            if (id in Bokeh.index) {\n",
       "              Bokeh.index[id].model.document.clear();\n",
       "              delete Bokeh.index[id];\n",
       "            }\n",
       "          }\n",
       "        }\n",
       "      });\n",
       "      // Destroy server and session\n",
       "      var cmd = \"import bokeh.io.notebook as ion; ion.destroy_server('\" + server_id + \"')\";\n",
       "      cell.notebook.kernel.execute(cmd);\n",
       "    }\n",
       "  }\n",
       "\n",
       "  /**\n",
       "   * Handle when a new output is added\n",
       "   */\n",
       "  function handleAddOutput(event, handle) {\n",
       "    var output_area = handle.output_area;\n",
       "    var output = handle.output;\n",
       "\n",
       "    // limit handleAddOutput to display_data with EXEC_MIME_TYPE content only\n",
       "    if ((output.output_type != \"display_data\") || (!output.data.hasOwnProperty(EXEC_MIME_TYPE))) {\n",
       "      return\n",
       "    }\n",
       "\n",
       "    var toinsert = output_area.element.find(\".\" + CLASS_NAME.split(' ')[0]);\n",
       "\n",
       "    if (output.metadata[EXEC_MIME_TYPE][\"id\"] !== undefined) {\n",
       "      toinsert[toinsert.length - 1].firstChild.textContent = output.data[JS_MIME_TYPE];\n",
       "      // store reference to embed id on output_area\n",
       "      output_area._bokeh_element_id = output.metadata[EXEC_MIME_TYPE][\"id\"];\n",
       "    }\n",
       "    if (output.metadata[EXEC_MIME_TYPE][\"server_id\"] !== undefined) {\n",
       "      var bk_div = document.createElement(\"div\");\n",
       "      bk_div.innerHTML = output.data[HTML_MIME_TYPE];\n",
       "      var script_attrs = bk_div.children[0].attributes;\n",
       "      for (var i = 0; i < script_attrs.length; i++) {\n",
       "        toinsert[toinsert.length - 1].firstChild.setAttribute(script_attrs[i].name, script_attrs[i].value);\n",
       "        toinsert[toinsert.length - 1].firstChild.textContent = bk_div.children[0].textContent\n",
       "      }\n",
       "      // store reference to server id on output_area\n",
       "      output_area._bokeh_server_id = output.metadata[EXEC_MIME_TYPE][\"server_id\"];\n",
       "    }\n",
       "  }\n",
       "\n",
       "  function register_renderer(events, OutputArea) {\n",
       "\n",
       "    function append_mime(data, metadata, element) {\n",
       "      // create a DOM node to render to\n",
       "      var toinsert = this.create_output_subarea(\n",
       "        metadata,\n",
       "        CLASS_NAME,\n",
       "        EXEC_MIME_TYPE\n",
       "      );\n",
       "      this.keyboard_manager.register_events(toinsert);\n",
       "      // Render to node\n",
       "      var props = {data: data, metadata: metadata[EXEC_MIME_TYPE]};\n",
       "      render(props, toinsert[toinsert.length - 1]);\n",
       "      element.append(toinsert);\n",
       "      return toinsert\n",
       "    }\n",
       "\n",
       "    /* Handle when an output is cleared or removed */\n",
       "    events.on('clear_output.CodeCell', handleClearOutput);\n",
       "    events.on('delete.Cell', handleClearOutput);\n",
       "\n",
       "    /* Handle when a new output is added */\n",
       "    events.on('output_added.OutputArea', handleAddOutput);\n",
       "\n",
       "    /**\n",
       "     * Register the mime type and append_mime function with output_area\n",
       "     */\n",
       "    OutputArea.prototype.register_mime_type(EXEC_MIME_TYPE, append_mime, {\n",
       "      /* Is output safe? */\n",
       "      safe: true,\n",
       "      /* Index of renderer in `output_area.display_order` */\n",
       "      index: 0\n",
       "    });\n",
       "  }\n",
       "\n",
       "  // register the mime type if in Jupyter Notebook environment and previously unregistered\n",
       "  if (root.Jupyter !== undefined) {\n",
       "    var events = require('base/js/events');\n",
       "    var OutputArea = require('notebook/js/outputarea').OutputArea;\n",
       "\n",
       "    if (OutputArea.prototype.mime_types().indexOf(EXEC_MIME_TYPE) == -1) {\n",
       "      register_renderer(events, OutputArea);\n",
       "    }\n",
       "  }\n",
       "\n",
       "  \n",
       "  if (typeof (root._bokeh_timeout) === \"undefined\" || force === true) {\n",
       "    root._bokeh_timeout = Date.now() + 5000;\n",
       "    root._bokeh_failed_load = false;\n",
       "  }\n",
       "\n",
       "  var NB_LOAD_WARNING = {'data': {'text/html':\n",
       "     \"<div style='background-color: #fdd'>\\n\"+\n",
       "     \"<p>\\n\"+\n",
       "     \"BokehJS does not appear to have successfully loaded. If loading BokehJS from CDN, this \\n\"+\n",
       "     \"may be due to a slow or bad network connection. Possible fixes:\\n\"+\n",
       "     \"</p>\\n\"+\n",
       "     \"<ul>\\n\"+\n",
       "     \"<li>re-rerun `output_notebook()` to attempt to load from CDN again, or</li>\\n\"+\n",
       "     \"<li>use INLINE resources instead, as so:</li>\\n\"+\n",
       "     \"</ul>\\n\"+\n",
       "     \"<code>\\n\"+\n",
       "     \"from bokeh.resources import INLINE\\n\"+\n",
       "     \"output_notebook(resources=INLINE)\\n\"+\n",
       "     \"</code>\\n\"+\n",
       "     \"</div>\"}};\n",
       "\n",
       "  function display_loaded() {\n",
       "    var el = document.getElementById(\"1001\");\n",
       "    if (el != null) {\n",
       "      el.textContent = \"BokehJS is loading...\";\n",
       "    }\n",
       "    if (root.Bokeh !== undefined) {\n",
       "      if (el != null) {\n",
       "        el.textContent = \"BokehJS \" + root.Bokeh.version + \" successfully loaded.\";\n",
       "      }\n",
       "    } else if (Date.now() < root._bokeh_timeout) {\n",
       "      setTimeout(display_loaded, 100)\n",
       "    }\n",
       "  }\n",
       "\n",
       "\n",
       "  function run_callbacks() {\n",
       "    try {\n",
       "      root._bokeh_onload_callbacks.forEach(function(callback) {\n",
       "        if (callback != null)\n",
       "          callback();\n",
       "      });\n",
       "    } finally {\n",
       "      delete root._bokeh_onload_callbacks\n",
       "    }\n",
       "    console.debug(\"Bokeh: all callbacks have finished\");\n",
       "  }\n",
       "\n",
       "  function load_libs(css_urls, js_urls, callback) {\n",
       "    if (css_urls == null) css_urls = [];\n",
       "    if (js_urls == null) js_urls = [];\n",
       "\n",
       "    root._bokeh_onload_callbacks.push(callback);\n",
       "    if (root._bokeh_is_loading > 0) {\n",
       "      console.debug(\"Bokeh: BokehJS is being loaded, scheduling callback at\", now());\n",
       "      return null;\n",
       "    }\n",
       "    if (js_urls == null || js_urls.length === 0) {\n",
       "      run_callbacks();\n",
       "      return null;\n",
       "    }\n",
       "    console.debug(\"Bokeh: BokehJS not loaded, scheduling load and callback at\", now());\n",
       "    root._bokeh_is_loading = css_urls.length + js_urls.length;\n",
       "\n",
       "    function on_load() {\n",
       "      root._bokeh_is_loading--;\n",
       "      if (root._bokeh_is_loading === 0) {\n",
       "        console.debug(\"Bokeh: all BokehJS libraries/stylesheets loaded\");\n",
       "        run_callbacks()\n",
       "      }\n",
       "    }\n",
       "\n",
       "    function on_error() {\n",
       "      console.error(\"failed to load \" + url);\n",
       "    }\n",
       "\n",
       "    for (var i = 0; i < css_urls.length; i++) {\n",
       "      var url = css_urls[i];\n",
       "      const element = document.createElement(\"link\");\n",
       "      element.onload = on_load;\n",
       "      element.onerror = on_error;\n",
       "      element.rel = \"stylesheet\";\n",
       "      element.type = \"text/css\";\n",
       "      element.href = url;\n",
       "      console.debug(\"Bokeh: injecting link tag for BokehJS stylesheet: \", url);\n",
       "      document.body.appendChild(element);\n",
       "    }\n",
       "\n",
       "    for (var i = 0; i < js_urls.length; i++) {\n",
       "      var url = js_urls[i];\n",
       "      var element = document.createElement('script');\n",
       "      element.onload = on_load;\n",
       "      element.onerror = on_error;\n",
       "      element.async = false;\n",
       "      element.src = url;\n",
       "      \n",
       "      console.debug(\"Bokeh: injecting script tag for BokehJS library: \", url);\n",
       "      document.head.appendChild(element);\n",
       "    }\n",
       "  };var element = document.getElementById(\"1001\");\n",
       "  if (element == null) {\n",
       "    console.error(\"Bokeh: ERROR: autoload.js configured with elementid '1001' but no matching script tag was found. \")\n",
       "    return false;\n",
       "  }\n",
       "\n",
       "  function inject_raw_css(css) {\n",
       "    const element = document.createElement(\"style\");\n",
       "    element.appendChild(document.createTextNode(css));\n",
       "    document.body.appendChild(element);\n",
       "  }\n",
       "\n",
       "  \n",
       "  var js_urls = [\"https://cdn.bokeh.org/bokeh/release/bokeh-2.0.0.min.js\", \"https://cdn.bokeh.org/bokeh/release/bokeh-widgets-2.0.0.min.js\", \"https://cdn.bokeh.org/bokeh/release/bokeh-tables-2.0.0.min.js\", \"https://cdn.bokeh.org/bokeh/release/bokeh-gl-2.0.0.min.js\"];\n",
       "  var css_urls = [];\n",
       "  \n",
       "\n",
       "  var inline_js = [\n",
       "    function(Bokeh) {\n",
       "      Bokeh.set_log_level(\"info\");\n",
       "    },\n",
       "    function(Bokeh) {\n",
       "    \n",
       "    \n",
       "    }\n",
       "  ];\n",
       "\n",
       "  function run_inline_js() {\n",
       "    \n",
       "    if (root.Bokeh !== undefined || force === true) {\n",
       "      \n",
       "    for (var i = 0; i < inline_js.length; i++) {\n",
       "      inline_js[i].call(root, root.Bokeh);\n",
       "    }\n",
       "    if (force === true) {\n",
       "        display_loaded();\n",
       "      }} else if (Date.now() < root._bokeh_timeout) {\n",
       "      setTimeout(run_inline_js, 100);\n",
       "    } else if (!root._bokeh_failed_load) {\n",
       "      console.log(\"Bokeh: BokehJS failed to load within specified timeout.\");\n",
       "      root._bokeh_failed_load = true;\n",
       "    } else if (force !== true) {\n",
       "      var cell = $(document.getElementById(\"1001\")).parents('.cell').data().cell;\n",
       "      cell.output_area.append_execute_result(NB_LOAD_WARNING)\n",
       "    }\n",
       "\n",
       "  }\n",
       "\n",
       "  if (root._bokeh_is_loading === 0) {\n",
       "    console.debug(\"Bokeh: BokehJS loaded, going straight to plotting\");\n",
       "    run_inline_js();\n",
       "  } else {\n",
       "    load_libs(css_urls, js_urls, function() {\n",
       "      console.debug(\"Bokeh: BokehJS plotting callback run at\", now());\n",
       "      run_inline_js();\n",
       "    });\n",
       "  }\n",
       "}(window));"
      ],
      "application/vnd.bokehjs_load.v0+json": "\n(function(root) {\n  function now() {\n    return new Date();\n  }\n\n  var force = true;\n\n  if (typeof root._bokeh_onload_callbacks === \"undefined\" || force === true) {\n    root._bokeh_onload_callbacks = [];\n    root._bokeh_is_loading = undefined;\n  }\n\n  \n\n  \n  if (typeof (root._bokeh_timeout) === \"undefined\" || force === true) {\n    root._bokeh_timeout = Date.now() + 5000;\n    root._bokeh_failed_load = false;\n  }\n\n  var NB_LOAD_WARNING = {'data': {'text/html':\n     \"<div style='background-color: #fdd'>\\n\"+\n     \"<p>\\n\"+\n     \"BokehJS does not appear to have successfully loaded. If loading BokehJS from CDN, this \\n\"+\n     \"may be due to a slow or bad network connection. Possible fixes:\\n\"+\n     \"</p>\\n\"+\n     \"<ul>\\n\"+\n     \"<li>re-rerun `output_notebook()` to attempt to load from CDN again, or</li>\\n\"+\n     \"<li>use INLINE resources instead, as so:</li>\\n\"+\n     \"</ul>\\n\"+\n     \"<code>\\n\"+\n     \"from bokeh.resources import INLINE\\n\"+\n     \"output_notebook(resources=INLINE)\\n\"+\n     \"</code>\\n\"+\n     \"</div>\"}};\n\n  function display_loaded() {\n    var el = document.getElementById(\"1001\");\n    if (el != null) {\n      el.textContent = \"BokehJS is loading...\";\n    }\n    if (root.Bokeh !== undefined) {\n      if (el != null) {\n        el.textContent = \"BokehJS \" + root.Bokeh.version + \" successfully loaded.\";\n      }\n    } else if (Date.now() < root._bokeh_timeout) {\n      setTimeout(display_loaded, 100)\n    }\n  }\n\n\n  function run_callbacks() {\n    try {\n      root._bokeh_onload_callbacks.forEach(function(callback) {\n        if (callback != null)\n          callback();\n      });\n    } finally {\n      delete root._bokeh_onload_callbacks\n    }\n    console.debug(\"Bokeh: all callbacks have finished\");\n  }\n\n  function load_libs(css_urls, js_urls, callback) {\n    if (css_urls == null) css_urls = [];\n    if (js_urls == null) js_urls = [];\n\n    root._bokeh_onload_callbacks.push(callback);\n    if (root._bokeh_is_loading > 0) {\n      console.debug(\"Bokeh: BokehJS is being loaded, scheduling callback at\", now());\n      return null;\n    }\n    if (js_urls == null || js_urls.length === 0) {\n      run_callbacks();\n      return null;\n    }\n    console.debug(\"Bokeh: BokehJS not loaded, scheduling load and callback at\", now());\n    root._bokeh_is_loading = css_urls.length + js_urls.length;\n\n    function on_load() {\n      root._bokeh_is_loading--;\n      if (root._bokeh_is_loading === 0) {\n        console.debug(\"Bokeh: all BokehJS libraries/stylesheets loaded\");\n        run_callbacks()\n      }\n    }\n\n    function on_error() {\n      console.error(\"failed to load \" + url);\n    }\n\n    for (var i = 0; i < css_urls.length; i++) {\n      var url = css_urls[i];\n      const element = document.createElement(\"link\");\n      element.onload = on_load;\n      element.onerror = on_error;\n      element.rel = \"stylesheet\";\n      element.type = \"text/css\";\n      element.href = url;\n      console.debug(\"Bokeh: injecting link tag for BokehJS stylesheet: \", url);\n      document.body.appendChild(element);\n    }\n\n    for (var i = 0; i < js_urls.length; i++) {\n      var url = js_urls[i];\n      var element = document.createElement('script');\n      element.onload = on_load;\n      element.onerror = on_error;\n      element.async = false;\n      element.src = url;\n      \n      console.debug(\"Bokeh: injecting script tag for BokehJS library: \", url);\n      document.head.appendChild(element);\n    }\n  };var element = document.getElementById(\"1001\");\n  if (element == null) {\n    console.error(\"Bokeh: ERROR: autoload.js configured with elementid '1001' but no matching script tag was found. \")\n    return false;\n  }\n\n  function inject_raw_css(css) {\n    const element = document.createElement(\"style\");\n    element.appendChild(document.createTextNode(css));\n    document.body.appendChild(element);\n  }\n\n  \n  var js_urls = [\"https://cdn.bokeh.org/bokeh/release/bokeh-2.0.0.min.js\", \"https://cdn.bokeh.org/bokeh/release/bokeh-widgets-2.0.0.min.js\", \"https://cdn.bokeh.org/bokeh/release/bokeh-tables-2.0.0.min.js\", \"https://cdn.bokeh.org/bokeh/release/bokeh-gl-2.0.0.min.js\"];\n  var css_urls = [];\n  \n\n  var inline_js = [\n    function(Bokeh) {\n      Bokeh.set_log_level(\"info\");\n    },\n    function(Bokeh) {\n    \n    \n    }\n  ];\n\n  function run_inline_js() {\n    \n    if (root.Bokeh !== undefined || force === true) {\n      \n    for (var i = 0; i < inline_js.length; i++) {\n      inline_js[i].call(root, root.Bokeh);\n    }\n    if (force === true) {\n        display_loaded();\n      }} else if (Date.now() < root._bokeh_timeout) {\n      setTimeout(run_inline_js, 100);\n    } else if (!root._bokeh_failed_load) {\n      console.log(\"Bokeh: BokehJS failed to load within specified timeout.\");\n      root._bokeh_failed_load = true;\n    } else if (force !== true) {\n      var cell = $(document.getElementById(\"1001\")).parents('.cell').data().cell;\n      cell.output_area.append_execute_result(NB_LOAD_WARNING)\n    }\n\n  }\n\n  if (root._bokeh_is_loading === 0) {\n    console.debug(\"Bokeh: BokehJS loaded, going straight to plotting\");\n    run_inline_js();\n  } else {\n    load_libs(css_urls, js_urls, function() {\n      console.debug(\"Bokeh: BokehJS plotting callback run at\", now());\n      run_inline_js();\n    });\n  }\n}(window));"
     },
     "metadata": {},
     "output_type": "display_data"
    }
   ],
   "source": [
    "from bokeh.io import output_notebook, show\n",
    "output_notebook()"
   ]
  },
  {
   "cell_type": "code",
   "execution_count": 2,
   "metadata": {},
   "outputs": [
    {
     "name": "stdout",
     "output_type": "stream",
     "text": [
      "[*********************100%*************************] Downloading ... COMPLETE\r"
     ]
    }
   ],
   "source": [
    "from see19 import CaseStudy, get_baseframe\n",
    "baseframe = get_baseframe()"
   ]
  },
  {
   "cell_type": "code",
   "execution_count": 3,
   "metadata": {},
   "outputs": [],
   "source": [
    "itaregions = baseframe[baseframe['country'] == 'Italy'] \\\n",
    "    .sort_values(by='deaths', ascending=False).region_name.unique().tolist()[:3]\n",
    "\n",
    "casestudy = CaseStudy(baseframe, regions=itaregions, start_hurdle=3, start_factor='deaths')"
   ]
  },
  {
   "cell_type": "markdown",
   "metadata": {},
   "source": [
    "When `CaseStudy` is instantiated, `comp_chart` is also instantiated with its own attributes."
   ]
  },
  {
   "cell_type": "code",
   "execution_count": 4,
   "metadata": {},
   "outputs": [
    {
     "name": "stdout",
     "output_type": "stream",
     "text": [
      "<see19.charts.CompChart2D object at 0x124381650>\n"
     ]
    }
   ],
   "source": [
    "print (casestudy.comp_chart)"
   ]
  },
  {
   "cell_type": "markdown",
   "metadata": {},
   "source": [
    "In particular, all the various `comp_categories` and `factors` are automatically provided labels via the `label` attribute. There are many labels but some are show below for illustration purposes."
   ]
  },
  {
   "cell_type": "code",
   "execution_count": 5,
   "metadata": {},
   "outputs": [
    {
     "name": "stdout",
     "output_type": "stream",
     "text": [
      "cases_dma: Cumulative Cases (3DMA)\n",
      "cases_new: Daily Cases\n",
      "cases_new_dma: Daily Cases (3DMA)\n",
      "deaths_dma: Cumulative Deaths (3DMA)\n",
      "deaths_new: Daily Deaths\n",
      "deaths_new_dma: Daily Deaths (3DMA)\n",
      "tests_dma: Cumulative Tests (3DMA)\n",
      "tests_new: Daily Tests\n",
      "tests_new_dma: Daily Tests (3DMA)\n",
      "cases: Cumulative Cases\n",
      "deaths: Cumulative Deaths\n",
      "tests: Cumulative Tests\n",
      "cases_dma_per_1M: Cumulative Cases per 1M (3DMA)\n",
      "cases_dma_per_person_per_land_KM2: Cumulative Cases / Person / Land KM² (3DMA)\n",
      "cases_dma_per_person_per_city_KM2: Cumulative Cases / Person / City KM² (3DMA)\n",
      "cases_new_per_1M: Daily Cases per 1M\n",
      "cases_new_per_person_per_land_KM2: Daily Cases / Person / Land KM²\n",
      "cases_new_per_person_per_city_KM2: Daily Cases / Person / City KM²\n",
      "cases_new_dma_per_1M: Daily Cases per 1M (3DMA)\n",
      "cases_new_dma_per_person_per_land_KM2: Daily Cases / Person / Land KM² (3DMA)\n",
      "cases_new_dma_per_person_per_city_KM2: Daily Cases / Person / City KM² (3DMA)\n",
      "deaths_dma_per_1M: Cumulative Deaths per 1M (3DMA)\n",
      "deaths_dma_per_person_per_land_KM2: Cumulative Deaths / Person / Land KM² (3DMA)\n",
      "deaths_dma_per_person_per_city_KM2: Cumulative Deaths / Person / City KM² (3DMA)\n",
      "deaths_new_per_1M: Daily Deaths per 1M\n",
      "deaths_new_per_person_per_land_KM2: Daily Deaths / Person / Land KM²\n",
      "deaths_new_per_person_per_city_KM2: Daily Deaths / Person / City KM²\n",
      "deaths_new_dma_per_1M: Daily Deaths per 1M (3DMA)\n",
      "deaths_new_dma_per_person_per_land_KM2: Daily Deaths / Person / Land KM² (3DMA)\n",
      "deaths_new_dma_per_person_per_city_KM2: Daily Deaths / Person / City KM² (3DMA)\n",
      "tests_dma_per_1M: Cumulative Tests per 1M (3DMA)\n",
      "tests_dma_per_person_per_land_KM2: Cumulative Tests / Person / Land KM² (3DMA)\n",
      "tests_dma_per_person_per_city_KM2: Cumulative Tests / Person / City KM² (3DMA)\n",
      "tests_new_per_1M: Daily Tests per 1M\n",
      "tests_new_per_person_per_land_KM2: Daily Tests / Person / Land KM²\n",
      "tests_new_per_person_per_city_KM2: Daily Tests / Person / City KM²\n",
      "tests_new_dma_per_1M: Daily Tests per 1M (3DMA)\n",
      "tests_new_dma_per_person_per_land_KM2: Daily Tests / Person / Land KM² (3DMA)\n",
      "tests_new_dma_per_person_per_city_KM2: Daily Tests / Person / City KM² (3DMA)\n",
      "cases_per_1M: Cumulative Cases per 1M\n",
      "cases_per_person_per_land_KM2: Cumulative Cases / Person / Land KM²\n",
      "cases_per_person_per_city_KM2: Cumulative Cases / Person / City KM²\n",
      "deaths_per_1M: Cumulative Deaths per 1M\n",
      "deaths_per_person_per_land_KM2: Cumulative Deaths / Person / Land KM²\n",
      "deaths_per_person_per_city_KM2: Cumulative Deaths / Person / City KM²\n",
      "tests_per_1M: Cumulative Tests per 1M\n",
      "tests_per_person_per_land_KM2: Cumulative Tests / Person / Land KM²\n",
      "tests_per_person_per_city_KM2: Cumulative Tests / Person / City KM²\n",
      "cases_dma_lognat: Cumulative Cases (3DMA)\n",
      "(Natural Log)\n",
      "cases_new_lognat: Daily Cases\n",
      "(Natural Log)\n",
      "cases_new_dma_lognat: Daily Cases (3DMA)\n",
      "(Natural Log)\n",
      "deaths_dma_lognat: Cumulative Deaths (3DMA)\n",
      "(Natural Log)\n",
      "deaths_new_lognat: Daily Deaths\n",
      "(Natural Log)\n",
      "deaths_new_dma_lognat: Daily Deaths (3DMA)\n",
      "(Natural Log)\n",
      "tests_dma_lognat: Cumulative Tests (3DMA)\n",
      "(Natural Log)\n",
      "tests_new_lognat: Daily Tests\n",
      "(Natural Log)\n",
      "tests_new_dma_lognat: Daily Tests (3DMA)\n",
      "(Natural Log)\n",
      "cases_lognat: Cumulative Cases\n",
      "(Natural Log)\n",
      "deaths_lognat: Cumulative Deaths\n",
      "(Natural Log)\n",
      "tests_lognat: Cumulative Tests\n",
      "(Natural Log)\n",
      "cases_dma_per_1M_lognat: Cumulative Cases per 1M (3DMA)\n",
      "(Natural Log)\n",
      "cases_dma_per_person_per_land_KM2_lognat: Cumulative Cases / Person / Land KM² (3DMA)\n",
      "(Natural Log)\n",
      "cases_dma_per_person_per_city_KM2_lognat: Cumulative Cases / Person / City KM² (3DMA)\n",
      "(Natural Log)\n",
      "cases_new_per_1M_lognat: Daily Cases per 1M\n",
      "(Natural Log)\n",
      "cases_new_per_person_per_land_KM2_lognat: Daily Cases / Person / Land KM²\n",
      "(Natural Log)\n",
      "cases_new_per_person_per_city_KM2_lognat: Daily Cases / Person / City KM²\n",
      "(Natural Log)\n",
      "cases_new_dma_per_1M_lognat: Daily Cases per 1M (3DMA)\n",
      "(Natural Log)\n",
      "cases_new_dma_per_person_per_land_KM2_lognat: Daily Cases / Person / Land KM² (3DMA)\n",
      "(Natural Log)\n",
      "cases_new_dma_per_person_per_city_KM2_lognat: Daily Cases / Person / City KM² (3DMA)\n",
      "(Natural Log)\n",
      "deaths_dma_per_1M_lognat: Cumulative Deaths per 1M (3DMA)\n",
      "(Natural Log)\n",
      "deaths_dma_per_person_per_land_KM2_lognat: Cumulative Deaths / Person / Land KM² (3DMA)\n",
      "(Natural Log)\n",
      "deaths_dma_per_person_per_city_KM2_lognat: Cumulative Deaths / Person / City KM² (3DMA)\n",
      "(Natural Log)\n",
      "deaths_new_per_1M_lognat: Daily Deaths per 1M\n",
      "(Natural Log)\n",
      "deaths_new_per_person_per_land_KM2_lognat: Daily Deaths / Person / Land KM²\n",
      "(Natural Log)\n",
      "deaths_new_per_person_per_city_KM2_lognat: Daily Deaths / Person / City KM²\n",
      "(Natural Log)\n",
      "deaths_new_dma_per_1M_lognat: Daily Deaths per 1M (3DMA)\n",
      "(Natural Log)\n",
      "deaths_new_dma_per_person_per_land_KM2_lognat: Daily Deaths / Person / Land KM² (3DMA)\n",
      "(Natural Log)\n",
      "deaths_new_dma_per_person_per_city_KM2_lognat: Daily Deaths / Person / City KM² (3DMA)\n",
      "(Natural Log)\n",
      "tests_dma_per_1M_lognat: Cumulative Tests per 1M (3DMA)\n",
      "(Natural Log)\n",
      "tests_dma_per_person_per_land_KM2_lognat: Cumulative Tests / Person / Land KM² (3DMA)\n",
      "(Natural Log)\n",
      "tests_dma_per_person_per_city_KM2_lognat: Cumulative Tests / Person / City KM² (3DMA)\n",
      "(Natural Log)\n",
      "tests_new_per_1M_lognat: Daily Tests per 1M\n",
      "(Natural Log)\n",
      "tests_new_per_person_per_land_KM2_lognat: Daily Tests / Person / Land KM²\n",
      "(Natural Log)\n",
      "tests_new_per_person_per_city_KM2_lognat: Daily Tests / Person / City KM²\n",
      "(Natural Log)\n",
      "tests_new_dma_per_1M_lognat: Daily Tests per 1M (3DMA)\n",
      "(Natural Log)\n",
      "tests_new_dma_per_person_per_land_KM2_lognat: Daily Tests / Person / Land KM² (3DMA)\n",
      "(Natural Log)\n",
      "tests_new_dma_per_person_per_city_KM2_lognat: Daily Tests / Person / City KM² (3DMA)\n",
      "(Natural Log)\n",
      "cases_per_1M_lognat: Cumulative Cases per 1M\n",
      "(Natural Log)\n",
      "cases_per_person_per_land_KM2_lognat: Cumulative Cases / Person / Land KM²\n",
      "(Natural Log)\n",
      "cases_per_person_per_city_KM2_lognat: Cumulative Cases / Person / City KM²\n",
      "(Natural Log)\n",
      "deaths_per_1M_lognat: Cumulative Deaths per 1M\n",
      "(Natural Log)\n",
      "deaths_per_person_per_land_KM2_lognat: Cumulative Deaths / Person / Land KM²\n",
      "(Natural Log)\n",
      "deaths_per_person_per_city_KM2_lognat: Cumulative Deaths / Person / City KM²\n",
      "(Natural Log)\n",
      "tests_per_1M_lognat: Cumulative Tests per 1M\n",
      "(Natural Log)\n",
      "tests_per_person_per_land_KM2_lognat: Cumulative Tests / Person / Land KM²\n",
      "(Natural Log)\n",
      "tests_per_person_per_city_KM2_lognat: Cumulative Tests / Person / City KM²\n",
      "(Natural Log)\n",
      ": January 2020\n",
      "population: Population\n",
      "land_dens: Density of Land Area\n",
      "city_dens: Population Density of Largest City\n",
      "uvb: UV-B Radiation in J / M²\n",
      "rhum: Relative Humidity\n",
      "strindex: Oxford Stringency Index\n",
      "visitors: Annual Visitors\n",
      "visitors_%: Annual Visitors as % of Population\n",
      "gdp: Gross Domestic Product\n",
      "gdp_%: Gross Domestic Product per Capita\n",
      "retail_n_rec: Change in Retail n Recreation Mobility\n",
      "transit: Change in Transit Mobility\n",
      "workplaces: Change in WorkPlace Mobility\n",
      "residential: Change in Residential Mobility\n",
      "parks: Change in Parks Mobility\n",
      "groc_n_pharm: Change in Grocery & Pharmacy Mobility\n",
      "transit_apple: Change in Transit Mobility - Apple\n",
      "driving_apple: Change in Driving Mobility - Apple\n",
      "walking_apple: Change in Walking Mobility - Apple\n",
      "c1: School Closing\n",
      "c2: Workplace Closing\n",
      "c3: Cancel Public Events\n",
      "c4: Restrictions on Gatherings\n",
      "c5: Close Public Transport\n",
      "c6: Stay-at-Home Requirements\n",
      "c7: Restrictions on Internal Movement\n",
      "c8: International Travel Controls\n",
      "e1: Income Support\n",
      "e2: Debt / Contract Relief\n",
      "e3: Fiscal Measures\n",
      "e4: International Support\n",
      "h1: Public Information Campaigns\n",
      "h2: Testing Policy\n",
      "h3: Contact Tracing\n",
      "h4: Emergency Investment in Health Care\n",
      "h5: Investment in Vaccines\n",
      "key3_sum: Sum of the Key 3 Indicators\n",
      "key3_sum_earlier: Sum of Key 3 Oxford Stingency Factor Weighted to Earlier Dates\n",
      "make_sum: Custom Stringency Aggregate\n",
      "neoplasms: NeoPlasms Fatalities\n",
      "blood: Blood-based Fatalities\n",
      "endo: Endocrine Fatalities\n",
      "mental: Mental Fatalities\n",
      "nervous: Nervous System Fatalities\n",
      "circul: Circulatory Fatalities\n",
      "infectious: Infectious Fatalities\n",
      "respir: Respiratory Fatalities\n",
      "digest: Digestive Fatalities\n",
      "skin: Skin-related Fatalities\n",
      "musculo: Musculo-skeletal Fatalities\n",
      "genito: Genitourinary Fatalities\n",
      "childbirth: Maternal and Childbirth Fatalities\n",
      "perinatal: Perinatal Fatalities\n",
      "congenital: Congenital Fatalities\n",
      "other: Other Fatalities\n",
      "external: External Fatalities\n",
      "temp: Temperature (°C)\n"
     ]
    }
   ],
   "source": [
    "for k,v in casestudy.comp_chart.labels.items():\n",
    "    print ('{}: {}'.format(k, v))\n",
    "    if k == 'temp':\n",
    "        break"
   ]
  },
  {
   "cell_type": "markdown",
   "metadata": {},
   "source": [
    "### make()\n",
    "\n",
    "Charts are rendered with the `make` method. \n",
    "\n",
    "The basic `comp_chart` is structured as the `comp_category` on the y-axis with the number of days from the `start_hurdle` on the x-axis.\n",
    "\n",
    "`comp_category` is the major keyword, which defaults to `deaths_new_dma_per_1M`\n",
    "\n",
    "`make` accepts many optional kwargs. Below we see that `height` and `width` can be customized and that the positioning of the line labels can be adjusted using `label_offsets`"
   ]
  },
  {
   "cell_type": "code",
   "execution_count": 6,
   "metadata": {},
   "outputs": [
    {
     "data": {
      "text/html": [
       "\n",
       "\n",
       "\n",
       "\n",
       "\n",
       "\n",
       "  <div class=\"bk-root\" id=\"f64a0276-13a7-4563-adda-9fe18045f6f4\" data-root-id=\"1003\"></div>\n"
      ]
     },
     "metadata": {},
     "output_type": "display_data"
    },
    {
     "data": {
      "application/javascript": [
       "(function(root) {\n",
       "  function embed_document(root) {\n",
       "    \n",
       "  var docs_json = {\"885a1251-e99e-4da9-953b-18069f48608d\":{\"roots\":{\"references\":[{\"attributes\":{\"background_fill_color\":\"white\",\"below\":[{\"id\":\"1013\"}],\"border_fill_color\":\"white\",\"center\":[{\"id\":\"1016\"},{\"id\":\"1020\"},{\"id\":\"1046\"},{\"id\":\"1050\"},{\"id\":\"1051\"},{\"id\":\"1052\"}],\"left\":[{\"id\":\"1017\"}],\"min_border\":20,\"outline_line_color\":\"white\",\"plot_height\":500,\"plot_width\":725,\"renderers\":[{\"id\":\"1038\"}],\"title\":{\"id\":\"1004\"},\"toolbar\":{\"id\":\"1027\"},\"toolbar_location\":null,\"x_range\":{\"id\":\"1006\"},\"x_scale\":{\"id\":\"1009\"},\"y_range\":{\"id\":\"1002\"},\"y_scale\":{\"id\":\"1011\"}},\"id\":\"1003\",\"subtype\":\"Figure\",\"type\":\"Plot\"},{\"attributes\":{},\"id\":\"1006\",\"type\":\"DataRange1d\"},{\"attributes\":{\"data\":{\"color\":[\"#440154\",\"#30678D\",\"#35B778\"],\"regions\":[\"Lombardia\",\"Piemonte\",\"Emilia-Romagna\"],\"x\":[[0,1,2,3,4,5,6,7,8,9,10,11,12,13,14,15,16,17,18,19,20,21,22,23,24,25,26,27,28,29,30,31,32,33,34,35,36,37,38,39,40,41,42,43,44,45,46,47,48,49,50,51,52,53,54,55,56,57,58,59,60,61,62,63,64,65,66,67,68,69,70,71,72,73,74,75,76,77,78,79,80,81,82,83,84,85,86,87,88,89,90,91,92,93,94],[0,1,2,3,4,5,6,7,8,9,10,11,12,13,14,15,16,17,18,19,20,21,22,23,24,25,26,27,28,29,30,31,32,33,34,35,36,37,38,39,40,41,42,43,44,45,46,47,48,49,50,51,52,53,54,55,56,57,58,59,60,61,62,63,64,65,66,67,68,69,70,71,72,73,74,75,76,77,78,79,80,81,82,83,84,85,86],[0,1,2,3,4,5,6,7,8,9,10,11,12,13,14,15,16,17,18,19,20,21,22,23,24,25,26,27,28,29,30,31,32,33,34,35,36,37,38,39,40,41,42,43,44,45,46,47,48,49,50,51,52,53,54,55,56,57,58,59,60,61,62,63,64,65,66,67,68,69,70,71,72,73,74,75,76,77,78,79,80,81,82,83,84,85,86,87,88,89,90,91,92]],\"y\":[[0.27687861447726286,0.27687861447726286,0.48453757533521,0.3460982680965786,0.726806363002815,1.1075144579090515,1.695881513673235,2.0765896085794715,2.768786144772629,2.8033959715822863,5.8490607308321785,6.852745708312256,10.867485618232568,12.113439383380252,14.22463881876938,14.605346913675616,12.078829556570593,16.405057907777827,18.343208209118664,23.327023269709397,25.645881665956473,25.888150453624082,31.460332569978995,39.31676325577133,44.57745693083932,42.46625749545019,37.48244243485946,35.2328036922317,37.55166208847878,42.362428015021216,50.87644541019705,51.880130387677134,49.00751476247552,43.43533264612061,42.673916456308135,39.524422216629276,38.48612741233954,36.7902458986663,32.70628633512668,30.83735568740515,28.656936598396708,28.27622850349047,28.380057983919443,26.095809414482027,27.307153352820052,20.731286258985058,22.94631517480316,21.83880071689411,26.16502906810134,24.469147554428105,24.538367208047422,23.29241344289974,20.938945219843003,18.170159075070373,18.308598382309007,18.23937872868969,19.519942320647033,18.23937872868969,18.308598382309007,13.324783321718277,11.871170595712645,10.590607003755304,12.25187869061888,11.178974059519488,9.86380064075249,17.65101167292551,15.885910505632957,15.020664835391509,6.921965361931572,13.151734187669986,15.609031891155693,15.574422064346034,10.832875791422909,8.340968261127543,7.441112764076441,6.645086747454309,6.887355535121913,8.375578087937201,10.209898908849068,9.171604104559332,7.717991378553702,4.568497138874838,5.0876445410197055,4.949205233781074,6.368208132977046,6.4720376134060205,6.160549172119099,3.910910429491338,3.1148844128692073,1.93815030134084,3.945520256300996,3.460982680965786,4.014739909920311,4.326228351207232,4.776156099732784],[0.3066587732698427,0.38332346658730343,0.22999407995238202,0.6899822398571461,0.9199763198095281,1.2266350930793708,0.9966410131269888,2.2232761062063595,2.9132583460635053,4.216558132460337,4.9832050656349445,5.67318730549209,5.596522612174629,4.906540372317483,5.826516692127011,6.4398342386666965,8.279786878285753,8.12645749165083,10.426398291174651,12.726339090698472,10.273068904539729,14.949615196904832,12.879668477333393,18.016202929603256,13.799644797142921,18.16953231623818,15.486268050127054,17.9395382362858,14.489627037000067,18.552855782825485,14.182968263730224,15.946256210031821,14.642956423634988,16.099585596666742,15.562932743444518,16.329579676619122,19.54949679595247,21.082790662301687,22.53941983533344,22.53941983533344,21.92610228879375,20.546137809079458,18.706185169460404,18.16953231623818,18.16953231623818,18.24619700955564,17.862873542968337,17.479550076381035,16.94289722315881,16.406244369936584,15.946256210031821,14.796285810269909,13.72298010382546,12.956333170650854,13.799644797142921,14.412962343682608,12.343015624111167,9.429757278047664,6.593163625301619,6.823157705254,6.899822398571461,7.283145865158764,7.359810558476225,6.823157705254,6.4398342386666965,6.516498931984157,7.283145865158764,7.436475251793686,7.129816478523843,7.129816478523843,9.889745437952426,10.273068904539729,9.12309850477782,5.74985199880955,6.516498931984157,8.12645749165083,8.433116264920674,5.979846078761933,4.063228745825415,3.1432524260158874,3.1432524260158874,3.1432524260158874,3.4499111992857303,3.0665877326984274,2.9899230393809666,2.29994079952382,2.2232761062063595],[0.23225653012460099,0.541931903624069,0.6967695903738029,1.083863807248138,1.083863807248138,1.470958024122473,1.470958024122473,2.0128899277465417,2.0128899277465417,2.554821831370611,2.8644972048700788,4.412874072367419,5.883832096489892,8.980585831484571,9.909611951982974,10.683800385731645,11.225732289355715,11.767664192979783,13.470878747226857,14.322486024350393,19.122454313592147,19.896642747340817,22.064370361837092,19.509548530466482,20.903087711214088,20.206318120840283,21.832113831712494,21.832113831712494,20.67083118108949,20.825668867839223,20.980506554588953,23.225653012460096,22.374045735336562,21.13534424133869,19.974061590715685,18.967616626842414,18.58052240996808,15.948281735222603,15.716025205098001,14.16764833760066,16.103119421972334,16.79988901234614,19.122454313592147,19.199873156967016,16.877307855721007,17.341820915970207,17.341820915970207,17.651496289469677,15.328930988223663,13.703135277351459,13.935391807476059,13.62571643397659,14.090229494225792,14.012810650850927,14.70958024122473,12.077339566479251,11.070894602605978,9.058004674859438,9.909611951982974,9.677355421858374,9.754774265233241,9.29026120498404,8.283816241110769,7.896722024236434,7.045114747112896,6.735439373613429,7.045114747112896,7.354790120612365,7.741884337486701,7.122533590487764,6.967695903738029,6.116088626614492,5.419319036240689,4.490292915742286,4.64513060249202,4.8773871326166205,4.490292915742286,4.258036385617684,3.329010265119281,3.329010265119281,2.8644972048700788,2.7096595181203447,3.019334891619813,3.09675373499468,3.019334891619813,2.32256530124601,2.399984144620877,2.245146457871143,2.167727614496276,2.0128899277465417,2.0128899277465417,1.8580522409968079,1.54837686749734]]},\"selected\":{\"id\":\"1059\"},\"selection_policy\":{\"id\":\"1058\"}},\"id\":\"1034\",\"type\":\"ColumnDataSource\"},{\"attributes\":{},\"id\":\"1009\",\"type\":\"LinearScale\"},{\"attributes\":{},\"id\":\"1026\",\"type\":\"HelpTool\"},{\"attributes\":{\"data_source\":{\"id\":\"1034\"},\"glyph\":{\"id\":\"1036\"},\"hover_glyph\":null,\"muted_glyph\":null,\"nonselection_glyph\":{\"id\":\"1037\"},\"selection_glyph\":null,\"view\":{\"id\":\"1039\"}},\"id\":\"1038\",\"type\":\"GlyphRenderer\"},{\"attributes\":{\"active_drag\":\"auto\",\"active_inspect\":\"auto\",\"active_multi\":null,\"active_scroll\":\"auto\",\"active_tap\":\"auto\",\"tools\":[{\"id\":\"1021\"},{\"id\":\"1022\"},{\"id\":\"1023\"},{\"id\":\"1024\"},{\"id\":\"1025\"},{\"id\":\"1026\"}]},\"id\":\"1027\",\"type\":\"Toolbar\"},{\"attributes\":{\"source\":{\"id\":\"1034\"}},\"id\":\"1039\",\"type\":\"CDSView\"},{\"attributes\":{},\"id\":\"1018\",\"type\":\"BasicTicker\"},{\"attributes\":{\"line_alpha\":{\"value\":0.1},\"line_color\":{\"field\":\"color\"},\"line_width\":{\"value\":5},\"xs\":{\"field\":\"x\"},\"ys\":{\"field\":\"y\"}},\"id\":\"1037\",\"type\":\"MultiLine\"},{\"attributes\":{},\"id\":\"1014\",\"type\":\"BasicTicker\"},{\"attributes\":{\"background_fill_alpha\":0.0,\"border_line_alpha\":0.0,\"border_line_color\":\"black\",\"items\":[{\"id\":\"1047\"},{\"id\":\"1048\"},{\"id\":\"1049\"}],\"label_text_font_size\":\"8pt\",\"title\":\"Region: Start Date\",\"visible\":false},\"id\":\"1046\",\"type\":\"Legend\"},{\"attributes\":{\"axis\":{\"id\":\"1013\"},\"grid_line_color\":null,\"ticker\":null},\"id\":\"1016\",\"type\":\"Grid\"},{\"attributes\":{\"index\":0,\"label\":{\"value\":\"Lombardia\"},\"renderers\":[{\"id\":\"1038\"}]},\"id\":\"1048\",\"type\":\"LegendItem\"},{\"attributes\":{},\"id\":\"1044\",\"type\":\"BasicTickFormatter\"},{\"attributes\":{},\"id\":\"1042\",\"type\":\"BasicTickFormatter\"},{\"attributes\":{\"text\":\"\"},\"id\":\"1004\",\"type\":\"Title\"},{\"attributes\":{\"bottom_units\":\"screen\",\"fill_alpha\":0.5,\"fill_color\":\"lightgrey\",\"left_units\":\"screen\",\"level\":\"overlay\",\"line_alpha\":1.0,\"line_color\":\"black\",\"line_dash\":[4,4],\"line_width\":2,\"render_mode\":\"css\",\"right_units\":\"screen\",\"top_units\":\"screen\"},\"id\":\"1045\",\"type\":\"BoxAnnotation\"},{\"attributes\":{\"axis\":{\"id\":\"1017\"},\"dimension\":1,\"grid_line_color\":null,\"ticker\":null},\"id\":\"1020\",\"type\":\"Grid\"},{\"attributes\":{\"index\":2,\"label\":{\"value\":\"Emilia-Romagna\"},\"renderers\":[{\"id\":\"1038\"}]},\"id\":\"1047\",\"type\":\"LegendItem\"},{\"attributes\":{\"line_color\":{\"field\":\"color\"},\"line_width\":{\"value\":5},\"xs\":{\"field\":\"x\"},\"ys\":{\"field\":\"y\"}},\"id\":\"1036\",\"type\":\"MultiLine\"},{\"attributes\":{\"index\":1,\"label\":{\"value\":\"Piemonte\"},\"renderers\":[{\"id\":\"1038\"}]},\"id\":\"1049\",\"type\":\"LegendItem\"},{\"attributes\":{\"text\":\"Piemonte\",\"text_alpha\":0.8,\"text_color\":\"#30678D\",\"text_font_size\":\"8pt\",\"text_font_style\":\"bold\",\"x\":86,\"x_offset\":-195,\"y\":2.2232761062063595,\"y_offset\":15},\"id\":\"1051\",\"type\":\"Label\"},{\"attributes\":{\"axis_label\":\"Days Since 3 Cumulative Deaths\",\"formatter\":{\"id\":\"1042\"},\"major_label_text_font_size\":\"16pt\",\"major_tick_line_color\":null,\"ticker\":{\"id\":\"1014\"}},\"id\":\"1013\",\"type\":\"LinearAxis\"},{\"attributes\":{\"text\":\"Emilia-Romagna\",\"text_alpha\":0.8,\"text_color\":\"#35B778\",\"text_font_size\":\"8pt\",\"text_font_style\":\"bold\",\"x\":92,\"x_offset\":-170,\"y\":1.54837686749734},\"id\":\"1052\",\"type\":\"Label\"},{\"attributes\":{},\"id\":\"1021\",\"type\":\"PanTool\"},{\"attributes\":{},\"id\":\"1011\",\"type\":\"LinearScale\"},{\"attributes\":{},\"id\":\"1022\",\"type\":\"WheelZoomTool\"},{\"attributes\":{},\"id\":\"1025\",\"type\":\"ResetTool\"},{\"attributes\":{\"end\":57.06814342644485,\"start\":0.23229402075190583},\"id\":\"1002\",\"type\":\"Range1d\"},{\"attributes\":{\"overlay\":{\"id\":\"1045\"}},\"id\":\"1023\",\"type\":\"BoxZoomTool\"},{\"attributes\":{},\"id\":\"1058\",\"type\":\"UnionRenderers\"},{\"attributes\":{\"text\":\"Lombardia\",\"text_alpha\":0.8,\"text_color\":\"#440154\",\"text_font_size\":\"8pt\",\"text_font_style\":\"bold\",\"x\":94,\"x_offset\":-295,\"y\":4.776156099732784,\"y_offset\":170},\"id\":\"1050\",\"type\":\"Label\"},{\"attributes\":{},\"id\":\"1024\",\"type\":\"SaveTool\"},{\"attributes\":{},\"id\":\"1059\",\"type\":\"Selection\"},{\"attributes\":{\"axis_label\":\"Daily Deaths per 1M (3DMA)\",\"formatter\":{\"id\":\"1044\"},\"major_label_text_font_size\":\"16pt\",\"ticker\":{\"id\":\"1018\"}},\"id\":\"1017\",\"type\":\"LinearAxis\"}],\"root_ids\":[\"1003\"]},\"title\":\"Bokeh Application\",\"version\":\"2.0.0\"}};\n",
       "  var render_items = [{\"docid\":\"885a1251-e99e-4da9-953b-18069f48608d\",\"root_ids\":[\"1003\"],\"roots\":{\"1003\":\"f64a0276-13a7-4563-adda-9fe18045f6f4\"}}];\n",
       "  root.Bokeh.embed.embed_items_notebook(docs_json, render_items);\n",
       "\n",
       "  }\n",
       "  if (root.Bokeh !== undefined) {\n",
       "    embed_document(root);\n",
       "  } else {\n",
       "    var attempts = 0;\n",
       "    var timer = setInterval(function(root) {\n",
       "      if (root.Bokeh !== undefined) {\n",
       "        clearInterval(timer);\n",
       "        embed_document(root);\n",
       "      } else {\n",
       "        attempts++;\n",
       "        if (attempts > 100) {\n",
       "          clearInterval(timer);\n",
       "          console.log(\"Bokeh: ERROR: Unable to run BokehJS code because BokehJS library is missing\");\n",
       "        }\n",
       "      }\n",
       "    }, 10, root)\n",
       "  }\n",
       "})(window);"
      ],
      "application/vnd.bokehjs_exec.v0+json": ""
     },
     "metadata": {
      "application/vnd.bokehjs_exec.v0+json": {
       "id": "1003"
      }
     },
     "output_type": "display_data"
    }
   ],
   "source": [
    "kwargs = {\n",
    "    'width': 725, 'height': 500,\n",
    "    'label_offsets': {\n",
    "        'Piemonte': {'x_offset': -175, 'y_offset': 10},\n",
    "        'Emilia-Romagna': {'x_offset': -150, 'y_offset': -5},\n",
    "        'Lombardia': {'x_offset': -275, 'y_offset': 165},\n",
    "    },    \n",
    "}\n",
    "p = casestudy.comp_chart.make(comp_type='multiline', **kwargs)\n",
    "show(p)"
   ]
  },
  {
   "cell_type": "markdown",
   "metadata": {},
   "source": [
    "After `make` is called, many other attributes are available on the `casestudy.comp_chart` instance, including a dataframe tailor-made to the chart"
   ]
  },
  {
   "cell_type": "code",
   "execution_count": 7,
   "metadata": {},
   "outputs": [
    {
     "data": {
      "text/html": [
       "<div>\n",
       "<style scoped>\n",
       "    .dataframe tbody tr th:only-of-type {\n",
       "        vertical-align: middle;\n",
       "    }\n",
       "\n",
       "    .dataframe tbody tr th {\n",
       "        vertical-align: top;\n",
       "    }\n",
       "\n",
       "    .dataframe thead th {\n",
       "        text-align: right;\n",
       "    }\n",
       "</style>\n",
       "<table border=\"1\" class=\"dataframe\">\n",
       "  <thead>\n",
       "    <tr style=\"text-align: right;\">\n",
       "      <th></th>\n",
       "      <th>region_id</th>\n",
       "      <th>country_id</th>\n",
       "      <th>region_code</th>\n",
       "      <th>region_name</th>\n",
       "      <th>country_code</th>\n",
       "      <th>country</th>\n",
       "      <th>date</th>\n",
       "      <th>cases</th>\n",
       "      <th>deaths</th>\n",
       "      <th>tests</th>\n",
       "      <th>...</th>\n",
       "      <th>growth_cases_per_1M</th>\n",
       "      <th>growth_cases_per_person_per_land_KM2</th>\n",
       "      <th>growth_cases_per_person_per_city_KM2</th>\n",
       "      <th>growth_deaths_per_1M</th>\n",
       "      <th>growth_deaths_per_person_per_land_KM2</th>\n",
       "      <th>growth_deaths_per_person_per_city_KM2</th>\n",
       "      <th>growth_tests_per_1M</th>\n",
       "      <th>growth_tests_per_person_per_land_KM2</th>\n",
       "      <th>growth_tests_per_person_per_city_KM2</th>\n",
       "      <th>days</th>\n",
       "    </tr>\n",
       "  </thead>\n",
       "  <tbody>\n",
       "    <tr>\n",
       "      <th>23374</th>\n",
       "      <td>36</td>\n",
       "      <td>110</td>\n",
       "      <td>LOM</td>\n",
       "      <td>Lombardia</td>\n",
       "      <td>ITA</td>\n",
       "      <td>Italy</td>\n",
       "      <td>2020-02-27</td>\n",
       "      <td>403.0</td>\n",
       "      <td>14.0</td>\n",
       "      <td>NaN</td>\n",
       "      <td>...</td>\n",
       "      <td>1.562016</td>\n",
       "      <td>1.562016</td>\n",
       "      <td>1.562016</td>\n",
       "      <td>1.555556</td>\n",
       "      <td>1.555556</td>\n",
       "      <td>1.555556</td>\n",
       "      <td>NaN</td>\n",
       "      <td>NaN</td>\n",
       "      <td>NaN</td>\n",
       "      <td>3 days</td>\n",
       "    </tr>\n",
       "    <tr>\n",
       "      <th>23375</th>\n",
       "      <td>36</td>\n",
       "      <td>110</td>\n",
       "      <td>LOM</td>\n",
       "      <td>Lombardia</td>\n",
       "      <td>ITA</td>\n",
       "      <td>Italy</td>\n",
       "      <td>2020-02-28</td>\n",
       "      <td>531.0</td>\n",
       "      <td>17.0</td>\n",
       "      <td>NaN</td>\n",
       "      <td>...</td>\n",
       "      <td>1.317618</td>\n",
       "      <td>1.317618</td>\n",
       "      <td>1.317618</td>\n",
       "      <td>1.214286</td>\n",
       "      <td>1.214286</td>\n",
       "      <td>1.214286</td>\n",
       "      <td>NaN</td>\n",
       "      <td>NaN</td>\n",
       "      <td>NaN</td>\n",
       "      <td>4 days</td>\n",
       "    </tr>\n",
       "  </tbody>\n",
       "</table>\n",
       "<p>2 rows × 116 columns</p>\n",
       "</div>"
      ],
      "text/plain": [
       "       region_id  country_id region_code region_name country_code country  \\\n",
       "23374         36         110         LOM   Lombardia          ITA   Italy   \n",
       "23375         36         110         LOM   Lombardia          ITA   Italy   \n",
       "\n",
       "            date  cases  deaths  tests  ...  growth_cases_per_1M  \\\n",
       "23374 2020-02-27  403.0    14.0    NaN  ...             1.562016   \n",
       "23375 2020-02-28  531.0    17.0    NaN  ...             1.317618   \n",
       "\n",
       "       growth_cases_per_person_per_land_KM2  \\\n",
       "23374                              1.562016   \n",
       "23375                              1.317618   \n",
       "\n",
       "       growth_cases_per_person_per_city_KM2  growth_deaths_per_1M  \\\n",
       "23374                              1.562016              1.555556   \n",
       "23375                              1.317618              1.214286   \n",
       "\n",
       "       growth_deaths_per_person_per_land_KM2  \\\n",
       "23374                               1.555556   \n",
       "23375                               1.214286   \n",
       "\n",
       "       growth_deaths_per_person_per_city_KM2  growth_tests_per_1M  \\\n",
       "23374                               1.555556                  NaN   \n",
       "23375                               1.214286                  NaN   \n",
       "\n",
       "       growth_tests_per_person_per_land_KM2  \\\n",
       "23374                                   NaN   \n",
       "23375                                   NaN   \n",
       "\n",
       "       growth_tests_per_person_per_city_KM2   days  \n",
       "23374                                   NaN 3 days  \n",
       "23375                                   NaN 4 days  \n",
       "\n",
       "[2 rows x 116 columns]"
      ]
     },
     "execution_count": 7,
     "metadata": {},
     "output_type": "execute_result"
    }
   ],
   "source": [
    "casestudy.comp_chart.df_comp.head(2)"
   ]
  },
  {
   "cell_type": "markdown",
   "metadata": {},
   "source": [
    "As mentioned, `comp_chart` can accept additional keywords. Here we change `comp_category`, `palette_base`, increase the axis label size, and narrow the `regions` further.\n",
    "\n",
    "We also add a custom title."
   ]
  },
  {
   "cell_type": "code",
   "execution_count": 8,
   "metadata": {},
   "outputs": [
    {
     "data": {
      "text/html": [
       "\n",
       "\n",
       "\n",
       "\n",
       "\n",
       "\n",
       "  <div class=\"bk-root\" id=\"2a72fda7-9596-4175-925f-9c70a7a09bd4\" data-root-id=\"1110\"></div>\n"
      ]
     },
     "metadata": {},
     "output_type": "display_data"
    },
    {
     "data": {
      "application/javascript": [
       "(function(root) {\n",
       "  function embed_document(root) {\n",
       "    \n",
       "  var docs_json = {\"3d9a04d0-e67e-44c5-bceb-fcb86ddeb3a0\":{\"roots\":{\"references\":[{\"attributes\":{\"background_fill_color\":\"white\",\"below\":[{\"id\":\"1120\"}],\"border_fill_color\":\"white\",\"center\":[{\"id\":\"1123\"},{\"id\":\"1127\"},{\"id\":\"1153\"},{\"id\":\"1156\"},{\"id\":\"1157\"}],\"left\":[{\"id\":\"1124\"}],\"min_border\":20,\"outline_line_color\":\"white\",\"plot_height\":500,\"plot_width\":725,\"renderers\":[{\"id\":\"1145\"}],\"title\":{\"id\":\"1111\"},\"toolbar\":{\"id\":\"1134\"},\"toolbar_location\":null,\"x_range\":{\"id\":\"1113\"},\"x_scale\":{\"id\":\"1116\"},\"y_range\":{\"id\":\"1109\"},\"y_scale\":{\"id\":\"1118\"}},\"id\":\"1110\",\"subtype\":\"Figure\",\"type\":\"Plot\"},{\"attributes\":{},\"id\":\"1151\",\"type\":\"BasicTickFormatter\"},{\"attributes\":{\"index\":1,\"label\":{\"value\":\"Piemonte\"},\"renderers\":[{\"id\":\"1145\"}]},\"id\":\"1155\",\"type\":\"LegendItem\"},{\"attributes\":{\"bottom_units\":\"screen\",\"fill_alpha\":0.5,\"fill_color\":\"lightgrey\",\"left_units\":\"screen\",\"level\":\"overlay\",\"line_alpha\":1.0,\"line_color\":\"black\",\"line_dash\":[4,4],\"line_width\":2,\"render_mode\":\"css\",\"right_units\":\"screen\",\"top_units\":\"screen\"},\"id\":\"1152\",\"type\":\"BoxAnnotation\"},{\"attributes\":{\"active_drag\":\"auto\",\"active_inspect\":\"auto\",\"active_multi\":null,\"active_scroll\":\"auto\",\"active_tap\":\"auto\",\"tools\":[{\"id\":\"1128\"},{\"id\":\"1129\"},{\"id\":\"1130\"},{\"id\":\"1131\"},{\"id\":\"1132\"},{\"id\":\"1133\"}]},\"id\":\"1134\",\"type\":\"Toolbar\"},{\"attributes\":{},\"id\":\"1118\",\"type\":\"LinearScale\"},{\"attributes\":{},\"id\":\"1149\",\"type\":\"BasicTickFormatter\"},{\"attributes\":{},\"id\":\"1128\",\"type\":\"PanTool\"},{\"attributes\":{\"text\":\"Lombardia\",\"text_alpha\":0.8,\"text_color\":\"#393b79\",\"text_font_size\":\"8pt\",\"text_font_style\":\"bold\",\"x\":97,\"x_offset\":-30,\"y\":27.23068490140028,\"y_offset\":5},\"id\":\"1156\",\"type\":\"Label\"},{\"attributes\":{\"axis_label\":\"Days Since 3 Cumulative Deaths\",\"axis_label_text_font_size\":\"14pt\",\"formatter\":{\"id\":\"1149\"},\"major_label_text_font_size\":\"16pt\",\"major_tick_line_color\":null,\"ticker\":{\"id\":\"1121\"}},\"id\":\"1120\",\"type\":\"LinearAxis\"},{\"attributes\":{\"data\":{\"color\":[\"#393b79\",\"#e7ba52\"],\"regions\":[\"Lombardia\",\"Piemonte\"],\"x\":[[0,1,2,3,4,5,6,7,8,9,10,11,12,13,14,15,16,17,18,19,20,21,22,23,24,25,26,27,28,29,30,31,32,33,34,35,36,37,38,39,40,41,42,43,44,45,46,47,48,49,50,51,52,53,54,55,56,57,58,59,60,61,62,63,64,65,66,67,68,69,70,71,72,73,74,75,76,77,78,79,80,81,82,83,84,85,86,87,88,89,90,91,92,93,94,95,96,97],[0,1,2,3,4,5,6,7,8,9,10,11,12,13,14,15,16,17,18,19,20,21,22,23,24,25,26,27,28,29,30,31,32,33,34,35,36,37,38,39,40,41,42,43,44,45,46,47,48,49,50,51,52,53,54,55,56,57,58,59,60,61,62,63,64,65,66,67,68,69,70,71,72,73,74,75,76,77,78,79,80,81,82,83,84,85,86]],\"y\":[[0.010140523175794544,0.015210784763691816,0.015210784763691816,0.023661220743520603,0.028731482331417875,0.03887200550721242,0.040562092703178176,0.06422331344669878,0.09295479577811665,0.12337636530550028,0.1656285452046442,0.22816177145537725,0.2602734281787266,0.4512532813228572,0.5627990362565972,0.7909608077119744,1.0427837999108722,1.2574248737985234,1.504177604409524,1.6326242313029216,2.0585262046862924,2.3999238182713754,2.771743001383842,3.3108808168969186,3.664109040853762,4.308032262516716,5.230819871514019,5.840941349257657,6.381769251966699,7.061184304744934,7.561450114750798,8.215513859589546,9.129851032607021,10.045878292820461,10.748954566342217,11.523014502094533,12.166937723757487,12.832832078967995,13.453094079887428,14.046314685671408,14.629394768279596,15.050226480075068,15.5521823772769,16.028786966539244,16.43102771917909,16.93805387796882,17.303112712297423,17.764506516796075,17.950416108352307,18.42364052322272,18.830951537450467,19.228122028502423,19.61853217077051,20.02922335939019,20.365550711387375,20.641034924329794,20.916519137272214,21.259606838053262,21.53171087660375,21.8697283157969,22.150282790327214,22.425767003269634,22.520411886243718,22.72998269854347,22.942933685235154,23.118702753615594,23.27588086284041,23.424608536085398,23.98064722355813,24.051630885788693,24.158106379134534,24.31866466275128,24.69386402025568,24.920335704515093,25.079203900935873,25.22286131259296,25.32764671874284,25.44257264806851,25.54735805421839,25.663974070740025,25.851573749492225,26.045933777028285,26.11184717767095,26.22846319419259,26.269025286895765,26.360289995477917,26.470145663215693,26.580001330953465,26.676336301123513,26.770981184097597,26.770981184097597,26.828444148760433,26.865626067071677,26.963651124437693,26.99745286835701,27.061676181803705,27.174912023933413,27.23068490140028],[0.015136295446083047,0.018920369307603806,0.018920369307603806,0.0491929601997699,0.06432925564585294,0.079465551091936,0.0983859203995398,0.17406739762995505,0.22326035782972495,0.3065099827831817,0.42003219862880453,0.5032818235822613,0.5827473746741972,0.6622129257661333,0.7908714370578391,0.9006095790419413,1.0708929028103755,1.19198326637904,1.415243624208765,1.699049163822822,1.699049163822822,2.1531380272053133,2.33477357255831,2.588306521280201,2.8342713222790503,3.2315990777387302,3.352689441307395,3.719744605874909,3.9467890375661545,4.268435315795419,4.4197982702562495,4.7338764007624725,4.991193423345885,5.214453781175609,5.502043394651188,5.797201155849807,6.179392615863404,6.542663706569397,6.909718871136911,7.291910331150508,7.624908830964334,7.9238506660244745,8.215224353361574,8.521734336144755,8.820676171204894,9.115833932403515,9.403423545879093,9.68344501163163,9.952114255799604,10.213215352244536,10.470532374827947,10.68244051107311,10.890564573456752,11.110040857424956,11.363573806146848,11.601970459422654,11.719276749129799,11.8290148911139,11.92740081151344,12.056059322805147,12.16958153865077,12.286887828357912,12.41933041351114,12.506364112326118,12.604750032725656,12.740976691740403,12.86585112917059,12.97180519729317,13.092895560861836,13.21776999829202,13.45995072542935,13.599961458305618,13.66807478781299,13.743756265043405,13.921607736534883,14.069186617134191,14.16000438981069,14.216765497733501,14.269742531794792,14.315151418133041,14.371912526055853,14.424889560117144,14.485434741901475,14.523275480516682,14.572468440716452,14.598956957747099,14.633013622500785]]},\"selected\":{\"id\":\"1172\"},\"selection_policy\":{\"id\":\"1171\"}},\"id\":\"1141\",\"type\":\"ColumnDataSource\"},{\"attributes\":{},\"id\":\"1129\",\"type\":\"WheelZoomTool\"},{\"attributes\":{\"text\":\"Comparison of Cumulative Fatalities adjusted for Density as of May 3\"},\"id\":\"1111\",\"type\":\"Title\"},{\"attributes\":{\"source\":{\"id\":\"1141\"}},\"id\":\"1146\",\"type\":\"CDSView\"},{\"attributes\":{},\"id\":\"1113\",\"type\":\"DataRange1d\"},{\"attributes\":{\"overlay\":{\"id\":\"1152\"}},\"id\":\"1130\",\"type\":\"BoxZoomTool\"},{\"attributes\":{},\"id\":\"1116\",\"type\":\"LinearScale\"},{\"attributes\":{},\"id\":\"1131\",\"type\":\"SaveTool\"},{\"attributes\":{},\"id\":\"1132\",\"type\":\"ResetTool\"},{\"attributes\":{},\"id\":\"1172\",\"type\":\"Selection\"},{\"attributes\":{\"background_fill_alpha\":0.0,\"border_line_alpha\":0.0,\"border_line_color\":\"black\",\"items\":[{\"id\":\"1154\"},{\"id\":\"1155\"}],\"label_text_font_size\":\"8pt\",\"title\":\"Region: Start Date\",\"visible\":false},\"id\":\"1153\",\"type\":\"Legend\"},{\"attributes\":{\"line_color\":{\"field\":\"color\"},\"line_width\":{\"value\":5},\"xs\":{\"field\":\"x\"},\"ys\":{\"field\":\"y\"}},\"id\":\"1143\",\"type\":\"MultiLine\"},{\"attributes\":{\"line_alpha\":{\"value\":0.1},\"line_color\":{\"field\":\"color\"},\"line_width\":{\"value\":5},\"xs\":{\"field\":\"x\"},\"ys\":{\"field\":\"y\"}},\"id\":\"1144\",\"type\":\"MultiLine\"},{\"attributes\":{},\"id\":\"1171\",\"type\":\"UnionRenderers\"},{\"attributes\":{\"end\":29.95375339154031,\"start\":0.010241928407552489},\"id\":\"1109\",\"type\":\"Range1d\"},{\"attributes\":{},\"id\":\"1133\",\"type\":\"HelpTool\"},{\"attributes\":{\"data_source\":{\"id\":\"1141\"},\"glyph\":{\"id\":\"1143\"},\"hover_glyph\":null,\"muted_glyph\":null,\"nonselection_glyph\":{\"id\":\"1144\"},\"selection_glyph\":null,\"view\":{\"id\":\"1146\"}},\"id\":\"1145\",\"type\":\"GlyphRenderer\"},{\"attributes\":{},\"id\":\"1125\",\"type\":\"BasicTicker\"},{\"attributes\":{},\"id\":\"1121\",\"type\":\"BasicTicker\"},{\"attributes\":{\"axis\":{\"id\":\"1120\"},\"grid_line_color\":null,\"ticker\":null},\"id\":\"1123\",\"type\":\"Grid\"},{\"attributes\":{\"text\":\"Piemonte\",\"text_alpha\":0.8,\"text_color\":\"#e7ba52\",\"text_font_size\":\"8pt\",\"text_font_style\":\"bold\",\"x\":86,\"x_offset\":-20,\"y\":14.633013622500785,\"y_offset\":5},\"id\":\"1157\",\"type\":\"Label\"},{\"attributes\":{\"axis\":{\"id\":\"1124\"},\"dimension\":1,\"grid_line_color\":null,\"ticker\":null},\"id\":\"1127\",\"type\":\"Grid\"},{\"attributes\":{\"axis_label\":\"Cumulative Deaths / Person / Land KM\\u00b2\",\"axis_label_text_font_size\":\"14pt\",\"formatter\":{\"id\":\"1151\"},\"major_label_text_font_size\":\"16pt\",\"ticker\":{\"id\":\"1125\"}},\"id\":\"1124\",\"type\":\"LinearAxis\"},{\"attributes\":{\"index\":0,\"label\":{\"value\":\"Lombardia\"},\"renderers\":[{\"id\":\"1145\"}]},\"id\":\"1154\",\"type\":\"LegendItem\"}],\"root_ids\":[\"1110\"]},\"title\":\"Bokeh Application\",\"version\":\"2.0.0\"}};\n",
       "  var render_items = [{\"docid\":\"3d9a04d0-e67e-44c5-bceb-fcb86ddeb3a0\",\"root_ids\":[\"1110\"],\"roots\":{\"1110\":\"2a72fda7-9596-4175-925f-9c70a7a09bd4\"}}];\n",
       "  root.Bokeh.embed.embed_items_notebook(docs_json, render_items);\n",
       "\n",
       "  }\n",
       "  if (root.Bokeh !== undefined) {\n",
       "    embed_document(root);\n",
       "  } else {\n",
       "    var attempts = 0;\n",
       "    var timer = setInterval(function(root) {\n",
       "      if (root.Bokeh !== undefined) {\n",
       "        clearInterval(timer);\n",
       "        embed_document(root);\n",
       "      } else {\n",
       "        attempts++;\n",
       "        if (attempts > 100) {\n",
       "          clearInterval(timer);\n",
       "          console.log(\"Bokeh: ERROR: Unable to run BokehJS code because BokehJS library is missing\");\n",
       "        }\n",
       "      }\n",
       "    }, 10, root)\n",
       "  }\n",
       "})(window);"
      ],
      "application/vnd.bokehjs_exec.v0+json": ""
     },
     "metadata": {
      "application/vnd.bokehjs_exec.v0+json": {
       "id": "1110"
      }
     },
     "output_type": "display_data"
    }
   ],
   "source": [
    "from bokeh.palettes import Category20b\n",
    "kwargs['regions'] = ['Lombardia', 'Piemonte']\n",
    "kwargs['comp_category'] = 'deaths_per_person_per_land_KM2'\n",
    "kwargs['palette_base'] = Category20b[20]\n",
    "kwargs['x_fontsize'] = 14\n",
    "kwargs['y_fontsize'] = 14\n",
    "kwargs['label_offsets'] = {\n",
    "    'Lombardia': {'x_offset': -10, 'y_offset': 0},\n",
    "}\n",
    "kwargs['title'] = 'Comparison of Cumulative Fatalities adjusted for Density as of May 3'\n",
    "p = casestudy.comp_chart.make(comp_type='multiline', **kwargs)\n",
    "show(p)"
   ]
  },
  {
   "cell_type": "markdown",
   "metadata": {},
   "source": [
    "<h2><a id='section4.2'>4.2 Daily Fatalities Comparison - 10 Most Impacted Regions</a></h2>"
   ]
  },
  {
   "cell_type": "markdown",
   "metadata": {},
   "source": [
    "Now we'll look at new cases in the 10 most impacted regions globally."
   ]
  },
  {
   "cell_type": "code",
   "execution_count": 9,
   "metadata": {},
   "outputs": [],
   "source": [
    "regions = list(baseframe[~(baseframe['region_name'] == 'Hubei')] \\\n",
    "    .sort_values(by='cases', ascending=False).region_name.unique())[:7]\n",
    "casestudy = CaseStudy(baseframe, regions=regions, start_hurdle=3, start_factor='deaths', count_dma=7, lognat=True)"
   ]
  },
  {
   "cell_type": "code",
   "execution_count": 10,
   "metadata": {},
   "outputs": [
    {
     "data": {
      "text/html": [
       "\n",
       "\n",
       "\n",
       "\n",
       "\n",
       "\n",
       "  <div class=\"bk-root\" id=\"8b629635-851a-4985-92c7-77cf003c7b63\" data-root-id=\"1223\"></div>\n"
      ]
     },
     "metadata": {},
     "output_type": "display_data"
    },
    {
     "data": {
      "application/javascript": [
       "(function(root) {\n",
       "  function embed_document(root) {\n",
       "    \n",
       "  var docs_json = {\"c2dd6e58-e9c6-40b7-b00d-aa0c936e03f1\":{\"roots\":{\"references\":[{\"attributes\":{\"background_fill_color\":\"white\",\"below\":[{\"id\":\"1233\"}],\"border_fill_color\":\"white\",\"center\":[{\"id\":\"1236\"},{\"id\":\"1240\"},{\"id\":\"1266\"},{\"id\":\"1274\"},{\"id\":\"1275\"},{\"id\":\"1276\"},{\"id\":\"1277\"},{\"id\":\"1278\"},{\"id\":\"1279\"},{\"id\":\"1280\"}],\"left\":[{\"id\":\"1237\"}],\"min_border\":20,\"outline_line_color\":\"white\",\"plot_height\":500,\"plot_width\":925,\"renderers\":[{\"id\":\"1258\"}],\"title\":{\"id\":\"1224\"},\"toolbar\":{\"id\":\"1247\"},\"toolbar_location\":null,\"x_range\":{\"id\":\"1226\"},\"x_scale\":{\"id\":\"1229\"},\"y_range\":{\"id\":\"1222\"},\"y_scale\":{\"id\":\"1231\"}},\"id\":\"1223\",\"subtype\":\"Figure\",\"type\":\"Plot\"},{\"attributes\":{\"text\":\"India\",\"text_alpha\":0.8,\"text_color\":\"#8c6d31\",\"text_font_size\":\"8pt\",\"text_font_style\":\"bold\",\"x\":74,\"x_offset\":-20,\"y\":6.045768280187243,\"y_offset\":5},\"id\":\"1277\",\"type\":\"Label\"},{\"attributes\":{},\"id\":\"1303\",\"type\":\"Selection\"},{\"attributes\":{\"index\":2,\"label\":{\"value\":\"Germany\"},\"renderers\":[{\"id\":\"1258\"}]},\"id\":\"1268\",\"type\":\"LegendItem\"},{\"attributes\":{},\"id\":\"1238\",\"type\":\"BasicTicker\"},{\"attributes\":{\"text\":\"United Kingdom\",\"text_alpha\":0.8,\"text_color\":\"#7b4173\",\"text_font_size\":\"8pt\",\"text_font_style\":\"bold\",\"x\":82,\"x_offset\":-20,\"y\":35.695806893374154,\"y_offset\":5},\"id\":\"1280\",\"type\":\"Label\"},{\"attributes\":{\"data_source\":{\"id\":\"1254\"},\"glyph\":{\"id\":\"1256\"},\"hover_glyph\":null,\"muted_glyph\":null,\"nonselection_glyph\":{\"id\":\"1257\"},\"selection_glyph\":null,\"view\":{\"id\":\"1259\"}},\"id\":\"1258\",\"type\":\"GlyphRenderer\"},{\"attributes\":{\"background_fill_alpha\":0.0,\"border_line_alpha\":0.0,\"border_line_color\":\"black\",\"items\":[{\"id\":\"1267\"},{\"id\":\"1268\"},{\"id\":\"1269\"},{\"id\":\"1270\"},{\"id\":\"1271\"},{\"id\":\"1272\"},{\"id\":\"1273\"}],\"label_text_font_size\":\"8pt\",\"title\":\"Region: Start Date\",\"visible\":false},\"id\":\"1266\",\"type\":\"Legend\"},{\"attributes\":{\"line_color\":{\"field\":\"color\"},\"line_width\":{\"value\":5},\"xs\":{\"field\":\"x\"},\"ys\":{\"field\":\"y\"}},\"id\":\"1256\",\"type\":\"MultiLine\"},{\"attributes\":{},\"id\":\"1264\",\"type\":\"BasicTickFormatter\"},{\"attributes\":{},\"id\":\"1234\",\"type\":\"BasicTicker\"},{\"attributes\":{},\"id\":\"1262\",\"type\":\"BasicTickFormatter\"},{\"attributes\":{\"source\":{\"id\":\"1254\"}},\"id\":\"1259\",\"type\":\"CDSView\"},{\"attributes\":{\"text\":\"Comparison of Population Adjusted Daily Cases in Top 10 Most Impacted Regions Excluding Hubei\"},\"id\":\"1224\",\"type\":\"Title\"},{\"attributes\":{\"overlay\":{\"id\":\"1265\"}},\"id\":\"1243\",\"type\":\"BoxZoomTool\"},{\"attributes\":{},\"id\":\"1246\",\"type\":\"HelpTool\"},{\"attributes\":{\"text\":\"New York\",\"text_alpha\":0.8,\"text_color\":\"#393b79\",\"text_font_size\":\"8pt\",\"text_font_style\":\"bold\",\"x\":77,\"x_offset\":-20,\"y\":68.69314947061675,\"y_offset\":5},\"id\":\"1274\",\"type\":\"Label\"},{\"attributes\":{\"index\":0,\"label\":{\"value\":\"New York\"},\"renderers\":[{\"id\":\"1258\"}]},\"id\":\"1270\",\"type\":\"LegendItem\"},{\"attributes\":{\"index\":5,\"label\":{\"value\":\"Spain\"},\"renderers\":[{\"id\":\"1258\"}]},\"id\":\"1272\",\"type\":\"LegendItem\"},{\"attributes\":{\"axis_label\":\"Days Since 3 Cumulative Deaths\",\"formatter\":{\"id\":\"1262\"},\"major_label_text_font_size\":\"16pt\",\"major_tick_line_color\":null,\"ticker\":{\"id\":\"1234\"}},\"id\":\"1233\",\"type\":\"LinearAxis\"},{\"attributes\":{\"bottom_units\":\"screen\",\"fill_alpha\":0.5,\"fill_color\":\"lightgrey\",\"left_units\":\"screen\",\"level\":\"overlay\",\"line_alpha\":1.0,\"line_color\":\"black\",\"line_dash\":[4,4],\"line_width\":2,\"render_mode\":\"css\",\"right_units\":\"screen\",\"top_units\":\"screen\"},\"id\":\"1265\",\"type\":\"BoxAnnotation\"},{\"attributes\":{\"index\":3,\"label\":{\"value\":\"India\"},\"renderers\":[{\"id\":\"1258\"}]},\"id\":\"1269\",\"type\":\"LegendItem\"},{\"attributes\":{\"index\":1,\"label\":{\"value\":\"France\"},\"renderers\":[{\"id\":\"1258\"}]},\"id\":\"1267\",\"type\":\"LegendItem\"},{\"attributes\":{\"index\":4,\"label\":{\"value\":\"Russia\"},\"renderers\":[{\"id\":\"1258\"}]},\"id\":\"1271\",\"type\":\"LegendItem\"},{\"attributes\":{},\"id\":\"1241\",\"type\":\"PanTool\"},{\"attributes\":{\"text\":\"Russia\",\"text_alpha\":0.8,\"text_color\":\"#e7cb94\",\"text_font_size\":\"8pt\",\"text_font_style\":\"bold\",\"x\":66,\"x_offset\":-20,\"y\":60.69325782495923,\"y_offset\":5},\"id\":\"1278\",\"type\":\"Label\"},{\"attributes\":{\"axis_label\":\"Daily Cases per 1M (7DMA)\",\"formatter\":{\"id\":\"1264\"},\"major_label_text_font_size\":\"16pt\",\"ticker\":{\"id\":\"1238\"}},\"id\":\"1237\",\"type\":\"LinearAxis\"},{\"attributes\":{\"text\":\"France\",\"text_alpha\":0.8,\"text_color\":\"#9c9ede\",\"text_font_size\":\"8pt\",\"text_font_style\":\"bold\",\"x\":89,\"x_offset\":-20,\"y\":12.834191317491548,\"y_offset\":5},\"id\":\"1275\",\"type\":\"Label\"},{\"attributes\":{\"end\":578.3553297133317,\"start\":0.010418526958516465},\"id\":\"1222\",\"type\":\"Range1d\"},{\"attributes\":{\"active_drag\":\"auto\",\"active_inspect\":\"auto\",\"active_multi\":null,\"active_scroll\":\"auto\",\"active_tap\":\"auto\",\"tools\":[{\"id\":\"1241\"},{\"id\":\"1242\"},{\"id\":\"1243\"},{\"id\":\"1244\"},{\"id\":\"1245\"},{\"id\":\"1246\"}]},\"id\":\"1247\",\"type\":\"Toolbar\"},{\"attributes\":{},\"id\":\"1245\",\"type\":\"ResetTool\"},{\"attributes\":{\"text\":\"Spain\",\"text_alpha\":0.8,\"text_color\":\"#d6616b\",\"text_font_size\":\"8pt\",\"text_font_style\":\"bold\",\"x\":86,\"x_offset\":-20,\"y\":12.18479350147647,\"y_offset\":5},\"id\":\"1279\",\"type\":\"Label\"},{\"attributes\":{\"data\":{\"color\":[\"#393b79\",\"#9c9ede\",\"#8ca252\",\"#8c6d31\",\"#e7cb94\",\"#d6616b\",\"#7b4173\"],\"regions\":[\"New York\",\"France\",\"Germany\",\"India\",\"Russia\",\"Spain\",\"United Kingdom\"],\"x\":[[0,1,2,3,4,5,6,7,8,9,10,11,12,13,14,15,16,17,18,19,20,21,22,23,24,25,26,27,28,29,30,31,32,33,34,35,36,37,38,39,40,41,42,43,44,45,46,47,48,49,50,51,52,53,54,55,56,57,58,59,60,61,62,63,64,65,66,67,68,69,70,71,72,73,74,75,76,77],[0,1,2,3,4,5,6,7,8,9,10,11,12,13,14,15,16,17,18,19,20,21,22,23,24,25,26,27,28,29,30,31,32,33,34,35,36,37,38,39,40,41,42,43,44,45,46,47,48,49,50,51,52,53,54,55,56,57,58,59,60,61,62,63,64,65,66,67,68,69,70,71,72,73,74,75,76,77,78,79,80,81,82,83,84,85,86,87,88,89],[0,1,2,3,4,5,6,7,8,9,10,11,12,13,14,15,16,17,18,19,20,21,22,23,24,25,26,27,28,29,30,31,32,33,34,35,36,37,38,39,40,41,42,43,44,45,46,47,48,49,50,51,52,53,54,55,56,57,58,59,60,61,62,63,64,65,66,67,68,69,70,71,72,73,74,75,76,77,78,79,80],[0,1,2,3,4,5,6,7,8,9,10,11,12,13,14,15,16,17,18,19,20,21,22,23,24,25,26,27,28,29,30,31,32,33,34,35,36,37,38,39,40,41,42,43,44,45,46,47,48,49,50,51,52,53,54,55,56,57,58,59,60,61,62,63,64,65,66,67,68,69,70,71,72,73,74],[0,1,2,3,4,5,6,7,8,9,10,11,12,13,14,15,16,17,18,19,20,21,22,23,24,25,26,27,28,29,30,31,32,33,34,35,36,37,38,39,40,41,42,43,44,45,46,47,48,49,50,51,52,53,54,55,56,57,58,59,60,61,62,63,64,65,66],[0,1,2,3,4,5,6,7,8,9,10,11,12,13,14,15,16,17,18,19,20,21,22,23,24,25,26,27,28,29,30,31,32,33,34,35,36,37,38,39,40,41,42,43,44,45,46,47,48,49,50,51,52,53,54,55,56,57,58,59,60,61,62,63,64,65,66,67,68,69,70,71,72,73,74,75,76,77,78,79,80,81,82,83,84,85,86],[0,1,2,3,4,5,6,7,8,9,10,11,12,13,14,15,16,17,18,19,20,21,22,23,24,25,26,27,28,29,30,31,32,33,34,35,36,37,38,39,40,41,42,43,44,45,46,47,48,49,50,51,52,53,54,55,56,57,58,59,60,61,62,63,64,65,66,67,68,69,70,71,72,73,74,75,76,77,78,79,80,81,82]],\"y\":[[4.725510711597481,6.089347656442309,11.316160596415184,21.143158690891692,39.7134574155626,58.844035101358955,86.3050762880994,119.20672107103162,164.11013096859833,181.8547554347686,220.77202695820554,246.43427779606958,277.8615042602506,303.7154294795523,315.74668296056177,325.5073322306945,366.19390573663287,376.07250847226567,395.1662257000932,420.7621277136135,447.14684352766557,467.4938163264316,475.10181485118767,474.29825686746824,494.1734158042339,509.14613383115193,525.7775724666652,498.729368409175,494.87376450564074,474.14344294399933,464.37542158227296,469.99295537671486,456.2145161879852,449.00461060929206,447.81770386269733,428.53231225343205,421.4256159570515,407.0279210744464,360.6574649497223,349.9605600471826,323.77489070616184,331.1543543915115,333.8009352736698,332.709865717794,316.2627293721247,314.9652412516237,296.48340762607785,266.8770877855544,235.60467524484227,217.7420973131719,213.87912131804387,210.44372663535367,199.76893800759524,167.54552565128853,156.50950453543606,149.88936628424332,137.4821361319523,116.56014018887328,106.30556078195893,95.40223731479408,108.25179296271047,108.97425793889855,103.52628225111299,99.27258540151588,98.01932983057739,101.49895706283014,96.40484177154487,95.16633038379389,86.58521576866212,83.41521638334711,81.95554224778346,83.76170468825363,79.06568234303117,78.41693828278068,75.2911714470282,74.81198549343408,70.52880027746194,68.69314947061675],[0.4064614730769617,0.4314395524280598,0.6062861078857472,0.7697789909111172,1.3533577539322297,1.9278535790074887,2.261651548517619,2.311607707219815,3.587760488612287,4.532386034981092,4.3234784622264515,6.830369335282127,7.992985392351424,7.659187422841294,12.316463854577876,13.32466996656766,15.354706597466002,19.50560923872123,20.325344388334546,22.282717515666057,26.156590549572744,30.0259221145065,33.27080169566281,36.76319133584362,41.518109350498136,46.2139882685046,52.892218393193666,54.851862255011646,56.073517408728996,67.7223853242866,72.10944435213403,68.008497869581,71.24202377830498,70.46089111496157,68.81233787778908,67.75871707607003,59.127655293022364,56.90233549628816,61.8298293319139,59.806604904474945,57.188448041582554,113.88868816857547,113.32781675041899,116.01182491341882,114.50178647992061,133.08774825162413,127.72200266011096,120.61233298299382,70.79014761549877,67.87225380039321,62.81759883352551,50.505676447920564,27.43501406545168,26.597113039946656,30.396051835800044,20.525169023143327,23.61790939370658,24.260527253375745,23.565682500517923,19.841677942717826,16.185795419511635,15.177589307521853,14.589469075527814,7.486611601870069,3.020076866996419,16.739854634208722,16.521864123508227,19.423862797208546,17.670855773658747,17.609545942524232,17.24168695571715,16.512781185562375,7.98390245440557,8.338137034293872,6.814474193876882,5.561028757349044,5.025135418543665,4.711774059411707,5.043301294435373,7.012028094199204,5.890285257886249,5.281728415514038,6.260414979179794,5.947053620047836,5.931158478642591,3.3130016157502062,2.2139661243018858,9.089750149313282,9.471233543039146,12.834191317491548],[2.9187731240399226,2.830110513953655,5.32862286618467,6.713532835732167,8.431814219204028,10.80974542171772,13.831367173457712,18.475514689776396,23.481405655247055,28.67880785850405,31.258889812014434,33.83010550451619,38.62852596238498,42.07750149474078,44.32421203432679,50.746931508976004,55.011603054125466,62.9185346216188,66.00399345262089,67.08035753906817,68.84119697538145,71.90360352776112,72.44799195369082,71.44078470311082,68.08756478964818,67.43323472721153,64.70419958875621,63.579957692862344,62.81568599391872,59.203571259004185,54.992097279906496,51.09803544491762,49.17405680604562,47.34228728166334,42.01898417208385,38.048672492420785,34.60856322107362,34.09254683037154,32.68813108660506,30.730460655900277,30.132874663918834,30.024706279613586,28.185843746424403,27.363054724823844,24.11977644786818,23.35550474892456,22.318152210915226,20.73463799477449,20.606963836250266,19.312489728990762,17.519731753046436,16.097583487262707,14.991074113386091,13.998052880419896,13.11142677955722,12.581224371241342,11.744249332026978,11.38605238727846,11.545645085433739,11.272564246368036,11.020762433723037,11.391372143883634,10.930326571435044,10.526025069441664,8.951377114309555,8.23675647701424,7.85196074923984,7.961902385746812,7.048677501858259,8.169372893348676,7.757978382548396,8.055884752438256,7.938850107124382,7.507949822105123,7.020305466630652,7.179898164785933,6.0680690343041395,5.410192467464036,5.630075740477979,5.695686071941817,5.6797268021262886],[0.010315373226253926,0.011274942828696153,0.014513490236938664,0.01943128444945507,0.02734773366960343,0.03394477468639374,0.04557955611600572,0.04725880292027961,0.06009304635294439,0.06393132476271328,0.0771254067962939,0.07880465360056779,0.07532621379171472,0.09019954262956922,0.10327367846284455,0.1608478546093781,0.21782229975438525,0.20150961651286742,0.2512872896395579,0.30754205758273334,0.42305024847671624,0.4694694279948589,0.46994921279608,0.5016150096766736,0.6034493337358547,0.6433914184375124,0.6737378071147478,0.6806946867324538,0.7407877330853984,0.7683753591556123,0.8042392730468905,0.8101166368618491,0.8727285534212043,1.0087475445673897,0.9698849756684798,1.0306976992232557,1.0852732203621576,1.157120994345019,1.2208124267071216,1.2667518214240432,1.2324472081367337,1.308852937731196,1.3486750762325481,1.402410973969313,1.4136859167980091,1.5265552912852758,1.6091982232956126,1.753013717461641,2.0374061583854557,2.168147516718209,2.3899280410826687,2.577403952159818,2.6913528424498327,2.7718367428546746,2.9573935147269395,2.9184109996277243,2.9857008179989855,3.0068113492527146,3.0761402530291653,3.1292764197644036,3.3393022164989454,3.4229047181117243,3.545609681024024,3.860228564424769,4.074932262971218,4.345530890859924,4.679101273908903,4.890806317447719,5.138255328677508,5.352239350022124,5.31577570512932,5.524482093660504,5.656662806396921,5.841020116266133,6.045768280187243],[0.5110021707372212,0.6410027229795673,0.7830033261981297,0.9580040696012877,1.1670049574370591,1.3980059387292278,1.8420078248492402,2.1190090015502387,2.708011503632867,3.1130132240801762,3.467014727878564,3.855016376109565,4.507019145817331,5.160021919773115,5.895025042066379,6.583027964702794,7.768032998604179,8.853037607703758,10.381044098675332,11.985050912496277,13.60505779428551,15.818067195149446,17.807075644457335,20.091085346930555,23.209098592250818,27.083115049072727,28.793122313183588,31.66113449649934,33.50914234683669,34.83514797970862,36.61415553693272,37.79516055384204,38.09616183249547,40.026170031170295,40.79517329789617,41.400175867947084,43.72518574458905,45.80919459745864,49.466210132460645,53.738228279993734,58.12124689905682,61.812262578491435,66.53028262064056,70.66230017345114,73.42831192346905,74.6223169956026,75.00131860560144,76.07632317222082,76.87332655789122,76.34232430219365,75.08531896243494,74.98431853338514,73.36731166433995,72.06430612917244,69.33429453208316,67.69828758232565,66.43428221283084,65.30927743381054,63.605270195187785,63.839271189224014,62.729266473923985,62.749266558884344,62.401265080574056,61.975263270918376,61.49726124036575,61.175259872503936,60.69325782495923],[0.7549745084713709,1.1386500783502644,1.4078418088298106,1.8224589569247436,2.948732403988592,4.734061467054088,6.358494323396177,6.24401048399683,14.950970593990428,18.227683727069042,22.045874478928354,27.442085719805693,31.105568580584805,35.99433793871909,48.534959589680014,46.96312741630519,58.736397927508335,64.88448951903545,77.95421215749064,87.06031862647116,110.16748923820968,123.21864692973526,140.19319673905468,148.08948749978805,158.8602508767915,163.43341613712218,173.3904160070438,168.95029953304208,167.94779239884238,165.47556029938082,163.78305597096343,159.46051749418268,150.74427491072427,142.39004879239351,136.4585482483787,127.34625346375498,120.90112272135389,114.04756314650108,108.86794295313601,103.4191310292914,94.67813518326017,91.04249974287549,98.16525104820785,100.76434361835518,88.79923532221261,98.52726751333552,93.16818616631741,97.88987100208509,95.12988222521435,86.87157499935333,37.59711169030995,43.87206375252282,27.723654081571652,28.636430638944827,20.405970833478243,14.010346616222819,1.2716988646792355,37.829173526930255,33.03632306126568,30.421759702010327,26.442672743427607,26.473614321643645,22.921521142442277,24.790392466691085,23.642459914876007,21.64672811994144,21.30018244392179,29.162437468617505,26.922267205776222,25.88572433553889,25.041019250241003,22.667800201070754,22.030403689820332,19.64171385154206,12.902638116088593,12.398290391167146,11.955825822677776,10.820269902149116,14.359986450064069,14.208372716805473,15.699756786818593,11.739234775165498,13.063534322811998,11.460760571221138,15.065454433389775,11.572150252798883,12.18479350147647],[0.6400281863857924,0.7539122053156486,0.8450194204595337,0.7766890091016199,1.4463270404091748,2.1273534736097153,1.974748888243708,2.783325422645688,3.571402833640293,4.942566421555763,5.086060285407382,7.2544120058318455,8.832844508199654,10.347501959966742,11.632113693495521,13.955347679664591,15.72282765345596,20.42851531563762,24.052304797985652,27.493879850045904,31.52081875940562,35.283546744848074,38.886837103788736,45.428335151119676,50.2456291518526,53.8101989443571,56.518360914509074,64.4219118282411,67.11640771612151,68.53995795274471,71.19801095456755,71.42577899242727,81.06264467427172,84.4746098814102,83.07383644857298,84.3037838530154,87.98907070558556,85.96649052939132,86.58829727274833,79.56848634591199,80.23356901646235,81.51362538923394,82.27437063568539,80.10829659563952,79.76208917809274,79.68464804522046,79.19950212457925,77.80556173287782,74.64641904776362,73.81051034881847,73.11581783334634,72.26168769137243,75.56204655995965,77.4183560685163,77.17464426800642,76.89221190106036,76.1542434583949,77.08809241361973,81.72317198406486,80.77110158581127,77.23614163822855,75.16345249370515,74.21593745620875,73.96994797532025,71.68543455558734,65.15076954939218,60.212758488593614,57.73236455630135,56.71651910744703,55.830501440172746,53.1747261187285,50.91754486353875,42.33752287736338,40.44477048274916,39.82296373939215,38.70462267350096,36.1331215260648,33.659560634908324,37.37445733240024,43.155210133279745,41.497058817661035,38.782063806373266,35.695806893374154]]},\"selected\":{\"id\":\"1303\"},\"selection_policy\":{\"id\":\"1302\"}},\"id\":\"1254\",\"type\":\"ColumnDataSource\"},{\"attributes\":{},\"id\":\"1302\",\"type\":\"UnionRenderers\"},{\"attributes\":{\"axis\":{\"id\":\"1233\"},\"grid_line_color\":null,\"ticker\":null},\"id\":\"1236\",\"type\":\"Grid\"},{\"attributes\":{\"index\":6,\"label\":{\"value\":\"United Kingdom\"},\"renderers\":[{\"id\":\"1258\"}]},\"id\":\"1273\",\"type\":\"LegendItem\"},{\"attributes\":{},\"id\":\"1226\",\"type\":\"DataRange1d\"},{\"attributes\":{},\"id\":\"1244\",\"type\":\"SaveTool\"},{\"attributes\":{\"axis\":{\"id\":\"1237\"},\"dimension\":1,\"grid_line_color\":null,\"ticker\":null},\"id\":\"1240\",\"type\":\"Grid\"},{\"attributes\":{\"line_alpha\":{\"value\":0.1},\"line_color\":{\"field\":\"color\"},\"line_width\":{\"value\":5},\"xs\":{\"field\":\"x\"},\"ys\":{\"field\":\"y\"}},\"id\":\"1257\",\"type\":\"MultiLine\"},{\"attributes\":{},\"id\":\"1231\",\"type\":\"LinearScale\"},{\"attributes\":{},\"id\":\"1242\",\"type\":\"WheelZoomTool\"},{\"attributes\":{\"text\":\"Germany\",\"text_alpha\":0.8,\"text_color\":\"#8ca252\",\"text_font_size\":\"8pt\",\"text_font_style\":\"bold\",\"x\":80,\"x_offset\":-20,\"y\":5.6797268021262886,\"y_offset\":5},\"id\":\"1276\",\"type\":\"Label\"},{\"attributes\":{},\"id\":\"1229\",\"type\":\"LinearScale\"}],\"root_ids\":[\"1223\"]},\"title\":\"Bokeh Application\",\"version\":\"2.0.0\"}};\n",
       "  var render_items = [{\"docid\":\"c2dd6e58-e9c6-40b7-b00d-aa0c936e03f1\",\"root_ids\":[\"1223\"],\"roots\":{\"1223\":\"8b629635-851a-4985-92c7-77cf003c7b63\"}}];\n",
       "  root.Bokeh.embed.embed_items_notebook(docs_json, render_items);\n",
       "\n",
       "  }\n",
       "  if (root.Bokeh !== undefined) {\n",
       "    embed_document(root);\n",
       "  } else {\n",
       "    var attempts = 0;\n",
       "    var timer = setInterval(function(root) {\n",
       "      if (root.Bokeh !== undefined) {\n",
       "        clearInterval(timer);\n",
       "        embed_document(root);\n",
       "      } else {\n",
       "        attempts++;\n",
       "        if (attempts > 100) {\n",
       "          clearInterval(timer);\n",
       "          console.log(\"Bokeh: ERROR: Unable to run BokehJS code because BokehJS library is missing\");\n",
       "        }\n",
       "      }\n",
       "    }, 10, root)\n",
       "  }\n",
       "})(window);"
      ],
      "application/vnd.bokehjs_exec.v0+json": ""
     },
     "metadata": {
      "application/vnd.bokehjs_exec.v0+json": {
       "id": "1223"
      }
     },
     "output_type": "display_data"
    }
   ],
   "source": [
    "kwargs ={\n",
    "    'title': 'Comparison of Population Adjusted Daily Cases in Top 10 Most Impacted Regions Excluding Hubei',\n",
    "    'width': 925,\n",
    "    'palette_base': Category20b[20]\n",
    "}\n",
    "p = casestudy.comp_chart.make(comp_category='cases_new_dma_per_1M', comp_type='multiline', **kwargs)\n",
    "show(p)"
   ]
  },
  {
   "cell_type": "markdown",
   "metadata": {},
   "source": [
    "The above is a cluttered mess to the point where I can't even be bothered to fix the labels. \n",
    "\n",
    "There are two clear regions that separated themselves and the remaining regions were so far behind that it makes it difficult to read the chart. This is where `lognat` can come in handy."
   ]
  },
  {
   "cell_type": "code",
   "execution_count": 11,
   "metadata": {},
   "outputs": [
    {
     "data": {
      "text/html": [
       "\n",
       "\n",
       "\n",
       "\n",
       "\n",
       "\n",
       "  <div class=\"bk-root\" id=\"2b4a1690-1277-460f-920f-fed7012f2ea3\" data-root-id=\"1354\"></div>\n"
      ]
     },
     "metadata": {},
     "output_type": "display_data"
    },
    {
     "data": {
      "application/javascript": [
       "(function(root) {\n",
       "  function embed_document(root) {\n",
       "    \n",
       "  var docs_json = {\"82f29b0d-06a4-402f-b3b7-ebbf7b9109cf\":{\"roots\":{\"references\":[{\"attributes\":{\"background_fill_color\":\"white\",\"below\":[{\"id\":\"1364\"}],\"border_fill_color\":\"white\",\"center\":[{\"id\":\"1367\"},{\"id\":\"1371\"},{\"id\":\"1397\"},{\"id\":\"1405\"},{\"id\":\"1406\"},{\"id\":\"1407\"},{\"id\":\"1408\"},{\"id\":\"1409\"},{\"id\":\"1410\"},{\"id\":\"1411\"}],\"left\":[{\"id\":\"1368\"}],\"min_border\":20,\"outline_line_color\":\"white\",\"plot_height\":500,\"plot_width\":925,\"renderers\":[{\"id\":\"1389\"}],\"title\":{\"id\":\"1355\"},\"toolbar\":{\"id\":\"1378\"},\"toolbar_location\":null,\"x_range\":{\"id\":\"1357\"},\"x_scale\":{\"id\":\"1360\"},\"y_range\":{\"id\":\"1353\"},\"y_scale\":{\"id\":\"1362\"}},\"id\":\"1354\",\"subtype\":\"Figure\",\"type\":\"Plot\"},{\"attributes\":{},\"id\":\"1375\",\"type\":\"SaveTool\"},{\"attributes\":{\"index\":2,\"label\":{\"value\":\"Germany\"},\"renderers\":[{\"id\":\"1389\"}]},\"id\":\"1399\",\"type\":\"LegendItem\"},{\"attributes\":{\"index\":6,\"label\":{\"value\":\"United Kingdom\"},\"renderers\":[{\"id\":\"1389\"}]},\"id\":\"1404\",\"type\":\"LegendItem\"},{\"attributes\":{},\"id\":\"1376\",\"type\":\"ResetTool\"},{\"attributes\":{\"end\":6.8913660829988705,\"start\":-4.619861149750848},\"id\":\"1353\",\"type\":\"Range1d\"},{\"attributes\":{\"text\":\"India\",\"text_alpha\":0.8,\"text_color\":\"#8c6d31\",\"text_font_size\":\"8pt\",\"text_font_style\":\"bold\",\"x\":74,\"x_offset\":-20,\"y\":1.7993585694877108,\"y_offset\":5},\"id\":\"1408\",\"type\":\"Label\"},{\"attributes\":{\"text\":\"Germany\",\"text_alpha\":0.8,\"text_color\":\"#8ca252\",\"text_font_size\":\"8pt\",\"text_font_style\":\"bold\",\"x\":80,\"x_offset\":-20,\"y\":1.736903133359101,\"y_offset\":-15},\"id\":\"1407\",\"type\":\"Label\"},{\"attributes\":{\"line_color\":{\"field\":\"color\"},\"line_width\":{\"value\":5},\"xs\":{\"field\":\"x\"},\"ys\":{\"field\":\"y\"}},\"id\":\"1387\",\"type\":\"MultiLine\"},{\"attributes\":{},\"id\":\"1377\",\"type\":\"HelpTool\"},{\"attributes\":{\"text\":\"France\",\"text_alpha\":0.8,\"text_color\":\"#9c9ede\",\"text_font_size\":\"8pt\",\"text_font_style\":\"bold\",\"x\":89,\"x_offset\":-10,\"y\":2.5521128062993044,\"y_offset\":15},\"id\":\"1406\",\"type\":\"Label\"},{\"attributes\":{},\"id\":\"1362\",\"type\":\"LinearScale\"},{\"attributes\":{\"axis_label\":\"Days Since 3 Cumulative Deaths\",\"formatter\":{\"id\":\"1393\"},\"major_label_text_font_size\":\"16pt\",\"major_tick_line_color\":null,\"ticker\":{\"id\":\"1365\"}},\"id\":\"1364\",\"type\":\"LinearAxis\"},{\"attributes\":{},\"id\":\"1360\",\"type\":\"LinearScale\"},{\"attributes\":{},\"id\":\"1369\",\"type\":\"BasicTicker\"},{\"attributes\":{},\"id\":\"1365\",\"type\":\"BasicTicker\"},{\"attributes\":{\"text\":\"United Kingdom\",\"text_alpha\":0.8,\"text_color\":\"#7b4173\",\"text_font_size\":\"8pt\",\"text_font_style\":\"bold\",\"x\":82,\"x_offset\":-20,\"y\":3.5750332279202257,\"y_offset\":5},\"id\":\"1411\",\"type\":\"Label\"},{\"attributes\":{\"text\":\"Comparison of Population Adjusted Daily Cases in Top 10 Most Impacted Regions Excluding Hubei\"},\"id\":\"1355\",\"type\":\"Title\"},{\"attributes\":{\"index\":0,\"label\":{\"value\":\"New York\"},\"renderers\":[{\"id\":\"1389\"}]},\"id\":\"1401\",\"type\":\"LegendItem\"},{\"attributes\":{\"axis\":{\"id\":\"1364\"},\"grid_line_color\":null,\"ticker\":null},\"id\":\"1367\",\"type\":\"Grid\"},{\"attributes\":{\"text\":\"Russia\",\"text_alpha\":0.8,\"text_color\":\"#e7cb94\",\"text_font_size\":\"8pt\",\"text_font_style\":\"bold\",\"x\":66,\"x_offset\":-20,\"y\":4.105832618172409,\"y_offset\":5},\"id\":\"1409\",\"type\":\"Label\"},{\"attributes\":{\"axis\":{\"id\":\"1368\"},\"dimension\":1,\"grid_line_color\":null,\"ticker\":null},\"id\":\"1371\",\"type\":\"Grid\"},{\"attributes\":{\"data\":{\"color\":[\"#393b79\",\"#9c9ede\",\"#8ca252\",\"#8c6d31\",\"#e7cb94\",\"#d6616b\",\"#7b4173\"],\"regions\":[\"New York\",\"France\",\"Germany\",\"India\",\"Russia\",\"Spain\",\"United Kingdom\"],\"x\":[[0,1,2,3,4,5,6,7,8,9,10,11,12,13,14,15,16,17,18,19,20,21,22,23,24,25,26,27,28,29,30,31,32,33,34,35,36,37,38,39,40,41,42,43,44,45,46,47,48,49,50,51,52,53,54,55,56,57,58,59,60,61,62,63,64,65,66,67,68,69,70,71,72,73,74,75,76,77],[0,1,2,3,4,5,6,7,8,9,10,11,12,13,14,15,16,17,18,19,20,21,22,23,24,25,26,27,28,29,30,31,32,33,34,35,36,37,38,39,40,41,42,43,44,45,46,47,48,49,50,51,52,53,54,55,56,57,58,59,60,61,62,63,64,65,66,67,68,69,70,71,72,73,74,75,76,77,78,79,80,81,82,83,84,85,86,87,88,89],[0,1,2,3,4,5,6,7,8,9,10,11,12,13,14,15,16,17,18,19,20,21,22,23,24,25,26,27,28,29,30,31,32,33,34,35,36,37,38,39,40,41,42,43,44,45,46,47,48,49,50,51,52,53,54,55,56,57,58,59,60,61,62,63,64,65,66,67,68,69,70,71,72,73,74,75,76,77,78,79,80],[0,1,2,3,4,5,6,7,8,9,10,11,12,13,14,15,16,17,18,19,20,21,22,23,24,25,26,27,28,29,30,31,32,33,34,35,36,37,38,39,40,41,42,43,44,45,46,47,48,49,50,51,52,53,54,55,56,57,58,59,60,61,62,63,64,65,66,67,68,69,70,71,72,73,74],[0,1,2,3,4,5,6,7,8,9,10,11,12,13,14,15,16,17,18,19,20,21,22,23,24,25,26,27,28,29,30,31,32,33,34,35,36,37,38,39,40,41,42,43,44,45,46,47,48,49,50,51,52,53,54,55,56,57,58,59,60,61,62,63,64,65,66],[0,1,2,3,4,5,6,7,8,9,10,11,12,13,14,15,16,17,18,19,20,21,22,23,24,25,26,27,28,29,30,31,32,33,34,35,36,37,38,39,40,41,42,43,44,45,46,47,48,49,50,51,52,53,54,55,56,57,58,59,60,61,62,63,64,65,66,67,68,69,70,71,72,73,74,75,76,77,78,79,80,81,82,83,84,85,86],[0,1,2,3,4,5,6,7,8,9,10,11,12,13,14,15,16,17,18,19,20,21,22,23,24,25,26,27,28,29,30,31,32,33,34,35,36,37,38,39,40,41,42,43,44,45,46,47,48,49,50,51,52,53,54,55,56,57,58,59,60,61,62,63,64,65,66,67,68,69,70,71,72,73,74,75,76,77,78,79,80,81,82]],\"y\":[[1.5529756422152932,1.8065409588156014,2.426231845315921,3.051316387014134,3.681690107975157,4.074890470903302,4.457888417774296,4.780859137865776,5.100537732744952,5.203208321406007,5.397130616876267,5.50709533641595,5.627122803440498,5.716091175764638,5.75494025590404,5.7853849874492775,5.90316299020306,5.929781966479885,5.9793065009365,6.04206765669262,6.102887049676736,6.147386121532025,6.163529128120725,6.161836357708046,6.20288649972447,6.232735075209981,6.2648782572717,6.212063600750306,6.204302708844528,6.161509898158926,6.140693323320383,6.152717706031593,6.122963129133582,6.107033156307109,6.104386238583466,6.0603661430207865,6.043643287270694,6.008881785238092,5.887928657334449,5.857820462554484,5.780048492548516,5.802584594147003,5.810544813122161,5.807270836079797,5.756573290210731,5.752462287504209,5.6919912560829715,5.586788207036333,5.462155295573931,5.383311322597202,5.365411001777926,5.349218285484337,5.297161388700999,5.121255109268636,5.053116739991925,5.009897463861416,4.92349398962607,4.758407364604769,4.666317596133563,4.558102030116293,4.684459929911348,4.691111688639455,4.639825515262803,4.5978694543998495,4.585164702389853,4.620048523185998,4.568556426201125,4.555626206801333,4.461129082387637,4.423830743362261,4.406176932528238,4.427975918411695,4.370278929090841,4.362039953546288,4.321362882872722,4.314978106013796,4.25602114097279,4.229649477671366],[-0.9002661316643584,-0.8406278653446274,-0.500403279104864,-0.2616518301246633,0.30258872956023614,0.6564072488062339,0.8160953200794847,0.8379432596053544,1.2775281885158989,1.5112485193662957,1.4640602778461969,1.921378747564617,2.0785643310870294,2.0359058975565367,2.510936892115118,2.589617201757759,2.731422045762718,2.9707020774731876,3.0118685993658256,3.10381137870138,3.2641011874213928,3.4020610790517094,3.5046801863935917,3.604497109166567,3.7261297019465216,3.833282528634735,3.9682562277262408,4.004636137922678,4.0266636406225755,4.215416779980204,4.278185025339891,4.219632666038482,4.266082865911072,4.255057819937313,4.2313830584806915,4.2159531168125834,4.079698755622242,4.041336385918902,4.124385923287093,4.091116104765052,4.0463519206746374,4.735221551812472,4.730284652025798,4.75369212481973,4.740590425317299,4.891008671965361,4.849856047805947,4.792581542605104,4.259719833043124,4.2176273177728705,4.140235270417958,3.922085734873674,3.311820083193573,3.280802677564761,3.4143127261554738,3.021651890293297,3.1620052968480197,3.1888506367247382,3.1597915224225717,2.9877846720062675,2.784134031645532,2.719819952210171,2.680299972258307,2.0131163055666175,1.105282283710686,2.8177923812846006,2.804684602132899,2.9665023512817403,2.8719167160393853,2.8684411381055255,2.8473301117081204,2.8041346983522013,2.077427321299954,2.120839814235268,1.9190489079352537,1.715783119447054,1.6144524025459361,1.5500644951596854,1.6180608863893138,1.9476269736395533,1.7733044273712757,1.6642533955734962,1.8342464735186832,1.7828959070025985,1.7802195528912081,1.197854611017672,0.7947855334927335,2.20714742148746,2.248259156691832,2.5521128062993044],[1.071163364986958,1.040315761759697,1.6730928307192507,1.904125315519211,2.1320119587294335,2.380448081116425,2.6269389964276257,2.9164463251621267,3.1562088592347344,3.3561584478697215,3.4423038097118206,3.5213511014550964,3.653991018103538,3.7395131915417004,3.791531074798915,3.926851153216623,4.007544127603028,4.141840788370537,4.189715247053852,4.205891266980579,4.231802358980979,4.275326382076963,4.282868952077423,4.2688689205940165,4.220794594273844,4.2111379932288635,4.169826108036489,4.152298290066618,4.140204819258306,4.080981865391478,4.007189489088793,3.9337460511656803,3.8953661837362334,3.8574039189656206,3.738121520257523,3.638866195195024,3.5441011433811447,3.5290787923757043,3.4870120483035523,3.4252543664595945,3.405616757284048,3.402020585390757,3.3388198570948457,3.3091937358211476,3.1830321034855267,3.1508327057489893,3.1054003478368215,3.031805634890261,3.0256290689728167,2.960752022825629,2.8633277744918564,2.778669166766354,2.707454964876678,2.6389182399727353,2.5734841232465198,2.532205573344086,2.4633637022349224,2.4323891315439914,2.446308316986805,2.4223718306863518,2.3997809876947542,2.4328562393765405,2.3915411801899493,2.3538507685971592,2.1918073879709916,2.108606634997882,2.0607632775784706,2.0746679644862427,1.9528400108383752,2.10039214868586,2.0487217825416577,2.0864028495093465,2.0717684419909084,2.015962435444753,1.9488067308560735,1.971285199782104,1.8030404382020815,1.6882846684666124,1.7281228950767349,1.739709058816595,1.736903133359101],[-4.574119950248365,-4.485172464231869,-4.232676700905132,-3.940870911269489,-3.599121617547432,-3.3830203488586355,-3.0882959937814416,-3.0521163372039393,-2.811861145417008,-2.7499458223360285,-2.5623225222642536,-2.5407832280172626,-2.585927080033674,-2.405730922552033,-2.270372742074142,-1.8272963632201944,-1.5240756873406343,-1.6019181741045683,-1.3811584141456348,-1.1791434284613123,-0.8602643162658211,-0.7561520985458515,-0.755130647997387,-0.6899223665132939,-0.5050931960105544,-0.4410020021003038,-0.39491425396944013,-0.38464140415226966,-0.30004115479726073,-0.2634769163327695,-0.21785845078609406,-0.21057704555635995,-0.13613070686386017,0.00870950646512064,-0.030577796301156708,0.030235950811350037,0.08183177129408364,0.14593501866868056,0.19951656064690496,0.23645600324460142,0.20900179286256237,0.2691511335813704,0.2991226855245494,0.3381928797292636,0.34620041889598574,0.42301375349017406,0.47573605700117183,0.5613364310434732,0.7116775078380816,0.7738731240292973,0.8712632571565428,0.9467826722611457,0.990043982603037,1.0195101845192027,1.0843083110580238,1.0710392899518073,1.0938344991872355,1.1008801648426931,1.1236756465171882,1.1408018020326989,1.205761867946483,1.2304895233767297,1.265710128560265,1.3507263953052309,1.4048541239709191,1.4691479355710484,1.5431060559988292,1.5873571809873417,1.6367135916292146,1.677515043429482,1.6706789475472772,1.7091895043060885,1.7328341081494343,1.7649054590286386,1.7993585694877108],[-0.67138144076941,-0.4447215740524441,-0.24461833498231111,-0.04290325300225369,0.15444060131344164,0.3350468918206414,0.610856185842138,0.7509485272951849,0.9962146030590512,1.135591139468494,1.243293914711909,1.3493752550243154,1.505635991717534,1.6409408275024941,1.7741087819983572,1.8844948164947624,2.0500169789980465,2.1807606326379347,2.339981460220131,2.4836601158953706,2.6104416202442327,2.7611527801062485,2.8795958864282,3.0002762016050455,3.1445443824899804,3.298910472782712,3.360136550052579,3.455089887560042,3.5118183074747082,3.5506268764911053,3.6004349289378457,3.632181066753163,3.6401135377535296,3.689533490964456,3.7085637728897862,3.7232851288402915,3.7779242689136887,3.8244848263744973,3.9012898128944276,3.9841246342775523,4.06253129234423,4.124101768380472,4.197657221762819,4.257912194096489,4.296309582277426,4.312439617908682,4.317505694789778,4.331737088628437,4.342158957537113,4.3352274935682065,4.318625053141266,4.317279005453208,4.295478491252377,4.277558861086193,4.238939654380618,4.215060885393386,4.196213221632241,4.1791341002154905,4.1526963316171965,4.1563685368674905,4.138828108654726,4.139146889638953,4.133585548897021,4.126735325930277,4.118992641143883,4.113742857337758,4.105832618172409],[-0.2810712939171942,0.1298434189585349,0.34205789974055434,0.6001866644411905,1.0813753844438059,1.554783495176085,1.8497916077199388,1.831622681703158,2.7047762204042547,2.9029415223112913,3.093125485926455,3.3120778101660564,3.437386857195024,3.5833616466063702,3.8822843545622154,3.849362770753462,4.0730596015801455,4.1726086046855695,4.356121630701852,4.466601195966652,4.702001837205829,4.813960394595565,4.943021448024055,4.997816736308654,5.068024890435714,5.096405666640727,5.155545791809969,5.129604586068121,5.12365317157681,5.1088235120054835,5.09854272266762,5.071796352360584,5.015584857511173,4.958570114460121,4.916020892670117,4.846909781783879,4.794973043941185,4.736615581965532,4.690135615190253,4.638789964585951,4.550483088457519,4.511326427633707,4.5866522937580045,4.612784559113769,4.486378038724703,4.590333337414921,4.534406313271514,4.58384308148807,4.555243139177174,4.4644308786399165,3.6269272306982154,3.7812777565271616,3.32228598675858,3.3546797057972015,3.015827545941019,2.6397961006726227,0.24035369528583858,3.633080591378275,3.497607654967906,3.415158132035475,3.274979096993574,3.2761485509919,3.132076257115619,3.210456177575313,3.1630442444371707,3.0748543169280964,3.0587156381210336,3.3728814931058153,3.2929537213556284,3.253691632791748,3.2205152502853056,3.120945424128364,3.092423485195625,2.9776555624359036,2.557431795582451,2.5175585914257486,2.4812186761220123,2.3814212178529797,2.66444562003078,2.6538314187890064,2.7536452209488314,2.4629366312845633,2.56982470919787,2.4389290765556737,2.712404336972305,2.4486013711981816,2.500188739988675],[-0.4462430623704053,-0.28247935632708826,-0.16839566909671594,-0.25271525442063436,0.36902726718854045,0.7548787065246914,0.6804412450763907,1.0236464080273895,1.272958469206202,1.597884714830354,1.6265035201360067,1.9816098363021126,2.178477104098446,2.3367451340552523,2.453769694943493,2.6358627810215034,2.7551136469993245,3.016931734413852,3.1802308255561016,3.313963428996976,3.450648240521779,3.5634167574022118,3.6606558155670825,3.816136032635356,3.916923561103342,3.9854630206577926,4.034565557298666,4.16545382101998,4.206428540406686,4.227416902975961,4.265464881996357,4.268658854496666,4.395222246800087,4.4364510144353275,4.419729808106737,4.434426749564129,4.477212610237743,4.45395757531509,4.461164671018166,4.376618114284187,4.38494199358809,4.400770188963335,4.410059645279458,4.383379426683513,4.379048318616622,4.378076945475846,4.3719700124948035,4.354212916198355,4.312762552945306,4.301501138116795,4.2920447295766975,4.28029408126425,4.324954127496257,4.3492239109860105,4.346070960957534,4.342404595713956,4.332760802783928,4.344948825238557,4.403337584468582,4.391619247912782,4.346867503415533,4.319665108744466,4.306978917624098,4.303658902278186,4.272287582695444,4.176704115464135,4.097884264886193,4.055817927116803,4.038065510584801,4.022320340836167,3.9735832105084574,3.93020755696393,3.745673758500718,3.6999373516546834,3.684443724279054,3.6559590418299543,3.5872099384954805,3.5162971356444417,3.6209875120709993,3.7648031549282113,3.725622552861534,3.657957866716493,3.5750332279202257]]},\"selected\":{\"id\":\"1442\"},\"selection_policy\":{\"id\":\"1441\"}},\"id\":\"1385\",\"type\":\"ColumnDataSource\"},{\"attributes\":{\"index\":1,\"label\":{\"value\":\"France\"},\"renderers\":[{\"id\":\"1389\"}]},\"id\":\"1398\",\"type\":\"LegendItem\"},{\"attributes\":{\"text\":\"Spain\",\"text_alpha\":0.8,\"text_color\":\"#d6616b\",\"text_font_size\":\"8pt\",\"text_font_style\":\"bold\",\"x\":86,\"x_offset\":-20,\"y\":2.500188739988675,\"y_offset\":5},\"id\":\"1410\",\"type\":\"Label\"},{\"attributes\":{\"axis_label\":\"Daily Cases per 1M (7DMA)\\n(Natural Log)\",\"formatter\":{\"id\":\"1395\"},\"major_label_text_font_size\":\"16pt\",\"ticker\":{\"id\":\"1369\"}},\"id\":\"1368\",\"type\":\"LinearAxis\"},{\"attributes\":{\"index\":3,\"label\":{\"value\":\"India\"},\"renderers\":[{\"id\":\"1389\"}]},\"id\":\"1400\",\"type\":\"LegendItem\"},{\"attributes\":{\"index\":4,\"label\":{\"value\":\"Russia\"},\"renderers\":[{\"id\":\"1389\"}]},\"id\":\"1402\",\"type\":\"LegendItem\"},{\"attributes\":{\"data_source\":{\"id\":\"1385\"},\"glyph\":{\"id\":\"1387\"},\"hover_glyph\":null,\"muted_glyph\":null,\"nonselection_glyph\":{\"id\":\"1388\"},\"selection_glyph\":null,\"view\":{\"id\":\"1390\"}},\"id\":\"1389\",\"type\":\"GlyphRenderer\"},{\"attributes\":{},\"id\":\"1357\",\"type\":\"DataRange1d\"},{\"attributes\":{\"text\":\"New York\",\"text_alpha\":0.8,\"text_color\":\"#393b79\",\"text_font_size\":\"8pt\",\"text_font_style\":\"bold\",\"x\":77,\"y\":4.229649477671366,\"y_offset\":-15},\"id\":\"1405\",\"type\":\"Label\"},{\"attributes\":{},\"id\":\"1441\",\"type\":\"UnionRenderers\"},{\"attributes\":{\"line_alpha\":{\"value\":0.1},\"line_color\":{\"field\":\"color\"},\"line_width\":{\"value\":5},\"xs\":{\"field\":\"x\"},\"ys\":{\"field\":\"y\"}},\"id\":\"1388\",\"type\":\"MultiLine\"},{\"attributes\":{\"bottom_units\":\"screen\",\"fill_alpha\":0.5,\"fill_color\":\"lightgrey\",\"left_units\":\"screen\",\"level\":\"overlay\",\"line_alpha\":1.0,\"line_color\":\"black\",\"line_dash\":[4,4],\"line_width\":2,\"render_mode\":\"css\",\"right_units\":\"screen\",\"top_units\":\"screen\"},\"id\":\"1396\",\"type\":\"BoxAnnotation\"},{\"attributes\":{\"active_drag\":\"auto\",\"active_inspect\":\"auto\",\"active_multi\":null,\"active_scroll\":\"auto\",\"active_tap\":\"auto\",\"tools\":[{\"id\":\"1372\"},{\"id\":\"1373\"},{\"id\":\"1374\"},{\"id\":\"1375\"},{\"id\":\"1376\"},{\"id\":\"1377\"}]},\"id\":\"1378\",\"type\":\"Toolbar\"},{\"attributes\":{},\"id\":\"1442\",\"type\":\"Selection\"},{\"attributes\":{\"source\":{\"id\":\"1385\"}},\"id\":\"1390\",\"type\":\"CDSView\"},{\"attributes\":{},\"id\":\"1393\",\"type\":\"BasicTickFormatter\"},{\"attributes\":{\"background_fill_alpha\":0.0,\"border_line_alpha\":0.0,\"border_line_color\":\"black\",\"items\":[{\"id\":\"1398\"},{\"id\":\"1399\"},{\"id\":\"1400\"},{\"id\":\"1401\"},{\"id\":\"1402\"},{\"id\":\"1403\"},{\"id\":\"1404\"}],\"label_text_font_size\":\"8pt\",\"title\":\"Region: Start Date\",\"visible\":false},\"id\":\"1397\",\"type\":\"Legend\"},{\"attributes\":{},\"id\":\"1372\",\"type\":\"PanTool\"},{\"attributes\":{\"overlay\":{\"id\":\"1396\"}},\"id\":\"1374\",\"type\":\"BoxZoomTool\"},{\"attributes\":{},\"id\":\"1395\",\"type\":\"BasicTickFormatter\"},{\"attributes\":{},\"id\":\"1373\",\"type\":\"WheelZoomTool\"},{\"attributes\":{\"index\":5,\"label\":{\"value\":\"Spain\"},\"renderers\":[{\"id\":\"1389\"}]},\"id\":\"1403\",\"type\":\"LegendItem\"}],\"root_ids\":[\"1354\"]},\"title\":\"Bokeh Application\",\"version\":\"2.0.0\"}};\n",
       "  var render_items = [{\"docid\":\"82f29b0d-06a4-402f-b3b7-ebbf7b9109cf\",\"root_ids\":[\"1354\"],\"roots\":{\"1354\":\"2b4a1690-1277-460f-920f-fed7012f2ea3\"}}];\n",
       "  root.Bokeh.embed.embed_items_notebook(docs_json, render_items);\n",
       "\n",
       "  }\n",
       "  if (root.Bokeh !== undefined) {\n",
       "    embed_document(root);\n",
       "  } else {\n",
       "    var attempts = 0;\n",
       "    var timer = setInterval(function(root) {\n",
       "      if (root.Bokeh !== undefined) {\n",
       "        clearInterval(timer);\n",
       "        embed_document(root);\n",
       "      } else {\n",
       "        attempts++;\n",
       "        if (attempts > 100) {\n",
       "          clearInterval(timer);\n",
       "          console.log(\"Bokeh: ERROR: Unable to run BokehJS code because BokehJS library is missing\");\n",
       "        }\n",
       "      }\n",
       "    }, 10, root)\n",
       "  }\n",
       "})(window);"
      ],
      "application/vnd.bokehjs_exec.v0+json": ""
     },
     "metadata": {
      "application/vnd.bokehjs_exec.v0+json": {
       "id": "1354"
      }
     },
     "output_type": "display_data"
    }
   ],
   "source": [
    "kwargs ={\n",
    "    'title': 'Comparison of Population Adjusted Daily Cases in Top 10 Most Impacted Regions Excluding Hubei',\n",
    "    'width': 925,\n",
    "    'palette_base': Category20b[20],\n",
    "    'label_offsets': {\n",
    "        'New Jersey': {'x_offset': -5, 'y_offset': 5},\n",
    "        'New York': {'x_offset': 20, 'y_offset': -20},\n",
    "        'France': {'x_offset': 10, 'y_offset': 10},\n",
    "        'Germany': {'x_offset': 0, 'y_offset': -20},\n",
    "    }, \n",
    "}\n",
    "p = casestudy.comp_chart.make(comp_category='cases_new_dma_per_1M_lognat', comp_type='multiline', **kwargs)\n",
    "show(p)"
   ]
  },
  {
   "cell_type": "markdown",
   "metadata": {},
   "source": [
    "<h2><a id='section4.3'>4.3 Factor Comparison: Oxford Government Tracker</a></h2>"
   ]
  },
  {
   "cell_type": "markdown",
   "metadata": {},
   "source": [
    "**Oxford Stringency Index from day of 1st Death**\n",
    "\n",
    "The comparison chart can be used to compare any time-dynamic variable provided by the `factor` attribute.\n",
    "\n",
    "The below chart compares the Oxford Stringency Index for each selected region"
   ]
  },
  {
   "cell_type": "code",
   "execution_count": 12,
   "metadata": {},
   "outputs": [
    {
     "data": {
      "text/html": [
       "\n",
       "\n",
       "\n",
       "\n",
       "\n",
       "\n",
       "  <div class=\"bk-root\" id=\"651a62ad-2699-4d80-8275-a9db33fef192\" data-root-id=\"1493\"></div>\n"
      ]
     },
     "metadata": {},
     "output_type": "display_data"
    },
    {
     "data": {
      "application/javascript": [
       "(function(root) {\n",
       "  function embed_document(root) {\n",
       "    \n",
       "  var docs_json = {\"81eced64-aa8f-4026-ad7a-4814e7449631\":{\"roots\":{\"references\":[{\"attributes\":{\"background_fill_color\":\"white\",\"below\":[{\"id\":\"1503\"}],\"border_fill_color\":\"white\",\"center\":[{\"id\":\"1506\"},{\"id\":\"1510\"},{\"id\":\"1536\"},{\"id\":\"1540\"},{\"id\":\"1541\"},{\"id\":\"1542\"}],\"left\":[{\"id\":\"1507\"}],\"min_border\":20,\"outline_line_color\":\"white\",\"plot_height\":500,\"plot_width\":825,\"renderers\":[{\"id\":\"1528\"}],\"title\":{\"id\":\"1494\"},\"toolbar\":{\"id\":\"1517\"},\"toolbar_location\":null,\"x_range\":{\"id\":\"1496\"},\"x_scale\":{\"id\":\"1499\"},\"y_range\":{\"id\":\"1492\"},\"y_scale\":{\"id\":\"1501\"}},\"id\":\"1493\",\"subtype\":\"Figure\",\"type\":\"Plot\"},{\"attributes\":{},\"id\":\"1515\",\"type\":\"ResetTool\"},{\"attributes\":{\"axis\":{\"id\":\"1503\"},\"grid_line_color\":null,\"ticker\":null},\"id\":\"1506\",\"type\":\"Grid\"},{\"attributes\":{\"text\":\"\"},\"id\":\"1494\",\"type\":\"Title\"},{\"attributes\":{\"text\":\"Taiwan\",\"text_alpha\":0.8,\"text_color\":\"#ad494a\",\"text_font_size\":\"8pt\",\"text_font_style\":\"bold\",\"x\":120,\"x_offset\":-10,\"y\":22.22,\"y_offset\":10},\"id\":\"1542\",\"type\":\"Label\"},{\"attributes\":{},\"id\":\"1508\",\"type\":\"BasicTicker\"},{\"attributes\":{},\"id\":\"1514\",\"type\":\"SaveTool\"},{\"attributes\":{\"index\":0,\"label\":{\"value\":\"Germany\"},\"renderers\":[{\"id\":\"1528\"}]},\"id\":\"1537\",\"type\":\"LegendItem\"},{\"attributes\":{},\"id\":\"1534\",\"type\":\"BasicTickFormatter\"},{\"attributes\":{},\"id\":\"1581\",\"type\":\"Selection\"},{\"attributes\":{\"line_color\":{\"field\":\"color\"},\"line_width\":{\"value\":5},\"xs\":{\"field\":\"x\"},\"ys\":{\"field\":\"y\"}},\"id\":\"1526\",\"type\":\"MultiLine\"},{\"attributes\":{\"source\":{\"id\":\"1524\"}},\"id\":\"1529\",\"type\":\"CDSView\"},{\"attributes\":{\"active_drag\":\"auto\",\"active_inspect\":\"auto\",\"active_multi\":null,\"active_scroll\":\"auto\",\"active_tap\":\"auto\",\"tools\":[{\"id\":\"1511\"},{\"id\":\"1512\"},{\"id\":\"1513\"},{\"id\":\"1514\"},{\"id\":\"1515\"},{\"id\":\"1516\"}]},\"id\":\"1517\",\"type\":\"Toolbar\"},{\"attributes\":{\"background_fill_alpha\":0.0,\"border_line_alpha\":0.0,\"border_line_color\":\"black\",\"items\":[{\"id\":\"1537\"},{\"id\":\"1538\"},{\"id\":\"1539\"}],\"label_text_font_size\":\"8pt\",\"title\":\"Region: Start Date\",\"visible\":false},\"id\":\"1536\",\"type\":\"Legend\"},{\"attributes\":{},\"id\":\"1580\",\"type\":\"UnionRenderers\"},{\"attributes\":{\"data\":{\"color\":[\"#393b79\",\"#b5cf6b\",\"#ad494a\"],\"regions\":[\"Germany\",\"Spain\",\"Taiwan\"],\"x\":[[0,1,2,3,4,5,6,7,8,9,10,11,12,13,14,15,16,17,18,19,20,21,22,23,24,25,26,27,28,29,30,31,32,33,34,35,36,37,38,39,40,41,42,43,44,45,46,47,48,49,50,51,52,53,54,55,56,57,58,59,60,61,62,63,64,65,66,67,68,69,70,71,72,73,74,75,76,77,78,79,80,81,82,83,84,85,86,87,88,89,90,91,92,93,94,95,96,97,98,99,100,101,102,103,104,105,106,107,108,109,110,111,112,113,114,115,116,117,118],[0,1,2,3,4,5,6,7,8,9,10,11,12,13,14,15,16,17,18,19,20,21,22,23,24,25,26,27,28,29,30,31,32,33,34,35,36,37,38,39,40,41,42,43,44,45,46,47,48,49,50,51,52,53,54,55,56,57,58,59,60,61,62,63,64,65,66,67,68,69,70,71,72,73,74,75,76,77,78,79,80,81,82,83,84,85,86,87,88,89,90,91,92,93,94],[0,1,2,3,4,5,6,7,8,9,10,11,12,13,14,15,16,17,18,19,20,21,22,23,24,25,26,27,28,29,30,31,32,33,34,35,36,37,38,39,40,41,42,43,44,45,46,47,48,49,50,51,52,53,54,55,56,57,58,59,60,61,62,63,64,65,66,67,68,69,70,71,72,73,74,75,76,77,78,79,80,81,82,83,84,85,86,87,88,89,90,91,92,93,94,95,96,97,98,99,100,101,102,103,104,105,106,107,108,109,110,111,112,113,114,115,116,117,118,119,120]],\"y\":[[5.56,5.56,5.56,5.56,5.56,5.56,5.56,5.56,5.56,5.56,11.11,11.11,11.11,11.11,11.11,11.11,11.11,11.11,11.11,11.11,11.11,11.11,11.11,11.11,16.67,16.67,19.44,25.0,25.0,25.0,25.0,25.0,25.0,25.0,25.0,25.0,28.7,32.87,32.87,32.87,32.87,32.87,32.87,42.13,42.13,52.31,55.09,57.87,68.06,73.15,73.15,73.15,73.15,73.15,73.15,73.15,73.15,73.15,73.15,73.15,73.15,73.15,73.15,73.15,73.15,73.15,73.15,73.15,73.15,73.15,73.15,73.15,73.15,73.15,73.15,73.15,73.15,73.15,73.15,73.15,73.15,73.15,73.15,73.15,73.15,73.15,73.15,73.15,73.15,73.15,73.15,73.15,68.06,68.06,62.5,60.65,64.35,64.35,64.35,64.35,64.35,64.35,64.35,64.35,61.57,61.57,62.96,52.78,52.78,52.78,52.78,52.78,52.78,50.0,50.0,50.0,50.0,50.0,50.0],[11.11,11.11,11.11,11.11,11.11,11.11,11.11,11.11,11.11,11.11,11.11,11.11,25.0,45.83,45.83,45.83,45.83,67.13,67.13,68.98,71.76,71.76,71.76,71.76,71.76,71.76,71.76,71.76,71.76,71.76,71.76,71.76,71.76,85.19,85.19,85.19,85.19,85.19,85.19,85.19,85.19,85.19,85.19,85.19,85.19,85.19,85.19,85.19,85.19,85.19,85.19,85.19,85.19,85.19,85.19,85.19,85.19,85.19,85.19,85.19,85.19,85.19,85.19,85.19,85.19,85.19,85.19,85.19,81.94,81.94,81.94,81.94,81.94,81.94,81.94,81.94,81.94,83.33,83.33,83.33,83.33,79.17,79.17,79.17,79.17,79.17,79.17,79.17,79.17,79.17,79.17,79.17,79.17,79.17,79.17],[19.44,19.44,30.56,30.56,30.56,30.56,30.56,30.56,30.56,30.56,30.56,30.56,30.56,30.56,30.56,30.56,30.56,30.56,30.56,30.56,30.56,30.56,30.56,30.56,30.56,19.44,19.44,19.44,19.44,19.44,19.44,19.44,19.44,19.44,25.0,25.0,25.0,25.0,25.0,25.0,25.0,25.0,25.0,25.0,25.0,25.0,25.0,25.0,27.78,27.78,27.78,27.78,27.78,27.78,27.78,27.78,27.78,27.78,27.78,27.78,27.78,27.78,27.78,27.78,27.78,27.78,27.78,27.78,27.78,27.78,27.78,27.78,27.78,27.78,27.78,27.78,27.78,27.78,27.78,27.78,27.78,27.78,27.78,27.78,27.78,27.78,27.78,27.78,27.78,27.78,27.78,27.78,27.78,27.78,27.78,27.78,27.78,27.78,22.22,22.22,22.22,22.22,22.22,22.22,22.22,22.22,22.22,22.22,22.22,22.22,22.22,22.22,22.22,22.22,22.22,22.22,22.22,22.22,22.22,22.22,22.22]]},\"selected\":{\"id\":\"1581\"},\"selection_policy\":{\"id\":\"1580\"}},\"id\":\"1524\",\"type\":\"ColumnDataSource\"},{\"attributes\":{\"text\":\"Germany\",\"text_alpha\":0.8,\"text_color\":\"#393b79\",\"text_font_size\":\"8pt\",\"text_font_style\":\"bold\",\"x\":118,\"x_offset\":-20,\"y\":50.0,\"y_offset\":5},\"id\":\"1540\",\"type\":\"Label\"},{\"attributes\":{},\"id\":\"1512\",\"type\":\"WheelZoomTool\"},{\"attributes\":{\"end\":93.709,\"start\":5.6156},\"id\":\"1492\",\"type\":\"Range1d\"},{\"attributes\":{\"bottom_units\":\"screen\",\"fill_alpha\":0.5,\"fill_color\":\"lightgrey\",\"left_units\":\"screen\",\"level\":\"overlay\",\"line_alpha\":1.0,\"line_color\":\"black\",\"line_dash\":[4,4],\"line_width\":2,\"render_mode\":\"css\",\"right_units\":\"screen\",\"top_units\":\"screen\"},\"id\":\"1535\",\"type\":\"BoxAnnotation\"},{\"attributes\":{\"axis_label\":\"Days Since 10 Cumulative Cases\",\"formatter\":{\"id\":\"1532\"},\"major_label_text_font_size\":\"16pt\",\"major_tick_line_color\":null,\"ticker\":{\"id\":\"1504\"}},\"id\":\"1503\",\"type\":\"LinearAxis\"},{\"attributes\":{\"overlay\":{\"id\":\"1535\"}},\"id\":\"1513\",\"type\":\"BoxZoomTool\"},{\"attributes\":{\"axis\":{\"id\":\"1507\"},\"dimension\":1,\"grid_line_color\":null,\"ticker\":null},\"id\":\"1510\",\"type\":\"Grid\"},{\"attributes\":{\"axis_label\":\"Oxford Stringency Index\",\"formatter\":{\"id\":\"1534\"},\"major_label_text_font_size\":\"16pt\",\"ticker\":{\"id\":\"1508\"}},\"id\":\"1507\",\"type\":\"LinearAxis\"},{\"attributes\":{},\"id\":\"1532\",\"type\":\"BasicTickFormatter\"},{\"attributes\":{\"data_source\":{\"id\":\"1524\"},\"glyph\":{\"id\":\"1526\"},\"hover_glyph\":null,\"muted_glyph\":null,\"nonselection_glyph\":{\"id\":\"1527\"},\"selection_glyph\":null,\"view\":{\"id\":\"1529\"}},\"id\":\"1528\",\"type\":\"GlyphRenderer\"},{\"attributes\":{},\"id\":\"1504\",\"type\":\"BasicTicker\"},{\"attributes\":{\"text\":\"Spain\",\"text_alpha\":0.8,\"text_color\":\"#b5cf6b\",\"text_font_size\":\"8pt\",\"text_font_style\":\"bold\",\"x\":94,\"x_offset\":-20,\"y\":79.17,\"y_offset\":5},\"id\":\"1541\",\"type\":\"Label\"},{\"attributes\":{\"line_alpha\":{\"value\":0.1},\"line_color\":{\"field\":\"color\"},\"line_width\":{\"value\":5},\"xs\":{\"field\":\"x\"},\"ys\":{\"field\":\"y\"}},\"id\":\"1527\",\"type\":\"MultiLine\"},{\"attributes\":{},\"id\":\"1501\",\"type\":\"LinearScale\"},{\"attributes\":{},\"id\":\"1499\",\"type\":\"LinearScale\"},{\"attributes\":{\"index\":2,\"label\":{\"value\":\"Taiwan\"},\"renderers\":[{\"id\":\"1528\"}]},\"id\":\"1539\",\"type\":\"LegendItem\"},{\"attributes\":{},\"id\":\"1511\",\"type\":\"PanTool\"},{\"attributes\":{},\"id\":\"1496\",\"type\":\"DataRange1d\"},{\"attributes\":{\"index\":1,\"label\":{\"value\":\"Spain\"},\"renderers\":[{\"id\":\"1528\"}]},\"id\":\"1538\",\"type\":\"LegendItem\"},{\"attributes\":{},\"id\":\"1516\",\"type\":\"HelpTool\"}],\"root_ids\":[\"1493\"]},\"title\":\"Bokeh Application\",\"version\":\"2.0.0\"}};\n",
       "  var render_items = [{\"docid\":\"81eced64-aa8f-4026-ad7a-4814e7449631\",\"root_ids\":[\"1493\"],\"roots\":{\"1493\":\"651a62ad-2699-4d80-8275-a9db33fef192\"}}];\n",
       "  root.Bokeh.embed.embed_items_notebook(docs_json, render_items);\n",
       "\n",
       "  }\n",
       "  if (root.Bokeh !== undefined) {\n",
       "    embed_document(root);\n",
       "  } else {\n",
       "    var attempts = 0;\n",
       "    var timer = setInterval(function(root) {\n",
       "      if (root.Bokeh !== undefined) {\n",
       "        clearInterval(timer);\n",
       "        embed_document(root);\n",
       "      } else {\n",
       "        attempts++;\n",
       "        if (attempts > 100) {\n",
       "          clearInterval(timer);\n",
       "          console.log(\"Bokeh: ERROR: Unable to run BokehJS code because BokehJS library is missing\");\n",
       "        }\n",
       "      }\n",
       "    }, 10, root)\n",
       "  }\n",
       "})(window);"
      ],
      "application/vnd.bokehjs_exec.v0+json": ""
     },
     "metadata": {
      "application/vnd.bokehjs_exec.v0+json": {
       "id": "1493"
      }
     },
     "output_type": "display_data"
    }
   ],
   "source": [
    "regions = ['Germany', 'Spain', 'Taiwan']\n",
    "\n",
    "casestudy = CaseStudy(\n",
    "    baseframe, count_categories='cases_new_per_1M', regions=regions, \n",
    "    start_hurdle=10, start_factor='cases', factors=['strindex']\n",
    ")\n",
    "kwargs = {\n",
    "    'width': 825, 'height': 500,\n",
    "    'palette_base': Category20b[20],\n",
    "    'label_offsets': {\n",
    "        'Taiwan': {'x_offset': 10, 'y_offset': 5},\n",
    "    },\n",
    "}\n",
    "p = casestudy.comp_chart.make(comp_category='strindex', comp_type='multiline', **kwargs)\n",
    "show(p)"
   ]
  },
  {
   "cell_type": "markdown",
   "metadata": {},
   "source": [
    "<h2><a id='section4.4'>4.4 MultiBar Comparison</a></h2>\n",
    "\n",
    "Staggered bar charts are available by selecting `v-bar` for the `comp_type` parameter. `v-bar` is also the default parameter. The chart staggers the outcomes for individual regions on each day around the midpoint.\n",
    "\n",
    "can provide more clear point-to-point comparisons between two or three regions. If you are interested in more than three regions, the 4D Bar chart is recommended.\n",
    "\n",
    "Options for tinkering with the color scheme are also shown.\n",
    "\n",
    "**NOTE:** Despite its low score on the Oxford Stringency Index, Taiwan ***doesn't even register on the page*** and so has been removed from the comparison."
   ]
  },
  {
   "cell_type": "code",
   "execution_count": 13,
   "metadata": {},
   "outputs": [
    {
     "data": {
      "text/html": [
       "\n",
       "\n",
       "\n",
       "\n",
       "\n",
       "\n",
       "  <div class=\"bk-root\" id=\"128cb21a-1cb2-4f15-9ada-afc8f08193e2\" data-root-id=\"1632\"></div>\n"
      ]
     },
     "metadata": {},
     "output_type": "display_data"
    },
    {
     "data": {
      "application/javascript": [
       "(function(root) {\n",
       "  function embed_document(root) {\n",
       "    \n",
       "  var docs_json = {\"0c9f80f8-fb51-4f46-ad80-7b05f8767e2f\":{\"roots\":{\"references\":[{\"attributes\":{\"background_fill_color\":\"white\",\"below\":[{\"id\":\"1642\"}],\"border_fill_color\":\"white\",\"center\":[{\"id\":\"1645\"},{\"id\":\"1649\"},{\"id\":\"1676\"}],\"left\":[{\"id\":\"1646\"}],\"min_border\":20,\"outline_line_color\":\"white\",\"plot_height\":500,\"plot_width\":825,\"renderers\":[{\"id\":\"1668\"},{\"id\":\"1682\"}],\"title\":{\"id\":\"1633\"},\"toolbar\":{\"id\":\"1656\"},\"toolbar_location\":null,\"x_range\":{\"id\":\"1635\"},\"x_scale\":{\"id\":\"1638\"},\"y_range\":{\"id\":\"1631\"},\"y_scale\":{\"id\":\"1640\"}},\"id\":\"1632\",\"subtype\":\"Figure\",\"type\":\"Plot\"},{\"attributes\":{\"axis\":{\"id\":\"1642\"},\"grid_line_color\":null,\"ticker\":null},\"id\":\"1645\",\"type\":\"Grid\"},{\"attributes\":{\"end\":175.0764226040358,\"start\":0.0008954923618713006},\"id\":\"1631\",\"type\":\"Range1d\"},{\"attributes\":{\"axis\":{\"id\":\"1646\"},\"dimension\":1,\"grid_line_color\":null,\"ticker\":null},\"id\":\"1649\",\"type\":\"Grid\"},{\"attributes\":{\"source\":{\"id\":\"1663\"}},\"id\":\"1669\",\"type\":\"CDSView\"},{\"attributes\":{\"axis_label\":\"Daily Cases per 1M (14DMA)\",\"formatter\":{\"id\":\"1674\"},\"major_label_text_font_size\":\"16pt\",\"ticker\":{\"id\":\"1647\"}},\"id\":\"1646\",\"type\":\"LinearAxis\"},{\"attributes\":{},\"id\":\"1689\",\"type\":\"UnionRenderers\"},{\"attributes\":{\"fill_alpha\":{\"value\":0.1},\"fill_color\":{\"value\":\"#66c2a5\"},\"line_alpha\":{\"value\":0.1},\"line_color\":{\"value\":\"#66c2a5\"},\"top\":{\"field\":\"Spain\"},\"width\":{\"value\":0.3},\"x\":{\"field\":\"x\",\"transform\":{\"id\":\"1678\"}}},\"id\":\"1681\",\"type\":\"VBar\"},{\"attributes\":{\"range\":{\"id\":\"1635\"},\"value\":-0.125},\"id\":\"1664\",\"type\":\"Dodge\"},{\"attributes\":{\"range\":{\"id\":\"1635\"},\"value\":0.125},\"id\":\"1678\",\"type\":\"Dodge\"},{\"attributes\":{\"fill_alpha\":{\"value\":0.1},\"fill_color\":{\"value\":\"#fdae61\"},\"line_alpha\":{\"value\":0.1},\"line_color\":{\"value\":\"#fdae61\"},\"top\":{\"field\":\"Germany\"},\"width\":{\"value\":0.3},\"x\":{\"field\":\"x\",\"transform\":{\"id\":\"1664\"}}},\"id\":\"1667\",\"type\":\"VBar\"},{\"attributes\":{\"data_source\":{\"id\":\"1663\"},\"glyph\":{\"id\":\"1666\"},\"hover_glyph\":null,\"muted_glyph\":null,\"nonselection_glyph\":{\"id\":\"1667\"},\"selection_glyph\":null,\"view\":{\"id\":\"1669\"}},\"id\":\"1668\",\"type\":\"GlyphRenderer\"},{\"attributes\":{\"fill_color\":{\"value\":\"#66c2a5\"},\"line_color\":{\"value\":\"#66c2a5\"},\"top\":{\"field\":\"Spain\"},\"width\":{\"value\":0.3},\"x\":{\"field\":\"x\",\"transform\":{\"id\":\"1678\"}}},\"id\":\"1680\",\"type\":\"VBar\"},{\"attributes\":{\"bottom_units\":\"screen\",\"fill_alpha\":0.5,\"fill_color\":\"lightgrey\",\"left_units\":\"screen\",\"level\":\"overlay\",\"line_alpha\":1.0,\"line_color\":\"black\",\"line_dash\":[4,4],\"line_width\":2,\"render_mode\":\"css\",\"right_units\":\"screen\",\"top_units\":\"screen\"},\"id\":\"1675\",\"type\":\"BoxAnnotation\"},{\"attributes\":{\"active_drag\":\"auto\",\"active_inspect\":\"auto\",\"active_multi\":null,\"active_scroll\":\"auto\",\"active_tap\":\"auto\",\"tools\":[{\"id\":\"1650\"},{\"id\":\"1651\"},{\"id\":\"1652\"},{\"id\":\"1653\"},{\"id\":\"1654\"},{\"id\":\"1655\"}]},\"id\":\"1656\",\"type\":\"Toolbar\"},{\"attributes\":{},\"id\":\"1672\",\"type\":\"BasicTickFormatter\"},{\"attributes\":{\"fill_color\":{\"value\":\"#fdae61\"},\"line_color\":{\"value\":\"#fdae61\"},\"top\":{\"field\":\"Germany\"},\"width\":{\"value\":0.3},\"x\":{\"field\":\"x\",\"transform\":{\"id\":\"1664\"}}},\"id\":\"1666\",\"type\":\"VBar\"},{\"attributes\":{},\"id\":\"1635\",\"type\":\"DataRange1d\"},{\"attributes\":{},\"id\":\"1674\",\"type\":\"BasicTickFormatter\"},{\"attributes\":{},\"id\":\"1650\",\"type\":\"PanTool\"},{\"attributes\":{},\"id\":\"1651\",\"type\":\"WheelZoomTool\"},{\"attributes\":{\"overlay\":{\"id\":\"1675\"}},\"id\":\"1652\",\"type\":\"BoxZoomTool\"},{\"attributes\":{\"data_source\":{\"id\":\"1663\"},\"glyph\":{\"id\":\"1680\"},\"hover_glyph\":null,\"muted_glyph\":null,\"nonselection_glyph\":{\"id\":\"1681\"},\"selection_glyph\":null,\"view\":{\"id\":\"1683\"}},\"id\":\"1682\",\"type\":\"GlyphRenderer\"},{\"attributes\":{},\"id\":\"1653\",\"type\":\"SaveTool\"},{\"attributes\":{},\"id\":\"1643\",\"type\":\"BasicTicker\"},{\"attributes\":{\"source\":{\"id\":\"1663\"}},\"id\":\"1683\",\"type\":\"CDSView\"},{\"attributes\":{},\"id\":\"1654\",\"type\":\"ResetTool\"},{\"attributes\":{},\"id\":\"1640\",\"type\":\"LinearScale\"},{\"attributes\":{},\"id\":\"1655\",\"type\":\"HelpTool\"},{\"attributes\":{},\"id\":\"1638\",\"type\":\"LinearScale\"},{\"attributes\":{\"axis_label\":\"Days Since 10 Cumulative Cases\",\"formatter\":{\"id\":\"1672\"},\"major_label_text_font_size\":\"16pt\",\"major_tick_line_color\":null,\"ticker\":{\"id\":\"1643\"}},\"id\":\"1642\",\"type\":\"LinearAxis\"},{\"attributes\":{\"text\":\"\"},\"id\":\"1633\",\"type\":\"Title\"},{\"attributes\":{\"label\":{\"value\":\"Spain: Feb 26\"},\"renderers\":[{\"id\":\"1682\"}]},\"id\":\"1692\",\"type\":\"LegendItem\"},{\"attributes\":{},\"id\":\"1690\",\"type\":\"Selection\"},{\"attributes\":{\"label\":{\"value\":\"Germany: Feb 05\"},\"renderers\":[{\"id\":\"1668\"}]},\"id\":\"1677\",\"type\":\"LegendItem\"},{\"attributes\":{},\"id\":\"1647\",\"type\":\"BasicTicker\"},{\"attributes\":{\"data\":{\"Germany\":[0.010639513210352086,0.010639513210352086,0.01152613931121476,0.01152613931121476,0.012412765412077434,0.01152613931121476,0.010639513210352086,0.010639513210352086,0.010639513210352086,0.009752887109489412,0.007093008806901391,0.005319756605176043,0.0035465044034506954,0.0035465044034506954,0.0035465044034506954,0.0035465044034506954,0.0026598783025880215,0.0026598783025880215,0.0017732522017253477,0.0017732522017253477,0.0008866261008626738,0.009752887109489412,0.02659878302588022,0.028372035227605563,0.05585744435434845,0.10107537549834482,0.12678753242336235,0.15959269815528132,0.2181100208122178,0.413167763002006,0.5798534699641887,0.6942282369754738,0.907905127283378,1.028486277000702,1.2767415852422506,1.6677436957226897,1.8016242369529532,3.215792867828918,3.9951372104872083,5.022736861387048,6.306571455436199,8.033719099916686,10.697143906908162,13.155758084600356,17.00371536234436,18.986211323873302,21.130959861860106,24.719135692051346,27.954434334099243,31.399863362051597,37.11416858211153,41.84520545631476,47.08871221681661,49.91704947856854,52.85444175072658,55.45934923506112,58.11390778104396,61.59746173133341,63.22619387861814,65.50304970563349,66.71861408991622,65.8922785639122,66.2105773341219,67.35964476083993,65.8257816063475,63.21644099150865,59.592800117282906,58.30364576662858,56.02324343520978,52.79947093247309,50.432179243169756,46.906067240038894,44.54232205513902,41.89308326576135,39.95225873097295,38.737580972791086,36.021845225848715,33.117258119422594,30.985808972948725,29.106161639119858,28.02181791776481,26.52430643340775,25.433756329346664,25.315835057931928,23.749166737707583,22.441393238935138,20.108679967565443,19.17328943115532,18.158102545667564,16.923032387165858,16.594094103745807,15.528369530508872,14.452892070162449,13.821614286348224,13.131819179877063,12.509407657071467,12.251399461720428,11.755775471338193,11.13513720073432,10.168714750794008,9.89120078122399,9.562262497803939,9.491332409734923,9.220024822870947,9.549849732391861,9.14200172599503,8.503630933373906,8.08780329206931,7.679955285672481,7.491103926188732,7.114287833322095,7.118720963826409,6.584085425006217,6.842980246458118,6.8172680895330995,6.593838312115705,0,0,0],\"Germany_date\":[\"Feb 05\",\"Feb 06\",\"Feb 07\",\"Feb 08\",\"Feb 09\",\"Feb 10\",\"Feb 11\",\"Feb 12\",\"Feb 13\",\"Feb 14\",\"Feb 15\",\"Feb 16\",\"Feb 17\",\"Feb 18\",\"Feb 19\",\"Feb 20\",\"Feb 21\",\"Feb 22\",\"Feb 23\",\"Feb 24\",\"Feb 25\",\"Feb 26\",\"Feb 27\",\"Feb 28\",\"Feb 29\",\"Mar 01\",\"Mar 02\",\"Mar 03\",\"Mar 04\",\"Mar 05\",\"Mar 06\",\"Mar 07\",\"Mar 08\",\"Mar 09\",\"Mar 10\",\"Mar 11\",\"Mar 12\",\"Mar 13\",\"Mar 14\",\"Mar 15\",\"Mar 16\",\"Mar 17\",\"Mar 18\",\"Mar 19\",\"Mar 20\",\"Mar 21\",\"Mar 22\",\"Mar 23\",\"Mar 24\",\"Mar 25\",\"Mar 26\",\"Mar 27\",\"Mar 28\",\"Mar 29\",\"Mar 30\",\"Mar 31\",\"Apr 01\",\"Apr 02\",\"Apr 03\",\"Apr 04\",\"Apr 05\",\"Apr 06\",\"Apr 07\",\"Apr 08\",\"Apr 09\",\"Apr 10\",\"Apr 11\",\"Apr 12\",\"Apr 13\",\"Apr 14\",\"Apr 15\",\"Apr 16\",\"Apr 17\",\"Apr 18\",\"Apr 19\",\"Apr 20\",\"Apr 21\",\"Apr 22\",\"Apr 23\",\"Apr 24\",\"Apr 25\",\"Apr 26\",\"Apr 27\",\"Apr 28\",\"Apr 29\",\"Apr 30\",\"May 01\",\"May 02\",\"May 03\",\"May 04\",\"May 05\",\"May 06\",\"May 07\",\"May 08\",\"May 09\",\"May 10\",\"May 11\",\"May 12\",\"May 13\",\"May 14\",\"May 15\",\"May 16\",\"May 17\",\"May 18\",\"May 19\",\"May 20\",\"May 21\",\"May 22\",\"May 23\",\"May 24\",\"May 25\",\"May 26\",\"May 27\",\"May 28\",\"May 29\",\"May 30\",\"n/a\",\"n/a\",\"n/a\"],\"Spain\":[0.017017868018821884,0.020112025840425866,0.046412367324059685,0.06652439316448555,0.12686047068576314,0.18255531147463477,0.2521738624607243,0.3403573603764377,0.39759928007611134,0.6157374064991918,0.7704452975793908,1.038089949148135,1.656921513468931,2.6130162803445605,3.5025866540557047,3.499492496234101,8.044810336170347,9.817762767949425,11.934166717926548,15.195409061897141,17.919815023819446,21.176416131057632,27.389485036838426,30.95704900514781,38.482040827288685,43.4651819989819,52.69814893864817,59.08294360352798,73.08091358846438,85.87680325970764,93.57816207767995,103.41294271364819,111.87237019791347,120.69381414730643,130.22536731675748,139.55889438562588,145.5832196642888,152.83437851921775,155.93627173537573,159.1603841854871,157.08884552392323,157.89023239971866,152.7044238907104,147.6470229312987,143.18834151036734,138.91530955873225,134.16423022365936,127.08170297000783,118.53409198782684,113.75052399562709,112.7557522559814,110.83273316985452,101.42339923435684,103.69760523323575,98.2936585978044,96.28400309267263,93.08619098404493,92.51841302378058,69.18072765433257,66.3356495373677,63.125460797453584,60.90230840263112,59.14792091778166,54.57011442071858,44.071636932016276,37.713142608620096,38.454193406894255,29.07270689179099,27.539551691186215,23.439792577560944,18.46593387933255,13.031045665685157,30.73581672090313,27.341525590603563,25.86097107296606,27.802555106022556,26.697940763709934,24.403622738990585,24.915705858466044,23.15513005797338,21.838565904880884,20.470948147731928,21.032537792353047,19.660278798471683,18.92077507910833,17.93064457619506,18.51389332556741,18.119388203312905,17.670735319180327,12.320936445627046,12.730912356989574,11.708293196949457,12.942862167769444,12.966068351431474,13.196583109140972,0,0,0,0,0,0,0,0,0,0,0,0,0,0,0,0,0,0,0,0,0,0,0,0],\"Spain_date\":[\"Feb 26\",\"Feb 27\",\"Feb 28\",\"Feb 29\",\"Mar 01\",\"Mar 02\",\"Mar 03\",\"Mar 04\",\"Mar 05\",\"Mar 06\",\"Mar 07\",\"Mar 08\",\"Mar 09\",\"Mar 10\",\"Mar 11\",\"Mar 12\",\"Mar 13\",\"Mar 14\",\"Mar 15\",\"Mar 16\",\"Mar 17\",\"Mar 18\",\"Mar 19\",\"Mar 20\",\"Mar 21\",\"Mar 22\",\"Mar 23\",\"Mar 24\",\"Mar 25\",\"Mar 26\",\"Mar 27\",\"Mar 28\",\"Mar 29\",\"Mar 30\",\"Mar 31\",\"Apr 01\",\"Apr 02\",\"Apr 03\",\"Apr 04\",\"Apr 05\",\"Apr 06\",\"Apr 07\",\"Apr 08\",\"Apr 09\",\"Apr 10\",\"Apr 11\",\"Apr 12\",\"Apr 13\",\"Apr 14\",\"Apr 15\",\"Apr 16\",\"Apr 17\",\"Apr 18\",\"Apr 19\",\"Apr 20\",\"Apr 21\",\"Apr 22\",\"Apr 23\",\"Apr 24\",\"Apr 25\",\"Apr 26\",\"Apr 27\",\"Apr 28\",\"Apr 29\",\"Apr 30\",\"May 01\",\"May 02\",\"May 03\",\"May 04\",\"May 05\",\"May 06\",\"May 07\",\"May 08\",\"May 09\",\"May 10\",\"May 11\",\"May 12\",\"May 13\",\"May 14\",\"May 15\",\"May 16\",\"May 17\",\"May 18\",\"May 19\",\"May 20\",\"May 21\",\"May 22\",\"May 23\",\"May 24\",\"May 25\",\"May 26\",\"May 27\",\"May 28\",\"May 29\",\"May 30\",\"n/a\",\"n/a\",\"n/a\",\"n/a\",\"n/a\",\"n/a\",\"n/a\",\"n/a\",\"n/a\",\"n/a\",\"n/a\",\"n/a\",\"n/a\",\"n/a\",\"n/a\",\"n/a\",\"n/a\",\"n/a\",\"n/a\",\"n/a\",\"n/a\",\"n/a\",\"n/a\",\"n/a\"],\"x\":[0,1,2,3,4,5,6,7,8,9,10,11,12,13,14,15,16,17,18,19,20,21,22,23,24,25,26,27,28,29,30,31,32,33,34,35,36,37,38,39,40,41,42,43,44,45,46,47,48,49,50,51,52,53,54,55,56,57,58,59,60,61,62,63,64,65,66,67,68,69,70,71,72,73,74,75,76,77,78,79,80,81,82,83,84,85,86,87,88,89,90,91,92,93,94,95,96,97,98,99,100,101,102,103,104,105,106,107,108,109,110,111,112,113,114,115,116,117,118]},\"selected\":{\"id\":\"1690\"},\"selection_policy\":{\"id\":\"1689\"}},\"id\":\"1663\",\"type\":\"ColumnDataSource\"},{\"attributes\":{\"background_fill_alpha\":0.0,\"border_line_alpha\":0.0,\"border_line_color\":\"black\",\"items\":[{\"id\":\"1677\"},{\"id\":\"1692\"}],\"label_text_font_size\":\"8pt\",\"title\":\"Region: Start Date\"},\"id\":\"1676\",\"type\":\"Legend\"}],\"root_ids\":[\"1632\"]},\"title\":\"Bokeh Application\",\"version\":\"2.0.0\"}};\n",
       "  var render_items = [{\"docid\":\"0c9f80f8-fb51-4f46-ad80-7b05f8767e2f\",\"root_ids\":[\"1632\"],\"roots\":{\"1632\":\"128cb21a-1cb2-4f15-9ada-afc8f08193e2\"}}];\n",
       "  root.Bokeh.embed.embed_items_notebook(docs_json, render_items);\n",
       "\n",
       "  }\n",
       "  if (root.Bokeh !== undefined) {\n",
       "    embed_document(root);\n",
       "  } else {\n",
       "    var attempts = 0;\n",
       "    var timer = setInterval(function(root) {\n",
       "      if (root.Bokeh !== undefined) {\n",
       "        clearInterval(timer);\n",
       "        embed_document(root);\n",
       "      } else {\n",
       "        attempts++;\n",
       "        if (attempts > 100) {\n",
       "          clearInterval(timer);\n",
       "          console.log(\"Bokeh: ERROR: Unable to run BokehJS code because BokehJS library is missing\");\n",
       "        }\n",
       "      }\n",
       "    }, 10, root)\n",
       "  }\n",
       "})(window);"
      ],
      "application/vnd.bokehjs_exec.v0+json": ""
     },
     "metadata": {
      "application/vnd.bokehjs_exec.v0+json": {
       "id": "1632"
      }
     },
     "output_type": "display_data"
    }
   ],
   "source": [
    "from bokeh.palettes import Spectral\n",
    "regions = ['Germany', 'Spain']\n",
    "\n",
    "casestudy = CaseStudy(baseframe, regions=regions, factors='strindex', count_dma=14, start_hurdle=10, start_factor='cases', lognat=True)\n",
    "\n",
    "kwargs = {\n",
    "    'width': 825, 'height': 500,\n",
    "    'palette_base': Spectral[11],\n",
    "    'palette_flip': True,\n",
    "    'palette_shift': 2,\n",
    "    'legend': True,\n",
    "}\n",
    "\n",
    "p = casestudy.comp_chart.make(comp_category='cases_new_dma_per_1M', **kwargs)\n",
    "show(p)"
   ]
  },
  {
   "cell_type": "markdown",
   "metadata": {},
   "source": [
    "Via the `overlay` parameter, an optional second factor can be added to the right y-axis for understanding related variables.\n",
    "\n",
    "Here we compare based on ***density***.\n",
    "\n",
    "We can see from below that, despite having a lower `stringency index` overall and seemingly reacting slower to to the onset of the outbreak, Germany has managed to maintain materially lower case counts.\n",
    "\n",
    "The impacts of testing should be investigated."
   ]
  },
  {
   "cell_type": "code",
   "execution_count": 14,
   "metadata": {},
   "outputs": [
    {
     "data": {
      "text/html": [
       "\n",
       "\n",
       "\n",
       "\n",
       "\n",
       "\n",
       "  <div class=\"bk-root\" id=\"430a58be-f3d6-4dee-8fc6-3d01bb87559c\" data-root-id=\"1790\"></div>\n"
      ]
     },
     "metadata": {},
     "output_type": "display_data"
    },
    {
     "data": {
      "application/javascript": [
       "(function(root) {\n",
       "  function embed_document(root) {\n",
       "    \n",
       "  var docs_json = {\"11374f6d-9b38-4eab-8a93-e61e873015ac\":{\"roots\":{\"references\":[{\"attributes\":{\"background_fill_color\":\"white\",\"below\":[{\"id\":\"1800\"}],\"border_fill_color\":\"white\",\"center\":[{\"id\":\"1803\"},{\"id\":\"1807\"},{\"id\":\"1834\"}],\"extra_y_ranges\":{\"strindex\":{\"id\":\"1852\"}},\"left\":[{\"id\":\"1804\"}],\"min_border\":20,\"outline_line_color\":\"white\",\"plot_height\":500,\"plot_width\":825,\"renderers\":[{\"id\":\"1826\"},{\"id\":\"1840\"},{\"id\":\"1856\"}],\"right\":[{\"id\":\"1858\"}],\"title\":{\"id\":\"1791\"},\"toolbar\":{\"id\":\"1814\"},\"toolbar_location\":null,\"x_range\":{\"id\":\"1793\"},\"x_scale\":{\"id\":\"1796\"},\"y_range\":{\"id\":\"1789\"},\"y_scale\":{\"id\":\"1798\"}},\"id\":\"1790\",\"subtype\":\"Figure\",\"type\":\"Plot\"},{\"attributes\":{\"axis_label\":\"Daily Cases / Person / Land KM\\u00b2 (14DMA)\",\"formatter\":{\"id\":\"1832\"},\"major_label_text_font_size\":\"16pt\",\"ticker\":{\"id\":\"1805\"}},\"id\":\"1804\",\"type\":\"LinearAxis\"},{\"attributes\":{\"fill_color\":{\"value\":\"#66c2a5\"},\"line_color\":{\"value\":\"#66c2a5\"},\"top\":{\"field\":\"Spain\"},\"width\":{\"value\":0.3},\"x\":{\"field\":\"x\",\"transform\":{\"id\":\"1836\"}}},\"id\":\"1838\",\"type\":\"VBar\"},{\"attributes\":{},\"id\":\"1912\",\"type\":\"BasicTicker\"},{\"attributes\":{},\"id\":\"1917\",\"type\":\"Selection\"},{\"attributes\":{\"axis\":{\"id\":\"1804\"},\"dimension\":1,\"grid_line_color\":null,\"ticker\":null},\"id\":\"1807\",\"type\":\"Grid\"},{\"attributes\":{\"source\":{\"id\":\"1821\"}},\"id\":\"1827\",\"type\":\"CDSView\"},{\"attributes\":{},\"id\":\"1848\",\"type\":\"Selection\"},{\"attributes\":{\"range\":{\"id\":\"1793\"},\"value\":-0.125},\"id\":\"1822\",\"type\":\"Dodge\"},{\"attributes\":{\"bottom_units\":\"screen\",\"fill_alpha\":0.5,\"fill_color\":\"lightgrey\",\"left_units\":\"screen\",\"level\":\"overlay\",\"line_alpha\":1.0,\"line_color\":\"black\",\"line_dash\":[4,4],\"line_width\":2,\"render_mode\":\"css\",\"right_units\":\"screen\",\"top_units\":\"screen\"},\"id\":\"1833\",\"type\":\"BoxAnnotation\"},{\"attributes\":{\"data\":{\"Germany\":[0.0037617579257291102,0.0037617579257291102,0.004075237752873203,0.004075237752873203,0.004388717580017296,0.004075237752873203,0.0037617579257291102,0.0037617579257291102,0.0037617579257291102,0.003448278098585018,0.00250783861715274,0.0018808789628645551,0.00125391930857637,0.00125391930857637,0.00125391930857637,0.00125391930857637,0.0009404394814322776,0.0009404394814322776,0.000626959654288185,0.000626959654288185,0.0003134798271440925,0.003448278098585018,0.009404394814322776,0.01003135446861096,0.01974922911007783,0.03573670029442655,0.04482761528160523,0.05642636888593666,0.07711603747744677,0.14608159944914711,0.20501580695223653,0.24545470465382446,0.3210033429955507,0.3636365994871474,0.4514109510874933,0.5896555548580381,0.636991008756796,1.1369913330516235,1.4125401011112808,1.7758632207712843,2.22978201047593,2.8404407137526224,3.7821341144934766,4.651413675164045,6.011916124969407,6.712857018463598,7.471164720325158,8.7398175807773,9.883705470026094,11.101888078308038,13.122265564251714,14.794993921892592,16.648913619622753,17.648914268212412,18.68747293554079,19.608476667690134,20.547035270159547,21.778697511008687,22.354559953472382,23.159576149578413,23.589356992592965,23.29719379369467,23.4097330516394,23.81600290761814,23.27368280665886,22.3511116753738,21.069919621835894,20.61411995316838,19.80784983775378,18.668037186257855,17.83104604778313,16.584336775231073,15.748599556064923,14.811921832558372,14.125714490939956,13.696247127752548,12.736058417210192,11.709098503486144,10.955492999031746,10.29091576548627,9.907529936889045,9.378062508842671,8.992482321455439,8.950789504445275,8.396870649881663,7.934487904844126,7.109722479628019,6.779001261991001,6.4200668599110156,5.983389460699295,5.867088444828836,5.490285692601637,5.110034662275853,4.886837025349259,4.6429497198311545,4.422886881176002,4.331664251477071,4.156429028103523,3.9369931491026584,3.595300137515597,3.4971809516194967,3.3808799357490384,3.3558015495775106,3.2598767224714185,3.3764912181690208,3.232290497682738,3.0065850221389914,2.859562983208412,2.715362262722129,2.648591059540438,2.5153621330041984,2.516929532139919,2.3279011963720313,2.4194373058981067,2.4103463909109273,2.331349474470616,0,0,0],\"Germany_date\":[\"Feb 05\",\"Feb 06\",\"Feb 07\",\"Feb 08\",\"Feb 09\",\"Feb 10\",\"Feb 11\",\"Feb 12\",\"Feb 13\",\"Feb 14\",\"Feb 15\",\"Feb 16\",\"Feb 17\",\"Feb 18\",\"Feb 19\",\"Feb 20\",\"Feb 21\",\"Feb 22\",\"Feb 23\",\"Feb 24\",\"Feb 25\",\"Feb 26\",\"Feb 27\",\"Feb 28\",\"Feb 29\",\"Mar 01\",\"Mar 02\",\"Mar 03\",\"Mar 04\",\"Mar 05\",\"Mar 06\",\"Mar 07\",\"Mar 08\",\"Mar 09\",\"Mar 10\",\"Mar 11\",\"Mar 12\",\"Mar 13\",\"Mar 14\",\"Mar 15\",\"Mar 16\",\"Mar 17\",\"Mar 18\",\"Mar 19\",\"Mar 20\",\"Mar 21\",\"Mar 22\",\"Mar 23\",\"Mar 24\",\"Mar 25\",\"Mar 26\",\"Mar 27\",\"Mar 28\",\"Mar 29\",\"Mar 30\",\"Mar 31\",\"Apr 01\",\"Apr 02\",\"Apr 03\",\"Apr 04\",\"Apr 05\",\"Apr 06\",\"Apr 07\",\"Apr 08\",\"Apr 09\",\"Apr 10\",\"Apr 11\",\"Apr 12\",\"Apr 13\",\"Apr 14\",\"Apr 15\",\"Apr 16\",\"Apr 17\",\"Apr 18\",\"Apr 19\",\"Apr 20\",\"Apr 21\",\"Apr 22\",\"Apr 23\",\"Apr 24\",\"Apr 25\",\"Apr 26\",\"Apr 27\",\"Apr 28\",\"Apr 29\",\"Apr 30\",\"May 01\",\"May 02\",\"May 03\",\"May 04\",\"May 05\",\"May 06\",\"May 07\",\"May 08\",\"May 09\",\"May 10\",\"May 11\",\"May 12\",\"May 13\",\"May 14\",\"May 15\",\"May 16\",\"May 17\",\"May 18\",\"May 19\",\"May 20\",\"May 21\",\"May 22\",\"May 23\",\"May 24\",\"May 25\",\"May 26\",\"May 27\",\"May 28\",\"May 29\",\"May 30\",\"n/a\",\"n/a\",\"n/a\"],\"Spain\":[0.008589191923767402,0.010150863182634204,0.023425068883002005,0.033575932065636215,0.06402852161353882,0.09213860427314123,0.12727620759764424,0.17178383847534803,0.20067475676438387,0.3107725805144933,0.3888561434578333,0.5239407073498116,0.8362749591231716,1.318831378113013,1.7678118650372183,1.7662501937783515,4.060345273053682,4.955182904384358,6.023366045449249,7.669367552294857,9.044419095727076,10.688078095684382,13.82391398348892,15.624520944962338,19.422505446526397,21.937577008931378,26.59760404538991,29.820112688061553,36.88511346317496,43.34340495421861,47.23040471753808,52.194176813846205,56.463786035588036,60.91611079461729,65.72683910755647,70.43762045992817,73.47819440094183,77.13797099609619,78.70354643311015,80.33080788484935,79.28526897703803,79.68974183308454,77.07238080322378,74.51982913060598,72.26946084657892,70.11279283808388,67.71484662009391,64.1401811085478,59.82606425592826,57.41172048972019,56.90964317999451,55.93906449260879,51.19002219439485,52.337850569661946,49.61039171605108,48.5960862334171,46.982098987378265,46.6955323113762,34.91662684137336,33.48067011884534,31.86043618777103,30.73837538827523,29.852907784497756,27.542415157004328,22.24366457566927,19.034430138698,19.408450405196596,14.673463148312457,13.899655039543958,11.830440621545447,9.320054072917065,6.57697850671753,15.512861449953364,13.799708078976483,13.052448381608718,14.032397096547635,13.474880457132187,12.316901218682457,12.575357812024912,11.686766865729702,11.022275745081878,10.332017048662753,10.615460382147075,9.92285917883965,9.549619747970485,9.04988494513311,9.344259977429502,9.145146891923984,8.918704559388297,6.2185749528076,6.4254963946074515,5.909364043551973,6.532470875839826,6.544183410281327,6.6605279190669044,0,0,0,0,0,0,0,0,0,0,0,0,0,0,0,0,0,0,0,0,0,0,0,0],\"Spain_date\":[\"Feb 26\",\"Feb 27\",\"Feb 28\",\"Feb 29\",\"Mar 01\",\"Mar 02\",\"Mar 03\",\"Mar 04\",\"Mar 05\",\"Mar 06\",\"Mar 07\",\"Mar 08\",\"Mar 09\",\"Mar 10\",\"Mar 11\",\"Mar 12\",\"Mar 13\",\"Mar 14\",\"Mar 15\",\"Mar 16\",\"Mar 17\",\"Mar 18\",\"Mar 19\",\"Mar 20\",\"Mar 21\",\"Mar 22\",\"Mar 23\",\"Mar 24\",\"Mar 25\",\"Mar 26\",\"Mar 27\",\"Mar 28\",\"Mar 29\",\"Mar 30\",\"Mar 31\",\"Apr 01\",\"Apr 02\",\"Apr 03\",\"Apr 04\",\"Apr 05\",\"Apr 06\",\"Apr 07\",\"Apr 08\",\"Apr 09\",\"Apr 10\",\"Apr 11\",\"Apr 12\",\"Apr 13\",\"Apr 14\",\"Apr 15\",\"Apr 16\",\"Apr 17\",\"Apr 18\",\"Apr 19\",\"Apr 20\",\"Apr 21\",\"Apr 22\",\"Apr 23\",\"Apr 24\",\"Apr 25\",\"Apr 26\",\"Apr 27\",\"Apr 28\",\"Apr 29\",\"Apr 30\",\"May 01\",\"May 02\",\"May 03\",\"May 04\",\"May 05\",\"May 06\",\"May 07\",\"May 08\",\"May 09\",\"May 10\",\"May 11\",\"May 12\",\"May 13\",\"May 14\",\"May 15\",\"May 16\",\"May 17\",\"May 18\",\"May 19\",\"May 20\",\"May 21\",\"May 22\",\"May 23\",\"May 24\",\"May 25\",\"May 26\",\"May 27\",\"May 28\",\"May 29\",\"May 30\",\"n/a\",\"n/a\",\"n/a\",\"n/a\",\"n/a\",\"n/a\",\"n/a\",\"n/a\",\"n/a\",\"n/a\",\"n/a\",\"n/a\",\"n/a\",\"n/a\",\"n/a\",\"n/a\",\"n/a\",\"n/a\",\"n/a\",\"n/a\",\"n/a\",\"n/a\",\"n/a\",\"n/a\"],\"x\":[0,1,2,3,4,5,6,7,8,9,10,11,12,13,14,15,16,17,18,19,20,21,22,23,24,25,26,27,28,29,30,31,32,33,34,35,36,37,38,39,40,41,42,43,44,45,46,47,48,49,50,51,52,53,54,55,56,57,58,59,60,61,62,63,64,65,66,67,68,69,70,71,72,73,74,75,76,77,78,79,80,81,82,83,84,85,86,87,88,89,90,91,92,93,94,95,96,97,98,99,100,101,102,103,104,105,106,107,108,109,110,111,112,113,114,115,116,117,118]},\"selected\":{\"id\":\"1848\"},\"selection_policy\":{\"id\":\"1847\"}},\"id\":\"1821\",\"type\":\"ColumnDataSource\"},{\"attributes\":{},\"id\":\"1801\",\"type\":\"BasicTicker\"},{\"attributes\":{},\"id\":\"1830\",\"type\":\"BasicTickFormatter\"},{\"attributes\":{\"background_fill_alpha\":0.0,\"border_line_alpha\":0.0,\"border_line_color\":\"black\",\"items\":[{\"id\":\"1835\"},{\"id\":\"1850\"}],\"label_text_font_size\":\"8pt\",\"location\":\"top_left\",\"title\":\"Region: Start Date\"},\"id\":\"1834\",\"type\":\"Legend\"},{\"attributes\":{\"fill_color\":{\"value\":\"#fdae61\"},\"line_color\":{\"value\":\"#fdae61\"},\"top\":{\"field\":\"Germany\"},\"width\":{\"value\":0.3},\"x\":{\"field\":\"x\",\"transform\":{\"id\":\"1822\"}}},\"id\":\"1824\",\"type\":\"VBar\"},{\"attributes\":{\"end\":93.709,\"start\":4.4479999999999995},\"id\":\"1852\",\"type\":\"Range1d\"},{\"attributes\":{\"active_drag\":\"auto\",\"active_inspect\":\"auto\",\"active_multi\":null,\"active_scroll\":\"auto\",\"active_tap\":\"auto\",\"tools\":[{\"id\":\"1808\"},{\"id\":\"1809\"},{\"id\":\"1810\"},{\"id\":\"1811\"},{\"id\":\"1812\"},{\"id\":\"1813\"}]},\"id\":\"1814\",\"type\":\"Toolbar\"},{\"attributes\":{},\"id\":\"1832\",\"type\":\"BasicTickFormatter\"},{\"attributes\":{\"label\":{\"value\":\"Spain: Feb 26\"},\"renderers\":[{\"id\":\"1840\"}]},\"id\":\"1850\",\"type\":\"LegendItem\"},{\"attributes\":{\"fill_alpha\":{\"value\":0.1},\"fill_color\":{\"value\":\"#66c2a5\"},\"line_alpha\":{\"value\":0.1},\"line_color\":{\"value\":\"#66c2a5\"},\"top\":{\"field\":\"Spain\"},\"width\":{\"value\":0.3},\"x\":{\"field\":\"x\",\"transform\":{\"id\":\"1836\"}}},\"id\":\"1839\",\"type\":\"VBar\"},{\"attributes\":{},\"id\":\"1847\",\"type\":\"UnionRenderers\"},{\"attributes\":{},\"id\":\"1808\",\"type\":\"PanTool\"},{\"attributes\":{},\"id\":\"1793\",\"type\":\"DataRange1d\"},{\"attributes\":{\"source\":{\"id\":\"1851\"}},\"id\":\"1857\",\"type\":\"CDSView\"},{\"attributes\":{\"label\":{\"value\":\"Germany: Feb 05\"},\"renderers\":[{\"id\":\"1826\"}]},\"id\":\"1835\",\"type\":\"LegendItem\"},{\"attributes\":{},\"id\":\"1809\",\"type\":\"WheelZoomTool\"},{\"attributes\":{\"data_source\":{\"id\":\"1821\"},\"glyph\":{\"id\":\"1824\"},\"hover_glyph\":null,\"muted_glyph\":null,\"nonselection_glyph\":{\"id\":\"1825\"},\"selection_glyph\":null,\"view\":{\"id\":\"1827\"}},\"id\":\"1826\",\"type\":\"GlyphRenderer\"},{\"attributes\":{\"data\":{\"color\":[\"#fdae61\",\"#66c2a5\"],\"x\":[[0,1,2,3,4,5,6,7,8,9,10,11,12,13,14,15,16,17,18,19,20,21,22,23,24,25,26,27,28,29,30,31,32,33,34,35,36,37,38,39,40,41,42,43,44,45,46,47,48,49,50,51,52,53,54,55,56,57,58,59,60,61,62,63,64,65,66,67,68,69,70,71,72,73,74,75,76,77,78,79,80,81,82,83,84,85,86,87,88,89,90,91,92,93,94,95,96,97,98,99,100,101,102,103,104,105,106,107,108,109,110,111,112,113,114,115],[0,1,2,3,4,5,6,7,8,9,10,11,12,13,14,15,16,17,18,19,20,21,22,23,24,25,26,27,28,29,30,31,32,33,34,35,36,37,38,39,40,41,42,43,44,45,46,47,48,49,50,51,52,53,54,55,56,57,58,59,60,61,62,63,64,65,66,67,68,69,70,71,72,73,74,75,76,77,78,79,80,81,82,83,84,85,86,87,88,89,90,91,92,93,94]],\"y\":[[5.56,5.56,5.56,5.56,5.56,5.56,5.56,11.11,11.11,11.11,11.11,11.11,11.11,11.11,11.11,11.11,11.11,11.11,11.11,11.11,11.11,16.67,16.67,19.44,25.0,25.0,25.0,25.0,25.0,25.0,25.0,25.0,25.0,28.7,32.87,32.87,32.87,32.87,32.87,32.87,42.13,42.13,52.31,55.09,57.87,68.06,73.15,73.15,73.15,73.15,73.15,73.15,73.15,73.15,73.15,73.15,73.15,73.15,73.15,73.15,73.15,73.15,73.15,73.15,73.15,73.15,73.15,73.15,73.15,73.15,73.15,73.15,73.15,73.15,73.15,73.15,73.15,73.15,73.15,73.15,73.15,73.15,73.15,73.15,73.15,73.15,73.15,73.15,73.15,68.06,68.06,62.5,60.65,64.35,64.35,64.35,64.35,64.35,64.35,64.35,64.35,61.57,61.57,62.96,52.78,52.78,52.78,52.78,52.78,52.78,50.0,50.0,50.0,50.0,50.0,50.0],[11.11,11.11,11.11,11.11,11.11,11.11,11.11,11.11,11.11,11.11,11.11,11.11,25.0,45.83,45.83,45.83,45.83,67.13,67.13,68.98,71.76,71.76,71.76,71.76,71.76,71.76,71.76,71.76,71.76,71.76,71.76,71.76,71.76,85.19,85.19,85.19,85.19,85.19,85.19,85.19,85.19,85.19,85.19,85.19,85.19,85.19,85.19,85.19,85.19,85.19,85.19,85.19,85.19,85.19,85.19,85.19,85.19,85.19,85.19,85.19,85.19,85.19,85.19,85.19,85.19,85.19,85.19,85.19,81.94,81.94,81.94,81.94,81.94,81.94,81.94,81.94,81.94,83.33,83.33,83.33,83.33,79.17,79.17,79.17,79.17,79.17,79.17,79.17,79.17,79.17,79.17,79.17,79.17,79.17,79.17]]},\"selected\":{\"id\":\"1917\"},\"selection_policy\":{\"id\":\"1916\"}},\"id\":\"1851\",\"type\":\"ColumnDataSource\"},{\"attributes\":{\"overlay\":{\"id\":\"1833\"}},\"id\":\"1810\",\"type\":\"BoxZoomTool\"},{\"attributes\":{\"axis_label\":\"Oxford Stringency Index\",\"formatter\":{\"id\":\"1913\"},\"ticker\":{\"id\":\"1912\"},\"y_range_name\":\"strindex\"},\"id\":\"1858\",\"type\":\"LinearAxis\"},{\"attributes\":{},\"id\":\"1811\",\"type\":\"SaveTool\"},{\"attributes\":{\"data_source\":{\"id\":\"1851\"},\"glyph\":{\"id\":\"1854\"},\"hover_glyph\":null,\"muted_glyph\":null,\"nonselection_glyph\":{\"id\":\"1855\"},\"selection_glyph\":null,\"view\":{\"id\":\"1857\"},\"y_range_name\":\"strindex\"},\"id\":\"1856\",\"type\":\"GlyphRenderer\"},{\"attributes\":{},\"id\":\"1805\",\"type\":\"BasicTicker\"},{\"attributes\":{\"end\":88.36388867333429,\"start\":0.00031661462541553344},\"id\":\"1789\",\"type\":\"Range1d\"},{\"attributes\":{},\"id\":\"1798\",\"type\":\"LinearScale\"},{\"attributes\":{},\"id\":\"1812\",\"type\":\"ResetTool\"},{\"attributes\":{\"text\":\"\"},\"id\":\"1791\",\"type\":\"Title\"},{\"attributes\":{\"line_alpha\":{\"value\":0.3},\"line_color\":{\"field\":\"color\"},\"line_width\":{\"value\":4},\"xs\":{\"field\":\"x\"},\"ys\":{\"field\":\"y\"}},\"id\":\"1854\",\"type\":\"MultiLine\"},{\"attributes\":{\"line_alpha\":{\"value\":0.1},\"line_color\":{\"field\":\"color\"},\"line_width\":{\"value\":4},\"xs\":{\"field\":\"x\"},\"ys\":{\"field\":\"y\"}},\"id\":\"1855\",\"type\":\"MultiLine\"},{\"attributes\":{},\"id\":\"1813\",\"type\":\"HelpTool\"},{\"attributes\":{},\"id\":\"1916\",\"type\":\"UnionRenderers\"},{\"attributes\":{\"fill_alpha\":{\"value\":0.1},\"fill_color\":{\"value\":\"#fdae61\"},\"line_alpha\":{\"value\":0.1},\"line_color\":{\"value\":\"#fdae61\"},\"top\":{\"field\":\"Germany\"},\"width\":{\"value\":0.3},\"x\":{\"field\":\"x\",\"transform\":{\"id\":\"1822\"}}},\"id\":\"1825\",\"type\":\"VBar\"},{\"attributes\":{\"data_source\":{\"id\":\"1821\"},\"glyph\":{\"id\":\"1838\"},\"hover_glyph\":null,\"muted_glyph\":null,\"nonselection_glyph\":{\"id\":\"1839\"},\"selection_glyph\":null,\"view\":{\"id\":\"1841\"}},\"id\":\"1840\",\"type\":\"GlyphRenderer\"},{\"attributes\":{},\"id\":\"1913\",\"type\":\"BasicTickFormatter\"},{\"attributes\":{\"axis_label\":\"Days Since 10 Cumulative Cases\",\"formatter\":{\"id\":\"1830\"},\"major_label_text_font_size\":\"16pt\",\"major_tick_line_color\":null,\"ticker\":{\"id\":\"1801\"}},\"id\":\"1800\",\"type\":\"LinearAxis\"},{\"attributes\":{\"source\":{\"id\":\"1821\"}},\"id\":\"1841\",\"type\":\"CDSView\"},{\"attributes\":{\"range\":{\"id\":\"1793\"},\"value\":0.125},\"id\":\"1836\",\"type\":\"Dodge\"},{\"attributes\":{\"axis\":{\"id\":\"1800\"},\"grid_line_color\":null,\"ticker\":null},\"id\":\"1803\",\"type\":\"Grid\"},{\"attributes\":{},\"id\":\"1796\",\"type\":\"LinearScale\"}],\"root_ids\":[\"1790\"]},\"title\":\"Bokeh Application\",\"version\":\"2.0.0\"}};\n",
       "  var render_items = [{\"docid\":\"11374f6d-9b38-4eab-8a93-e61e873015ac\",\"root_ids\":[\"1790\"],\"roots\":{\"1790\":\"430a58be-f3d6-4dee-8fc6-3d01bb87559c\"}}];\n",
       "  root.Bokeh.embed.embed_items_notebook(docs_json, render_items);\n",
       "\n",
       "  }\n",
       "  if (root.Bokeh !== undefined) {\n",
       "    embed_document(root);\n",
       "  } else {\n",
       "    var attempts = 0;\n",
       "    var timer = setInterval(function(root) {\n",
       "      if (root.Bokeh !== undefined) {\n",
       "        clearInterval(timer);\n",
       "        embed_document(root);\n",
       "      } else {\n",
       "        attempts++;\n",
       "        if (attempts > 100) {\n",
       "          clearInterval(timer);\n",
       "          console.log(\"Bokeh: ERROR: Unable to run BokehJS code because BokehJS library is missing\");\n",
       "        }\n",
       "      }\n",
       "    }, 10, root)\n",
       "  }\n",
       "})(window);"
      ],
      "application/vnd.bokehjs_exec.v0+json": ""
     },
     "metadata": {
      "application/vnd.bokehjs_exec.v0+json": {
       "id": "1790"
      }
     },
     "output_type": "display_data"
    }
   ],
   "source": [
    "regions = ['Germany', 'Spain']\n",
    "\n",
    "kwargs = {\n",
    "    'width': 825, 'height': 500,\n",
    "    'legend_location': 'top_left',\n",
    "    'palette_base': Spectral[11],\n",
    "    'palette_flip': True,\n",
    "    'palette_shift': 2,\n",
    "    'overlay': 'strindex',  \n",
    "    'legend': True,\n",
    "}\n",
    "\n",
    "p = casestudy.comp_chart.make(comp_category='cases_new_dma_per_person_per_land_KM2', **kwargs)\n",
    "show(p)"
   ]
  },
  {
   "cell_type": "markdown",
   "metadata": {},
   "source": [
    "### Saving Files"
   ]
  },
  {
   "cell_type": "markdown",
   "metadata": {},
   "source": [
    "All chart instances in `see19` have a `save_file` option. Simply set that option to `True` and provide a `filename` and the file will be saved to yor location of choice."
   ]
  },
  {
   "cell_type": "markdown",
   "metadata": {},
   "source": [
    "# Next Section"
   ]
  },
  {
   "cell_type": "markdown",
   "metadata": {},
   "source": [
    "Click on this link to go to the next notebook: [5. Visualizing Factors in 4D](https://ryanskene.github.io/see19/guide/5.%20See19%20-%20Visualizing%20Factors%20in%204D.html)"
   ]
  }
 ],
 "metadata": {
  "kernelspec": {
   "display_name": "Django Shell-Plus",
   "language": "python",
   "name": "django_extensions"
  },
  "language_info": {
   "codemirror_mode": {
    "name": "ipython",
    "version": 3
   },
   "file_extension": ".py",
   "mimetype": "text/x-python",
   "name": "python",
   "nbconvert_exporter": "python",
   "pygments_lexer": "ipython3",
   "version": "3.7.7"
  }
 },
 "nbformat": 4,
 "nbformat_minor": 4
}
